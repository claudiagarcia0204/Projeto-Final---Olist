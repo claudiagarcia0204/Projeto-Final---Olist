{
 "cells": [
  {
   "cell_type": "code",
   "execution_count": 2,
   "id": "281198c7",
   "metadata": {
    "ExecuteTime": {
     "end_time": "2022-10-05T16:39:40.774953Z",
     "start_time": "2022-10-05T16:39:37.710505Z"
    }
   },
   "outputs": [],
   "source": [
    "import pandas as pd\n",
    "import numpy as np\n",
    "import os\n",
    "import bisect "
   ]
  },
  {
   "cell_type": "code",
   "execution_count": 12,
   "id": "8eba86a7",
   "metadata": {
    "ExecuteTime": {
     "end_time": "2022-10-05T16:44:19.230879Z",
     "start_time": "2022-10-05T16:44:15.569168Z"
    }
   },
   "outputs": [],
   "source": [
    "folder_path = str(os.getcwd()) + '/'\n",
    "customers = pd.read_csv(folder_path + 'Data/clientes.csv')\n",
    "geolocation =  pd.read_csv(folder_path + 'Data/geolocal.csv')\n",
    "order_items =  pd.read_csv(folder_path + 'Data/itens.csv')\n",
    "order_payments =  pd.read_csv(folder_path + 'Data/pagamentos.csv')\n",
    "order_reviews =  pd.read_csv(folder_path + 'Data/avaliacoes.csv')\n",
    "order_info =  pd.read_csv(folder_path + 'Data/ordens.csv')\n",
    "products_info = pd.read_csv(folder_path + 'Data/produtos.csv')\n",
    "sellers = pd.read_csv(folder_path + 'Data/vendedores.csv')\n",
    "product_category = pd.read_csv(folder_path + 'Data/product_category_name_translation.csv')"
   ]
  },
  {
   "cell_type": "code",
   "execution_count": 7,
   "id": "0a0af5f3",
   "metadata": {
    "ExecuteTime": {
     "end_time": "2022-10-05T16:41:26.840100Z",
     "start_time": "2022-10-05T16:41:26.754155Z"
    }
   },
   "outputs": [
    {
     "name": "stdout",
     "output_type": "stream",
     "text": [
      "(99441, 6)\n"
     ]
    },
    {
     "data": {
      "text/html": [
       "<div>\n",
       "<style scoped>\n",
       "    .dataframe tbody tr th:only-of-type {\n",
       "        vertical-align: middle;\n",
       "    }\n",
       "\n",
       "    .dataframe tbody tr th {\n",
       "        vertical-align: top;\n",
       "    }\n",
       "\n",
       "    .dataframe thead th {\n",
       "        text-align: right;\n",
       "    }\n",
       "</style>\n",
       "<table border=\"1\" class=\"dataframe\">\n",
       "  <thead>\n",
       "    <tr style=\"text-align: right;\">\n",
       "      <th></th>\n",
       "      <th>Unnamed: 0</th>\n",
       "      <th>customer_id</th>\n",
       "      <th>customer_unique_id</th>\n",
       "      <th>customer_zip_code_prefix</th>\n",
       "      <th>customer_city</th>\n",
       "      <th>customer_state</th>\n",
       "    </tr>\n",
       "  </thead>\n",
       "  <tbody>\n",
       "    <tr>\n",
       "      <th>0</th>\n",
       "      <td>0</td>\n",
       "      <td>06b8999e2fba1a1fbc88172c00ba8bc7</td>\n",
       "      <td>861eff4711a542e4b93843c6dd7febb0</td>\n",
       "      <td>14409</td>\n",
       "      <td>franca</td>\n",
       "      <td>SP</td>\n",
       "    </tr>\n",
       "    <tr>\n",
       "      <th>1</th>\n",
       "      <td>1</td>\n",
       "      <td>18955e83d337fd6b2def6b18a428ac77</td>\n",
       "      <td>290c77bc529b7ac935b93aa66c333dc3</td>\n",
       "      <td>9790</td>\n",
       "      <td>sao bernardo do campo</td>\n",
       "      <td>SP</td>\n",
       "    </tr>\n",
       "    <tr>\n",
       "      <th>2</th>\n",
       "      <td>2</td>\n",
       "      <td>4e7b3e00288586ebd08712fdd0374a03</td>\n",
       "      <td>060e732b5b29e8181a18229c7b0b2b5e</td>\n",
       "      <td>1151</td>\n",
       "      <td>sao paulo</td>\n",
       "      <td>SP</td>\n",
       "    </tr>\n",
       "  </tbody>\n",
       "</table>\n",
       "</div>"
      ],
      "text/plain": [
       "   Unnamed: 0                       customer_id  \\\n",
       "0           0  06b8999e2fba1a1fbc88172c00ba8bc7   \n",
       "1           1  18955e83d337fd6b2def6b18a428ac77   \n",
       "2           2  4e7b3e00288586ebd08712fdd0374a03   \n",
       "\n",
       "                 customer_unique_id  customer_zip_code_prefix  \\\n",
       "0  861eff4711a542e4b93843c6dd7febb0                     14409   \n",
       "1  290c77bc529b7ac935b93aa66c333dc3                      9790   \n",
       "2  060e732b5b29e8181a18229c7b0b2b5e                      1151   \n",
       "\n",
       "           customer_city customer_state  \n",
       "0                 franca             SP  \n",
       "1  sao bernardo do campo             SP  \n",
       "2              sao paulo             SP  "
      ]
     },
     "execution_count": 7,
     "metadata": {},
     "output_type": "execute_result"
    }
   ],
   "source": [
    "print(customers.shape)\n",
    "customers.head(3)"
   ]
  },
  {
   "cell_type": "markdown",
   "id": "7e445891",
   "metadata": {},
   "source": [
    "## Analisando colunas de geolocalização"
   ]
  },
  {
   "cell_type": "markdown",
   "id": "b992e0c6",
   "metadata": {},
   "source": [
    "Este conjunto de dados contém CEPs brasileiros e suas coordenadas lat/lng. "
   ]
  },
  {
   "cell_type": "code",
   "execution_count": 13,
   "id": "13576932",
   "metadata": {
    "ExecuteTime": {
     "end_time": "2022-10-05T16:46:31.899007Z",
     "start_time": "2022-10-05T16:46:31.886015Z"
    }
   },
   "outputs": [
    {
     "data": {
      "text/plain": [
       "(738332, 6)"
      ]
     },
     "execution_count": 13,
     "metadata": {},
     "output_type": "execute_result"
    }
   ],
   "source": [
    "geolocation.shape"
   ]
  },
  {
   "cell_type": "markdown",
   "id": "9bccc1c3",
   "metadata": {},
   "source": [
    "\n",
    "Eliminação de colunas indesejadas e duplicatas para manter apenas um par de latitude/longitude por prefixo de código postal."
   ]
  },
  {
   "cell_type": "code",
   "execution_count": 14,
   "id": "b6b9a241",
   "metadata": {
    "ExecuteTime": {
     "end_time": "2022-10-05T16:47:33.282009Z",
     "start_time": "2022-10-05T16:47:33.182973Z"
    }
   },
   "outputs": [],
   "source": [
    "geolocation = geolocation.drop(['geolocation_city', 'geolocation_state'], axis=1)\n",
    "geolocation = geolocation.drop_duplicates(subset = ['geolocation_zip_code_prefix'],ignore_index=True)"
   ]
  },
  {
   "cell_type": "markdown",
   "id": "f03a3146",
   "metadata": {},
   "source": [
    "\n",
    "Criar 2 novos dataframe para juntar com os dados do cliente posteriormente"
   ]
  },
  {
   "cell_type": "code",
   "execution_count": 15,
   "id": "b87d93d0",
   "metadata": {
    "ExecuteTime": {
     "end_time": "2022-10-05T16:48:26.791817Z",
     "start_time": "2022-10-05T16:48:26.752135Z"
    }
   },
   "outputs": [
    {
     "data": {
      "text/html": [
       "<div>\n",
       "<style scoped>\n",
       "    .dataframe tbody tr th:only-of-type {\n",
       "        vertical-align: middle;\n",
       "    }\n",
       "\n",
       "    .dataframe tbody tr th {\n",
       "        vertical-align: top;\n",
       "    }\n",
       "\n",
       "    .dataframe thead th {\n",
       "        text-align: right;\n",
       "    }\n",
       "</style>\n",
       "<table border=\"1\" class=\"dataframe\">\n",
       "  <thead>\n",
       "    <tr style=\"text-align: right;\">\n",
       "      <th></th>\n",
       "      <th>Unnamed: 0</th>\n",
       "      <th>customer_zip_code_prefix</th>\n",
       "      <th>customer_lat</th>\n",
       "      <th>customer_lng</th>\n",
       "    </tr>\n",
       "  </thead>\n",
       "  <tbody>\n",
       "    <tr>\n",
       "      <th>0</th>\n",
       "      <td>0</td>\n",
       "      <td>1037</td>\n",
       "      <td>-23.545621</td>\n",
       "      <td>-46.639292</td>\n",
       "    </tr>\n",
       "    <tr>\n",
       "      <th>1</th>\n",
       "      <td>1</td>\n",
       "      <td>1046</td>\n",
       "      <td>-23.546081</td>\n",
       "      <td>-46.644820</td>\n",
       "    </tr>\n",
       "    <tr>\n",
       "      <th>2</th>\n",
       "      <td>3</td>\n",
       "      <td>1041</td>\n",
       "      <td>-23.544392</td>\n",
       "      <td>-46.639499</td>\n",
       "    </tr>\n",
       "  </tbody>\n",
       "</table>\n",
       "</div>"
      ],
      "text/plain": [
       "   Unnamed: 0  customer_zip_code_prefix  customer_lat  customer_lng\n",
       "0           0                      1037    -23.545621    -46.639292\n",
       "1           1                      1046    -23.546081    -46.644820\n",
       "2           3                      1041    -23.544392    -46.639499"
      ]
     },
     "execution_count": 15,
     "metadata": {},
     "output_type": "execute_result"
    }
   ],
   "source": [
    "geo_customer = geolocation.rename(columns={\"geolocation_zip_code_prefix\":\"customer_zip_code_prefix\",\n",
    "                                                  \"geolocation_lat\":\"customer_lat\",\n",
    "                                                  \"geolocation_lng\":\"customer_lng\"})\n",
    "geo_seller = geolocation.rename(columns={\"geolocation_zip_code_prefix\":\"seller_zip_code_prefix\",\n",
    "                                                  \"geolocation_lat\":\"seller_lat\",\n",
    "                                                  \"geolocation_lng\":\"seller_lng\"})\n",
    "geo_customer.head(3)"
   ]
  },
  {
   "cell_type": "code",
   "execution_count": null,
   "id": "80c37efe",
   "metadata": {},
   "outputs": [],
   "source": []
  }
 ],
 "metadata": {
  "kernelspec": {
   "display_name": "pycaret",
   "language": "python",
   "name": "pycaret"
  },
  "language_info": {
   "codemirror_mode": {
    "name": "ipython",
    "version": 3
   },
   "file_extension": ".py",
   "mimetype": "text/x-python",
   "name": "python",
   "nbconvert_exporter": "python",
   "pygments_lexer": "ipython3",
   "version": "3.8.13"
  },
  "nbTranslate": {
   "displayLangs": [
    "*"
   ],
   "hotkey": "alt-t",
   "langInMainMenu": true,
   "sourceLang": "en",
   "targetLang": "fr",
   "useGoogleTranslate": true
  },
  "toc": {
   "base_numbering": 1,
   "nav_menu": {},
   "number_sections": true,
   "sideBar": true,
   "skip_h1_title": false,
   "title_cell": "Table of Contents",
   "title_sidebar": "Contents",
   "toc_cell": false,
   "toc_position": {},
   "toc_section_display": true,
   "toc_window_display": false
  },
  "varInspector": {
   "cols": {
    "lenName": 16,
    "lenType": 16,
    "lenVar": 40
   },
   "kernels_config": {
    "python": {
     "delete_cmd_postfix": "",
     "delete_cmd_prefix": "del ",
     "library": "var_list.py",
     "varRefreshCmd": "print(var_dic_list())"
    },
    "r": {
     "delete_cmd_postfix": ") ",
     "delete_cmd_prefix": "rm(",
     "library": "var_list.r",
     "varRefreshCmd": "cat(var_dic_list()) "
    }
   },
   "types_to_exclude": [
    "module",
    "function",
    "builtin_function_or_method",
    "instance",
    "_Feature"
   ],
   "window_display": false
  }
 },
 "nbformat": 4,
 "nbformat_minor": 5
}
