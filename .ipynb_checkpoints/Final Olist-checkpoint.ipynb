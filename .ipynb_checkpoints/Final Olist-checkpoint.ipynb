{
 "cells": [
  {
   "cell_type": "code",
   "execution_count": 10,
   "id": "68c96302",
   "metadata": {
    "ExecuteTime": {
     "end_time": "2022-10-05T20:15:07.630645Z",
     "start_time": "2022-10-05T20:14:44.260769Z"
    }
   },
   "outputs": [],
   "source": [
    "import pandas as pd\n",
    "import numpy as np\n",
    "import os\n",
    "import bisect \n",
    "import pandas as pd\n",
    "from sklearn.model_selection import train_test_split\n",
    "from pycaret.classification import *"
   ]
  },
  {
   "cell_type": "code",
   "execution_count": 59,
   "id": "185cd24e",
   "metadata": {
    "ExecuteTime": {
     "end_time": "2022-10-05T21:21:25.607294Z",
     "start_time": "2022-10-05T21:21:22.070995Z"
    }
   },
   "outputs": [],
   "source": [
    "itens = pd.read_csv(\"Data/itens.csv\") \n",
    "ordens = pd.read_csv(\"Data/ordens.csv\")\n",
    "produtos = pd.read_csv(\"Data/produtos.csv\")\n",
    "geolocal = pd.read_csv(\"Data/geolocal.csv\")\n",
    "clientes = pd.read_csv(\"Data/clientes.csv\")\n",
    "avaliacoes = pd.read_csv('Data/avaliacoes.csv')\n",
    "vendedores = pd.read_csv(\"Data/vendedores.csv\")\n",
    "pagamentos = pd.read_csv(\"Data/pagamentos.csv\")"
   ]
  },
  {
   "cell_type": "code",
   "execution_count": null,
   "id": "dda021ac",
   "metadata": {},
   "outputs": [],
   "source": []
  },
  {
   "cell_type": "markdown",
   "id": "872ab7ec",
   "metadata": {},
   "source": [
    "## Lendo dados"
   ]
  },
  {
   "cell_type": "markdown",
   "id": "d4d9cfdc",
   "metadata": {},
   "source": [
    "## Clientes"
   ]
  },
  {
   "cell_type": "code",
   "execution_count": 36,
   "id": "07c21d63",
   "metadata": {
    "ExecuteTime": {
     "end_time": "2022-10-05T20:59:51.440481Z",
     "start_time": "2022-10-05T20:59:51.368525Z"
    }
   },
   "outputs": [
    {
     "data": {
      "text/plain": [
       "0    96096\n",
       "1     3345\n",
       "Name: customer_return, dtype: int64"
      ]
     },
     "execution_count": 36,
     "metadata": {},
     "output_type": "execute_result"
    }
   ],
   "source": [
    "clientes['customer_return'] = clientes.duplicated(subset=['customer_unique_id']).astype(int)\n",
    "clientes['customer_return'].value_counts() "
   ]
  },
  {
   "cell_type": "code",
   "execution_count": 37,
   "id": "64e47aa6",
   "metadata": {
    "ExecuteTime": {
     "end_time": "2022-10-05T20:59:52.571988Z",
     "start_time": "2022-10-05T20:59:52.536874Z"
    }
   },
   "outputs": [],
   "source": [
    "clientes.drop(['customer_city', 'customer_unique_id'], axis=1, inplace=True)\n",
    "clientes.rename(columns={\"clientes_estado\": \"clientes_code\"}, inplace=True)"
   ]
  },
  {
   "cell_type": "code",
   "execution_count": 66,
   "id": "ca062c1d",
   "metadata": {
    "ExecuteTime": {
     "end_time": "2022-10-05T21:28:20.015707Z",
     "start_time": "2022-10-05T21:28:18.945901Z"
    }
   },
   "outputs": [],
   "source": [
    "clientes.to_csv('clientes.csv')"
   ]
  },
  {
   "cell_type": "markdown",
   "id": "11151f8e",
   "metadata": {},
   "source": [
    "## Geolocalização"
   ]
  },
  {
   "cell_type": "markdown",
   "id": "4998062e",
   "metadata": {},
   "source": [
    "Este conjunto de dados contém CEPs brasileiros e suas coordenadas lat/lng. "
   ]
  },
  {
   "cell_type": "code",
   "execution_count": 38,
   "id": "fd627e72",
   "metadata": {
    "ExecuteTime": {
     "end_time": "2022-10-05T20:59:54.437316Z",
     "start_time": "2022-10-05T20:59:54.411332Z"
    }
   },
   "outputs": [
    {
     "data": {
      "text/plain": [
       "(738332, 6)"
      ]
     },
     "execution_count": 38,
     "metadata": {},
     "output_type": "execute_result"
    }
   ],
   "source": [
    "geolocal.shape"
   ]
  },
  {
   "cell_type": "markdown",
   "id": "7521fdd5",
   "metadata": {},
   "source": [
    "\n",
    "Eliminação de colunas indesejadas e duplicatas para manter apenas um par de latitude/longitude por prefixo de código postal."
   ]
  },
  {
   "cell_type": "code",
   "execution_count": 39,
   "id": "a57245b8",
   "metadata": {
    "ExecuteTime": {
     "end_time": "2022-10-05T20:59:56.653688Z",
     "start_time": "2022-10-05T20:59:56.552755Z"
    }
   },
   "outputs": [],
   "source": [
    "geolocal = geolocal.drop(['geolocation_city', 'geolocation_state'], axis=1)\n",
    "geolocal = geolocal.drop_duplicates(subset = ['geolocation_zip_code_prefix'],ignore_index=True)"
   ]
  },
  {
   "cell_type": "markdown",
   "id": "4747c777",
   "metadata": {},
   "source": [
    "\n",
    "Criar 2 novos dataframe para juntar com os dados do cliente posteriormente"
   ]
  },
  {
   "cell_type": "code",
   "execution_count": 40,
   "id": "3ecd8d58",
   "metadata": {
    "ExecuteTime": {
     "end_time": "2022-10-05T20:59:58.413204Z",
     "start_time": "2022-10-05T20:59:58.369231Z"
    }
   },
   "outputs": [
    {
     "data": {
      "text/html": [
       "<div>\n",
       "<style scoped>\n",
       "    .dataframe tbody tr th:only-of-type {\n",
       "        vertical-align: middle;\n",
       "    }\n",
       "\n",
       "    .dataframe tbody tr th {\n",
       "        vertical-align: top;\n",
       "    }\n",
       "\n",
       "    .dataframe thead th {\n",
       "        text-align: right;\n",
       "    }\n",
       "</style>\n",
       "<table border=\"1\" class=\"dataframe\">\n",
       "  <thead>\n",
       "    <tr style=\"text-align: right;\">\n",
       "      <th></th>\n",
       "      <th>Unnamed: 0</th>\n",
       "      <th>customer_zip_code_prefix</th>\n",
       "      <th>customer_lat</th>\n",
       "      <th>customer_lng</th>\n",
       "    </tr>\n",
       "  </thead>\n",
       "  <tbody>\n",
       "    <tr>\n",
       "      <th>0</th>\n",
       "      <td>0</td>\n",
       "      <td>1037</td>\n",
       "      <td>-23.545621</td>\n",
       "      <td>-46.639292</td>\n",
       "    </tr>\n",
       "    <tr>\n",
       "      <th>1</th>\n",
       "      <td>1</td>\n",
       "      <td>1046</td>\n",
       "      <td>-23.546081</td>\n",
       "      <td>-46.644820</td>\n",
       "    </tr>\n",
       "    <tr>\n",
       "      <th>2</th>\n",
       "      <td>3</td>\n",
       "      <td>1041</td>\n",
       "      <td>-23.544392</td>\n",
       "      <td>-46.639499</td>\n",
       "    </tr>\n",
       "  </tbody>\n",
       "</table>\n",
       "</div>"
      ],
      "text/plain": [
       "   Unnamed: 0  customer_zip_code_prefix  customer_lat  customer_lng\n",
       "0           0                      1037    -23.545621    -46.639292\n",
       "1           1                      1046    -23.546081    -46.644820\n",
       "2           3                      1041    -23.544392    -46.639499"
      ]
     },
     "execution_count": 40,
     "metadata": {},
     "output_type": "execute_result"
    }
   ],
   "source": [
    "geo_customer = geolocal.rename(columns={\"geolocation_zip_code_prefix\":\"customer_zip_code_prefix\",\n",
    "                                                  \"geolocation_lat\":\"customer_lat\",\n",
    "                                                  \"geolocation_lng\":\"customer_lng\"})\n",
    "geo_seller = geolocal.rename(columns={\"geolocation_zip_code_prefix\":\"seller_zip_code_prefix\",\n",
    "                                                  \"geolocation_lat\":\"seller_lat\",\n",
    "                                                  \"geolocation_lng\":\"seller_lng\"})\n",
    "geo_customer.head(3)"
   ]
  },
  {
   "cell_type": "code",
   "execution_count": 67,
   "id": "26a42b4b",
   "metadata": {
    "ExecuteTime": {
     "end_time": "2022-10-05T21:28:50.738495Z",
     "start_time": "2022-10-05T21:28:41.861748Z"
    }
   },
   "outputs": [],
   "source": [
    "geolocal.to_csv('geolocal.csv')"
   ]
  },
  {
   "cell_type": "markdown",
   "id": "c8dfd0b1",
   "metadata": {},
   "source": [
    "## Itens"
   ]
  },
  {
   "cell_type": "markdown",
   "id": "0a052554",
   "metadata": {},
   "source": [
    "Este conjunto de dados contém informações sobre os produtos em cada pedido. Os preços estão em reais. O valor do frete é calculado de acordo com as medidas e peso de cada item."
   ]
  },
  {
   "cell_type": "code",
   "execution_count": 42,
   "id": "73fa99e2",
   "metadata": {
    "ExecuteTime": {
     "end_time": "2022-10-05T21:07:18.546259Z",
     "start_time": "2022-10-05T21:07:18.502282Z"
    }
   },
   "outputs": [
    {
     "name": "stdout",
     "output_type": "stream",
     "text": [
      "(112650, 9)\n"
     ]
    },
    {
     "data": {
      "text/html": [
       "<div>\n",
       "<style scoped>\n",
       "    .dataframe tbody tr th:only-of-type {\n",
       "        vertical-align: middle;\n",
       "    }\n",
       "\n",
       "    .dataframe tbody tr th {\n",
       "        vertical-align: top;\n",
       "    }\n",
       "\n",
       "    .dataframe thead th {\n",
       "        text-align: right;\n",
       "    }\n",
       "</style>\n",
       "<table border=\"1\" class=\"dataframe\">\n",
       "  <thead>\n",
       "    <tr style=\"text-align: right;\">\n",
       "      <th></th>\n",
       "      <th>Unnamed: 0.1</th>\n",
       "      <th>Unnamed: 0</th>\n",
       "      <th>order_id</th>\n",
       "      <th>order_item_id</th>\n",
       "      <th>product_id</th>\n",
       "      <th>seller_id</th>\n",
       "      <th>shipping_limit_date</th>\n",
       "      <th>price</th>\n",
       "      <th>freight_value</th>\n",
       "    </tr>\n",
       "  </thead>\n",
       "  <tbody>\n",
       "    <tr>\n",
       "      <th>0</th>\n",
       "      <td>0</td>\n",
       "      <td>0</td>\n",
       "      <td>00010242fe8c5a6d1ba2dd792cb16214</td>\n",
       "      <td>1</td>\n",
       "      <td>4244733e06e7ecb4970a6e2683c13e61</td>\n",
       "      <td>48436dade18ac8b2bce089ec2a041202</td>\n",
       "      <td>2017-09-19 09:45:35</td>\n",
       "      <td>58.9</td>\n",
       "      <td>13.29</td>\n",
       "    </tr>\n",
       "    <tr>\n",
       "      <th>1</th>\n",
       "      <td>1</td>\n",
       "      <td>1</td>\n",
       "      <td>00018f77f2f0320c557190d7a144bdd3</td>\n",
       "      <td>1</td>\n",
       "      <td>e5f2d52b802189ee658865ca93d83a8f</td>\n",
       "      <td>dd7ddc04e1b6c2c614352b383efe2d36</td>\n",
       "      <td>2017-05-03 11:05:13</td>\n",
       "      <td>239.9</td>\n",
       "      <td>19.93</td>\n",
       "    </tr>\n",
       "    <tr>\n",
       "      <th>2</th>\n",
       "      <td>2</td>\n",
       "      <td>2</td>\n",
       "      <td>000229ec398224ef6ca0657da4fc703e</td>\n",
       "      <td>1</td>\n",
       "      <td>c777355d18b72b67abbeef9df44fd0fd</td>\n",
       "      <td>5b51032eddd242adc84c38acab88f23d</td>\n",
       "      <td>2018-01-18 14:48:30</td>\n",
       "      <td>199.0</td>\n",
       "      <td>17.87</td>\n",
       "    </tr>\n",
       "  </tbody>\n",
       "</table>\n",
       "</div>"
      ],
      "text/plain": [
       "   Unnamed: 0.1  Unnamed: 0                          order_id  order_item_id  \\\n",
       "0             0           0  00010242fe8c5a6d1ba2dd792cb16214              1   \n",
       "1             1           1  00018f77f2f0320c557190d7a144bdd3              1   \n",
       "2             2           2  000229ec398224ef6ca0657da4fc703e              1   \n",
       "\n",
       "                         product_id                         seller_id  \\\n",
       "0  4244733e06e7ecb4970a6e2683c13e61  48436dade18ac8b2bce089ec2a041202   \n",
       "1  e5f2d52b802189ee658865ca93d83a8f  dd7ddc04e1b6c2c614352b383efe2d36   \n",
       "2  c777355d18b72b67abbeef9df44fd0fd  5b51032eddd242adc84c38acab88f23d   \n",
       "\n",
       "   shipping_limit_date  price  freight_value  \n",
       "0  2017-09-19 09:45:35   58.9          13.29  \n",
       "1  2017-05-03 11:05:13  239.9          19.93  \n",
       "2  2018-01-18 14:48:30  199.0          17.87  "
      ]
     },
     "execution_count": 42,
     "metadata": {},
     "output_type": "execute_result"
    }
   ],
   "source": [
    "print(itens.shape)\n",
    "itens.head(3)"
   ]
  },
  {
   "cell_type": "markdown",
   "id": "41c612f5",
   "metadata": {},
   "source": [
    "### Avaliação"
   ]
  },
  {
   "cell_type": "code",
   "execution_count": 43,
   "id": "fe7775c2",
   "metadata": {
    "ExecuteTime": {
     "end_time": "2022-10-05T21:08:50.814763Z",
     "start_time": "2022-10-05T21:08:50.779779Z"
    }
   },
   "outputs": [
    {
     "name": "stdout",
     "output_type": "stream",
     "text": [
      "(99224, 6)\n"
     ]
    },
    {
     "data": {
      "text/html": [
       "<div>\n",
       "<style scoped>\n",
       "    .dataframe tbody tr th:only-of-type {\n",
       "        vertical-align: middle;\n",
       "    }\n",
       "\n",
       "    .dataframe tbody tr th {\n",
       "        vertical-align: top;\n",
       "    }\n",
       "\n",
       "    .dataframe thead th {\n",
       "        text-align: right;\n",
       "    }\n",
       "</style>\n",
       "<table border=\"1\" class=\"dataframe\">\n",
       "  <thead>\n",
       "    <tr style=\"text-align: right;\">\n",
       "      <th></th>\n",
       "      <th>Unnamed: 0</th>\n",
       "      <th>review_id</th>\n",
       "      <th>order_id</th>\n",
       "      <th>review_score</th>\n",
       "      <th>review_creation_date</th>\n",
       "      <th>review_answer_timestamp</th>\n",
       "    </tr>\n",
       "  </thead>\n",
       "  <tbody>\n",
       "    <tr>\n",
       "      <th>0</th>\n",
       "      <td>0</td>\n",
       "      <td>7bc2406110b926393aa56f80a40eba40</td>\n",
       "      <td>73fc7af87114b39712e6da79b0a377eb</td>\n",
       "      <td>4</td>\n",
       "      <td>2018-01-18 00:00:00</td>\n",
       "      <td>2018-01-18 21:46:59</td>\n",
       "    </tr>\n",
       "    <tr>\n",
       "      <th>1</th>\n",
       "      <td>1</td>\n",
       "      <td>80e641a11e56f04c1ad469d5645fdfde</td>\n",
       "      <td>a548910a1c6147796b98fdf73dbeba33</td>\n",
       "      <td>5</td>\n",
       "      <td>2018-03-10 00:00:00</td>\n",
       "      <td>2018-03-11 03:05:13</td>\n",
       "    </tr>\n",
       "    <tr>\n",
       "      <th>2</th>\n",
       "      <td>2</td>\n",
       "      <td>228ce5500dc1d8e020d8d1322874b6f0</td>\n",
       "      <td>f9e4b658b201a9f2ecdecbb34bed034b</td>\n",
       "      <td>5</td>\n",
       "      <td>2018-02-17 00:00:00</td>\n",
       "      <td>2018-02-18 14:36:24</td>\n",
       "    </tr>\n",
       "  </tbody>\n",
       "</table>\n",
       "</div>"
      ],
      "text/plain": [
       "   Unnamed: 0                         review_id  \\\n",
       "0           0  7bc2406110b926393aa56f80a40eba40   \n",
       "1           1  80e641a11e56f04c1ad469d5645fdfde   \n",
       "2           2  228ce5500dc1d8e020d8d1322874b6f0   \n",
       "\n",
       "                           order_id  review_score review_creation_date  \\\n",
       "0  73fc7af87114b39712e6da79b0a377eb             4  2018-01-18 00:00:00   \n",
       "1  a548910a1c6147796b98fdf73dbeba33             5  2018-03-10 00:00:00   \n",
       "2  f9e4b658b201a9f2ecdecbb34bed034b             5  2018-02-17 00:00:00   \n",
       "\n",
       "  review_answer_timestamp  \n",
       "0     2018-01-18 21:46:59  \n",
       "1     2018-03-11 03:05:13  \n",
       "2     2018-02-18 14:36:24  "
      ]
     },
     "execution_count": 43,
     "metadata": {},
     "output_type": "execute_result"
    }
   ],
   "source": [
    "print(avaliacoes.shape)\n",
    "avaliacoes.head(3)"
   ]
  },
  {
   "cell_type": "markdown",
   "id": "33a13250",
   "metadata": {},
   "source": [
    "Retira as duplicatas para o mesmo order_id selecionando a avaliação mais recente com base em review_answer_timestamp, pois os dados já estão classificados por hora. Em seguida, retire avaliações duplicadas devido ao problema mencionado acima com pedidos de vários itens e várias avaliações.\n"
   ]
  },
  {
   "cell_type": "code",
   "execution_count": 44,
   "id": "0cd5a049",
   "metadata": {
    "ExecuteTime": {
     "end_time": "2022-10-05T21:10:49.912640Z",
     "start_time": "2022-10-05T21:10:49.786721Z"
    }
   },
   "outputs": [],
   "source": [
    "avaliacoes.drop_duplicates(subset=['order_id'], keep='last', ignore_index=True, inplace=True)\n",
    "avaliacoes.drop_duplicates(subset=['review_id'], keep=False, ignore_index=True, inplace=True)"
   ]
  },
  {
   "cell_type": "markdown",
   "id": "ec9a5817",
   "metadata": {},
   "source": [
    "Criar um novo atributo para capturar o tempo que cada cliente leva para responder à pesquisa após a compra. Em seguida, solte as colunas de carimbo de data/hora.\n"
   ]
  },
  {
   "cell_type": "code",
   "execution_count": 45,
   "id": "00a10722",
   "metadata": {
    "ExecuteTime": {
     "end_time": "2022-10-05T21:12:29.292698Z",
     "start_time": "2022-10-05T21:12:29.083331Z"
    }
   },
   "outputs": [],
   "source": [
    "avaliacoes['review_answer_timestamp'] = pd.to_datetime(avaliacoes['review_answer_timestamp'], format='%Y/%m/%d')\n",
    "avaliacoes['review_creation_date'] = pd.to_datetime(avaliacoes['review_creation_date'], format='%Y/%m/%d')\n",
    "avaliacoes['review_answer_delay'] = (avaliacoes['review_answer_timestamp'] - avaliacoes['review_creation_date']).dt.days"
   ]
  },
  {
   "cell_type": "code",
   "execution_count": 46,
   "id": "8e819496",
   "metadata": {
    "ExecuteTime": {
     "end_time": "2022-10-05T21:12:45.083599Z",
     "start_time": "2022-10-05T21:12:44.992661Z"
    }
   },
   "outputs": [
    {
     "data": {
      "text/plain": [
       "Unnamed: 0                 0.0\n",
       "review_id                  0.0\n",
       "order_id                   0.0\n",
       "review_score               0.0\n",
       "review_creation_date       0.0\n",
       "review_answer_timestamp    0.0\n",
       "review_answer_delay        0.0\n",
       "dtype: float64"
      ]
     },
     "execution_count": 46,
     "metadata": {},
     "output_type": "execute_result"
    }
   ],
   "source": [
    "avaliacoes.isna().sum() / len(avaliacoes)"
   ]
  },
  {
   "cell_type": "code",
   "execution_count": 47,
   "id": "82add5a3",
   "metadata": {
    "ExecuteTime": {
     "end_time": "2022-10-05T21:13:30.791010Z",
     "start_time": "2022-10-05T21:13:30.746037Z"
    }
   },
   "outputs": [
    {
     "data": {
      "text/html": [
       "<div>\n",
       "<style scoped>\n",
       "    .dataframe tbody tr th:only-of-type {\n",
       "        vertical-align: middle;\n",
       "    }\n",
       "\n",
       "    .dataframe tbody tr th {\n",
       "        vertical-align: top;\n",
       "    }\n",
       "\n",
       "    .dataframe thead th {\n",
       "        text-align: right;\n",
       "    }\n",
       "</style>\n",
       "<table border=\"1\" class=\"dataframe\">\n",
       "  <thead>\n",
       "    <tr style=\"text-align: right;\">\n",
       "      <th></th>\n",
       "      <th>Unnamed: 0</th>\n",
       "      <th>review_id</th>\n",
       "      <th>order_id</th>\n",
       "      <th>review_score</th>\n",
       "      <th>review_creation_date</th>\n",
       "      <th>review_answer_timestamp</th>\n",
       "      <th>review_answer_delay</th>\n",
       "    </tr>\n",
       "  </thead>\n",
       "  <tbody>\n",
       "    <tr>\n",
       "      <th>0</th>\n",
       "      <td>0</td>\n",
       "      <td>7bc2406110b926393aa56f80a40eba40</td>\n",
       "      <td>73fc7af87114b39712e6da79b0a377eb</td>\n",
       "      <td>4</td>\n",
       "      <td>2018-01-18</td>\n",
       "      <td>2018-01-18 21:46:59</td>\n",
       "      <td>0</td>\n",
       "    </tr>\n",
       "    <tr>\n",
       "      <th>1</th>\n",
       "      <td>1</td>\n",
       "      <td>80e641a11e56f04c1ad469d5645fdfde</td>\n",
       "      <td>a548910a1c6147796b98fdf73dbeba33</td>\n",
       "      <td>5</td>\n",
       "      <td>2018-03-10</td>\n",
       "      <td>2018-03-11 03:05:13</td>\n",
       "      <td>1</td>\n",
       "    </tr>\n",
       "    <tr>\n",
       "      <th>2</th>\n",
       "      <td>2</td>\n",
       "      <td>228ce5500dc1d8e020d8d1322874b6f0</td>\n",
       "      <td>f9e4b658b201a9f2ecdecbb34bed034b</td>\n",
       "      <td>5</td>\n",
       "      <td>2018-02-17</td>\n",
       "      <td>2018-02-18 14:36:24</td>\n",
       "      <td>1</td>\n",
       "    </tr>\n",
       "    <tr>\n",
       "      <th>3</th>\n",
       "      <td>3</td>\n",
       "      <td>e64fb393e7b32834bb789ff8bb30750e</td>\n",
       "      <td>658677c97b385a9be170737859d3511b</td>\n",
       "      <td>5</td>\n",
       "      <td>2017-04-21</td>\n",
       "      <td>2017-04-21 22:02:06</td>\n",
       "      <td>0</td>\n",
       "    </tr>\n",
       "    <tr>\n",
       "      <th>4</th>\n",
       "      <td>4</td>\n",
       "      <td>f7c4243c7fe1938f181bec41a392bdeb</td>\n",
       "      <td>8e6bfb81e283fa7e4f11123a3fb894f1</td>\n",
       "      <td>5</td>\n",
       "      <td>2018-03-01</td>\n",
       "      <td>2018-03-02 10:26:53</td>\n",
       "      <td>1</td>\n",
       "    </tr>\n",
       "  </tbody>\n",
       "</table>\n",
       "</div>"
      ],
      "text/plain": [
       "   Unnamed: 0                         review_id  \\\n",
       "0           0  7bc2406110b926393aa56f80a40eba40   \n",
       "1           1  80e641a11e56f04c1ad469d5645fdfde   \n",
       "2           2  228ce5500dc1d8e020d8d1322874b6f0   \n",
       "3           3  e64fb393e7b32834bb789ff8bb30750e   \n",
       "4           4  f7c4243c7fe1938f181bec41a392bdeb   \n",
       "\n",
       "                           order_id  review_score review_creation_date  \\\n",
       "0  73fc7af87114b39712e6da79b0a377eb             4           2018-01-18   \n",
       "1  a548910a1c6147796b98fdf73dbeba33             5           2018-03-10   \n",
       "2  f9e4b658b201a9f2ecdecbb34bed034b             5           2018-02-17   \n",
       "3  658677c97b385a9be170737859d3511b             5           2017-04-21   \n",
       "4  8e6bfb81e283fa7e4f11123a3fb894f1             5           2018-03-01   \n",
       "\n",
       "  review_answer_timestamp  review_answer_delay  \n",
       "0     2018-01-18 21:46:59                    0  \n",
       "1     2018-03-11 03:05:13                    1  \n",
       "2     2018-02-18 14:36:24                    1  \n",
       "3     2017-04-21 22:02:06                    0  \n",
       "4     2018-03-02 10:26:53                    1  "
      ]
     },
     "execution_count": 47,
     "metadata": {},
     "output_type": "execute_result"
    }
   ],
   "source": [
    "avaliacoes.head()"
   ]
  },
  {
   "cell_type": "code",
   "execution_count": 68,
   "id": "e082b262",
   "metadata": {
    "ExecuteTime": {
     "end_time": "2022-10-05T21:29:23.704182Z",
     "start_time": "2022-10-05T21:29:22.617697Z"
    }
   },
   "outputs": [],
   "source": [
    "avaliacoes.to_csv('avaliacoes.csv')"
   ]
  },
  {
   "cell_type": "markdown",
   "id": "f3419bbd",
   "metadata": {},
   "source": [
    "## Ordens"
   ]
  },
  {
   "cell_type": "code",
   "execution_count": 50,
   "id": "d7f4f384",
   "metadata": {
    "ExecuteTime": {
     "end_time": "2022-10-05T21:17:23.481496Z",
     "start_time": "2022-10-05T21:17:23.439525Z"
    }
   },
   "outputs": [
    {
     "name": "stdout",
     "output_type": "stream",
     "text": [
      "(99441, 9)\n"
     ]
    },
    {
     "data": {
      "text/html": [
       "<div>\n",
       "<style scoped>\n",
       "    .dataframe tbody tr th:only-of-type {\n",
       "        vertical-align: middle;\n",
       "    }\n",
       "\n",
       "    .dataframe tbody tr th {\n",
       "        vertical-align: top;\n",
       "    }\n",
       "\n",
       "    .dataframe thead th {\n",
       "        text-align: right;\n",
       "    }\n",
       "</style>\n",
       "<table border=\"1\" class=\"dataframe\">\n",
       "  <thead>\n",
       "    <tr style=\"text-align: right;\">\n",
       "      <th></th>\n",
       "      <th>Unnamed: 0</th>\n",
       "      <th>order_id</th>\n",
       "      <th>customer_id</th>\n",
       "      <th>order_status</th>\n",
       "      <th>order_purchase_timestamp</th>\n",
       "      <th>order_approved_at</th>\n",
       "      <th>order_delivered_carrier_date</th>\n",
       "      <th>order_delivered_customer_date</th>\n",
       "      <th>order_estimated_delivery_date</th>\n",
       "    </tr>\n",
       "  </thead>\n",
       "  <tbody>\n",
       "    <tr>\n",
       "      <th>0</th>\n",
       "      <td>0</td>\n",
       "      <td>e481f51cbdc54678b7cc49136f2d6af7</td>\n",
       "      <td>9ef432eb6251297304e76186b10a928d</td>\n",
       "      <td>delivered</td>\n",
       "      <td>2017-10-02 10:56:33</td>\n",
       "      <td>2017-10-02 11:07:15</td>\n",
       "      <td>2017-10-04 19:55:00</td>\n",
       "      <td>2017-10-10 21:25:13</td>\n",
       "      <td>2017-10-18</td>\n",
       "    </tr>\n",
       "    <tr>\n",
       "      <th>1</th>\n",
       "      <td>1</td>\n",
       "      <td>53cdb2fc8bc7dce0b6741e2150273451</td>\n",
       "      <td>b0830fb4747a6c6d20dea0b8c802d7ef</td>\n",
       "      <td>delivered</td>\n",
       "      <td>2018-07-24 20:41:37</td>\n",
       "      <td>2018-07-26 03:24:27</td>\n",
       "      <td>2018-07-26 14:31:00</td>\n",
       "      <td>2018-08-07 15:27:45</td>\n",
       "      <td>2018-08-13</td>\n",
       "    </tr>\n",
       "    <tr>\n",
       "      <th>2</th>\n",
       "      <td>2</td>\n",
       "      <td>47770eb9100c2d0c44946d9cf07ec65d</td>\n",
       "      <td>41ce2a54c0b03bf3443c3d931a367089</td>\n",
       "      <td>delivered</td>\n",
       "      <td>2018-08-08 08:38:49</td>\n",
       "      <td>2018-08-08 08:55:23</td>\n",
       "      <td>2018-08-08 13:50:00</td>\n",
       "      <td>2018-08-17 18:06:29</td>\n",
       "      <td>2018-09-04</td>\n",
       "    </tr>\n",
       "  </tbody>\n",
       "</table>\n",
       "</div>"
      ],
      "text/plain": [
       "   Unnamed: 0                          order_id  \\\n",
       "0           0  e481f51cbdc54678b7cc49136f2d6af7   \n",
       "1           1  53cdb2fc8bc7dce0b6741e2150273451   \n",
       "2           2  47770eb9100c2d0c44946d9cf07ec65d   \n",
       "\n",
       "                        customer_id order_status order_purchase_timestamp  \\\n",
       "0  9ef432eb6251297304e76186b10a928d    delivered      2017-10-02 10:56:33   \n",
       "1  b0830fb4747a6c6d20dea0b8c802d7ef    delivered      2018-07-24 20:41:37   \n",
       "2  41ce2a54c0b03bf3443c3d931a367089    delivered      2018-08-08 08:38:49   \n",
       "\n",
       "     order_approved_at order_delivered_carrier_date  \\\n",
       "0  2017-10-02 11:07:15          2017-10-04 19:55:00   \n",
       "1  2018-07-26 03:24:27          2018-07-26 14:31:00   \n",
       "2  2018-08-08 08:55:23          2018-08-08 13:50:00   \n",
       "\n",
       "  order_delivered_customer_date order_estimated_delivery_date  \n",
       "0           2017-10-10 21:25:13                    2017-10-18  \n",
       "1           2018-08-07 15:27:45                    2018-08-13  \n",
       "2           2018-08-17 18:06:29                    2018-09-04  "
      ]
     },
     "execution_count": 50,
     "metadata": {},
     "output_type": "execute_result"
    }
   ],
   "source": [
    "print(ordens.shape)\n",
    "ordens.head(3)"
   ]
  },
  {
   "cell_type": "code",
   "execution_count": 60,
   "id": "23d3a86a",
   "metadata": {
    "ExecuteTime": {
     "end_time": "2022-10-05T21:21:36.169622Z",
     "start_time": "2022-10-05T21:21:34.366031Z"
    }
   },
   "outputs": [],
   "source": [
    "ordens.loc[:,'order_purchase_timestamp'] = pd.to_datetime(ordens['order_purchase_timestamp'],\n",
    "                                                              format='%Y/%m/%d').dt.date\n",
    "ordens.loc[:,'order_delivered_customer_date'] = pd.to_datetime(ordens['order_delivered_customer_date'],\n",
    "                                                              format='%Y/%m/%d').dt.date\n",
    "ordens.loc[:,'order_estimated_delivery_date'] = pd.to_datetime(ordens['order_estimated_delivery_date'],\n",
    "                                                              format='%Y/%m/%d').dt.date\n",
    "\n",
    "\n",
    "ordens['data_estimada_entrega'] = (ordens['order_estimated_delivery_date'] \n",
    "                                            - ordens['order_purchase_timestamp']).astype('timedelta64[D]')\n",
    "ordens['data_real_entrega'] = (ordens['order_delivered_customer_date'] \n",
    "                                            - ordens['order_purchase_timestamp']).astype('timedelta64[D]')"
   ]
  },
  {
   "cell_type": "code",
   "execution_count": 61,
   "id": "1979ddf1",
   "metadata": {
    "ExecuteTime": {
     "end_time": "2022-10-05T21:21:38.691637Z",
     "start_time": "2022-10-05T21:21:38.614683Z"
    }
   },
   "outputs": [],
   "source": [
    "ordens['year'] = pd.to_datetime(ordens['order_purchase_timestamp'], format='%Y/%m/%d').dt.year"
   ]
  },
  {
   "cell_type": "code",
   "execution_count": 62,
   "id": "4e175cdd",
   "metadata": {
    "ExecuteTime": {
     "end_time": "2022-10-05T21:21:43.579939Z",
     "start_time": "2022-10-05T21:21:43.485483Z"
    }
   },
   "outputs": [
    {
     "data": {
      "text/html": [
       "<div>\n",
       "<style scoped>\n",
       "    .dataframe tbody tr th:only-of-type {\n",
       "        vertical-align: middle;\n",
       "    }\n",
       "\n",
       "    .dataframe tbody tr th {\n",
       "        vertical-align: top;\n",
       "    }\n",
       "\n",
       "    .dataframe thead th {\n",
       "        text-align: right;\n",
       "    }\n",
       "</style>\n",
       "<table border=\"1\" class=\"dataframe\">\n",
       "  <thead>\n",
       "    <tr style=\"text-align: right;\">\n",
       "      <th></th>\n",
       "      <th>Unnamed: 0</th>\n",
       "      <th>order_id</th>\n",
       "      <th>customer_id</th>\n",
       "      <th>order_status</th>\n",
       "      <th>order_purchase_timestamp</th>\n",
       "      <th>data_estimada_entrega</th>\n",
       "      <th>data_real_entrega</th>\n",
       "      <th>year</th>\n",
       "    </tr>\n",
       "  </thead>\n",
       "  <tbody>\n",
       "    <tr>\n",
       "      <th>0</th>\n",
       "      <td>0</td>\n",
       "      <td>e481f51cbdc54678b7cc49136f2d6af7</td>\n",
       "      <td>9ef432eb6251297304e76186b10a928d</td>\n",
       "      <td>delivered</td>\n",
       "      <td>2017-10-02</td>\n",
       "      <td>16.0</td>\n",
       "      <td>8.0</td>\n",
       "      <td>2017</td>\n",
       "    </tr>\n",
       "    <tr>\n",
       "      <th>1</th>\n",
       "      <td>1</td>\n",
       "      <td>53cdb2fc8bc7dce0b6741e2150273451</td>\n",
       "      <td>b0830fb4747a6c6d20dea0b8c802d7ef</td>\n",
       "      <td>delivered</td>\n",
       "      <td>2018-07-24</td>\n",
       "      <td>20.0</td>\n",
       "      <td>14.0</td>\n",
       "      <td>2018</td>\n",
       "    </tr>\n",
       "    <tr>\n",
       "      <th>2</th>\n",
       "      <td>2</td>\n",
       "      <td>47770eb9100c2d0c44946d9cf07ec65d</td>\n",
       "      <td>41ce2a54c0b03bf3443c3d931a367089</td>\n",
       "      <td>delivered</td>\n",
       "      <td>2018-08-08</td>\n",
       "      <td>27.0</td>\n",
       "      <td>9.0</td>\n",
       "      <td>2018</td>\n",
       "    </tr>\n",
       "  </tbody>\n",
       "</table>\n",
       "</div>"
      ],
      "text/plain": [
       "   Unnamed: 0                          order_id  \\\n",
       "0           0  e481f51cbdc54678b7cc49136f2d6af7   \n",
       "1           1  53cdb2fc8bc7dce0b6741e2150273451   \n",
       "2           2  47770eb9100c2d0c44946d9cf07ec65d   \n",
       "\n",
       "                        customer_id order_status order_purchase_timestamp  \\\n",
       "0  9ef432eb6251297304e76186b10a928d    delivered               2017-10-02   \n",
       "1  b0830fb4747a6c6d20dea0b8c802d7ef    delivered               2018-07-24   \n",
       "2  41ce2a54c0b03bf3443c3d931a367089    delivered               2018-08-08   \n",
       "\n",
       "   data_estimada_entrega  data_real_entrega  year  \n",
       "0                   16.0                8.0  2017  \n",
       "1                   20.0               14.0  2018  \n",
       "2                   27.0                9.0  2018  "
      ]
     },
     "execution_count": 62,
     "metadata": {},
     "output_type": "execute_result"
    }
   ],
   "source": [
    "ordens = ordens[(~ordens['order_status'].isin(['canceled', 'unavailable']))]\n",
    "\n",
    "cols_to_drop = ['order_approved_at', 'order_delivered_carrier_date', \n",
    "               'order_delivered_customer_date', 'order_estimated_delivery_date'] \n",
    "ordens = ordens.drop(cols_to_drop, axis=1)\n",
    "ordens.head(3)"
   ]
  },
  {
   "cell_type": "code",
   "execution_count": 69,
   "id": "99a1241a",
   "metadata": {
    "ExecuteTime": {
     "end_time": "2022-10-05T21:29:49.690031Z",
     "start_time": "2022-10-05T21:29:48.282326Z"
    }
   },
   "outputs": [],
   "source": [
    "ordens.to_csv('ordens.csv')"
   ]
  },
  {
   "cell_type": "markdown",
   "id": "9961bfd6",
   "metadata": {},
   "source": [
    "## Produto"
   ]
  },
  {
   "cell_type": "code",
   "execution_count": 64,
   "id": "087d7a85",
   "metadata": {
    "ExecuteTime": {
     "end_time": "2022-10-05T21:23:25.636329Z",
     "start_time": "2022-10-05T21:23:25.597354Z"
    }
   },
   "outputs": [
    {
     "name": "stdout",
     "output_type": "stream",
     "text": [
      "(32340, 7)\n"
     ]
    },
    {
     "data": {
      "text/html": [
       "<div>\n",
       "<style scoped>\n",
       "    .dataframe tbody tr th:only-of-type {\n",
       "        vertical-align: middle;\n",
       "    }\n",
       "\n",
       "    .dataframe tbody tr th {\n",
       "        vertical-align: top;\n",
       "    }\n",
       "\n",
       "    .dataframe thead th {\n",
       "        text-align: right;\n",
       "    }\n",
       "</style>\n",
       "<table border=\"1\" class=\"dataframe\">\n",
       "  <thead>\n",
       "    <tr style=\"text-align: right;\">\n",
       "      <th></th>\n",
       "      <th>Unnamed: 0</th>\n",
       "      <th>product_id</th>\n",
       "      <th>product_category_name</th>\n",
       "      <th>product_weight_g</th>\n",
       "      <th>product_length_cm</th>\n",
       "      <th>product_height_cm</th>\n",
       "      <th>product_width_cm</th>\n",
       "    </tr>\n",
       "  </thead>\n",
       "  <tbody>\n",
       "    <tr>\n",
       "      <th>0</th>\n",
       "      <td>0</td>\n",
       "      <td>1e9e8ef04dbcff4541ed26657ea517e5</td>\n",
       "      <td>perfumaria</td>\n",
       "      <td>225.0</td>\n",
       "      <td>16.0</td>\n",
       "      <td>10.0</td>\n",
       "      <td>14.0</td>\n",
       "    </tr>\n",
       "    <tr>\n",
       "      <th>1</th>\n",
       "      <td>1</td>\n",
       "      <td>3aa071139cb16b67ca9e5dea641aaa2f</td>\n",
       "      <td>artes</td>\n",
       "      <td>1000.0</td>\n",
       "      <td>30.0</td>\n",
       "      <td>18.0</td>\n",
       "      <td>20.0</td>\n",
       "    </tr>\n",
       "    <tr>\n",
       "      <th>2</th>\n",
       "      <td>2</td>\n",
       "      <td>96bd76ec8810374ed1b65e291975717f</td>\n",
       "      <td>esporte_lazer</td>\n",
       "      <td>154.0</td>\n",
       "      <td>18.0</td>\n",
       "      <td>9.0</td>\n",
       "      <td>15.0</td>\n",
       "    </tr>\n",
       "  </tbody>\n",
       "</table>\n",
       "</div>"
      ],
      "text/plain": [
       "   Unnamed: 0                        product_id product_category_name  \\\n",
       "0           0  1e9e8ef04dbcff4541ed26657ea517e5            perfumaria   \n",
       "1           1  3aa071139cb16b67ca9e5dea641aaa2f                 artes   \n",
       "2           2  96bd76ec8810374ed1b65e291975717f         esporte_lazer   \n",
       "\n",
       "   product_weight_g  product_length_cm  product_height_cm  product_width_cm  \n",
       "0             225.0               16.0               10.0              14.0  \n",
       "1            1000.0               30.0               18.0              20.0  \n",
       "2             154.0               18.0                9.0              15.0  "
      ]
     },
     "execution_count": 64,
     "metadata": {},
     "output_type": "execute_result"
    }
   ],
   "source": [
    "print(produtos.shape)\n",
    "produtos.head(3)"
   ]
  },
  {
   "cell_type": "code",
   "execution_count": 65,
   "id": "6e96abc3",
   "metadata": {
    "ExecuteTime": {
     "end_time": "2022-10-05T21:23:51.628425Z",
     "start_time": "2022-10-05T21:23:51.572462Z"
    }
   },
   "outputs": [
    {
     "data": {
      "text/plain": [
       "Unnamed: 0               0\n",
       "product_id               0\n",
       "product_category_name    0\n",
       "product_weight_g         0\n",
       "product_length_cm        0\n",
       "product_height_cm        0\n",
       "product_width_cm         0\n",
       "dtype: int64"
      ]
     },
     "execution_count": 65,
     "metadata": {},
     "output_type": "execute_result"
    }
   ],
   "source": [
    "produtos.isna().sum()"
   ]
  },
  {
   "cell_type": "code",
   "execution_count": null,
   "id": "a72bb170",
   "metadata": {},
   "outputs": [],
   "source": []
  },
  {
   "cell_type": "code",
   "execution_count": null,
   "id": "707ce6bb",
   "metadata": {},
   "outputs": [],
   "source": []
  },
  {
   "cell_type": "code",
   "execution_count": null,
   "id": "68745bcf",
   "metadata": {},
   "outputs": [],
   "source": []
  },
  {
   "cell_type": "code",
   "execution_count": null,
   "id": "0dfe3fe5",
   "metadata": {},
   "outputs": [],
   "source": [
    "produtos['product_category_name'] = produtos['product_category_name'].fillna('not_reported')\n",
    "produtos.head(3)\n"
   ]
  },
  {
   "cell_type": "code",
   "execution_count": null,
   "id": "e677a046",
   "metadata": {},
   "outputs": [],
   "source": []
  },
  {
   "cell_type": "code",
   "execution_count": null,
   "id": "3fe777c7",
   "metadata": {},
   "outputs": [],
   "source": []
  }
 ],
 "metadata": {
  "kernelspec": {
   "display_name": "pycaret",
   "language": "python",
   "name": "pycaret"
  },
  "language_info": {
   "codemirror_mode": {
    "name": "ipython",
    "version": 3
   },
   "file_extension": ".py",
   "mimetype": "text/x-python",
   "name": "python",
   "nbconvert_exporter": "python",
   "pygments_lexer": "ipython3",
   "version": "3.8.13"
  },
  "nbTranslate": {
   "displayLangs": [
    "*"
   ],
   "hotkey": "alt-t",
   "langInMainMenu": true,
   "sourceLang": "en",
   "targetLang": "fr",
   "useGoogleTranslate": true
  },
  "toc": {
   "base_numbering": 1,
   "nav_menu": {},
   "number_sections": true,
   "sideBar": true,
   "skip_h1_title": false,
   "title_cell": "Table of Contents",
   "title_sidebar": "Contents",
   "toc_cell": false,
   "toc_position": {},
   "toc_section_display": true,
   "toc_window_display": false
  },
  "varInspector": {
   "cols": {
    "lenName": 16,
    "lenType": 16,
    "lenVar": 40
   },
   "kernels_config": {
    "python": {
     "delete_cmd_postfix": "",
     "delete_cmd_prefix": "del ",
     "library": "var_list.py",
     "varRefreshCmd": "print(var_dic_list())"
    },
    "r": {
     "delete_cmd_postfix": ") ",
     "delete_cmd_prefix": "rm(",
     "library": "var_list.r",
     "varRefreshCmd": "cat(var_dic_list()) "
    }
   },
   "types_to_exclude": [
    "module",
    "function",
    "builtin_function_or_method",
    "instance",
    "_Feature"
   ],
   "window_display": false
  }
 },
 "nbformat": 4,
 "nbformat_minor": 5
}
