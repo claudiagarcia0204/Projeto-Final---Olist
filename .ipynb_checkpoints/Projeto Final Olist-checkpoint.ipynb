{
 "cells": [
  {
   "cell_type": "markdown",
   "id": "4137e14e",
   "metadata": {},
   "source": [
    "# Projeto Final - Olist"
   ]
  },
  {
   "cell_type": "markdown",
   "id": "bc7e4ac0",
   "metadata": {},
   "source": [
    "## Descrição"
   ]
  },
  {
   "cell_type": "markdown",
   "id": "1a14effd",
   "metadata": {},
   "source": [
    "\"Conjunto de dados públicos de comércio eletrônico brasileiro por Olist\n",
    "O conjunto de dados tem informações de 100 mil pedidos de 2016 a 2018 feitos em vários marketplaces no Brasil.\n",
    "\n",
    "A Olist conecta pequenas empresas de todo o Brasil a canais sem complicações e com um único contrato. Esses comerciantes podem vender seus produtos através da Olist Store e enviá-los diretamente aos clientes usando os parceiros de logística da Olist.\n",
    "\n",
    "Depois que um cliente compra o produto da Olist Store, um vendedor é notificado para atender esse pedido. Assim que o cliente recebe o produto, ou vence a data prevista de entrega, o cliente recebe uma pesquisa de satisfação por e-mail onde pode dar uma nota da experiência de compra e anotar alguns comentários.\"\n"
   ]
  },
  {
   "cell_type": "markdown",
   "id": "00727d69",
   "metadata": {},
   "source": [
    "## Importando Bibliotecas"
   ]
  },
  {
   "cell_type": "code",
   "execution_count": 54,
   "id": "c9ad9312",
   "metadata": {
    "ExecuteTime": {
     "end_time": "2022-10-04T00:57:09.363324Z",
     "start_time": "2022-10-04T00:57:09.330343Z"
    }
   },
   "outputs": [],
   "source": [
    "import pandas as pd\n",
    "import numpy as np\n",
    "import os\n",
    "import re\n",
    "from sklearn.linear_model import LinearRegression\n",
    "import seaborn as sns\n",
    "from sklearn.preprocessing import LabelEncoder\n",
    "from sklearn.ensemble import RandomForestClassifier\n",
    "from sklearn.ensemble import GradientBoostingClassifier\n",
    "import glob\n",
    "import pandas as pd\n",
    "from sklearn.model_selection import train_test_split\n",
    "from pycaret.classification import *\n",
    "import matplotlib.pyplot as plt\n",
    "import seaborn as sns\n",
    "%matplotlib inline\n",
    "from matplotlib.gridspec import GridSpec"
   ]
  },
  {
   "cell_type": "markdown",
   "id": "e81c6de0",
   "metadata": {},
   "source": [
    "# Descrição dos dados"
   ]
  },
  {
   "cell_type": "markdown",
   "id": "a1411010",
   "metadata": {},
   "source": [
    "Each feature or columns of different csv files are described below:\n",
    "\n",
    "* The  `olist_customers_dataset.csv` contain following features:\n",
    "\n",
    "Feature | Description \n",
    "----------|---------------\n",
    "**customer_id** | Id of the consumer who made the purchase.\n",
    "**customer_unique_id**    | Unique Id of the consumer.\n",
    "**customer_zip_code_prefix** | Zip Code of the location of the consumer.\n",
    "**customer_city** | Name of the City from where order is made.\n",
    "**customer_state** |  State Code from where order is made(Ex- sao paulo-SP).\n",
    "\n",
    "* The `olist_sellers_dataset.csv` contains following features:\n",
    "\n",
    "Feature | Description \n",
    "----------|---------------\n",
    "**seller_id** |   Unique Id of the seller registered in olist.\n",
    "**seller_zip_code_prefix** | Zip Code of the location of the seller.\n",
    "**seller_city** | Name of the City of the seller.\n",
    "**seller_state** | State Code (Ex- sao paulo-SP)\n",
    "\n",
    "\n",
    "* The `olist_order_items_dataset.csv`  contain following features:\n",
    "\n",
    "Feature | Description \n",
    "----------|---------------\n",
    "**order_id** | A unique id of order made by the consumers.\n",
    "**order_item_id** | A Unique id given to each item ordered in the order.\n",
    "**product_id** |A unique id given to each product available on the site.\n",
    "**seller_id** | Unique Id of the seller registered in olist.\n",
    "**shipping_limit_date** | The date before which shipping of the ordered    product must be completed.\n",
    "**price** | Actual price of the products ordered .\n",
    "**freight_value** | Price rate at which a product is delivered from one point to another. \n",
    "\n",
    "* The `olist_order_payments_dataset.csv` contain following features:\n",
    "\n",
    "Feature | Description \n",
    "----------|---------------\n",
    "**order_id** | A unique id of order made by the consumers.\n",
    "**payment_sequential** | sequences of the payments made in case of EMI.\n",
    "**payment_type** |  mode of payment used.(Ex-Credit Card)\n",
    "**payment_installments** | number of installments in case of EMI purchase.\n",
    "**payment_value** | Total amount paid for the purshase order.\n",
    "\n",
    "\n",
    "\n",
    "* The `olist_orders_dataset.csv`  contain following features:\n",
    "\n",
    "Feature | Description \n",
    "----------|---------------\n",
    "**order_id** | A unique id of order made by the consumers.\n",
    "**customer_id** | Id of the consumer who made the purchase.\n",
    "**order_status** | status of the order made i.e delivered, shipped etc.\n",
    "**order_purchase_timestamp** | Timestamp of the purchase.\n",
    "**order_approved_at** | Timestamp of the order approval.\n",
    "**order_delivered_carrier_date** | delivery date at which carrier made the delivery.\n",
    "**order_delivered_customer_date** | date at which customer got the product.\n",
    "**order_estimated_delivery_date** | estimated delivery date of the products.\n",
    "\n",
    "\n",
    "* The `olist_order_reviews_dataset.csv`  contain following features:\n",
    "\n",
    "Feature | Description \n",
    "----------|---------------\n",
    "**review_id** |Id of the review given on the product ordered by the order id.\n",
    "**order_id** |  A unique id of order made by the consumers.\n",
    "**review_score** | review score given by the customer for each order on the scale of 1–5. \n",
    "**review_comment_title** | Title of the review\n",
    "**review_comment_message** | Review comments posted by the consumer for each order.\n",
    "**review_creation_date** |Timestamp of the review when it is created.\n",
    "**review_answer_timestamp** | Timestamp of the review answered.\n",
    "\n",
    "\n",
    "* The `olist_products_dataset.csv` contain following features:\n",
    "\n",
    "Feature | Description \n",
    "----------|---------------\n",
    "**product_id** | A unique identifier for the proposed project.\n",
    "**product_category_name** | Name of the product category\n",
    "**product_name_lenght** | length of the string which specify the name given to the products ordered.\n",
    "**product_description_lenght** | length of the description written for each product ordered on the site.\n",
    "**product_photos_qty** | Number of photos of each product ordered available on the shopping portal.\n",
    "**product_weight_g** | Weight of the products ordered in grams.\n",
    "**product_length_cm** | Length of the products ordered in centimeters.\n",
    "**product_height_cm** | Height of the products ordered in centimeters.\n",
    "**product_width_cm** | width of the product ordered in centimeters.\n"
   ]
  },
  {
   "cell_type": "markdown",
   "id": "2a65b6d4",
   "metadata": {},
   "source": [
    "# Leitura arquivos"
   ]
  },
  {
   "cell_type": "code",
   "execution_count": 3,
   "id": "0801466c",
   "metadata": {
    "ExecuteTime": {
     "end_time": "2022-10-03T23:58:46.594510Z",
     "start_time": "2022-10-03T23:58:42.132387Z"
    }
   },
   "outputs": [],
   "source": [
    "itens = pd.read_csv(\"Data/itens.csv\") # items\n",
    "ordens = pd.read_csv(\"Data/ordens.csv\") # order\n",
    "produtos = pd.read_csv(\"Data/produtos.csv\") # products\n",
    "geolocal = pd.read_csv(\"Data/geolocal.csv\") # geolocation\n",
    "avaliacoes = pd.read_csv('Data/avaliacoes.csv') # reviews\n",
    "clientes = pd.read_csv(\"Data/clientes.csv\") # customers\n",
    "pagamentos = pd.read_csv(\"Data/pagamentos.csv\") # payments\n",
    "vendedores = pd.read_csv(\"Data/vendedores.csv\") # seller"
   ]
  },
  {
   "cell_type": "markdown",
   "id": "b9c0caab",
   "metadata": {},
   "source": [
    "# Verificando dados - Atualizados"
   ]
  },
  {
   "cell_type": "markdown",
   "id": "f49e3f1e",
   "metadata": {},
   "source": [
    "## Itens - items"
   ]
  },
  {
   "cell_type": "markdown",
   "id": "fd20f58f",
   "metadata": {
    "ExecuteTime": {
     "end_time": "2022-09-29T22:55:39.292077Z",
     "start_time": "2022-09-29T22:55:30.643323Z"
    }
   },
   "source": [
    "* Tabela 'itens' com 112650 linhas e 8 colunas (order_id, product_id, seller_id,shipping_limit_date, price,freight_value  )"
   ]
  },
  {
   "cell_type": "code",
   "execution_count": 5,
   "id": "e1379480",
   "metadata": {
    "ExecuteTime": {
     "end_time": "2022-10-04T00:04:38.174914Z",
     "start_time": "2022-10-04T00:04:38.138935Z"
    }
   },
   "outputs": [
    {
     "data": {
      "text/plain": [
       "(112650, 8)"
      ]
     },
     "execution_count": 5,
     "metadata": {},
     "output_type": "execute_result"
    }
   ],
   "source": [
    "itens.shape"
   ]
  },
  {
   "cell_type": "code",
   "execution_count": 6,
   "id": "c132b60c",
   "metadata": {
    "ExecuteTime": {
     "end_time": "2022-10-04T00:05:07.300062Z",
     "start_time": "2022-10-04T00:05:06.862750Z"
    },
    "cell_style": "split"
   },
   "outputs": [
    {
     "name": "stdout",
     "output_type": "stream",
     "text": [
      "<class 'pandas.core.frame.DataFrame'>\n",
      "RangeIndex: 112650 entries, 0 to 112649\n",
      "Data columns (total 8 columns):\n",
      " #   Column               Non-Null Count   Dtype  \n",
      "---  ------               --------------   -----  \n",
      " 0   Unnamed: 0           112650 non-null  int64  \n",
      " 1   order_id             112650 non-null  object \n",
      " 2   order_item_id        112650 non-null  int64  \n",
      " 3   product_id           112650 non-null  object \n",
      " 4   seller_id            112650 non-null  object \n",
      " 5   shipping_limit_date  112650 non-null  object \n",
      " 6   price                112650 non-null  float64\n",
      " 7   freight_value        112650 non-null  float64\n",
      "dtypes: float64(2), int64(2), object(4)\n",
      "memory usage: 6.9+ MB\n"
     ]
    }
   ],
   "source": [
    "itens.info()"
   ]
  },
  {
   "cell_type": "code",
   "execution_count": 7,
   "id": "539ce195",
   "metadata": {
    "ExecuteTime": {
     "end_time": "2022-10-04T00:05:39.829794Z",
     "start_time": "2022-10-04T00:05:39.672105Z"
    },
    "cell_style": "split"
   },
   "outputs": [
    {
     "data": {
      "text/plain": [
       "Unnamed: 0             0\n",
       "order_id               0\n",
       "order_item_id          0\n",
       "product_id             0\n",
       "seller_id              0\n",
       "shipping_limit_date    0\n",
       "price                  0\n",
       "freight_value          0\n",
       "dtype: int64"
      ]
     },
     "execution_count": 7,
     "metadata": {},
     "output_type": "execute_result"
    }
   ],
   "source": [
    "itens.isnull().sum()"
   ]
  },
  {
   "cell_type": "code",
   "execution_count": 8,
   "id": "4a771e42",
   "metadata": {
    "ExecuteTime": {
     "end_time": "2022-10-04T00:05:59.890797Z",
     "start_time": "2022-10-04T00:05:59.867809Z"
    }
   },
   "outputs": [
    {
     "data": {
      "text/plain": [
       "Index(['Unnamed: 0', 'order_id', 'order_item_id', 'product_id', 'seller_id',\n",
       "       'shipping_limit_date', 'price', 'freight_value'],\n",
       "      dtype='object')"
      ]
     },
     "execution_count": 8,
     "metadata": {},
     "output_type": "execute_result"
    }
   ],
   "source": [
    "itens.columns"
   ]
  },
  {
   "cell_type": "markdown",
   "id": "91479c41",
   "metadata": {
    "ExecuteTime": {
     "end_time": "2022-10-04T00:07:55.866202Z",
     "start_time": "2022-10-04T00:07:55.845213Z"
    }
   },
   "source": [
    "## Ordens - order"
   ]
  },
  {
   "cell_type": "markdown",
   "id": "79e861a1",
   "metadata": {},
   "source": [
    "Tabela 'ordens' tem 99441 linhas e 9 colunas ('order_id', 'customer_id', 'order_status', 'order_purchase_timestamp',\n",
    "'order_approved_at', 'order_delivered_carrier_date',\n",
    "'order_delivered_customer_date', 'order_estimated_delivery_date)\n",
    "\n",
    "\n",
    "Nulos (order_approved_at - 160, order_delivered_carrier_date -  1783, order_delivered_customer_date- 2965)"
   ]
  },
  {
   "cell_type": "code",
   "execution_count": 10,
   "id": "e68af62b",
   "metadata": {
    "ExecuteTime": {
     "end_time": "2022-10-04T00:10:23.404570Z",
     "start_time": "2022-10-04T00:10:23.385580Z"
    }
   },
   "outputs": [
    {
     "data": {
      "text/plain": [
       "(99441, 9)"
      ]
     },
     "execution_count": 10,
     "metadata": {},
     "output_type": "execute_result"
    }
   ],
   "source": [
    "ordens.shape"
   ]
  },
  {
   "cell_type": "code",
   "execution_count": 11,
   "id": "90e3df15",
   "metadata": {
    "ExecuteTime": {
     "end_time": "2022-10-04T00:10:45.336620Z",
     "start_time": "2022-10-04T00:10:45.141700Z"
    },
    "cell_style": "split"
   },
   "outputs": [
    {
     "name": "stdout",
     "output_type": "stream",
     "text": [
      "<class 'pandas.core.frame.DataFrame'>\n",
      "RangeIndex: 99441 entries, 0 to 99440\n",
      "Data columns (total 9 columns):\n",
      " #   Column                         Non-Null Count  Dtype \n",
      "---  ------                         --------------  ----- \n",
      " 0   Unnamed: 0                     99441 non-null  int64 \n",
      " 1   order_id                       99441 non-null  object\n",
      " 2   customer_id                    99441 non-null  object\n",
      " 3   order_status                   99441 non-null  object\n",
      " 4   order_purchase_timestamp       99441 non-null  object\n",
      " 5   order_approved_at              99441 non-null  object\n",
      " 6   order_delivered_carrier_date   99441 non-null  object\n",
      " 7   order_delivered_customer_date  99441 non-null  object\n",
      " 8   order_estimated_delivery_date  99441 non-null  object\n",
      "dtypes: int64(1), object(8)\n",
      "memory usage: 6.8+ MB\n"
     ]
    }
   ],
   "source": [
    "ordens.info()"
   ]
  },
  {
   "cell_type": "code",
   "execution_count": 12,
   "id": "7caf980d",
   "metadata": {
    "ExecuteTime": {
     "end_time": "2022-10-04T00:11:22.417434Z",
     "start_time": "2022-10-04T00:11:22.230528Z"
    },
    "cell_style": "split"
   },
   "outputs": [
    {
     "data": {
      "text/plain": [
       "Unnamed: 0                       0\n",
       "order_id                         0\n",
       "customer_id                      0\n",
       "order_status                     0\n",
       "order_purchase_timestamp         0\n",
       "order_approved_at                0\n",
       "order_delivered_carrier_date     0\n",
       "order_delivered_customer_date    0\n",
       "order_estimated_delivery_date    0\n",
       "dtype: int64"
      ]
     },
     "execution_count": 12,
     "metadata": {},
     "output_type": "execute_result"
    }
   ],
   "source": [
    "ordens.isnull().sum()"
   ]
  },
  {
   "cell_type": "code",
   "execution_count": 16,
   "id": "ce8ef890",
   "metadata": {
    "ExecuteTime": {
     "end_time": "2022-10-04T00:15:25.783748Z",
     "start_time": "2022-10-04T00:15:25.762755Z"
    }
   },
   "outputs": [
    {
     "data": {
      "text/plain": [
       "Index(['Unnamed: 0', 'order_id', 'customer_id', 'order_status',\n",
       "       'order_purchase_timestamp', 'order_approved_at',\n",
       "       'order_delivered_carrier_date', 'order_delivered_customer_date',\n",
       "       'order_estimated_delivery_date'],\n",
       "      dtype='object')"
      ]
     },
     "execution_count": 16,
     "metadata": {},
     "output_type": "execute_result"
    }
   ],
   "source": [
    "ordens.columns"
   ]
  },
  {
   "cell_type": "markdown",
   "id": "d3836b2c",
   "metadata": {
    "ExecuteTime": {
     "end_time": "2022-10-04T00:44:50.125439Z",
     "start_time": "2022-10-04T00:44:50.108450Z"
    }
   },
   "source": [
    "## Produtos - products"
   ]
  },
  {
   "cell_type": "markdown",
   "id": "8fa21059",
   "metadata": {},
   "source": [
    "Tabela com 32340 linhas com 6 colunas"
   ]
  },
  {
   "cell_type": "code",
   "execution_count": 44,
   "id": "2a888279",
   "metadata": {
    "ExecuteTime": {
     "end_time": "2022-10-04T00:46:06.737452Z",
     "start_time": "2022-10-04T00:46:06.715467Z"
    }
   },
   "outputs": [
    {
     "data": {
      "text/plain": [
       "(32340, 7)"
      ]
     },
     "execution_count": 44,
     "metadata": {},
     "output_type": "execute_result"
    }
   ],
   "source": [
    "produtos.shape"
   ]
  },
  {
   "cell_type": "code",
   "execution_count": 45,
   "id": "a2760d87",
   "metadata": {
    "ExecuteTime": {
     "end_time": "2022-10-04T00:46:31.497364Z",
     "start_time": "2022-10-04T00:46:31.442400Z"
    },
    "cell_style": "split"
   },
   "outputs": [
    {
     "name": "stdout",
     "output_type": "stream",
     "text": [
      "<class 'pandas.core.frame.DataFrame'>\n",
      "RangeIndex: 32340 entries, 0 to 32339\n",
      "Data columns (total 7 columns):\n",
      " #   Column                 Non-Null Count  Dtype  \n",
      "---  ------                 --------------  -----  \n",
      " 0   Unnamed: 0             32340 non-null  int64  \n",
      " 1   product_id             32340 non-null  object \n",
      " 2   product_category_name  32340 non-null  object \n",
      " 3   product_weight_g       32340 non-null  float64\n",
      " 4   product_length_cm      32340 non-null  float64\n",
      " 5   product_height_cm      32340 non-null  float64\n",
      " 6   product_width_cm       32340 non-null  float64\n",
      "dtypes: float64(4), int64(1), object(2)\n",
      "memory usage: 1.7+ MB\n"
     ]
    }
   ],
   "source": [
    "produtos.info()"
   ]
  },
  {
   "cell_type": "code",
   "execution_count": 46,
   "id": "48decde3",
   "metadata": {
    "ExecuteTime": {
     "end_time": "2022-10-04T00:47:20.670910Z",
     "start_time": "2022-10-04T00:47:20.634711Z"
    },
    "cell_style": "split"
   },
   "outputs": [
    {
     "data": {
      "text/plain": [
       "Unnamed: 0               0\n",
       "product_id               0\n",
       "product_category_name    0\n",
       "product_weight_g         0\n",
       "product_length_cm        0\n",
       "product_height_cm        0\n",
       "product_width_cm         0\n",
       "dtype: int64"
      ]
     },
     "execution_count": 46,
     "metadata": {},
     "output_type": "execute_result"
    }
   ],
   "source": [
    "produtos.isnull().sum()"
   ]
  },
  {
   "cell_type": "code",
   "execution_count": 47,
   "id": "95d711df",
   "metadata": {
    "ExecuteTime": {
     "end_time": "2022-10-04T00:47:46.556597Z",
     "start_time": "2022-10-04T00:47:46.535610Z"
    }
   },
   "outputs": [
    {
     "data": {
      "text/plain": [
       "Index(['Unnamed: 0', 'product_id', 'product_category_name', 'product_weight_g',\n",
       "       'product_length_cm', 'product_height_cm', 'product_width_cm'],\n",
       "      dtype='object')"
      ]
     },
     "execution_count": 47,
     "metadata": {},
     "output_type": "execute_result"
    }
   ],
   "source": [
    "produtos.columns"
   ]
  },
  {
   "cell_type": "code",
   "execution_count": 49,
   "id": "abd346ae",
   "metadata": {
    "ExecuteTime": {
     "end_time": "2022-10-04T00:50:11.314916Z",
     "start_time": "2022-10-04T00:50:11.284934Z"
    }
   },
   "outputs": [
    {
     "data": {
      "text/plain": [
       "cama_mesa_banho           3029\n",
       "esporte_lazer             2867\n",
       "moveis_decoracao          2657\n",
       "beleza_saude              2444\n",
       "utilidades_domesticas     2335\n",
       "automotivo                1900\n",
       "informatica_acessorios    1639\n",
       "brinquedos                1411\n",
       "relogios_presentes        1329\n",
       "telefonia                 1134\n",
       "Name: product_category_name, dtype: int64"
      ]
     },
     "execution_count": 49,
     "metadata": {},
     "output_type": "execute_result"
    }
   ],
   "source": [
    "produtos['product_category_name'].value_counts().head(10)"
   ]
  },
  {
   "cell_type": "markdown",
   "id": "09d594e4",
   "metadata": {},
   "source": [
    "## Avaliações - reviews"
   ]
  },
  {
   "cell_type": "markdown",
   "id": "e9859807",
   "metadata": {},
   "source": [
    "Tabela 'avaliacoes' tem 99224 linhas e 7 colunas (review_id,order_id, review_score, \n",
    "review_comment_title, review_comment_message, review_creation_date, review_answer_timestamp)"
   ]
  },
  {
   "cell_type": "code",
   "execution_count": 13,
   "id": "0d1517ed",
   "metadata": {
    "ExecuteTime": {
     "end_time": "2022-10-04T00:13:24.677376Z",
     "start_time": "2022-10-04T00:13:24.640400Z"
    }
   },
   "outputs": [
    {
     "data": {
      "text/plain": [
       "(99224, 7)"
      ]
     },
     "execution_count": 13,
     "metadata": {},
     "output_type": "execute_result"
    }
   ],
   "source": [
    "avaliacoes.shape"
   ]
  },
  {
   "cell_type": "code",
   "execution_count": 14,
   "id": "12c42c46",
   "metadata": {
    "ExecuteTime": {
     "end_time": "2022-10-04T00:14:18.432770Z",
     "start_time": "2022-10-04T00:14:18.309896Z"
    },
    "cell_style": "split"
   },
   "outputs": [
    {
     "name": "stdout",
     "output_type": "stream",
     "text": [
      "<class 'pandas.core.frame.DataFrame'>\n",
      "RangeIndex: 99224 entries, 0 to 99223\n",
      "Data columns (total 7 columns):\n",
      " #   Column                   Non-Null Count  Dtype \n",
      "---  ------                   --------------  ----- \n",
      " 0   Unnamed: 0.1             99224 non-null  int64 \n",
      " 1   Unnamed: 0               99224 non-null  int64 \n",
      " 2   review_id                99224 non-null  object\n",
      " 3   order_id                 99224 non-null  object\n",
      " 4   review_score             99224 non-null  int64 \n",
      " 5   review_creation_date     99224 non-null  object\n",
      " 6   review_answer_timestamp  99224 non-null  object\n",
      "dtypes: int64(3), object(4)\n",
      "memory usage: 5.3+ MB\n"
     ]
    }
   ],
   "source": [
    "avaliacoes.info()"
   ]
  },
  {
   "cell_type": "code",
   "execution_count": 15,
   "id": "7d58e863",
   "metadata": {
    "ExecuteTime": {
     "end_time": "2022-10-04T00:14:46.369675Z",
     "start_time": "2022-10-04T00:14:46.262620Z"
    },
    "cell_style": "split"
   },
   "outputs": [
    {
     "data": {
      "text/plain": [
       "Unnamed: 0.1               0\n",
       "Unnamed: 0                 0\n",
       "review_id                  0\n",
       "order_id                   0\n",
       "review_score               0\n",
       "review_creation_date       0\n",
       "review_answer_timestamp    0\n",
       "dtype: int64"
      ]
     },
     "execution_count": 15,
     "metadata": {},
     "output_type": "execute_result"
    }
   ],
   "source": [
    "avaliacoes.isnull().sum()"
   ]
  },
  {
   "cell_type": "code",
   "execution_count": 17,
   "id": "05653e2a",
   "metadata": {
    "ExecuteTime": {
     "end_time": "2022-10-04T00:15:43.073081Z",
     "start_time": "2022-10-04T00:15:43.051093Z"
    }
   },
   "outputs": [
    {
     "data": {
      "text/plain": [
       "Index(['Unnamed: 0.1', 'Unnamed: 0', 'review_id', 'order_id', 'review_score',\n",
       "       'review_creation_date', 'review_answer_timestamp'],\n",
       "      dtype='object')"
      ]
     },
     "execution_count": 17,
     "metadata": {},
     "output_type": "execute_result"
    }
   ],
   "source": [
    "avaliacoes.columns"
   ]
  },
  {
   "cell_type": "markdown",
   "id": "4bc11e10",
   "metadata": {},
   "source": [
    "## Vendedores - Seller"
   ]
  },
  {
   "cell_type": "markdown",
   "id": "7f1e610f",
   "metadata": {},
   "source": [
    "Tabela de vendedores 3095 linhas  5 colunas ('seller_id', 'seller_zip_code_prefix', 'seller_city', 'seller_state')"
   ]
  },
  {
   "cell_type": "code",
   "execution_count": 18,
   "id": "9684d607",
   "metadata": {
    "ExecuteTime": {
     "end_time": "2022-10-04T00:17:35.026810Z",
     "start_time": "2022-10-04T00:17:35.005241Z"
    }
   },
   "outputs": [
    {
     "data": {
      "text/plain": [
       "(3095, 5)"
      ]
     },
     "execution_count": 18,
     "metadata": {},
     "output_type": "execute_result"
    }
   ],
   "source": [
    "vendedores.shape"
   ]
  },
  {
   "cell_type": "code",
   "execution_count": 19,
   "id": "c7c3e449",
   "metadata": {
    "ExecuteTime": {
     "end_time": "2022-10-04T00:17:56.278662Z",
     "start_time": "2022-10-04T00:17:56.239686Z"
    },
    "cell_style": "split"
   },
   "outputs": [
    {
     "name": "stdout",
     "output_type": "stream",
     "text": [
      "<class 'pandas.core.frame.DataFrame'>\n",
      "RangeIndex: 3095 entries, 0 to 3094\n",
      "Data columns (total 5 columns):\n",
      " #   Column                  Non-Null Count  Dtype \n",
      "---  ------                  --------------  ----- \n",
      " 0   Unnamed: 0              3095 non-null   int64 \n",
      " 1   seller_id               3095 non-null   object\n",
      " 2   seller_zip_code_prefix  3095 non-null   int64 \n",
      " 3   seller_city             3095 non-null   object\n",
      " 4   seller_state            3095 non-null   object\n",
      "dtypes: int64(2), object(3)\n",
      "memory usage: 121.0+ KB\n"
     ]
    }
   ],
   "source": [
    "vendedores.info()"
   ]
  },
  {
   "cell_type": "code",
   "execution_count": 20,
   "id": "165f3d20",
   "metadata": {
    "ExecuteTime": {
     "end_time": "2022-10-04T00:18:30.864903Z",
     "start_time": "2022-10-04T00:18:30.842912Z"
    },
    "cell_style": "split"
   },
   "outputs": [
    {
     "data": {
      "text/plain": [
       "Unnamed: 0                0\n",
       "seller_id                 0\n",
       "seller_zip_code_prefix    0\n",
       "seller_city               0\n",
       "seller_state              0\n",
       "dtype: int64"
      ]
     },
     "execution_count": 20,
     "metadata": {},
     "output_type": "execute_result"
    }
   ],
   "source": [
    "vendedores.isnull().sum()"
   ]
  },
  {
   "cell_type": "code",
   "execution_count": 21,
   "id": "a35be320",
   "metadata": {
    "ExecuteTime": {
     "end_time": "2022-10-04T00:18:46.300845Z",
     "start_time": "2022-10-04T00:18:46.277838Z"
    }
   },
   "outputs": [
    {
     "data": {
      "text/plain": [
       "Index(['Unnamed: 0', 'seller_id', 'seller_zip_code_prefix', 'seller_city',\n",
       "       'seller_state'],\n",
       "      dtype='object')"
      ]
     },
     "execution_count": 21,
     "metadata": {},
     "output_type": "execute_result"
    }
   ],
   "source": [
    "vendedores.columns"
   ]
  },
  {
   "cell_type": "markdown",
   "id": "7ee832d3",
   "metadata": {},
   "source": [
    "## Pagamentos - payments"
   ]
  },
  {
   "cell_type": "markdown",
   "id": "ac1f222e",
   "metadata": {},
   "source": [
    "Tabela de pagamentos 103886 linhas  5 colunas ('order_id', 'payment_sequential', 'payment_type','payment_installments', 'payment_value')"
   ]
  },
  {
   "cell_type": "code",
   "execution_count": 22,
   "id": "dcc94087",
   "metadata": {
    "ExecuteTime": {
     "end_time": "2022-10-04T00:20:28.940640Z",
     "start_time": "2022-10-04T00:20:28.919650Z"
    }
   },
   "outputs": [
    {
     "data": {
      "text/plain": [
       "(103883, 6)"
      ]
     },
     "execution_count": 22,
     "metadata": {},
     "output_type": "execute_result"
    }
   ],
   "source": [
    "pagamentos.shape"
   ]
  },
  {
   "cell_type": "code",
   "execution_count": 23,
   "id": "57f2bdb8",
   "metadata": {
    "ExecuteTime": {
     "end_time": "2022-10-04T00:20:45.938753Z",
     "start_time": "2022-10-04T00:20:45.868797Z"
    },
    "cell_style": "split"
   },
   "outputs": [
    {
     "name": "stdout",
     "output_type": "stream",
     "text": [
      "<class 'pandas.core.frame.DataFrame'>\n",
      "RangeIndex: 103883 entries, 0 to 103882\n",
      "Data columns (total 6 columns):\n",
      " #   Column                Non-Null Count   Dtype  \n",
      "---  ------                --------------   -----  \n",
      " 0   Unnamed: 0            103883 non-null  int64  \n",
      " 1   order_id              103883 non-null  object \n",
      " 2   payment_sequential    103883 non-null  int64  \n",
      " 3   payment_type          103883 non-null  object \n",
      " 4   payment_installments  103883 non-null  int64  \n",
      " 5   payment_value         103883 non-null  float64\n",
      "dtypes: float64(1), int64(3), object(2)\n",
      "memory usage: 4.8+ MB\n"
     ]
    }
   ],
   "source": [
    "pagamentos.info()"
   ]
  },
  {
   "cell_type": "code",
   "execution_count": 24,
   "id": "5fd29375",
   "metadata": {
    "ExecuteTime": {
     "end_time": "2022-10-04T00:21:11.534309Z",
     "start_time": "2022-10-04T00:21:11.449372Z"
    },
    "cell_style": "split"
   },
   "outputs": [
    {
     "data": {
      "text/plain": [
       "Unnamed: 0              0\n",
       "order_id                0\n",
       "payment_sequential      0\n",
       "payment_type            0\n",
       "payment_installments    0\n",
       "payment_value           0\n",
       "dtype: int64"
      ]
     },
     "execution_count": 24,
     "metadata": {},
     "output_type": "execute_result"
    }
   ],
   "source": [
    "pagamentos.isnull().sum()"
   ]
  },
  {
   "cell_type": "code",
   "execution_count": 25,
   "id": "c32355cb",
   "metadata": {
    "ExecuteTime": {
     "end_time": "2022-10-04T00:21:27.811552Z",
     "start_time": "2022-10-04T00:21:27.791564Z"
    }
   },
   "outputs": [
    {
     "data": {
      "text/plain": [
       "Index(['Unnamed: 0', 'order_id', 'payment_sequential', 'payment_type',\n",
       "       'payment_installments', 'payment_value'],\n",
       "      dtype='object')"
      ]
     },
     "execution_count": 25,
     "metadata": {},
     "output_type": "execute_result"
    }
   ],
   "source": [
    "pagamentos.columns"
   ]
  },
  {
   "cell_type": "code",
   "execution_count": 27,
   "id": "48856ece",
   "metadata": {
    "ExecuteTime": {
     "end_time": "2022-10-04T00:22:31.706507Z",
     "start_time": "2022-10-04T00:22:31.684520Z"
    }
   },
   "outputs": [
    {
     "data": {
      "text/plain": [
       "credit_card    76795\n",
       "boleto         19784\n",
       "voucher         5775\n",
       "debit_card      1529\n",
       "Name: payment_type, dtype: int64"
      ]
     },
     "execution_count": 27,
     "metadata": {},
     "output_type": "execute_result"
    }
   ],
   "source": [
    "pagamentos['payment_type'].value_counts()"
   ]
  },
  {
   "cell_type": "markdown",
   "id": "ff9af60e",
   "metadata": {},
   "source": [
    "## Clientes - customers"
   ]
  },
  {
   "cell_type": "markdown",
   "id": "2bcd072e",
   "metadata": {},
   "source": [
    "Tabela de clientes 99441 linhas  5 colunas ('customer_id', 'customer_unique_id', 'customer_zip_code_prefix','customer_city', 'customer_state')"
   ]
  },
  {
   "cell_type": "code",
   "execution_count": 28,
   "id": "6b176f55",
   "metadata": {
    "ExecuteTime": {
     "end_time": "2022-10-04T00:24:55.567549Z",
     "start_time": "2022-10-04T00:24:55.546562Z"
    }
   },
   "outputs": [
    {
     "data": {
      "text/plain": [
       "(99441, 6)"
      ]
     },
     "execution_count": 28,
     "metadata": {},
     "output_type": "execute_result"
    }
   ],
   "source": [
    "clientes.shape"
   ]
  },
  {
   "cell_type": "code",
   "execution_count": 29,
   "id": "b8272af3",
   "metadata": {
    "ExecuteTime": {
     "end_time": "2022-10-04T00:26:06.494572Z",
     "start_time": "2022-10-04T00:26:06.378645Z"
    },
    "cell_style": "split"
   },
   "outputs": [
    {
     "name": "stdout",
     "output_type": "stream",
     "text": [
      "<class 'pandas.core.frame.DataFrame'>\n",
      "RangeIndex: 99441 entries, 0 to 99440\n",
      "Data columns (total 6 columns):\n",
      " #   Column                    Non-Null Count  Dtype \n",
      "---  ------                    --------------  ----- \n",
      " 0   Unnamed: 0                99441 non-null  int64 \n",
      " 1   customer_id               99441 non-null  object\n",
      " 2   customer_unique_id        99441 non-null  object\n",
      " 3   customer_zip_code_prefix  99441 non-null  int64 \n",
      " 4   customer_city             99441 non-null  object\n",
      " 5   customer_state            99441 non-null  object\n",
      "dtypes: int64(2), object(4)\n",
      "memory usage: 4.6+ MB\n"
     ]
    }
   ],
   "source": [
    "clientes.info()"
   ]
  },
  {
   "cell_type": "code",
   "execution_count": 30,
   "id": "1ece4498",
   "metadata": {
    "ExecuteTime": {
     "end_time": "2022-10-04T00:26:35.797548Z",
     "start_time": "2022-10-04T00:26:35.683398Z"
    },
    "cell_style": "split"
   },
   "outputs": [
    {
     "data": {
      "text/plain": [
       "Unnamed: 0                  0\n",
       "customer_id                 0\n",
       "customer_unique_id          0\n",
       "customer_zip_code_prefix    0\n",
       "customer_city               0\n",
       "customer_state              0\n",
       "dtype: int64"
      ]
     },
     "execution_count": 30,
     "metadata": {},
     "output_type": "execute_result"
    }
   ],
   "source": [
    "clientes.isnull().sum()"
   ]
  },
  {
   "cell_type": "code",
   "execution_count": 31,
   "id": "c319bd9d",
   "metadata": {
    "ExecuteTime": {
     "end_time": "2022-10-04T00:28:11.978854Z",
     "start_time": "2022-10-04T00:28:11.956828Z"
    }
   },
   "outputs": [
    {
     "data": {
      "text/plain": [
       "Index(['Unnamed: 0', 'customer_id', 'customer_unique_id',\n",
       "       'customer_zip_code_prefix', 'customer_city', 'customer_state'],\n",
       "      dtype='object')"
      ]
     },
     "execution_count": 31,
     "metadata": {},
     "output_type": "execute_result"
    }
   ],
   "source": [
    "clientes.columns"
   ]
  },
  {
   "cell_type": "markdown",
   "id": "fb45be56",
   "metadata": {
    "ExecuteTime": {
     "end_time": "2022-10-04T00:29:38.431171Z",
     "start_time": "2022-10-04T00:29:38.411184Z"
    }
   },
   "source": [
    "### Cidade"
   ]
  },
  {
   "cell_type": "code",
   "execution_count": 32,
   "id": "89378df0",
   "metadata": {
    "ExecuteTime": {
     "end_time": "2022-10-04T00:29:06.182762Z",
     "start_time": "2022-10-04T00:29:06.145751Z"
    }
   },
   "outputs": [
    {
     "data": {
      "text/plain": [
       "array(['franca', 'sao bernardo do campo', 'sao paulo', ...,\n",
       "       'monte bonito', 'sao rafael', 'eugenio de castro'], dtype=object)"
      ]
     },
     "execution_count": 32,
     "metadata": {},
     "output_type": "execute_result"
    }
   ],
   "source": [
    "clientes.customer_city.unique()"
   ]
  },
  {
   "cell_type": "markdown",
   "id": "a2b8795b",
   "metadata": {},
   "source": [
    "### Estado"
   ]
  },
  {
   "cell_type": "code",
   "execution_count": 34,
   "id": "b843b39c",
   "metadata": {
    "ExecuteTime": {
     "end_time": "2022-10-04T00:30:40.896158Z",
     "start_time": "2022-10-04T00:30:40.861179Z"
    }
   },
   "outputs": [
    {
     "data": {
      "text/plain": [
       "array(['SP', 'SC', 'MG', 'PR', 'RJ', 'RS', 'PA', 'GO', 'ES', 'BA', 'MA',\n",
       "       'MS', 'CE', 'DF', 'RN', 'PE', 'MT', 'AM', 'AP', 'AL', 'RO', 'PB',\n",
       "       'TO', 'PI', 'AC', 'SE', 'RR'], dtype=object)"
      ]
     },
     "execution_count": 34,
     "metadata": {},
     "output_type": "execute_result"
    }
   ],
   "source": [
    "clientes.customer_state.unique()"
   ]
  },
  {
   "cell_type": "code",
   "execution_count": 35,
   "id": "1dd429b4",
   "metadata": {
    "ExecuteTime": {
     "end_time": "2022-10-04T00:31:07.981358Z",
     "start_time": "2022-10-04T00:31:07.717673Z"
    }
   },
   "outputs": [
    {
     "data": {
      "text/html": [
       "<div>\n",
       "<style scoped>\n",
       "    .dataframe tbody tr th:only-of-type {\n",
       "        vertical-align: middle;\n",
       "    }\n",
       "\n",
       "    .dataframe tbody tr th {\n",
       "        vertical-align: top;\n",
       "    }\n",
       "\n",
       "    .dataframe thead th {\n",
       "        text-align: right;\n",
       "    }\n",
       "</style>\n",
       "<table border=\"1\" class=\"dataframe\">\n",
       "  <thead>\n",
       "    <tr style=\"text-align: right;\">\n",
       "      <th></th>\n",
       "      <th>customer_city</th>\n",
       "      <th>customer_id</th>\n",
       "    </tr>\n",
       "  </thead>\n",
       "  <tbody>\n",
       "    <tr>\n",
       "      <th>0</th>\n",
       "      <td>abadia dos dourados</td>\n",
       "      <td>3</td>\n",
       "    </tr>\n",
       "    <tr>\n",
       "      <th>1</th>\n",
       "      <td>abadiania</td>\n",
       "      <td>1</td>\n",
       "    </tr>\n",
       "    <tr>\n",
       "      <th>2</th>\n",
       "      <td>abaete</td>\n",
       "      <td>12</td>\n",
       "    </tr>\n",
       "    <tr>\n",
       "      <th>3</th>\n",
       "      <td>abaetetuba</td>\n",
       "      <td>11</td>\n",
       "    </tr>\n",
       "    <tr>\n",
       "      <th>4</th>\n",
       "      <td>abaiara</td>\n",
       "      <td>2</td>\n",
       "    </tr>\n",
       "    <tr>\n",
       "      <th>...</th>\n",
       "      <td>...</td>\n",
       "      <td>...</td>\n",
       "    </tr>\n",
       "    <tr>\n",
       "      <th>4114</th>\n",
       "      <td>xinguara</td>\n",
       "      <td>9</td>\n",
       "    </tr>\n",
       "    <tr>\n",
       "      <th>4115</th>\n",
       "      <td>xique-xique</td>\n",
       "      <td>3</td>\n",
       "    </tr>\n",
       "    <tr>\n",
       "      <th>4116</th>\n",
       "      <td>zacarias</td>\n",
       "      <td>2</td>\n",
       "    </tr>\n",
       "    <tr>\n",
       "      <th>4117</th>\n",
       "      <td>ze doca</td>\n",
       "      <td>5</td>\n",
       "    </tr>\n",
       "    <tr>\n",
       "      <th>4118</th>\n",
       "      <td>zortea</td>\n",
       "      <td>2</td>\n",
       "    </tr>\n",
       "  </tbody>\n",
       "</table>\n",
       "<p>4119 rows × 2 columns</p>\n",
       "</div>"
      ],
      "text/plain": [
       "            customer_city  customer_id\n",
       "0     abadia dos dourados            3\n",
       "1               abadiania            1\n",
       "2                  abaete           12\n",
       "3              abaetetuba           11\n",
       "4                 abaiara            2\n",
       "...                   ...          ...\n",
       "4114             xinguara            9\n",
       "4115          xique-xique            3\n",
       "4116             zacarias            2\n",
       "4117              ze doca            5\n",
       "4118               zortea            2\n",
       "\n",
       "[4119 rows x 2 columns]"
      ]
     },
     "execution_count": 35,
     "metadata": {},
     "output_type": "execute_result"
    }
   ],
   "source": [
    "clientes.groupby('customer_city').count()['customer_id'].reset_index()"
   ]
  },
  {
   "cell_type": "markdown",
   "id": "c77c1845",
   "metadata": {},
   "source": [
    "## Geocalização"
   ]
  },
  {
   "cell_type": "code",
   "execution_count": 37,
   "id": "1ea63be3",
   "metadata": {
    "ExecuteTime": {
     "end_time": "2022-10-04T00:41:59.548527Z",
     "start_time": "2022-10-04T00:41:59.523539Z"
    }
   },
   "outputs": [
    {
     "data": {
      "text/plain": [
       "(1000163, 6)"
      ]
     },
     "execution_count": 37,
     "metadata": {},
     "output_type": "execute_result"
    }
   ],
   "source": [
    "geolocal.shape"
   ]
  },
  {
   "cell_type": "code",
   "execution_count": 38,
   "id": "994baab9",
   "metadata": {
    "ExecuteTime": {
     "end_time": "2022-10-04T00:42:26.959650Z",
     "start_time": "2022-10-04T00:42:26.475815Z"
    },
    "cell_style": "split"
   },
   "outputs": [
    {
     "name": "stdout",
     "output_type": "stream",
     "text": [
      "<class 'pandas.core.frame.DataFrame'>\n",
      "RangeIndex: 1000163 entries, 0 to 1000162\n",
      "Data columns (total 6 columns):\n",
      " #   Column                       Non-Null Count    Dtype  \n",
      "---  ------                       --------------    -----  \n",
      " 0   Unnamed: 0                   1000163 non-null  int64  \n",
      " 1   geolocation_zip_code_prefix  1000163 non-null  int64  \n",
      " 2   geolocation_lat              1000163 non-null  float64\n",
      " 3   geolocation_lng              1000163 non-null  float64\n",
      " 4   geolocation_city             1000163 non-null  object \n",
      " 5   geolocation_state            1000163 non-null  object \n",
      "dtypes: float64(2), int64(2), object(2)\n",
      "memory usage: 45.8+ MB\n"
     ]
    }
   ],
   "source": [
    "geolocal.info()"
   ]
  },
  {
   "cell_type": "code",
   "execution_count": 39,
   "id": "a45e8bf4",
   "metadata": {
    "ExecuteTime": {
     "end_time": "2022-10-04T00:42:47.203524Z",
     "start_time": "2022-10-04T00:42:47.092757Z"
    },
    "cell_style": "split"
   },
   "outputs": [
    {
     "data": {
      "text/plain": [
       "Unnamed: 0                  0\n",
       "customer_id                 0\n",
       "customer_unique_id          0\n",
       "customer_zip_code_prefix    0\n",
       "customer_city               0\n",
       "customer_state              0\n",
       "dtype: int64"
      ]
     },
     "execution_count": 39,
     "metadata": {},
     "output_type": "execute_result"
    }
   ],
   "source": [
    "clientes.isnull().sum()"
   ]
  },
  {
   "cell_type": "code",
   "execution_count": 41,
   "id": "cc8514df",
   "metadata": {
    "ExecuteTime": {
     "end_time": "2022-10-04T00:43:09.735137Z",
     "start_time": "2022-10-04T00:43:09.714148Z"
    }
   },
   "outputs": [
    {
     "data": {
      "text/plain": [
       "Index(['Unnamed: 0', 'geolocation_zip_code_prefix', 'geolocation_lat',\n",
       "       'geolocation_lng', 'geolocation_city', 'geolocation_state'],\n",
       "      dtype='object')"
      ]
     },
     "execution_count": 41,
     "metadata": {},
     "output_type": "execute_result"
    }
   ],
   "source": [
    "geolocal.columns"
   ]
  },
  {
   "cell_type": "code",
   "execution_count": 42,
   "id": "2106a35e",
   "metadata": {
    "ExecuteTime": {
     "end_time": "2022-10-04T00:43:31.157410Z",
     "start_time": "2022-10-04T00:43:31.058470Z"
    }
   },
   "outputs": [
    {
     "data": {
      "text/plain": [
       "sao paulo               135800\n",
       "rio de janeiro           62151\n",
       "belo horizonte           27805\n",
       "são paulo                24918\n",
       "curitiba                 16593\n",
       "                         ...  \n",
       "jacuípe                      1\n",
       "mar vermelho                 1\n",
       "quebrangulo                  1\n",
       "poço das trincheiras         1\n",
       "poxim                        1\n",
       "Name: geolocation_city, Length: 8011, dtype: int64"
      ]
     },
     "execution_count": 42,
     "metadata": {},
     "output_type": "execute_result"
    }
   ],
   "source": [
    "geolocal['geolocation_city'].value_counts()"
   ]
  },
  {
   "cell_type": "markdown",
   "id": "732c3219",
   "metadata": {},
   "source": [
    "# Analisando dados ausentes - DataFrame original"
   ]
  },
  {
   "cell_type": "code",
   "execution_count": 60,
   "id": "5771edfc",
   "metadata": {
    "ExecuteTime": {
     "end_time": "2022-09-29T23:10:54.354277Z",
     "start_time": "2022-09-29T23:10:29.157376Z"
    }
   },
   "outputs": [
    {
     "data": {
      "text/html": [
       "<div>\n",
       "<style scoped>\n",
       "    .dataframe tbody tr th:only-of-type {\n",
       "        vertical-align: middle;\n",
       "    }\n",
       "\n",
       "    .dataframe tbody tr th {\n",
       "        vertical-align: top;\n",
       "    }\n",
       "\n",
       "    .dataframe thead th {\n",
       "        text-align: right;\n",
       "    }\n",
       "</style>\n",
       "<table border=\"1\" class=\"dataframe\">\n",
       "  <thead>\n",
       "    <tr style=\"text-align: right;\">\n",
       "      <th></th>\n",
       "      <th>Total</th>\n",
       "      <th>Percent</th>\n",
       "    </tr>\n",
       "  </thead>\n",
       "  <tbody>\n",
       "    <tr>\n",
       "      <th>seller_state</th>\n",
       "      <td>1547756</td>\n",
       "      <td>0.996017</td>\n",
       "    </tr>\n",
       "    <tr>\n",
       "      <th>seller_city</th>\n",
       "      <td>1547756</td>\n",
       "      <td>0.996017</td>\n",
       "    </tr>\n",
       "    <tr>\n",
       "      <th>seller_zip_code_prefix</th>\n",
       "      <td>1547756</td>\n",
       "      <td>0.996017</td>\n",
       "    </tr>\n",
       "    <tr>\n",
       "      <th>review_comment_title</th>\n",
       "      <td>1542378</td>\n",
       "      <td>0.992556</td>\n",
       "    </tr>\n",
       "    <tr>\n",
       "      <th>product_photos_qty</th>\n",
       "      <td>1521605</td>\n",
       "      <td>0.979188</td>\n",
       "    </tr>\n",
       "  </tbody>\n",
       "</table>\n",
       "</div>"
      ],
      "text/plain": [
       "                          Total   Percent\n",
       "seller_state            1547756  0.996017\n",
       "seller_city             1547756  0.996017\n",
       "seller_zip_code_prefix  1547756  0.996017\n",
       "review_comment_title    1542378  0.992556\n",
       "product_photos_qty      1521605  0.979188"
      ]
     },
     "execution_count": 60,
     "metadata": {},
     "output_type": "execute_result"
    }
   ],
   "source": [
    "total = df.isnull().sum().sort_values(ascending=False)\n",
    "percent = (df.isnull().sum()/df.isnull().count()).sort_values(ascending=False)\n",
    "missing = pd.concat([total, percent], axis=1, keys=['Total', 'Percent'])\n",
    "missing.head()"
   ]
  },
  {
   "cell_type": "markdown",
   "id": "53e78684",
   "metadata": {},
   "source": [
    "## Transformando Datetime (ordens)"
   ]
  },
  {
   "cell_type": "code",
   "execution_count": null,
   "id": "5fe5eb3a",
   "metadata": {},
   "outputs": [],
   "source": [
    "times_cols = ['order_purchase_timestamp', 'order_approved_at', 'order_delivered_carrier_date', 'order_estimated_delivery_date', 'order_delivered_customer_date']\n",
    "for col in times_cols:\n",
    "    ordens[col] = pd.to_datetime(ordens[col])\n"
   ]
  },
  {
   "cell_type": "markdown",
   "id": "4940f4fc",
   "metadata": {
    "ExecuteTime": {
     "end_time": "2022-09-29T23:03:23.750869Z",
     "start_time": "2022-09-29T23:03:23.743874Z"
    }
   },
   "source": [
    "## Fazendo Drop colunas"
   ]
  },
  {
   "cell_type": "markdown",
   "id": "8d9882ad",
   "metadata": {},
   "source": [
    "Opção para drop em colunas com percentual de numeros ausentes superior a 97% dos dados"
   ]
  },
  {
   "cell_type": "code",
   "execution_count": 61,
   "id": "f7e9fd12",
   "metadata": {
    "ExecuteTime": {
     "end_time": "2022-09-29T23:10:55.438686Z",
     "start_time": "2022-09-29T23:10:54.913951Z"
    }
   },
   "outputs": [],
   "source": [
    "df.drop(['seller_state', 'seller_city', 'seller_zip_code_prefix', 'review_comment_title', 'product_photos_qty'],axis=1, inplace=True)"
   ]
  },
  {
   "cell_type": "markdown",
   "id": "88ff785e",
   "metadata": {},
   "source": [
    "Dropando as colunas 'review_comment_title', 'review_comment_message'"
   ]
  },
  {
   "cell_type": "code",
   "execution_count": null,
   "id": "990cd799",
   "metadata": {
    "ExecuteTime": {
     "end_time": "2022-10-04T00:38:45.498653Z",
     "start_time": "2022-10-04T00:38:38.253904Z"
    }
   },
   "outputs": [],
   "source": [
    "avaliacoes.drop(['review_comment_title', 'review_comment_message'],axis=1, inplace=True)\n",
    "\n",
    "'''Após a limpeza o dataframe possui 99224 linhas e 5 colunas (review_id,order_id,review_score,\n",
    " review_creation_date,review_answer_timestamp) '''   "
   ]
  },
  {
   "cell_type": "markdown",
   "id": "5e8857e5",
   "metadata": {},
   "source": [
    "## Fazendo Drop Duplicates"
   ]
  },
  {
   "cell_type": "code",
   "execution_count": null,
   "id": "2799074d",
   "metadata": {},
   "outputs": [],
   "source": [
    "geolocal.drop_duplicates(inplace=True)"
   ]
  },
  {
   "cell_type": "markdown",
   "id": "81b8ebc6",
   "metadata": {
    "ExecuteTime": {
     "end_time": "2022-10-04T00:48:45.001445Z",
     "start_time": "2022-10-04T00:48:44.984458Z"
    }
   },
   "source": [
    "## Dropando linhas em nulo"
   ]
  },
  {
   "cell_type": "code",
   "execution_count": null,
   "id": "2fc572f5",
   "metadata": {},
   "outputs": [],
   "source": [
    "produtos.dropna(inplace=True)"
   ]
  },
  {
   "cell_type": "code",
   "execution_count": null,
   "id": "2d3e74cc",
   "metadata": {},
   "outputs": [],
   "source": [
    "produtos.drop(['product_name_lenght', 'product_description_lenght', 'product_photos_qty'],axis=1, inplace=True)"
   ]
  },
  {
   "cell_type": "markdown",
   "id": "65d4850b",
   "metadata": {},
   "source": [
    "## Tratando linhas nulas(ordens)"
   ]
  },
  {
   "cell_type": "markdown",
   "id": "7fd653a1",
   "metadata": {},
   "source": [
    "Convertendo linhas nulas por informações próximas"
   ]
  },
  {
   "cell_type": "code",
   "execution_count": null,
   "id": "2c733098",
   "metadata": {},
   "outputs": [],
   "source": [
    "ordens[\"order_approved_at\"].fillna(ordens[\"order_purchase_timestamp\"], inplace=True)\n",
    "ordens[\"order_delivered_customer_date\"].fillna(ordens[\"order_estimated_delivery_date\"], inplace=True)\n",
    "ordens[\"order_delivered_carrier_date\"].fillna(ordens[\"order_delivered_customer_date\"], inplace=True)"
   ]
  },
  {
   "cell_type": "code",
   "execution_count": 62,
   "id": "a7beb290",
   "metadata": {
    "ExecuteTime": {
     "end_time": "2022-09-29T23:11:14.318337Z",
     "start_time": "2022-09-29T23:11:07.155575Z"
    }
   },
   "outputs": [
    {
     "name": "stdout",
     "output_type": "stream",
     "text": [
      "<class 'pandas.core.frame.DataFrame'>\n",
      "RangeIndex: 1553946 entries, 0 to 1553945\n",
      "Data columns (total 39 columns):\n",
      " #   Column                         Non-Null Count    Dtype  \n",
      "---  ------                         --------------    -----  \n",
      " 0   customer_id                    198882 non-null   object \n",
      " 1   customer_unique_id             99441 non-null    object \n",
      " 2   customer_zip_code_prefix       99441 non-null    float64\n",
      " 3   customer_city                  99441 non-null    object \n",
      " 4   customer_state                 99441 non-null    object \n",
      " 5   geolocation_zip_code_prefix    1000163 non-null  float64\n",
      " 6   geolocation_lat                1000163 non-null  float64\n",
      " 7   geolocation_lng                1000163 non-null  float64\n",
      " 8   geolocation_city               1000163 non-null  object \n",
      " 9   geolocation_state              1000163 non-null  object \n",
      " 10  order_id                       415201 non-null   object \n",
      " 11  order_status                   99441 non-null    object \n",
      " 12  order_purchase_timestamp       99441 non-null    object \n",
      " 13  order_approved_at              99281 non-null    object \n",
      " 14  order_delivered_carrier_date   97658 non-null    object \n",
      " 15  order_delivered_customer_date  96476 non-null    object \n",
      " 16  order_estimated_delivery_date  99441 non-null    object \n",
      " 17  order_item_id                  112650 non-null   float64\n",
      " 18  product_id                     145601 non-null   object \n",
      " 19  seller_id                      118840 non-null   object \n",
      " 20  shipping_limit_date            112650 non-null   object \n",
      " 21  price                          112650 non-null   float64\n",
      " 22  freight_value                  112650 non-null   float64\n",
      " 23  payment_sequential             103886 non-null   float64\n",
      " 24  payment_type                   103886 non-null   object \n",
      " 25  payment_installments           103886 non-null   float64\n",
      " 26  payment_value                  103886 non-null   float64\n",
      " 27  review_id                      99224 non-null    object \n",
      " 28  review_score                   99224 non-null    float64\n",
      " 29  review_comment_message         40977 non-null    object \n",
      " 30  review_creation_date           99224 non-null    object \n",
      " 31  review_answer_timestamp        99224 non-null    object \n",
      " 32  product_category_name          32341 non-null    object \n",
      " 33  product_name_lenght            32341 non-null    float64\n",
      " 34  product_description_lenght     32341 non-null    float64\n",
      " 35  product_weight_g               32949 non-null    float64\n",
      " 36  product_length_cm              32949 non-null    float64\n",
      " 37  product_height_cm              32949 non-null    float64\n",
      " 38  product_width_cm               32949 non-null    float64\n",
      "dtypes: float64(17), object(22)\n",
      "memory usage: 462.4+ MB\n"
     ]
    }
   ],
   "source": [
    "df.info()"
   ]
  },
  {
   "cell_type": "markdown",
   "id": "4376c6f5",
   "metadata": {},
   "source": [
    "## Gráficos"
   ]
  },
  {
   "cell_type": "code",
   "execution_count": 56,
   "id": "3497b506",
   "metadata": {
    "ExecuteTime": {
     "end_time": "2022-10-04T00:58:12.647481Z",
     "start_time": "2022-10-04T00:58:10.837513Z"
    }
   },
   "outputs": [
    {
     "data": {
      "image/png": "[encoded data removed]",
      "text/plain": [
       "<Figure size 1000x600 with 1 Axes>"
      ]
     },
     "metadata": {},
     "output_type": "display_data"
    }
   ],
   "source": [
    "plt.figure(figsize=(10,6))\n",
    "sns.set_style(\"whitegrid\")\n",
    "ax = clientes.customer_state.value_counts().sort_values(ascending=False)[0:10].plot(kind='bar', color = 'grey', alpha=0.8)\n",
    "ax.set_title(\"Top 10 - Estados consumidores do Brasil\")\n",
    "ax.set_xlabel(\"States\")\n",
    "plt.xticks(rotation=35)\n",
    "ax.set_ylabel(\"Nº de consumidores\")\n",
    "plt.show()"
   ]
  },
  {
   "cell_type": "markdown",
   "id": "4e1bdf9d",
   "metadata": {},
   "source": [
    "## Pipeline"
   ]
  },
  {
   "cell_type": "code",
   "execution_count": 15,
   "id": "82f3fa9b",
   "metadata": {
    "ExecuteTime": {
     "end_time": "2022-09-29T21:31:58.803214Z",
     "start_time": "2022-09-29T21:31:58.783220Z"
    }
   },
   "outputs": [],
   "source": [
    "from sklearn.pipeline import Pipeline\n",
    "from sklearn.ensemble import GradientBoostingClassifier\n",
    "import sklearn\n",
    "from sklearn.preprocessing import StandardScaler"
   ]
  },
  {
   "cell_type": "code",
   "execution_count": 17,
   "id": "0a1a3c31",
   "metadata": {
    "ExecuteTime": {
     "end_time": "2022-09-29T21:32:12.240881Z",
     "start_time": "2022-09-29T21:32:12.224890Z"
    }
   },
   "outputs": [],
   "source": [
    "scaler = StandardScaler()"
   ]
  },
  {
   "cell_type": "code",
   "execution_count": null,
   "id": "af161bd0",
   "metadata": {},
   "outputs": [],
   "source": []
  },
  {
   "cell_type": "code",
   "execution_count": null,
   "id": "e593c6a4",
   "metadata": {},
   "outputs": [],
   "source": []
  },
  {
   "cell_type": "markdown",
   "id": "3bba0cd3",
   "metadata": {},
   "source": [
    "## Localização"
   ]
  },
  {
   "cell_type": "code",
   "execution_count": null,
   "id": "5f57a152",
   "metadata": {},
   "outputs": [],
   "source": [
    "from opencage.geocoder import OpenCageGeocode\n"
   ]
  }
 ],
 "metadata": {
  "kernelspec": {
   "display_name": "pycaret",
   "language": "python",
   "name": "pycaret"
  },
  "language_info": {
   "codemirror_mode": {
    "name": "ipython",
    "version": 3
   },
   "file_extension": ".py",
   "mimetype": "text/x-python",
   "name": "python",
   "nbconvert_exporter": "python",
   "pygments_lexer": "ipython3",
   "version": "3.8.13"
  },
  "nbTranslate": {
   "displayLangs": [
    "*"
   ],
   "hotkey": "alt-t",
   "langInMainMenu": true,
   "sourceLang": "en",
   "targetLang": "fr",
   "useGoogleTranslate": true
  },
  "toc": {
   "base_numbering": 1,
   "nav_menu": {},
   "number_sections": true,
   "sideBar": true,
   "skip_h1_title": false,
   "title_cell": "Table of Contents",
   "title_sidebar": "Contents",
   "toc_cell": false,
   "toc_position": {},
   "toc_section_display": true,
   "toc_window_display": false
  },
  "varInspector": {
   "cols": {
    "lenName": 16,
    "lenType": 16,
    "lenVar": 40
   },
   "kernels_config": {
    "python": {
     "delete_cmd_postfix": "",
     "delete_cmd_prefix": "del ",
     "library": "var_list.py",
     "varRefreshCmd": "print(var_dic_list())"
    },
    "r": {
     "delete_cmd_postfix": ") ",
     "delete_cmd_prefix": "rm(",
     "library": "var_list.r",
     "varRefreshCmd": "cat(var_dic_list()) "
    }
   },
   "types_to_exclude": [
    "module",
    "function",
    "builtin_function_or_method",
    "instance",
    "_Feature"
   ],
   "window_display": false
  }
 },
 "nbformat": 4,
 "nbformat_minor": 5
}
