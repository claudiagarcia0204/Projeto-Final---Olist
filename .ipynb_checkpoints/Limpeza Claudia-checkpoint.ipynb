{
 "cells": [
  {
   "cell_type": "code",
   "execution_count": 3,
   "id": "d3b4aacc",
   "metadata": {
    "ExecuteTime": {
     "end_time": "2022-10-04T13:56:30.203794Z",
     "start_time": "2022-10-04T13:56:29.566911Z"
    }
   },
   "outputs": [],
   "source": [
    "import pandas as pd\n",
    "import numpy as np\n",
    "import os\n",
    "import re\n",
    "from sklearn.linear_model import LinearRegression\n",
    "import seaborn as sns\n",
    "import glob\n",
    "import pandas as pd\n"
   ]
  },
  {
   "cell_type": "markdown",
   "id": "16e64105",
   "metadata": {},
   "source": [
    "## Vendedores - Seller"
   ]
  },
  {
   "cell_type": "code",
   "execution_count": 4,
   "id": "4e2306bf",
   "metadata": {
    "ExecuteTime": {
     "end_time": "2022-10-04T13:56:36.090922Z",
     "start_time": "2022-10-04T13:56:31.270429Z"
    }
   },
   "outputs": [],
   "source": [
    "vendedores = pd.read_csv(\"data\\olist_sellers_dataset.csv\") #seller\n",
    "\n",
    "# tabela de vendedores 3095 linhas  4 colunas ('seller_id', 'seller_zip_code_prefix', 'seller_city', 'seller_state')"
   ]
  },
  {
   "cell_type": "code",
   "execution_count": 11,
   "id": "2bf58c36",
   "metadata": {
    "ExecuteTime": {
     "end_time": "2022-10-03T12:58:04.554866Z",
     "start_time": "2022-10-03T12:58:04.513891Z"
    },
    "cell_style": "split"
   },
   "outputs": [
    {
     "name": "stdout",
     "output_type": "stream",
     "text": [
      "<class 'pandas.core.frame.DataFrame'>\n",
      "RangeIndex: 3095 entries, 0 to 3094\n",
      "Data columns (total 4 columns):\n",
      " #   Column                  Non-Null Count  Dtype \n",
      "---  ------                  --------------  ----- \n",
      " 0   seller_id               3095 non-null   object\n",
      " 1   seller_zip_code_prefix  3095 non-null   int64 \n",
      " 2   seller_city             3095 non-null   object\n",
      " 3   seller_state            3095 non-null   object\n",
      "dtypes: int64(1), object(3)\n",
      "memory usage: 96.8+ KB\n"
     ]
    }
   ],
   "source": [
    "vendedores.info()"
   ]
  },
  {
   "cell_type": "code",
   "execution_count": 17,
   "id": "8960f4e8",
   "metadata": {
    "ExecuteTime": {
     "end_time": "2022-10-03T13:19:08.271800Z",
     "start_time": "2022-10-03T13:19:08.236822Z"
    },
    "cell_style": "split"
   },
   "outputs": [
    {
     "data": {
      "text/plain": [
       "seller_id                 0\n",
       "seller_zip_code_prefix    0\n",
       "seller_city               0\n",
       "seller_state              0\n",
       "dtype: int64"
      ]
     },
     "execution_count": 17,
     "metadata": {},
     "output_type": "execute_result"
    }
   ],
   "source": [
    "vendedores.isnull().sum()"
   ]
  },
  {
   "cell_type": "code",
   "execution_count": 13,
   "id": "8de78c6e",
   "metadata": {
    "ExecuteTime": {
     "end_time": "2022-10-03T12:58:41.291817Z",
     "start_time": "2022-10-03T12:58:41.273825Z"
    },
    "cell_style": "center"
   },
   "outputs": [
    {
     "data": {
      "text/plain": [
       "Index(['seller_id', 'seller_zip_code_prefix', 'seller_city', 'seller_state'], dtype='object')"
      ]
     },
     "execution_count": 13,
     "metadata": {},
     "output_type": "execute_result"
    }
   ],
   "source": [
    "vendedores.columns"
   ]
  },
  {
   "cell_type": "code",
   "execution_count": 16,
   "id": "f743f26c",
   "metadata": {
    "ExecuteTime": {
     "end_time": "2022-10-03T13:17:57.271771Z",
     "start_time": "2022-10-03T13:17:57.259778Z"
    }
   },
   "outputs": [
    {
     "name": "stdout",
     "output_type": "stream",
     "text": [
      "Nº total de vendedores exclusivos: 3095\n"
     ]
    }
   ],
   "source": [
    "print(\"Nº total de vendedores exclusivos:\",len((vendedores.seller_id).unique()))"
   ]
  },
  {
   "cell_type": "code",
   "execution_count": 86,
   "id": "35c82510",
   "metadata": {
    "ExecuteTime": {
     "end_time": "2022-10-03T17:05:14.456845Z",
     "start_time": "2022-10-03T17:05:14.124585Z"
    }
   },
   "outputs": [],
   "source": [
    "vendedores.to_csv('vendedores.csv')"
   ]
  },
  {
   "cell_type": "code",
   "execution_count": 90,
   "id": "8da3d0f3",
   "metadata": {
    "ExecuteTime": {
     "end_time": "2022-10-03T17:53:59.812454Z",
     "start_time": "2022-10-03T17:53:59.795466Z"
    }
   },
   "outputs": [
    {
     "data": {
      "text/plain": [
       "(3095, 4)"
      ]
     },
     "execution_count": 90,
     "metadata": {},
     "output_type": "execute_result"
    }
   ],
   "source": [
    "vendedores.shape"
   ]
  },
  {
   "cell_type": "markdown",
   "id": "2a638a59",
   "metadata": {},
   "source": [
    "## Pagamentos - payments"
   ]
  },
  {
   "cell_type": "code",
   "execution_count": 22,
   "id": "b6682736",
   "metadata": {
    "ExecuteTime": {
     "end_time": "2022-10-03T13:28:57.342304Z",
     "start_time": "2022-10-03T13:28:57.100454Z"
    }
   },
   "outputs": [],
   "source": [
    "pagamentos = pd.read_csv(\"data\\olist_order_payments_dataset.csv\") #payments\n",
    "\n",
    "\n",
    "# tabela de pagamentos 103886 linhas  5 colunas ('order_id', 'payment_sequential', 'payment_type','payment_installments', 'payment_value')"
   ]
  },
  {
   "cell_type": "code",
   "execution_count": 19,
   "id": "88e27b8b",
   "metadata": {
    "ExecuteTime": {
     "end_time": "2022-10-03T13:27:55.354507Z",
     "start_time": "2022-10-03T13:27:55.267517Z"
    },
    "cell_style": "split"
   },
   "outputs": [
    {
     "name": "stdout",
     "output_type": "stream",
     "text": [
      "<class 'pandas.core.frame.DataFrame'>\n",
      "RangeIndex: 103886 entries, 0 to 103885\n",
      "Data columns (total 5 columns):\n",
      " #   Column                Non-Null Count   Dtype  \n",
      "---  ------                --------------   -----  \n",
      " 0   order_id              103886 non-null  object \n",
      " 1   payment_sequential    103886 non-null  int64  \n",
      " 2   payment_type          103886 non-null  object \n",
      " 3   payment_installments  103886 non-null  int64  \n",
      " 4   payment_value         103886 non-null  float64\n",
      "dtypes: float64(1), int64(2), object(2)\n",
      "memory usage: 4.0+ MB\n"
     ]
    }
   ],
   "source": [
    "pagamentos.info()"
   ]
  },
  {
   "cell_type": "code",
   "execution_count": 20,
   "id": "e8c17c2a",
   "metadata": {
    "ExecuteTime": {
     "end_time": "2022-10-03T13:28:08.240465Z",
     "start_time": "2022-10-03T13:28:08.172956Z"
    },
    "cell_style": "split",
    "scrolled": true
   },
   "outputs": [
    {
     "data": {
      "text/plain": [
       "order_id                0\n",
       "payment_sequential      0\n",
       "payment_type            0\n",
       "payment_installments    0\n",
       "payment_value           0\n",
       "dtype: int64"
      ]
     },
     "execution_count": 20,
     "metadata": {},
     "output_type": "execute_result"
    }
   ],
   "source": [
    "pagamentos.isnull().sum()"
   ]
  },
  {
   "cell_type": "code",
   "execution_count": 21,
   "id": "a2fa04ca",
   "metadata": {
    "ExecuteTime": {
     "end_time": "2022-10-03T13:28:19.173461Z",
     "start_time": "2022-10-03T13:28:19.149475Z"
    },
    "cell_style": "center"
   },
   "outputs": [
    {
     "data": {
      "text/plain": [
       "Index(['order_id', 'payment_sequential', 'payment_type',\n",
       "       'payment_installments', 'payment_value'],\n",
       "      dtype='object')"
      ]
     },
     "execution_count": 21,
     "metadata": {},
     "output_type": "execute_result"
    }
   ],
   "source": [
    "pagamentos.columns"
   ]
  },
  {
   "cell_type": "code",
   "execution_count": 26,
   "id": "8ec87723",
   "metadata": {
    "ExecuteTime": {
     "end_time": "2022-10-03T13:34:45.465545Z",
     "start_time": "2022-10-03T13:34:45.426570Z"
    }
   },
   "outputs": [
    {
     "data": {
      "text/plain": [
       "payment_type\n",
       "boleto         19784\n",
       "credit_card    76795\n",
       "debit_card      1529\n",
       "not_defined        3\n",
       "voucher         5775\n",
       "dtype: int64"
      ]
     },
     "execution_count": 26,
     "metadata": {},
     "output_type": "execute_result"
    }
   ],
   "source": [
    "pagamentos.groupby('payment_type').size()"
   ]
  },
  {
   "cell_type": "code",
   "execution_count": 41,
   "id": "f11f31a3",
   "metadata": {
    "ExecuteTime": {
     "end_time": "2022-10-03T14:08:57.214817Z",
     "start_time": "2022-10-03T14:08:57.114501Z"
    }
   },
   "outputs": [
    {
     "data": {
      "text/html": [
       "<div>\n",
       "<style scoped>\n",
       "    .dataframe tbody tr th:only-of-type {\n",
       "        vertical-align: middle;\n",
       "    }\n",
       "\n",
       "    .dataframe tbody tr th {\n",
       "        vertical-align: top;\n",
       "    }\n",
       "\n",
       "    .dataframe thead th {\n",
       "        text-align: right;\n",
       "    }\n",
       "</style>\n",
       "<table border=\"1\" class=\"dataframe\">\n",
       "  <thead>\n",
       "    <tr style=\"text-align: right;\">\n",
       "      <th></th>\n",
       "      <th>order_id</th>\n",
       "      <th>payment_sequential</th>\n",
       "      <th>payment_type</th>\n",
       "      <th>payment_installments</th>\n",
       "      <th>payment_value</th>\n",
       "    </tr>\n",
       "  </thead>\n",
       "  <tbody>\n",
       "    <tr>\n",
       "      <th>51280</th>\n",
       "      <td>4637ca194b6387e2d538dc89b124b0ee</td>\n",
       "      <td>1</td>\n",
       "      <td>not_defined</td>\n",
       "      <td>1</td>\n",
       "      <td>0.0</td>\n",
       "    </tr>\n",
       "    <tr>\n",
       "      <th>57411</th>\n",
       "      <td>00b1cb0320190ca0daa2c88b35206009</td>\n",
       "      <td>1</td>\n",
       "      <td>not_defined</td>\n",
       "      <td>1</td>\n",
       "      <td>0.0</td>\n",
       "    </tr>\n",
       "    <tr>\n",
       "      <th>94427</th>\n",
       "      <td>c8c528189310eaa44a745b8d9d26908b</td>\n",
       "      <td>1</td>\n",
       "      <td>not_defined</td>\n",
       "      <td>1</td>\n",
       "      <td>0.0</td>\n",
       "    </tr>\n",
       "  </tbody>\n",
       "</table>\n",
       "</div>"
      ],
      "text/plain": [
       "                               order_id  payment_sequential payment_type  \\\n",
       "51280  4637ca194b6387e2d538dc89b124b0ee                   1  not_defined   \n",
       "57411  00b1cb0320190ca0daa2c88b35206009                   1  not_defined   \n",
       "94427  c8c528189310eaa44a745b8d9d26908b                   1  not_defined   \n",
       "\n",
       "       payment_installments  payment_value  \n",
       "51280                     1            0.0  \n",
       "57411                     1            0.0  \n",
       "94427                     1            0.0  "
      ]
     },
     "execution_count": 41,
     "metadata": {},
     "output_type": "execute_result"
    }
   ],
   "source": [
    "pagamentos.loc[pagamentos['payment_type']=='not_defined']"
   ]
  },
  {
   "cell_type": "code",
   "execution_count": 51,
   "id": "8fba550b",
   "metadata": {
    "ExecuteTime": {
     "end_time": "2022-10-03T14:21:02.857432Z",
     "start_time": "2022-10-03T14:21:02.807438Z"
    }
   },
   "outputs": [],
   "source": [
    "pagamentos.drop(index=pagamentos.loc[pagamentos['payment_type']=='not_defined'].index, inplace=True)"
   ]
  },
  {
   "cell_type": "code",
   "execution_count": 53,
   "id": "4b1e45bc",
   "metadata": {
    "ExecuteTime": {
     "end_time": "2022-10-03T14:22:02.108215Z",
     "start_time": "2022-10-03T14:22:02.070238Z"
    }
   },
   "outputs": [
    {
     "data": {
      "text/plain": [
       "credit_card    76795\n",
       "boleto         19784\n",
       "voucher         5775\n",
       "debit_card      1529\n",
       "Name: payment_type, dtype: int64"
      ]
     },
     "execution_count": 53,
     "metadata": {},
     "output_type": "execute_result"
    }
   ],
   "source": [
    "pagamentos['payment_type'].value_counts()"
   ]
  },
  {
   "cell_type": "code",
   "execution_count": 87,
   "id": "407ff279",
   "metadata": {
    "ExecuteTime": {
     "end_time": "2022-10-03T17:05:39.107068Z",
     "start_time": "2022-10-03T17:05:38.288020Z"
    }
   },
   "outputs": [],
   "source": [
    "pagamentos.to_csv('pagamentos.csv')"
   ]
  },
  {
   "cell_type": "code",
   "execution_count": 89,
   "id": "167c75d4",
   "metadata": {
    "ExecuteTime": {
     "end_time": "2022-10-03T17:52:42.720493Z",
     "start_time": "2022-10-03T17:52:42.701505Z"
    }
   },
   "outputs": [
    {
     "data": {
      "text/plain": [
       "(103883, 5)"
      ]
     },
     "execution_count": 89,
     "metadata": {},
     "output_type": "execute_result"
    }
   ],
   "source": [
    "pagamentos.shape"
   ]
  },
  {
   "cell_type": "markdown",
   "id": "2fc803fd",
   "metadata": {},
   "source": [
    "## Clientes - customers"
   ]
  },
  {
   "cell_type": "code",
   "execution_count": 76,
   "id": "1c8cfcd7",
   "metadata": {
    "ExecuteTime": {
     "end_time": "2022-10-03T15:16:45.774682Z",
     "start_time": "2022-10-03T15:16:45.361944Z"
    }
   },
   "outputs": [],
   "source": [
    "clientes = pd.read_csv(\"data\\olist_customers_dataset.csv\") #customers\n",
    "\n",
    "# tabela de clientes 99441 linhas  5 colunas ('customer_id', 'customer_unique_id', 'customer_zip_code_prefix','customer_city', 'customer_state')"
   ]
  },
  {
   "cell_type": "code",
   "execution_count": 77,
   "id": "3603e86c",
   "metadata": {
    "ExecuteTime": {
     "end_time": "2022-10-03T15:16:47.846209Z",
     "start_time": "2022-10-03T15:16:47.617340Z"
    },
    "cell_style": "split"
   },
   "outputs": [
    {
     "name": "stdout",
     "output_type": "stream",
     "text": [
      "<class 'pandas.core.frame.DataFrame'>\n",
      "RangeIndex: 99441 entries, 0 to 99440\n",
      "Data columns (total 5 columns):\n",
      " #   Column                    Non-Null Count  Dtype \n",
      "---  ------                    --------------  ----- \n",
      " 0   customer_id               99441 non-null  object\n",
      " 1   customer_unique_id        99441 non-null  object\n",
      " 2   customer_zip_code_prefix  99441 non-null  int64 \n",
      " 3   customer_city             99441 non-null  object\n",
      " 4   customer_state            99441 non-null  object\n",
      "dtypes: int64(1), object(4)\n",
      "memory usage: 3.8+ MB\n"
     ]
    }
   ],
   "source": [
    "clientes.info()"
   ]
  },
  {
   "cell_type": "code",
   "execution_count": 78,
   "id": "40fb1741",
   "metadata": {
    "ExecuteTime": {
     "end_time": "2022-10-03T15:16:49.106916Z",
     "start_time": "2022-10-03T15:16:48.889052Z"
    },
    "cell_style": "split",
    "scrolled": true
   },
   "outputs": [
    {
     "data": {
      "text/plain": [
       "customer_id                 0\n",
       "customer_unique_id          0\n",
       "customer_zip_code_prefix    0\n",
       "customer_city               0\n",
       "customer_state              0\n",
       "dtype: int64"
      ]
     },
     "execution_count": 78,
     "metadata": {},
     "output_type": "execute_result"
    }
   ],
   "source": [
    "clientes.isnull().sum()"
   ]
  },
  {
   "cell_type": "code",
   "execution_count": 79,
   "id": "27c87889",
   "metadata": {
    "ExecuteTime": {
     "end_time": "2022-10-03T15:16:52.112037Z",
     "start_time": "2022-10-03T15:16:52.086054Z"
    }
   },
   "outputs": [
    {
     "data": {
      "text/plain": [
       "Index(['customer_id', 'customer_unique_id', 'customer_zip_code_prefix',\n",
       "       'customer_city', 'customer_state'],\n",
       "      dtype='object')"
      ]
     },
     "execution_count": 79,
     "metadata": {},
     "output_type": "execute_result"
    }
   ],
   "source": [
    "clientes.columns"
   ]
  },
  {
   "cell_type": "code",
   "execution_count": 88,
   "id": "e1295903",
   "metadata": {
    "ExecuteTime": {
     "end_time": "2022-10-03T17:05:57.712226Z",
     "start_time": "2022-10-03T17:05:56.719832Z"
    }
   },
   "outputs": [],
   "source": [
    "clientes.to_csv('clientes.csv')"
   ]
  },
  {
   "cell_type": "markdown",
   "id": "90e0019a",
   "metadata": {
    "ExecuteTime": {
     "end_time": "2022-10-03T14:44:06.581657Z",
     "start_time": "2022-10-03T14:44:06.573663Z"
    }
   },
   "source": [
    "### Cidade"
   ]
  },
  {
   "cell_type": "code",
   "execution_count": 80,
   "id": "d6c719de",
   "metadata": {
    "ExecuteTime": {
     "end_time": "2022-10-03T15:16:54.084029Z",
     "start_time": "2022-10-03T15:16:54.039052Z"
    },
    "run_control": {
     "marked": false
    }
   },
   "outputs": [
    {
     "data": {
      "text/plain": [
       "array(['franca', 'sao bernardo do campo', 'sao paulo', ...,\n",
       "       'monte bonito', 'sao rafael', 'eugenio de castro'], dtype=object)"
      ]
     },
     "execution_count": 80,
     "metadata": {},
     "output_type": "execute_result"
    }
   ],
   "source": [
    "clientes.customer_city.unique()"
   ]
  },
  {
   "cell_type": "code",
   "execution_count": 81,
   "id": "586b97d6",
   "metadata": {
    "ExecuteTime": {
     "end_time": "2022-10-03T15:16:55.584263Z",
     "start_time": "2022-10-03T15:16:55.546283Z"
    }
   },
   "outputs": [
    {
     "data": {
      "text/plain": [
       "4119"
      ]
     },
     "execution_count": 81,
     "metadata": {},
     "output_type": "execute_result"
    }
   ],
   "source": [
    "len(clientes.customer_city.unique())"
   ]
  },
  {
   "cell_type": "markdown",
   "id": "f5e1e2b6",
   "metadata": {},
   "source": [
    "### Estado"
   ]
  },
  {
   "cell_type": "code",
   "execution_count": 82,
   "id": "dd0c9dc4",
   "metadata": {
    "ExecuteTime": {
     "end_time": "2022-10-03T15:16:57.554691Z",
     "start_time": "2022-10-03T15:16:57.525708Z"
    }
   },
   "outputs": [
    {
     "data": {
      "text/plain": [
       "array(['SP', 'SC', 'MG', 'PR', 'RJ', 'RS', 'PA', 'GO', 'ES', 'BA', 'MA',\n",
       "       'MS', 'CE', 'DF', 'RN', 'PE', 'MT', 'AM', 'AP', 'AL', 'RO', 'PB',\n",
       "       'TO', 'PI', 'AC', 'SE', 'RR'], dtype=object)"
      ]
     },
     "execution_count": 82,
     "metadata": {},
     "output_type": "execute_result"
    }
   ],
   "source": [
    "clientes.customer_state.unique()"
   ]
  },
  {
   "cell_type": "code",
   "execution_count": 83,
   "id": "fbd28eb3",
   "metadata": {
    "ExecuteTime": {
     "end_time": "2022-10-03T15:16:58.580259Z",
     "start_time": "2022-10-03T15:16:58.551275Z"
    }
   },
   "outputs": [
    {
     "data": {
      "text/plain": [
       "27"
      ]
     },
     "execution_count": 83,
     "metadata": {},
     "output_type": "execute_result"
    }
   ],
   "source": [
    "len(clientes.customer_state.unique())"
   ]
  },
  {
   "cell_type": "code",
   "execution_count": 84,
   "id": "36fd9c28",
   "metadata": {
    "ExecuteTime": {
     "end_time": "2022-10-03T15:17:00.012575Z",
     "start_time": "2022-10-03T15:16:59.830685Z"
    }
   },
   "outputs": [
    {
     "data": {
      "text/html": [
       "<div>\n",
       "<style scoped>\n",
       "    .dataframe tbody tr th:only-of-type {\n",
       "        vertical-align: middle;\n",
       "    }\n",
       "\n",
       "    .dataframe tbody tr th {\n",
       "        vertical-align: top;\n",
       "    }\n",
       "\n",
       "    .dataframe thead th {\n",
       "        text-align: right;\n",
       "    }\n",
       "</style>\n",
       "<table border=\"1\" class=\"dataframe\">\n",
       "  <thead>\n",
       "    <tr style=\"text-align: right;\">\n",
       "      <th></th>\n",
       "      <th>customer_city</th>\n",
       "      <th>customer_id</th>\n",
       "    </tr>\n",
       "  </thead>\n",
       "  <tbody>\n",
       "    <tr>\n",
       "      <th>0</th>\n",
       "      <td>abadia dos dourados</td>\n",
       "      <td>3</td>\n",
       "    </tr>\n",
       "    <tr>\n",
       "      <th>1</th>\n",
       "      <td>abadiania</td>\n",
       "      <td>1</td>\n",
       "    </tr>\n",
       "    <tr>\n",
       "      <th>2</th>\n",
       "      <td>abaete</td>\n",
       "      <td>12</td>\n",
       "    </tr>\n",
       "    <tr>\n",
       "      <th>3</th>\n",
       "      <td>abaetetuba</td>\n",
       "      <td>11</td>\n",
       "    </tr>\n",
       "    <tr>\n",
       "      <th>4</th>\n",
       "      <td>abaiara</td>\n",
       "      <td>2</td>\n",
       "    </tr>\n",
       "    <tr>\n",
       "      <th>...</th>\n",
       "      <td>...</td>\n",
       "      <td>...</td>\n",
       "    </tr>\n",
       "    <tr>\n",
       "      <th>4114</th>\n",
       "      <td>xinguara</td>\n",
       "      <td>9</td>\n",
       "    </tr>\n",
       "    <tr>\n",
       "      <th>4115</th>\n",
       "      <td>xique-xique</td>\n",
       "      <td>3</td>\n",
       "    </tr>\n",
       "    <tr>\n",
       "      <th>4116</th>\n",
       "      <td>zacarias</td>\n",
       "      <td>2</td>\n",
       "    </tr>\n",
       "    <tr>\n",
       "      <th>4117</th>\n",
       "      <td>ze doca</td>\n",
       "      <td>5</td>\n",
       "    </tr>\n",
       "    <tr>\n",
       "      <th>4118</th>\n",
       "      <td>zortea</td>\n",
       "      <td>2</td>\n",
       "    </tr>\n",
       "  </tbody>\n",
       "</table>\n",
       "<p>4119 rows × 2 columns</p>\n",
       "</div>"
      ],
      "text/plain": [
       "            customer_city  customer_id\n",
       "0     abadia dos dourados            3\n",
       "1               abadiania            1\n",
       "2                  abaete           12\n",
       "3              abaetetuba           11\n",
       "4                 abaiara            2\n",
       "...                   ...          ...\n",
       "4114             xinguara            9\n",
       "4115          xique-xique            3\n",
       "4116             zacarias            2\n",
       "4117              ze doca            5\n",
       "4118               zortea            2\n",
       "\n",
       "[4119 rows x 2 columns]"
      ]
     },
     "execution_count": 84,
     "metadata": {},
     "output_type": "execute_result"
    }
   ],
   "source": [
    "clientes.groupby('customer_city').count()['customer_id'].reset_index()"
   ]
  },
  {
   "cell_type": "code",
   "execution_count": 24,
   "id": "6352804c",
   "metadata": {
    "ExecuteTime": {
     "end_time": "2022-10-04T14:33:25.252579Z",
     "start_time": "2022-10-04T14:33:20.998343Z"
    }
   },
   "outputs": [],
   "source": [
    "itens = pd.read_csv(\"Data/itens.csv\") \n",
    "ordens = pd.read_csv(\"Data/ordens.csv\")\n",
    "produtos = pd.read_csv(\"Data/produtos.csv\")\n",
    "geolocal = pd.read_csv(\"Data/geolocal.csv\")\n",
    "clientes = pd.read_csv(\"Data/clientes.csv\")\n",
    "avaliacoes = pd.read_csv('Data/avaliacoes.csv')\n",
    "vendedores = pd.read_csv(\"Data/vendedores.csv\")"
   ]
  },
  {
   "cell_type": "code",
   "execution_count": 14,
   "id": "10700ad6",
   "metadata": {
    "ExecuteTime": {
     "end_time": "2022-10-04T14:01:07.166348Z",
     "start_time": "2022-10-04T14:01:07.059682Z"
    }
   },
   "outputs": [
    {
     "data": {
      "text/plain": [
       "delivered      96478\n",
       "shipped         1107\n",
       "canceled         625\n",
       "unavailable      609\n",
       "invoiced         314\n",
       "processing       301\n",
       "created            5\n",
       "approved           2\n",
       "Name: order_status, dtype: int64"
      ]
     },
     "execution_count": 14,
     "metadata": {},
     "output_type": "execute_result"
    }
   ],
   "source": [
    "ordens['order_status'].value_counts()"
   ]
  },
  {
   "cell_type": "code",
   "execution_count": 17,
   "id": "bc141ee3",
   "metadata": {
    "ExecuteTime": {
     "end_time": "2022-10-04T14:02:27.997584Z",
     "start_time": "2022-10-04T14:02:27.956608Z"
    }
   },
   "outputs": [
    {
     "data": {
      "text/plain": [
       "Index(['Unnamed: 0.1', 'Unnamed: 0', 'review_id', 'order_id', 'review_score',\n",
       "       'review_creation_date', 'review_answer_timestamp'],\n",
       "      dtype='object')"
      ]
     },
     "execution_count": 17,
     "metadata": {},
     "output_type": "execute_result"
    }
   ],
   "source": [
    "avaliacoes.columns\n"
   ]
  },
  {
   "cell_type": "code",
   "execution_count": 19,
   "id": "2ff4f3e2",
   "metadata": {
    "ExecuteTime": {
     "end_time": "2022-10-04T14:03:08.387012Z",
     "start_time": "2022-10-04T14:03:08.274017Z"
    }
   },
   "outputs": [
    {
     "data": {
      "text/plain": [
       "5    57328\n",
       "4    19142\n",
       "1    11424\n",
       "3     8179\n",
       "2     3151\n",
       "Name: review_score, dtype: int64"
      ]
     },
     "execution_count": 19,
     "metadata": {},
     "output_type": "execute_result"
    }
   ],
   "source": [
    "avaliacoes['review_score'].value_counts()"
   ]
  },
  {
   "cell_type": "code",
   "execution_count": 21,
   "id": "0a92a4f8",
   "metadata": {
    "ExecuteTime": {
     "end_time": "2022-10-04T14:18:43.119598Z",
     "start_time": "2022-10-04T14:18:42.827711Z"
    }
   },
   "outputs": [],
   "source": [
    "df = itens.merge(ordens, left_on='order_id',right_on='order_id', how='inner')"
   ]
  },
  {
   "cell_type": "code",
   "execution_count": 22,
   "id": "931694f6",
   "metadata": {
    "ExecuteTime": {
     "end_time": "2022-10-04T14:18:45.652215Z",
     "start_time": "2022-10-04T14:18:45.428779Z"
    }
   },
   "outputs": [],
   "source": [
    "df = df.merge(vendedores, left_on='seller_id', right_on='seller_id', how='inner')"
   ]
  },
  {
   "cell_type": "markdown",
   "id": "babe55bd",
   "metadata": {},
   "source": [
    "## Avaliações"
   ]
  },
  {
   "cell_type": "code",
   "execution_count": 9,
   "id": "063c7de7",
   "metadata": {
    "ExecuteTime": {
     "end_time": "2022-10-04T13:58:40.523671Z",
     "start_time": "2022-10-04T13:58:39.987823Z"
    }
   },
   "outputs": [],
   "source": [
    "avaliacoes = pd.read_csv('Data/avaliacoes.csv') # reviews"
   ]
  },
  {
   "cell_type": "code",
   "execution_count": 10,
   "id": "507304c9",
   "metadata": {
    "ExecuteTime": {
     "end_time": "2022-10-04T13:58:51.449906Z",
     "start_time": "2022-10-04T13:58:51.428918Z"
    }
   },
   "outputs": [
    {
     "data": {
      "text/plain": [
       "(99224, 7)"
      ]
     },
     "execution_count": 10,
     "metadata": {},
     "output_type": "execute_result"
    }
   ],
   "source": [
    "avaliacoes.shape"
   ]
  },
  {
   "cell_type": "code",
   "execution_count": 6,
   "id": "b379ae79",
   "metadata": {
    "ExecuteTime": {
     "end_time": "2022-10-04T13:57:28.600418Z",
     "start_time": "2022-10-04T13:57:28.138016Z"
    }
   },
   "outputs": [
    {
     "data": {
      "text/plain": [
       "Unnamed: 0.1               0\n",
       "Unnamed: 0                 0\n",
       "review_id                  0\n",
       "order_id                   0\n",
       "review_score               0\n",
       "review_creation_date       0\n",
       "review_answer_timestamp    0\n",
       "dtype: int64"
      ]
     },
     "execution_count": 6,
     "metadata": {},
     "output_type": "execute_result"
    }
   ],
   "source": [
    "avaliacoes.isnull().sum()"
   ]
  },
  {
   "cell_type": "code",
   "execution_count": 11,
   "id": "92bf0c05",
   "metadata": {
    "ExecuteTime": {
     "end_time": "2022-10-04T13:59:01.777064Z",
     "start_time": "2022-10-04T13:59:01.573878Z"
    }
   },
   "outputs": [],
   "source": [
    "avaliacoes.drop_duplicates(inplace=True)"
   ]
  },
  {
   "cell_type": "code",
   "execution_count": 12,
   "id": "34f1af94",
   "metadata": {
    "ExecuteTime": {
     "end_time": "2022-10-04T13:59:02.714656Z",
     "start_time": "2022-10-04T13:59:02.694668Z"
    }
   },
   "outputs": [
    {
     "data": {
      "text/plain": [
       "(99224, 7)"
      ]
     },
     "execution_count": 12,
     "metadata": {},
     "output_type": "execute_result"
    }
   ],
   "source": [
    "avaliacoes.shape"
   ]
  },
  {
   "cell_type": "code",
   "execution_count": 23,
   "id": "9489f136",
   "metadata": {
    "ExecuteTime": {
     "end_time": "2022-10-04T14:30:36.877624Z",
     "start_time": "2022-10-04T14:30:36.789678Z"
    }
   },
   "outputs": [
    {
     "ename": "NameError",
     "evalue": "name 'pagamentos' is not defined",
     "output_type": "error",
     "traceback": [
      "\u001b[1;31m---------------------------------------------------------------------------\u001b[0m",
      "\u001b[1;31mNameError\u001b[0m                                 Traceback (most recent call last)",
      "Cell \u001b[1;32mIn [23], line 1\u001b[0m\n\u001b[1;32m----> 1\u001b[0m df \u001b[38;5;241m=\u001b[39m pd\u001b[38;5;241m.\u001b[39mmerge(ordens,pagamentos, on\u001b[38;5;241m=\u001b[39m\u001b[38;5;124m'\u001b[39m\u001b[38;5;124morder_id\u001b[39m\u001b[38;5;124m'\u001b[39m)\n\u001b[0;32m      2\u001b[0m df \u001b[38;5;241m=\u001b[39m df\u001b[38;5;241m.\u001b[39mmerge(clientes, on\u001b[38;5;241m=\u001b[39m\u001b[38;5;124m'\u001b[39m\u001b[38;5;124mcustomer_id\u001b[39m\u001b[38;5;124m'\u001b[39m)\n\u001b[0;32m      3\u001b[0m df \u001b[38;5;241m=\u001b[39m df\u001b[38;5;241m.\u001b[39mmerge(itens, on\u001b[38;5;241m=\u001b[39m\u001b[38;5;124m'\u001b[39m\u001b[38;5;124morder_id\u001b[39m\u001b[38;5;124m'\u001b[39m)\n",
      "\u001b[1;31mNameError\u001b[0m: name 'pagamentos' is not defined"
     ]
    }
   ],
   "source": [
    "df = pd.merge(ordens,pagamentos, on='order_id')\n",
    "df = df.merge(clientes, on='customer_id')\n",
    "df = df.merge(itens, on='order_id')\n",
    "df = df.merge(product_category, on='product_id')\n",
    "df = df.merge(product_category, on='product_category_name')\n",
    "df = df.merge(avaliacoes, on='order_id')\n",
    "df = df.merge(vendedores, on='seller_id')"
   ]
  }
 ],
 "metadata": {
  "kernelspec": {
   "display_name": "pycaret",
   "language": "python",
   "name": "pycaret"
  },
  "language_info": {
   "codemirror_mode": {
    "name": "ipython",
    "version": 3
   },
   "file_extension": ".py",
   "mimetype": "text/x-python",
   "name": "python",
   "nbconvert_exporter": "python",
   "pygments_lexer": "ipython3",
   "version": "3.8.13"
  },
  "nbTranslate": {
   "displayLangs": [
    "*"
   ],
   "hotkey": "alt-t",
   "langInMainMenu": true,
   "sourceLang": "en",
   "targetLang": "fr",
   "useGoogleTranslate": true
  },
  "toc": {
   "base_numbering": 1,
   "nav_menu": {},
   "number_sections": true,
   "sideBar": true,
   "skip_h1_title": false,
   "title_cell": "Table of Contents",
   "title_sidebar": "Contents",
   "toc_cell": false,
   "toc_position": {},
   "toc_section_display": true,
   "toc_window_display": false
  },
  "varInspector": {
   "cols": {
    "lenName": 16,
    "lenType": 16,
    "lenVar": 40
   },
   "kernels_config": {
    "python": {
     "delete_cmd_postfix": "",
     "delete_cmd_prefix": "del ",
     "library": "var_list.py",
     "varRefreshCmd": "print(var_dic_list())"
    },
    "r": {
     "delete_cmd_postfix": ") ",
     "delete_cmd_prefix": "rm(",
     "library": "var_list.r",
     "varRefreshCmd": "cat(var_dic_list()) "
    }
   },
   "types_to_exclude": [
    "module",
    "function",
    "builtin_function_or_method",
    "instance",
    "_Feature"
   ],
   "window_display": false
  }
 },
 "nbformat": 4,
 "nbformat_minor": 5
}
