{
 "cells": [
  {
   "cell_type": "code",
   "execution_count": 60,
   "id": "7ceffdf2",
   "metadata": {
    "ExecuteTime": {
     "end_time": "2022-10-06T04:17:08.216443Z",
     "start_time": "2022-10-06T04:17:08.183460Z"
    }
   },
   "outputs": [],
   "source": [
    "import pandas as pd\n",
    "import numpy as np\n",
    "import os\n",
    "import re\n",
    "from sklearn.linear_model import LinearRegression\n",
    "import seaborn as sns\n",
    "from sklearn.preprocessing import LabelEncoder\n",
    "from sklearn.ensemble import RandomForestClassifier\n",
    "from sklearn.ensemble import GradientBoostingClassifier\n",
    "import glob\n",
    "import pandas as pd\n",
    "from sklearn.model_selection import train_test_split\n",
    "from pycaret.classification import *\n",
    "from sklearn.preprocessing import StandardScaler"
   ]
  },
  {
   "cell_type": "code",
   "execution_count": 65,
   "id": "0cd2619d",
   "metadata": {
    "ExecuteTime": {
     "end_time": "2022-10-06T04:24:33.582151Z",
     "start_time": "2022-10-06T04:24:31.622809Z"
    }
   },
   "outputs": [],
   "source": [
    "df_fim = pd.read_csv(\"Data/final_df.csv\") "
   ]
  },
  {
   "cell_type": "code",
   "execution_count": 66,
   "id": "7de4e4b4",
   "metadata": {
    "ExecuteTime": {
     "end_time": "2022-10-06T04:24:50.725505Z",
     "start_time": "2022-10-06T04:24:49.389513Z"
    }
   },
   "outputs": [
    {
     "data": {
      "text/html": [
       "<div>\n",
       "<style scoped>\n",
       "    .dataframe tbody tr th:only-of-type {\n",
       "        vertical-align: middle;\n",
       "    }\n",
       "\n",
       "    .dataframe tbody tr th {\n",
       "        vertical-align: top;\n",
       "    }\n",
       "\n",
       "    .dataframe thead th {\n",
       "        text-align: right;\n",
       "    }\n",
       "</style>\n",
       "<table border=\"1\" class=\"dataframe\">\n",
       "  <thead>\n",
       "    <tr style=\"text-align: right;\">\n",
       "      <th></th>\n",
       "      <th>Total</th>\n",
       "      <th>Percent</th>\n",
       "    </tr>\n",
       "  </thead>\n",
       "  <tbody>\n",
       "    <tr>\n",
       "      <th>product_description_lenght</th>\n",
       "      <td>2270</td>\n",
       "      <td>0.020412</td>\n",
       "    </tr>\n",
       "    <tr>\n",
       "      <th>product_name_lenght</th>\n",
       "      <td>2270</td>\n",
       "      <td>0.020412</td>\n",
       "    </tr>\n",
       "    <tr>\n",
       "      <th>product_photos_qty</th>\n",
       "      <td>2270</td>\n",
       "      <td>0.020412</td>\n",
       "    </tr>\n",
       "    <tr>\n",
       "      <th>product_width_cm</th>\n",
       "      <td>714</td>\n",
       "      <td>0.006420</td>\n",
       "    </tr>\n",
       "  </tbody>\n",
       "</table>\n",
       "</div>"
      ],
      "text/plain": [
       "                            Total   Percent\n",
       "product_description_lenght   2270  0.020412\n",
       "product_name_lenght          2270  0.020412\n",
       "product_photos_qty           2270  0.020412\n",
       "product_width_cm              714  0.006420"
      ]
     },
     "execution_count": 66,
     "metadata": {},
     "output_type": "execute_result"
    }
   ],
   "source": [
    "total = df_fim.isnull().sum().sort_values(ascending=False)\n",
    "percent = (df_fim.isnull().sum()/df_fim.isnull().count()).sort_values(ascending=False)\n",
    "missing = pd.concat([total, percent], axis=1, keys=['Total', 'Percent'])\n",
    "missing.head(4)"
   ]
  },
  {
   "cell_type": "code",
   "execution_count": 68,
   "id": "ef05ac55",
   "metadata": {
    "ExecuteTime": {
     "end_time": "2022-10-06T04:24:59.690758Z",
     "start_time": "2022-10-06T04:24:59.205056Z"
    }
   },
   "outputs": [
    {
     "name": "stdout",
     "output_type": "stream",
     "text": [
      "<class 'pandas.core.frame.DataFrame'>\n",
      "RangeIndex: 111209 entries, 0 to 111208\n",
      "Data columns (total 37 columns):\n",
      " #   Column                         Non-Null Count   Dtype  \n",
      "---  ------                         --------------   -----  \n",
      " 0   Unnamed: 0.1                   111209 non-null  int64  \n",
      " 1   Unnamed: 0_x                   110513 non-null  float64\n",
      " 2   seller_id                      110513 non-null  object \n",
      " 3   seller_zip_code_prefix         110513 non-null  float64\n",
      " 4   seller_city                    110513 non-null  object \n",
      " 5   seller_state                   110513 non-null  object \n",
      " 6   Unnamed: 0_y                   110513 non-null  float64\n",
      " 7   order_id                       111209 non-null  object \n",
      " 8   order_item_id                  110513 non-null  float64\n",
      " 9   product_id                     110513 non-null  object \n",
      " 10  shipping_limit_date            110513 non-null  object \n",
      " 11  price                          110513 non-null  float64\n",
      " 12  freight_value                  110513 non-null  float64\n",
      " 13  Unnamed: 0_x.1                 111209 non-null  int64  \n",
      " 14  customer_id                    111209 non-null  object \n",
      " 15  order_status                   111209 non-null  object \n",
      " 16  order_purchase_timestamp       111209 non-null  object \n",
      " 17  order_approved_at              111209 non-null  object \n",
      " 18  order_delivered_carrier_date   111209 non-null  object \n",
      " 19  order_delivered_customer_date  111209 non-null  object \n",
      " 20  order_estimated_delivery_date  111209 non-null  object \n",
      " 21  prazo_entrega                  111209 non-null  float64\n",
      " 22  Unnamed: 0_y.1                 110513 non-null  float64\n",
      " 23  product_category_name          110513 non-null  object \n",
      " 24  product_name_lenght            108939 non-null  float64\n",
      " 25  product_description_lenght     108939 non-null  float64\n",
      " 26  product_photos_qty             108939 non-null  float64\n",
      " 27  product_weight_g               110495 non-null  float64\n",
      " 28  product_length_cm              110495 non-null  float64\n",
      " 29  product_height_cm              110495 non-null  float64\n",
      " 30  product_width_cm               110495 non-null  float64\n",
      " 31  Unnamed: 0                     111209 non-null  int64  \n",
      " 32  review_id                      111209 non-null  object \n",
      " 33  review_score                   111209 non-null  int64  \n",
      " 34  review_creation_date           111209 non-null  object \n",
      " 35  review_answer_timestamp        111209 non-null  object \n",
      " 36  tempo_resposta                 111209 non-null  int64  \n",
      "dtypes: float64(15), int64(5), object(17)\n",
      "memory usage: 31.4+ MB\n"
     ]
    }
   ],
   "source": [
    "df_fim.info()"
   ]
  },
  {
   "cell_type": "code",
   "execution_count": 71,
   "id": "24cdbb1a",
   "metadata": {
    "ExecuteTime": {
     "end_time": "2022-10-06T04:32:55.738293Z",
     "start_time": "2022-10-06T04:32:55.632691Z"
    }
   },
   "outputs": [],
   "source": [
    "df_fim.drop(['product_name_lenght', 'product_description_lenght', 'Unnamed: 0_x', 'Unnamed: 0.1'], axis=1, inplace=True)"
   ]
  },
  {
   "cell_type": "code",
   "execution_count": 72,
   "id": "ccec6894",
   "metadata": {
    "ExecuteTime": {
     "end_time": "2022-10-06T04:32:57.958303Z",
     "start_time": "2022-10-06T04:32:57.475600Z"
    }
   },
   "outputs": [
    {
     "data": {
      "text/plain": [
       "seller_id                         696\n",
       "seller_zip_code_prefix            696\n",
       "seller_city                       696\n",
       "seller_state                      696\n",
       "Unnamed: 0_y                      696\n",
       "order_id                            0\n",
       "order_item_id                     696\n",
       "product_id                        696\n",
       "shipping_limit_date               696\n",
       "price                             696\n",
       "freight_value                     696\n",
       "Unnamed: 0_x.1                      0\n",
       "customer_id                         0\n",
       "order_status                        0\n",
       "order_purchase_timestamp            0\n",
       "order_approved_at                   0\n",
       "order_delivered_carrier_date        0\n",
       "order_delivered_customer_date       0\n",
       "order_estimated_delivery_date       0\n",
       "prazo_entrega                       0\n",
       "Unnamed: 0_y.1                    696\n",
       "product_category_name             696\n",
       "product_photos_qty               2270\n",
       "product_weight_g                  714\n",
       "product_length_cm                 714\n",
       "product_height_cm                 714\n",
       "product_width_cm                  714\n",
       "Unnamed: 0                          0\n",
       "review_id                           0\n",
       "review_score                        0\n",
       "review_creation_date                0\n",
       "review_answer_timestamp             0\n",
       "tempo_resposta                      0\n",
       "dtype: int64"
      ]
     },
     "execution_count": 72,
     "metadata": {},
     "output_type": "execute_result"
    }
   ],
   "source": [
    "df_fim.isnull().sum()"
   ]
  },
  {
   "cell_type": "code",
   "execution_count": null,
   "id": "0f54a215",
   "metadata": {
    "ExecuteTime": {
     "start_time": "2022-10-06T04:33:14.168Z"
    }
   },
   "outputs": [
    {
     "data": {
      "application/vnd.jupyter.widget-view+json": {
       "model_id": "eb8834b5e5cc48a9b4aff38e045d037f",
       "version_major": 2,
       "version_minor": 0
      },
      "text/plain": [
       "IntProgress(value=0, description='Processing: ', max=3)"
      ]
     },
     "metadata": {},
     "output_type": "display_data"
    },
    {
     "data": {
      "text/html": [
       "<div>\n",
       "<style scoped>\n",
       "    .dataframe tbody tr th:only-of-type {\n",
       "        vertical-align: middle;\n",
       "    }\n",
       "\n",
       "    .dataframe tbody tr th {\n",
       "        vertical-align: top;\n",
       "    }\n",
       "\n",
       "    .dataframe thead th {\n",
       "        text-align: right;\n",
       "    }\n",
       "</style>\n",
       "<table border=\"1\" class=\"dataframe\">\n",
       "  <thead>\n",
       "    <tr style=\"text-align: right;\">\n",
       "      <th></th>\n",
       "      <th></th>\n",
       "      <th></th>\n",
       "    </tr>\n",
       "    <tr>\n",
       "      <th></th>\n",
       "      <th></th>\n",
       "      <th></th>\n",
       "    </tr>\n",
       "  </thead>\n",
       "  <tbody>\n",
       "    <tr>\n",
       "      <th>Initiated</th>\n",
       "      <td>. . . . . . . . . . . . . . . . . .</td>\n",
       "      <td>01:33:14</td>\n",
       "    </tr>\n",
       "    <tr>\n",
       "      <th>Status</th>\n",
       "      <td>. . . . . . . . . . . . . . . . . .</td>\n",
       "      <td>Preprocessing Data</td>\n",
       "    </tr>\n",
       "  </tbody>\n",
       "</table>\n",
       "</div>"
      ],
      "text/plain": [
       "                                                                  \n",
       "                                                                  \n",
       "Initiated  . . . . . . . . . . . . . . . . . .            01:33:14\n",
       "Status     . . . . . . . . . . . . . . . . . .  Preprocessing Data"
      ]
     },
     "metadata": {},
     "output_type": "display_data"
    },
    {
     "data": {
      "application/vnd.jupyter.widget-view+json": {
       "model_id": "b67e6e1904644338a84c2a24ef8e596d",
       "version_major": 2,
       "version_minor": 0
      },
      "text/plain": [
       "Text(value=\"Following data types have been inferred automatically, if they are correct press enter to continue…"
      ]
     },
     "metadata": {},
     "output_type": "display_data"
    },
    {
     "data": {
      "text/html": [
       "<div>\n",
       "<style scoped>\n",
       "    .dataframe tbody tr th:only-of-type {\n",
       "        vertical-align: middle;\n",
       "    }\n",
       "\n",
       "    .dataframe tbody tr th {\n",
       "        vertical-align: top;\n",
       "    }\n",
       "\n",
       "    .dataframe thead th {\n",
       "        text-align: right;\n",
       "    }\n",
       "</style>\n",
       "<table border=\"1\" class=\"dataframe\">\n",
       "  <thead>\n",
       "    <tr style=\"text-align: right;\">\n",
       "      <th></th>\n",
       "      <th>Data Type</th>\n",
       "    </tr>\n",
       "  </thead>\n",
       "  <tbody>\n",
       "    <tr>\n",
       "      <th>seller_id</th>\n",
       "      <td>Categorical</td>\n",
       "    </tr>\n",
       "    <tr>\n",
       "      <th>seller_zip_code_prefix</th>\n",
       "      <td>Numeric</td>\n",
       "    </tr>\n",
       "    <tr>\n",
       "      <th>seller_city</th>\n",
       "      <td>Categorical</td>\n",
       "    </tr>\n",
       "    <tr>\n",
       "      <th>seller_state</th>\n",
       "      <td>Categorical</td>\n",
       "    </tr>\n",
       "    <tr>\n",
       "      <th>Unnamed: 0_y</th>\n",
       "      <td>Numeric</td>\n",
       "    </tr>\n",
       "    <tr>\n",
       "      <th>order_id</th>\n",
       "      <td>Categorical</td>\n",
       "    </tr>\n",
       "    <tr>\n",
       "      <th>order_item_id</th>\n",
       "      <td>Numeric</td>\n",
       "    </tr>\n",
       "    <tr>\n",
       "      <th>product_id</th>\n",
       "      <td>Categorical</td>\n",
       "    </tr>\n",
       "    <tr>\n",
       "      <th>shipping_limit_date</th>\n",
       "      <td>Date</td>\n",
       "    </tr>\n",
       "    <tr>\n",
       "      <th>price</th>\n",
       "      <td>Numeric</td>\n",
       "    </tr>\n",
       "    <tr>\n",
       "      <th>freight_value</th>\n",
       "      <td>Numeric</td>\n",
       "    </tr>\n",
       "    <tr>\n",
       "      <th>Unnamed: 0_x.1</th>\n",
       "      <td>Numeric</td>\n",
       "    </tr>\n",
       "    <tr>\n",
       "      <th>customer_id</th>\n",
       "      <td>Categorical</td>\n",
       "    </tr>\n",
       "    <tr>\n",
       "      <th>order_status</th>\n",
       "      <td>Categorical</td>\n",
       "    </tr>\n",
       "    <tr>\n",
       "      <th>order_purchase_timestamp</th>\n",
       "      <td>Date</td>\n",
       "    </tr>\n",
       "    <tr>\n",
       "      <th>order_approved_at</th>\n",
       "      <td>Date</td>\n",
       "    </tr>\n",
       "    <tr>\n",
       "      <th>order_delivered_carrier_date</th>\n",
       "      <td>Date</td>\n",
       "    </tr>\n",
       "    <tr>\n",
       "      <th>order_delivered_customer_date</th>\n",
       "      <td>Date</td>\n",
       "    </tr>\n",
       "    <tr>\n",
       "      <th>order_estimated_delivery_date</th>\n",
       "      <td>Date</td>\n",
       "    </tr>\n",
       "    <tr>\n",
       "      <th>prazo_entrega</th>\n",
       "      <td>Numeric</td>\n",
       "    </tr>\n",
       "    <tr>\n",
       "      <th>Unnamed: 0_y.1</th>\n",
       "      <td>Numeric</td>\n",
       "    </tr>\n",
       "    <tr>\n",
       "      <th>product_category_name</th>\n",
       "      <td>Categorical</td>\n",
       "    </tr>\n",
       "    <tr>\n",
       "      <th>product_photos_qty</th>\n",
       "      <td>Categorical</td>\n",
       "    </tr>\n",
       "    <tr>\n",
       "      <th>product_weight_g</th>\n",
       "      <td>Numeric</td>\n",
       "    </tr>\n",
       "    <tr>\n",
       "      <th>product_length_cm</th>\n",
       "      <td>Numeric</td>\n",
       "    </tr>\n",
       "    <tr>\n",
       "      <th>product_height_cm</th>\n",
       "      <td>Numeric</td>\n",
       "    </tr>\n",
       "    <tr>\n",
       "      <th>product_width_cm</th>\n",
       "      <td>Numeric</td>\n",
       "    </tr>\n",
       "    <tr>\n",
       "      <th>Unnamed: 0</th>\n",
       "      <td>Numeric</td>\n",
       "    </tr>\n",
       "    <tr>\n",
       "      <th>review_id</th>\n",
       "      <td>Categorical</td>\n",
       "    </tr>\n",
       "    <tr>\n",
       "      <th>review_creation_date</th>\n",
       "      <td>Date</td>\n",
       "    </tr>\n",
       "    <tr>\n",
       "      <th>review_answer_timestamp</th>\n",
       "      <td>Date</td>\n",
       "    </tr>\n",
       "    <tr>\n",
       "      <th>tempo_resposta</th>\n",
       "      <td>Numeric</td>\n",
       "    </tr>\n",
       "    <tr>\n",
       "      <th>review_score</th>\n",
       "      <td>Label</td>\n",
       "    </tr>\n",
       "  </tbody>\n",
       "</table>\n",
       "</div>"
      ],
      "text/plain": [
       "                                 Data Type\n",
       "seller_id                      Categorical\n",
       "seller_zip_code_prefix             Numeric\n",
       "seller_city                    Categorical\n",
       "seller_state                   Categorical\n",
       "Unnamed: 0_y                       Numeric\n",
       "order_id                       Categorical\n",
       "order_item_id                      Numeric\n",
       "product_id                     Categorical\n",
       "shipping_limit_date                   Date\n",
       "price                              Numeric\n",
       "freight_value                      Numeric\n",
       "Unnamed: 0_x.1                     Numeric\n",
       "customer_id                    Categorical\n",
       "order_status                   Categorical\n",
       "order_purchase_timestamp              Date\n",
       "order_approved_at                     Date\n",
       "order_delivered_carrier_date          Date\n",
       "order_delivered_customer_date         Date\n",
       "order_estimated_delivery_date         Date\n",
       "prazo_entrega                      Numeric\n",
       "Unnamed: 0_y.1                     Numeric\n",
       "product_category_name          Categorical\n",
       "product_photos_qty             Categorical\n",
       "product_weight_g                   Numeric\n",
       "product_length_cm                  Numeric\n",
       "product_height_cm                  Numeric\n",
       "product_width_cm                   Numeric\n",
       "Unnamed: 0                         Numeric\n",
       "review_id                      Categorical\n",
       "review_creation_date                  Date\n",
       "review_answer_timestamp               Date\n",
       "tempo_resposta                     Numeric\n",
       "review_score                         Label"
      ]
     },
     "metadata": {},
     "output_type": "display_data"
    },
    {
     "name": "stdout",
     "output_type": "stream",
     "text": [
      "\n"
     ]
    }
   ],
   "source": [
    "classification = setup(data = df_fim, remove_outliers=True, unknown_categorical_method='most_frequent', target = 'review_score', session_id=42, imputation_type='iterative', normalize=True) "
   ]
  },
  {
   "cell_type": "code",
   "execution_count": null,
   "id": "8ecba0bb",
   "metadata": {
    "ExecuteTime": {
     "end_time": "2022-10-06T00:30:26.658737Z",
     "start_time": "2022-10-06T00:30:26.658737Z"
    }
   },
   "outputs": [],
   "source": [
    "best_model = compare_models()\n",
    "best_model"
   ]
  },
  {
   "cell_type": "code",
   "execution_count": null,
   "id": "d5cc4fee",
   "metadata": {
    "ExecuteTime": {
     "end_time": "2022-10-06T00:30:26.662737Z",
     "start_time": "2022-10-06T00:30:26.662737Z"
    }
   },
   "outputs": [],
   "source": [
    "new_model(best_model)"
   ]
  },
  {
   "cell_type": "code",
   "execution_count": null,
   "id": "37640f7a",
   "metadata": {
    "ExecuteTime": {
     "end_time": "2022-10-06T00:30:26.665733Z",
     "start_time": "2022-10-06T00:30:26.665733Z"
    }
   },
   "outputs": [],
   "source": [
    "gbm = create_model('lightgbm')"
   ]
  },
  {
   "cell_type": "code",
   "execution_count": null,
   "id": "8656f080",
   "metadata": {
    "ExecuteTime": {
     "end_time": "2022-10-06T00:30:26.670730Z",
     "start_time": "2022-10-06T00:30:26.670730Z"
    }
   },
   "outputs": [],
   "source": [
    "plot_model(gbm, plot = 'confusion_matrix')"
   ]
  },
  {
   "cell_type": "code",
   "execution_count": null,
   "id": "1daa8d95",
   "metadata": {
    "ExecuteTime": {
     "end_time": "2022-10-06T00:30:26.675729Z",
     "start_time": "2022-10-06T00:30:26.675729Z"
    }
   },
   "outputs": [],
   "source": [
    "plot_model(gbm, 'auc')"
   ]
  },
  {
   "cell_type": "code",
   "execution_count": null,
   "id": "5b8a8af5",
   "metadata": {},
   "outputs": [],
   "source": []
  },
  {
   "cell_type": "code",
   "execution_count": null,
   "id": "ef64ac91",
   "metadata": {
    "ExecuteTime": {
     "end_time": "2022-10-06T00:30:26.680724Z",
     "start_time": "2022-10-06T00:30:26.680724Z"
    }
   },
   "outputs": [],
   "source": [
    "prazo_entrega = setup(data = novo_data, remove_outliers=True, unknown_categorical_method='most_frequent', target = 'prazo_entrega', session_id=42, imputation_type='iterative', normalize=True, fix_imbalance = True) "
   ]
  },
  {
   "cell_type": "code",
   "execution_count": null,
   "id": "dc936f94",
   "metadata": {
    "ExecuteTime": {
     "end_time": "2022-10-06T00:30:26.684722Z",
     "start_time": "2022-10-06T00:30:26.684722Z"
    }
   },
   "outputs": [],
   "source": [
    "tempo_resposta = setup(data = novo_data, remove_outliers=True, unknown_categorical_method='most_frequent', target = 'tempo_resposta', session_id=42, imputation_type='iterative', normalize=True, fix_imbalance = True) "
   ]
  },
  {
   "cell_type": "code",
   "execution_count": null,
   "id": "dac9ced9",
   "metadata": {},
   "outputs": [],
   "source": []
  },
  {
   "cell_type": "code",
   "execution_count": null,
   "id": "f282cc25",
   "metadata": {},
   "outputs": [],
   "source": []
  },
  {
   "cell_type": "code",
   "execution_count": null,
   "id": "946b919a",
   "metadata": {
    "ExecuteTime": {
     "end_time": "2022-10-06T00:30:26.692716Z",
     "start_time": "2022-10-06T00:30:26.692716Z"
    }
   },
   "outputs": [],
   "source": [
    "final_model = finalize_model(new_model)"
   ]
  },
  {
   "cell_type": "code",
   "execution_count": null,
   "id": "5177eb29",
   "metadata": {
    "ExecuteTime": {
     "end_time": "2022-10-06T00:30:26.696714Z",
     "start_time": "2022-10-06T00:30:26.696714Z"
    }
   },
   "outputs": [],
   "source": [
    "predict_model(final_model)"
   ]
  },
  {
   "cell_type": "markdown",
   "id": "91faf55b",
   "metadata": {},
   "source": [
    "## Analisando com Random Forest"
   ]
  },
  {
   "cell_type": "code",
   "execution_count": null,
   "id": "5f1dbe82",
   "metadata": {
    "ExecuteTime": {
     "end_time": "2022-10-05T18:14:30.487305Z",
     "start_time": "2022-10-05T18:14:30.469299Z"
    }
   },
   "outputs": [],
   "source": []
  },
  {
   "cell_type": "code",
   "execution_count": 54,
   "id": "550c91f2",
   "metadata": {
    "ExecuteTime": {
     "end_time": "2022-10-06T01:10:59.897403Z",
     "start_time": "2022-10-06T01:10:59.875418Z"
    }
   },
   "outputs": [
    {
     "data": {
      "text/plain": [
       "Index(['Unnamed: 0', 'seller_id', 'seller_city', 'seller_state', 'order_id',\n",
       "       'order_item_id', 'product_id', 'shipping_limit_date', 'price',\n",
       "       'freight_value', 'customer_id_x', 'order_status_x', 'Unnamed: 0_x',\n",
       "       'product_category_name', 'product_description_lenght',\n",
       "       'product_photos_qty', 'product_weight_g', 'product_length_cm',\n",
       "       'product_height_cm', 'product_width_cm', 'Unnamed: 0_y',\n",
       "       'customer_id_y', 'order_status_y', 'order_purchase_timestamp_y',\n",
       "       'order_approved_at_y', 'order_delivered_carrier_date_y',\n",
       "       'order_delivered_customer_date_y', 'order_estimated_delivery_date_y',\n",
       "       'review_score', 'review_creation_date', 'review_answer_timestamp',\n",
       "       'tempo_resposta', 'prazo_entrega'],\n",
       "      dtype='object')"
      ]
     },
     "execution_count": 54,
     "metadata": {},
     "output_type": "execute_result"
    }
   ],
   "source": [
    "novo_data.columns"
   ]
  },
  {
   "cell_type": "code",
   "execution_count": 57,
   "id": "78a94f3a",
   "metadata": {
    "ExecuteTime": {
     "end_time": "2022-10-06T01:12:38.599409Z",
     "start_time": "2022-10-06T01:12:38.579423Z"
    }
   },
   "outputs": [],
   "source": [
    "from sklearn.ensemble import GradientBoostingClassifier\n",
    "from sklearn.model_selection import train_test_split\n",
    "from sklearn.metrics import roc_auc_score, precision_score\n",
    "from sklearn.ensemble import RandomForestClassifier\n",
    "from sklearn.linear_model import LinearRegression\n",
    "import seaborn as sns\n",
    "from sklearn.preprocessing import LabelEncoder\n",
    "\n",
    "import glob"
   ]
  },
  {
   "cell_type": "code",
   "execution_count": 58,
   "id": "9de66c19",
   "metadata": {
    "ExecuteTime": {
     "end_time": "2022-10-06T01:12:42.040280Z",
     "start_time": "2022-10-06T01:12:41.897366Z"
    }
   },
   "outputs": [
    {
     "ename": "KeyError",
     "evalue": "\"['vendas_total', 'entrega_antecipacao'] not in index\"",
     "output_type": "error",
     "traceback": [
      "\u001b[1;31m---------------------------------------------------------------------------\u001b[0m",
      "\u001b[1;31mKeyError\u001b[0m                                  Traceback (most recent call last)",
      "Cell \u001b[1;32mIn [58], line 1\u001b[0m\n\u001b[1;32m----> 1\u001b[0m X \u001b[38;5;241m=\u001b[39m novo_data[[\u001b[38;5;124m'\u001b[39m\u001b[38;5;124mseller_id\u001b[39m\u001b[38;5;124m'\u001b[39m, \u001b[38;5;124m'\u001b[39m\u001b[38;5;124mproduct_category_name\u001b[39m\u001b[38;5;124m'\u001b[39m, \u001b[38;5;124m'\u001b[39m\u001b[38;5;124mvendas_total\u001b[39m\u001b[38;5;124m'\u001b[39m,\u001b[38;5;124m'\u001b[39m\u001b[38;5;124mentrega_antecipacao\u001b[39m\u001b[38;5;124m'\u001b[39m]]\n\u001b[0;32m      2\u001b[0m X[:\u001b[38;5;241m10\u001b[39m]\n",
      "File \u001b[1;32mC:\\ProgramData\\Anaconda3\\envs\\pycaret\\lib\\site-packages\\pandas\\core\\frame.py:3511\u001b[0m, in \u001b[0;36mDataFrame.__getitem__\u001b[1;34m(self, key)\u001b[0m\n\u001b[0;32m   3509\u001b[0m     \u001b[38;5;28;01mif\u001b[39;00m is_iterator(key):\n\u001b[0;32m   3510\u001b[0m         key \u001b[38;5;241m=\u001b[39m \u001b[38;5;28mlist\u001b[39m(key)\n\u001b[1;32m-> 3511\u001b[0m     indexer \u001b[38;5;241m=\u001b[39m \u001b[38;5;28;43mself\u001b[39;49m\u001b[38;5;241;43m.\u001b[39;49m\u001b[43mcolumns\u001b[49m\u001b[38;5;241;43m.\u001b[39;49m\u001b[43m_get_indexer_strict\u001b[49m\u001b[43m(\u001b[49m\u001b[43mkey\u001b[49m\u001b[43m,\u001b[49m\u001b[43m \u001b[49m\u001b[38;5;124;43m\"\u001b[39;49m\u001b[38;5;124;43mcolumns\u001b[39;49m\u001b[38;5;124;43m\"\u001b[39;49m\u001b[43m)\u001b[49m[\u001b[38;5;241m1\u001b[39m]\n\u001b[0;32m   3513\u001b[0m \u001b[38;5;66;03m# take() does not accept boolean indexers\u001b[39;00m\n\u001b[0;32m   3514\u001b[0m \u001b[38;5;28;01mif\u001b[39;00m \u001b[38;5;28mgetattr\u001b[39m(indexer, \u001b[38;5;124m\"\u001b[39m\u001b[38;5;124mdtype\u001b[39m\u001b[38;5;124m\"\u001b[39m, \u001b[38;5;28;01mNone\u001b[39;00m) \u001b[38;5;241m==\u001b[39m \u001b[38;5;28mbool\u001b[39m:\n",
      "File \u001b[1;32mC:\\ProgramData\\Anaconda3\\envs\\pycaret\\lib\\site-packages\\pandas\\core\\indexes\\base.py:5796\u001b[0m, in \u001b[0;36mIndex._get_indexer_strict\u001b[1;34m(self, key, axis_name)\u001b[0m\n\u001b[0;32m   5793\u001b[0m \u001b[38;5;28;01melse\u001b[39;00m:\n\u001b[0;32m   5794\u001b[0m     keyarr, indexer, new_indexer \u001b[38;5;241m=\u001b[39m \u001b[38;5;28mself\u001b[39m\u001b[38;5;241m.\u001b[39m_reindex_non_unique(keyarr)\n\u001b[1;32m-> 5796\u001b[0m \u001b[38;5;28;43mself\u001b[39;49m\u001b[38;5;241;43m.\u001b[39;49m\u001b[43m_raise_if_missing\u001b[49m\u001b[43m(\u001b[49m\u001b[43mkeyarr\u001b[49m\u001b[43m,\u001b[49m\u001b[43m \u001b[49m\u001b[43mindexer\u001b[49m\u001b[43m,\u001b[49m\u001b[43m \u001b[49m\u001b[43maxis_name\u001b[49m\u001b[43m)\u001b[49m\n\u001b[0;32m   5798\u001b[0m keyarr \u001b[38;5;241m=\u001b[39m \u001b[38;5;28mself\u001b[39m\u001b[38;5;241m.\u001b[39mtake(indexer)\n\u001b[0;32m   5799\u001b[0m \u001b[38;5;28;01mif\u001b[39;00m \u001b[38;5;28misinstance\u001b[39m(key, Index):\n\u001b[0;32m   5800\u001b[0m     \u001b[38;5;66;03m# GH 42790 - Preserve name from an Index\u001b[39;00m\n",
      "File \u001b[1;32mC:\\ProgramData\\Anaconda3\\envs\\pycaret\\lib\\site-packages\\pandas\\core\\indexes\\base.py:5859\u001b[0m, in \u001b[0;36mIndex._raise_if_missing\u001b[1;34m(self, key, indexer, axis_name)\u001b[0m\n\u001b[0;32m   5856\u001b[0m     \u001b[38;5;28;01mraise\u001b[39;00m \u001b[38;5;167;01mKeyError\u001b[39;00m(\u001b[38;5;124mf\u001b[39m\u001b[38;5;124m\"\u001b[39m\u001b[38;5;124mNone of [\u001b[39m\u001b[38;5;132;01m{\u001b[39;00mkey\u001b[38;5;132;01m}\u001b[39;00m\u001b[38;5;124m] are in the [\u001b[39m\u001b[38;5;132;01m{\u001b[39;00maxis_name\u001b[38;5;132;01m}\u001b[39;00m\u001b[38;5;124m]\u001b[39m\u001b[38;5;124m\"\u001b[39m)\n\u001b[0;32m   5858\u001b[0m not_found \u001b[38;5;241m=\u001b[39m \u001b[38;5;28mlist\u001b[39m(ensure_index(key)[missing_mask\u001b[38;5;241m.\u001b[39mnonzero()[\u001b[38;5;241m0\u001b[39m]]\u001b[38;5;241m.\u001b[39munique())\n\u001b[1;32m-> 5859\u001b[0m \u001b[38;5;28;01mraise\u001b[39;00m \u001b[38;5;167;01mKeyError\u001b[39;00m(\u001b[38;5;124mf\u001b[39m\u001b[38;5;124m\"\u001b[39m\u001b[38;5;132;01m{\u001b[39;00mnot_found\u001b[38;5;132;01m}\u001b[39;00m\u001b[38;5;124m not in index\u001b[39m\u001b[38;5;124m\"\u001b[39m)\n",
      "\u001b[1;31mKeyError\u001b[0m: \"['vendas_total', 'entrega_antecipacao'] not in index\""
     ]
    }
   ],
   "source": [
    "X = estacoes[['location1','mintemp', 'maxtemp', 'rainfall', 'evaporation','sunshine', 'humidity9am', 'humidity3pm', 'pressure9am', 'pressure3pm','cloud9am', 'cloud3pm', 'temp9am', 'temp3pm', 'raintoday','precipitation3pm','precipitation9am']]\n",
    "X[:10]"
   ]
  },
  {
   "cell_type": "code",
   "execution_count": null,
   "id": "43eabc07",
   "metadata": {
    "ExecuteTime": {
     "end_time": "2022-10-06T00:30:26.714703Z",
     "start_time": "2022-10-06T00:30:26.714703Z"
    }
   },
   "outputs": [],
   "source": [
    "y=categ_vendedor[['score']]\n",
    "y[:10]"
   ]
  },
  {
   "cell_type": "code",
   "execution_count": null,
   "id": "7710b2e1",
   "metadata": {
    "ExecuteTime": {
     "end_time": "2022-10-06T00:30:26.719700Z",
     "start_time": "2022-10-06T00:30:26.719700Z"
    }
   },
   "outputs": [],
   "source": [
    "X_train, X_test, y_train, y_test = train_test_split(X, y, test_size=0.3, random_state=42, stratify=y)"
   ]
  },
  {
   "cell_type": "code",
   "execution_count": null,
   "id": "a9871ec5",
   "metadata": {
    "ExecuteTime": {
     "end_time": "2022-10-06T00:30:26.724697Z",
     "start_time": "2022-10-06T00:30:26.724697Z"
    }
   },
   "outputs": [],
   "source": [
    "categ_vendedor = GradientBoostingClassifier(max_depth=2)\n",
    "categ_vendedor.fit(X_train,y_train)"
   ]
  }
 ],
 "metadata": {
  "kernelspec": {
   "display_name": "pycaret",
   "language": "python",
   "name": "pycaret"
  },
  "language_info": {
   "codemirror_mode": {
    "name": "ipython",
    "version": 3
   },
   "file_extension": ".py",
   "mimetype": "text/x-python",
   "name": "python",
   "nbconvert_exporter": "python",
   "pygments_lexer": "ipython3",
   "version": "3.8.13"
  },
  "nbTranslate": {
   "displayLangs": [
    "*"
   ],
   "hotkey": "alt-t",
   "langInMainMenu": true,
   "sourceLang": "en",
   "targetLang": "fr",
   "useGoogleTranslate": true
  },
  "toc": {
   "base_numbering": 1,
   "nav_menu": {},
   "number_sections": true,
   "sideBar": true,
   "skip_h1_title": false,
   "title_cell": "Table of Contents",
   "title_sidebar": "Contents",
   "toc_cell": false,
   "toc_position": {},
   "toc_section_display": true,
   "toc_window_display": false
  },
  "varInspector": {
   "cols": {
    "lenName": 16,
    "lenType": 16,
    "lenVar": 40
   },
   "kernels_config": {
    "python": {
     "delete_cmd_postfix": "",
     "delete_cmd_prefix": "del ",
     "library": "var_list.py",
     "varRefreshCmd": "print(var_dic_list())"
    },
    "r": {
     "delete_cmd_postfix": ") ",
     "delete_cmd_prefix": "rm(",
     "library": "var_list.r",
     "varRefreshCmd": "cat(var_dic_list()) "
    }
   },
   "types_to_exclude": [
    "module",
    "function",
    "builtin_function_or_method",
    "instance",
    "_Feature"
   ],
   "window_display": false
  }
 },
 "nbformat": 4,
 "nbformat_minor": 5
}
