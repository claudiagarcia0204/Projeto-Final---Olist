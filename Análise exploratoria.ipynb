{
 "cells": [
  {
   "cell_type": "markdown",
   "id": "0242a5b6",
   "metadata": {},
   "source": [
    "# Importando Bibliotecas"
   ]
  },
  {
   "cell_type": "code",
   "execution_count": 1,
   "id": "36cef131",
   "metadata": {
    "ExecuteTime": {
     "end_time": "2022-10-05T11:28:26.321092Z",
     "start_time": "2022-10-05T11:28:22.699135Z"
    }
   },
   "outputs": [],
   "source": [
    "import pandas as pd\n",
    "import numpy as np\n",
    "import datetime"
   ]
  },
  {
   "cell_type": "markdown",
   "id": "0645c7ad",
   "metadata": {},
   "source": [
    "# Análise exploratoria DataFrame"
   ]
  },
  {
   "cell_type": "code",
   "execution_count": 2,
   "id": "f39adb9c",
   "metadata": {
    "ExecuteTime": {
     "end_time": "2022-10-05T11:28:38.165284Z",
     "start_time": "2022-10-05T11:28:34.604207Z"
    }
   },
   "outputs": [],
   "source": [
    "df1 = pd.read_csv('Data/df.csv')"
   ]
  },
  {
   "cell_type": "code",
   "execution_count": 6,
   "id": "df413be3",
   "metadata": {
    "ExecuteTime": {
     "end_time": "2022-10-05T11:29:35.587049Z",
     "start_time": "2022-10-05T11:29:35.536651Z"
    }
   },
   "outputs": [
    {
     "data": {
      "text/html": [
       "<div>\n",
       "<style scoped>\n",
       "    .dataframe tbody tr th:only-of-type {\n",
       "        vertical-align: middle;\n",
       "    }\n",
       "\n",
       "    .dataframe tbody tr th {\n",
       "        vertical-align: top;\n",
       "    }\n",
       "\n",
       "    .dataframe thead th {\n",
       "        text-align: right;\n",
       "    }\n",
       "</style>\n",
       "<table border=\"1\" class=\"dataframe\">\n",
       "  <thead>\n",
       "    <tr style=\"text-align: right;\">\n",
       "      <th></th>\n",
       "      <th>Unnamed: 0</th>\n",
       "      <th>seller_id</th>\n",
       "      <th>seller_zip_code_prefix</th>\n",
       "      <th>seller_city</th>\n",
       "      <th>seller_state</th>\n",
       "      <th>order_id</th>\n",
       "      <th>order_item_id</th>\n",
       "      <th>product_id</th>\n",
       "      <th>shipping_limit_date</th>\n",
       "      <th>price</th>\n",
       "      <th>...</th>\n",
       "      <th>order_status_y</th>\n",
       "      <th>order_purchase_timestamp_y</th>\n",
       "      <th>order_approved_at_y</th>\n",
       "      <th>order_delivered_carrier_date_y</th>\n",
       "      <th>order_delivered_customer_date_y</th>\n",
       "      <th>order_estimated_delivery_date_y</th>\n",
       "      <th>review_id</th>\n",
       "      <th>review_score</th>\n",
       "      <th>review_creation_date</th>\n",
       "      <th>review_answer_timestamp</th>\n",
       "    </tr>\n",
       "  </thead>\n",
       "  <tbody>\n",
       "    <tr>\n",
       "      <th>0</th>\n",
       "      <td>0</td>\n",
       "      <td>6d803cb79cc31c41c4c789a75933b3c7</td>\n",
       "      <td>14600.0</td>\n",
       "      <td>sao joaquim da barra</td>\n",
       "      <td>SP</td>\n",
       "      <td>73fc7af87114b39712e6da79b0a377eb</td>\n",
       "      <td>1.0</td>\n",
       "      <td>fd25ab760bfbba13c198fa3b4f1a0cd3</td>\n",
       "      <td>2018-01-18 15:47:59</td>\n",
       "      <td>185.00</td>\n",
       "      <td>...</td>\n",
       "      <td>delivered</td>\n",
       "      <td>2018-01-11 15:30:49</td>\n",
       "      <td>2018-01-11 15:47:59</td>\n",
       "      <td>2018-01-12 21:57:22</td>\n",
       "      <td>2018-01-17 18:42:41</td>\n",
       "      <td>2018-02-02</td>\n",
       "      <td>7bc2406110b926393aa56f80a40eba40</td>\n",
       "      <td>4</td>\n",
       "      <td>2018-01-18 00:00:00</td>\n",
       "      <td>2018-01-18 21:46:59</td>\n",
       "    </tr>\n",
       "    <tr>\n",
       "      <th>1</th>\n",
       "      <td>1</td>\n",
       "      <td>6d803cb79cc31c41c4c789a75933b3c7</td>\n",
       "      <td>14600.0</td>\n",
       "      <td>sao joaquim da barra</td>\n",
       "      <td>SP</td>\n",
       "      <td>73fc7af87114b39712e6da79b0a377eb</td>\n",
       "      <td>2.0</td>\n",
       "      <td>fd25ab760bfbba13c198fa3b4f1a0cd3</td>\n",
       "      <td>2018-01-18 15:47:59</td>\n",
       "      <td>185.00</td>\n",
       "      <td>...</td>\n",
       "      <td>delivered</td>\n",
       "      <td>2018-01-11 15:30:49</td>\n",
       "      <td>2018-01-11 15:47:59</td>\n",
       "      <td>2018-01-12 21:57:22</td>\n",
       "      <td>2018-01-17 18:42:41</td>\n",
       "      <td>2018-02-02</td>\n",
       "      <td>7bc2406110b926393aa56f80a40eba40</td>\n",
       "      <td>4</td>\n",
       "      <td>2018-01-18 00:00:00</td>\n",
       "      <td>2018-01-18 21:46:59</td>\n",
       "    </tr>\n",
       "    <tr>\n",
       "      <th>2</th>\n",
       "      <td>2</td>\n",
       "      <td>8e6d7754bc7e0f22c96d255ebda59eba</td>\n",
       "      <td>12233.0</td>\n",
       "      <td>sao jose dos campos</td>\n",
       "      <td>SP</td>\n",
       "      <td>a548910a1c6147796b98fdf73dbeba33</td>\n",
       "      <td>1.0</td>\n",
       "      <td>be0dbdc3d67d55727a65d4cd696ca73c</td>\n",
       "      <td>2018-03-06 12:48:39</td>\n",
       "      <td>79.79</td>\n",
       "      <td>...</td>\n",
       "      <td>delivered</td>\n",
       "      <td>2018-02-28 12:25:19</td>\n",
       "      <td>2018-02-28 12:48:39</td>\n",
       "      <td>2018-03-02 19:08:15</td>\n",
       "      <td>2018-03-09 23:17:20</td>\n",
       "      <td>2018-03-14</td>\n",
       "      <td>80e641a11e56f04c1ad469d5645fdfde</td>\n",
       "      <td>5</td>\n",
       "      <td>2018-03-10 00:00:00</td>\n",
       "      <td>2018-03-11 03:05:13</td>\n",
       "    </tr>\n",
       "    <tr>\n",
       "      <th>3</th>\n",
       "      <td>3</td>\n",
       "      <td>a1043bafd471dff536d0c462352beb48</td>\n",
       "      <td>37175.0</td>\n",
       "      <td>ilicinea</td>\n",
       "      <td>MG</td>\n",
       "      <td>f9e4b658b201a9f2ecdecbb34bed034b</td>\n",
       "      <td>1.0</td>\n",
       "      <td>d1c427060a0f73f6b889a5c7c61f2ac4</td>\n",
       "      <td>2018-02-08 10:31:15</td>\n",
       "      <td>149.00</td>\n",
       "      <td>...</td>\n",
       "      <td>delivered</td>\n",
       "      <td>2018-02-03 09:56:22</td>\n",
       "      <td>2018-02-03 10:33:41</td>\n",
       "      <td>2018-02-06 16:18:28</td>\n",
       "      <td>2018-02-16 17:28:48</td>\n",
       "      <td>2018-03-09</td>\n",
       "      <td>228ce5500dc1d8e020d8d1322874b6f0</td>\n",
       "      <td>5</td>\n",
       "      <td>2018-02-17 00:00:00</td>\n",
       "      <td>2018-02-18 14:36:24</td>\n",
       "    </tr>\n",
       "    <tr>\n",
       "      <th>4</th>\n",
       "      <td>4</td>\n",
       "      <td>a1043bafd471dff536d0c462352beb48</td>\n",
       "      <td>37175.0</td>\n",
       "      <td>ilicinea</td>\n",
       "      <td>MG</td>\n",
       "      <td>658677c97b385a9be170737859d3511b</td>\n",
       "      <td>1.0</td>\n",
       "      <td>52c80cedd4e90108bf4fa6a206ef6b03</td>\n",
       "      <td>2017-04-13 17:55:19</td>\n",
       "      <td>179.99</td>\n",
       "      <td>...</td>\n",
       "      <td>delivered</td>\n",
       "      <td>2017-04-09 17:41:13</td>\n",
       "      <td>2017-04-09 17:55:19</td>\n",
       "      <td>2017-04-10 14:24:47</td>\n",
       "      <td>2017-04-20 09:08:35</td>\n",
       "      <td>2017-05-10</td>\n",
       "      <td>e64fb393e7b32834bb789ff8bb30750e</td>\n",
       "      <td>5</td>\n",
       "      <td>2017-04-21 00:00:00</td>\n",
       "      <td>2017-04-21 22:02:06</td>\n",
       "    </tr>\n",
       "  </tbody>\n",
       "</table>\n",
       "<p>5 rows × 36 columns</p>\n",
       "</div>"
      ],
      "text/plain": [
       "   Unnamed: 0                         seller_id  seller_zip_code_prefix  \\\n",
       "0           0  6d803cb79cc31c41c4c789a75933b3c7                 14600.0   \n",
       "1           1  6d803cb79cc31c41c4c789a75933b3c7                 14600.0   \n",
       "2           2  8e6d7754bc7e0f22c96d255ebda59eba                 12233.0   \n",
       "3           3  a1043bafd471dff536d0c462352beb48                 37175.0   \n",
       "4           4  a1043bafd471dff536d0c462352beb48                 37175.0   \n",
       "\n",
       "            seller_city seller_state                          order_id  \\\n",
       "0  sao joaquim da barra           SP  73fc7af87114b39712e6da79b0a377eb   \n",
       "1  sao joaquim da barra           SP  73fc7af87114b39712e6da79b0a377eb   \n",
       "2   sao jose dos campos           SP  a548910a1c6147796b98fdf73dbeba33   \n",
       "3              ilicinea           MG  f9e4b658b201a9f2ecdecbb34bed034b   \n",
       "4              ilicinea           MG  658677c97b385a9be170737859d3511b   \n",
       "\n",
       "   order_item_id                        product_id  shipping_limit_date  \\\n",
       "0            1.0  fd25ab760bfbba13c198fa3b4f1a0cd3  2018-01-18 15:47:59   \n",
       "1            2.0  fd25ab760bfbba13c198fa3b4f1a0cd3  2018-01-18 15:47:59   \n",
       "2            1.0  be0dbdc3d67d55727a65d4cd696ca73c  2018-03-06 12:48:39   \n",
       "3            1.0  d1c427060a0f73f6b889a5c7c61f2ac4  2018-02-08 10:31:15   \n",
       "4            1.0  52c80cedd4e90108bf4fa6a206ef6b03  2017-04-13 17:55:19   \n",
       "\n",
       "    price  ...  order_status_y order_purchase_timestamp_y  \\\n",
       "0  185.00  ...       delivered        2018-01-11 15:30:49   \n",
       "1  185.00  ...       delivered        2018-01-11 15:30:49   \n",
       "2   79.79  ...       delivered        2018-02-28 12:25:19   \n",
       "3  149.00  ...       delivered        2018-02-03 09:56:22   \n",
       "4  179.99  ...       delivered        2017-04-09 17:41:13   \n",
       "\n",
       "   order_approved_at_y order_delivered_carrier_date_y  \\\n",
       "0  2018-01-11 15:47:59            2018-01-12 21:57:22   \n",
       "1  2018-01-11 15:47:59            2018-01-12 21:57:22   \n",
       "2  2018-02-28 12:48:39            2018-03-02 19:08:15   \n",
       "3  2018-02-03 10:33:41            2018-02-06 16:18:28   \n",
       "4  2017-04-09 17:55:19            2017-04-10 14:24:47   \n",
       "\n",
       "  order_delivered_customer_date_y order_estimated_delivery_date_y  \\\n",
       "0             2018-01-17 18:42:41                      2018-02-02   \n",
       "1             2018-01-17 18:42:41                      2018-02-02   \n",
       "2             2018-03-09 23:17:20                      2018-03-14   \n",
       "3             2018-02-16 17:28:48                      2018-03-09   \n",
       "4             2017-04-20 09:08:35                      2017-05-10   \n",
       "\n",
       "                          review_id review_score  review_creation_date  \\\n",
       "0  7bc2406110b926393aa56f80a40eba40            4   2018-01-18 00:00:00   \n",
       "1  7bc2406110b926393aa56f80a40eba40            4   2018-01-18 00:00:00   \n",
       "2  80e641a11e56f04c1ad469d5645fdfde            5   2018-03-10 00:00:00   \n",
       "3  228ce5500dc1d8e020d8d1322874b6f0            5   2018-02-17 00:00:00   \n",
       "4  e64fb393e7b32834bb789ff8bb30750e            5   2017-04-21 00:00:00   \n",
       "\n",
       "  review_answer_timestamp  \n",
       "0     2018-01-18 21:46:59  \n",
       "1     2018-01-18 21:46:59  \n",
       "2     2018-03-11 03:05:13  \n",
       "3     2018-02-18 14:36:24  \n",
       "4     2017-04-21 22:02:06  \n",
       "\n",
       "[5 rows x 36 columns]"
      ]
     },
     "execution_count": 6,
     "metadata": {},
     "output_type": "execute_result"
    },
    {
     "data": {
      "text/html": [
       "<div>\n",
       "<style scoped>\n",
       "    .dataframe tbody tr th:only-of-type {\n",
       "        vertical-align: middle;\n",
       "    }\n",
       "\n",
       "    .dataframe tbody tr th {\n",
       "        vertical-align: top;\n",
       "    }\n",
       "\n",
       "    .dataframe thead th {\n",
       "        text-align: right;\n",
       "    }\n",
       "</style>\n",
       "<table border=\"1\" class=\"dataframe\">\n",
       "  <thead>\n",
       "    <tr style=\"text-align: right;\">\n",
       "      <th></th>\n",
       "      <th>Unnamed: 0</th>\n",
       "      <th>seller_id</th>\n",
       "      <th>seller_zip_code_prefix</th>\n",
       "      <th>seller_city</th>\n",
       "      <th>seller_state</th>\n",
       "      <th>order_id</th>\n",
       "      <th>order_item_id</th>\n",
       "      <th>product_id</th>\n",
       "      <th>shipping_limit_date</th>\n",
       "      <th>price</th>\n",
       "      <th>...</th>\n",
       "      <th>order_status_y</th>\n",
       "      <th>order_purchase_timestamp_y</th>\n",
       "      <th>order_approved_at_y</th>\n",
       "      <th>order_delivered_carrier_date_y</th>\n",
       "      <th>order_delivered_customer_date_y</th>\n",
       "      <th>order_estimated_delivery_date_y</th>\n",
       "      <th>review_id</th>\n",
       "      <th>review_score</th>\n",
       "      <th>review_creation_date</th>\n",
       "      <th>review_answer_timestamp</th>\n",
       "    </tr>\n",
       "  </thead>\n",
       "  <tbody>\n",
       "    <tr>\n",
       "      <th>0</th>\n",
       "      <td>0</td>\n",
       "      <td>6d803cb79cc31c41c4c789a75933b3c7</td>\n",
       "      <td>14600.0</td>\n",
       "      <td>sao joaquim da barra</td>\n",
       "      <td>SP</td>\n",
       "      <td>73fc7af87114b39712e6da79b0a377eb</td>\n",
       "      <td>1.0</td>\n",
       "      <td>fd25ab760bfbba13c198fa3b4f1a0cd3</td>\n",
       "      <td>2018-01-18 15:47:59</td>\n",
       "      <td>185.00</td>\n",
       "      <td>...</td>\n",
       "      <td>delivered</td>\n",
       "      <td>2018-01-11 15:30:49</td>\n",
       "      <td>2018-01-11 15:47:59</td>\n",
       "      <td>2018-01-12 21:57:22</td>\n",
       "      <td>2018-01-17 18:42:41</td>\n",
       "      <td>2018-02-02</td>\n",
       "      <td>7bc2406110b926393aa56f80a40eba40</td>\n",
       "      <td>4</td>\n",
       "      <td>2018-01-18 00:00:00</td>\n",
       "      <td>2018-01-18 21:46:59</td>\n",
       "    </tr>\n",
       "    <tr>\n",
       "      <th>1</th>\n",
       "      <td>1</td>\n",
       "      <td>6d803cb79cc31c41c4c789a75933b3c7</td>\n",
       "      <td>14600.0</td>\n",
       "      <td>sao joaquim da barra</td>\n",
       "      <td>SP</td>\n",
       "      <td>73fc7af87114b39712e6da79b0a377eb</td>\n",
       "      <td>2.0</td>\n",
       "      <td>fd25ab760bfbba13c198fa3b4f1a0cd3</td>\n",
       "      <td>2018-01-18 15:47:59</td>\n",
       "      <td>185.00</td>\n",
       "      <td>...</td>\n",
       "      <td>delivered</td>\n",
       "      <td>2018-01-11 15:30:49</td>\n",
       "      <td>2018-01-11 15:47:59</td>\n",
       "      <td>2018-01-12 21:57:22</td>\n",
       "      <td>2018-01-17 18:42:41</td>\n",
       "      <td>2018-02-02</td>\n",
       "      <td>7bc2406110b926393aa56f80a40eba40</td>\n",
       "      <td>4</td>\n",
       "      <td>2018-01-18 00:00:00</td>\n",
       "      <td>2018-01-18 21:46:59</td>\n",
       "    </tr>\n",
       "    <tr>\n",
       "      <th>2</th>\n",
       "      <td>2</td>\n",
       "      <td>8e6d7754bc7e0f22c96d255ebda59eba</td>\n",
       "      <td>12233.0</td>\n",
       "      <td>sao jose dos campos</td>\n",
       "      <td>SP</td>\n",
       "      <td>a548910a1c6147796b98fdf73dbeba33</td>\n",
       "      <td>1.0</td>\n",
       "      <td>be0dbdc3d67d55727a65d4cd696ca73c</td>\n",
       "      <td>2018-03-06 12:48:39</td>\n",
       "      <td>79.79</td>\n",
       "      <td>...</td>\n",
       "      <td>delivered</td>\n",
       "      <td>2018-02-28 12:25:19</td>\n",
       "      <td>2018-02-28 12:48:39</td>\n",
       "      <td>2018-03-02 19:08:15</td>\n",
       "      <td>2018-03-09 23:17:20</td>\n",
       "      <td>2018-03-14</td>\n",
       "      <td>80e641a11e56f04c1ad469d5645fdfde</td>\n",
       "      <td>5</td>\n",
       "      <td>2018-03-10 00:00:00</td>\n",
       "      <td>2018-03-11 03:05:13</td>\n",
       "    </tr>\n",
       "    <tr>\n",
       "      <th>3</th>\n",
       "      <td>3</td>\n",
       "      <td>a1043bafd471dff536d0c462352beb48</td>\n",
       "      <td>37175.0</td>\n",
       "      <td>ilicinea</td>\n",
       "      <td>MG</td>\n",
       "      <td>f9e4b658b201a9f2ecdecbb34bed034b</td>\n",
       "      <td>1.0</td>\n",
       "      <td>d1c427060a0f73f6b889a5c7c61f2ac4</td>\n",
       "      <td>2018-02-08 10:31:15</td>\n",
       "      <td>149.00</td>\n",
       "      <td>...</td>\n",
       "      <td>delivered</td>\n",
       "      <td>2018-02-03 09:56:22</td>\n",
       "      <td>2018-02-03 10:33:41</td>\n",
       "      <td>2018-02-06 16:18:28</td>\n",
       "      <td>2018-02-16 17:28:48</td>\n",
       "      <td>2018-03-09</td>\n",
       "      <td>228ce5500dc1d8e020d8d1322874b6f0</td>\n",
       "      <td>5</td>\n",
       "      <td>2018-02-17 00:00:00</td>\n",
       "      <td>2018-02-18 14:36:24</td>\n",
       "    </tr>\n",
       "    <tr>\n",
       "      <th>4</th>\n",
       "      <td>4</td>\n",
       "      <td>a1043bafd471dff536d0c462352beb48</td>\n",
       "      <td>37175.0</td>\n",
       "      <td>ilicinea</td>\n",
       "      <td>MG</td>\n",
       "      <td>658677c97b385a9be170737859d3511b</td>\n",
       "      <td>1.0</td>\n",
       "      <td>52c80cedd4e90108bf4fa6a206ef6b03</td>\n",
       "      <td>2017-04-13 17:55:19</td>\n",
       "      <td>179.99</td>\n",
       "      <td>...</td>\n",
       "      <td>delivered</td>\n",
       "      <td>2017-04-09 17:41:13</td>\n",
       "      <td>2017-04-09 17:55:19</td>\n",
       "      <td>2017-04-10 14:24:47</td>\n",
       "      <td>2017-04-20 09:08:35</td>\n",
       "      <td>2017-05-10</td>\n",
       "      <td>e64fb393e7b32834bb789ff8bb30750e</td>\n",
       "      <td>5</td>\n",
       "      <td>2017-04-21 00:00:00</td>\n",
       "      <td>2017-04-21 22:02:06</td>\n",
       "    </tr>\n",
       "  </tbody>\n",
       "</table>\n",
       "<p>5 rows × 36 columns</p>\n",
       "</div>"
      ],
      "text/plain": [
       "   Unnamed: 0                         seller_id  seller_zip_code_prefix  \\\n",
       "0           0  6d803cb79cc31c41c4c789a75933b3c7                 14600.0   \n",
       "1           1  6d803cb79cc31c41c4c789a75933b3c7                 14600.0   \n",
       "2           2  8e6d7754bc7e0f22c96d255ebda59eba                 12233.0   \n",
       "3           3  a1043bafd471dff536d0c462352beb48                 37175.0   \n",
       "4           4  a1043bafd471dff536d0c462352beb48                 37175.0   \n",
       "\n",
       "            seller_city seller_state                          order_id  \\\n",
       "0  sao joaquim da barra           SP  73fc7af87114b39712e6da79b0a377eb   \n",
       "1  sao joaquim da barra           SP  73fc7af87114b39712e6da79b0a377eb   \n",
       "2   sao jose dos campos           SP  a548910a1c6147796b98fdf73dbeba33   \n",
       "3              ilicinea           MG  f9e4b658b201a9f2ecdecbb34bed034b   \n",
       "4              ilicinea           MG  658677c97b385a9be170737859d3511b   \n",
       "\n",
       "   order_item_id                        product_id  shipping_limit_date  \\\n",
       "0            1.0  fd25ab760bfbba13c198fa3b4f1a0cd3  2018-01-18 15:47:59   \n",
       "1            2.0  fd25ab760bfbba13c198fa3b4f1a0cd3  2018-01-18 15:47:59   \n",
       "2            1.0  be0dbdc3d67d55727a65d4cd696ca73c  2018-03-06 12:48:39   \n",
       "3            1.0  d1c427060a0f73f6b889a5c7c61f2ac4  2018-02-08 10:31:15   \n",
       "4            1.0  52c80cedd4e90108bf4fa6a206ef6b03  2017-04-13 17:55:19   \n",
       "\n",
       "    price  ...  order_status_y order_purchase_timestamp_y  \\\n",
       "0  185.00  ...       delivered        2018-01-11 15:30:49   \n",
       "1  185.00  ...       delivered        2018-01-11 15:30:49   \n",
       "2   79.79  ...       delivered        2018-02-28 12:25:19   \n",
       "3  149.00  ...       delivered        2018-02-03 09:56:22   \n",
       "4  179.99  ...       delivered        2017-04-09 17:41:13   \n",
       "\n",
       "   order_approved_at_y order_delivered_carrier_date_y  \\\n",
       "0  2018-01-11 15:47:59            2018-01-12 21:57:22   \n",
       "1  2018-01-11 15:47:59            2018-01-12 21:57:22   \n",
       "2  2018-02-28 12:48:39            2018-03-02 19:08:15   \n",
       "3  2018-02-03 10:33:41            2018-02-06 16:18:28   \n",
       "4  2017-04-09 17:55:19            2017-04-10 14:24:47   \n",
       "\n",
       "  order_delivered_customer_date_y order_estimated_delivery_date_y  \\\n",
       "0             2018-01-17 18:42:41                      2018-02-02   \n",
       "1             2018-01-17 18:42:41                      2018-02-02   \n",
       "2             2018-03-09 23:17:20                      2018-03-14   \n",
       "3             2018-02-16 17:28:48                      2018-03-09   \n",
       "4             2017-04-20 09:08:35                      2017-05-10   \n",
       "\n",
       "                          review_id review_score  review_creation_date  \\\n",
       "0  7bc2406110b926393aa56f80a40eba40            4   2018-01-18 00:00:00   \n",
       "1  7bc2406110b926393aa56f80a40eba40            4   2018-01-18 00:00:00   \n",
       "2  80e641a11e56f04c1ad469d5645fdfde            5   2018-03-10 00:00:00   \n",
       "3  228ce5500dc1d8e020d8d1322874b6f0            5   2018-02-17 00:00:00   \n",
       "4  e64fb393e7b32834bb789ff8bb30750e            5   2017-04-21 00:00:00   \n",
       "\n",
       "  review_answer_timestamp  \n",
       "0     2018-01-18 21:46:59  \n",
       "1     2018-01-18 21:46:59  \n",
       "2     2018-03-11 03:05:13  \n",
       "3     2018-02-18 14:36:24  \n",
       "4     2017-04-21 22:02:06  \n",
       "\n",
       "[5 rows x 36 columns]"
      ]
     },
     "execution_count": 6,
     "metadata": {},
     "output_type": "execute_result"
    }
   ],
   "source": [
    "df1.head()"
   ]
  },
  {
   "cell_type": "code",
   "execution_count": 4,
   "id": "4bb97172",
   "metadata": {
    "ExecuteTime": {
     "end_time": "2022-10-05T11:28:52.146849Z",
     "start_time": "2022-10-05T11:28:51.967784Z"
    }
   },
   "outputs": [],
   "source": [
    "times_cols = ['order_estimated_delivery_date_y', 'order_delivered_customer_date_y']\n",
    "for col in times_cols:\n",
    "    df1[col] = pd.to_datetime(df1[col])\n"
   ]
  },
  {
   "cell_type": "code",
   "execution_count": null,
   "id": "af77d67a",
   "metadata": {
    "ExecuteTime": {
     "end_time": "2022-10-04T18:40:11.981468Z",
     "start_time": "2022-10-04T18:40:11.780466Z"
    }
   },
   "outputs": [],
   "source": [
    "df1"
   ]
  },
  {
   "cell_type": "code",
   "execution_count": null,
   "id": "1c77205f",
   "metadata": {
    "ExecuteTime": {
     "end_time": "2022-10-04T18:40:15.649322Z",
     "start_time": "2022-10-04T18:40:15.239783Z"
    }
   },
   "outputs": [],
   "source": [
    "df1.info()"
   ]
  },
  {
   "cell_type": "code",
   "execution_count": null,
   "id": "04b2786e",
   "metadata": {
    "ExecuteTime": {
     "end_time": "2022-10-04T19:44:06.662455Z",
     "start_time": "2022-10-04T19:44:06.650464Z"
    }
   },
   "outputs": [],
   "source": [
    "df1['antecipacao_entrega']= df1['order_estimated_delivery_date_y'] - df1['order_delivered_customer_date_y']\n"
   ]
  },
  {
   "cell_type": "code",
   "execution_count": null,
   "id": "aa73e9b0",
   "metadata": {
    "ExecuteTime": {
     "end_time": "2022-10-04T20:46:32.501016Z",
     "start_time": "2022-10-04T20:46:32.320456Z"
    }
   },
   "outputs": [],
   "source": [
    "df1"
   ]
  },
  {
   "cell_type": "code",
   "execution_count": null,
   "id": "07327c21",
   "metadata": {
    "ExecuteTime": {
     "end_time": "2022-10-04T19:44:10.233784Z",
     "start_time": "2022-10-04T19:44:10.208758Z"
    }
   },
   "outputs": [],
   "source": [
    "df1['antecipacao_entrega'] = df1['antecipacao_entrega'].dt.days"
   ]
  },
  {
   "cell_type": "code",
   "execution_count": null,
   "id": "42c35b87",
   "metadata": {
    "ExecuteTime": {
     "end_time": "2022-10-04T20:40:41.383456Z",
     "start_time": "2022-10-04T20:40:41.335568Z"
    }
   },
   "outputs": [],
   "source": [
    "df_value = df1.groupby('seller_id', as_index=False)['review_score'].median()"
   ]
  },
  {
   "cell_type": "code",
   "execution_count": null,
   "id": "84509a13",
   "metadata": {
    "ExecuteTime": {
     "end_time": "2022-10-04T20:47:00.484102Z",
     "start_time": "2022-10-04T20:47:00.466118Z"
    }
   },
   "outputs": [],
   "source": [
    "df3 = pd.DataFrame(df1['seller_id'].value_counts()).merge(df_value, left_index=True, right_on='seller_id')"
   ]
  },
  {
   "cell_type": "code",
   "execution_count": null,
   "id": "199e94f5",
   "metadata": {
    "ExecuteTime": {
     "end_time": "2022-10-04T20:49:00.452829Z",
     "start_time": "2022-10-04T20:49:00.446849Z"
    }
   },
   "outputs": [],
   "source": [
    "df3.rename(columns={'seller_id_x':'total_vendas'},inplace=True)"
   ]
  },
  {
   "cell_type": "code",
   "execution_count": null,
   "id": "3a13f204",
   "metadata": {
    "ExecuteTime": {
     "end_time": "2022-10-04T20:49:50.469214Z",
     "start_time": "2022-10-04T20:49:50.456249Z"
    }
   },
   "outputs": [],
   "source": [
    "df3.drop(columns='seller_id_y', inplace=True)"
   ]
  },
  {
   "cell_type": "code",
   "execution_count": null,
   "id": "a56dd307",
   "metadata": {
    "ExecuteTime": {
     "end_time": "2022-10-04T20:53:17.211579Z",
     "start_time": "2022-10-04T20:53:17.174663Z"
    }
   },
   "outputs": [],
   "source": [
    "ante = df1.groupby('seller_id', as_index=False)['antecipacao_entrega'].median()\n"
   ]
  },
  {
   "cell_type": "code",
   "execution_count": null,
   "id": "516e8f2a",
   "metadata": {
    "ExecuteTime": {
     "end_time": "2022-10-04T20:53:00.438764Z",
     "start_time": "2022-10-04T20:53:00.414828Z"
    }
   },
   "outputs": [],
   "source": [
    "df4 = df3.merge(ante,left_on='seller_id', right_on='seller_id')"
   ]
  },
  {
   "cell_type": "code",
   "execution_count": null,
   "id": "50607e04",
   "metadata": {
    "ExecuteTime": {
     "end_time": "2022-10-04T20:51:10.398354Z",
     "start_time": "2022-10-04T20:51:10.371407Z"
    }
   },
   "outputs": [],
   "source": [
    "ante"
   ]
  },
  {
   "cell_type": "code",
   "execution_count": null,
   "id": "ea11d966",
   "metadata": {
    "ExecuteTime": {
     "end_time": "2022-10-04T20:39:46.782638Z",
     "start_time": "2022-10-04T20:39:46.760697Z"
    }
   },
   "outputs": [],
   "source": [
    "df3.loc[df3['seller_id_x']]"
   ]
  },
  {
   "cell_type": "code",
   "execution_count": null,
   "id": "c937c652",
   "metadata": {
    "ExecuteTime": {
     "end_time": "2022-10-04T19:40:13.515587Z",
     "start_time": "2022-10-04T19:40:13.258891Z"
    }
   },
   "outputs": [],
   "source": [
    "df3.loc[df3['seller_id_x']>=250].plot.scatter(x='review_score', y='seller_id_x')"
   ]
  },
  {
   "cell_type": "code",
   "execution_count": null,
   "id": "5b1cdd37",
   "metadata": {
    "ExecuteTime": {
     "end_time": "2022-10-04T19:47:42.757717Z",
     "start_time": "2022-10-04T19:47:42.546050Z"
    }
   },
   "outputs": [],
   "source": [
    "df1.loc[df1['seller_id']=='5b2e94f2c22b39ccc24d34ad0f669672','review_score'].plot.hist()"
   ]
  },
  {
   "cell_type": "code",
   "execution_count": null,
   "id": "4908f310",
   "metadata": {
    "ExecuteTime": {
     "end_time": "2022-10-04T19:07:36.784823Z",
     "start_time": "2022-10-04T19:07:36.760884Z"
    }
   },
   "outputs": [],
   "source": [
    "df_value"
   ]
  },
  {
   "cell_type": "code",
   "execution_count": null,
   "id": "a65cbe8c",
   "metadata": {
    "ExecuteTime": {
     "end_time": "2022-10-04T20:32:00.231238Z",
     "start_time": "2022-10-04T20:32:00.137503Z"
    }
   },
   "outputs": [],
   "source": [
    "df1.corr()['antecipacao_entrega']"
   ]
  }
 ],
 "metadata": {
  "kernelspec": {
   "display_name": "pycaret",
   "language": "python",
   "name": "pycaret"
  },
  "language_info": {
   "codemirror_mode": {
    "name": "ipython",
    "version": 3
   },
   "file_extension": ".py",
   "mimetype": "text/x-python",
   "name": "python",
   "nbconvert_exporter": "python",
   "pygments_lexer": "ipython3",
   "version": "3.8.13"
  },
  "toc": {
   "base_numbering": 1,
   "nav_menu": {},
   "number_sections": true,
   "sideBar": true,
   "skip_h1_title": false,
   "title_cell": "Table of Contents",
   "title_sidebar": "Contents",
   "toc_cell": false,
   "toc_position": {},
   "toc_section_display": true,
   "toc_window_display": false
  },
  "varInspector": {
   "cols": {
    "lenName": 16,
    "lenType": 16,
    "lenVar": 40
   },
   "kernels_config": {
    "python": {
     "delete_cmd_postfix": "",
     "delete_cmd_prefix": "del ",
     "library": "var_list.py",
     "varRefreshCmd": "print(var_dic_list())"
    },
    "r": {
     "delete_cmd_postfix": ") ",
     "delete_cmd_prefix": "rm(",
     "library": "var_list.r",
     "varRefreshCmd": "cat(var_dic_list()) "
    }
   },
   "types_to_exclude": [
    "module",
    "function",
    "builtin_function_or_method",
    "instance",
    "_Feature"
   ],
   "window_display": false
  }
 },
 "nbformat": 4,
 "nbformat_minor": 5
}
