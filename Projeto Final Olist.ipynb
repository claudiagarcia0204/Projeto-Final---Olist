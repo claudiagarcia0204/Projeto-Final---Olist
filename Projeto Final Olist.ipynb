{
 "cells": [
  {
   "cell_type": "markdown",
   "id": "0d7d4b42",
   "metadata": {},
   "source": [
    "# PREDIÇÃO SATISFAÇÃO DO CLIENTE - OLIST"
   ]
  },
  {
   "cell_type": "markdown",
   "id": "bc7e4ac0",
   "metadata": {},
   "source": [
    "## DESCRIÇÃO OLIST - PLATAFORMA DE E-COMMERCE"
   ]
  },
  {
   "cell_type": "markdown",
   "id": "1a14effd",
   "metadata": {},
   "source": [
    "\"Conjunto de dados públicos de comércio eletrônico brasileiro por Olist\n",
    "O conjunto de dados tem informações de 100 mil pedidos de 2016 a 2018 feitos em vários marketplaces no Brasil.\n",
    "\n",
    "A Olist conecta pequenas empresas de todo o Brasil a canais sem complicações e com um único contrato. Esses comerciantes podem vender seus produtos através da Olist Store e enviá-los diretamente aos clientes usando os parceiros de logística da Olist.\n",
    "\n",
    "Depois que um cliente compra o produto da Olist Store, um vendedor é notificado para atender esse pedido. Assim que o cliente recebe o produto, ou vence a data prevista de entrega, o cliente recebe uma pesquisa de satisfação por e-mail onde pode dar uma nota da experiência de compra e anotar alguns comentários.\"\n"
   ]
  },
  {
   "cell_type": "markdown",
   "id": "00727d69",
   "metadata": {},
   "source": [
    "## Importando Bibliotecas"
   ]
  },
  {
   "cell_type": "code",
   "execution_count": 1,
   "id": "c9ad9312",
   "metadata": {
    "ExecuteTime": {
     "end_time": "2022-10-06T04:01:13.271833Z",
     "start_time": "2022-10-06T04:01:08.601709Z"
    }
   },
   "outputs": [],
   "source": [
    "import pandas as pd\n",
    "import numpy as np\n",
    "import os\n",
    "import re\n",
    "from sklearn.linear_model import LinearRegression\n",
    "import seaborn as sns\n",
    "from sklearn.preprocessing import LabelEncoder\n",
    "from sklearn.ensemble import RandomForestClassifier\n",
    "from sklearn.ensemble import GradientBoostingClassifier\n",
    "import glob\n",
    "import pandas as pd"
   ]
  },
  {
   "cell_type": "markdown",
   "id": "c3730203",
   "metadata": {},
   "source": [
    "# Leitura dos dados"
   ]
  },
  {
   "cell_type": "markdown",
   "id": "2fb99fc5",
   "metadata": {},
   "source": [
    "Each feature or columns of different csv files are described below:\n",
    "\n",
    "* The  `olist_customers_dataset.csv` contain following features:\n",
    "\n",
    "Feature | Description \n",
    "----------|---------------\n",
    "**customer_id** | Id of the consumer who made the purchase.\n",
    "**customer_unique_id**    | Unique Id of the consumer.\n",
    "**customer_zip_code_prefix** | Zip Code of the location of the consumer.\n",
    "**customer_city** | Name of the City from where order is made.\n",
    "**customer_state** |  State Code from where order is made(Ex- sao paulo-SP).\n",
    "\n",
    "* The `olist_sellers_dataset.csv` contains following features:\n",
    "\n",
    "Feature | Description \n",
    "----------|---------------\n",
    "**seller_id** |   Unique Id of the seller registered in olist.\n",
    "**seller_zip_code_prefix** | Zip Code of the location of the seller.\n",
    "**seller_city** | Name of the City of the seller.\n",
    "**seller_state** | State Code (Ex- sao paulo-SP)\n",
    "\n",
    "\n",
    "* The `olist_order_items_dataset.csv`  contain following features:\n",
    "\n",
    "Feature | Description \n",
    "----------|---------------\n",
    "**order_id** | A unique id of order made by the consumers.\n",
    "**order_item_id** | A Unique id given to each item ordered in the order.\n",
    "**product_id** |A unique id given to each product available on the site.\n",
    "**seller_id** | Unique Id of the seller registered in olist.\n",
    "**shipping_limit_date** | The date before which shipping of the ordered    product must be completed.\n",
    "**price** | Actual price of the products ordered .\n",
    "**freight_value** | Price rate at which a product is delivered from one point to another. \n",
    "\n",
    "* The `olist_order_payments_dataset.csv` contain following features:\n",
    "\n",
    "Feature | Description \n",
    "----------|---------------\n",
    "**order_id** | A unique id of order made by the consumers.\n",
    "**payment_sequential** | sequences of the payments made in case of EMI.\n",
    "**payment_type** |  mode of payment used.(Ex-Credit Card)\n",
    "**payment_installments** | number of installments in case of EMI purchase.\n",
    "**payment_value** | Total amount paid for the purshase order.\n",
    "\n",
    "\n",
    "\n",
    "* The `olist_orders_dataset.csv`  contain following features:\n",
    "\n",
    "Feature | Description \n",
    "----------|---------------\n",
    "**order_id** | A unique id of order made by the consumers.\n",
    "**customer_id** | Id of the consumer who made the purchase.\n",
    "**order_status** | status of the order made i.e delivered, shipped etc.\n",
    "**order_purchase_timestamp** | Timestamp of the purchase.\n",
    "**order_approved_at** | Timestamp of the order approval.\n",
    "**order_delivered_carrier_date** | delivery date at which carrier made the delivery.\n",
    "**order_delivered_customer_date** | date at which customer got the product.\n",
    "**order_estimated_delivery_date** | estimated delivery date of the products.\n",
    "\n",
    "\n",
    "* The `olist_order_reviews_dataset.csv`  contain following features:\n",
    "\n",
    "Feature | Description \n",
    "----------|---------------\n",
    "**review_id** |Id of the review given on the product ordered by the order id.\n",
    "**order_id** |  A unique id of order made by the consumers.\n",
    "**review_score** | review score given by the customer for each order on the scale of 1–5. \n",
    "**review_comment_title** | Title of the review\n",
    "**review_comment_message** | Review comments posted by the consumer for each order.\n",
    "**review_creation_date** |Timestamp of the review when it is created.\n",
    "**review_answer_timestamp** | Timestamp of the review answered.\n",
    "\n",
    "\n",
    "* The `olist_products_dataset.csv` contain following features:\n",
    "\n",
    "Feature | Description \n",
    "----------|---------------\n",
    "**product_id** | A unique identifier for the proposed project.\n",
    "**product_category_name** | Name of the product category\n",
    "**product_name_lenght** | length of the string which specify the name given to the products ordered.\n",
    "**product_description_lenght** | length of the description written for each product ordered on the site.\n",
    "**product_photos_qty** | Number of photos of each product ordered available on the shopping portal.\n",
    "**product_weight_g** | Weight of the products ordered in grams.\n",
    "**product_length_cm** | Length of the products ordered in centimeters.\n",
    "**product_height_cm** | Height of the products ordered in centimeters.\n",
    "**product_width_cm** | width of the product ordered in centimeters.\n"
   ]
  },
  {
   "cell_type": "markdown",
   "id": "2a65b6d4",
   "metadata": {},
   "source": [
    "# Leitura arquivos"
   ]
  },
  {
   "cell_type": "code",
   "execution_count": 2,
   "id": "8c42aac4",
   "metadata": {
    "ExecuteTime": {
     "end_time": "2022-10-06T04:01:13.865468Z",
     "start_time": "2022-10-06T04:01:13.277828Z"
    }
   },
   "outputs": [],
   "source": [
    "items = pd.read_csv(\"Data/olist_order_items_dataset.csv\") "
   ]
  },
  {
   "cell_type": "code",
   "execution_count": 3,
   "id": "b0c1243c",
   "metadata": {
    "ExecuteTime": {
     "end_time": "2022-10-06T04:01:14.632992Z",
     "start_time": "2022-10-06T04:01:13.871462Z"
    }
   },
   "outputs": [],
   "source": [
    "order = pd.read_csv(\"Data/olist_orders_dataset.csv\")  "
   ]
  },
  {
   "cell_type": "code",
   "execution_count": 4,
   "id": "47d108fc",
   "metadata": {
    "ExecuteTime": {
     "end_time": "2022-10-06T04:01:14.739928Z",
     "start_time": "2022-10-06T04:01:14.642986Z"
    }
   },
   "outputs": [],
   "source": [
    "products = pd.read_csv(\"Data/olist_products_dataset.csv\")  "
   ]
  },
  {
   "cell_type": "code",
   "execution_count": 5,
   "id": "5d94ebf5",
   "metadata": {
    "ExecuteTime": {
     "end_time": "2022-10-06T04:01:16.307960Z",
     "start_time": "2022-10-06T04:01:14.744924Z"
    }
   },
   "outputs": [],
   "source": [
    "geolocation = pd.read_csv(\"Data/olist_geolocation_dataset.csv\")  "
   ]
  },
  {
   "cell_type": "code",
   "execution_count": 6,
   "id": "b09477cc",
   "metadata": {
    "ExecuteTime": {
     "end_time": "2022-10-06T04:01:16.997536Z",
     "start_time": "2022-10-06T04:01:16.313956Z"
    }
   },
   "outputs": [],
   "source": [
    "reviews = pd.read_csv(\"Data/olist_order_reviews_dataset.csv\")  "
   ]
  },
  {
   "cell_type": "code",
   "execution_count": 7,
   "id": "28c29031",
   "metadata": {
    "ExecuteTime": {
     "end_time": "2022-10-06T04:01:17.359311Z",
     "start_time": "2022-10-06T04:01:17.002532Z"
    }
   },
   "outputs": [],
   "source": [
    "customers = pd.read_csv(\"Data/olist_customers_dataset.csv\") "
   ]
  },
  {
   "cell_type": "code",
   "execution_count": 8,
   "id": "30a3be42",
   "metadata": {
    "ExecuteTime": {
     "end_time": "2022-10-06T04:01:17.597164Z",
     "start_time": "2022-10-06T04:01:17.365308Z"
    }
   },
   "outputs": [],
   "source": [
    "payments = pd.read_csv(\"Data/olist_order_payments_dataset.csv\") "
   ]
  },
  {
   "cell_type": "code",
   "execution_count": 9,
   "id": "59bf3047",
   "metadata": {
    "ExecuteTime": {
     "end_time": "2022-10-06T04:01:17.629145Z",
     "start_time": "2022-10-06T04:01:17.603163Z"
    }
   },
   "outputs": [],
   "source": [
    "seller = pd.read_csv(\"Data/olist_sellers_dataset.csv\") "
   ]
  },
  {
   "cell_type": "code",
   "execution_count": 10,
   "id": "be4ff1f0",
   "metadata": {
    "ExecuteTime": {
     "end_time": "2022-10-06T04:01:17.803038Z",
     "start_time": "2022-10-06T04:01:17.642139Z"
    },
    "run_control": {
     "marked": false
    }
   },
   "outputs": [
    {
     "name": "stdout",
     "output_type": "stream",
     "text": [
      "(112650, 7)\n"
     ]
    },
    {
     "data": {
      "text/html": [
       "<div>\n",
       "<style scoped>\n",
       "    .dataframe tbody tr th:only-of-type {\n",
       "        vertical-align: middle;\n",
       "    }\n",
       "\n",
       "    .dataframe tbody tr th {\n",
       "        vertical-align: top;\n",
       "    }\n",
       "\n",
       "    .dataframe thead th {\n",
       "        text-align: right;\n",
       "    }\n",
       "</style>\n",
       "<table border=\"1\" class=\"dataframe\">\n",
       "  <thead>\n",
       "    <tr style=\"text-align: right;\">\n",
       "      <th></th>\n",
       "      <th>order_id</th>\n",
       "      <th>order_item_id</th>\n",
       "      <th>product_id</th>\n",
       "      <th>seller_id</th>\n",
       "      <th>shipping_limit_date</th>\n",
       "      <th>price</th>\n",
       "      <th>freight_value</th>\n",
       "    </tr>\n",
       "  </thead>\n",
       "  <tbody>\n",
       "    <tr>\n",
       "      <th>0</th>\n",
       "      <td>00010242fe8c5a6d1ba2dd792cb16214</td>\n",
       "      <td>1</td>\n",
       "      <td>4244733e06e7ecb4970a6e2683c13e61</td>\n",
       "      <td>48436dade18ac8b2bce089ec2a041202</td>\n",
       "      <td>2017-09-19 09:45:35</td>\n",
       "      <td>58.9</td>\n",
       "      <td>13.29</td>\n",
       "    </tr>\n",
       "    <tr>\n",
       "      <th>1</th>\n",
       "      <td>00018f77f2f0320c557190d7a144bdd3</td>\n",
       "      <td>1</td>\n",
       "      <td>e5f2d52b802189ee658865ca93d83a8f</td>\n",
       "      <td>dd7ddc04e1b6c2c614352b383efe2d36</td>\n",
       "      <td>2017-05-03 11:05:13</td>\n",
       "      <td>239.9</td>\n",
       "      <td>19.93</td>\n",
       "    </tr>\n",
       "  </tbody>\n",
       "</table>\n",
       "</div>"
      ],
      "text/plain": [
       "                           order_id  order_item_id  \\\n",
       "0  00010242fe8c5a6d1ba2dd792cb16214              1   \n",
       "1  00018f77f2f0320c557190d7a144bdd3              1   \n",
       "\n",
       "                         product_id                         seller_id  \\\n",
       "0  4244733e06e7ecb4970a6e2683c13e61  48436dade18ac8b2bce089ec2a041202   \n",
       "1  e5f2d52b802189ee658865ca93d83a8f  dd7ddc04e1b6c2c614352b383efe2d36   \n",
       "\n",
       "   shipping_limit_date  price  freight_value  \n",
       "0  2017-09-19 09:45:35   58.9          13.29  \n",
       "1  2017-05-03 11:05:13  239.9          19.93  "
      ]
     },
     "execution_count": 10,
     "metadata": {},
     "output_type": "execute_result"
    }
   ],
   "source": [
    "print(items.shape)\n",
    "items.head(2)"
   ]
  },
  {
   "cell_type": "code",
   "execution_count": 11,
   "id": "ef29c3a6",
   "metadata": {
    "ExecuteTime": {
     "end_time": "2022-10-06T04:01:17.942954Z",
     "start_time": "2022-10-06T04:01:17.808035Z"
    }
   },
   "outputs": [
    {
     "name": "stdout",
     "output_type": "stream",
     "text": [
      "(99441, 8)\n"
     ]
    },
    {
     "data": {
      "text/html": [
       "<div>\n",
       "<style scoped>\n",
       "    .dataframe tbody tr th:only-of-type {\n",
       "        vertical-align: middle;\n",
       "    }\n",
       "\n",
       "    .dataframe tbody tr th {\n",
       "        vertical-align: top;\n",
       "    }\n",
       "\n",
       "    .dataframe thead th {\n",
       "        text-align: right;\n",
       "    }\n",
       "</style>\n",
       "<table border=\"1\" class=\"dataframe\">\n",
       "  <thead>\n",
       "    <tr style=\"text-align: right;\">\n",
       "      <th></th>\n",
       "      <th>order_id</th>\n",
       "      <th>customer_id</th>\n",
       "      <th>order_status</th>\n",
       "      <th>order_purchase_timestamp</th>\n",
       "      <th>order_approved_at</th>\n",
       "      <th>order_delivered_carrier_date</th>\n",
       "      <th>order_delivered_customer_date</th>\n",
       "      <th>order_estimated_delivery_date</th>\n",
       "    </tr>\n",
       "  </thead>\n",
       "  <tbody>\n",
       "    <tr>\n",
       "      <th>0</th>\n",
       "      <td>e481f51cbdc54678b7cc49136f2d6af7</td>\n",
       "      <td>9ef432eb6251297304e76186b10a928d</td>\n",
       "      <td>delivered</td>\n",
       "      <td>2017-10-02 10:56:33</td>\n",
       "      <td>2017-10-02 11:07:15</td>\n",
       "      <td>2017-10-04 19:55:00</td>\n",
       "      <td>2017-10-10 21:25:13</td>\n",
       "      <td>2017-10-18 00:00:00</td>\n",
       "    </tr>\n",
       "    <tr>\n",
       "      <th>1</th>\n",
       "      <td>53cdb2fc8bc7dce0b6741e2150273451</td>\n",
       "      <td>b0830fb4747a6c6d20dea0b8c802d7ef</td>\n",
       "      <td>delivered</td>\n",
       "      <td>2018-07-24 20:41:37</td>\n",
       "      <td>2018-07-26 03:24:27</td>\n",
       "      <td>2018-07-26 14:31:00</td>\n",
       "      <td>2018-08-07 15:27:45</td>\n",
       "      <td>2018-08-13 00:00:00</td>\n",
       "    </tr>\n",
       "  </tbody>\n",
       "</table>\n",
       "</div>"
      ],
      "text/plain": [
       "                           order_id                       customer_id  \\\n",
       "0  e481f51cbdc54678b7cc49136f2d6af7  9ef432eb6251297304e76186b10a928d   \n",
       "1  53cdb2fc8bc7dce0b6741e2150273451  b0830fb4747a6c6d20dea0b8c802d7ef   \n",
       "\n",
       "  order_status order_purchase_timestamp    order_approved_at  \\\n",
       "0    delivered      2017-10-02 10:56:33  2017-10-02 11:07:15   \n",
       "1    delivered      2018-07-24 20:41:37  2018-07-26 03:24:27   \n",
       "\n",
       "  order_delivered_carrier_date order_delivered_customer_date  \\\n",
       "0          2017-10-04 19:55:00           2017-10-10 21:25:13   \n",
       "1          2018-07-26 14:31:00           2018-08-07 15:27:45   \n",
       "\n",
       "  order_estimated_delivery_date  \n",
       "0           2017-10-18 00:00:00  \n",
       "1           2018-08-13 00:00:00  "
      ]
     },
     "execution_count": 11,
     "metadata": {},
     "output_type": "execute_result"
    }
   ],
   "source": [
    "print(order.shape)\n",
    "order.head(2)"
   ]
  },
  {
   "cell_type": "code",
   "execution_count": 12,
   "id": "5da46c52",
   "metadata": {
    "ExecuteTime": {
     "end_time": "2022-10-06T04:01:18.116848Z",
     "start_time": "2022-10-06T04:01:17.948950Z"
    }
   },
   "outputs": [
    {
     "name": "stdout",
     "output_type": "stream",
     "text": [
      "(32951, 9)\n"
     ]
    },
    {
     "data": {
      "text/html": [
       "<div>\n",
       "<style scoped>\n",
       "    .dataframe tbody tr th:only-of-type {\n",
       "        vertical-align: middle;\n",
       "    }\n",
       "\n",
       "    .dataframe tbody tr th {\n",
       "        vertical-align: top;\n",
       "    }\n",
       "\n",
       "    .dataframe thead th {\n",
       "        text-align: right;\n",
       "    }\n",
       "</style>\n",
       "<table border=\"1\" class=\"dataframe\">\n",
       "  <thead>\n",
       "    <tr style=\"text-align: right;\">\n",
       "      <th></th>\n",
       "      <th>product_id</th>\n",
       "      <th>product_category_name</th>\n",
       "      <th>product_name_lenght</th>\n",
       "      <th>product_description_lenght</th>\n",
       "      <th>product_photos_qty</th>\n",
       "      <th>product_weight_g</th>\n",
       "      <th>product_length_cm</th>\n",
       "      <th>product_height_cm</th>\n",
       "      <th>product_width_cm</th>\n",
       "    </tr>\n",
       "  </thead>\n",
       "  <tbody>\n",
       "    <tr>\n",
       "      <th>0</th>\n",
       "      <td>1e9e8ef04dbcff4541ed26657ea517e5</td>\n",
       "      <td>perfumaria</td>\n",
       "      <td>40.0</td>\n",
       "      <td>287.0</td>\n",
       "      <td>1.0</td>\n",
       "      <td>225.0</td>\n",
       "      <td>16.0</td>\n",
       "      <td>10.0</td>\n",
       "      <td>14.0</td>\n",
       "    </tr>\n",
       "    <tr>\n",
       "      <th>1</th>\n",
       "      <td>3aa071139cb16b67ca9e5dea641aaa2f</td>\n",
       "      <td>artes</td>\n",
       "      <td>44.0</td>\n",
       "      <td>276.0</td>\n",
       "      <td>1.0</td>\n",
       "      <td>1000.0</td>\n",
       "      <td>30.0</td>\n",
       "      <td>18.0</td>\n",
       "      <td>20.0</td>\n",
       "    </tr>\n",
       "  </tbody>\n",
       "</table>\n",
       "</div>"
      ],
      "text/plain": [
       "                         product_id product_category_name  \\\n",
       "0  1e9e8ef04dbcff4541ed26657ea517e5            perfumaria   \n",
       "1  3aa071139cb16b67ca9e5dea641aaa2f                 artes   \n",
       "\n",
       "   product_name_lenght  product_description_lenght  product_photos_qty  \\\n",
       "0                 40.0                       287.0                 1.0   \n",
       "1                 44.0                       276.0                 1.0   \n",
       "\n",
       "   product_weight_g  product_length_cm  product_height_cm  product_width_cm  \n",
       "0             225.0               16.0               10.0              14.0  \n",
       "1            1000.0               30.0               18.0              20.0  "
      ]
     },
     "execution_count": 12,
     "metadata": {},
     "output_type": "execute_result"
    }
   ],
   "source": [
    "print(products.shape)\n",
    "products.head(2)"
   ]
  },
  {
   "cell_type": "code",
   "execution_count": 13,
   "id": "c8a29674",
   "metadata": {
    "ExecuteTime": {
     "end_time": "2022-10-06T04:01:18.271749Z",
     "start_time": "2022-10-06T04:01:18.122844Z"
    }
   },
   "outputs": [
    {
     "name": "stdout",
     "output_type": "stream",
     "text": [
      "(1000163, 5)\n"
     ]
    },
    {
     "data": {
      "text/html": [
       "<div>\n",
       "<style scoped>\n",
       "    .dataframe tbody tr th:only-of-type {\n",
       "        vertical-align: middle;\n",
       "    }\n",
       "\n",
       "    .dataframe tbody tr th {\n",
       "        vertical-align: top;\n",
       "    }\n",
       "\n",
       "    .dataframe thead th {\n",
       "        text-align: right;\n",
       "    }\n",
       "</style>\n",
       "<table border=\"1\" class=\"dataframe\">\n",
       "  <thead>\n",
       "    <tr style=\"text-align: right;\">\n",
       "      <th></th>\n",
       "      <th>geolocation_zip_code_prefix</th>\n",
       "      <th>geolocation_lat</th>\n",
       "      <th>geolocation_lng</th>\n",
       "      <th>geolocation_city</th>\n",
       "      <th>geolocation_state</th>\n",
       "    </tr>\n",
       "  </thead>\n",
       "  <tbody>\n",
       "    <tr>\n",
       "      <th>0</th>\n",
       "      <td>1037</td>\n",
       "      <td>-23.545621</td>\n",
       "      <td>-46.639292</td>\n",
       "      <td>sao paulo</td>\n",
       "      <td>SP</td>\n",
       "    </tr>\n",
       "    <tr>\n",
       "      <th>1</th>\n",
       "      <td>1046</td>\n",
       "      <td>-23.546081</td>\n",
       "      <td>-46.644820</td>\n",
       "      <td>sao paulo</td>\n",
       "      <td>SP</td>\n",
       "    </tr>\n",
       "  </tbody>\n",
       "</table>\n",
       "</div>"
      ],
      "text/plain": [
       "   geolocation_zip_code_prefix  geolocation_lat  geolocation_lng  \\\n",
       "0                         1037       -23.545621       -46.639292   \n",
       "1                         1046       -23.546081       -46.644820   \n",
       "\n",
       "  geolocation_city geolocation_state  \n",
       "0        sao paulo                SP  \n",
       "1        sao paulo                SP  "
      ]
     },
     "execution_count": 13,
     "metadata": {},
     "output_type": "execute_result"
    }
   ],
   "source": [
    "print(geolocation.shape)\n",
    "geolocation.head(2)"
   ]
  },
  {
   "cell_type": "code",
   "execution_count": 14,
   "id": "41042d2a",
   "metadata": {
    "ExecuteTime": {
     "end_time": "2022-10-06T04:01:18.394675Z",
     "start_time": "2022-10-06T04:01:18.280745Z"
    }
   },
   "outputs": [
    {
     "name": "stdout",
     "output_type": "stream",
     "text": [
      "(99224, 7)\n"
     ]
    },
    {
     "data": {
      "text/html": [
       "<div>\n",
       "<style scoped>\n",
       "    .dataframe tbody tr th:only-of-type {\n",
       "        vertical-align: middle;\n",
       "    }\n",
       "\n",
       "    .dataframe tbody tr th {\n",
       "        vertical-align: top;\n",
       "    }\n",
       "\n",
       "    .dataframe thead th {\n",
       "        text-align: right;\n",
       "    }\n",
       "</style>\n",
       "<table border=\"1\" class=\"dataframe\">\n",
       "  <thead>\n",
       "    <tr style=\"text-align: right;\">\n",
       "      <th></th>\n",
       "      <th>review_id</th>\n",
       "      <th>order_id</th>\n",
       "      <th>review_score</th>\n",
       "      <th>review_comment_title</th>\n",
       "      <th>review_comment_message</th>\n",
       "      <th>review_creation_date</th>\n",
       "      <th>review_answer_timestamp</th>\n",
       "    </tr>\n",
       "  </thead>\n",
       "  <tbody>\n",
       "    <tr>\n",
       "      <th>0</th>\n",
       "      <td>7bc2406110b926393aa56f80a40eba40</td>\n",
       "      <td>73fc7af87114b39712e6da79b0a377eb</td>\n",
       "      <td>4</td>\n",
       "      <td>NaN</td>\n",
       "      <td>NaN</td>\n",
       "      <td>2018-01-18 00:00:00</td>\n",
       "      <td>2018-01-18 21:46:59</td>\n",
       "    </tr>\n",
       "    <tr>\n",
       "      <th>1</th>\n",
       "      <td>80e641a11e56f04c1ad469d5645fdfde</td>\n",
       "      <td>a548910a1c6147796b98fdf73dbeba33</td>\n",
       "      <td>5</td>\n",
       "      <td>NaN</td>\n",
       "      <td>NaN</td>\n",
       "      <td>2018-03-10 00:00:00</td>\n",
       "      <td>2018-03-11 03:05:13</td>\n",
       "    </tr>\n",
       "  </tbody>\n",
       "</table>\n",
       "</div>"
      ],
      "text/plain": [
       "                          review_id                          order_id  \\\n",
       "0  7bc2406110b926393aa56f80a40eba40  73fc7af87114b39712e6da79b0a377eb   \n",
       "1  80e641a11e56f04c1ad469d5645fdfde  a548910a1c6147796b98fdf73dbeba33   \n",
       "\n",
       "   review_score review_comment_title review_comment_message  \\\n",
       "0             4                  NaN                    NaN   \n",
       "1             5                  NaN                    NaN   \n",
       "\n",
       "  review_creation_date review_answer_timestamp  \n",
       "0  2018-01-18 00:00:00     2018-01-18 21:46:59  \n",
       "1  2018-03-10 00:00:00     2018-03-11 03:05:13  "
      ]
     },
     "execution_count": 14,
     "metadata": {},
     "output_type": "execute_result"
    }
   ],
   "source": [
    "print(reviews.shape)\n",
    "reviews.head(2)"
   ]
  },
  {
   "cell_type": "code",
   "execution_count": 15,
   "id": "9d739571",
   "metadata": {
    "ExecuteTime": {
     "end_time": "2022-10-06T04:01:18.568568Z",
     "start_time": "2022-10-06T04:01:18.400673Z"
    }
   },
   "outputs": [
    {
     "name": "stdout",
     "output_type": "stream",
     "text": [
      "(99441, 5)\n"
     ]
    },
    {
     "data": {
      "text/html": [
       "<div>\n",
       "<style scoped>\n",
       "    .dataframe tbody tr th:only-of-type {\n",
       "        vertical-align: middle;\n",
       "    }\n",
       "\n",
       "    .dataframe tbody tr th {\n",
       "        vertical-align: top;\n",
       "    }\n",
       "\n",
       "    .dataframe thead th {\n",
       "        text-align: right;\n",
       "    }\n",
       "</style>\n",
       "<table border=\"1\" class=\"dataframe\">\n",
       "  <thead>\n",
       "    <tr style=\"text-align: right;\">\n",
       "      <th></th>\n",
       "      <th>customer_id</th>\n",
       "      <th>customer_unique_id</th>\n",
       "      <th>customer_zip_code_prefix</th>\n",
       "      <th>customer_city</th>\n",
       "      <th>customer_state</th>\n",
       "    </tr>\n",
       "  </thead>\n",
       "  <tbody>\n",
       "    <tr>\n",
       "      <th>0</th>\n",
       "      <td>06b8999e2fba1a1fbc88172c00ba8bc7</td>\n",
       "      <td>861eff4711a542e4b93843c6dd7febb0</td>\n",
       "      <td>14409</td>\n",
       "      <td>franca</td>\n",
       "      <td>SP</td>\n",
       "    </tr>\n",
       "    <tr>\n",
       "      <th>1</th>\n",
       "      <td>18955e83d337fd6b2def6b18a428ac77</td>\n",
       "      <td>290c77bc529b7ac935b93aa66c333dc3</td>\n",
       "      <td>9790</td>\n",
       "      <td>sao bernardo do campo</td>\n",
       "      <td>SP</td>\n",
       "    </tr>\n",
       "  </tbody>\n",
       "</table>\n",
       "</div>"
      ],
      "text/plain": [
       "                        customer_id                customer_unique_id  \\\n",
       "0  06b8999e2fba1a1fbc88172c00ba8bc7  861eff4711a542e4b93843c6dd7febb0   \n",
       "1  18955e83d337fd6b2def6b18a428ac77  290c77bc529b7ac935b93aa66c333dc3   \n",
       "\n",
       "   customer_zip_code_prefix          customer_city customer_state  \n",
       "0                     14409                 franca             SP  \n",
       "1                      9790  sao bernardo do campo             SP  "
      ]
     },
     "execution_count": 15,
     "metadata": {},
     "output_type": "execute_result"
    }
   ],
   "source": [
    "print(customers.shape)\n",
    "customers.head(2)"
   ]
  },
  {
   "cell_type": "code",
   "execution_count": 16,
   "id": "773187b9",
   "metadata": {
    "ExecuteTime": {
     "end_time": "2022-10-06T04:01:18.799427Z",
     "start_time": "2022-10-06T04:01:18.572564Z"
    }
   },
   "outputs": [
    {
     "name": "stdout",
     "output_type": "stream",
     "text": [
      "(103886, 5)\n"
     ]
    },
    {
     "data": {
      "text/html": [
       "<div>\n",
       "<style scoped>\n",
       "    .dataframe tbody tr th:only-of-type {\n",
       "        vertical-align: middle;\n",
       "    }\n",
       "\n",
       "    .dataframe tbody tr th {\n",
       "        vertical-align: top;\n",
       "    }\n",
       "\n",
       "    .dataframe thead th {\n",
       "        text-align: right;\n",
       "    }\n",
       "</style>\n",
       "<table border=\"1\" class=\"dataframe\">\n",
       "  <thead>\n",
       "    <tr style=\"text-align: right;\">\n",
       "      <th></th>\n",
       "      <th>order_id</th>\n",
       "      <th>payment_sequential</th>\n",
       "      <th>payment_type</th>\n",
       "      <th>payment_installments</th>\n",
       "      <th>payment_value</th>\n",
       "    </tr>\n",
       "  </thead>\n",
       "  <tbody>\n",
       "    <tr>\n",
       "      <th>0</th>\n",
       "      <td>b81ef226f3fe1789b1e8b2acac839d17</td>\n",
       "      <td>1</td>\n",
       "      <td>credit_card</td>\n",
       "      <td>8</td>\n",
       "      <td>99.33</td>\n",
       "    </tr>\n",
       "    <tr>\n",
       "      <th>1</th>\n",
       "      <td>a9810da82917af2d9aefd1278f1dcfa0</td>\n",
       "      <td>1</td>\n",
       "      <td>credit_card</td>\n",
       "      <td>1</td>\n",
       "      <td>24.39</td>\n",
       "    </tr>\n",
       "  </tbody>\n",
       "</table>\n",
       "</div>"
      ],
      "text/plain": [
       "                           order_id  payment_sequential payment_type  \\\n",
       "0  b81ef226f3fe1789b1e8b2acac839d17                   1  credit_card   \n",
       "1  a9810da82917af2d9aefd1278f1dcfa0                   1  credit_card   \n",
       "\n",
       "   payment_installments  payment_value  \n",
       "0                     8          99.33  \n",
       "1                     1          24.39  "
      ]
     },
     "execution_count": 16,
     "metadata": {},
     "output_type": "execute_result"
    }
   ],
   "source": [
    "print(payments.shape)\n",
    "payments.head(2)"
   ]
  },
  {
   "cell_type": "code",
   "execution_count": 17,
   "id": "fa7719fc",
   "metadata": {
    "ExecuteTime": {
     "end_time": "2022-10-06T04:01:19.018293Z",
     "start_time": "2022-10-06T04:01:18.805422Z"
    }
   },
   "outputs": [
    {
     "name": "stdout",
     "output_type": "stream",
     "text": [
      "(3095, 4)\n"
     ]
    },
    {
     "data": {
      "text/html": [
       "<div>\n",
       "<style scoped>\n",
       "    .dataframe tbody tr th:only-of-type {\n",
       "        vertical-align: middle;\n",
       "    }\n",
       "\n",
       "    .dataframe tbody tr th {\n",
       "        vertical-align: top;\n",
       "    }\n",
       "\n",
       "    .dataframe thead th {\n",
       "        text-align: right;\n",
       "    }\n",
       "</style>\n",
       "<table border=\"1\" class=\"dataframe\">\n",
       "  <thead>\n",
       "    <tr style=\"text-align: right;\">\n",
       "      <th></th>\n",
       "      <th>seller_id</th>\n",
       "      <th>seller_zip_code_prefix</th>\n",
       "      <th>seller_city</th>\n",
       "      <th>seller_state</th>\n",
       "    </tr>\n",
       "  </thead>\n",
       "  <tbody>\n",
       "    <tr>\n",
       "      <th>0</th>\n",
       "      <td>3442f8959a84dea7ee197c632cb2df15</td>\n",
       "      <td>13023</td>\n",
       "      <td>campinas</td>\n",
       "      <td>SP</td>\n",
       "    </tr>\n",
       "    <tr>\n",
       "      <th>1</th>\n",
       "      <td>d1b65fc7debc3361ea86b5f14c68d2e2</td>\n",
       "      <td>13844</td>\n",
       "      <td>mogi guacu</td>\n",
       "      <td>SP</td>\n",
       "    </tr>\n",
       "  </tbody>\n",
       "</table>\n",
       "</div>"
      ],
      "text/plain": [
       "                          seller_id  seller_zip_code_prefix seller_city  \\\n",
       "0  3442f8959a84dea7ee197c632cb2df15                   13023    campinas   \n",
       "1  d1b65fc7debc3361ea86b5f14c68d2e2                   13844  mogi guacu   \n",
       "\n",
       "  seller_state  \n",
       "0           SP  \n",
       "1           SP  "
      ]
     },
     "execution_count": 17,
     "metadata": {},
     "output_type": "execute_result"
    }
   ],
   "source": [
    "print(seller.shape)\n",
    "seller.head(2)"
   ]
  },
  {
   "cell_type": "markdown",
   "id": "b9c0caab",
   "metadata": {},
   "source": [
    "# Limpando dados"
   ]
  },
  {
   "cell_type": "markdown",
   "id": "5e3eb8b7",
   "metadata": {},
   "source": [
    "## Clientes - customers"
   ]
  },
  {
   "cell_type": "markdown",
   "id": "b6a92d5f",
   "metadata": {},
   "source": [
    "Tabela de clientes 99441 linhas  5 colunas ('customer_id', 'customer_unique_id', customer_zip_code_prefix','customer_city', 'customer_state')"
   ]
  },
  {
   "cell_type": "code",
   "execution_count": 18,
   "id": "e1379480",
   "metadata": {
    "ExecuteTime": {
     "end_time": "2022-10-06T04:01:19.161205Z",
     "start_time": "2022-10-06T04:01:19.024287Z"
    }
   },
   "outputs": [
    {
     "data": {
      "text/plain": [
       "(99441, 5)"
      ]
     },
     "execution_count": 18,
     "metadata": {},
     "output_type": "execute_result"
    }
   ],
   "source": [
    "customers.shape"
   ]
  },
  {
   "cell_type": "code",
   "execution_count": 19,
   "id": "c132b60c",
   "metadata": {
    "ExecuteTime": {
     "end_time": "2022-10-06T04:01:19.410048Z",
     "start_time": "2022-10-06T04:01:19.167199Z"
    },
    "cell_style": "center"
   },
   "outputs": [
    {
     "name": "stdout",
     "output_type": "stream",
     "text": [
      "<class 'pandas.core.frame.DataFrame'>\n",
      "RangeIndex: 99441 entries, 0 to 99440\n",
      "Data columns (total 5 columns):\n",
      " #   Column                    Non-Null Count  Dtype \n",
      "---  ------                    --------------  ----- \n",
      " 0   customer_id               99441 non-null  object\n",
      " 1   customer_unique_id        99441 non-null  object\n",
      " 2   customer_zip_code_prefix  99441 non-null  int64 \n",
      " 3   customer_city             99441 non-null  object\n",
      " 4   customer_state            99441 non-null  object\n",
      "dtypes: int64(1), object(4)\n",
      "memory usage: 3.8+ MB\n"
     ]
    }
   ],
   "source": [
    "customers.info()"
   ]
  },
  {
   "cell_type": "code",
   "execution_count": 20,
   "id": "b7ac5afc",
   "metadata": {
    "ExecuteTime": {
     "end_time": "2022-10-06T04:01:19.551963Z",
     "start_time": "2022-10-06T04:01:19.416045Z"
    },
    "cell_style": "center"
   },
   "outputs": [
    {
     "data": {
      "text/plain": [
       "customer_id                 0\n",
       "customer_unique_id          0\n",
       "customer_zip_code_prefix    0\n",
       "customer_city               0\n",
       "customer_state              0\n",
       "dtype: int64"
      ]
     },
     "execution_count": 20,
     "metadata": {},
     "output_type": "execute_result"
    }
   ],
   "source": [
    "customers.isnull().sum()"
   ]
  },
  {
   "cell_type": "code",
   "execution_count": 21,
   "id": "144a2c66",
   "metadata": {
    "ExecuteTime": {
     "end_time": "2022-10-06T04:01:19.740849Z",
     "start_time": "2022-10-06T04:01:19.556958Z"
    }
   },
   "outputs": [
    {
     "data": {
      "text/plain": [
       "0        0\n",
       "1        0\n",
       "2        0\n",
       "3        0\n",
       "4        0\n",
       "        ..\n",
       "99436    0\n",
       "99437    0\n",
       "99438    0\n",
       "99439    0\n",
       "99440    0\n",
       "Length: 99441, dtype: int32"
      ]
     },
     "execution_count": 21,
     "metadata": {},
     "output_type": "execute_result"
    }
   ],
   "source": [
    "customers.duplicated(subset=['customer_unique_id']).astype(int)"
   ]
  },
  {
   "cell_type": "code",
   "execution_count": 22,
   "id": "3b030468",
   "metadata": {
    "ExecuteTime": {
     "end_time": "2022-10-06T04:01:19.880760Z",
     "start_time": "2022-10-06T04:01:19.745841Z"
    }
   },
   "outputs": [],
   "source": [
    "customers.drop(['customer_city', 'customer_unique_id'], axis=1, inplace=True)\n",
    "customers.rename(columns={\"customer_state\": \"state_code\"}, inplace=True)"
   ]
  },
  {
   "cell_type": "code",
   "execution_count": 23,
   "id": "923e0fbe",
   "metadata": {
    "ExecuteTime": {
     "end_time": "2022-10-06T04:01:20.068643Z",
     "start_time": "2022-10-06T04:01:19.887755Z"
    }
   },
   "outputs": [
    {
     "data": {
      "text/plain": [
       "Index(['customer_id', 'customer_zip_code_prefix', 'state_code'], dtype='object')"
      ]
     },
     "execution_count": 23,
     "metadata": {},
     "output_type": "execute_result"
    }
   ],
   "source": [
    "customers.columns"
   ]
  },
  {
   "cell_type": "markdown",
   "id": "09949ee3",
   "metadata": {},
   "source": [
    "### Envio do arquivo limpo- clientes.csv"
   ]
  },
  {
   "cell_type": "code",
   "execution_count": 24,
   "id": "e78a68d1",
   "metadata": {
    "ExecuteTime": {
     "end_time": "2022-10-06T04:01:20.825180Z",
     "start_time": "2022-10-06T04:01:20.073641Z"
    }
   },
   "outputs": [],
   "source": [
    "customers.to_csv('Data/clientes.csv')"
   ]
  },
  {
   "cell_type": "markdown",
   "id": "968d6097",
   "metadata": {
    "ExecuteTime": {
     "end_time": "2022-10-04T00:07:55.866202Z",
     "start_time": "2022-10-04T00:07:55.845213Z"
    }
   },
   "source": [
    "## Ordens - order"
   ]
  },
  {
   "cell_type": "markdown",
   "id": "d025c401",
   "metadata": {},
   "source": [
    "Tabela 'ordens' tem 99441 linhas e 9 colunas ('order_id', 'customer_id', 'order_status', 'order_purchase_timestamp',\n",
    "'order_approved_at', 'order_delivered_carrier_date',\n",
    "'order_delivered_customer_date', 'order_estimated_delivery_date)\n",
    "\n",
    "\n",
    "Nulos (order_approved_at - 160, order_delivered_carrier_date -  1783, order_delivered_customer_date- 2965)"
   ]
  },
  {
   "cell_type": "code",
   "execution_count": 25,
   "id": "6094c876",
   "metadata": {
    "ExecuteTime": {
     "end_time": "2022-10-06T04:01:20.856157Z",
     "start_time": "2022-10-06T04:01:20.831175Z"
    }
   },
   "outputs": [
    {
     "data": {
      "text/plain": [
       "(99441, 8)"
      ]
     },
     "execution_count": 25,
     "metadata": {},
     "output_type": "execute_result"
    }
   ],
   "source": [
    "order.shape"
   ]
  },
  {
   "cell_type": "code",
   "execution_count": 26,
   "id": "592bb0cc",
   "metadata": {
    "ExecuteTime": {
     "end_time": "2022-10-06T04:01:21.266907Z",
     "start_time": "2022-10-06T04:01:20.861155Z"
    },
    "cell_style": "center"
   },
   "outputs": [
    {
     "data": {
      "text/plain": [
       "order_id                            0\n",
       "customer_id                         0\n",
       "order_status                        0\n",
       "order_purchase_timestamp            0\n",
       "order_approved_at                 160\n",
       "order_delivered_carrier_date     1783\n",
       "order_delivered_customer_date    2965\n",
       "order_estimated_delivery_date       0\n",
       "dtype: int64"
      ]
     },
     "execution_count": 26,
     "metadata": {},
     "output_type": "execute_result"
    }
   ],
   "source": [
    "order.isnull().sum()"
   ]
  },
  {
   "cell_type": "code",
   "execution_count": 27,
   "id": "72854286",
   "metadata": {
    "ExecuteTime": {
     "end_time": "2022-10-06T04:01:21.736615Z",
     "start_time": "2022-10-06T04:01:21.271902Z"
    },
    "cell_style": "center"
   },
   "outputs": [
    {
     "name": "stdout",
     "output_type": "stream",
     "text": [
      "<class 'pandas.core.frame.DataFrame'>\n",
      "RangeIndex: 99441 entries, 0 to 99440\n",
      "Data columns (total 8 columns):\n",
      " #   Column                         Non-Null Count  Dtype \n",
      "---  ------                         --------------  ----- \n",
      " 0   order_id                       99441 non-null  object\n",
      " 1   customer_id                    99441 non-null  object\n",
      " 2   order_status                   99441 non-null  object\n",
      " 3   order_purchase_timestamp       99441 non-null  object\n",
      " 4   order_approved_at              99281 non-null  object\n",
      " 5   order_delivered_carrier_date   97658 non-null  object\n",
      " 6   order_delivered_customer_date  96476 non-null  object\n",
      " 7   order_estimated_delivery_date  99441 non-null  object\n",
      "dtypes: object(8)\n",
      "memory usage: 6.1+ MB\n"
     ]
    }
   ],
   "source": [
    "order.info()"
   ]
  },
  {
   "cell_type": "code",
   "execution_count": 28,
   "id": "715477fb",
   "metadata": {
    "ExecuteTime": {
     "end_time": "2022-10-06T04:01:21.894517Z",
     "start_time": "2022-10-06T04:01:21.764599Z"
    }
   },
   "outputs": [
    {
     "data": {
      "text/plain": [
       "Index(['order_id', 'customer_id', 'order_status', 'order_purchase_timestamp',\n",
       "       'order_approved_at', 'order_delivered_carrier_date',\n",
       "       'order_delivered_customer_date', 'order_estimated_delivery_date'],\n",
       "      dtype='object')"
      ]
     },
     "execution_count": 28,
     "metadata": {},
     "output_type": "execute_result"
    }
   ],
   "source": [
    "order.columns"
   ]
  },
  {
   "cell_type": "markdown",
   "id": "fcd1c6b0",
   "metadata": {},
   "source": [
    "### Tratando linhas nulas(ordens"
   ]
  },
  {
   "cell_type": "markdown",
   "id": "b3c189c0",
   "metadata": {},
   "source": [
    "Tratando dados nulos com dados de colunas próximas"
   ]
  },
  {
   "cell_type": "code",
   "execution_count": 29,
   "id": "5876fae8",
   "metadata": {
    "ExecuteTime": {
     "end_time": "2022-10-06T04:01:22.036433Z",
     "start_time": "2022-10-06T04:01:21.900515Z"
    }
   },
   "outputs": [],
   "source": [
    "order[\"order_approved_at\"].fillna(order[\"order_purchase_timestamp\"], inplace=True)\n",
    "order[\"order_delivered_customer_date\"].fillna(order[\"order_estimated_delivery_date\"], inplace=True)\n",
    "order[\"order_delivered_carrier_date\"].fillna(order[\"order_delivered_customer_date\"], inplace=True)"
   ]
  },
  {
   "cell_type": "code",
   "execution_count": 30,
   "id": "9d3d899b",
   "metadata": {
    "ExecuteTime": {
     "end_time": "2022-10-06T04:01:22.161356Z",
     "start_time": "2022-10-06T04:01:22.041428Z"
    }
   },
   "outputs": [
    {
     "data": {
      "text/plain": [
       "Index(['order_id', 'customer_id', 'order_status', 'order_purchase_timestamp',\n",
       "       'order_approved_at', 'order_delivered_carrier_date',\n",
       "       'order_delivered_customer_date', 'order_estimated_delivery_date'],\n",
       "      dtype='object')"
      ]
     },
     "execution_count": 30,
     "metadata": {},
     "output_type": "execute_result"
    }
   ],
   "source": [
    "order.columns"
   ]
  },
  {
   "cell_type": "markdown",
   "id": "5e8fe696",
   "metadata": {},
   "source": [
    "### Alterando data type"
   ]
  },
  {
   "cell_type": "code",
   "execution_count": 31,
   "id": "dff36551",
   "metadata": {
    "ExecuteTime": {
     "end_time": "2022-10-06T04:01:22.907896Z",
     "start_time": "2022-10-06T04:01:22.167352Z"
    }
   },
   "outputs": [],
   "source": [
    "times_cols = ['order_purchase_timestamp', 'order_approved_at', 'order_delivered_carrier_date','order_delivered_customer_date', 'order_estimated_delivery_date']\n",
    "for col in times_cols:\n",
    "    order[col] = pd.to_datetime(order[col])    "
   ]
  },
  {
   "cell_type": "code",
   "execution_count": 32,
   "id": "3a687320",
   "metadata": {
    "ExecuteTime": {
     "end_time": "2022-10-06T04:01:22.938875Z",
     "start_time": "2022-10-06T04:01:22.913890Z"
    }
   },
   "outputs": [],
   "source": [
    "order['prazo_entrega']= (order['order_estimated_delivery_date'] - order['order_delivered_customer_date']).astype('timedelta64[D]')"
   ]
  },
  {
   "cell_type": "code",
   "execution_count": 33,
   "id": "22239af6",
   "metadata": {
    "ExecuteTime": {
     "end_time": "2022-10-06T04:01:23.223699Z",
     "start_time": "2022-10-06T04:01:22.944871Z"
    }
   },
   "outputs": [
    {
     "name": "stdout",
     "output_type": "stream",
     "text": [
      "<class 'pandas.core.frame.DataFrame'>\n",
      "RangeIndex: 99441 entries, 0 to 99440\n",
      "Data columns (total 9 columns):\n",
      " #   Column                         Non-Null Count  Dtype         \n",
      "---  ------                         --------------  -----         \n",
      " 0   order_id                       99441 non-null  object        \n",
      " 1   customer_id                    99441 non-null  object        \n",
      " 2   order_status                   99441 non-null  object        \n",
      " 3   order_purchase_timestamp       99441 non-null  datetime64[ns]\n",
      " 4   order_approved_at              99441 non-null  datetime64[ns]\n",
      " 5   order_delivered_carrier_date   99441 non-null  datetime64[ns]\n",
      " 6   order_delivered_customer_date  99441 non-null  datetime64[ns]\n",
      " 7   order_estimated_delivery_date  99441 non-null  datetime64[ns]\n",
      " 8   prazo_entrega                  99441 non-null  float64       \n",
      "dtypes: datetime64[ns](5), float64(1), object(3)\n",
      "memory usage: 6.8+ MB\n"
     ]
    }
   ],
   "source": [
    "order.info()"
   ]
  },
  {
   "cell_type": "markdown",
   "id": "33fb73ff",
   "metadata": {},
   "source": [
    "### Envio do arquivo limpo- ordens.csv"
   ]
  },
  {
   "cell_type": "code",
   "execution_count": 34,
   "id": "d4619874",
   "metadata": {
    "ExecuteTime": {
     "end_time": "2022-10-06T04:01:28.516438Z",
     "start_time": "2022-10-06T04:01:23.229696Z"
    }
   },
   "outputs": [],
   "source": [
    "order.to_csv('Data/ordens.csv')"
   ]
  },
  {
   "cell_type": "markdown",
   "id": "9d7c443d",
   "metadata": {
    "ExecuteTime": {
     "end_time": "2022-10-04T00:44:50.125439Z",
     "start_time": "2022-10-04T00:44:50.108450Z"
    }
   },
   "source": [
    "## Produtos - products"
   ]
  },
  {
   "cell_type": "markdown",
   "id": "a7b9ce72",
   "metadata": {},
   "source": [
    "Tabela com 32340 linhas com 6 colunas"
   ]
  },
  {
   "cell_type": "code",
   "execution_count": 35,
   "id": "585a9887",
   "metadata": {
    "ExecuteTime": {
     "end_time": "2022-10-06T04:01:28.547419Z",
     "start_time": "2022-10-06T04:01:28.520436Z"
    }
   },
   "outputs": [
    {
     "data": {
      "text/plain": [
       "(32951, 9)"
      ]
     },
     "execution_count": 35,
     "metadata": {},
     "output_type": "execute_result"
    }
   ],
   "source": [
    "products.shape"
   ]
  },
  {
   "cell_type": "code",
   "execution_count": 36,
   "id": "60a0ed2d",
   "metadata": {
    "ExecuteTime": {
     "end_time": "2022-10-06T04:01:28.736306Z",
     "start_time": "2022-10-06T04:01:28.554417Z"
    },
    "cell_style": "center"
   },
   "outputs": [
    {
     "name": "stdout",
     "output_type": "stream",
     "text": [
      "<class 'pandas.core.frame.DataFrame'>\n",
      "RangeIndex: 32951 entries, 0 to 32950\n",
      "Data columns (total 9 columns):\n",
      " #   Column                      Non-Null Count  Dtype  \n",
      "---  ------                      --------------  -----  \n",
      " 0   product_id                  32951 non-null  object \n",
      " 1   product_category_name       32341 non-null  object \n",
      " 2   product_name_lenght         32341 non-null  float64\n",
      " 3   product_description_lenght  32341 non-null  float64\n",
      " 4   product_photos_qty          32341 non-null  float64\n",
      " 5   product_weight_g            32949 non-null  float64\n",
      " 6   product_length_cm           32949 non-null  float64\n",
      " 7   product_height_cm           32949 non-null  float64\n",
      " 8   product_width_cm            32949 non-null  float64\n",
      "dtypes: float64(7), object(2)\n",
      "memory usage: 2.3+ MB\n"
     ]
    }
   ],
   "source": [
    "products.info()"
   ]
  },
  {
   "cell_type": "code",
   "execution_count": 37,
   "id": "d9e1cf1d",
   "metadata": {
    "ExecuteTime": {
     "end_time": "2022-10-06T04:01:28.912197Z",
     "start_time": "2022-10-06T04:01:28.741300Z"
    },
    "cell_style": "center"
   },
   "outputs": [
    {
     "data": {
      "text/plain": [
       "product_id                      0\n",
       "product_category_name         610\n",
       "product_name_lenght           610\n",
       "product_description_lenght    610\n",
       "product_photos_qty            610\n",
       "product_weight_g                2\n",
       "product_length_cm               2\n",
       "product_height_cm               2\n",
       "product_width_cm                2\n",
       "dtype: int64"
      ]
     },
     "execution_count": 37,
     "metadata": {},
     "output_type": "execute_result"
    }
   ],
   "source": [
    "products.isnull().sum()"
   ]
  },
  {
   "cell_type": "code",
   "execution_count": 38,
   "id": "2bb4d5a5",
   "metadata": {
    "ExecuteTime": {
     "end_time": "2022-10-06T04:01:29.040115Z",
     "start_time": "2022-10-06T04:01:28.917191Z"
    }
   },
   "outputs": [
    {
     "data": {
      "text/plain": [
       "Index(['product_id', 'product_category_name', 'product_name_lenght',\n",
       "       'product_description_lenght', 'product_photos_qty', 'product_weight_g',\n",
       "       'product_length_cm', 'product_height_cm', 'product_width_cm'],\n",
       "      dtype='object')"
      ]
     },
     "execution_count": 38,
     "metadata": {},
     "output_type": "execute_result"
    }
   ],
   "source": [
    "products.columns"
   ]
  },
  {
   "cell_type": "code",
   "execution_count": 39,
   "id": "399f15b3",
   "metadata": {
    "ExecuteTime": {
     "end_time": "2022-10-06T04:01:29.180036Z",
     "start_time": "2022-10-06T04:01:29.046112Z"
    },
    "scrolled": true
   },
   "outputs": [
    {
     "data": {
      "text/plain": [
       "cama_mesa_banho           3029\n",
       "esporte_lazer             2867\n",
       "moveis_decoracao          2657\n",
       "beleza_saude              2444\n",
       "utilidades_domesticas     2335\n",
       "automotivo                1900\n",
       "informatica_acessorios    1639\n",
       "brinquedos                1411\n",
       "relogios_presentes        1329\n",
       "telefonia                 1134\n",
       "Name: product_category_name, dtype: int64"
      ]
     },
     "execution_count": 39,
     "metadata": {},
     "output_type": "execute_result"
    }
   ],
   "source": [
    "products['product_category_name'].value_counts().head(10)"
   ]
  },
  {
   "cell_type": "code",
   "execution_count": 40,
   "id": "780ba998",
   "metadata": {
    "ExecuteTime": {
     "end_time": "2022-10-06T04:01:29.338933Z",
     "start_time": "2022-10-06T04:01:29.186028Z"
    }
   },
   "outputs": [],
   "source": [
    "products['product_category_name'] = products['product_category_name'].fillna('not_reported')"
   ]
  },
  {
   "cell_type": "markdown",
   "id": "8524b119",
   "metadata": {},
   "source": [
    "### Envio do arquivo limpo- produtos.csv"
   ]
  },
  {
   "cell_type": "code",
   "execution_count": 41,
   "id": "154656f6",
   "metadata": {
    "ExecuteTime": {
     "end_time": "2022-10-06T04:01:30.015518Z",
     "start_time": "2022-10-06T04:01:29.344928Z"
    }
   },
   "outputs": [],
   "source": [
    "products.to_csv('Data/produtos.csv')"
   ]
  },
  {
   "cell_type": "markdown",
   "id": "25cb1207",
   "metadata": {},
   "source": [
    "## Avaliações - reviews"
   ]
  },
  {
   "cell_type": "markdown",
   "id": "9fb117d1",
   "metadata": {},
   "source": [
    "Tabela 'avaliacoes' tem 99224 linhas e 7 colunas (review_id,order_id, review_score, \n",
    "review_comment_title, review_comment_message, review_creation_date, review_answer_timestamp)"
   ]
  },
  {
   "cell_type": "code",
   "execution_count": 42,
   "id": "211b6b4f",
   "metadata": {
    "ExecuteTime": {
     "end_time": "2022-10-06T04:01:30.031504Z",
     "start_time": "2022-10-06T04:01:30.020512Z"
    }
   },
   "outputs": [
    {
     "data": {
      "text/plain": [
       "(99224, 7)"
      ]
     },
     "execution_count": 42,
     "metadata": {},
     "output_type": "execute_result"
    }
   ],
   "source": [
    "reviews.shape"
   ]
  },
  {
   "cell_type": "code",
   "execution_count": 43,
   "id": "4ac58bbd",
   "metadata": {
    "ExecuteTime": {
     "end_time": "2022-10-06T04:01:30.378315Z",
     "start_time": "2022-10-06T04:01:30.038500Z"
    },
    "cell_style": "center"
   },
   "outputs": [
    {
     "name": "stdout",
     "output_type": "stream",
     "text": [
      "<class 'pandas.core.frame.DataFrame'>\n",
      "RangeIndex: 99224 entries, 0 to 99223\n",
      "Data columns (total 7 columns):\n",
      " #   Column                   Non-Null Count  Dtype \n",
      "---  ------                   --------------  ----- \n",
      " 0   review_id                99224 non-null  object\n",
      " 1   order_id                 99224 non-null  object\n",
      " 2   review_score             99224 non-null  int64 \n",
      " 3   review_comment_title     11568 non-null  object\n",
      " 4   review_comment_message   40977 non-null  object\n",
      " 5   review_creation_date     99224 non-null  object\n",
      " 6   review_answer_timestamp  99224 non-null  object\n",
      "dtypes: int64(1), object(6)\n",
      "memory usage: 5.3+ MB\n"
     ]
    }
   ],
   "source": [
    "reviews.info()"
   ]
  },
  {
   "cell_type": "code",
   "execution_count": 44,
   "id": "5f4fd8d9",
   "metadata": {
    "ExecuteTime": {
     "end_time": "2022-10-06T04:01:30.595183Z",
     "start_time": "2022-10-06T04:01:30.384311Z"
    },
    "cell_style": "center"
   },
   "outputs": [
    {
     "data": {
      "text/plain": [
       "review_id                      0\n",
       "order_id                       0\n",
       "review_score                   0\n",
       "review_comment_title       87656\n",
       "review_comment_message     58247\n",
       "review_creation_date           0\n",
       "review_answer_timestamp        0\n",
       "dtype: int64"
      ]
     },
     "execution_count": 44,
     "metadata": {},
     "output_type": "execute_result"
    }
   ],
   "source": [
    "reviews.isnull().sum()"
   ]
  },
  {
   "cell_type": "code",
   "execution_count": 45,
   "id": "984a4f13",
   "metadata": {
    "ExecuteTime": {
     "end_time": "2022-10-06T04:01:30.893267Z",
     "start_time": "2022-10-06T04:01:30.600179Z"
    }
   },
   "outputs": [],
   "source": [
    "reviews.drop_duplicates(subset=['order_id'], keep='last', ignore_index=True, inplace=True)\n",
    "reviews.drop_duplicates(subset=['review_id'], keep=False, ignore_index=True, inplace=True)"
   ]
  },
  {
   "cell_type": "code",
   "execution_count": 46,
   "id": "ef3b2ffe",
   "metadata": {
    "ExecuteTime": {
     "end_time": "2022-10-06T04:01:31.148008Z",
     "start_time": "2022-10-06T04:01:30.897266Z"
    }
   },
   "outputs": [],
   "source": [
    "reviews['review_answer_timestamp'] = pd.to_datetime(reviews['review_answer_timestamp'], format='%Y/%m/%d')\n",
    "reviews['review_creation_date'] = pd.to_datetime(reviews['review_creation_date'], format='%Y/%m/%d')"
   ]
  },
  {
   "cell_type": "code",
   "execution_count": 47,
   "id": "ab8306fc",
   "metadata": {
    "ExecuteTime": {
     "end_time": "2022-10-06T04:01:31.306100Z",
     "start_time": "2022-10-06T04:01:31.156004Z"
    }
   },
   "outputs": [],
   "source": [
    "reviews['tempo_resposta'] = (reviews['review_creation_date'] - reviews['review_answer_timestamp']).dt.days"
   ]
  },
  {
   "cell_type": "code",
   "execution_count": 48,
   "id": "0594b32d",
   "metadata": {
    "ExecuteTime": {
     "end_time": "2022-10-06T04:01:31.480216Z",
     "start_time": "2022-10-06T04:01:31.312093Z"
    }
   },
   "outputs": [
    {
     "data": {
      "text/plain": [
       "Index(['review_id', 'order_id', 'review_score', 'review_comment_title',\n",
       "       'review_comment_message', 'review_creation_date',\n",
       "       'review_answer_timestamp', 'tempo_resposta'],\n",
       "      dtype='object')"
      ]
     },
     "execution_count": 48,
     "metadata": {},
     "output_type": "execute_result"
    }
   ],
   "source": [
    "reviews.columns"
   ]
  },
  {
   "cell_type": "markdown",
   "id": "8e1bf22b",
   "metadata": {
    "ExecuteTime": {
     "end_time": "2022-10-06T02:49:36.177653Z",
     "start_time": "2022-10-06T02:49:36.156668Z"
    }
   },
   "source": [
    "### Envio do arquivo limpo- avalicoes.csv"
   ]
  },
  {
   "cell_type": "code",
   "execution_count": 49,
   "id": "e3a1e999",
   "metadata": {
    "ExecuteTime": {
     "end_time": "2022-10-06T04:01:33.671867Z",
     "start_time": "2022-10-06T04:01:31.489212Z"
    }
   },
   "outputs": [],
   "source": [
    "reviews.to_csv('Data/avaliacoes.csv')"
   ]
  },
  {
   "cell_type": "markdown",
   "id": "05bc5122",
   "metadata": {},
   "source": [
    "## Vendedores - Seller"
   ]
  },
  {
   "cell_type": "markdown",
   "id": "49309921",
   "metadata": {},
   "source": [
    "Tabela de vendedores 3095 linhas  5 colunas ('seller_id', 'seller_zip_code_prefix', 'seller_city', 'seller_state')"
   ]
  },
  {
   "cell_type": "code",
   "execution_count": 50,
   "id": "712810ba",
   "metadata": {
    "ExecuteTime": {
     "end_time": "2022-10-06T04:01:33.686857Z",
     "start_time": "2022-10-06T04:01:33.675862Z"
    }
   },
   "outputs": [
    {
     "data": {
      "text/plain": [
       "(3095, 4)"
      ]
     },
     "execution_count": 50,
     "metadata": {},
     "output_type": "execute_result"
    }
   ],
   "source": [
    "seller.shape"
   ]
  },
  {
   "cell_type": "code",
   "execution_count": 51,
   "id": "fa9aefd8",
   "metadata": {
    "ExecuteTime": {
     "end_time": "2022-10-06T04:01:33.894732Z",
     "start_time": "2022-10-06T04:01:33.691854Z"
    },
    "cell_style": "center",
    "run_control": {
     "marked": false
    }
   },
   "outputs": [
    {
     "name": "stdout",
     "output_type": "stream",
     "text": [
      "<class 'pandas.core.frame.DataFrame'>\n",
      "RangeIndex: 3095 entries, 0 to 3094\n",
      "Data columns (total 4 columns):\n",
      " #   Column                  Non-Null Count  Dtype \n",
      "---  ------                  --------------  ----- \n",
      " 0   seller_id               3095 non-null   object\n",
      " 1   seller_zip_code_prefix  3095 non-null   int64 \n",
      " 2   seller_city             3095 non-null   object\n",
      " 3   seller_state            3095 non-null   object\n",
      "dtypes: int64(1), object(3)\n",
      "memory usage: 96.8+ KB\n"
     ]
    }
   ],
   "source": [
    "seller.info()"
   ]
  },
  {
   "cell_type": "code",
   "execution_count": 52,
   "id": "76f3f8f8",
   "metadata": {
    "ExecuteTime": {
     "end_time": "2022-10-06T04:01:34.052633Z",
     "start_time": "2022-10-06T04:01:33.898727Z"
    },
    "cell_style": "split"
   },
   "outputs": [
    {
     "data": {
      "text/plain": [
       "seller_id                 0\n",
       "seller_zip_code_prefix    0\n",
       "seller_city               0\n",
       "seller_state              0\n",
       "dtype: int64"
      ]
     },
     "execution_count": 52,
     "metadata": {},
     "output_type": "execute_result"
    }
   ],
   "source": [
    "seller.isnull().sum()"
   ]
  },
  {
   "cell_type": "code",
   "execution_count": 53,
   "id": "e2ec58ba",
   "metadata": {
    "ExecuteTime": {
     "end_time": "2022-10-06T04:01:34.194543Z",
     "start_time": "2022-10-06T04:01:34.058628Z"
    }
   },
   "outputs": [
    {
     "data": {
      "text/plain": [
       "Index(['seller_id', 'seller_zip_code_prefix', 'seller_city', 'seller_state'], dtype='object')"
      ]
     },
     "execution_count": 53,
     "metadata": {},
     "output_type": "execute_result"
    }
   ],
   "source": [
    "seller.columns"
   ]
  },
  {
   "cell_type": "markdown",
   "id": "90bb87c5",
   "metadata": {},
   "source": [
    "### Envio do arquivo limpo- vendedores.csv"
   ]
  },
  {
   "cell_type": "code",
   "execution_count": 54,
   "id": "48014324",
   "metadata": {
    "ExecuteTime": {
     "end_time": "2022-10-06T04:01:34.353824Z",
     "start_time": "2022-10-06T04:01:34.200540Z"
    }
   },
   "outputs": [],
   "source": [
    "seller.to_csv('Data/vendedores.csv')"
   ]
  },
  {
   "cell_type": "markdown",
   "id": "d6fe51e7",
   "metadata": {},
   "source": [
    "## Pagamentos - payments"
   ]
  },
  {
   "cell_type": "markdown",
   "id": "95874b54",
   "metadata": {},
   "source": [
    "Tabela de pagamentos 103886 linhas  5 colunas ('order_id', 'payment_sequential', 'payment_type','payment_installments', 'payment_value')"
   ]
  },
  {
   "cell_type": "code",
   "execution_count": 55,
   "id": "4ebf82ba",
   "metadata": {
    "ExecuteTime": {
     "end_time": "2022-10-06T04:01:34.495736Z",
     "start_time": "2022-10-06T04:01:34.359820Z"
    }
   },
   "outputs": [
    {
     "data": {
      "text/plain": [
       "(103886, 5)"
      ]
     },
     "execution_count": 55,
     "metadata": {},
     "output_type": "execute_result"
    }
   ],
   "source": [
    "payments.shape"
   ]
  },
  {
   "cell_type": "code",
   "execution_count": 56,
   "id": "f7bdf169",
   "metadata": {
    "ExecuteTime": {
     "end_time": "2022-10-06T04:01:34.715601Z",
     "start_time": "2022-10-06T04:01:34.501732Z"
    },
    "cell_style": "center"
   },
   "outputs": [
    {
     "name": "stdout",
     "output_type": "stream",
     "text": [
      "<class 'pandas.core.frame.DataFrame'>\n",
      "RangeIndex: 103886 entries, 0 to 103885\n",
      "Data columns (total 5 columns):\n",
      " #   Column                Non-Null Count   Dtype  \n",
      "---  ------                --------------   -----  \n",
      " 0   order_id              103886 non-null  object \n",
      " 1   payment_sequential    103886 non-null  int64  \n",
      " 2   payment_type          103886 non-null  object \n",
      " 3   payment_installments  103886 non-null  int64  \n",
      " 4   payment_value         103886 non-null  float64\n",
      "dtypes: float64(1), int64(2), object(2)\n",
      "memory usage: 4.0+ MB\n"
     ]
    }
   ],
   "source": [
    "payments.info()"
   ]
  },
  {
   "cell_type": "code",
   "execution_count": 57,
   "id": "cbdea4b4",
   "metadata": {
    "ExecuteTime": {
     "end_time": "2022-10-06T04:01:34.869506Z",
     "start_time": "2022-10-06T04:01:34.722596Z"
    },
    "cell_style": "center"
   },
   "outputs": [
    {
     "data": {
      "text/plain": [
       "order_id                0\n",
       "payment_sequential      0\n",
       "payment_type            0\n",
       "payment_installments    0\n",
       "payment_value           0\n",
       "dtype: int64"
      ]
     },
     "execution_count": 57,
     "metadata": {},
     "output_type": "execute_result"
    }
   ],
   "source": [
    "payments.isnull().sum()"
   ]
  },
  {
   "cell_type": "code",
   "execution_count": 58,
   "id": "a0003500",
   "metadata": {
    "ExecuteTime": {
     "end_time": "2022-10-06T04:01:35.026410Z",
     "start_time": "2022-10-06T04:01:34.876501Z"
    }
   },
   "outputs": [
    {
     "data": {
      "text/plain": [
       "Index(['order_id', 'payment_sequential', 'payment_type',\n",
       "       'payment_installments', 'payment_value'],\n",
       "      dtype='object')"
      ]
     },
     "execution_count": 58,
     "metadata": {},
     "output_type": "execute_result"
    }
   ],
   "source": [
    "payments.columns"
   ]
  },
  {
   "cell_type": "code",
   "execution_count": 59,
   "id": "d96f27f4",
   "metadata": {
    "ExecuteTime": {
     "end_time": "2022-10-06T04:01:35.199304Z",
     "start_time": "2022-10-06T04:01:35.037403Z"
    }
   },
   "outputs": [
    {
     "data": {
      "text/plain": [
       "credit_card    76795\n",
       "boleto         19784\n",
       "voucher         5775\n",
       "debit_card      1529\n",
       "not_defined        3\n",
       "Name: payment_type, dtype: int64"
      ]
     },
     "execution_count": 59,
     "metadata": {},
     "output_type": "execute_result"
    }
   ],
   "source": [
    "payments['payment_type'].value_counts()"
   ]
  },
  {
   "cell_type": "code",
   "execution_count": 60,
   "id": "9dabb0dd",
   "metadata": {
    "ExecuteTime": {
     "end_time": "2022-10-06T04:01:35.356205Z",
     "start_time": "2022-10-06T04:01:35.205299Z"
    }
   },
   "outputs": [
    {
     "data": {
      "text/plain": [
       "payment_type\n",
       "boleto         19784\n",
       "credit_card    76795\n",
       "debit_card      1529\n",
       "not_defined        3\n",
       "voucher         5775\n",
       "dtype: int64"
      ]
     },
     "execution_count": 60,
     "metadata": {},
     "output_type": "execute_result"
    }
   ],
   "source": [
    "payments.groupby('payment_type').size()"
   ]
  },
  {
   "cell_type": "code",
   "execution_count": 61,
   "id": "05c1cc42",
   "metadata": {
    "ExecuteTime": {
     "end_time": "2022-10-06T04:01:35.496120Z",
     "start_time": "2022-10-06T04:01:35.367199Z"
    }
   },
   "outputs": [
    {
     "data": {
      "text/html": [
       "<div>\n",
       "<style scoped>\n",
       "    .dataframe tbody tr th:only-of-type {\n",
       "        vertical-align: middle;\n",
       "    }\n",
       "\n",
       "    .dataframe tbody tr th {\n",
       "        vertical-align: top;\n",
       "    }\n",
       "\n",
       "    .dataframe thead th {\n",
       "        text-align: right;\n",
       "    }\n",
       "</style>\n",
       "<table border=\"1\" class=\"dataframe\">\n",
       "  <thead>\n",
       "    <tr style=\"text-align: right;\">\n",
       "      <th></th>\n",
       "      <th>order_id</th>\n",
       "      <th>payment_sequential</th>\n",
       "      <th>payment_type</th>\n",
       "      <th>payment_installments</th>\n",
       "      <th>payment_value</th>\n",
       "    </tr>\n",
       "  </thead>\n",
       "  <tbody>\n",
       "    <tr>\n",
       "      <th>51280</th>\n",
       "      <td>4637ca194b6387e2d538dc89b124b0ee</td>\n",
       "      <td>1</td>\n",
       "      <td>not_defined</td>\n",
       "      <td>1</td>\n",
       "      <td>0.0</td>\n",
       "    </tr>\n",
       "    <tr>\n",
       "      <th>57411</th>\n",
       "      <td>00b1cb0320190ca0daa2c88b35206009</td>\n",
       "      <td>1</td>\n",
       "      <td>not_defined</td>\n",
       "      <td>1</td>\n",
       "      <td>0.0</td>\n",
       "    </tr>\n",
       "    <tr>\n",
       "      <th>94427</th>\n",
       "      <td>c8c528189310eaa44a745b8d9d26908b</td>\n",
       "      <td>1</td>\n",
       "      <td>not_defined</td>\n",
       "      <td>1</td>\n",
       "      <td>0.0</td>\n",
       "    </tr>\n",
       "  </tbody>\n",
       "</table>\n",
       "</div>"
      ],
      "text/plain": [
       "                               order_id  payment_sequential payment_type  \\\n",
       "51280  4637ca194b6387e2d538dc89b124b0ee                   1  not_defined   \n",
       "57411  00b1cb0320190ca0daa2c88b35206009                   1  not_defined   \n",
       "94427  c8c528189310eaa44a745b8d9d26908b                   1  not_defined   \n",
       "\n",
       "       payment_installments  payment_value  \n",
       "51280                     1            0.0  \n",
       "57411                     1            0.0  \n",
       "94427                     1            0.0  "
      ]
     },
     "execution_count": 61,
     "metadata": {},
     "output_type": "execute_result"
    }
   ],
   "source": [
    "payments.loc[payments['payment_type']=='not_defined']"
   ]
  },
  {
   "cell_type": "code",
   "execution_count": 62,
   "id": "e0ee1ed0",
   "metadata": {
    "ExecuteTime": {
     "end_time": "2022-10-06T04:01:35.637032Z",
     "start_time": "2022-10-06T04:01:35.501119Z"
    },
    "run_control": {
     "marked": false
    }
   },
   "outputs": [],
   "source": [
    "payments.drop(index=payments.loc[payments['payment_type']=='not_defined'].index, inplace=True)"
   ]
  },
  {
   "cell_type": "code",
   "execution_count": 63,
   "id": "eda5ee2f",
   "metadata": {
    "ExecuteTime": {
     "end_time": "2022-10-06T04:01:35.759957Z",
     "start_time": "2022-10-06T04:01:35.643029Z"
    }
   },
   "outputs": [
    {
     "data": {
      "text/plain": [
       "credit_card    76795\n",
       "boleto         19784\n",
       "voucher         5775\n",
       "debit_card      1529\n",
       "Name: payment_type, dtype: int64"
      ]
     },
     "execution_count": 63,
     "metadata": {},
     "output_type": "execute_result"
    }
   ],
   "source": [
    "payments['payment_type'].value_counts()"
   ]
  },
  {
   "cell_type": "markdown",
   "id": "f5bb892a",
   "metadata": {},
   "source": [
    "### Envio do arquivo limpo- pagamentos.csv"
   ]
  },
  {
   "cell_type": "code",
   "execution_count": 64,
   "id": "56dca315",
   "metadata": {
    "ExecuteTime": {
     "end_time": "2022-10-06T04:01:36.839872Z",
     "start_time": "2022-10-06T04:01:35.768952Z"
    }
   },
   "outputs": [],
   "source": [
    "payments.to_csv('Data/pagamentos.csv')"
   ]
  },
  {
   "cell_type": "markdown",
   "id": "896be821",
   "metadata": {},
   "source": [
    "## Geocalização"
   ]
  },
  {
   "cell_type": "code",
   "execution_count": 65,
   "id": "7d7e0760",
   "metadata": {
    "ExecuteTime": {
     "end_time": "2022-10-06T04:01:36.855872Z",
     "start_time": "2022-10-06T04:01:36.843880Z"
    }
   },
   "outputs": [
    {
     "data": {
      "text/plain": [
       "(1000163, 5)"
      ]
     },
     "execution_count": 65,
     "metadata": {},
     "output_type": "execute_result"
    }
   ],
   "source": [
    "geolocation.shape"
   ]
  },
  {
   "cell_type": "code",
   "execution_count": 66,
   "id": "7e65466e",
   "metadata": {
    "ExecuteTime": {
     "end_time": "2022-10-06T04:01:37.829270Z",
     "start_time": "2022-10-06T04:01:36.860867Z"
    },
    "cell_style": "split"
   },
   "outputs": [
    {
     "name": "stdout",
     "output_type": "stream",
     "text": [
      "<class 'pandas.core.frame.DataFrame'>\n",
      "RangeIndex: 1000163 entries, 0 to 1000162\n",
      "Data columns (total 5 columns):\n",
      " #   Column                       Non-Null Count    Dtype  \n",
      "---  ------                       --------------    -----  \n",
      " 0   geolocation_zip_code_prefix  1000163 non-null  int64  \n",
      " 1   geolocation_lat              1000163 non-null  float64\n",
      " 2   geolocation_lng              1000163 non-null  float64\n",
      " 3   geolocation_city             1000163 non-null  object \n",
      " 4   geolocation_state            1000163 non-null  object \n",
      "dtypes: float64(2), int64(1), object(2)\n",
      "memory usage: 38.2+ MB\n"
     ]
    }
   ],
   "source": [
    "geolocation.info()"
   ]
  },
  {
   "cell_type": "code",
   "execution_count": 67,
   "id": "92557393",
   "metadata": {
    "ExecuteTime": {
     "end_time": "2022-10-06T04:01:38.508383Z",
     "start_time": "2022-10-06T04:01:37.835267Z"
    },
    "cell_style": "split"
   },
   "outputs": [
    {
     "data": {
      "text/plain": [
       "geolocation_zip_code_prefix    0\n",
       "geolocation_lat                0\n",
       "geolocation_lng                0\n",
       "geolocation_city               0\n",
       "geolocation_state              0\n",
       "dtype: int64"
      ]
     },
     "execution_count": 67,
     "metadata": {},
     "output_type": "execute_result"
    }
   ],
   "source": [
    "geolocation.isnull().sum()"
   ]
  },
  {
   "cell_type": "code",
   "execution_count": 68,
   "id": "c5dc4edf",
   "metadata": {
    "ExecuteTime": {
     "end_time": "2022-10-06T04:01:38.652111Z",
     "start_time": "2022-10-06T04:01:38.513380Z"
    }
   },
   "outputs": [
    {
     "data": {
      "text/plain": [
       "Index(['geolocation_zip_code_prefix', 'geolocation_lat', 'geolocation_lng',\n",
       "       'geolocation_city', 'geolocation_state'],\n",
       "      dtype='object')"
      ]
     },
     "execution_count": 68,
     "metadata": {},
     "output_type": "execute_result"
    }
   ],
   "source": [
    "geolocation.columns"
   ]
  },
  {
   "cell_type": "code",
   "execution_count": 69,
   "id": "cdeec26f",
   "metadata": {
    "ExecuteTime": {
     "end_time": "2022-10-06T04:01:38.840015Z",
     "start_time": "2022-10-06T04:01:38.658108Z"
    }
   },
   "outputs": [
    {
     "data": {
      "text/html": [
       "<div>\n",
       "<style scoped>\n",
       "    .dataframe tbody tr th:only-of-type {\n",
       "        vertical-align: middle;\n",
       "    }\n",
       "\n",
       "    .dataframe tbody tr th {\n",
       "        vertical-align: top;\n",
       "    }\n",
       "\n",
       "    .dataframe thead th {\n",
       "        text-align: right;\n",
       "    }\n",
       "</style>\n",
       "<table border=\"1\" class=\"dataframe\">\n",
       "  <thead>\n",
       "    <tr style=\"text-align: right;\">\n",
       "      <th></th>\n",
       "      <th>customer_zip_code_prefix</th>\n",
       "      <th>customer_lat</th>\n",
       "      <th>customer_lng</th>\n",
       "      <th>geolocation_city</th>\n",
       "      <th>geolocation_state</th>\n",
       "    </tr>\n",
       "  </thead>\n",
       "  <tbody>\n",
       "    <tr>\n",
       "      <th>0</th>\n",
       "      <td>1037</td>\n",
       "      <td>-23.545621</td>\n",
       "      <td>-46.639292</td>\n",
       "      <td>sao paulo</td>\n",
       "      <td>SP</td>\n",
       "    </tr>\n",
       "    <tr>\n",
       "      <th>1</th>\n",
       "      <td>1046</td>\n",
       "      <td>-23.546081</td>\n",
       "      <td>-46.644820</td>\n",
       "      <td>sao paulo</td>\n",
       "      <td>SP</td>\n",
       "    </tr>\n",
       "    <tr>\n",
       "      <th>2</th>\n",
       "      <td>1046</td>\n",
       "      <td>-23.546129</td>\n",
       "      <td>-46.642951</td>\n",
       "      <td>sao paulo</td>\n",
       "      <td>SP</td>\n",
       "    </tr>\n",
       "  </tbody>\n",
       "</table>\n",
       "</div>"
      ],
      "text/plain": [
       "   customer_zip_code_prefix  customer_lat  customer_lng geolocation_city  \\\n",
       "0                      1037    -23.545621    -46.639292        sao paulo   \n",
       "1                      1046    -23.546081    -46.644820        sao paulo   \n",
       "2                      1046    -23.546129    -46.642951        sao paulo   \n",
       "\n",
       "  geolocation_state  \n",
       "0                SP  \n",
       "1                SP  \n",
       "2                SP  "
      ]
     },
     "execution_count": 69,
     "metadata": {},
     "output_type": "execute_result"
    }
   ],
   "source": [
    "geo_customer = geolocation.rename(columns={\"geolocation_zip_code_prefix\":\"customer_zip_code_prefix\",\n",
    "                                                  \"geolocation_lat\":\"customer_lat\",\n",
    "                                                  \"geolocation_lng\":\"customer_lng\"})\n",
    "geo_seller = geolocation.rename(columns={\"geolocation_zip_code_prefix\":\"seller_zip_code_prefix\",\n",
    "                                                  \"geolocation_lat\":\"seller_lat\",\n",
    "                                                  \"geolocation_lng\":\"seller_lng\"})\n",
    "geo_customer.head(3)"
   ]
  },
  {
   "cell_type": "markdown",
   "id": "6c640558",
   "metadata": {},
   "source": [
    "### Envio do arquivo limpo- geolocal.csv"
   ]
  },
  {
   "cell_type": "code",
   "execution_count": 70,
   "id": "6c8f2021",
   "metadata": {
    "ExecuteTime": {
     "end_time": "2022-10-06T04:01:48.184268Z",
     "start_time": "2022-10-06T04:01:38.845010Z"
    }
   },
   "outputs": [],
   "source": [
    "geolocation.to_csv('Data/geolocal.csv')"
   ]
  },
  {
   "cell_type": "markdown",
   "id": "d2b58b11",
   "metadata": {},
   "source": [
    "# DataFrame original para merge"
   ]
  },
  {
   "cell_type": "code",
   "execution_count": 71,
   "id": "2dd93cd3",
   "metadata": {
    "ExecuteTime": {
     "end_time": "2022-10-06T04:01:52.103866Z",
     "start_time": "2022-10-06T04:01:48.189252Z"
    },
    "run_control": {
     "marked": false
    }
   },
   "outputs": [],
   "source": [
    "itens = pd.read_csv(\"Data/itens.csv\") \n",
    "#ordens = pd.read_csv(\"Data/ordens.csv\")\n",
    "#produtos = pd.read_csv(\"Data/produtos.csv\")\n",
    "geolocal = pd.read_csv(\"Data/geolocal.csv\")\n",
    "clientes = pd.read_csv(\"Data/clientes.csv\")\n",
    "avaliacoes = pd.read_csv('Data/avaliacoes.csv')\n",
    "#vendedores = pd.read_csv(\"Data/vendedores.csv\")\n",
    "pagamentos = pd.read_csv('Data/pagamentos.csv')\n"
   ]
  },
  {
   "cell_type": "markdown",
   "id": "9bc9afe6",
   "metadata": {},
   "source": [
    "## Colunas finais "
   ]
  },
  {
   "cell_type": "code",
   "execution_count": 75,
   "id": "73d177e3",
   "metadata": {
    "ExecuteTime": {
     "end_time": "2022-10-06T04:05:11.713240Z",
     "start_time": "2022-10-06T04:05:11.544847Z"
    }
   },
   "outputs": [],
   "source": [
    "final_df = vendedores.merge(itens, on='seller_id', how='left')"
   ]
  },
  {
   "cell_type": "code",
   "execution_count": 76,
   "id": "178cfb2b",
   "metadata": {
    "ExecuteTime": {
     "end_time": "2022-10-06T04:05:21.470485Z",
     "start_time": "2022-10-06T04:05:21.184835Z"
    }
   },
   "outputs": [],
   "source": [
    "final_df = final_df.merge(ordens, left_on='order_id', right_on='order_id', how='right')"
   ]
  },
  {
   "cell_type": "code",
   "execution_count": 77,
   "id": "05c06a2a",
   "metadata": {
    "ExecuteTime": {
     "end_time": "2022-10-06T04:05:29.479338Z",
     "start_time": "2022-10-06T04:05:29.200748Z"
    }
   },
   "outputs": [
    {
     "name": "stderr",
     "output_type": "stream",
     "text": [
      "C:\\Users\\USER\\AppData\\Local\\Temp\\ipykernel_9096\\2733312986.py:1: FutureWarning: Passing 'suffixes' which cause duplicate columns {'Unnamed: 0_x'} in the result is deprecated and will raise a MergeError in a future version.\n",
      "  final_df = final_df.merge(produtos, left_on='product_id', right_on='product_id',how='left' )\n"
     ]
    }
   ],
   "source": [
    "final_df = final_df.merge(produtos, left_on='product_id', right_on='product_id',how='left' )"
   ]
  },
  {
   "cell_type": "code",
   "execution_count": 79,
   "id": "380e5bd8",
   "metadata": {
    "ExecuteTime": {
     "end_time": "2022-10-06T04:07:11.580365Z",
     "start_time": "2022-10-06T04:07:10.910833Z"
    }
   },
   "outputs": [],
   "source": [
    "final_df = final_df.merge(avaliacoes, on = 'order_id', how = 'inner')"
   ]
  },
  {
   "cell_type": "code",
   "execution_count": 80,
   "id": "f43c38c8",
   "metadata": {
    "ExecuteTime": {
     "end_time": "2022-10-06T04:08:24.276854Z",
     "start_time": "2022-10-06T04:08:24.205899Z"
    }
   },
   "outputs": [
    {
     "name": "stdout",
     "output_type": "stream",
     "text": [
      "(111209, 38)\n"
     ]
    },
    {
     "data": {
      "text/html": [
       "<div>\n",
       "<style scoped>\n",
       "    .dataframe tbody tr th:only-of-type {\n",
       "        vertical-align: middle;\n",
       "    }\n",
       "\n",
       "    .dataframe tbody tr th {\n",
       "        vertical-align: top;\n",
       "    }\n",
       "\n",
       "    .dataframe thead th {\n",
       "        text-align: right;\n",
       "    }\n",
       "</style>\n",
       "<table border=\"1\" class=\"dataframe\">\n",
       "  <thead>\n",
       "    <tr style=\"text-align: right;\">\n",
       "      <th></th>\n",
       "      <th>Unnamed: 0_x</th>\n",
       "      <th>seller_id</th>\n",
       "      <th>seller_zip_code_prefix</th>\n",
       "      <th>seller_city</th>\n",
       "      <th>seller_state</th>\n",
       "      <th>Unnamed: 0_y</th>\n",
       "      <th>order_id</th>\n",
       "      <th>order_item_id</th>\n",
       "      <th>product_id</th>\n",
       "      <th>shipping_limit_date</th>\n",
       "      <th>...</th>\n",
       "      <th>product_height_cm</th>\n",
       "      <th>product_width_cm</th>\n",
       "      <th>Unnamed: 0</th>\n",
       "      <th>review_id</th>\n",
       "      <th>review_score</th>\n",
       "      <th>review_comment_title</th>\n",
       "      <th>review_comment_message</th>\n",
       "      <th>review_creation_date</th>\n",
       "      <th>review_answer_timestamp</th>\n",
       "      <th>tempo_resposta</th>\n",
       "    </tr>\n",
       "  </thead>\n",
       "  <tbody>\n",
       "    <tr>\n",
       "      <th>0</th>\n",
       "      <td>559.0</td>\n",
       "      <td>3504c0cb71d7fa48d967e0e4c94d59d9</td>\n",
       "      <td>9350.0</td>\n",
       "      <td>maua</td>\n",
       "      <td>SP</td>\n",
       "      <td>100785.0</td>\n",
       "      <td>e481f51cbdc54678b7cc49136f2d6af7</td>\n",
       "      <td>1.0</td>\n",
       "      <td>87285b34884572647811a353c7ac498a</td>\n",
       "      <td>2017-10-06 11:07:15</td>\n",
       "      <td>...</td>\n",
       "      <td>8.0</td>\n",
       "      <td>13.0</td>\n",
       "      <td>32206</td>\n",
       "      <td>a54f0611adc9ed256b57ede6b6eb5114</td>\n",
       "      <td>4</td>\n",
       "      <td>NaN</td>\n",
       "      <td>Não testei o produto ainda, mas ele veio corre...</td>\n",
       "      <td>2017-10-11 00:00:00</td>\n",
       "      <td>2017-10-12 03:43:48</td>\n",
       "      <td>-2</td>\n",
       "    </tr>\n",
       "    <tr>\n",
       "      <th>1</th>\n",
       "      <td>549.0</td>\n",
       "      <td>289cdb325fb7e7f891c38608bf9e0962</td>\n",
       "      <td>31570.0</td>\n",
       "      <td>belo horizonte</td>\n",
       "      <td>SP</td>\n",
       "      <td>36896.0</td>\n",
       "      <td>53cdb2fc8bc7dce0b6741e2150273451</td>\n",
       "      <td>1.0</td>\n",
       "      <td>595fac2a385ac33a80bd5114aec74eb8</td>\n",
       "      <td>2018-07-30 03:24:27</td>\n",
       "      <td>...</td>\n",
       "      <td>13.0</td>\n",
       "      <td>19.0</td>\n",
       "      <td>28635</td>\n",
       "      <td>8d5266042046a06655c8db133d120ba5</td>\n",
       "      <td>4</td>\n",
       "      <td>Muito boa a loja</td>\n",
       "      <td>Muito bom o produto.</td>\n",
       "      <td>2018-08-08 00:00:00</td>\n",
       "      <td>2018-08-08 18:37:50</td>\n",
       "      <td>-1</td>\n",
       "    </tr>\n",
       "  </tbody>\n",
       "</table>\n",
       "<p>2 rows × 38 columns</p>\n",
       "</div>"
      ],
      "text/plain": [
       "   Unnamed: 0_x                         seller_id  seller_zip_code_prefix  \\\n",
       "0         559.0  3504c0cb71d7fa48d967e0e4c94d59d9                  9350.0   \n",
       "1         549.0  289cdb325fb7e7f891c38608bf9e0962                 31570.0   \n",
       "\n",
       "      seller_city seller_state  Unnamed: 0_y  \\\n",
       "0            maua           SP      100785.0   \n",
       "1  belo horizonte           SP       36896.0   \n",
       "\n",
       "                           order_id  order_item_id  \\\n",
       "0  e481f51cbdc54678b7cc49136f2d6af7            1.0   \n",
       "1  53cdb2fc8bc7dce0b6741e2150273451            1.0   \n",
       "\n",
       "                         product_id  shipping_limit_date  ...  \\\n",
       "0  87285b34884572647811a353c7ac498a  2017-10-06 11:07:15  ...   \n",
       "1  595fac2a385ac33a80bd5114aec74eb8  2018-07-30 03:24:27  ...   \n",
       "\n",
       "   product_height_cm  product_width_cm  Unnamed: 0  \\\n",
       "0                8.0              13.0       32206   \n",
       "1               13.0              19.0       28635   \n",
       "\n",
       "                          review_id review_score review_comment_title  \\\n",
       "0  a54f0611adc9ed256b57ede6b6eb5114            4                  NaN   \n",
       "1  8d5266042046a06655c8db133d120ba5            4     Muito boa a loja   \n",
       "\n",
       "                              review_comment_message review_creation_date  \\\n",
       "0  Não testei o produto ainda, mas ele veio corre...  2017-10-11 00:00:00   \n",
       "1                               Muito bom o produto.  2018-08-08 00:00:00   \n",
       "\n",
       "  review_answer_timestamp tempo_resposta  \n",
       "0     2017-10-12 03:43:48             -2  \n",
       "1     2018-08-08 18:37:50             -1  \n",
       "\n",
       "[2 rows x 38 columns]"
      ]
     },
     "execution_count": 80,
     "metadata": {},
     "output_type": "execute_result"
    }
   ],
   "source": [
    "print(final_df.shape)\n",
    "final_df.head(2)"
   ]
  },
  {
   "cell_type": "markdown",
   "id": "732c3219",
   "metadata": {},
   "source": [
    "# Analisando dados ausentes - DataFrame final"
   ]
  },
  {
   "cell_type": "code",
   "execution_count": 81,
   "id": "5771edfc",
   "metadata": {
    "ExecuteTime": {
     "end_time": "2022-10-06T04:08:57.264170Z",
     "start_time": "2022-10-06T04:08:55.669954Z"
    }
   },
   "outputs": [
    {
     "data": {
      "text/html": [
       "<div>\n",
       "<style scoped>\n",
       "    .dataframe tbody tr th:only-of-type {\n",
       "        vertical-align: middle;\n",
       "    }\n",
       "\n",
       "    .dataframe tbody tr th {\n",
       "        vertical-align: top;\n",
       "    }\n",
       "\n",
       "    .dataframe thead th {\n",
       "        text-align: right;\n",
       "    }\n",
       "</style>\n",
       "<table border=\"1\" class=\"dataframe\">\n",
       "  <thead>\n",
       "    <tr style=\"text-align: right;\">\n",
       "      <th></th>\n",
       "      <th>Total</th>\n",
       "      <th>Percent</th>\n",
       "    </tr>\n",
       "  </thead>\n",
       "  <tbody>\n",
       "    <tr>\n",
       "      <th>review_comment_title</th>\n",
       "      <td>97794</td>\n",
       "      <td>0.879371</td>\n",
       "    </tr>\n",
       "    <tr>\n",
       "      <th>review_comment_message</th>\n",
       "      <td>63798</td>\n",
       "      <td>0.573677</td>\n",
       "    </tr>\n",
       "    <tr>\n",
       "      <th>product_photos_qty</th>\n",
       "      <td>2270</td>\n",
       "      <td>0.020412</td>\n",
       "    </tr>\n",
       "    <tr>\n",
       "      <th>product_description_lenght</th>\n",
       "      <td>2270</td>\n",
       "      <td>0.020412</td>\n",
       "    </tr>\n",
       "    <tr>\n",
       "      <th>product_name_lenght</th>\n",
       "      <td>2270</td>\n",
       "      <td>0.020412</td>\n",
       "    </tr>\n",
       "  </tbody>\n",
       "</table>\n",
       "</div>"
      ],
      "text/plain": [
       "                            Total   Percent\n",
       "review_comment_title        97794  0.879371\n",
       "review_comment_message      63798  0.573677\n",
       "product_photos_qty           2270  0.020412\n",
       "product_description_lenght   2270  0.020412\n",
       "product_name_lenght          2270  0.020412"
      ]
     },
     "execution_count": 81,
     "metadata": {},
     "output_type": "execute_result"
    }
   ],
   "source": [
    "total = final_df.isnull().sum().sort_values(ascending=False)\n",
    "percent = (final_df.isnull().sum()/final_df.isnull().count()).sort_values(ascending=False)\n",
    "missing = pd.concat([total, percent], axis=1, keys=['Total', 'Percent'])\n",
    "missing.head()"
   ]
  },
  {
   "cell_type": "markdown",
   "id": "4940f4fc",
   "metadata": {
    "ExecuteTime": {
     "end_time": "2022-09-29T23:03:23.750869Z",
     "start_time": "2022-09-29T23:03:23.743874Z"
    }
   },
   "source": [
    "## Fazendo Drop colunas"
   ]
  },
  {
   "cell_type": "markdown",
   "id": "c25e0011",
   "metadata": {},
   "source": [
    "Dropando as colunas 'review_comment_title', 'review_comment_message'"
   ]
  },
  {
   "cell_type": "code",
   "execution_count": 83,
   "id": "f7e9fd12",
   "metadata": {
    "ExecuteTime": {
     "end_time": "2022-10-06T04:10:31.544688Z",
     "start_time": "2022-10-06T04:10:31.444117Z"
    }
   },
   "outputs": [],
   "source": [
    "final_df.drop(['review_comment_title', 'review_comment_message'],axis=1, inplace=True)"
   ]
  },
  {
   "cell_type": "code",
   "execution_count": 84,
   "id": "1ab2d094",
   "metadata": {
    "ExecuteTime": {
     "end_time": "2022-10-06T04:11:11.966015Z",
     "start_time": "2022-10-06T04:11:11.902056Z"
    }
   },
   "outputs": [
    {
     "name": "stdout",
     "output_type": "stream",
     "text": [
      "(111209, 36)\n"
     ]
    },
    {
     "data": {
      "text/html": [
       "<div>\n",
       "<style scoped>\n",
       "    .dataframe tbody tr th:only-of-type {\n",
       "        vertical-align: middle;\n",
       "    }\n",
       "\n",
       "    .dataframe tbody tr th {\n",
       "        vertical-align: top;\n",
       "    }\n",
       "\n",
       "    .dataframe thead th {\n",
       "        text-align: right;\n",
       "    }\n",
       "</style>\n",
       "<table border=\"1\" class=\"dataframe\">\n",
       "  <thead>\n",
       "    <tr style=\"text-align: right;\">\n",
       "      <th></th>\n",
       "      <th>Unnamed: 0_x</th>\n",
       "      <th>seller_id</th>\n",
       "      <th>seller_zip_code_prefix</th>\n",
       "      <th>seller_city</th>\n",
       "      <th>seller_state</th>\n",
       "      <th>Unnamed: 0_y</th>\n",
       "      <th>order_id</th>\n",
       "      <th>order_item_id</th>\n",
       "      <th>product_id</th>\n",
       "      <th>shipping_limit_date</th>\n",
       "      <th>...</th>\n",
       "      <th>product_weight_g</th>\n",
       "      <th>product_length_cm</th>\n",
       "      <th>product_height_cm</th>\n",
       "      <th>product_width_cm</th>\n",
       "      <th>Unnamed: 0</th>\n",
       "      <th>review_id</th>\n",
       "      <th>review_score</th>\n",
       "      <th>review_creation_date</th>\n",
       "      <th>review_answer_timestamp</th>\n",
       "      <th>tempo_resposta</th>\n",
       "    </tr>\n",
       "  </thead>\n",
       "  <tbody>\n",
       "    <tr>\n",
       "      <th>0</th>\n",
       "      <td>559.0</td>\n",
       "      <td>3504c0cb71d7fa48d967e0e4c94d59d9</td>\n",
       "      <td>9350.0</td>\n",
       "      <td>maua</td>\n",
       "      <td>SP</td>\n",
       "      <td>100785.0</td>\n",
       "      <td>e481f51cbdc54678b7cc49136f2d6af7</td>\n",
       "      <td>1.0</td>\n",
       "      <td>87285b34884572647811a353c7ac498a</td>\n",
       "      <td>2017-10-06 11:07:15</td>\n",
       "      <td>...</td>\n",
       "      <td>500.0</td>\n",
       "      <td>19.0</td>\n",
       "      <td>8.0</td>\n",
       "      <td>13.0</td>\n",
       "      <td>32206</td>\n",
       "      <td>a54f0611adc9ed256b57ede6b6eb5114</td>\n",
       "      <td>4</td>\n",
       "      <td>2017-10-11 00:00:00</td>\n",
       "      <td>2017-10-12 03:43:48</td>\n",
       "      <td>-2</td>\n",
       "    </tr>\n",
       "    <tr>\n",
       "      <th>1</th>\n",
       "      <td>549.0</td>\n",
       "      <td>289cdb325fb7e7f891c38608bf9e0962</td>\n",
       "      <td>31570.0</td>\n",
       "      <td>belo horizonte</td>\n",
       "      <td>SP</td>\n",
       "      <td>36896.0</td>\n",
       "      <td>53cdb2fc8bc7dce0b6741e2150273451</td>\n",
       "      <td>1.0</td>\n",
       "      <td>595fac2a385ac33a80bd5114aec74eb8</td>\n",
       "      <td>2018-07-30 03:24:27</td>\n",
       "      <td>...</td>\n",
       "      <td>400.0</td>\n",
       "      <td>19.0</td>\n",
       "      <td>13.0</td>\n",
       "      <td>19.0</td>\n",
       "      <td>28635</td>\n",
       "      <td>8d5266042046a06655c8db133d120ba5</td>\n",
       "      <td>4</td>\n",
       "      <td>2018-08-08 00:00:00</td>\n",
       "      <td>2018-08-08 18:37:50</td>\n",
       "      <td>-1</td>\n",
       "    </tr>\n",
       "  </tbody>\n",
       "</table>\n",
       "<p>2 rows × 36 columns</p>\n",
       "</div>"
      ],
      "text/plain": [
       "   Unnamed: 0_x                         seller_id  seller_zip_code_prefix  \\\n",
       "0         559.0  3504c0cb71d7fa48d967e0e4c94d59d9                  9350.0   \n",
       "1         549.0  289cdb325fb7e7f891c38608bf9e0962                 31570.0   \n",
       "\n",
       "      seller_city seller_state  Unnamed: 0_y  \\\n",
       "0            maua           SP      100785.0   \n",
       "1  belo horizonte           SP       36896.0   \n",
       "\n",
       "                           order_id  order_item_id  \\\n",
       "0  e481f51cbdc54678b7cc49136f2d6af7            1.0   \n",
       "1  53cdb2fc8bc7dce0b6741e2150273451            1.0   \n",
       "\n",
       "                         product_id  shipping_limit_date  ...  \\\n",
       "0  87285b34884572647811a353c7ac498a  2017-10-06 11:07:15  ...   \n",
       "1  595fac2a385ac33a80bd5114aec74eb8  2018-07-30 03:24:27  ...   \n",
       "\n",
       "   product_weight_g  product_length_cm  product_height_cm product_width_cm  \\\n",
       "0             500.0               19.0                8.0             13.0   \n",
       "1             400.0               19.0               13.0             19.0   \n",
       "\n",
       "  Unnamed: 0                         review_id review_score  \\\n",
       "0      32206  a54f0611adc9ed256b57ede6b6eb5114            4   \n",
       "1      28635  8d5266042046a06655c8db133d120ba5            4   \n",
       "\n",
       "  review_creation_date review_answer_timestamp tempo_resposta  \n",
       "0  2017-10-11 00:00:00     2017-10-12 03:43:48             -2  \n",
       "1  2018-08-08 00:00:00     2018-08-08 18:37:50             -1  \n",
       "\n",
       "[2 rows x 36 columns]"
      ]
     },
     "execution_count": 84,
     "metadata": {},
     "output_type": "execute_result"
    }
   ],
   "source": [
    "print(final_df.shape)\n",
    "final_df.head(2)"
   ]
  },
  {
   "cell_type": "markdown",
   "id": "410e26f6",
   "metadata": {},
   "source": [
    "## Fazendo Drop Duplicates"
   ]
  },
  {
   "cell_type": "code",
   "execution_count": 85,
   "id": "21acd4d3",
   "metadata": {
    "ExecuteTime": {
     "end_time": "2022-10-06T04:11:31.516747Z",
     "start_time": "2022-10-06T04:11:30.667782Z"
    }
   },
   "outputs": [],
   "source": [
    "geolocal.drop_duplicates(inplace=True)"
   ]
  },
  {
   "cell_type": "markdown",
   "id": "5c1e6348",
   "metadata": {},
   "source": [
    "# Criando Dataframe Final"
   ]
  },
  {
   "cell_type": "code",
   "execution_count": 92,
   "id": "5ea32c3a",
   "metadata": {
    "ExecuteTime": {
     "end_time": "2022-10-06T04:22:14.762773Z",
     "start_time": "2022-10-06T04:22:10.207737Z"
    }
   },
   "outputs": [],
   "source": [
    "final_df.to_csv('Data/final_df.csv')"
   ]
  },
  {
   "cell_type": "markdown",
   "id": "45336a55",
   "metadata": {},
   "source": [
    "# Gráficos"
   ]
  },
  {
   "cell_type": "code",
   "execution_count": 89,
   "id": "e430fd6d",
   "metadata": {
    "ExecuteTime": {
     "end_time": "2022-10-06T04:14:42.509821Z",
     "start_time": "2022-10-06T04:14:42.435865Z"
    },
    "scrolled": true
   },
   "outputs": [
    {
     "ename": "NameError",
     "evalue": "name 'plt' is not defined",
     "output_type": "error",
     "traceback": [
      "\u001b[1;31m---------------------------------------------------------------------------\u001b[0m",
      "\u001b[1;31mNameError\u001b[0m                                 Traceback (most recent call last)",
      "Cell \u001b[1;32mIn [89], line 1\u001b[0m\n\u001b[1;32m----> 1\u001b[0m plt\u001b[38;5;241m.\u001b[39mfigure(figsize\u001b[38;5;241m=\u001b[39m(\u001b[38;5;241m10\u001b[39m,\u001b[38;5;241m6\u001b[39m))\n\u001b[0;32m      2\u001b[0m sns\u001b[38;5;241m.\u001b[39mset_style(\u001b[38;5;124m\"\u001b[39m\u001b[38;5;124mwhitegrid\u001b[39m\u001b[38;5;124m\"\u001b[39m)\n\u001b[0;32m      3\u001b[0m ax \u001b[38;5;241m=\u001b[39m final_df\u001b[38;5;241m.\u001b[39mcustomer_state\u001b[38;5;241m.\u001b[39mvalue_counts()\u001b[38;5;241m.\u001b[39msort_values(ascending\u001b[38;5;241m=\u001b[39m\u001b[38;5;28;01mFalse\u001b[39;00m)[\u001b[38;5;241m0\u001b[39m:\u001b[38;5;241m10\u001b[39m]\u001b[38;5;241m.\u001b[39mplot(kind\u001b[38;5;241m=\u001b[39m\u001b[38;5;124m'\u001b[39m\u001b[38;5;124mbar\u001b[39m\u001b[38;5;124m'\u001b[39m, color \u001b[38;5;241m=\u001b[39m \u001b[38;5;124m'\u001b[39m\u001b[38;5;124mgrey\u001b[39m\u001b[38;5;124m'\u001b[39m, alpha\u001b[38;5;241m=\u001b[39m\u001b[38;5;241m0.8\u001b[39m)\n",
      "\u001b[1;31mNameError\u001b[0m: name 'plt' is not defined"
     ]
    }
   ],
   "source": [
    "plt.figure(figsize=(10,6))\n",
    "sns.set_style(\"whitegrid\")\n",
    "ax = final_df.customer_state.value_counts().sort_values(ascending=False)[0:10].plot(kind='bar', color = 'grey', alpha=0.8)\n",
    "ax.set_title(\"Top 10 - Estados consumidores do Brasil\")\n",
    "ax.set_xlabel(\"States\")\n",
    "plt.xticks(rotation=35)\n",
    "ax.set_ylabel(\"Nº de consumidores\")\n",
    "plt.show()"
   ]
  },
  {
   "cell_type": "code",
   "execution_count": 91,
   "id": "76157263",
   "metadata": {
    "ExecuteTime": {
     "end_time": "2022-10-06T04:15:43.312196Z",
     "start_time": "2022-10-06T04:15:43.168666Z"
    }
   },
   "outputs": [
    {
     "ename": "TypeError",
     "evalue": "'>=' not supported between instances of 'str' and 'int'",
     "output_type": "error",
     "traceback": [
      "\u001b[1;31m---------------------------------------------------------------------------\u001b[0m",
      "\u001b[1;31mTypeError\u001b[0m                                 Traceback (most recent call last)",
      "Cell \u001b[1;32mIn [91], line 1\u001b[0m\n\u001b[1;32m----> 1\u001b[0m final_df\u001b[38;5;241m.\u001b[39mloc[final_df[\u001b[38;5;124m'\u001b[39m\u001b[38;5;124mseller_id\u001b[39m\u001b[38;5;124m'\u001b[39m]\u001b[38;5;241m>\u001b[39m\u001b[38;5;241m=\u001b[39m\u001b[38;5;241m100\u001b[39m]\u001b[38;5;241m.\u001b[39mplot\u001b[38;5;241m.\u001b[39mscatter(x\u001b[38;5;241m=\u001b[39m\u001b[38;5;124m'\u001b[39m\u001b[38;5;124mreview_score\u001b[39m\u001b[38;5;124m'\u001b[39m, y\u001b[38;5;241m=\u001b[39m\u001b[38;5;124m'\u001b[39m\u001b[38;5;124mseller_id\u001b[39m\u001b[38;5;124m'\u001b[39m)\n",
      "File \u001b[1;32mC:\\ProgramData\\Anaconda3\\envs\\pycaret\\lib\\site-packages\\pandas\\core\\ops\\common.py:70\u001b[0m, in \u001b[0;36m_unpack_zerodim_and_defer.<locals>.new_method\u001b[1;34m(self, other)\u001b[0m\n\u001b[0;32m     66\u001b[0m             \u001b[38;5;28;01mreturn\u001b[39;00m \u001b[38;5;28mNotImplemented\u001b[39m\n\u001b[0;32m     68\u001b[0m other \u001b[38;5;241m=\u001b[39m item_from_zerodim(other)\n\u001b[1;32m---> 70\u001b[0m \u001b[38;5;28;01mreturn\u001b[39;00m \u001b[43mmethod\u001b[49m\u001b[43m(\u001b[49m\u001b[38;5;28;43mself\u001b[39;49m\u001b[43m,\u001b[49m\u001b[43m \u001b[49m\u001b[43mother\u001b[49m\u001b[43m)\u001b[49m\n",
      "File \u001b[1;32mC:\\ProgramData\\Anaconda3\\envs\\pycaret\\lib\\site-packages\\pandas\\core\\arraylike.py:60\u001b[0m, in \u001b[0;36mOpsMixin.__ge__\u001b[1;34m(self, other)\u001b[0m\n\u001b[0;32m     58\u001b[0m \u001b[38;5;129m@unpack_zerodim_and_defer\u001b[39m(\u001b[38;5;124m\"\u001b[39m\u001b[38;5;124m__ge__\u001b[39m\u001b[38;5;124m\"\u001b[39m)\n\u001b[0;32m     59\u001b[0m \u001b[38;5;28;01mdef\u001b[39;00m \u001b[38;5;21m__ge__\u001b[39m(\u001b[38;5;28mself\u001b[39m, other):\n\u001b[1;32m---> 60\u001b[0m     \u001b[38;5;28;01mreturn\u001b[39;00m \u001b[38;5;28;43mself\u001b[39;49m\u001b[38;5;241;43m.\u001b[39;49m\u001b[43m_cmp_method\u001b[49m\u001b[43m(\u001b[49m\u001b[43mother\u001b[49m\u001b[43m,\u001b[49m\u001b[43m \u001b[49m\u001b[43moperator\u001b[49m\u001b[38;5;241;43m.\u001b[39;49m\u001b[43mge\u001b[49m\u001b[43m)\u001b[49m\n",
      "File \u001b[1;32mC:\\ProgramData\\Anaconda3\\envs\\pycaret\\lib\\site-packages\\pandas\\core\\series.py:5623\u001b[0m, in \u001b[0;36mSeries._cmp_method\u001b[1;34m(self, other, op)\u001b[0m\n\u001b[0;32m   5620\u001b[0m rvalues \u001b[38;5;241m=\u001b[39m extract_array(other, extract_numpy\u001b[38;5;241m=\u001b[39m\u001b[38;5;28;01mTrue\u001b[39;00m, extract_range\u001b[38;5;241m=\u001b[39m\u001b[38;5;28;01mTrue\u001b[39;00m)\n\u001b[0;32m   5622\u001b[0m \u001b[38;5;28;01mwith\u001b[39;00m np\u001b[38;5;241m.\u001b[39merrstate(\u001b[38;5;28mall\u001b[39m\u001b[38;5;241m=\u001b[39m\u001b[38;5;124m\"\u001b[39m\u001b[38;5;124mignore\u001b[39m\u001b[38;5;124m\"\u001b[39m):\n\u001b[1;32m-> 5623\u001b[0m     res_values \u001b[38;5;241m=\u001b[39m \u001b[43mops\u001b[49m\u001b[38;5;241;43m.\u001b[39;49m\u001b[43mcomparison_op\u001b[49m\u001b[43m(\u001b[49m\u001b[43mlvalues\u001b[49m\u001b[43m,\u001b[49m\u001b[43m \u001b[49m\u001b[43mrvalues\u001b[49m\u001b[43m,\u001b[49m\u001b[43m \u001b[49m\u001b[43mop\u001b[49m\u001b[43m)\u001b[49m\n\u001b[0;32m   5625\u001b[0m \u001b[38;5;28;01mreturn\u001b[39;00m \u001b[38;5;28mself\u001b[39m\u001b[38;5;241m.\u001b[39m_construct_result(res_values, name\u001b[38;5;241m=\u001b[39mres_name)\n",
      "File \u001b[1;32mC:\\ProgramData\\Anaconda3\\envs\\pycaret\\lib\\site-packages\\pandas\\core\\ops\\array_ops.py:283\u001b[0m, in \u001b[0;36mcomparison_op\u001b[1;34m(left, right, op)\u001b[0m\n\u001b[0;32m    280\u001b[0m     \u001b[38;5;28;01mreturn\u001b[39;00m invalid_comparison(lvalues, rvalues, op)\n\u001b[0;32m    282\u001b[0m \u001b[38;5;28;01melif\u001b[39;00m is_object_dtype(lvalues\u001b[38;5;241m.\u001b[39mdtype) \u001b[38;5;129;01mor\u001b[39;00m \u001b[38;5;28misinstance\u001b[39m(rvalues, \u001b[38;5;28mstr\u001b[39m):\n\u001b[1;32m--> 283\u001b[0m     res_values \u001b[38;5;241m=\u001b[39m \u001b[43mcomp_method_OBJECT_ARRAY\u001b[49m\u001b[43m(\u001b[49m\u001b[43mop\u001b[49m\u001b[43m,\u001b[49m\u001b[43m \u001b[49m\u001b[43mlvalues\u001b[49m\u001b[43m,\u001b[49m\u001b[43m \u001b[49m\u001b[43mrvalues\u001b[49m\u001b[43m)\u001b[49m\n\u001b[0;32m    285\u001b[0m \u001b[38;5;28;01melse\u001b[39;00m:\n\u001b[0;32m    286\u001b[0m     res_values \u001b[38;5;241m=\u001b[39m _na_arithmetic_op(lvalues, rvalues, op, is_cmp\u001b[38;5;241m=\u001b[39m\u001b[38;5;28;01mTrue\u001b[39;00m)\n",
      "File \u001b[1;32mC:\\ProgramData\\Anaconda3\\envs\\pycaret\\lib\\site-packages\\pandas\\core\\ops\\array_ops.py:73\u001b[0m, in \u001b[0;36mcomp_method_OBJECT_ARRAY\u001b[1;34m(op, x, y)\u001b[0m\n\u001b[0;32m     71\u001b[0m     result \u001b[38;5;241m=\u001b[39m libops\u001b[38;5;241m.\u001b[39mvec_compare(x\u001b[38;5;241m.\u001b[39mravel(), y\u001b[38;5;241m.\u001b[39mravel(), op)\n\u001b[0;32m     72\u001b[0m \u001b[38;5;28;01melse\u001b[39;00m:\n\u001b[1;32m---> 73\u001b[0m     result \u001b[38;5;241m=\u001b[39m \u001b[43mlibops\u001b[49m\u001b[38;5;241;43m.\u001b[39;49m\u001b[43mscalar_compare\u001b[49m\u001b[43m(\u001b[49m\u001b[43mx\u001b[49m\u001b[38;5;241;43m.\u001b[39;49m\u001b[43mravel\u001b[49m\u001b[43m(\u001b[49m\u001b[43m)\u001b[49m\u001b[43m,\u001b[49m\u001b[43m \u001b[49m\u001b[43my\u001b[49m\u001b[43m,\u001b[49m\u001b[43m \u001b[49m\u001b[43mop\u001b[49m\u001b[43m)\u001b[49m\n\u001b[0;32m     74\u001b[0m \u001b[38;5;28;01mreturn\u001b[39;00m result\u001b[38;5;241m.\u001b[39mreshape(x\u001b[38;5;241m.\u001b[39mshape)\n",
      "File \u001b[1;32mC:\\ProgramData\\Anaconda3\\envs\\pycaret\\lib\\site-packages\\pandas\\_libs\\ops.pyx:107\u001b[0m, in \u001b[0;36mpandas._libs.ops.scalar_compare\u001b[1;34m()\u001b[0m\n",
      "\u001b[1;31mTypeError\u001b[0m: '>=' not supported between instances of 'str' and 'int'"
     ]
    }
   ],
   "source": [
    "final_df.loc[final_df['seller_id']>=100].plot.scatter(x='review_score', y='seller_id')"
   ]
  },
  {
   "cell_type": "code",
   "execution_count": 90,
   "id": "3c82c226",
   "metadata": {
    "ExecuteTime": {
     "end_time": "2022-10-06T04:14:54.375549Z",
     "start_time": "2022-10-06T04:14:52.739036Z"
    }
   },
   "outputs": [
    {
     "data": {
      "text/plain": [
       "<AxesSubplot:ylabel='Frequency'>"
      ]
     },
     "execution_count": 90,
     "metadata": {},
     "output_type": "execute_result"
    },
    {
     "data": {
      "image/png": "[encoded data removed]",
      "text/plain": [
       "<Figure size 640x480 with 1 Axes>"
      ]
     },
     "metadata": {},
     "output_type": "display_data"
    }
   ],
   "source": [
    "final_df.loc[final_df['seller_id']=='5b2e94f2c22b39ccc24d34ad0f669672','review_score'].plot.hist()"
   ]
  },
  {
   "cell_type": "markdown",
   "id": "90685e88",
   "metadata": {},
   "source": [
    "## Analisando crescimento por periodo"
   ]
  },
  {
   "cell_type": "code",
   "execution_count": null,
   "id": "37f88af6",
   "metadata": {
    "ExecuteTime": {
     "end_time": "2022-10-06T04:01:54.001467Z",
     "start_time": "2022-10-06T04:01:54.001467Z"
    }
   },
   "outputs": [],
   "source": [
    "total_orders_month_year = ordens.groupby('order_purchase_year_month')['order_id'].nunique().reset_index()\n",
    "plt.figure(figsize = (18,7))\n",
    "sns.barplot(data = total_orders_month_year,\n",
    "             x = 'order_purchase_year_month',\n",
    "             y = 'order_id')\n",
    "plt.suptitle(\"Total orders by year_month\")"
   ]
  },
  {
   "cell_type": "markdown",
   "id": "3bba0cd3",
   "metadata": {},
   "source": [
    "## Localização"
   ]
  },
  {
   "cell_type": "code",
   "execution_count": null,
   "id": "5f57a152",
   "metadata": {
    "ExecuteTime": {
     "end_time": "2022-10-06T04:01:54.039443Z",
     "start_time": "2022-10-06T04:01:54.039443Z"
    }
   },
   "outputs": [],
   "source": [
    "from opencage.geocoder import OpenCageGeocode\n"
   ]
  }
 ],
 "metadata": {
  "kernelspec": {
   "display_name": "pycaret",
   "language": "python",
   "name": "pycaret"
  },
  "language_info": {
   "codemirror_mode": {
    "name": "ipython",
    "version": 3
   },
   "file_extension": ".py",
   "mimetype": "text/x-python",
   "name": "python",
   "nbconvert_exporter": "python",
   "pygments_lexer": "ipython3",
   "version": "3.8.13"
  },
  "nbTranslate": {
   "displayLangs": [
    "*"
   ],
   "hotkey": "alt-t",
   "langInMainMenu": true,
   "sourceLang": "en",
   "targetLang": "fr",
   "useGoogleTranslate": true
  },
  "toc": {
   "base_numbering": 1,
   "nav_menu": {},
   "number_sections": true,
   "sideBar": true,
   "skip_h1_title": false,
   "title_cell": "Table of Contents",
   "title_sidebar": "Contents",
   "toc_cell": false,
   "toc_position": {},
   "toc_section_display": true,
   "toc_window_display": false
  },
  "varInspector": {
   "cols": {
    "lenName": 16,
    "lenType": 16,
    "lenVar": 40
   },
   "kernels_config": {
    "python": {
     "delete_cmd_postfix": "",
     "delete_cmd_prefix": "del ",
     "library": "var_list.py",
     "varRefreshCmd": "print(var_dic_list())"
    },
    "r": {
     "delete_cmd_postfix": ") ",
     "delete_cmd_prefix": "rm(",
     "library": "var_list.r",
     "varRefreshCmd": "cat(var_dic_list()) "
    }
   },
   "types_to_exclude": [
    "module",
    "function",
    "builtin_function_or_method",
    "instance",
    "_Feature"
   ],
   "window_display": false
  }
 },
 "nbformat": 4,
 "nbformat_minor": 5
}
