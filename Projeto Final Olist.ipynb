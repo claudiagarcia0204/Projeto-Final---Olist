{
 "cells": [
  {
   "cell_type": "markdown",
   "id": "64a1bc8a",
   "metadata": {},
   "source": [
    "# PREDIÇÃO SATISFAÇÃO DO CLIENTE - OLIST"
   ]
  },
  {
   "cell_type": "markdown",
   "id": "bc7e4ac0",
   "metadata": {},
   "source": [
    "## DESCRIÇÃO OLIST - PLATAFORMA DE E-COMMERCE"
   ]
  },
  {
   "cell_type": "markdown",
   "id": "1a14effd",
   "metadata": {},
   "source": [
    "\"Conjunto de dados públicos de comércio eletrônico brasileiro por Olist\n",
    "O conjunto de dados tem informações de 100 mil pedidos de 2016 a 2018 feitos em vários marketplaces no Brasil.\n",
    "\n",
    "A Olist conecta pequenas empresas de todo o Brasil a canais sem complicações e com um único contrato. Esses comerciantes podem vender seus produtos através da Olist Store e enviá-los diretamente aos clientes usando os parceiros de logística da Olist.\n",
    "\n",
    "Depois que um cliente compra o produto da Olist Store, um vendedor é notificado para atender esse pedido. Assim que o cliente recebe o produto, ou vence a data prevista de entrega, o cliente recebe uma pesquisa de satisfação por e-mail onde pode dar uma nota da experiência de compra e anotar alguns comentários.\"\n"
   ]
  },
  {
   "cell_type": "markdown",
   "id": "00727d69",
   "metadata": {},
   "source": [
    "## Importando Bibliotecas"
   ]
  },
  {
   "cell_type": "code",
   "execution_count": 1,
   "id": "c9ad9312",
   "metadata": {
    "ExecuteTime": {
     "end_time": "2022-10-07T18:02:37.191004Z",
     "start_time": "2022-10-07T18:02:32.127126Z"
    }
   },
   "outputs": [],
   "source": [
    "import pandas as pd\n",
    "import numpy as np\n",
    "import os\n",
    "import re\n",
    "import seaborn as sns\n",
    "import glob"
   ]
  },
  {
   "cell_type": "markdown",
   "id": "9ee2db76",
   "metadata": {},
   "source": [
    "Bibliotecas e dependências do Python utilizadas:\n",
    "* Pandas – Manipulação e análise de dados\n",
    "* NumPy – Manipulação de dados\n",
    "* Seaborn - Visualização gráfica\n",
    "* Matplotlib – Visualização gráfica\n",
    "* Pycaret - Aprendizado de máquina"
   ]
  },
  {
   "cell_type": "markdown",
   "id": "c3730203",
   "metadata": {},
   "source": [
    "# Leitura dos dados"
   ]
  },
  {
   "cell_type": "markdown",
   "id": "690fda18",
   "metadata": {},
   "source": [
    "A base de dados pode ser acessada no Kaggle, em https://www.kaggle.com/olistbr/brazilian-ecommerce\n",
    "A sbase de dados completa conta com mais de 100 mil regitros de pedidos em 8 conjuntos de dados separados, sobre:\n",
    "\n",
    "Consumidores\n",
    "Vendedores\n",
    "Produtos\n",
    "Pedidos\n",
    "Categoria de pedidos\n",
    "Avaliação de pedidos\n",
    "Pagamentos\n",
    "Geolocalização\n",
    "Cada conjunto possui informações exclusivas sobre um assunto em questão, podendo ser cruzados de diversas maneiras a fim de se obter informações sobre o quesito escolhido. No caso deste trabalho, a abordagem será realizada com foco nos Consumidores."
   ]
  },
  {
   "cell_type": "markdown",
   "id": "2fb99fc5",
   "metadata": {},
   "source": [
    "Each feature or columns of different csv files are described below:\n",
    "\n",
    "* The  `olist_customers_dataset.csv` contain following features:\n",
    "\n",
    "Feature | Description \n",
    "----------|---------------\n",
    "**customer_id** | Id of the consumer who made the purchase.\n",
    "**customer_unique_id**    | Unique Id of the consumer.\n",
    "**customer_zip_code_prefix** | Zip Code of the location of the consumer.\n",
    "**customer_city** | Name of the City from where order is made.\n",
    "**customer_state** |  State Code from where order is made(Ex- sao paulo-SP).\n",
    "\n",
    "* The `olist_sellers_dataset.csv` contains following features:\n",
    "\n",
    "Feature | Description \n",
    "----------|---------------\n",
    "**seller_id** |   Unique Id of the seller registered in olist.\n",
    "**seller_zip_code_prefix** | Zip Code of the location of the seller.\n",
    "**seller_city** | Name of the City of the seller.\n",
    "**seller_state** | State Code (Ex- sao paulo-SP)\n",
    "\n",
    "\n",
    "* The `olist_order_items_dataset.csv`  contain following features:\n",
    "\n",
    "Feature | Description \n",
    "----------|---------------\n",
    "**order_id** | A unique id of order made by the consumers.\n",
    "**order_item_id** | A Unique id given to each item ordered in the order.\n",
    "**product_id** |A unique id given to each product available on the site.\n",
    "**seller_id** | Unique Id of the seller registered in olist.\n",
    "**shipping_limit_date** | The date before which shipping of the ordered    product must be completed.\n",
    "**price** | Actual price of the products ordered .\n",
    "**freight_value** | Price rate at which a product is delivered from one point to another. \n",
    "\n",
    "* The `olist_order_payments_dataset.csv` contain following features:\n",
    "\n",
    "Feature | Description \n",
    "----------|---------------\n",
    "**order_id** | A unique id of order made by the consumers.\n",
    "**payment_sequential** | sequences of the payments made in case of EMI.\n",
    "**payment_type** |  mode of payment used.(Ex-Credit Card)\n",
    "**payment_installments** | number of installments in case of EMI purchase.\n",
    "**payment_value** | Total amount paid for the purshase order.\n",
    "\n",
    "\n",
    "\n",
    "* The `olist_orders_dataset.csv`  contain following features:\n",
    "\n",
    "Feature | Description \n",
    "----------|---------------\n",
    "**order_id** | A unique id of order made by the consumers.\n",
    "**customer_id** | Id of the consumer who made the purchase.\n",
    "**order_status** | status of the order made i.e delivered, shipped etc.\n",
    "**order_purchase_timestamp** | Timestamp of the purchase.\n",
    "**order_approved_at** | Timestamp of the order approval.\n",
    "**order_delivered_carrier_date** | delivery date at which carrier made the delivery.\n",
    "**order_delivered_customer_date** | date at which customer got the product.\n",
    "**order_estimated_delivery_date** | estimated delivery date of the products.\n",
    "\n",
    "\n",
    "* The `olist_order_reviews_dataset.csv`  contain following features:\n",
    "\n",
    "Feature | Description \n",
    "----------|---------------\n",
    "**review_id** |Id of the review given on the product ordered by the order id.\n",
    "**order_id** |  A unique id of order made by the consumers.\n",
    "**review_score** | review score given by the customer for each order on the scale of 1–5. \n",
    "**review_comment_title** | Title of the review\n",
    "**review_comment_message** | Review comments posted by the consumer for each order.\n",
    "**review_creation_date** |Timestamp of the review when it is created.\n",
    "**review_answer_timestamp** | Timestamp of the review answered.\n",
    "\n",
    "\n",
    "* The `olist_products_dataset.csv` contain following features:\n",
    "\n",
    "Feature | Description \n",
    "----------|---------------\n",
    "**product_id** | A unique identifier for the proposed project.\n",
    "**product_category_name** | Name of the product category\n",
    "**product_name_lenght** | length of the string which specify the name given to the products ordered.\n",
    "**product_description_lenght** | length of the description written for each product ordered on the site.\n",
    "**product_photos_qty** | Number of photos of each product ordered available on the shopping portal.\n",
    "**product_weight_g** | Weight of the products ordered in grams.\n",
    "**product_length_cm** | Length of the products ordered in centimeters.\n",
    "**product_height_cm** | Height of the products ordered in centimeters.\n",
    "**product_width_cm** | width of the product ordered in centimeters.\n"
   ]
  },
  {
   "cell_type": "markdown",
   "id": "96f279f9",
   "metadata": {},
   "source": [
    "# New heading"
   ]
  },
  {
   "cell_type": "markdown",
   "id": "2a65b6d4",
   "metadata": {},
   "source": [
    "# Leitura arquivos"
   ]
  },
  {
   "cell_type": "markdown",
   "id": "a31aa776",
   "metadata": {},
   "source": [
    "Foi realizada a importação de todos os datasets através do Pandas e posteriormente foram cruzados a fim de formar um único Dataframe com informações de: consumidores, geolocalização, pedidos, categorias, produtos, vendedores e avaliações."
   ]
  },
  {
   "cell_type": "code",
   "execution_count": 2,
   "id": "db2813ea",
   "metadata": {
    "ExecuteTime": {
     "end_time": "2022-10-07T18:02:37.781642Z",
     "start_time": "2022-10-07T18:02:37.197999Z"
    }
   },
   "outputs": [],
   "source": [
    "items = pd.read_csv(\"Data/olist_order_items_dataset.csv\") "
   ]
  },
  {
   "cell_type": "code",
   "execution_count": 3,
   "id": "b2623d00",
   "metadata": {
    "ExecuteTime": {
     "end_time": "2022-10-07T18:02:38.610128Z",
     "start_time": "2022-10-07T18:02:37.788635Z"
    }
   },
   "outputs": [],
   "source": [
    "order = pd.read_csv(\"Data/olist_orders_dataset.csv\")  "
   ]
  },
  {
   "cell_type": "code",
   "execution_count": 4,
   "id": "0e7e5ce8",
   "metadata": {
    "ExecuteTime": {
     "end_time": "2022-10-07T18:02:38.720061Z",
     "start_time": "2022-10-07T18:02:38.618125Z"
    }
   },
   "outputs": [],
   "source": [
    "products = pd.read_csv(\"Data/olist_products_dataset.csv\")  "
   ]
  },
  {
   "cell_type": "code",
   "execution_count": 5,
   "id": "39c5419e",
   "metadata": {
    "ExecuteTime": {
     "end_time": "2022-10-07T18:02:40.417015Z",
     "start_time": "2022-10-07T18:02:38.726058Z"
    }
   },
   "outputs": [],
   "source": [
    "geolocation = pd.read_csv(\"Data/olist_geolocation_dataset.csv\")  "
   ]
  },
  {
   "cell_type": "code",
   "execution_count": 6,
   "id": "cb9c215b",
   "metadata": {
    "ExecuteTime": {
     "end_time": "2022-10-07T18:02:41.154561Z",
     "start_time": "2022-10-07T18:02:40.424012Z"
    }
   },
   "outputs": [],
   "source": [
    "reviews = pd.read_csv(\"Data/olist_order_reviews_dataset.csv\")  "
   ]
  },
  {
   "cell_type": "code",
   "execution_count": 7,
   "id": "23349324",
   "metadata": {
    "ExecuteTime": {
     "end_time": "2022-10-07T18:02:41.532329Z",
     "start_time": "2022-10-07T18:02:41.160557Z"
    }
   },
   "outputs": [],
   "source": [
    "customers = pd.read_csv(\"Data/olist_customers_dataset.csv\") "
   ]
  },
  {
   "cell_type": "code",
   "execution_count": 8,
   "id": "adf5b08e",
   "metadata": {
    "ExecuteTime": {
     "end_time": "2022-10-07T18:02:41.781173Z",
     "start_time": "2022-10-07T18:02:41.537325Z"
    }
   },
   "outputs": [],
   "source": [
    "payments = pd.read_csv(\"Data/olist_order_payments_dataset.csv\") "
   ]
  },
  {
   "cell_type": "code",
   "execution_count": 9,
   "id": "6767ebbf",
   "metadata": {
    "ExecuteTime": {
     "end_time": "2022-10-07T18:02:41.812156Z",
     "start_time": "2022-10-07T18:02:41.788170Z"
    }
   },
   "outputs": [],
   "source": [
    "seller = pd.read_csv(\"Data/olist_sellers_dataset.csv\") "
   ]
  },
  {
   "cell_type": "code",
   "execution_count": 10,
   "id": "3ca05a42",
   "metadata": {
    "ExecuteTime": {
     "end_time": "2022-10-07T18:02:42.000039Z",
     "start_time": "2022-10-07T18:02:41.823150Z"
    },
    "run_control": {
     "marked": false
    }
   },
   "outputs": [
    {
     "name": "stdout",
     "output_type": "stream",
     "text": [
      "(112650, 7)\n"
     ]
    },
    {
     "data": {
      "text/html": [
       "<div>\n",
       "<style scoped>\n",
       "    .dataframe tbody tr th:only-of-type {\n",
       "        vertical-align: middle;\n",
       "    }\n",
       "\n",
       "    .dataframe tbody tr th {\n",
       "        vertical-align: top;\n",
       "    }\n",
       "\n",
       "    .dataframe thead th {\n",
       "        text-align: right;\n",
       "    }\n",
       "</style>\n",
       "<table border=\"1\" class=\"dataframe\">\n",
       "  <thead>\n",
       "    <tr style=\"text-align: right;\">\n",
       "      <th></th>\n",
       "      <th>order_id</th>\n",
       "      <th>order_item_id</th>\n",
       "      <th>product_id</th>\n",
       "      <th>seller_id</th>\n",
       "      <th>shipping_limit_date</th>\n",
       "      <th>price</th>\n",
       "      <th>freight_value</th>\n",
       "    </tr>\n",
       "  </thead>\n",
       "  <tbody>\n",
       "    <tr>\n",
       "      <th>0</th>\n",
       "      <td>00010242fe8c5a6d1ba2dd792cb16214</td>\n",
       "      <td>1</td>\n",
       "      <td>4244733e06e7ecb4970a6e2683c13e61</td>\n",
       "      <td>48436dade18ac8b2bce089ec2a041202</td>\n",
       "      <td>2017-09-19 09:45:35</td>\n",
       "      <td>58.9</td>\n",
       "      <td>13.29</td>\n",
       "    </tr>\n",
       "    <tr>\n",
       "      <th>1</th>\n",
       "      <td>00018f77f2f0320c557190d7a144bdd3</td>\n",
       "      <td>1</td>\n",
       "      <td>e5f2d52b802189ee658865ca93d83a8f</td>\n",
       "      <td>dd7ddc04e1b6c2c614352b383efe2d36</td>\n",
       "      <td>2017-05-03 11:05:13</td>\n",
       "      <td>239.9</td>\n",
       "      <td>19.93</td>\n",
       "    </tr>\n",
       "  </tbody>\n",
       "</table>\n",
       "</div>"
      ],
      "text/plain": [
       "                           order_id  order_item_id  \\\n",
       "0  00010242fe8c5a6d1ba2dd792cb16214              1   \n",
       "1  00018f77f2f0320c557190d7a144bdd3              1   \n",
       "\n",
       "                         product_id                         seller_id  \\\n",
       "0  4244733e06e7ecb4970a6e2683c13e61  48436dade18ac8b2bce089ec2a041202   \n",
       "1  e5f2d52b802189ee658865ca93d83a8f  dd7ddc04e1b6c2c614352b383efe2d36   \n",
       "\n",
       "   shipping_limit_date  price  freight_value  \n",
       "0  2017-09-19 09:45:35   58.9          13.29  \n",
       "1  2017-05-03 11:05:13  239.9          19.93  "
      ]
     },
     "execution_count": 10,
     "metadata": {},
     "output_type": "execute_result"
    }
   ],
   "source": [
    "print(items.shape)\n",
    "items.head(2)"
   ]
  },
  {
   "cell_type": "code",
   "execution_count": 11,
   "id": "d451b2e7",
   "metadata": {
    "ExecuteTime": {
     "end_time": "2022-10-07T18:02:42.094982Z",
     "start_time": "2022-10-07T18:02:42.006038Z"
    }
   },
   "outputs": [
    {
     "name": "stdout",
     "output_type": "stream",
     "text": [
      "(99441, 8)\n"
     ]
    },
    {
     "data": {
      "text/html": [
       "<div>\n",
       "<style scoped>\n",
       "    .dataframe tbody tr th:only-of-type {\n",
       "        vertical-align: middle;\n",
       "    }\n",
       "\n",
       "    .dataframe tbody tr th {\n",
       "        vertical-align: top;\n",
       "    }\n",
       "\n",
       "    .dataframe thead th {\n",
       "        text-align: right;\n",
       "    }\n",
       "</style>\n",
       "<table border=\"1\" class=\"dataframe\">\n",
       "  <thead>\n",
       "    <tr style=\"text-align: right;\">\n",
       "      <th></th>\n",
       "      <th>order_id</th>\n",
       "      <th>customer_id</th>\n",
       "      <th>order_status</th>\n",
       "      <th>order_purchase_timestamp</th>\n",
       "      <th>order_approved_at</th>\n",
       "      <th>order_delivered_carrier_date</th>\n",
       "      <th>order_delivered_customer_date</th>\n",
       "      <th>order_estimated_delivery_date</th>\n",
       "    </tr>\n",
       "  </thead>\n",
       "  <tbody>\n",
       "    <tr>\n",
       "      <th>0</th>\n",
       "      <td>e481f51cbdc54678b7cc49136f2d6af7</td>\n",
       "      <td>9ef432eb6251297304e76186b10a928d</td>\n",
       "      <td>delivered</td>\n",
       "      <td>2017-10-02 10:56:33</td>\n",
       "      <td>2017-10-02 11:07:15</td>\n",
       "      <td>2017-10-04 19:55:00</td>\n",
       "      <td>2017-10-10 21:25:13</td>\n",
       "      <td>2017-10-18 00:00:00</td>\n",
       "    </tr>\n",
       "    <tr>\n",
       "      <th>1</th>\n",
       "      <td>53cdb2fc8bc7dce0b6741e2150273451</td>\n",
       "      <td>b0830fb4747a6c6d20dea0b8c802d7ef</td>\n",
       "      <td>delivered</td>\n",
       "      <td>2018-07-24 20:41:37</td>\n",
       "      <td>2018-07-26 03:24:27</td>\n",
       "      <td>2018-07-26 14:31:00</td>\n",
       "      <td>2018-08-07 15:27:45</td>\n",
       "      <td>2018-08-13 00:00:00</td>\n",
       "    </tr>\n",
       "  </tbody>\n",
       "</table>\n",
       "</div>"
      ],
      "text/plain": [
       "                           order_id                       customer_id  \\\n",
       "0  e481f51cbdc54678b7cc49136f2d6af7  9ef432eb6251297304e76186b10a928d   \n",
       "1  53cdb2fc8bc7dce0b6741e2150273451  b0830fb4747a6c6d20dea0b8c802d7ef   \n",
       "\n",
       "  order_status order_purchase_timestamp    order_approved_at  \\\n",
       "0    delivered      2017-10-02 10:56:33  2017-10-02 11:07:15   \n",
       "1    delivered      2018-07-24 20:41:37  2018-07-26 03:24:27   \n",
       "\n",
       "  order_delivered_carrier_date order_delivered_customer_date  \\\n",
       "0          2017-10-04 19:55:00           2017-10-10 21:25:13   \n",
       "1          2018-07-26 14:31:00           2018-08-07 15:27:45   \n",
       "\n",
       "  order_estimated_delivery_date  \n",
       "0           2017-10-18 00:00:00  \n",
       "1           2018-08-13 00:00:00  "
      ]
     },
     "execution_count": 11,
     "metadata": {},
     "output_type": "execute_result"
    }
   ],
   "source": [
    "print(order.shape)\n",
    "order.head(2)"
   ]
  },
  {
   "cell_type": "code",
   "execution_count": 12,
   "id": "07f7cf3d",
   "metadata": {
    "ExecuteTime": {
     "end_time": "2022-10-07T18:02:42.248889Z",
     "start_time": "2022-10-07T18:02:42.099980Z"
    }
   },
   "outputs": [
    {
     "name": "stdout",
     "output_type": "stream",
     "text": [
      "(32951, 9)\n"
     ]
    },
    {
     "data": {
      "text/html": [
       "<div>\n",
       "<style scoped>\n",
       "    .dataframe tbody tr th:only-of-type {\n",
       "        vertical-align: middle;\n",
       "    }\n",
       "\n",
       "    .dataframe tbody tr th {\n",
       "        vertical-align: top;\n",
       "    }\n",
       "\n",
       "    .dataframe thead th {\n",
       "        text-align: right;\n",
       "    }\n",
       "</style>\n",
       "<table border=\"1\" class=\"dataframe\">\n",
       "  <thead>\n",
       "    <tr style=\"text-align: right;\">\n",
       "      <th></th>\n",
       "      <th>product_id</th>\n",
       "      <th>product_category_name</th>\n",
       "      <th>product_name_lenght</th>\n",
       "      <th>product_description_lenght</th>\n",
       "      <th>product_photos_qty</th>\n",
       "      <th>product_weight_g</th>\n",
       "      <th>product_length_cm</th>\n",
       "      <th>product_height_cm</th>\n",
       "      <th>product_width_cm</th>\n",
       "    </tr>\n",
       "  </thead>\n",
       "  <tbody>\n",
       "    <tr>\n",
       "      <th>0</th>\n",
       "      <td>1e9e8ef04dbcff4541ed26657ea517e5</td>\n",
       "      <td>perfumaria</td>\n",
       "      <td>40.0</td>\n",
       "      <td>287.0</td>\n",
       "      <td>1.0</td>\n",
       "      <td>225.0</td>\n",
       "      <td>16.0</td>\n",
       "      <td>10.0</td>\n",
       "      <td>14.0</td>\n",
       "    </tr>\n",
       "    <tr>\n",
       "      <th>1</th>\n",
       "      <td>3aa071139cb16b67ca9e5dea641aaa2f</td>\n",
       "      <td>artes</td>\n",
       "      <td>44.0</td>\n",
       "      <td>276.0</td>\n",
       "      <td>1.0</td>\n",
       "      <td>1000.0</td>\n",
       "      <td>30.0</td>\n",
       "      <td>18.0</td>\n",
       "      <td>20.0</td>\n",
       "    </tr>\n",
       "  </tbody>\n",
       "</table>\n",
       "</div>"
      ],
      "text/plain": [
       "                         product_id product_category_name  \\\n",
       "0  1e9e8ef04dbcff4541ed26657ea517e5            perfumaria   \n",
       "1  3aa071139cb16b67ca9e5dea641aaa2f                 artes   \n",
       "\n",
       "   product_name_lenght  product_description_lenght  product_photos_qty  \\\n",
       "0                 40.0                       287.0                 1.0   \n",
       "1                 44.0                       276.0                 1.0   \n",
       "\n",
       "   product_weight_g  product_length_cm  product_height_cm  product_width_cm  \n",
       "0             225.0               16.0               10.0              14.0  \n",
       "1            1000.0               30.0               18.0              20.0  "
      ]
     },
     "execution_count": 12,
     "metadata": {},
     "output_type": "execute_result"
    }
   ],
   "source": [
    "print(products.shape)\n",
    "products.head(2)"
   ]
  },
  {
   "cell_type": "code",
   "execution_count": 13,
   "id": "2ab52479",
   "metadata": {
    "ExecuteTime": {
     "end_time": "2022-10-07T18:02:42.374321Z",
     "start_time": "2022-10-07T18:02:42.254883Z"
    }
   },
   "outputs": [
    {
     "name": "stdout",
     "output_type": "stream",
     "text": [
      "(1000163, 5)\n"
     ]
    },
    {
     "data": {
      "text/html": [
       "<div>\n",
       "<style scoped>\n",
       "    .dataframe tbody tr th:only-of-type {\n",
       "        vertical-align: middle;\n",
       "    }\n",
       "\n",
       "    .dataframe tbody tr th {\n",
       "        vertical-align: top;\n",
       "    }\n",
       "\n",
       "    .dataframe thead th {\n",
       "        text-align: right;\n",
       "    }\n",
       "</style>\n",
       "<table border=\"1\" class=\"dataframe\">\n",
       "  <thead>\n",
       "    <tr style=\"text-align: right;\">\n",
       "      <th></th>\n",
       "      <th>geolocation_zip_code_prefix</th>\n",
       "      <th>geolocation_lat</th>\n",
       "      <th>geolocation_lng</th>\n",
       "      <th>geolocation_city</th>\n",
       "      <th>geolocation_state</th>\n",
       "    </tr>\n",
       "  </thead>\n",
       "  <tbody>\n",
       "    <tr>\n",
       "      <th>0</th>\n",
       "      <td>1037</td>\n",
       "      <td>-23.545621</td>\n",
       "      <td>-46.639292</td>\n",
       "      <td>sao paulo</td>\n",
       "      <td>SP</td>\n",
       "    </tr>\n",
       "    <tr>\n",
       "      <th>1</th>\n",
       "      <td>1046</td>\n",
       "      <td>-23.546081</td>\n",
       "      <td>-46.644820</td>\n",
       "      <td>sao paulo</td>\n",
       "      <td>SP</td>\n",
       "    </tr>\n",
       "  </tbody>\n",
       "</table>\n",
       "</div>"
      ],
      "text/plain": [
       "   geolocation_zip_code_prefix  geolocation_lat  geolocation_lng  \\\n",
       "0                         1037       -23.545621       -46.639292   \n",
       "1                         1046       -23.546081       -46.644820   \n",
       "\n",
       "  geolocation_city geolocation_state  \n",
       "0        sao paulo                SP  \n",
       "1        sao paulo                SP  "
      ]
     },
     "execution_count": 13,
     "metadata": {},
     "output_type": "execute_result"
    }
   ],
   "source": [
    "print(geolocation.shape)\n",
    "geolocation.head(2)"
   ]
  },
  {
   "cell_type": "code",
   "execution_count": 14,
   "id": "a7667056",
   "metadata": {
    "ExecuteTime": {
     "end_time": "2022-10-07T18:02:42.530224Z",
     "start_time": "2022-10-07T18:02:42.380318Z"
    }
   },
   "outputs": [
    {
     "name": "stdout",
     "output_type": "stream",
     "text": [
      "(99224, 7)\n"
     ]
    },
    {
     "data": {
      "text/html": [
       "<div>\n",
       "<style scoped>\n",
       "    .dataframe tbody tr th:only-of-type {\n",
       "        vertical-align: middle;\n",
       "    }\n",
       "\n",
       "    .dataframe tbody tr th {\n",
       "        vertical-align: top;\n",
       "    }\n",
       "\n",
       "    .dataframe thead th {\n",
       "        text-align: right;\n",
       "    }\n",
       "</style>\n",
       "<table border=\"1\" class=\"dataframe\">\n",
       "  <thead>\n",
       "    <tr style=\"text-align: right;\">\n",
       "      <th></th>\n",
       "      <th>review_id</th>\n",
       "      <th>order_id</th>\n",
       "      <th>review_score</th>\n",
       "      <th>review_comment_title</th>\n",
       "      <th>review_comment_message</th>\n",
       "      <th>review_creation_date</th>\n",
       "      <th>review_answer_timestamp</th>\n",
       "    </tr>\n",
       "  </thead>\n",
       "  <tbody>\n",
       "    <tr>\n",
       "      <th>0</th>\n",
       "      <td>7bc2406110b926393aa56f80a40eba40</td>\n",
       "      <td>73fc7af87114b39712e6da79b0a377eb</td>\n",
       "      <td>4</td>\n",
       "      <td>NaN</td>\n",
       "      <td>NaN</td>\n",
       "      <td>2018-01-18 00:00:00</td>\n",
       "      <td>2018-01-18 21:46:59</td>\n",
       "    </tr>\n",
       "    <tr>\n",
       "      <th>1</th>\n",
       "      <td>80e641a11e56f04c1ad469d5645fdfde</td>\n",
       "      <td>a548910a1c6147796b98fdf73dbeba33</td>\n",
       "      <td>5</td>\n",
       "      <td>NaN</td>\n",
       "      <td>NaN</td>\n",
       "      <td>2018-03-10 00:00:00</td>\n",
       "      <td>2018-03-11 03:05:13</td>\n",
       "    </tr>\n",
       "  </tbody>\n",
       "</table>\n",
       "</div>"
      ],
      "text/plain": [
       "                          review_id                          order_id  \\\n",
       "0  7bc2406110b926393aa56f80a40eba40  73fc7af87114b39712e6da79b0a377eb   \n",
       "1  80e641a11e56f04c1ad469d5645fdfde  a548910a1c6147796b98fdf73dbeba33   \n",
       "\n",
       "   review_score review_comment_title review_comment_message  \\\n",
       "0             4                  NaN                    NaN   \n",
       "1             5                  NaN                    NaN   \n",
       "\n",
       "  review_creation_date review_answer_timestamp  \n",
       "0  2018-01-18 00:00:00     2018-01-18 21:46:59  \n",
       "1  2018-03-10 00:00:00     2018-03-11 03:05:13  "
      ]
     },
     "execution_count": 14,
     "metadata": {},
     "output_type": "execute_result"
    }
   ],
   "source": [
    "print(reviews.shape)\n",
    "reviews.head(2)"
   ]
  },
  {
   "cell_type": "code",
   "execution_count": 15,
   "id": "717c24bc",
   "metadata": {
    "ExecuteTime": {
     "end_time": "2022-10-07T18:02:42.655152Z",
     "start_time": "2022-10-07T18:02:42.536222Z"
    }
   },
   "outputs": [
    {
     "name": "stdout",
     "output_type": "stream",
     "text": [
      "(99441, 5)\n"
     ]
    },
    {
     "data": {
      "text/html": [
       "<div>\n",
       "<style scoped>\n",
       "    .dataframe tbody tr th:only-of-type {\n",
       "        vertical-align: middle;\n",
       "    }\n",
       "\n",
       "    .dataframe tbody tr th {\n",
       "        vertical-align: top;\n",
       "    }\n",
       "\n",
       "    .dataframe thead th {\n",
       "        text-align: right;\n",
       "    }\n",
       "</style>\n",
       "<table border=\"1\" class=\"dataframe\">\n",
       "  <thead>\n",
       "    <tr style=\"text-align: right;\">\n",
       "      <th></th>\n",
       "      <th>customer_id</th>\n",
       "      <th>customer_unique_id</th>\n",
       "      <th>customer_zip_code_prefix</th>\n",
       "      <th>customer_city</th>\n",
       "      <th>customer_state</th>\n",
       "    </tr>\n",
       "  </thead>\n",
       "  <tbody>\n",
       "    <tr>\n",
       "      <th>0</th>\n",
       "      <td>06b8999e2fba1a1fbc88172c00ba8bc7</td>\n",
       "      <td>861eff4711a542e4b93843c6dd7febb0</td>\n",
       "      <td>14409</td>\n",
       "      <td>franca</td>\n",
       "      <td>SP</td>\n",
       "    </tr>\n",
       "    <tr>\n",
       "      <th>1</th>\n",
       "      <td>18955e83d337fd6b2def6b18a428ac77</td>\n",
       "      <td>290c77bc529b7ac935b93aa66c333dc3</td>\n",
       "      <td>9790</td>\n",
       "      <td>sao bernardo do campo</td>\n",
       "      <td>SP</td>\n",
       "    </tr>\n",
       "  </tbody>\n",
       "</table>\n",
       "</div>"
      ],
      "text/plain": [
       "                        customer_id                customer_unique_id  \\\n",
       "0  06b8999e2fba1a1fbc88172c00ba8bc7  861eff4711a542e4b93843c6dd7febb0   \n",
       "1  18955e83d337fd6b2def6b18a428ac77  290c77bc529b7ac935b93aa66c333dc3   \n",
       "\n",
       "   customer_zip_code_prefix          customer_city customer_state  \n",
       "0                     14409                 franca             SP  \n",
       "1                      9790  sao bernardo do campo             SP  "
      ]
     },
     "execution_count": 15,
     "metadata": {},
     "output_type": "execute_result"
    }
   ],
   "source": [
    "print(customers.shape)\n",
    "customers.head(2)"
   ]
  },
  {
   "cell_type": "code",
   "execution_count": 16,
   "id": "967c5199",
   "metadata": {
    "ExecuteTime": {
     "end_time": "2022-10-07T18:02:42.798061Z",
     "start_time": "2022-10-07T18:02:42.661144Z"
    }
   },
   "outputs": [
    {
     "name": "stdout",
     "output_type": "stream",
     "text": [
      "(103886, 5)\n"
     ]
    },
    {
     "data": {
      "text/html": [
       "<div>\n",
       "<style scoped>\n",
       "    .dataframe tbody tr th:only-of-type {\n",
       "        vertical-align: middle;\n",
       "    }\n",
       "\n",
       "    .dataframe tbody tr th {\n",
       "        vertical-align: top;\n",
       "    }\n",
       "\n",
       "    .dataframe thead th {\n",
       "        text-align: right;\n",
       "    }\n",
       "</style>\n",
       "<table border=\"1\" class=\"dataframe\">\n",
       "  <thead>\n",
       "    <tr style=\"text-align: right;\">\n",
       "      <th></th>\n",
       "      <th>order_id</th>\n",
       "      <th>payment_sequential</th>\n",
       "      <th>payment_type</th>\n",
       "      <th>payment_installments</th>\n",
       "      <th>payment_value</th>\n",
       "    </tr>\n",
       "  </thead>\n",
       "  <tbody>\n",
       "    <tr>\n",
       "      <th>0</th>\n",
       "      <td>b81ef226f3fe1789b1e8b2acac839d17</td>\n",
       "      <td>1</td>\n",
       "      <td>credit_card</td>\n",
       "      <td>8</td>\n",
       "      <td>99.33</td>\n",
       "    </tr>\n",
       "    <tr>\n",
       "      <th>1</th>\n",
       "      <td>a9810da82917af2d9aefd1278f1dcfa0</td>\n",
       "      <td>1</td>\n",
       "      <td>credit_card</td>\n",
       "      <td>1</td>\n",
       "      <td>24.39</td>\n",
       "    </tr>\n",
       "  </tbody>\n",
       "</table>\n",
       "</div>"
      ],
      "text/plain": [
       "                           order_id  payment_sequential payment_type  \\\n",
       "0  b81ef226f3fe1789b1e8b2acac839d17                   1  credit_card   \n",
       "1  a9810da82917af2d9aefd1278f1dcfa0                   1  credit_card   \n",
       "\n",
       "   payment_installments  payment_value  \n",
       "0                     8          99.33  \n",
       "1                     1          24.39  "
      ]
     },
     "execution_count": 16,
     "metadata": {},
     "output_type": "execute_result"
    }
   ],
   "source": [
    "print(payments.shape)\n",
    "payments.head(2)"
   ]
  },
  {
   "cell_type": "code",
   "execution_count": 17,
   "id": "0c7cbcfc",
   "metadata": {
    "ExecuteTime": {
     "end_time": "2022-10-07T18:02:42.924982Z",
     "start_time": "2022-10-07T18:02:42.806057Z"
    }
   },
   "outputs": [
    {
     "name": "stdout",
     "output_type": "stream",
     "text": [
      "(3095, 4)\n"
     ]
    },
    {
     "data": {
      "text/html": [
       "<div>\n",
       "<style scoped>\n",
       "    .dataframe tbody tr th:only-of-type {\n",
       "        vertical-align: middle;\n",
       "    }\n",
       "\n",
       "    .dataframe tbody tr th {\n",
       "        vertical-align: top;\n",
       "    }\n",
       "\n",
       "    .dataframe thead th {\n",
       "        text-align: right;\n",
       "    }\n",
       "</style>\n",
       "<table border=\"1\" class=\"dataframe\">\n",
       "  <thead>\n",
       "    <tr style=\"text-align: right;\">\n",
       "      <th></th>\n",
       "      <th>seller_id</th>\n",
       "      <th>seller_zip_code_prefix</th>\n",
       "      <th>seller_city</th>\n",
       "      <th>seller_state</th>\n",
       "    </tr>\n",
       "  </thead>\n",
       "  <tbody>\n",
       "    <tr>\n",
       "      <th>0</th>\n",
       "      <td>3442f8959a84dea7ee197c632cb2df15</td>\n",
       "      <td>13023</td>\n",
       "      <td>campinas</td>\n",
       "      <td>SP</td>\n",
       "    </tr>\n",
       "    <tr>\n",
       "      <th>1</th>\n",
       "      <td>d1b65fc7debc3361ea86b5f14c68d2e2</td>\n",
       "      <td>13844</td>\n",
       "      <td>mogi guacu</td>\n",
       "      <td>SP</td>\n",
       "    </tr>\n",
       "  </tbody>\n",
       "</table>\n",
       "</div>"
      ],
      "text/plain": [
       "                          seller_id  seller_zip_code_prefix seller_city  \\\n",
       "0  3442f8959a84dea7ee197c632cb2df15                   13023    campinas   \n",
       "1  d1b65fc7debc3361ea86b5f14c68d2e2                   13844  mogi guacu   \n",
       "\n",
       "  seller_state  \n",
       "0           SP  \n",
       "1           SP  "
      ]
     },
     "execution_count": 17,
     "metadata": {},
     "output_type": "execute_result"
    }
   ],
   "source": [
    "print(seller.shape)\n",
    "seller.head(2)"
   ]
  },
  {
   "cell_type": "markdown",
   "id": "b9c0caab",
   "metadata": {},
   "source": [
    "# Limpando dados"
   ]
  },
  {
   "cell_type": "markdown",
   "id": "5e3eb8b7",
   "metadata": {},
   "source": [
    "## Clientes - customers"
   ]
  },
  {
   "cell_type": "markdown",
   "id": "bd2d3be6",
   "metadata": {},
   "source": [
    "Tabela de clientes 99441 linhas  5 colunas ('customer_id', 'customer_unique_id', customer_zip_code_prefix','customer_city', 'customer_state')"
   ]
  },
  {
   "cell_type": "code",
   "execution_count": 18,
   "id": "e1379480",
   "metadata": {
    "ExecuteTime": {
     "end_time": "2022-10-07T18:02:43.080886Z",
     "start_time": "2022-10-07T18:02:42.930979Z"
    }
   },
   "outputs": [
    {
     "data": {
      "text/plain": [
       "(99441, 5)"
      ]
     },
     "execution_count": 18,
     "metadata": {},
     "output_type": "execute_result"
    }
   ],
   "source": [
    "customers.shape"
   ]
  },
  {
   "cell_type": "code",
   "execution_count": 19,
   "id": "c132b60c",
   "metadata": {
    "ExecuteTime": {
     "end_time": "2022-10-07T18:02:43.421676Z",
     "start_time": "2022-10-07T18:02:43.087883Z"
    },
    "cell_style": "center"
   },
   "outputs": [
    {
     "name": "stdout",
     "output_type": "stream",
     "text": [
      "<class 'pandas.core.frame.DataFrame'>\n",
      "RangeIndex: 99441 entries, 0 to 99440\n",
      "Data columns (total 5 columns):\n",
      " #   Column                    Non-Null Count  Dtype \n",
      "---  ------                    --------------  ----- \n",
      " 0   customer_id               99441 non-null  object\n",
      " 1   customer_unique_id        99441 non-null  object\n",
      " 2   customer_zip_code_prefix  99441 non-null  int64 \n",
      " 3   customer_city             99441 non-null  object\n",
      " 4   customer_state            99441 non-null  object\n",
      "dtypes: int64(1), object(4)\n",
      "memory usage: 3.8+ MB\n"
     ]
    }
   ],
   "source": [
    "customers.info()"
   ]
  },
  {
   "cell_type": "code",
   "execution_count": 20,
   "id": "b7ac5afc",
   "metadata": {
    "ExecuteTime": {
     "end_time": "2022-10-07T18:02:43.686547Z",
     "start_time": "2022-10-07T18:02:43.456655Z"
    },
    "cell_style": "center"
   },
   "outputs": [
    {
     "data": {
      "text/plain": [
       "customer_id                 0\n",
       "customer_unique_id          0\n",
       "customer_zip_code_prefix    0\n",
       "customer_city               0\n",
       "customer_state              0\n",
       "dtype: int64"
      ]
     },
     "execution_count": 20,
     "metadata": {},
     "output_type": "execute_result"
    }
   ],
   "source": [
    "customers.isnull().sum()"
   ]
  },
  {
   "cell_type": "code",
   "execution_count": 21,
   "id": "0a9b47d1",
   "metadata": {
    "ExecuteTime": {
     "end_time": "2022-10-07T18:02:43.888424Z",
     "start_time": "2022-10-07T18:02:43.693543Z"
    }
   },
   "outputs": [
    {
     "data": {
      "text/plain": [
       "0        0\n",
       "1        0\n",
       "2        0\n",
       "3        0\n",
       "4        0\n",
       "        ..\n",
       "99436    0\n",
       "99437    0\n",
       "99438    0\n",
       "99439    0\n",
       "99440    0\n",
       "Length: 99441, dtype: int32"
      ]
     },
     "execution_count": 21,
     "metadata": {},
     "output_type": "execute_result"
    }
   ],
   "source": [
    "customers.duplicated(subset=['customer_unique_id']).astype(int)"
   ]
  },
  {
   "cell_type": "code",
   "execution_count": 22,
   "id": "923e0fbe",
   "metadata": {
    "ExecuteTime": {
     "end_time": "2022-10-07T18:02:43.951385Z",
     "start_time": "2022-10-07T18:02:43.894418Z"
    }
   },
   "outputs": [
    {
     "data": {
      "text/plain": [
       "Index(['customer_id', 'customer_unique_id', 'customer_zip_code_prefix',\n",
       "       'customer_city', 'customer_state'],\n",
       "      dtype='object')"
      ]
     },
     "execution_count": 22,
     "metadata": {},
     "output_type": "execute_result"
    }
   ],
   "source": [
    "customers.columns"
   ]
  },
  {
   "cell_type": "markdown",
   "id": "1d8bb234",
   "metadata": {},
   "source": [
    "### Envio do arquivo limpo- clientes.csv"
   ]
  },
  {
   "cell_type": "code",
   "execution_count": 23,
   "id": "801cf0e5",
   "metadata": {
    "ExecuteTime": {
     "end_time": "2022-10-07T18:02:45.108689Z",
     "start_time": "2022-10-07T18:02:43.957381Z"
    }
   },
   "outputs": [],
   "source": [
    "customers.to_csv('Data/clientes.csv')"
   ]
  },
  {
   "cell_type": "markdown",
   "id": "968d6097",
   "metadata": {
    "ExecuteTime": {
     "end_time": "2022-10-04T00:07:55.866202Z",
     "start_time": "2022-10-04T00:07:55.845213Z"
    }
   },
   "source": [
    "## Ordens - order"
   ]
  },
  {
   "cell_type": "markdown",
   "id": "d025c401",
   "metadata": {},
   "source": [
    "Tabela 'ordens' tem 99441 linhas e 9 colunas ('order_id', 'customer_id', 'order_status', 'order_purchase_timestamp',\n",
    "'order_approved_at', 'order_delivered_carrier_date',\n",
    "'order_delivered_customer_date', 'order_estimated_delivery_date)\n",
    "\n",
    "\n",
    "Nulos (order_approved_at - 160, order_delivered_carrier_date -  1783, order_delivered_customer_date- 2965)"
   ]
  },
  {
   "cell_type": "code",
   "execution_count": 24,
   "id": "6094c876",
   "metadata": {
    "ExecuteTime": {
     "end_time": "2022-10-07T18:02:45.140671Z",
     "start_time": "2022-10-07T18:02:45.115684Z"
    }
   },
   "outputs": [
    {
     "data": {
      "text/plain": [
       "(99441, 8)"
      ]
     },
     "execution_count": 24,
     "metadata": {},
     "output_type": "execute_result"
    }
   ],
   "source": [
    "order.shape"
   ]
  },
  {
   "cell_type": "code",
   "execution_count": 25,
   "id": "592bb0cc",
   "metadata": {
    "ExecuteTime": {
     "end_time": "2022-10-07T18:02:45.578401Z",
     "start_time": "2022-10-07T18:02:45.146665Z"
    },
    "cell_style": "center"
   },
   "outputs": [
    {
     "data": {
      "text/plain": [
       "order_id                            0\n",
       "customer_id                         0\n",
       "order_status                        0\n",
       "order_purchase_timestamp            0\n",
       "order_approved_at                 160\n",
       "order_delivered_carrier_date     1783\n",
       "order_delivered_customer_date    2965\n",
       "order_estimated_delivery_date       0\n",
       "dtype: int64"
      ]
     },
     "execution_count": 25,
     "metadata": {},
     "output_type": "execute_result"
    }
   ],
   "source": [
    "order.isnull().sum()"
   ]
  },
  {
   "cell_type": "code",
   "execution_count": 26,
   "id": "72854286",
   "metadata": {
    "ExecuteTime": {
     "end_time": "2022-10-07T18:02:46.033120Z",
     "start_time": "2022-10-07T18:02:45.584395Z"
    },
    "cell_style": "center"
   },
   "outputs": [
    {
     "name": "stdout",
     "output_type": "stream",
     "text": [
      "<class 'pandas.core.frame.DataFrame'>\n",
      "RangeIndex: 99441 entries, 0 to 99440\n",
      "Data columns (total 8 columns):\n",
      " #   Column                         Non-Null Count  Dtype \n",
      "---  ------                         --------------  ----- \n",
      " 0   order_id                       99441 non-null  object\n",
      " 1   customer_id                    99441 non-null  object\n",
      " 2   order_status                   99441 non-null  object\n",
      " 3   order_purchase_timestamp       99441 non-null  object\n",
      " 4   order_approved_at              99281 non-null  object\n",
      " 5   order_delivered_carrier_date   97658 non-null  object\n",
      " 6   order_delivered_customer_date  96476 non-null  object\n",
      " 7   order_estimated_delivery_date  99441 non-null  object\n",
      "dtypes: object(8)\n",
      "memory usage: 6.1+ MB\n"
     ]
    }
   ],
   "source": [
    "order.info()"
   ]
  },
  {
   "cell_type": "code",
   "execution_count": 27,
   "id": "715477fb",
   "metadata": {
    "ExecuteTime": {
     "end_time": "2022-10-07T18:02:46.159042Z",
     "start_time": "2022-10-07T18:02:46.038115Z"
    }
   },
   "outputs": [
    {
     "data": {
      "text/plain": [
       "Index(['order_id', 'customer_id', 'order_status', 'order_purchase_timestamp',\n",
       "       'order_approved_at', 'order_delivered_carrier_date',\n",
       "       'order_delivered_customer_date', 'order_estimated_delivery_date'],\n",
       "      dtype='object')"
      ]
     },
     "execution_count": 27,
     "metadata": {},
     "output_type": "execute_result"
    }
   ],
   "source": [
    "order.columns"
   ]
  },
  {
   "cell_type": "markdown",
   "id": "fc1ac602",
   "metadata": {},
   "source": [
    "### Tratando linhas nulas(ordens"
   ]
  },
  {
   "cell_type": "markdown",
   "id": "341a8e29",
   "metadata": {},
   "source": [
    "Tratando dados nulos com dados de colunas próximas"
   ]
  },
  {
   "cell_type": "code",
   "execution_count": 28,
   "id": "052400ba",
   "metadata": {
    "ExecuteTime": {
     "end_time": "2022-10-07T18:02:46.317635Z",
     "start_time": "2022-10-07T18:02:46.183028Z"
    }
   },
   "outputs": [],
   "source": [
    "order[\"order_approved_at\"].fillna(order[\"order_purchase_timestamp\"], inplace=True)\n",
    "order[\"order_delivered_customer_date\"].fillna(order[\"order_estimated_delivery_date\"], inplace=True)\n",
    "order[\"order_delivered_carrier_date\"].fillna(order[\"order_delivered_customer_date\"], inplace=True)"
   ]
  },
  {
   "cell_type": "code",
   "execution_count": 29,
   "id": "4455dae6",
   "metadata": {
    "ExecuteTime": {
     "end_time": "2022-10-07T18:02:46.410578Z",
     "start_time": "2022-10-07T18:02:46.322628Z"
    }
   },
   "outputs": [
    {
     "data": {
      "text/plain": [
       "Index(['order_id', 'customer_id', 'order_status', 'order_purchase_timestamp',\n",
       "       'order_approved_at', 'order_delivered_carrier_date',\n",
       "       'order_delivered_customer_date', 'order_estimated_delivery_date'],\n",
       "      dtype='object')"
      ]
     },
     "execution_count": 29,
     "metadata": {},
     "output_type": "execute_result"
    }
   ],
   "source": [
    "order.columns"
   ]
  },
  {
   "cell_type": "markdown",
   "id": "deb95fb4",
   "metadata": {},
   "source": [
    "### Alterando data type"
   ]
  },
  {
   "cell_type": "code",
   "execution_count": 30,
   "id": "a5c00b55",
   "metadata": {
    "ExecuteTime": {
     "end_time": "2022-10-07T18:02:47.211083Z",
     "start_time": "2022-10-07T18:02:46.415572Z"
    }
   },
   "outputs": [],
   "source": [
    "times_cols = ['order_purchase_timestamp', 'order_approved_at', 'order_delivered_carrier_date','order_delivered_customer_date', 'order_estimated_delivery_date']\n",
    "for col in times_cols:\n",
    "    order[col] = pd.to_datetime(order[col])    "
   ]
  },
  {
   "cell_type": "code",
   "execution_count": 31,
   "id": "e73ea569",
   "metadata": {
    "ExecuteTime": {
     "end_time": "2022-10-07T18:02:47.243063Z",
     "start_time": "2022-10-07T18:02:47.218077Z"
    }
   },
   "outputs": [],
   "source": [
    "order['antecipacao_entrega']= (order['order_estimated_delivery_date'] - order['order_delivered_customer_date'])"
   ]
  },
  {
   "cell_type": "code",
   "execution_count": 32,
   "id": "f0918dc4",
   "metadata": {
    "ExecuteTime": {
     "end_time": "2022-10-07T18:02:47.384977Z",
     "start_time": "2022-10-07T18:02:47.249057Z"
    }
   },
   "outputs": [],
   "source": [
    "order['antecipacao_entrega']=order['antecipacao_entrega'].dt.days"
   ]
  },
  {
   "cell_type": "code",
   "execution_count": 33,
   "id": "26083bdb",
   "metadata": {
    "ExecuteTime": {
     "end_time": "2022-10-07T18:02:47.605779Z",
     "start_time": "2022-10-07T18:02:47.389971Z"
    }
   },
   "outputs": [
    {
     "name": "stdout",
     "output_type": "stream",
     "text": [
      "<class 'pandas.core.frame.DataFrame'>\n",
      "RangeIndex: 99441 entries, 0 to 99440\n",
      "Data columns (total 9 columns):\n",
      " #   Column                         Non-Null Count  Dtype         \n",
      "---  ------                         --------------  -----         \n",
      " 0   order_id                       99441 non-null  object        \n",
      " 1   customer_id                    99441 non-null  object        \n",
      " 2   order_status                   99441 non-null  object        \n",
      " 3   order_purchase_timestamp       99441 non-null  datetime64[ns]\n",
      " 4   order_approved_at              99441 non-null  datetime64[ns]\n",
      " 5   order_delivered_carrier_date   99441 non-null  datetime64[ns]\n",
      " 6   order_delivered_customer_date  99441 non-null  datetime64[ns]\n",
      " 7   order_estimated_delivery_date  99441 non-null  datetime64[ns]\n",
      " 8   antecipacao_entrega            99441 non-null  int64         \n",
      "dtypes: datetime64[ns](5), int64(1), object(3)\n",
      "memory usage: 6.8+ MB\n"
     ]
    }
   ],
   "source": [
    "order.info()"
   ]
  },
  {
   "cell_type": "markdown",
   "id": "bb720e4f",
   "metadata": {},
   "source": [
    "### Envio do arquivo limpo- ordens.csv"
   ]
  },
  {
   "cell_type": "code",
   "execution_count": 34,
   "id": "26a3cbd4",
   "metadata": {
    "ExecuteTime": {
     "end_time": "2022-10-07T18:02:52.634257Z",
     "start_time": "2022-10-07T18:02:47.615774Z"
    }
   },
   "outputs": [],
   "source": [
    "order.to_csv('Data/ordens.csv')"
   ]
  },
  {
   "cell_type": "markdown",
   "id": "9d7c443d",
   "metadata": {
    "ExecuteTime": {
     "end_time": "2022-10-04T00:44:50.125439Z",
     "start_time": "2022-10-04T00:44:50.108450Z"
    }
   },
   "source": [
    "## Produtos - products"
   ]
  },
  {
   "cell_type": "markdown",
   "id": "a7b9ce72",
   "metadata": {},
   "source": [
    "Tabela com 32340 linhas com 6 colunas"
   ]
  },
  {
   "cell_type": "code",
   "execution_count": 35,
   "id": "585a9887",
   "metadata": {
    "ExecuteTime": {
     "end_time": "2022-10-07T18:02:52.665496Z",
     "start_time": "2022-10-07T18:02:52.640512Z"
    }
   },
   "outputs": [
    {
     "data": {
      "text/plain": [
       "(32951, 9)"
      ]
     },
     "execution_count": 35,
     "metadata": {},
     "output_type": "execute_result"
    }
   ],
   "source": [
    "products.shape"
   ]
  },
  {
   "cell_type": "code",
   "execution_count": 36,
   "id": "60a0ed2d",
   "metadata": {
    "ExecuteTime": {
     "end_time": "2022-10-07T18:02:52.839391Z",
     "start_time": "2022-10-07T18:02:52.673493Z"
    },
    "cell_style": "center"
   },
   "outputs": [
    {
     "name": "stdout",
     "output_type": "stream",
     "text": [
      "<class 'pandas.core.frame.DataFrame'>\n",
      "RangeIndex: 32951 entries, 0 to 32950\n",
      "Data columns (total 9 columns):\n",
      " #   Column                      Non-Null Count  Dtype  \n",
      "---  ------                      --------------  -----  \n",
      " 0   product_id                  32951 non-null  object \n",
      " 1   product_category_name       32341 non-null  object \n",
      " 2   product_name_lenght         32341 non-null  float64\n",
      " 3   product_description_lenght  32341 non-null  float64\n",
      " 4   product_photos_qty          32341 non-null  float64\n",
      " 5   product_weight_g            32949 non-null  float64\n",
      " 6   product_length_cm           32949 non-null  float64\n",
      " 7   product_height_cm           32949 non-null  float64\n",
      " 8   product_width_cm            32949 non-null  float64\n",
      "dtypes: float64(7), object(2)\n",
      "memory usage: 2.3+ MB\n"
     ]
    }
   ],
   "source": [
    "products.info()"
   ]
  },
  {
   "cell_type": "code",
   "execution_count": 37,
   "id": "d9e1cf1d",
   "metadata": {
    "ExecuteTime": {
     "end_time": "2022-10-07T18:02:52.966310Z",
     "start_time": "2022-10-07T18:02:52.844385Z"
    },
    "cell_style": "center"
   },
   "outputs": [
    {
     "data": {
      "text/plain": [
       "product_id                      0\n",
       "product_category_name         610\n",
       "product_name_lenght           610\n",
       "product_description_lenght    610\n",
       "product_photos_qty            610\n",
       "product_weight_g                2\n",
       "product_length_cm               2\n",
       "product_height_cm               2\n",
       "product_width_cm                2\n",
       "dtype: int64"
      ]
     },
     "execution_count": 37,
     "metadata": {},
     "output_type": "execute_result"
    }
   ],
   "source": [
    "products.isnull().sum()"
   ]
  },
  {
   "cell_type": "code",
   "execution_count": 38,
   "id": "2bb4d5a5",
   "metadata": {
    "ExecuteTime": {
     "end_time": "2022-10-07T18:02:53.108222Z",
     "start_time": "2022-10-07T18:02:52.972307Z"
    }
   },
   "outputs": [
    {
     "data": {
      "text/plain": [
       "Index(['product_id', 'product_category_name', 'product_name_lenght',\n",
       "       'product_description_lenght', 'product_photos_qty', 'product_weight_g',\n",
       "       'product_length_cm', 'product_height_cm', 'product_width_cm'],\n",
       "      dtype='object')"
      ]
     },
     "execution_count": 38,
     "metadata": {},
     "output_type": "execute_result"
    }
   ],
   "source": [
    "products.columns"
   ]
  },
  {
   "cell_type": "code",
   "execution_count": 39,
   "id": "399f15b3",
   "metadata": {
    "ExecuteTime": {
     "end_time": "2022-10-07T18:02:53.296108Z",
     "start_time": "2022-10-07T18:02:53.116217Z"
    },
    "scrolled": true
   },
   "outputs": [
    {
     "data": {
      "text/plain": [
       "cama_mesa_banho           3029\n",
       "esporte_lazer             2867\n",
       "moveis_decoracao          2657\n",
       "beleza_saude              2444\n",
       "utilidades_domesticas     2335\n",
       "automotivo                1900\n",
       "informatica_acessorios    1639\n",
       "brinquedos                1411\n",
       "relogios_presentes        1329\n",
       "telefonia                 1134\n",
       "Name: product_category_name, dtype: int64"
      ]
     },
     "execution_count": 39,
     "metadata": {},
     "output_type": "execute_result"
    }
   ],
   "source": [
    "products['product_category_name'].value_counts().head(10)"
   ]
  },
  {
   "cell_type": "code",
   "execution_count": 40,
   "id": "0921101e",
   "metadata": {
    "ExecuteTime": {
     "end_time": "2022-10-07T18:02:53.468003Z",
     "start_time": "2022-10-07T18:02:53.300107Z"
    }
   },
   "outputs": [],
   "source": [
    "products['product_category_name'] = products['product_category_name'].fillna('not_reported')"
   ]
  },
  {
   "cell_type": "markdown",
   "id": "b4dce7b2",
   "metadata": {},
   "source": [
    "### Envio do arquivo limpo- produtos.csv"
   ]
  },
  {
   "cell_type": "code",
   "execution_count": 41,
   "id": "02012b98",
   "metadata": {
    "ExecuteTime": {
     "end_time": "2022-10-07T18:02:54.092998Z",
     "start_time": "2022-10-07T18:02:53.473999Z"
    }
   },
   "outputs": [],
   "source": [
    "products.to_csv('Data/produtos.csv')"
   ]
  },
  {
   "cell_type": "markdown",
   "id": "25cb1207",
   "metadata": {},
   "source": [
    "## Avaliações - reviews"
   ]
  },
  {
   "cell_type": "markdown",
   "id": "9fb117d1",
   "metadata": {},
   "source": [
    "Tabela 'avaliacoes' tem 99224 linhas e 7 colunas (review_id,order_id, review_score, \n",
    "review_comment_title, review_comment_message, review_creation_date, review_answer_timestamp)"
   ]
  },
  {
   "cell_type": "code",
   "execution_count": 42,
   "id": "211b6b4f",
   "metadata": {
    "ExecuteTime": {
     "end_time": "2022-10-07T18:02:54.123967Z",
     "start_time": "2022-10-07T18:02:54.097981Z"
    }
   },
   "outputs": [
    {
     "data": {
      "text/plain": [
       "(99224, 7)"
      ]
     },
     "execution_count": 42,
     "metadata": {},
     "output_type": "execute_result"
    }
   ],
   "source": [
    "reviews.shape"
   ]
  },
  {
   "cell_type": "code",
   "execution_count": 43,
   "id": "4ac58bbd",
   "metadata": {
    "ExecuteTime": {
     "end_time": "2022-10-07T18:02:54.472075Z",
     "start_time": "2022-10-07T18:02:54.132961Z"
    },
    "cell_style": "center"
   },
   "outputs": [
    {
     "name": "stdout",
     "output_type": "stream",
     "text": [
      "<class 'pandas.core.frame.DataFrame'>\n",
      "RangeIndex: 99224 entries, 0 to 99223\n",
      "Data columns (total 7 columns):\n",
      " #   Column                   Non-Null Count  Dtype \n",
      "---  ------                   --------------  ----- \n",
      " 0   review_id                99224 non-null  object\n",
      " 1   order_id                 99224 non-null  object\n",
      " 2   review_score             99224 non-null  int64 \n",
      " 3   review_comment_title     11568 non-null  object\n",
      " 4   review_comment_message   40977 non-null  object\n",
      " 5   review_creation_date     99224 non-null  object\n",
      " 6   review_answer_timestamp  99224 non-null  object\n",
      "dtypes: int64(1), object(6)\n",
      "memory usage: 5.3+ MB\n"
     ]
    }
   ],
   "source": [
    "reviews.info()"
   ]
  },
  {
   "cell_type": "code",
   "execution_count": 44,
   "id": "5f4fd8d9",
   "metadata": {
    "ExecuteTime": {
     "end_time": "2022-10-07T18:02:54.678949Z",
     "start_time": "2022-10-07T18:02:54.478071Z"
    },
    "cell_style": "center"
   },
   "outputs": [
    {
     "data": {
      "text/plain": [
       "review_id                      0\n",
       "order_id                       0\n",
       "review_score                   0\n",
       "review_comment_title       87656\n",
       "review_comment_message     58247\n",
       "review_creation_date           0\n",
       "review_answer_timestamp        0\n",
       "dtype: int64"
      ]
     },
     "execution_count": 44,
     "metadata": {},
     "output_type": "execute_result"
    }
   ],
   "source": [
    "reviews.isnull().sum()"
   ]
  },
  {
   "cell_type": "code",
   "execution_count": 45,
   "id": "3240f1dd",
   "metadata": {
    "ExecuteTime": {
     "end_time": "2022-10-07T18:02:54.929570Z",
     "start_time": "2022-10-07T18:02:54.685943Z"
    }
   },
   "outputs": [],
   "source": [
    "reviews.drop_duplicates(subset=['order_id'], keep='last', ignore_index=True, inplace=True)\n",
    "reviews.drop_duplicates(subset=['review_id'], keep=False, ignore_index=True, inplace=True)"
   ]
  },
  {
   "cell_type": "code",
   "execution_count": 46,
   "id": "c8febb6d",
   "metadata": {
    "ExecuteTime": {
     "end_time": "2022-10-07T18:02:55.134445Z",
     "start_time": "2022-10-07T18:02:54.935567Z"
    }
   },
   "outputs": [],
   "source": [
    "reviews['review_answer_timestamp'] = pd.to_datetime(reviews['review_answer_timestamp'], format='%Y/%m/%d')\n",
    "reviews['review_creation_date'] = pd.to_datetime(reviews['review_creation_date'], format='%Y/%m/%d')"
   ]
  },
  {
   "cell_type": "code",
   "execution_count": 47,
   "id": "4351ef1c",
   "metadata": {
    "ExecuteTime": {
     "end_time": "2022-10-07T18:02:55.214395Z",
     "start_time": "2022-10-07T18:02:55.139441Z"
    }
   },
   "outputs": [],
   "source": [
    "reviews['tempo_resposta'] = (reviews['review_creation_date'] - reviews['review_answer_timestamp']).astype('timedelta64[D]')"
   ]
  },
  {
   "cell_type": "code",
   "execution_count": 48,
   "id": "3a75df8f",
   "metadata": {
    "ExecuteTime": {
     "end_time": "2022-10-07T18:02:55.403325Z",
     "start_time": "2022-10-07T18:02:55.222389Z"
    }
   },
   "outputs": [
    {
     "data": {
      "text/plain": [
       "Index(['review_id', 'order_id', 'review_score', 'review_comment_title',\n",
       "       'review_comment_message', 'review_creation_date',\n",
       "       'review_answer_timestamp', 'tempo_resposta'],\n",
       "      dtype='object')"
      ]
     },
     "execution_count": 48,
     "metadata": {},
     "output_type": "execute_result"
    }
   ],
   "source": [
    "reviews.columns"
   ]
  },
  {
   "cell_type": "markdown",
   "id": "db693170",
   "metadata": {
    "ExecuteTime": {
     "end_time": "2022-10-06T02:49:36.177653Z",
     "start_time": "2022-10-06T02:49:36.156668Z"
    }
   },
   "source": [
    "### Envio do arquivo limpo- avalicoes.csv"
   ]
  },
  {
   "cell_type": "code",
   "execution_count": 49,
   "id": "38747300",
   "metadata": {
    "ExecuteTime": {
     "end_time": "2022-10-07T18:02:57.357804Z",
     "start_time": "2022-10-07T18:02:55.409318Z"
    }
   },
   "outputs": [],
   "source": [
    "reviews.to_csv('Data/avaliacoes.csv')"
   ]
  },
  {
   "cell_type": "markdown",
   "id": "05bc5122",
   "metadata": {},
   "source": [
    "## Vendedores - Seller"
   ]
  },
  {
   "cell_type": "markdown",
   "id": "49309921",
   "metadata": {},
   "source": [
    "Tabela de vendedores 3095 linhas  5 colunas ('seller_id', 'seller_zip_code_prefix', 'seller_city', 'seller_state')"
   ]
  },
  {
   "cell_type": "code",
   "execution_count": 50,
   "id": "712810ba",
   "metadata": {
    "ExecuteTime": {
     "end_time": "2022-10-07T18:02:57.388792Z",
     "start_time": "2022-10-07T18:02:57.362808Z"
    }
   },
   "outputs": [
    {
     "data": {
      "text/plain": [
       "(3095, 4)"
      ]
     },
     "execution_count": 50,
     "metadata": {},
     "output_type": "execute_result"
    }
   ],
   "source": [
    "seller.shape"
   ]
  },
  {
   "cell_type": "code",
   "execution_count": 51,
   "id": "fa9aefd8",
   "metadata": {
    "ExecuteTime": {
     "end_time": "2022-10-07T18:02:57.547696Z",
     "start_time": "2022-10-07T18:02:57.395789Z"
    },
    "cell_style": "center",
    "run_control": {
     "marked": false
    }
   },
   "outputs": [
    {
     "name": "stdout",
     "output_type": "stream",
     "text": [
      "<class 'pandas.core.frame.DataFrame'>\n",
      "RangeIndex: 3095 entries, 0 to 3094\n",
      "Data columns (total 4 columns):\n",
      " #   Column                  Non-Null Count  Dtype \n",
      "---  ------                  --------------  ----- \n",
      " 0   seller_id               3095 non-null   object\n",
      " 1   seller_zip_code_prefix  3095 non-null   int64 \n",
      " 2   seller_city             3095 non-null   object\n",
      " 3   seller_state            3095 non-null   object\n",
      "dtypes: int64(1), object(3)\n",
      "memory usage: 96.8+ KB\n"
     ]
    }
   ],
   "source": [
    "seller.info()"
   ]
  },
  {
   "cell_type": "code",
   "execution_count": 52,
   "id": "76f3f8f8",
   "metadata": {
    "ExecuteTime": {
     "end_time": "2022-10-07T18:02:57.673619Z",
     "start_time": "2022-10-07T18:02:57.556690Z"
    },
    "cell_style": "center"
   },
   "outputs": [
    {
     "data": {
      "text/plain": [
       "seller_id                 0\n",
       "seller_zip_code_prefix    0\n",
       "seller_city               0\n",
       "seller_state              0\n",
       "dtype: int64"
      ]
     },
     "execution_count": 52,
     "metadata": {},
     "output_type": "execute_result"
    }
   ],
   "source": [
    "seller.isnull().sum()"
   ]
  },
  {
   "cell_type": "code",
   "execution_count": 53,
   "id": "e2ec58ba",
   "metadata": {
    "ExecuteTime": {
     "end_time": "2022-10-07T18:02:57.799490Z",
     "start_time": "2022-10-07T18:02:57.678614Z"
    }
   },
   "outputs": [
    {
     "data": {
      "text/plain": [
       "Index(['seller_id', 'seller_zip_code_prefix', 'seller_city', 'seller_state'], dtype='object')"
      ]
     },
     "execution_count": 53,
     "metadata": {},
     "output_type": "execute_result"
    }
   ],
   "source": [
    "seller.columns "
   ]
  },
  {
   "cell_type": "markdown",
   "id": "b4a77a16",
   "metadata": {},
   "source": [
    "### Envio do arquivo limpo- vendedores.csv"
   ]
  },
  {
   "cell_type": "code",
   "execution_count": 54,
   "id": "e31cc671",
   "metadata": {
    "ExecuteTime": {
     "end_time": "2022-10-07T18:02:57.940415Z",
     "start_time": "2022-10-07T18:02:57.806483Z"
    }
   },
   "outputs": [],
   "source": [
    "seller.to_csv('Data/vendedores.csv')"
   ]
  },
  {
   "cell_type": "markdown",
   "id": "d6fe51e7",
   "metadata": {},
   "source": [
    "## Pagamentos - payments"
   ]
  },
  {
   "cell_type": "markdown",
   "id": "95874b54",
   "metadata": {},
   "source": [
    "Tabela de pagamentos 103886 linhas  5 colunas ('order_id', 'payment_sequential', 'payment_type','payment_installments', 'payment_value')"
   ]
  },
  {
   "cell_type": "code",
   "execution_count": 55,
   "id": "4ebf82ba",
   "metadata": {
    "ExecuteTime": {
     "end_time": "2022-10-07T18:02:58.080768Z",
     "start_time": "2022-10-07T18:02:57.947409Z"
    }
   },
   "outputs": [
    {
     "data": {
      "text/plain": [
       "(103886, 5)"
      ]
     },
     "execution_count": 55,
     "metadata": {},
     "output_type": "execute_result"
    }
   ],
   "source": [
    "payments.shape"
   ]
  },
  {
   "cell_type": "code",
   "execution_count": 56,
   "id": "f7bdf169",
   "metadata": {
    "ExecuteTime": {
     "end_time": "2022-10-07T18:02:58.344204Z",
     "start_time": "2022-10-07T18:02:58.085764Z"
    },
    "cell_style": "center"
   },
   "outputs": [
    {
     "name": "stdout",
     "output_type": "stream",
     "text": [
      "<class 'pandas.core.frame.DataFrame'>\n",
      "RangeIndex: 103886 entries, 0 to 103885\n",
      "Data columns (total 5 columns):\n",
      " #   Column                Non-Null Count   Dtype  \n",
      "---  ------                --------------   -----  \n",
      " 0   order_id              103886 non-null  object \n",
      " 1   payment_sequential    103886 non-null  int64  \n",
      " 2   payment_type          103886 non-null  object \n",
      " 3   payment_installments  103886 non-null  int64  \n",
      " 4   payment_value         103886 non-null  float64\n",
      "dtypes: float64(1), int64(2), object(2)\n",
      "memory usage: 4.0+ MB\n"
     ]
    }
   ],
   "source": [
    "payments.info()"
   ]
  },
  {
   "cell_type": "code",
   "execution_count": 57,
   "id": "cbdea4b4",
   "metadata": {
    "ExecuteTime": {
     "end_time": "2022-10-07T18:02:58.529777Z",
     "start_time": "2022-10-07T18:02:58.351199Z"
    },
    "cell_style": "center"
   },
   "outputs": [
    {
     "data": {
      "text/plain": [
       "order_id                0\n",
       "payment_sequential      0\n",
       "payment_type            0\n",
       "payment_installments    0\n",
       "payment_value           0\n",
       "dtype: int64"
      ]
     },
     "execution_count": 57,
     "metadata": {},
     "output_type": "execute_result"
    }
   ],
   "source": [
    "payments.isnull().sum()"
   ]
  },
  {
   "cell_type": "code",
   "execution_count": 58,
   "id": "a0003500",
   "metadata": {
    "ExecuteTime": {
     "end_time": "2022-10-07T18:02:58.733560Z",
     "start_time": "2022-10-07T18:02:58.535774Z"
    }
   },
   "outputs": [
    {
     "data": {
      "text/plain": [
       "Index(['order_id', 'payment_sequential', 'payment_type',\n",
       "       'payment_installments', 'payment_value'],\n",
       "      dtype='object')"
      ]
     },
     "execution_count": 58,
     "metadata": {},
     "output_type": "execute_result"
    }
   ],
   "source": [
    "payments.columns"
   ]
  },
  {
   "cell_type": "code",
   "execution_count": 59,
   "id": "d96f27f4",
   "metadata": {
    "ExecuteTime": {
     "end_time": "2022-10-07T18:02:58.890800Z",
     "start_time": "2022-10-07T18:02:58.739553Z"
    }
   },
   "outputs": [
    {
     "data": {
      "text/plain": [
       "credit_card    76795\n",
       "boleto         19784\n",
       "voucher         5775\n",
       "debit_card      1529\n",
       "not_defined        3\n",
       "Name: payment_type, dtype: int64"
      ]
     },
     "execution_count": 59,
     "metadata": {},
     "output_type": "execute_result"
    }
   ],
   "source": [
    "payments['payment_type'].value_counts()"
   ]
  },
  {
   "cell_type": "code",
   "execution_count": 60,
   "id": "ab577929",
   "metadata": {
    "ExecuteTime": {
     "end_time": "2022-10-07T18:02:59.047704Z",
     "start_time": "2022-10-07T18:02:58.896796Z"
    }
   },
   "outputs": [
    {
     "data": {
      "text/plain": [
       "payment_type\n",
       "boleto         19784\n",
       "credit_card    76795\n",
       "debit_card      1529\n",
       "not_defined        3\n",
       "voucher         5775\n",
       "dtype: int64"
      ]
     },
     "execution_count": 60,
     "metadata": {},
     "output_type": "execute_result"
    }
   ],
   "source": [
    "payments.groupby('payment_type').size()"
   ]
  },
  {
   "cell_type": "code",
   "execution_count": 61,
   "id": "a5c4080c",
   "metadata": {
    "ExecuteTime": {
     "end_time": "2022-10-07T18:02:59.189841Z",
     "start_time": "2022-10-07T18:02:59.054698Z"
    }
   },
   "outputs": [
    {
     "data": {
      "text/html": [
       "<div>\n",
       "<style scoped>\n",
       "    .dataframe tbody tr th:only-of-type {\n",
       "        vertical-align: middle;\n",
       "    }\n",
       "\n",
       "    .dataframe tbody tr th {\n",
       "        vertical-align: top;\n",
       "    }\n",
       "\n",
       "    .dataframe thead th {\n",
       "        text-align: right;\n",
       "    }\n",
       "</style>\n",
       "<table border=\"1\" class=\"dataframe\">\n",
       "  <thead>\n",
       "    <tr style=\"text-align: right;\">\n",
       "      <th></th>\n",
       "      <th>order_id</th>\n",
       "      <th>payment_sequential</th>\n",
       "      <th>payment_type</th>\n",
       "      <th>payment_installments</th>\n",
       "      <th>payment_value</th>\n",
       "    </tr>\n",
       "  </thead>\n",
       "  <tbody>\n",
       "    <tr>\n",
       "      <th>51280</th>\n",
       "      <td>4637ca194b6387e2d538dc89b124b0ee</td>\n",
       "      <td>1</td>\n",
       "      <td>not_defined</td>\n",
       "      <td>1</td>\n",
       "      <td>0.0</td>\n",
       "    </tr>\n",
       "    <tr>\n",
       "      <th>57411</th>\n",
       "      <td>00b1cb0320190ca0daa2c88b35206009</td>\n",
       "      <td>1</td>\n",
       "      <td>not_defined</td>\n",
       "      <td>1</td>\n",
       "      <td>0.0</td>\n",
       "    </tr>\n",
       "    <tr>\n",
       "      <th>94427</th>\n",
       "      <td>c8c528189310eaa44a745b8d9d26908b</td>\n",
       "      <td>1</td>\n",
       "      <td>not_defined</td>\n",
       "      <td>1</td>\n",
       "      <td>0.0</td>\n",
       "    </tr>\n",
       "  </tbody>\n",
       "</table>\n",
       "</div>"
      ],
      "text/plain": [
       "                               order_id  payment_sequential payment_type  \\\n",
       "51280  4637ca194b6387e2d538dc89b124b0ee                   1  not_defined   \n",
       "57411  00b1cb0320190ca0daa2c88b35206009                   1  not_defined   \n",
       "94427  c8c528189310eaa44a745b8d9d26908b                   1  not_defined   \n",
       "\n",
       "       payment_installments  payment_value  \n",
       "51280                     1            0.0  \n",
       "57411                     1            0.0  \n",
       "94427                     1            0.0  "
      ]
     },
     "execution_count": 61,
     "metadata": {},
     "output_type": "execute_result"
    }
   ],
   "source": [
    "payments.loc[payments['payment_type']=='not_defined']"
   ]
  },
  {
   "cell_type": "code",
   "execution_count": 62,
   "id": "adb6c8db",
   "metadata": {
    "ExecuteTime": {
     "end_time": "2022-10-07T18:02:59.332753Z",
     "start_time": "2022-10-07T18:02:59.196837Z"
    },
    "run_control": {
     "marked": false
    }
   },
   "outputs": [],
   "source": [
    "payments.drop(index=payments.loc[payments['payment_type']=='not_defined'].index, inplace=True)"
   ]
  },
  {
   "cell_type": "code",
   "execution_count": 63,
   "id": "aeac3a03",
   "metadata": {
    "ExecuteTime": {
     "end_time": "2022-10-07T18:02:59.662432Z",
     "start_time": "2022-10-07T18:02:59.339747Z"
    }
   },
   "outputs": [
    {
     "data": {
      "text/plain": [
       "credit_card    76795\n",
       "boleto         19784\n",
       "voucher         5775\n",
       "debit_card      1529\n",
       "Name: payment_type, dtype: int64"
      ]
     },
     "execution_count": 63,
     "metadata": {},
     "output_type": "execute_result"
    }
   ],
   "source": [
    "payments['payment_type'].value_counts()"
   ]
  },
  {
   "cell_type": "markdown",
   "id": "b65993ac",
   "metadata": {},
   "source": [
    "### Envio do arquivo limpo- pagamentos.csv"
   ]
  },
  {
   "cell_type": "code",
   "execution_count": 64,
   "id": "5ca5c368",
   "metadata": {
    "ExecuteTime": {
     "end_time": "2022-10-07T18:03:00.538261Z",
     "start_time": "2022-10-07T18:02:59.668429Z"
    }
   },
   "outputs": [],
   "source": [
    "payments.to_csv('Data/pagamentos.csv')"
   ]
  },
  {
   "cell_type": "markdown",
   "id": "896be821",
   "metadata": {},
   "source": [
    "## Geocalização"
   ]
  },
  {
   "cell_type": "code",
   "execution_count": 65,
   "id": "7d7e0760",
   "metadata": {
    "ExecuteTime": {
     "end_time": "2022-10-07T18:03:00.569237Z",
     "start_time": "2022-10-07T18:03:00.546254Z"
    }
   },
   "outputs": [
    {
     "data": {
      "text/plain": [
       "(1000163, 5)"
      ]
     },
     "execution_count": 65,
     "metadata": {},
     "output_type": "execute_result"
    }
   ],
   "source": [
    "geolocation.shape"
   ]
  },
  {
   "cell_type": "code",
   "execution_count": 66,
   "id": "7e65466e",
   "metadata": {
    "ExecuteTime": {
     "end_time": "2022-10-07T18:03:01.266821Z",
     "start_time": "2022-10-07T18:03:00.579237Z"
    },
    "cell_style": "split"
   },
   "outputs": [
    {
     "name": "stdout",
     "output_type": "stream",
     "text": [
      "<class 'pandas.core.frame.DataFrame'>\n",
      "RangeIndex: 1000163 entries, 0 to 1000162\n",
      "Data columns (total 5 columns):\n",
      " #   Column                       Non-Null Count    Dtype  \n",
      "---  ------                       --------------    -----  \n",
      " 0   geolocation_zip_code_prefix  1000163 non-null  int64  \n",
      " 1   geolocation_lat              1000163 non-null  float64\n",
      " 2   geolocation_lng              1000163 non-null  float64\n",
      " 3   geolocation_city             1000163 non-null  object \n",
      " 4   geolocation_state            1000163 non-null  object \n",
      "dtypes: float64(2), int64(1), object(2)\n",
      "memory usage: 38.2+ MB\n"
     ]
    }
   ],
   "source": [
    "geolocation.info()"
   ]
  },
  {
   "cell_type": "code",
   "execution_count": 67,
   "id": "92557393",
   "metadata": {
    "ExecuteTime": {
     "end_time": "2022-10-07T18:03:01.830475Z",
     "start_time": "2022-10-07T18:03:01.272818Z"
    },
    "cell_style": "split"
   },
   "outputs": [
    {
     "data": {
      "text/plain": [
       "geolocation_zip_code_prefix    0\n",
       "geolocation_lat                0\n",
       "geolocation_lng                0\n",
       "geolocation_city               0\n",
       "geolocation_state              0\n",
       "dtype: int64"
      ]
     },
     "execution_count": 67,
     "metadata": {},
     "output_type": "execute_result"
    }
   ],
   "source": [
    "geolocation.isnull().sum()"
   ]
  },
  {
   "cell_type": "code",
   "execution_count": 68,
   "id": "c5dc4edf",
   "metadata": {
    "ExecuteTime": {
     "end_time": "2022-10-07T18:03:01.986860Z",
     "start_time": "2022-10-07T18:03:01.835471Z"
    }
   },
   "outputs": [
    {
     "data": {
      "text/plain": [
       "Index(['geolocation_zip_code_prefix', 'geolocation_lat', 'geolocation_lng',\n",
       "       'geolocation_city', 'geolocation_state'],\n",
       "      dtype='object')"
      ]
     },
     "execution_count": 68,
     "metadata": {},
     "output_type": "execute_result"
    }
   ],
   "source": [
    "geolocation.columns"
   ]
  },
  {
   "cell_type": "code",
   "execution_count": 69,
   "id": "cdeec26f",
   "metadata": {
    "ExecuteTime": {
     "end_time": "2022-10-07T18:03:02.331934Z",
     "start_time": "2022-10-07T18:03:01.993853Z"
    }
   },
   "outputs": [
    {
     "data": {
      "text/html": [
       "<div>\n",
       "<style scoped>\n",
       "    .dataframe tbody tr th:only-of-type {\n",
       "        vertical-align: middle;\n",
       "    }\n",
       "\n",
       "    .dataframe tbody tr th {\n",
       "        vertical-align: top;\n",
       "    }\n",
       "\n",
       "    .dataframe thead th {\n",
       "        text-align: right;\n",
       "    }\n",
       "</style>\n",
       "<table border=\"1\" class=\"dataframe\">\n",
       "  <thead>\n",
       "    <tr style=\"text-align: right;\">\n",
       "      <th></th>\n",
       "      <th>customer_zip_code_prefix</th>\n",
       "      <th>customer_lat</th>\n",
       "      <th>customer_lng</th>\n",
       "      <th>geolocation_city</th>\n",
       "      <th>geolocation_state</th>\n",
       "    </tr>\n",
       "  </thead>\n",
       "  <tbody>\n",
       "    <tr>\n",
       "      <th>0</th>\n",
       "      <td>1037</td>\n",
       "      <td>-23.545621</td>\n",
       "      <td>-46.639292</td>\n",
       "      <td>sao paulo</td>\n",
       "      <td>SP</td>\n",
       "    </tr>\n",
       "    <tr>\n",
       "      <th>1</th>\n",
       "      <td>1046</td>\n",
       "      <td>-23.546081</td>\n",
       "      <td>-46.644820</td>\n",
       "      <td>sao paulo</td>\n",
       "      <td>SP</td>\n",
       "    </tr>\n",
       "    <tr>\n",
       "      <th>2</th>\n",
       "      <td>1046</td>\n",
       "      <td>-23.546129</td>\n",
       "      <td>-46.642951</td>\n",
       "      <td>sao paulo</td>\n",
       "      <td>SP</td>\n",
       "    </tr>\n",
       "  </tbody>\n",
       "</table>\n",
       "</div>"
      ],
      "text/plain": [
       "   customer_zip_code_prefix  customer_lat  customer_lng geolocation_city  \\\n",
       "0                      1037    -23.545621    -46.639292        sao paulo   \n",
       "1                      1046    -23.546081    -46.644820        sao paulo   \n",
       "2                      1046    -23.546129    -46.642951        sao paulo   \n",
       "\n",
       "  geolocation_state  \n",
       "0                SP  \n",
       "1                SP  \n",
       "2                SP  "
      ]
     },
     "execution_count": 69,
     "metadata": {},
     "output_type": "execute_result"
    }
   ],
   "source": [
    "geo_customer = geolocation.rename(columns={\"geolocation_zip_code_prefix\":\"customer_zip_code_prefix\",\n",
    "                                                  \"geolocation_lat\":\"customer_lat\",\n",
    "                                                  \"geolocation_lng\":\"customer_lng\"})\n",
    "geo_seller = geolocation.rename(columns={\"geolocation_zip_code_prefix\":\"seller_zip_code_prefix\",\n",
    "                                                  \"geolocation_lat\":\"seller_lat\",\n",
    "                                                  \"geolocation_lng\":\"seller_lng\"})\n",
    "geo_customer.head(3)"
   ]
  },
  {
   "cell_type": "markdown",
   "id": "762d7322",
   "metadata": {},
   "source": [
    "### Envio do arquivo limpo- geolocal.csv"
   ]
  },
  {
   "cell_type": "code",
   "execution_count": 70,
   "id": "2b438650",
   "metadata": {
    "ExecuteTime": {
     "end_time": "2022-10-07T18:03:12.781871Z",
     "start_time": "2022-10-07T18:03:02.338928Z"
    }
   },
   "outputs": [],
   "source": [
    "geolocation.to_csv('Data/geolocal.csv')"
   ]
  },
  {
   "cell_type": "markdown",
   "id": "8ad5e809",
   "metadata": {},
   "source": [
    "# DataFrame original para merge"
   ]
  },
  {
   "cell_type": "code",
   "execution_count": 71,
   "id": "4d4fc4dd",
   "metadata": {
    "ExecuteTime": {
     "end_time": "2022-10-07T18:03:17.570333Z",
     "start_time": "2022-10-07T18:03:12.788865Z"
    },
    "run_control": {
     "marked": false
    }
   },
   "outputs": [],
   "source": [
    "itens = pd.read_csv(\"Data/itens.csv\") \n",
    "ordens = pd.read_csv(\"Data/ordens.csv\")\n",
    "produtos = pd.read_csv(\"Data/produtos.csv\")\n",
    "geolocal = pd.read_csv(\"Data/geolocal.csv\")\n",
    "clientes = pd.read_csv(\"Data/clientes.csv\")\n",
    "avaliacoes = pd.read_csv('Data/avaliacoes.csv')\n",
    "vendedores = pd.read_csv(\"Data/vendedores.csv\")\n",
    "pagamentos = pd.read_csv('Data/pagamentos.csv')\n"
   ]
  },
  {
   "cell_type": "markdown",
   "id": "d4693a80",
   "metadata": {},
   "source": [
    "## Colunas finais "
   ]
  },
  {
   "cell_type": "code",
   "execution_count": 72,
   "id": "28559e5e",
   "metadata": {
    "ExecuteTime": {
     "end_time": "2022-10-07T18:03:18.006098Z",
     "start_time": "2022-10-07T18:03:17.575336Z"
    }
   },
   "outputs": [],
   "source": [
    "df = vendedores.merge(itens, on='seller_id', how='left')"
   ]
  },
  {
   "cell_type": "code",
   "execution_count": 74,
   "id": "4ac9c030",
   "metadata": {
    "ExecuteTime": {
     "end_time": "2022-10-07T18:04:08.400032Z",
     "start_time": "2022-10-07T18:04:08.005704Z"
    }
   },
   "outputs": [],
   "source": [
    "df = df.merge(ordens, left_on='order_id', right_on='order_id', how='right')"
   ]
  },
  {
   "cell_type": "code",
   "execution_count": 75,
   "id": "6226dfb2",
   "metadata": {
    "ExecuteTime": {
     "end_time": "2022-10-07T18:04:09.850681Z",
     "start_time": "2022-10-07T18:04:09.565864Z"
    }
   },
   "outputs": [
    {
     "name": "stderr",
     "output_type": "stream",
     "text": [
      "C:\\Users\\USER\\AppData\\Local\\Temp\\ipykernel_2444\\3541203140.py:1: FutureWarning: Passing 'suffixes' which cause duplicate columns {'Unnamed: 0_x'} in the result is deprecated and will raise a MergeError in a future version.\n",
      "  df = df.merge(produtos, left_on='product_id', right_on='product_id',how='left' )\n"
     ]
    }
   ],
   "source": [
    "df = df.merge(produtos, left_on='product_id', right_on='product_id',how='left' )"
   ]
  },
  {
   "cell_type": "code",
   "execution_count": 76,
   "id": "7ed9d825",
   "metadata": {
    "ExecuteTime": {
     "end_time": "2022-10-07T18:04:15.445435Z",
     "start_time": "2022-10-07T18:04:14.396081Z"
    }
   },
   "outputs": [],
   "source": [
    "df = df.merge(avaliacoes, on = 'order_id', how = 'inner')"
   ]
  },
  {
   "cell_type": "markdown",
   "id": "6a1b0e7d",
   "metadata": {},
   "source": [
    "   # Leitura DataFrame final"
   ]
  },
  {
   "cell_type": "code",
   "execution_count": 77,
   "id": "cf9fbdfa",
   "metadata": {
    "ExecuteTime": {
     "end_time": "2022-10-07T18:04:35.011406Z",
     "start_time": "2022-10-07T18:04:32.375205Z"
    }
   },
   "outputs": [],
   "source": [
    "df1 = pd.read_csv(\"Data/df1.csv\") "
   ]
  },
  {
   "cell_type": "code",
   "execution_count": 78,
   "id": "5771edfc",
   "metadata": {
    "ExecuteTime": {
     "end_time": "2022-10-07T18:04:41.100066Z",
     "start_time": "2022-10-07T18:04:39.167211Z"
    }
   },
   "outputs": [
    {
     "data": {
      "text/html": [
       "<div>\n",
       "<style scoped>\n",
       "    .dataframe tbody tr th:only-of-type {\n",
       "        vertical-align: middle;\n",
       "    }\n",
       "\n",
       "    .dataframe tbody tr th {\n",
       "        vertical-align: top;\n",
       "    }\n",
       "\n",
       "    .dataframe thead th {\n",
       "        text-align: right;\n",
       "    }\n",
       "</style>\n",
       "<table border=\"1\" class=\"dataframe\">\n",
       "  <thead>\n",
       "    <tr style=\"text-align: right;\">\n",
       "      <th></th>\n",
       "      <th>Total</th>\n",
       "      <th>Percent</th>\n",
       "    </tr>\n",
       "  </thead>\n",
       "  <tbody>\n",
       "    <tr>\n",
       "      <th>product_weight_g</th>\n",
       "      <td>2358</td>\n",
       "      <td>0.020843</td>\n",
       "    </tr>\n",
       "    <tr>\n",
       "      <th>product_length_cm</th>\n",
       "      <td>2358</td>\n",
       "      <td>0.020843</td>\n",
       "    </tr>\n",
       "    <tr>\n",
       "      <th>product_photos_qty</th>\n",
       "      <td>2358</td>\n",
       "      <td>0.020843</td>\n",
       "    </tr>\n",
       "    <tr>\n",
       "      <th>product_description_lenght</th>\n",
       "      <td>2358</td>\n",
       "      <td>0.020843</td>\n",
       "    </tr>\n",
       "    <tr>\n",
       "      <th>product_category_name</th>\n",
       "      <td>2358</td>\n",
       "      <td>0.020843</td>\n",
       "    </tr>\n",
       "  </tbody>\n",
       "</table>\n",
       "</div>"
      ],
      "text/plain": [
       "                            Total   Percent\n",
       "product_weight_g             2358  0.020843\n",
       "product_length_cm            2358  0.020843\n",
       "product_photos_qty           2358  0.020843\n",
       "product_description_lenght   2358  0.020843\n",
       "product_category_name        2358  0.020843"
      ]
     },
     "execution_count": 78,
     "metadata": {},
     "output_type": "execute_result"
    }
   ],
   "source": [
    "total = df1.isnull().sum().sort_values(ascending=False)\n",
    "percent = (df1.isnull().sum()/df1.isnull().count()).sort_values(ascending=False)\n",
    "missing = pd.concat([total, percent], axis=1, keys=['Total', 'Percent'])\n",
    "missing.head()"
   ]
  },
  {
   "cell_type": "markdown",
   "id": "410e26f6",
   "metadata": {},
   "source": [
    "## Fazendo Drop Duplicates"
   ]
  },
  {
   "cell_type": "code",
   "execution_count": 79,
   "id": "21acd4d3",
   "metadata": {
    "ExecuteTime": {
     "end_time": "2022-10-07T18:04:46.922961Z",
     "start_time": "2022-10-07T18:04:45.838235Z"
    }
   },
   "outputs": [],
   "source": [
    "geolocal.drop_duplicates(inplace=True)"
   ]
  },
  {
   "cell_type": "markdown",
   "id": "e0f85fd4",
   "metadata": {},
   "source": [
    "## Fazendo colunas de cálculo entrega"
   ]
  },
  {
   "cell_type": "code",
   "execution_count": 80,
   "id": "bcf7a316",
   "metadata": {
    "ExecuteTime": {
     "end_time": "2022-10-07T18:04:57.480755Z",
     "start_time": "2022-10-07T18:04:57.341925Z"
    }
   },
   "outputs": [],
   "source": [
    "vendas_total = df1.groupby('seller_id', as_index=False)['order_item_id'].count()"
   ]
  },
  {
   "cell_type": "code",
   "execution_count": 81,
   "id": "e5b8c2e9",
   "metadata": {
    "ExecuteTime": {
     "end_time": "2022-10-07T18:05:01.875998Z",
     "start_time": "2022-10-07T18:05:01.730919Z"
    },
    "run_control": {
     "marked": false
    }
   },
   "outputs": [],
   "source": [
    "vendas_total=vendas_total.merge(df1.groupby('seller_id', as_index=False)['prazo_entrega'].median(),left_on='seller_id',right_on='seller_id')"
   ]
  },
  {
   "cell_type": "code",
   "execution_count": 82,
   "id": "3eacfaab",
   "metadata": {
    "ExecuteTime": {
     "end_time": "2022-10-07T18:05:05.971181Z",
     "start_time": "2022-10-07T18:05:05.905223Z"
    }
   },
   "outputs": [],
   "source": [
    "vendas_total = vendas_total.merge(df1.groupby('seller_id', as_index=False)['tempo_resposta'].median(),left_on='seller_id',right_on='seller_id')"
   ]
  },
  {
   "cell_type": "code",
   "execution_count": 83,
   "id": "bdad83d3",
   "metadata": {
    "ExecuteTime": {
     "end_time": "2022-10-07T18:05:11.154423Z",
     "start_time": "2022-10-07T18:05:10.156834Z"
    }
   },
   "outputs": [],
   "source": [
    "df1=vendas_total.merge(df1,left_on='seller_id', right_on='seller_id')"
   ]
  },
  {
   "cell_type": "markdown",
   "id": "45336a55",
   "metadata": {},
   "source": [
    "# Gráficos"
   ]
  },
  {
   "cell_type": "code",
   "execution_count": 84,
   "id": "87cf238e",
   "metadata": {
    "ExecuteTime": {
     "end_time": "2022-10-07T18:05:18.142140Z",
     "start_time": "2022-10-07T18:05:15.855769Z"
    }
   },
   "outputs": [],
   "source": [
    "import seaborn as sns\n",
    "import matplotlib\n",
    "import matplotlib.pyplot as plt\n",
    "import plotly.express as px"
   ]
  },
  {
   "cell_type": "code",
   "execution_count": 85,
   "id": "697c3f72",
   "metadata": {
    "ExecuteTime": {
     "end_time": "2022-10-07T18:05:30.048818Z",
     "start_time": "2022-10-07T18:05:23.256849Z"
    }
   },
   "outputs": [
    {
     "data": {
      "image/png": "[encoded data removed]",
      "text/plain": [
       "<Figure size 2000x2000 with 2 Axes>"
      ]
     },
     "metadata": {},
     "output_type": "display_data"
    }
   ],
   "source": [
    "import seaborn as sns\n",
    "import matplotlib.pyplot as plt\n",
    "matriz_corr = df1.corr()\n",
    "top_corr_features = matriz_corr.index\n",
    "plt.figure(figsize=(20,20))\n",
    "\n",
    "g=sns.heatmap(df1[top_corr_features].corr(),annot=True,cmap=\"RdYlGn\")"
   ]
  },
  {
   "cell_type": "code",
   "execution_count": null,
   "id": "e7c4f445",
   "metadata": {},
   "outputs": [],
   "source": []
  },
  {
   "cell_type": "code",
   "execution_count": null,
   "id": "e2159772",
   "metadata": {},
   "outputs": [],
   "source": []
  },
  {
   "cell_type": "code",
   "execution_count": null,
   "id": "93141dcc",
   "metadata": {},
   "outputs": [],
   "source": []
  },
  {
   "cell_type": "code",
   "execution_count": null,
   "id": "c93c8b81",
   "metadata": {},
   "outputs": [],
   "source": []
  },
  {
   "cell_type": "code",
   "execution_count": null,
   "id": "45816091",
   "metadata": {},
   "outputs": [],
   "source": []
  },
  {
   "cell_type": "code",
   "execution_count": null,
   "id": "8d620cf2",
   "metadata": {},
   "outputs": [],
   "source": []
  },
  {
   "cell_type": "code",
   "execution_count": null,
   "id": "94af17a6",
   "metadata": {},
   "outputs": [],
   "source": []
  }
 ],
 "metadata": {
  "kernelspec": {
   "display_name": "pycaret",
   "language": "python",
   "name": "pycaret"
  },
  "language_info": {
   "codemirror_mode": {
    "name": "ipython",
    "version": 3
   },
   "file_extension": ".py",
   "mimetype": "text/x-python",
   "name": "python",
   "nbconvert_exporter": "python",
   "pygments_lexer": "ipython3",
   "version": "3.8.13"
  },
  "nbTranslate": {
   "displayLangs": [
    "*"
   ],
   "hotkey": "alt-t",
   "langInMainMenu": true,
   "sourceLang": "en",
   "targetLang": "fr",
   "useGoogleTranslate": true
  },
  "toc": {
   "base_numbering": 1,
   "nav_menu": {},
   "number_sections": true,
   "sideBar": true,
   "skip_h1_title": false,
   "title_cell": "Table of Contents",
   "title_sidebar": "Contents",
   "toc_cell": false,
   "toc_position": {},
   "toc_section_display": true,
   "toc_window_display": false
  },
  "varInspector": {
   "cols": {
    "lenName": 16,
    "lenType": 16,
    "lenVar": 40
   },
   "kernels_config": {
    "python": {
     "delete_cmd_postfix": "",
     "delete_cmd_prefix": "del ",
     "library": "var_list.py",
     "varRefreshCmd": "print(var_dic_list())"
    },
    "r": {
     "delete_cmd_postfix": ") ",
     "delete_cmd_prefix": "rm(",
     "library": "var_list.r",
     "varRefreshCmd": "cat(var_dic_list()) "
    }
   },
   "types_to_exclude": [
    "module",
    "function",
    "builtin_function_or_method",
    "instance",
    "_Feature"
   ],
   "window_display": false
  }
 },
 "nbformat": 4,
 "nbformat_minor": 5
}
