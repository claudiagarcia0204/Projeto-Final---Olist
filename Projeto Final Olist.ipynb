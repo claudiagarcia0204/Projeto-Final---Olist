{
 "cells": [
  {
   "cell_type": "markdown",
   "id": "08f52cfa",
   "metadata": {},
   "source": [
    "# Projeto Final - Olist"
   ]
  },
  {
   "cell_type": "markdown",
   "id": "bc7e4ac0",
   "metadata": {},
   "source": [
    "## Descrição"
   ]
  },
  {
   "cell_type": "markdown",
   "id": "1a14effd",
   "metadata": {},
   "source": [
    "\"Conjunto de dados públicos de comércio eletrônico brasileiro por Olist\n",
    "O conjunto de dados tem informações de 100 mil pedidos de 2016 a 2018 feitos em vários marketplaces no Brasil.\n",
    "\n",
    "A Olist conecta pequenas empresas de todo o Brasil a canais sem complicações e com um único contrato. Esses comerciantes podem vender seus produtos através da Olist Store e enviá-los diretamente aos clientes usando os parceiros de logística da Olist.\n",
    "\n",
    "Depois que um cliente compra o produto da Olist Store, um vendedor é notificado para atender esse pedido. Assim que o cliente recebe o produto, ou vence a data prevista de entrega, o cliente recebe uma pesquisa de satisfação por e-mail onde pode dar uma nota da experiência de compra e anotar alguns comentários.\"\n"
   ]
  },
  {
   "cell_type": "markdown",
   "id": "00727d69",
   "metadata": {},
   "source": [
    "## Importando Bibliotecas"
   ]
  },
  {
   "cell_type": "code",
   "execution_count": 1,
   "id": "c9ad9312",
   "metadata": {
    "ExecuteTime": {
     "end_time": "2022-10-04T12:18:14.570029Z",
     "start_time": "2022-10-04T12:17:54.807142Z"
    }
   },
   "outputs": [],
   "source": [
    "import pandas as pd\n",
    "import numpy as np\n",
    "import os\n",
    "import re\n",
    "from sklearn.linear_model import LinearRegression\n",
    "import seaborn as sns\n",
    "from sklearn.preprocessing import LabelEncoder\n",
    "from sklearn.ensemble import RandomForestClassifier\n",
    "from sklearn.ensemble import GradientBoostingClassifier\n",
    "import glob\n",
    "import pandas as pd"
   ]
  },
  {
   "cell_type": "markdown",
   "id": "c3730203",
   "metadata": {},
   "source": [
    "# Descrição dos dados"
   ]
  },
  {
   "cell_type": "markdown",
   "id": "2fb99fc5",
   "metadata": {},
   "source": [
    "Each feature or columns of different csv files are described below:\n",
    "\n",
    "* The  `olist_customers_dataset.csv` contain following features:\n",
    "\n",
    "Feature | Description \n",
    "----------|---------------\n",
    "**customer_id** | Id of the consumer who made the purchase.\n",
    "**customer_unique_id**    | Unique Id of the consumer.\n",
    "**customer_zip_code_prefix** | Zip Code of the location of the consumer.\n",
    "**customer_city** | Name of the City from where order is made.\n",
    "**customer_state** |  State Code from where order is made(Ex- sao paulo-SP).\n",
    "\n",
    "* The `olist_sellers_dataset.csv` contains following features:\n",
    "\n",
    "Feature | Description \n",
    "----------|---------------\n",
    "**seller_id** |   Unique Id of the seller registered in olist.\n",
    "**seller_zip_code_prefix** | Zip Code of the location of the seller.\n",
    "**seller_city** | Name of the City of the seller.\n",
    "**seller_state** | State Code (Ex- sao paulo-SP)\n",
    "\n",
    "\n",
    "* The `olist_order_items_dataset.csv`  contain following features:\n",
    "\n",
    "Feature | Description \n",
    "----------|---------------\n",
    "**order_id** | A unique id of order made by the consumers.\n",
    "**order_item_id** | A Unique id given to each item ordered in the order.\n",
    "**product_id** |A unique id given to each product available on the site.\n",
    "**seller_id** | Unique Id of the seller registered in olist.\n",
    "**shipping_limit_date** | The date before which shipping of the ordered    product must be completed.\n",
    "**price** | Actual price of the products ordered .\n",
    "**freight_value** | Price rate at which a product is delivered from one point to another. \n",
    "\n",
    "* The `olist_order_payments_dataset.csv` contain following features:\n",
    "\n",
    "Feature | Description \n",
    "----------|---------------\n",
    "**order_id** | A unique id of order made by the consumers.\n",
    "**payment_sequential** | sequences of the payments made in case of EMI.\n",
    "**payment_type** |  mode of payment used.(Ex-Credit Card)\n",
    "**payment_installments** | number of installments in case of EMI purchase.\n",
    "**payment_value** | Total amount paid for the purshase order.\n",
    "\n",
    "\n",
    "\n",
    "* The `olist_orders_dataset.csv`  contain following features:\n",
    "\n",
    "Feature | Description \n",
    "----------|---------------\n",
    "**order_id** | A unique id of order made by the consumers.\n",
    "**customer_id** | Id of the consumer who made the purchase.\n",
    "**order_status** | status of the order made i.e delivered, shipped etc.\n",
    "**order_purchase_timestamp** | Timestamp of the purchase.\n",
    "**order_approved_at** | Timestamp of the order approval.\n",
    "**order_delivered_carrier_date** | delivery date at which carrier made the delivery.\n",
    "**order_delivered_customer_date** | date at which customer got the product.\n",
    "**order_estimated_delivery_date** | estimated delivery date of the products.\n",
    "\n",
    "\n",
    "* The `olist_order_reviews_dataset.csv`  contain following features:\n",
    "\n",
    "Feature | Description \n",
    "----------|---------------\n",
    "**review_id** |Id of the review given on the product ordered by the order id.\n",
    "**order_id** |  A unique id of order made by the consumers.\n",
    "**review_score** | review score given by the customer for each order on the scale of 1–5. \n",
    "**review_comment_title** | Title of the review\n",
    "**review_comment_message** | Review comments posted by the consumer for each order.\n",
    "**review_creation_date** |Timestamp of the review when it is created.\n",
    "**review_answer_timestamp** | Timestamp of the review answered.\n",
    "\n",
    "\n",
    "* The `olist_products_dataset.csv` contain following features:\n",
    "\n",
    "Feature | Description \n",
    "----------|---------------\n",
    "**product_id** | A unique identifier for the proposed project.\n",
    "**product_category_name** | Name of the product category\n",
    "**product_name_lenght** | length of the string which specify the name given to the products ordered.\n",
    "**product_description_lenght** | length of the description written for each product ordered on the site.\n",
    "**product_photos_qty** | Number of photos of each product ordered available on the shopping portal.\n",
    "**product_weight_g** | Weight of the products ordered in grams.\n",
    "**product_length_cm** | Length of the products ordered in centimeters.\n",
    "**product_height_cm** | Height of the products ordered in centimeters.\n",
    "**product_width_cm** | width of the product ordered in centimeters.\n"
   ]
  },
  {
   "cell_type": "markdown",
   "id": "2a65b6d4",
   "metadata": {},
   "source": [
    "# Leitura arquivos"
   ]
  },
  {
   "cell_type": "code",
   "execution_count": 8,
   "id": "f8665f38",
   "metadata": {
    "ExecuteTime": {
     "end_time": "2022-10-04T12:24:14.676643Z",
     "start_time": "2022-10-04T12:24:10.796764Z"
    }
   },
   "outputs": [],
   "source": [
    "itens = pd.read_csv(\"Data/itens.csv\") # items\n",
    "ordens = pd.read_csv(\"Data/ordens.csv\") # order\n",
    "produtos = pd.read_csv(\"Data/produtos.csv\") # products\n",
    "geolocal = pd.read_csv(\"Data/geolocal.csv\") # geolocation\n",
    "avaliacoes = pd.read_csv('Data/avaliacoes.csv') # reviews\n",
    "clientes = pd.read_csv(\"Data/clientes.csv\") # customers\n",
    "pagamentos = pd.read_csv(\"Data/pagamentos.csv\") # payments\n",
    "vendedores = pd.read_csv(\"Data/vendedores.csv\") # seller"
   ]
  },
  {
   "cell_type": "code",
   "execution_count": 3,
   "id": "53098de9",
   "metadata": {
    "ExecuteTime": {
     "end_time": "2022-10-04T12:18:49.691411Z",
     "start_time": "2022-10-04T12:18:40.869442Z"
    }
   },
   "outputs": [
    {
     "name": "stdout",
     "output_type": "stream",
     "text": [
      "Requirement already satisfied: pymysql in c:\\programdata\\anaconda3\\lib\\site-packages (1.0.2)\n"
     ]
    }
   ],
   "source": [
    "!pip install pymysql"
   ]
  },
  {
   "cell_type": "code",
   "execution_count": 4,
   "id": "97a98289",
   "metadata": {
    "ExecuteTime": {
     "end_time": "2022-10-04T12:18:51.662309Z",
     "start_time": "2022-10-04T12:18:51.596352Z"
    }
   },
   "outputs": [
    {
     "ename": "ModuleNotFoundError",
     "evalue": "No module named 'pymysql'",
     "output_type": "error",
     "traceback": [
      "\u001b[1;31m---------------------------------------------------------------------------\u001b[0m",
      "\u001b[1;31mModuleNotFoundError\u001b[0m                       Traceback (most recent call last)",
      "Cell \u001b[1;32mIn [4], line 1\u001b[0m\n\u001b[1;32m----> 1\u001b[0m \u001b[38;5;28;01mimport\u001b[39;00m \u001b[38;5;21;01mpymysql\u001b[39;00m\n",
      "\u001b[1;31mModuleNotFoundError\u001b[0m: No module named 'pymysql'"
     ]
    }
   ],
   "source": [
    "import pymysql"
   ]
  },
  {
   "cell_type": "code",
   "execution_count": 5,
   "id": "a0078dc4",
   "metadata": {
    "ExecuteTime": {
     "end_time": "2022-10-04T12:20:14.577200Z",
     "start_time": "2022-10-04T12:19:50.418757Z"
    }
   },
   "outputs": [
    {
     "name": "stdout",
     "output_type": "stream",
     "text": [
      "Collecting pymysql==1.0.2\n",
      "  Using cached PyMySQL-1.0.2-py3-none-any.whl (43 kB)\n",
      "Installing collected packages: pymysql\n",
      "Successfully installed pymysql-1.0.2\n",
      "Note: you may need to restart the kernel to use updated packages.\n"
     ]
    }
   ],
   "source": [
    "pip install pymysql==1.0.2"
   ]
  },
  {
   "cell_type": "code",
   "execution_count": 6,
   "id": "09554ae1",
   "metadata": {
    "ExecuteTime": {
     "end_time": "2022-10-04T12:20:18.739508Z",
     "start_time": "2022-10-04T12:20:18.377254Z"
    }
   },
   "outputs": [],
   "source": [
    "import sqlalchemy as db\n",
    "\n",
    "db_server='pymysql'\n",
    "user='root'\n",
    "db_port = '3306'\n",
    "password = 'andressa13'\n",
    "ip = 'localhost'\n",
    "db_name = 'olist'\n",
    "engine = db.create_engine(f'mysql+{db_server}://{user}:{password}@{ip}:{db_port}/{db_name}?charset=utf8')\n",
    "conn = engine.connect()\n"
   ]
  },
  {
   "cell_type": "code",
   "execution_count": 9,
   "id": "a76ef9eb",
   "metadata": {
    "ExecuteTime": {
     "end_time": "2022-10-04T12:24:49.347015Z",
     "start_time": "2022-10-04T12:24:18.256977Z"
    }
   },
   "outputs": [
    {
     "data": {
      "text/plain": [
       "112650"
      ]
     },
     "execution_count": 9,
     "metadata": {},
     "output_type": "execute_result"
    }
   ],
   "source": [
    "itens.to_sql('itens',con=conn, index=False, if_exists= 'replace')"
   ]
  },
  {
   "cell_type": "code",
   "execution_count": 10,
   "id": "d390b261",
   "metadata": {
    "ExecuteTime": {
     "end_time": "2022-10-04T12:31:49.664542Z",
     "start_time": "2022-10-04T12:26:37.020662Z"
    }
   },
   "outputs": [
    {
     "data": {
      "text/plain": [
       "3095"
      ]
     },
     "execution_count": 10,
     "metadata": {},
     "output_type": "execute_result"
    }
   ],
   "source": [
    "ordens.to_sql('ordens',con=conn, index=False, if_exists= 'replace')\n",
    "produtos.to_sql('produtos',con=conn, index=False, if_exists= 'replace')\n",
    "geolocal.to_sql('geolocal',con=conn, index=False, if_exists= 'replace')\n",
    "avaliacoes.to_sql('avaliacoes',con=conn, index=False, if_exists= 'replace')\n",
    "clientes.to_sql('clientes',con=conn, index=False, if_exists= 'replace')\n",
    "pagamentos.to_sql('pagamentos',con=conn, index=False, if_exists= 'replace')\n",
    "vendedores.to_sql('vendedores',con=conn, index=False, if_exists= 'replace')"
   ]
  },
  {
   "cell_type": "markdown",
   "id": "b9c0caab",
   "metadata": {},
   "source": [
    "# Verificando dados - Atualizados"
   ]
  },
  {
   "cell_type": "markdown",
   "id": "5e3eb8b7",
   "metadata": {},
   "source": [
    "## Itens - items"
   ]
  },
  {
   "cell_type": "markdown",
   "id": "ede7b7c9",
   "metadata": {
    "ExecuteTime": {
     "end_time": "2022-09-29T22:55:39.292077Z",
     "start_time": "2022-09-29T22:55:30.643323Z"
    }
   },
   "source": [
    "* Tabela 'itens' com 112650 linhas e 8 colunas (order_id, product_id, seller_id,shipping_limit_date, price,freight_value  )"
   ]
  },
  {
   "cell_type": "code",
   "execution_count": null,
   "id": "e1379480",
   "metadata": {
    "ExecuteTime": {
     "end_time": "2022-10-04T12:09:12.638925Z",
     "start_time": "2022-10-04T12:09:12.638925Z"
    }
   },
   "outputs": [],
   "source": [
    "itens.shape"
   ]
  },
  {
   "cell_type": "code",
   "execution_count": null,
   "id": "c132b60c",
   "metadata": {
    "ExecuteTime": {
     "end_time": "2022-10-04T12:09:12.649900Z",
     "start_time": "2022-10-04T12:09:12.649900Z"
    },
    "cell_style": "split"
   },
   "outputs": [],
   "source": [
    "itens.info()"
   ]
  },
  {
   "cell_type": "code",
   "execution_count": null,
   "id": "b7ac5afc",
   "metadata": {
    "ExecuteTime": {
     "end_time": "2022-10-04T12:09:12.655897Z",
     "start_time": "2022-10-04T12:09:12.655897Z"
    },
    "cell_style": "split"
   },
   "outputs": [],
   "source": [
    "itens.isnull().sum()"
   ]
  },
  {
   "cell_type": "code",
   "execution_count": null,
   "id": "923e0fbe",
   "metadata": {
    "ExecuteTime": {
     "end_time": "2022-10-04T12:09:12.661893Z",
     "start_time": "2022-10-04T12:09:12.661893Z"
    }
   },
   "outputs": [],
   "source": [
    "itens.columns"
   ]
  },
  {
   "cell_type": "markdown",
   "id": "968d6097",
   "metadata": {
    "ExecuteTime": {
     "end_time": "2022-10-04T00:07:55.866202Z",
     "start_time": "2022-10-04T00:07:55.845213Z"
    }
   },
   "source": [
    "## Ordens - order"
   ]
  },
  {
   "cell_type": "markdown",
   "id": "d025c401",
   "metadata": {},
   "source": [
    "Tabela 'ordens' tem 99441 linhas e 9 colunas ('order_id', 'customer_id', 'order_status', 'order_purchase_timestamp',\n",
    "'order_approved_at', 'order_delivered_carrier_date',\n",
    "'order_delivered_customer_date', 'order_estimated_delivery_date)\n",
    "\n",
    "\n",
    "Nulos (order_approved_at - 160, order_delivered_carrier_date -  1783, order_delivered_customer_date- 2965)"
   ]
  },
  {
   "cell_type": "code",
   "execution_count": null,
   "id": "6094c876",
   "metadata": {
    "ExecuteTime": {
     "end_time": "2022-10-04T12:09:12.671894Z",
     "start_time": "2022-10-04T12:09:12.671894Z"
    }
   },
   "outputs": [],
   "source": [
    "ordens.shape"
   ]
  },
  {
   "cell_type": "code",
   "execution_count": null,
   "id": "72854286",
   "metadata": {
    "ExecuteTime": {
     "end_time": "2022-10-04T12:09:12.682881Z",
     "start_time": "2022-10-04T12:09:12.682881Z"
    },
    "cell_style": "split"
   },
   "outputs": [],
   "source": [
    "ordens.info()"
   ]
  },
  {
   "cell_type": "code",
   "execution_count": null,
   "id": "592bb0cc",
   "metadata": {
    "ExecuteTime": {
     "end_time": "2022-10-04T12:09:12.687876Z",
     "start_time": "2022-10-04T12:09:12.687876Z"
    },
    "cell_style": "split"
   },
   "outputs": [],
   "source": [
    "ordens.isnull().sum()"
   ]
  },
  {
   "cell_type": "code",
   "execution_count": null,
   "id": "715477fb",
   "metadata": {
    "ExecuteTime": {
     "end_time": "2022-10-04T12:09:12.695872Z",
     "start_time": "2022-10-04T12:09:12.695872Z"
    }
   },
   "outputs": [],
   "source": [
    "ordens.columns"
   ]
  },
  {
   "cell_type": "markdown",
   "id": "9d7c443d",
   "metadata": {
    "ExecuteTime": {
     "end_time": "2022-10-04T00:44:50.125439Z",
     "start_time": "2022-10-04T00:44:50.108450Z"
    }
   },
   "source": [
    "## Produtos - products"
   ]
  },
  {
   "cell_type": "markdown",
   "id": "a7b9ce72",
   "metadata": {},
   "source": [
    "Tabela com 32340 linhas com 6 colunas"
   ]
  },
  {
   "cell_type": "code",
   "execution_count": null,
   "id": "585a9887",
   "metadata": {
    "ExecuteTime": {
     "end_time": "2022-10-04T12:09:12.699871Z",
     "start_time": "2022-10-04T12:09:12.699871Z"
    }
   },
   "outputs": [],
   "source": [
    "produtos.shape"
   ]
  },
  {
   "cell_type": "code",
   "execution_count": null,
   "id": "60a0ed2d",
   "metadata": {
    "ExecuteTime": {
     "end_time": "2022-10-04T12:09:12.704866Z",
     "start_time": "2022-10-04T12:09:12.704866Z"
    },
    "cell_style": "split"
   },
   "outputs": [],
   "source": [
    "produtos.info()"
   ]
  },
  {
   "cell_type": "code",
   "execution_count": null,
   "id": "d9e1cf1d",
   "metadata": {
    "ExecuteTime": {
     "end_time": "2022-10-04T12:09:12.707864Z",
     "start_time": "2022-10-04T12:09:12.707864Z"
    },
    "cell_style": "split"
   },
   "outputs": [],
   "source": [
    "produtos.isnull().sum()"
   ]
  },
  {
   "cell_type": "code",
   "execution_count": null,
   "id": "2bb4d5a5",
   "metadata": {
    "ExecuteTime": {
     "end_time": "2022-10-04T12:09:12.712861Z",
     "start_time": "2022-10-04T12:09:12.712861Z"
    }
   },
   "outputs": [],
   "source": [
    "produtos.columns"
   ]
  },
  {
   "cell_type": "code",
   "execution_count": null,
   "id": "399f15b3",
   "metadata": {
    "ExecuteTime": {
     "end_time": "2022-10-04T12:09:12.721860Z",
     "start_time": "2022-10-04T12:09:12.721860Z"
    },
    "scrolled": true
   },
   "outputs": [],
   "source": [
    "produtos['product_category_name'].value_counts().head(10)"
   ]
  },
  {
   "cell_type": "markdown",
   "id": "25cb1207",
   "metadata": {},
   "source": [
    "## Avaliações - reviews"
   ]
  },
  {
   "cell_type": "markdown",
   "id": "9fb117d1",
   "metadata": {},
   "source": [
    "Tabela 'avaliacoes' tem 99224 linhas e 7 colunas (review_id,order_id, review_score, \n",
    "review_comment_title, review_comment_message, review_creation_date, review_answer_timestamp)"
   ]
  },
  {
   "cell_type": "code",
   "execution_count": null,
   "id": "211b6b4f",
   "metadata": {
    "ExecuteTime": {
     "end_time": "2022-10-04T12:09:12.730853Z",
     "start_time": "2022-10-04T12:09:12.730853Z"
    }
   },
   "outputs": [],
   "source": [
    "avaliacoes.shape"
   ]
  },
  {
   "cell_type": "code",
   "execution_count": null,
   "id": "4ac58bbd",
   "metadata": {
    "ExecuteTime": {
     "end_time": "2022-10-04T12:09:12.736847Z",
     "start_time": "2022-10-04T12:09:12.736847Z"
    },
    "cell_style": "split"
   },
   "outputs": [],
   "source": [
    "avaliacoes.info()"
   ]
  },
  {
   "cell_type": "code",
   "execution_count": null,
   "id": "5f4fd8d9",
   "metadata": {
    "ExecuteTime": {
     "end_time": "2022-10-04T12:09:12.740843Z",
     "start_time": "2022-10-04T12:09:12.740843Z"
    },
    "cell_style": "split"
   },
   "outputs": [],
   "source": [
    "avaliacoes.isnull().sum()"
   ]
  },
  {
   "cell_type": "code",
   "execution_count": null,
   "id": "5f3fa819",
   "metadata": {
    "ExecuteTime": {
     "end_time": "2022-10-04T12:09:12.745841Z",
     "start_time": "2022-10-04T12:09:12.745841Z"
    }
   },
   "outputs": [],
   "source": [
    "avaliacoes.columns"
   ]
  },
  {
   "cell_type": "markdown",
   "id": "05bc5122",
   "metadata": {},
   "source": [
    "## Vendedores - Seller"
   ]
  },
  {
   "cell_type": "markdown",
   "id": "49309921",
   "metadata": {},
   "source": [
    "Tabela de vendedores 3095 linhas  5 colunas ('seller_id', 'seller_zip_code_prefix', 'seller_city', 'seller_state')"
   ]
  },
  {
   "cell_type": "code",
   "execution_count": null,
   "id": "712810ba",
   "metadata": {
    "ExecuteTime": {
     "end_time": "2022-10-04T12:09:12.753837Z",
     "start_time": "2022-10-04T12:09:12.752837Z"
    }
   },
   "outputs": [],
   "source": [
    "vendedores.shape"
   ]
  },
  {
   "cell_type": "code",
   "execution_count": null,
   "id": "fa9aefd8",
   "metadata": {
    "ExecuteTime": {
     "end_time": "2022-10-04T12:09:12.758834Z",
     "start_time": "2022-10-04T12:09:12.758834Z"
    },
    "cell_style": "split"
   },
   "outputs": [],
   "source": [
    "vendedores.info()"
   ]
  },
  {
   "cell_type": "code",
   "execution_count": null,
   "id": "76f3f8f8",
   "metadata": {
    "ExecuteTime": {
     "end_time": "2022-10-04T12:09:12.764834Z",
     "start_time": "2022-10-04T12:09:12.763840Z"
    },
    "cell_style": "split"
   },
   "outputs": [],
   "source": [
    "vendedores.isnull().sum()"
   ]
  },
  {
   "cell_type": "code",
   "execution_count": null,
   "id": "e2ec58ba",
   "metadata": {
    "ExecuteTime": {
     "end_time": "2022-10-04T12:09:12.769829Z",
     "start_time": "2022-10-04T12:09:12.769829Z"
    }
   },
   "outputs": [],
   "source": [
    "vendedores.columns"
   ]
  },
  {
   "cell_type": "markdown",
   "id": "d6fe51e7",
   "metadata": {},
   "source": [
    "## Pagamentos - payments"
   ]
  },
  {
   "cell_type": "markdown",
   "id": "95874b54",
   "metadata": {},
   "source": [
    "Tabela de pagamentos 103886 linhas  5 colunas ('order_id', 'payment_sequential', 'payment_type','payment_installments', 'payment_value')"
   ]
  },
  {
   "cell_type": "code",
   "execution_count": null,
   "id": "4ebf82ba",
   "metadata": {
    "ExecuteTime": {
     "end_time": "2022-10-04T12:09:12.775824Z",
     "start_time": "2022-10-04T12:09:12.775824Z"
    }
   },
   "outputs": [],
   "source": [
    "pagamentos.shape"
   ]
  },
  {
   "cell_type": "code",
   "execution_count": null,
   "id": "f7bdf169",
   "metadata": {
    "ExecuteTime": {
     "end_time": "2022-10-04T12:09:12.783818Z",
     "start_time": "2022-10-04T12:09:12.783818Z"
    },
    "cell_style": "split"
   },
   "outputs": [],
   "source": [
    "pagamentos.info()"
   ]
  },
  {
   "cell_type": "code",
   "execution_count": null,
   "id": "cbdea4b4",
   "metadata": {
    "ExecuteTime": {
     "end_time": "2022-10-04T12:09:12.787816Z",
     "start_time": "2022-10-04T12:09:12.787816Z"
    },
    "cell_style": "split"
   },
   "outputs": [],
   "source": [
    "pagamentos.isnull().sum()"
   ]
  },
  {
   "cell_type": "code",
   "execution_count": null,
   "id": "a0003500",
   "metadata": {
    "ExecuteTime": {
     "end_time": "2022-10-04T12:09:12.796809Z",
     "start_time": "2022-10-04T12:09:12.796809Z"
    }
   },
   "outputs": [],
   "source": [
    "pagamentos.columns"
   ]
  },
  {
   "cell_type": "code",
   "execution_count": null,
   "id": "d96f27f4",
   "metadata": {
    "ExecuteTime": {
     "end_time": "2022-10-04T12:09:12.801808Z",
     "start_time": "2022-10-04T12:09:12.801808Z"
    }
   },
   "outputs": [],
   "source": [
    "pagamentos['payment_type'].value_counts()"
   ]
  },
  {
   "cell_type": "markdown",
   "id": "7f844f89",
   "metadata": {},
   "source": [
    "## Clientes - customers"
   ]
  },
  {
   "cell_type": "markdown",
   "id": "92fb91c5",
   "metadata": {},
   "source": [
    "Tabela de clientes 99441 linhas  5 colunas ('customer_id', 'customer_unique_id', 'customer_zip_code_prefix','customer_city', 'customer_state')"
   ]
  },
  {
   "cell_type": "code",
   "execution_count": null,
   "id": "d083d553",
   "metadata": {
    "ExecuteTime": {
     "end_time": "2022-10-04T12:09:12.806804Z",
     "start_time": "2022-10-04T12:09:12.806804Z"
    }
   },
   "outputs": [],
   "source": [
    "clientes.shape"
   ]
  },
  {
   "cell_type": "code",
   "execution_count": null,
   "id": "dd0c5f06",
   "metadata": {
    "ExecuteTime": {
     "end_time": "2022-10-04T12:09:12.816798Z",
     "start_time": "2022-10-04T12:09:12.816798Z"
    },
    "cell_style": "split",
    "scrolled": true
   },
   "outputs": [],
   "source": [
    "clientes.info()"
   ]
  },
  {
   "cell_type": "code",
   "execution_count": null,
   "id": "9aa831e9",
   "metadata": {
    "ExecuteTime": {
     "end_time": "2022-10-04T12:09:12.823796Z",
     "start_time": "2022-10-04T12:09:12.823796Z"
    },
    "cell_style": "split"
   },
   "outputs": [],
   "source": [
    "clientes.isnull().sum()"
   ]
  },
  {
   "cell_type": "code",
   "execution_count": null,
   "id": "9a41dda5",
   "metadata": {
    "ExecuteTime": {
     "end_time": "2022-10-04T12:09:12.829790Z",
     "start_time": "2022-10-04T12:09:12.829790Z"
    }
   },
   "outputs": [],
   "source": [
    "clientes.columns"
   ]
  },
  {
   "cell_type": "markdown",
   "id": "dcb02b66",
   "metadata": {
    "ExecuteTime": {
     "end_time": "2022-10-04T00:29:38.431171Z",
     "start_time": "2022-10-04T00:29:38.411184Z"
    }
   },
   "source": [
    "### Cidade"
   ]
  },
  {
   "cell_type": "code",
   "execution_count": null,
   "id": "d699f660",
   "metadata": {
    "ExecuteTime": {
     "end_time": "2022-10-04T12:09:12.835786Z",
     "start_time": "2022-10-04T12:09:12.835786Z"
    }
   },
   "outputs": [],
   "source": [
    "clientes.customer_city.unique()"
   ]
  },
  {
   "cell_type": "markdown",
   "id": "314bcf42",
   "metadata": {},
   "source": [
    "### Estado"
   ]
  },
  {
   "cell_type": "code",
   "execution_count": null,
   "id": "92ffdc26",
   "metadata": {
    "ExecuteTime": {
     "end_time": "2022-10-04T12:09:12.841782Z",
     "start_time": "2022-10-04T12:09:12.841782Z"
    }
   },
   "outputs": [],
   "source": [
    "clientes.customer_state.unique()"
   ]
  },
  {
   "cell_type": "code",
   "execution_count": null,
   "id": "f23a05d5",
   "metadata": {
    "ExecuteTime": {
     "end_time": "2022-10-04T12:09:12.845780Z",
     "start_time": "2022-10-04T12:09:12.845780Z"
    }
   },
   "outputs": [],
   "source": [
    "clientes.groupby('customer_city').count()['customer_id'].reset_index()"
   ]
  },
  {
   "cell_type": "markdown",
   "id": "896be821",
   "metadata": {},
   "source": [
    "## Geocalização"
   ]
  },
  {
   "cell_type": "code",
   "execution_count": null,
   "id": "7d7e0760",
   "metadata": {
    "ExecuteTime": {
     "end_time": "2022-10-04T12:09:12.850777Z",
     "start_time": "2022-10-04T12:09:12.850777Z"
    }
   },
   "outputs": [],
   "source": [
    "geolocal.shape"
   ]
  },
  {
   "cell_type": "code",
   "execution_count": null,
   "id": "7e65466e",
   "metadata": {
    "ExecuteTime": {
     "end_time": "2022-10-04T12:09:12.856772Z",
     "start_time": "2022-10-04T12:09:12.856772Z"
    },
    "cell_style": "split"
   },
   "outputs": [],
   "source": [
    "geolocal.info()"
   ]
  },
  {
   "cell_type": "code",
   "execution_count": null,
   "id": "92557393",
   "metadata": {
    "ExecuteTime": {
     "end_time": "2022-10-04T12:09:12.861770Z",
     "start_time": "2022-10-04T12:09:12.861770Z"
    },
    "cell_style": "split"
   },
   "outputs": [],
   "source": [
    "clientes.isnull().sum()"
   ]
  },
  {
   "cell_type": "code",
   "execution_count": null,
   "id": "c5dc4edf",
   "metadata": {
    "ExecuteTime": {
     "end_time": "2022-10-04T12:09:12.866766Z",
     "start_time": "2022-10-04T12:09:12.866766Z"
    }
   },
   "outputs": [],
   "source": [
    "geolocal.columns"
   ]
  },
  {
   "cell_type": "code",
   "execution_count": null,
   "id": "cdeec26f",
   "metadata": {
    "ExecuteTime": {
     "end_time": "2022-10-04T12:09:12.872763Z",
     "start_time": "2022-10-04T12:09:12.872763Z"
    }
   },
   "outputs": [],
   "source": [
    "geolocal['geolocation_city'].value_counts()"
   ]
  },
  {
   "cell_type": "markdown",
   "id": "732c3219",
   "metadata": {},
   "source": [
    "# Analisando dados ausentes - DataFrame original"
   ]
  },
  {
   "cell_type": "code",
   "execution_count": null,
   "id": "5771edfc",
   "metadata": {
    "ExecuteTime": {
     "end_time": "2022-10-04T12:09:12.879759Z",
     "start_time": "2022-10-04T12:09:12.879759Z"
    }
   },
   "outputs": [],
   "source": [
    "total = df.isnull().sum().sort_values(ascending=False)\n",
    "percent = (df.isnull().sum()/df.isnull().count()).sort_values(ascending=False)\n",
    "missing = pd.concat([total, percent], axis=1, keys=['Total', 'Percent'])\n",
    "missing.head()"
   ]
  },
  {
   "cell_type": "markdown",
   "id": "5b46a714",
   "metadata": {},
   "source": [
    "## Transformando Datetime (ordens)"
   ]
  },
  {
   "cell_type": "code",
   "execution_count": null,
   "id": "23d7b210",
   "metadata": {
    "ExecuteTime": {
     "end_time": "2022-10-04T12:09:12.884755Z",
     "start_time": "2022-10-04T12:09:12.884755Z"
    }
   },
   "outputs": [],
   "source": [
    "times_cols = ['order_purchase_timestamp', 'order_approved_at', 'order_delivered_carrier_date', 'order_estimated_delivery_date', 'order_delivered_customer_date']\n",
    "for col in times_cols:\n",
    "    ordens[col] = pd.to_datetime(ordens[col])\n"
   ]
  },
  {
   "cell_type": "markdown",
   "id": "4940f4fc",
   "metadata": {
    "ExecuteTime": {
     "end_time": "2022-09-29T23:03:23.750869Z",
     "start_time": "2022-09-29T23:03:23.743874Z"
    }
   },
   "source": [
    "## Fazendo Drop colunas"
   ]
  },
  {
   "cell_type": "markdown",
   "id": "8d9882ad",
   "metadata": {},
   "source": [
    "Opção para drop em colunas com percentual de numeros ausentes superior a 97% dos dados"
   ]
  },
  {
   "cell_type": "code",
   "execution_count": null,
   "id": "f7e9fd12",
   "metadata": {
    "ExecuteTime": {
     "end_time": "2022-10-04T12:09:12.888754Z",
     "start_time": "2022-10-04T12:09:12.888754Z"
    }
   },
   "outputs": [],
   "source": [
    "df.drop(['seller_state', 'seller_city', 'seller_zip_code_prefix', 'review_comment_title', 'product_photos_qty'],axis=1, inplace=True)"
   ]
  },
  {
   "cell_type": "markdown",
   "id": "c25e0011",
   "metadata": {},
   "source": [
    "Dropando as colunas 'review_comment_title', 'review_comment_message'"
   ]
  },
  {
   "cell_type": "code",
   "execution_count": null,
   "id": "506fb9b6",
   "metadata": {
    "ExecuteTime": {
     "end_time": "2022-10-04T12:09:12.895748Z",
     "start_time": "2022-10-04T12:09:12.894755Z"
    }
   },
   "outputs": [],
   "source": [
    "avaliacoes.drop(['review_comment_title', 'review_comment_message'],axis=1, inplace=True)\n",
    "\n",
    "'''Após a limpeza o dataframe possui 99224 linhas e 5 colunas (review_id,order_id,review_score,\n",
    " review_creation_date,review_answer_timestamp) '''   "
   ]
  },
  {
   "cell_type": "markdown",
   "id": "410e26f6",
   "metadata": {},
   "source": [
    "## Fazendo Drop Duplicates"
   ]
  },
  {
   "cell_type": "code",
   "execution_count": null,
   "id": "21acd4d3",
   "metadata": {
    "ExecuteTime": {
     "end_time": "2022-10-04T12:09:12.899747Z",
     "start_time": "2022-10-04T12:09:12.899747Z"
    }
   },
   "outputs": [],
   "source": [
    "geolocal.drop_duplicates(inplace=True)"
   ]
  },
  {
   "cell_type": "markdown",
   "id": "4b5d3357",
   "metadata": {
    "ExecuteTime": {
     "end_time": "2022-10-04T00:48:45.001445Z",
     "start_time": "2022-10-04T00:48:44.984458Z"
    }
   },
   "source": [
    "## Dropando linhas em nulo"
   ]
  },
  {
   "cell_type": "code",
   "execution_count": null,
   "id": "7d65036c",
   "metadata": {
    "ExecuteTime": {
     "end_time": "2022-10-04T12:09:12.904745Z",
     "start_time": "2022-10-04T12:09:12.904745Z"
    }
   },
   "outputs": [],
   "source": [
    "produtos.dropna(inplace=True)"
   ]
  },
  {
   "cell_type": "code",
   "execution_count": null,
   "id": "4a627b03",
   "metadata": {
    "ExecuteTime": {
     "end_time": "2022-10-04T12:09:12.910741Z",
     "start_time": "2022-10-04T12:09:12.910741Z"
    }
   },
   "outputs": [],
   "source": [
    "produtos.drop(['product_name_lenght', 'product_description_lenght', 'product_photos_qty'],axis=1, inplace=True)"
   ]
  },
  {
   "cell_type": "markdown",
   "id": "31a44450",
   "metadata": {},
   "source": [
    "## Tratando linhas nulas(ordens)"
   ]
  },
  {
   "cell_type": "markdown",
   "id": "bb746700",
   "metadata": {},
   "source": [
    "Convertendo linhas nulas por informações próximas"
   ]
  },
  {
   "cell_type": "code",
   "execution_count": null,
   "id": "9c2cf408",
   "metadata": {
    "ExecuteTime": {
     "end_time": "2022-10-04T12:09:12.917735Z",
     "start_time": "2022-10-04T12:09:12.917735Z"
    },
    "run_control": {
     "marked": false
    }
   },
   "outputs": [],
   "source": [
    "ordens[\"order_approved_at\"].fillna(ordens[\"order_purchase_timestamp\"], inplace=True)\n",
    "ordens[\"order_delivered_customer_date\"].fillna(ordens[\"order_estimated_delivery_date\"], inplace=True)\n",
    "ordens[\"order_delivered_carrier_date\"].fillna(ordens[\"order_delivered_customer_date\"], inplace=True)"
   ]
  },
  {
   "cell_type": "code",
   "execution_count": null,
   "id": "1677ff89",
   "metadata": {
    "ExecuteTime": {
     "end_time": "2022-10-04T12:09:12.925733Z",
     "start_time": "2022-10-04T12:09:12.925733Z"
    }
   },
   "outputs": [],
   "source": [
    "ordens.info()"
   ]
  },
  {
   "cell_type": "markdown",
   "id": "b8b9493b",
   "metadata": {},
   "source": [
    "## Extraindo atributos para data de compra - Ano e Mês"
   ]
  },
  {
   "cell_type": "markdown",
   "id": "d70ba823",
   "metadata": {},
   "source": [
    "Abaixo converteremos um  datetime objeto contendo data e hora atuais para diferentes formatos."
   ]
  },
  {
   "cell_type": "code",
   "execution_count": null,
   "id": "3a570be3",
   "metadata": {
    "ExecuteTime": {
     "end_time": "2022-10-04T12:09:12.931727Z",
     "start_time": "2022-10-04T12:09:12.931727Z"
    }
   },
   "outputs": [],
   "source": [
    "ordens['order_purchase_year'] = ordens['order_purchase_timestamp'].apply(lambda x: x.year)\n",
    "ordens['order_purchase_month'] = ordens['order_purchase_timestamp'].apply(lambda x: x.month)\n",
    "ordens['order_purchase_month_name'] = ordens['order_purchase_timestamp'].apply(lambda x: x.strftime('%b') if x==x else x )\n",
    "ordens['order_purchase_year_month'] = ordens['order_purchase_timestamp'].apply(lambda x: x.strftime('%Y%m') if x==x else x )\n",
    "ordens['order_purchase_date'] = ordens['order_purchase_timestamp'].apply(lambda x: x.strftime('%Y%m%d')if x==x else x )"
   ]
  },
  {
   "cell_type": "code",
   "execution_count": null,
   "id": "4c5b451f",
   "metadata": {
    "ExecuteTime": {
     "end_time": "2022-10-04T12:09:12.936724Z",
     "start_time": "2022-10-04T12:09:12.936724Z"
    }
   },
   "outputs": [],
   "source": [
    "ordens.head(2)"
   ]
  },
  {
   "cell_type": "code",
   "execution_count": null,
   "id": "76815365",
   "metadata": {},
   "outputs": [],
   "source": []
  },
  {
   "cell_type": "markdown",
   "id": "45336a55",
   "metadata": {},
   "source": [
    "## Gráficos"
   ]
  },
  {
   "cell_type": "code",
   "execution_count": null,
   "id": "e430fd6d",
   "metadata": {
    "ExecuteTime": {
     "end_time": "2022-10-04T12:09:12.941633Z",
     "start_time": "2022-10-04T12:09:12.941633Z"
    },
    "scrolled": true
   },
   "outputs": [],
   "source": [
    "plt.figure(figsize=(10,6))\n",
    "sns.set_style(\"whitegrid\")\n",
    "ax = clientes.customer_state.value_counts().sort_values(ascending=False)[0:10].plot(kind='bar', color = 'grey', alpha=0.8)\n",
    "ax.set_title(\"Top 10 - Estados consumidores do Brasil\")\n",
    "ax.set_xlabel(\"States\")\n",
    "plt.xticks(rotation=35)\n",
    "ax.set_ylabel(\"Nº de consumidores\")\n",
    "plt.show()"
   ]
  },
  {
   "cell_type": "markdown",
   "id": "90685e88",
   "metadata": {},
   "source": [
    "## Analisando crescimento por periodo"
   ]
  },
  {
   "cell_type": "code",
   "execution_count": null,
   "id": "37f88af6",
   "metadata": {
    "ExecuteTime": {
     "end_time": "2022-10-04T12:09:12.946628Z",
     "start_time": "2022-10-04T12:09:12.946628Z"
    }
   },
   "outputs": [],
   "source": [
    "total_orders_month_year = ordens.groupby('order_purchase_year_month')['order_id'].nunique().reset_index()\n",
    "plt.figure(figsize = (18,7))\n",
    "sns.barplot(data = total_orders_month_year,\n",
    "             x = 'order_purchase_year_month',\n",
    "             y = 'order_id')\n",
    "plt.suptitle(\"Total orders by year_month\")"
   ]
  },
  {
   "cell_type": "markdown",
   "id": "c5c86ea5",
   "metadata": {},
   "source": [
    "O número de pedidos começou a aumentar acentuadamente a partir de novembro de 2017, descobriremos por que há um aumento tão repentino"
   ]
  },
  {
   "cell_type": "markdown",
   "id": "c355f38d",
   "metadata": {},
   "source": [
    "### Verificando as categorias por periodo"
   ]
  },
  {
   "cell_type": "code",
   "execution_count": null,
   "id": "46ba0fc7",
   "metadata": {
    "ExecuteTime": {
     "end_time": "2022-10-04T12:09:12.951627Z",
     "start_time": "2022-10-04T12:09:12.951627Z"
    }
   },
   "outputs": [],
   "source": [
    "ordens[ordens['order_purchase_year'] == 2017]['product_category_name'].nunique()"
   ]
  },
  {
   "cell_type": "code",
   "execution_count": null,
   "id": "54b20929",
   "metadata": {},
   "outputs": [],
   "source": []
  },
  {
   "cell_type": "code",
   "execution_count": null,
   "id": "12c98d2d",
   "metadata": {},
   "outputs": [],
   "source": [
    "ordens"
   ]
  },
  {
   "cell_type": "code",
   "execution_count": null,
   "id": "af161bd0",
   "metadata": {},
   "outputs": [],
   "source": [
    "order_delivered_customer_date_y\n"
   ]
  },
  {
   "cell_type": "code",
   "execution_count": null,
   "id": "e593c6a4",
   "metadata": {},
   "outputs": [],
   "source": [
    "order_estimated_delivery_date_y\n"
   ]
  },
  {
   "cell_type": "markdown",
   "id": "4e1bdf9d",
   "metadata": {},
   "source": [
    "## Pipeline"
   ]
  },
  {
   "cell_type": "code",
   "execution_count": null,
   "id": "82f3fa9b",
   "metadata": {
    "ExecuteTime": {
     "end_time": "2022-10-04T12:09:12.956623Z",
     "start_time": "2022-10-04T12:09:12.956623Z"
    }
   },
   "outputs": [],
   "source": [
    "from sklearn.pipeline import Pipeline\n",
    "from sklearn.ensemble import GradientBoostingClassifier\n",
    "import sklearn\n",
    "from sklearn.preprocessing import StandardScaler"
   ]
  },
  {
   "cell_type": "code",
   "execution_count": null,
   "id": "0a1a3c31",
   "metadata": {
    "ExecuteTime": {
     "end_time": "2022-10-04T12:09:12.961621Z",
     "start_time": "2022-10-04T12:09:12.961621Z"
    }
   },
   "outputs": [],
   "source": [
    "scaler = StandardScaler()"
   ]
  },
  {
   "cell_type": "markdown",
   "id": "3bba0cd3",
   "metadata": {},
   "source": [
    "## Localização"
   ]
  },
  {
   "cell_type": "code",
   "execution_count": null,
   "id": "5f57a152",
   "metadata": {
    "ExecuteTime": {
     "end_time": "2022-10-04T12:09:12.966616Z",
     "start_time": "2022-10-04T12:09:12.966616Z"
    }
   },
   "outputs": [],
   "source": [
    "from opencage.geocoder import OpenCageGeocode\n"
   ]
  }
 ],
 "metadata": {
  "kernelspec": {
   "display_name": "pycaret",
   "language": "python",
   "name": "pycaret"
  },
  "language_info": {
   "codemirror_mode": {
    "name": "ipython",
    "version": 3
   },
   "file_extension": ".py",
   "mimetype": "text/x-python",
   "name": "python",
   "nbconvert_exporter": "python",
   "pygments_lexer": "ipython3",
   "version": "3.8.13"
  },
  "nbTranslate": {
   "displayLangs": [
    "*"
   ],
   "hotkey": "alt-t",
   "langInMainMenu": true,
   "sourceLang": "en",
   "targetLang": "fr",
   "useGoogleTranslate": true
  },
  "toc": {
   "base_numbering": 1,
   "nav_menu": {},
   "number_sections": true,
   "sideBar": true,
   "skip_h1_title": false,
   "title_cell": "Table of Contents",
   "title_sidebar": "Contents",
   "toc_cell": false,
   "toc_position": {},
   "toc_section_display": true,
   "toc_window_display": false
  },
  "varInspector": {
   "cols": {
    "lenName": 16,
    "lenType": 16,
    "lenVar": 40
   },
   "kernels_config": {
    "python": {
     "delete_cmd_postfix": "",
     "delete_cmd_prefix": "del ",
     "library": "var_list.py",
     "varRefreshCmd": "print(var_dic_list())"
    },
    "r": {
     "delete_cmd_postfix": ") ",
     "delete_cmd_prefix": "rm(",
     "library": "var_list.r",
     "varRefreshCmd": "cat(var_dic_list()) "
    }
   },
   "types_to_exclude": [
    "module",
    "function",
    "builtin_function_or_method",
    "instance",
    "_Feature"
   ],
   "window_display": false
  }
 },
 "nbformat": 4,
 "nbformat_minor": 5
}
