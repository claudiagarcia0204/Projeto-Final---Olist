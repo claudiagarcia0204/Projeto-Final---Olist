{
 "cells": [
  {
   "cell_type": "markdown",
   "id": "62cc6ee1",
   "metadata": {},
   "source": [
    "# Projeto Final - Olist"
   ]
  },
  {
   "cell_type": "markdown",
   "id": "bc7e4ac0",
   "metadata": {},
   "source": [
    "## Descrição"
   ]
  },
  {
   "cell_type": "markdown",
   "id": "1a14effd",
   "metadata": {},
   "source": [
    "\"Conjunto de dados públicos de comércio eletrônico brasileiro por Olist\n",
    "O conjunto de dados tem informações de 100 mil pedidos de 2016 a 2018 feitos em vários marketplaces no Brasil.\n",
    "\n",
    "A Olist conecta pequenas empresas de todo o Brasil a canais sem complicações e com um único contrato. Esses comerciantes podem vender seus produtos através da Olist Store e enviá-los diretamente aos clientes usando os parceiros de logística da Olist.\n",
    "\n",
    "Depois que um cliente compra o produto da Olist Store, um vendedor é notificado para atender esse pedido. Assim que o cliente recebe o produto, ou vence a data prevista de entrega, o cliente recebe uma pesquisa de satisfação por e-mail onde pode dar uma nota da experiência de compra e anotar alguns comentários.\"\n"
   ]
  },
  {
   "cell_type": "markdown",
   "id": "00727d69",
   "metadata": {},
   "source": [
    "## Importando Bibliotecas"
   ]
  },
  {
   "cell_type": "code",
   "execution_count": 3,
   "id": "c9ad9312",
   "metadata": {
    "ExecuteTime": {
     "end_time": "2022-10-02T22:50:57.954790Z",
     "start_time": "2022-10-02T22:50:51.718573Z"
    }
   },
   "outputs": [],
   "source": [
    "import pandas as pd\n",
    "import numpy as np\n",
    "import os\n",
    "import re\n",
    "from sklearn.linear_model import LinearRegression\n",
    "import seaborn as sns\n",
    "from sklearn.preprocessing import LabelEncoder\n",
    "from sklearn.ensemble import RandomForestClassifier\n",
    "from sklearn.ensemble import GradientBoostingClassifier\n",
    "import glob\n",
    "import pandas as pd\n",
    "from sklearn.model_selection import train_test_split\n",
    "from pycaret.classification import *"
   ]
  },
  {
   "cell_type": "markdown",
   "id": "2a65b6d4",
   "metadata": {},
   "source": [
    "# Leitura arquivos"
   ]
  },
  {
   "cell_type": "code",
   "execution_count": 1,
   "id": "6d957483",
   "metadata": {
    "ExecuteTime": {
     "end_time": "2022-10-02T22:50:34.326830Z",
     "start_time": "2022-10-02T22:50:32.852477Z"
    }
   },
   "outputs": [
    {
     "ename": "NameError",
     "evalue": "name 'pd' is not defined",
     "output_type": "error",
     "traceback": [
      "\u001b[1;31m---------------------------------------------------------------------------\u001b[0m",
      "\u001b[1;31mNameError\u001b[0m                                 Traceback (most recent call last)",
      "Cell \u001b[1;32mIn [1], line 1\u001b[0m\n\u001b[1;32m----> 1\u001b[0m items \u001b[38;5;241m=\u001b[39m pd\u001b[38;5;241m.\u001b[39mread_csv(\u001b[38;5;124m\"\u001b[39m\u001b[38;5;124mdata\u001b[39m\u001b[38;5;124m\\\u001b[39m\u001b[38;5;124molist_order_items_dataset.csv\u001b[39m\u001b[38;5;124m\"\u001b[39m)\n\u001b[0;32m      2\u001b[0m ordens \u001b[38;5;241m=\u001b[39m pd\u001b[38;5;241m.\u001b[39mread_csv(\u001b[38;5;124m\"\u001b[39m\u001b[38;5;124mdata\u001b[39m\u001b[38;5;124m\\\u001b[39m\u001b[38;5;124molist_orders_dataset.csv\u001b[39m\u001b[38;5;124m\"\u001b[39m) \u001b[38;5;66;03m#order\u001b[39;00m\n\u001b[0;32m      3\u001b[0m avaliacoes \u001b[38;5;241m=\u001b[39m pd\u001b[38;5;241m.\u001b[39mread_csv(\u001b[38;5;124m\"\u001b[39m\u001b[38;5;124mdata\u001b[39m\u001b[38;5;124m\\\u001b[39m\u001b[38;5;124molist_order_reviews_dataset.csv\u001b[39m\u001b[38;5;124m\"\u001b[39m) \u001b[38;5;66;03m#reviews\u001b[39;00m\n",
      "\u001b[1;31mNameError\u001b[0m: name 'pd' is not defined"
     ]
    }
   ],
   "source": [
    "itens = pd.read_csv(\"data\\itens.csv\") #items\n",
    "ordens = pd.read_csv(\"data\\ordens.csv\") #order\n",
    "avaliacoes = pd.read_csv(\"data\\olist_order_reviews_dataset.csv\") #reviews\n",
    "geolocal = pd.read_csv(\"data\\olist_geolocation_dataset.csv\") #geolocation\n",
    "vendedores = pd.read_csv(\"data\\olist_sellers_dataset.csv\") #seller\n",
    "pagamentos = pd.read_csv(\"data\\olist_order_payments_dataset.csv\") #payments\n",
    "clientes = pd.read_csv(\"data\\clientes.csv\") #customers\n",
    "produtos = pd.read_csv(\"data\\olist_products_dataset.csv\") #products"
   ]
  },
  {
   "cell_type": "markdown",
   "id": "8162dbe5",
   "metadata": {},
   "source": [
    "## Leitura dos arquivos na pasta"
   ]
  },
  {
   "cell_type": "code",
   "execution_count": 4,
   "id": "11709515",
   "metadata": {
    "ExecuteTime": {
     "end_time": "2022-10-02T22:51:32.222496Z",
     "start_time": "2022-10-02T22:51:22.785601Z"
    },
    "run_control": {
     "marked": false
    }
   },
   "outputs": [
    {
     "data": {
      "text/html": [
       "<div>\n",
       "<style scoped>\n",
       "    .dataframe tbody tr th:only-of-type {\n",
       "        vertical-align: middle;\n",
       "    }\n",
       "\n",
       "    .dataframe tbody tr th {\n",
       "        vertical-align: top;\n",
       "    }\n",
       "\n",
       "    .dataframe thead th {\n",
       "        text-align: right;\n",
       "    }\n",
       "</style>\n",
       "<table border=\"1\" class=\"dataframe\">\n",
       "  <thead>\n",
       "    <tr style=\"text-align: right;\">\n",
       "      <th></th>\n",
       "      <th>customer_id</th>\n",
       "      <th>customer_unique_id</th>\n",
       "      <th>customer_zip_code_prefix</th>\n",
       "      <th>customer_city</th>\n",
       "      <th>customer_state</th>\n",
       "      <th>geolocation_zip_code_prefix</th>\n",
       "      <th>geolocation_lat</th>\n",
       "      <th>geolocation_lng</th>\n",
       "      <th>geolocation_city</th>\n",
       "      <th>geolocation_state</th>\n",
       "      <th>order_id</th>\n",
       "      <th>order_status</th>\n",
       "      <th>order_purchase_timestamp</th>\n",
       "      <th>order_approved_at</th>\n",
       "      <th>order_delivered_carrier_date</th>\n",
       "      <th>order_delivered_customer_date</th>\n",
       "      <th>order_estimated_delivery_date</th>\n",
       "      <th>order_item_id</th>\n",
       "      <th>product_id</th>\n",
       "      <th>seller_id</th>\n",
       "      <th>shipping_limit_date</th>\n",
       "      <th>price</th>\n",
       "      <th>freight_value</th>\n",
       "      <th>payment_sequential</th>\n",
       "      <th>payment_type</th>\n",
       "      <th>payment_installments</th>\n",
       "      <th>payment_value</th>\n",
       "      <th>review_id</th>\n",
       "      <th>review_score</th>\n",
       "      <th>review_comment_title</th>\n",
       "      <th>review_comment_message</th>\n",
       "      <th>review_creation_date</th>\n",
       "      <th>review_answer_timestamp</th>\n",
       "      <th>product_category_name</th>\n",
       "      <th>product_name_lenght</th>\n",
       "      <th>product_description_lenght</th>\n",
       "      <th>product_photos_qty</th>\n",
       "      <th>product_weight_g</th>\n",
       "      <th>product_length_cm</th>\n",
       "      <th>product_height_cm</th>\n",
       "      <th>product_width_cm</th>\n",
       "      <th>seller_zip_code_prefix</th>\n",
       "      <th>seller_city</th>\n",
       "      <th>seller_state</th>\n",
       "    </tr>\n",
       "  </thead>\n",
       "  <tbody>\n",
       "    <tr>\n",
       "      <th>0</th>\n",
       "      <td>06b8999e2fba1a1fbc88172c00ba8bc7</td>\n",
       "      <td>861eff4711a542e4b93843c6dd7febb0</td>\n",
       "      <td>14409.0</td>\n",
       "      <td>franca</td>\n",
       "      <td>SP</td>\n",
       "      <td>NaN</td>\n",
       "      <td>NaN</td>\n",
       "      <td>NaN</td>\n",
       "      <td>NaN</td>\n",
       "      <td>NaN</td>\n",
       "      <td>NaN</td>\n",
       "      <td>NaN</td>\n",
       "      <td>NaN</td>\n",
       "      <td>NaN</td>\n",
       "      <td>NaN</td>\n",
       "      <td>NaN</td>\n",
       "      <td>NaN</td>\n",
       "      <td>NaN</td>\n",
       "      <td>NaN</td>\n",
       "      <td>NaN</td>\n",
       "      <td>NaN</td>\n",
       "      <td>NaN</td>\n",
       "      <td>NaN</td>\n",
       "      <td>NaN</td>\n",
       "      <td>NaN</td>\n",
       "      <td>NaN</td>\n",
       "      <td>NaN</td>\n",
       "      <td>NaN</td>\n",
       "      <td>NaN</td>\n",
       "      <td>NaN</td>\n",
       "      <td>NaN</td>\n",
       "      <td>NaN</td>\n",
       "      <td>NaN</td>\n",
       "      <td>NaN</td>\n",
       "      <td>NaN</td>\n",
       "      <td>NaN</td>\n",
       "      <td>NaN</td>\n",
       "      <td>NaN</td>\n",
       "      <td>NaN</td>\n",
       "      <td>NaN</td>\n",
       "      <td>NaN</td>\n",
       "      <td>NaN</td>\n",
       "      <td>NaN</td>\n",
       "      <td>NaN</td>\n",
       "    </tr>\n",
       "    <tr>\n",
       "      <th>1</th>\n",
       "      <td>18955e83d337fd6b2def6b18a428ac77</td>\n",
       "      <td>290c77bc529b7ac935b93aa66c333dc3</td>\n",
       "      <td>9790.0</td>\n",
       "      <td>sao bernardo do campo</td>\n",
       "      <td>SP</td>\n",
       "      <td>NaN</td>\n",
       "      <td>NaN</td>\n",
       "      <td>NaN</td>\n",
       "      <td>NaN</td>\n",
       "      <td>NaN</td>\n",
       "      <td>NaN</td>\n",
       "      <td>NaN</td>\n",
       "      <td>NaN</td>\n",
       "      <td>NaN</td>\n",
       "      <td>NaN</td>\n",
       "      <td>NaN</td>\n",
       "      <td>NaN</td>\n",
       "      <td>NaN</td>\n",
       "      <td>NaN</td>\n",
       "      <td>NaN</td>\n",
       "      <td>NaN</td>\n",
       "      <td>NaN</td>\n",
       "      <td>NaN</td>\n",
       "      <td>NaN</td>\n",
       "      <td>NaN</td>\n",
       "      <td>NaN</td>\n",
       "      <td>NaN</td>\n",
       "      <td>NaN</td>\n",
       "      <td>NaN</td>\n",
       "      <td>NaN</td>\n",
       "      <td>NaN</td>\n",
       "      <td>NaN</td>\n",
       "      <td>NaN</td>\n",
       "      <td>NaN</td>\n",
       "      <td>NaN</td>\n",
       "      <td>NaN</td>\n",
       "      <td>NaN</td>\n",
       "      <td>NaN</td>\n",
       "      <td>NaN</td>\n",
       "      <td>NaN</td>\n",
       "      <td>NaN</td>\n",
       "      <td>NaN</td>\n",
       "      <td>NaN</td>\n",
       "      <td>NaN</td>\n",
       "    </tr>\n",
       "    <tr>\n",
       "      <th>2</th>\n",
       "      <td>4e7b3e00288586ebd08712fdd0374a03</td>\n",
       "      <td>060e732b5b29e8181a18229c7b0b2b5e</td>\n",
       "      <td>1151.0</td>\n",
       "      <td>sao paulo</td>\n",
       "      <td>SP</td>\n",
       "      <td>NaN</td>\n",
       "      <td>NaN</td>\n",
       "      <td>NaN</td>\n",
       "      <td>NaN</td>\n",
       "      <td>NaN</td>\n",
       "      <td>NaN</td>\n",
       "      <td>NaN</td>\n",
       "      <td>NaN</td>\n",
       "      <td>NaN</td>\n",
       "      <td>NaN</td>\n",
       "      <td>NaN</td>\n",
       "      <td>NaN</td>\n",
       "      <td>NaN</td>\n",
       "      <td>NaN</td>\n",
       "      <td>NaN</td>\n",
       "      <td>NaN</td>\n",
       "      <td>NaN</td>\n",
       "      <td>NaN</td>\n",
       "      <td>NaN</td>\n",
       "      <td>NaN</td>\n",
       "      <td>NaN</td>\n",
       "      <td>NaN</td>\n",
       "      <td>NaN</td>\n",
       "      <td>NaN</td>\n",
       "      <td>NaN</td>\n",
       "      <td>NaN</td>\n",
       "      <td>NaN</td>\n",
       "      <td>NaN</td>\n",
       "      <td>NaN</td>\n",
       "      <td>NaN</td>\n",
       "      <td>NaN</td>\n",
       "      <td>NaN</td>\n",
       "      <td>NaN</td>\n",
       "      <td>NaN</td>\n",
       "      <td>NaN</td>\n",
       "      <td>NaN</td>\n",
       "      <td>NaN</td>\n",
       "      <td>NaN</td>\n",
       "      <td>NaN</td>\n",
       "    </tr>\n",
       "    <tr>\n",
       "      <th>3</th>\n",
       "      <td>b2b6027bc5c5109e529d4dc6358b12c3</td>\n",
       "      <td>259dac757896d24d7702b9acbbff3f3c</td>\n",
       "      <td>8775.0</td>\n",
       "      <td>mogi das cruzes</td>\n",
       "      <td>SP</td>\n",
       "      <td>NaN</td>\n",
       "      <td>NaN</td>\n",
       "      <td>NaN</td>\n",
       "      <td>NaN</td>\n",
       "      <td>NaN</td>\n",
       "      <td>NaN</td>\n",
       "      <td>NaN</td>\n",
       "      <td>NaN</td>\n",
       "      <td>NaN</td>\n",
       "      <td>NaN</td>\n",
       "      <td>NaN</td>\n",
       "      <td>NaN</td>\n",
       "      <td>NaN</td>\n",
       "      <td>NaN</td>\n",
       "      <td>NaN</td>\n",
       "      <td>NaN</td>\n",
       "      <td>NaN</td>\n",
       "      <td>NaN</td>\n",
       "      <td>NaN</td>\n",
       "      <td>NaN</td>\n",
       "      <td>NaN</td>\n",
       "      <td>NaN</td>\n",
       "      <td>NaN</td>\n",
       "      <td>NaN</td>\n",
       "      <td>NaN</td>\n",
       "      <td>NaN</td>\n",
       "      <td>NaN</td>\n",
       "      <td>NaN</td>\n",
       "      <td>NaN</td>\n",
       "      <td>NaN</td>\n",
       "      <td>NaN</td>\n",
       "      <td>NaN</td>\n",
       "      <td>NaN</td>\n",
       "      <td>NaN</td>\n",
       "      <td>NaN</td>\n",
       "      <td>NaN</td>\n",
       "      <td>NaN</td>\n",
       "      <td>NaN</td>\n",
       "      <td>NaN</td>\n",
       "    </tr>\n",
       "    <tr>\n",
       "      <th>4</th>\n",
       "      <td>4f2d8ab171c80ec8364f7c12e35b23ad</td>\n",
       "      <td>345ecd01c38d18a9036ed96c73b8d066</td>\n",
       "      <td>13056.0</td>\n",
       "      <td>campinas</td>\n",
       "      <td>SP</td>\n",
       "      <td>NaN</td>\n",
       "      <td>NaN</td>\n",
       "      <td>NaN</td>\n",
       "      <td>NaN</td>\n",
       "      <td>NaN</td>\n",
       "      <td>NaN</td>\n",
       "      <td>NaN</td>\n",
       "      <td>NaN</td>\n",
       "      <td>NaN</td>\n",
       "      <td>NaN</td>\n",
       "      <td>NaN</td>\n",
       "      <td>NaN</td>\n",
       "      <td>NaN</td>\n",
       "      <td>NaN</td>\n",
       "      <td>NaN</td>\n",
       "      <td>NaN</td>\n",
       "      <td>NaN</td>\n",
       "      <td>NaN</td>\n",
       "      <td>NaN</td>\n",
       "      <td>NaN</td>\n",
       "      <td>NaN</td>\n",
       "      <td>NaN</td>\n",
       "      <td>NaN</td>\n",
       "      <td>NaN</td>\n",
       "      <td>NaN</td>\n",
       "      <td>NaN</td>\n",
       "      <td>NaN</td>\n",
       "      <td>NaN</td>\n",
       "      <td>NaN</td>\n",
       "      <td>NaN</td>\n",
       "      <td>NaN</td>\n",
       "      <td>NaN</td>\n",
       "      <td>NaN</td>\n",
       "      <td>NaN</td>\n",
       "      <td>NaN</td>\n",
       "      <td>NaN</td>\n",
       "      <td>NaN</td>\n",
       "      <td>NaN</td>\n",
       "      <td>NaN</td>\n",
       "    </tr>\n",
       "  </tbody>\n",
       "</table>\n",
       "</div>"
      ],
      "text/plain": [
       "                        customer_id                customer_unique_id  \\\n",
       "0  06b8999e2fba1a1fbc88172c00ba8bc7  861eff4711a542e4b93843c6dd7febb0   \n",
       "1  18955e83d337fd6b2def6b18a428ac77  290c77bc529b7ac935b93aa66c333dc3   \n",
       "2  4e7b3e00288586ebd08712fdd0374a03  060e732b5b29e8181a18229c7b0b2b5e   \n",
       "3  b2b6027bc5c5109e529d4dc6358b12c3  259dac757896d24d7702b9acbbff3f3c   \n",
       "4  4f2d8ab171c80ec8364f7c12e35b23ad  345ecd01c38d18a9036ed96c73b8d066   \n",
       "\n",
       "   customer_zip_code_prefix          customer_city customer_state  \\\n",
       "0                   14409.0                 franca             SP   \n",
       "1                    9790.0  sao bernardo do campo             SP   \n",
       "2                    1151.0              sao paulo             SP   \n",
       "3                    8775.0        mogi das cruzes             SP   \n",
       "4                   13056.0               campinas             SP   \n",
       "\n",
       "   geolocation_zip_code_prefix  geolocation_lat  geolocation_lng  \\\n",
       "0                          NaN              NaN              NaN   \n",
       "1                          NaN              NaN              NaN   \n",
       "2                          NaN              NaN              NaN   \n",
       "3                          NaN              NaN              NaN   \n",
       "4                          NaN              NaN              NaN   \n",
       "\n",
       "  geolocation_city geolocation_state order_id order_status  \\\n",
       "0              NaN               NaN      NaN          NaN   \n",
       "1              NaN               NaN      NaN          NaN   \n",
       "2              NaN               NaN      NaN          NaN   \n",
       "3              NaN               NaN      NaN          NaN   \n",
       "4              NaN               NaN      NaN          NaN   \n",
       "\n",
       "  order_purchase_timestamp order_approved_at order_delivered_carrier_date  \\\n",
       "0                      NaN               NaN                          NaN   \n",
       "1                      NaN               NaN                          NaN   \n",
       "2                      NaN               NaN                          NaN   \n",
       "3                      NaN               NaN                          NaN   \n",
       "4                      NaN               NaN                          NaN   \n",
       "\n",
       "  order_delivered_customer_date order_estimated_delivery_date  order_item_id  \\\n",
       "0                           NaN                           NaN            NaN   \n",
       "1                           NaN                           NaN            NaN   \n",
       "2                           NaN                           NaN            NaN   \n",
       "3                           NaN                           NaN            NaN   \n",
       "4                           NaN                           NaN            NaN   \n",
       "\n",
       "  product_id seller_id shipping_limit_date  price  freight_value  \\\n",
       "0        NaN       NaN                 NaN    NaN            NaN   \n",
       "1        NaN       NaN                 NaN    NaN            NaN   \n",
       "2        NaN       NaN                 NaN    NaN            NaN   \n",
       "3        NaN       NaN                 NaN    NaN            NaN   \n",
       "4        NaN       NaN                 NaN    NaN            NaN   \n",
       "\n",
       "   payment_sequential payment_type  payment_installments  payment_value  \\\n",
       "0                 NaN          NaN                   NaN            NaN   \n",
       "1                 NaN          NaN                   NaN            NaN   \n",
       "2                 NaN          NaN                   NaN            NaN   \n",
       "3                 NaN          NaN                   NaN            NaN   \n",
       "4                 NaN          NaN                   NaN            NaN   \n",
       "\n",
       "  review_id  review_score review_comment_title review_comment_message  \\\n",
       "0       NaN           NaN                  NaN                    NaN   \n",
       "1       NaN           NaN                  NaN                    NaN   \n",
       "2       NaN           NaN                  NaN                    NaN   \n",
       "3       NaN           NaN                  NaN                    NaN   \n",
       "4       NaN           NaN                  NaN                    NaN   \n",
       "\n",
       "  review_creation_date review_answer_timestamp product_category_name  \\\n",
       "0                  NaN                     NaN                   NaN   \n",
       "1                  NaN                     NaN                   NaN   \n",
       "2                  NaN                     NaN                   NaN   \n",
       "3                  NaN                     NaN                   NaN   \n",
       "4                  NaN                     NaN                   NaN   \n",
       "\n",
       "   product_name_lenght  product_description_lenght  product_photos_qty  \\\n",
       "0                  NaN                         NaN                 NaN   \n",
       "1                  NaN                         NaN                 NaN   \n",
       "2                  NaN                         NaN                 NaN   \n",
       "3                  NaN                         NaN                 NaN   \n",
       "4                  NaN                         NaN                 NaN   \n",
       "\n",
       "   product_weight_g  product_length_cm  product_height_cm  product_width_cm  \\\n",
       "0               NaN                NaN                NaN               NaN   \n",
       "1               NaN                NaN                NaN               NaN   \n",
       "2               NaN                NaN                NaN               NaN   \n",
       "3               NaN                NaN                NaN               NaN   \n",
       "4               NaN                NaN                NaN               NaN   \n",
       "\n",
       "   seller_zip_code_prefix seller_city seller_state  \n",
       "0                     NaN         NaN          NaN  \n",
       "1                     NaN         NaN          NaN  \n",
       "2                     NaN         NaN          NaN  \n",
       "3                     NaN         NaN          NaN  \n",
       "4                     NaN         NaN          NaN  "
      ]
     },
     "execution_count": 4,
     "metadata": {},
     "output_type": "execute_result"
    }
   ],
   "source": [
    "caminho = r'C:\\Users\\USER\\Desktop\\Ironhack\\Github\\Projeto Final - Olist\\Data'\n",
    "lista = []\n",
    "df = pd.DataFrame()\n",
    "\n",
    "for f in os.listdir (caminho + \"/\"):\n",
    "    if f != 'product_category_name_translation.csv':\n",
    "        frames = pd.read_csv(caminho + \"/\" + f)\n",
    "    df = df.append(frames, ignore_index= True)\n",
    "df.head()"
   ]
  },
  {
   "cell_type": "code",
   "execution_count": null,
   "id": "04a9e6e9",
   "metadata": {},
   "outputs": [],
   "source": []
  },
  {
   "cell_type": "markdown",
   "id": "b9c0caab",
   "metadata": {},
   "source": [
    "## Verificando dados"
   ]
  },
  {
   "cell_type": "code",
   "execution_count": null,
   "id": "21a0535c",
   "metadata": {},
   "outputs": [],
   "source": []
  },
  {
   "cell_type": "code",
   "execution_count": 48,
   "id": "8d892afc",
   "metadata": {
    "ExecuteTime": {
     "end_time": "2022-09-29T22:55:39.292077Z",
     "start_time": "2022-09-29T22:55:30.643323Z"
    }
   },
   "outputs": [
    {
     "data": {
      "text/plain": [
       "customer_id                      1355064\n",
       "customer_unique_id               1454505\n",
       "customer_zip_code_prefix         1454505\n",
       "customer_city                    1454505\n",
       "customer_state                   1454505\n",
       "geolocation_zip_code_prefix       553783\n",
       "geolocation_lat                   553783\n",
       "geolocation_lng                   553783\n",
       "geolocation_city                  553783\n",
       "geolocation_state                 553783\n",
       "order_id                         1138745\n",
       "order_status                     1454505\n",
       "order_purchase_timestamp         1454505\n",
       "order_approved_at                1454665\n",
       "order_delivered_carrier_date     1456288\n",
       "order_delivered_customer_date    1457470\n",
       "order_estimated_delivery_date    1454505\n",
       "order_item_id                    1441296\n",
       "product_id                       1408345\n",
       "seller_id                        1435106\n",
       "shipping_limit_date              1441296\n",
       "price                            1441296\n",
       "freight_value                    1441296\n",
       "payment_sequential               1450060\n",
       "payment_type                     1450060\n",
       "payment_installments             1450060\n",
       "payment_value                    1450060\n",
       "review_id                        1454722\n",
       "review_score                     1454722\n",
       "review_comment_title             1542378\n",
       "review_comment_message           1512969\n",
       "review_creation_date             1454722\n",
       "review_answer_timestamp          1454722\n",
       "product_category_name            1521605\n",
       "product_name_lenght              1521605\n",
       "product_description_lenght       1521605\n",
       "product_photos_qty               1521605\n",
       "product_weight_g                 1520997\n",
       "product_length_cm                1520997\n",
       "product_height_cm                1520997\n",
       "product_width_cm                 1520997\n",
       "seller_zip_code_prefix           1547756\n",
       "seller_city                      1547756\n",
       "seller_state                     1547756\n",
       "dtype: int64"
      ]
     },
     "execution_count": 48,
     "metadata": {},
     "output_type": "execute_result"
    }
   ],
   "source": [
    "df.isna().sum()"
   ]
  },
  {
   "cell_type": "code",
   "execution_count": 49,
   "id": "e1379480",
   "metadata": {
    "ExecuteTime": {
     "end_time": "2022-09-29T22:57:17.804605Z",
     "start_time": "2022-09-29T22:57:08.921102Z"
    }
   },
   "outputs": [
    {
     "name": "stdout",
     "output_type": "stream",
     "text": [
      "<class 'pandas.core.frame.DataFrame'>\n",
      "RangeIndex: 1553946 entries, 0 to 1553945\n",
      "Data columns (total 44 columns):\n",
      " #   Column                         Non-Null Count    Dtype  \n",
      "---  ------                         --------------    -----  \n",
      " 0   customer_id                    198882 non-null   object \n",
      " 1   customer_unique_id             99441 non-null    object \n",
      " 2   customer_zip_code_prefix       99441 non-null    float64\n",
      " 3   customer_city                  99441 non-null    object \n",
      " 4   customer_state                 99441 non-null    object \n",
      " 5   geolocation_zip_code_prefix    1000163 non-null  float64\n",
      " 6   geolocation_lat                1000163 non-null  float64\n",
      " 7   geolocation_lng                1000163 non-null  float64\n",
      " 8   geolocation_city               1000163 non-null  object \n",
      " 9   geolocation_state              1000163 non-null  object \n",
      " 10  order_id                       415201 non-null   object \n",
      " 11  order_status                   99441 non-null    object \n",
      " 12  order_purchase_timestamp       99441 non-null    object \n",
      " 13  order_approved_at              99281 non-null    object \n",
      " 14  order_delivered_carrier_date   97658 non-null    object \n",
      " 15  order_delivered_customer_date  96476 non-null    object \n",
      " 16  order_estimated_delivery_date  99441 non-null    object \n",
      " 17  order_item_id                  112650 non-null   float64\n",
      " 18  product_id                     145601 non-null   object \n",
      " 19  seller_id                      118840 non-null   object \n",
      " 20  shipping_limit_date            112650 non-null   object \n",
      " 21  price                          112650 non-null   float64\n",
      " 22  freight_value                  112650 non-null   float64\n",
      " 23  payment_sequential             103886 non-null   float64\n",
      " 24  payment_type                   103886 non-null   object \n",
      " 25  payment_installments           103886 non-null   float64\n",
      " 26  payment_value                  103886 non-null   float64\n",
      " 27  review_id                      99224 non-null    object \n",
      " 28  review_score                   99224 non-null    float64\n",
      " 29  review_comment_title           11568 non-null    object \n",
      " 30  review_comment_message         40977 non-null    object \n",
      " 31  review_creation_date           99224 non-null    object \n",
      " 32  review_answer_timestamp        99224 non-null    object \n",
      " 33  product_category_name          32341 non-null    object \n",
      " 34  product_name_lenght            32341 non-null    float64\n",
      " 35  product_description_lenght     32341 non-null    float64\n",
      " 36  product_photos_qty             32341 non-null    float64\n",
      " 37  product_weight_g               32949 non-null    float64\n",
      " 38  product_length_cm              32949 non-null    float64\n",
      " 39  product_height_cm              32949 non-null    float64\n",
      " 40  product_width_cm               32949 non-null    float64\n",
      " 41  seller_zip_code_prefix         6190 non-null     float64\n",
      " 42  seller_city                    6190 non-null     object \n",
      " 43  seller_state                   6190 non-null     object \n",
      "dtypes: float64(19), object(25)\n",
      "memory usage: 521.6+ MB\n"
     ]
    }
   ],
   "source": [
    "df.info()"
   ]
  },
  {
   "cell_type": "code",
   "execution_count": 1,
   "id": "c132b60c",
   "metadata": {
    "ExecuteTime": {
     "end_time": "2022-10-02T20:03:39.059445Z",
     "start_time": "2022-10-02T20:03:36.027954Z"
    }
   },
   "outputs": [
    {
     "ename": "NameError",
     "evalue": "name 'df' is not defined",
     "output_type": "error",
     "traceback": [
      "\u001b[1;31m---------------------------------------------------------------------------\u001b[0m",
      "\u001b[1;31mNameError\u001b[0m                                 Traceback (most recent call last)",
      "Cell \u001b[1;32mIn [1], line 1\u001b[0m\n\u001b[1;32m----> 1\u001b[0m df\u001b[38;5;241m.\u001b[39mdescribe()\u001b[38;5;241m.\u001b[39mtranspose()\n",
      "\u001b[1;31mNameError\u001b[0m: name 'df' is not defined"
     ]
    }
   ],
   "source": [
    "df.describe().transpose()"
   ]
  },
  {
   "cell_type": "markdown",
   "id": "732c3219",
   "metadata": {},
   "source": [
    "## Analisando dados ausentes"
   ]
  },
  {
   "cell_type": "code",
   "execution_count": 60,
   "id": "5771edfc",
   "metadata": {
    "ExecuteTime": {
     "end_time": "2022-09-29T23:10:54.354277Z",
     "start_time": "2022-09-29T23:10:29.157376Z"
    }
   },
   "outputs": [
    {
     "data": {
      "text/html": [
       "<div>\n",
       "<style scoped>\n",
       "    .dataframe tbody tr th:only-of-type {\n",
       "        vertical-align: middle;\n",
       "    }\n",
       "\n",
       "    .dataframe tbody tr th {\n",
       "        vertical-align: top;\n",
       "    }\n",
       "\n",
       "    .dataframe thead th {\n",
       "        text-align: right;\n",
       "    }\n",
       "</style>\n",
       "<table border=\"1\" class=\"dataframe\">\n",
       "  <thead>\n",
       "    <tr style=\"text-align: right;\">\n",
       "      <th></th>\n",
       "      <th>Total</th>\n",
       "      <th>Percent</th>\n",
       "    </tr>\n",
       "  </thead>\n",
       "  <tbody>\n",
       "    <tr>\n",
       "      <th>seller_state</th>\n",
       "      <td>1547756</td>\n",
       "      <td>0.996017</td>\n",
       "    </tr>\n",
       "    <tr>\n",
       "      <th>seller_city</th>\n",
       "      <td>1547756</td>\n",
       "      <td>0.996017</td>\n",
       "    </tr>\n",
       "    <tr>\n",
       "      <th>seller_zip_code_prefix</th>\n",
       "      <td>1547756</td>\n",
       "      <td>0.996017</td>\n",
       "    </tr>\n",
       "    <tr>\n",
       "      <th>review_comment_title</th>\n",
       "      <td>1542378</td>\n",
       "      <td>0.992556</td>\n",
       "    </tr>\n",
       "    <tr>\n",
       "      <th>product_photos_qty</th>\n",
       "      <td>1521605</td>\n",
       "      <td>0.979188</td>\n",
       "    </tr>\n",
       "  </tbody>\n",
       "</table>\n",
       "</div>"
      ],
      "text/plain": [
       "                          Total   Percent\n",
       "seller_state            1547756  0.996017\n",
       "seller_city             1547756  0.996017\n",
       "seller_zip_code_prefix  1547756  0.996017\n",
       "review_comment_title    1542378  0.992556\n",
       "product_photos_qty      1521605  0.979188"
      ]
     },
     "execution_count": 60,
     "metadata": {},
     "output_type": "execute_result"
    }
   ],
   "source": [
    "total = df.isnull().sum().sort_values(ascending=False)\n",
    "percent = (df.isnull().sum()/df.isnull().count()).sort_values(ascending=False)\n",
    "missing = pd.concat([total, percent], axis=1, keys=['Total', 'Percent'])\n",
    "missing.head()"
   ]
  },
  {
   "cell_type": "markdown",
   "id": "4940f4fc",
   "metadata": {
    "ExecuteTime": {
     "end_time": "2022-09-29T23:03:23.750869Z",
     "start_time": "2022-09-29T23:03:23.743874Z"
    }
   },
   "source": [
    "## Fazendo Drop na coluna"
   ]
  },
  {
   "cell_type": "code",
   "execution_count": 61,
   "id": "f7e9fd12",
   "metadata": {
    "ExecuteTime": {
     "end_time": "2022-09-29T23:10:55.438686Z",
     "start_time": "2022-09-29T23:10:54.913951Z"
    }
   },
   "outputs": [],
   "source": [
    "df.drop(['seller_state', 'seller_city', 'seller_zip_code_prefix', 'review_comment_title', 'product_photos_qty'],axis=1, inplace=True)"
   ]
  },
  {
   "cell_type": "markdown",
   "id": "8d9882ad",
   "metadata": {},
   "source": [
    "Opção para drop em colunas com percentual de numeros ausentes superior a 97% dos dados"
   ]
  },
  {
   "cell_type": "code",
   "execution_count": 62,
   "id": "a7beb290",
   "metadata": {
    "ExecuteTime": {
     "end_time": "2022-09-29T23:11:14.318337Z",
     "start_time": "2022-09-29T23:11:07.155575Z"
    }
   },
   "outputs": [
    {
     "name": "stdout",
     "output_type": "stream",
     "text": [
      "<class 'pandas.core.frame.DataFrame'>\n",
      "RangeIndex: 1553946 entries, 0 to 1553945\n",
      "Data columns (total 39 columns):\n",
      " #   Column                         Non-Null Count    Dtype  \n",
      "---  ------                         --------------    -----  \n",
      " 0   customer_id                    198882 non-null   object \n",
      " 1   customer_unique_id             99441 non-null    object \n",
      " 2   customer_zip_code_prefix       99441 non-null    float64\n",
      " 3   customer_city                  99441 non-null    object \n",
      " 4   customer_state                 99441 non-null    object \n",
      " 5   geolocation_zip_code_prefix    1000163 non-null  float64\n",
      " 6   geolocation_lat                1000163 non-null  float64\n",
      " 7   geolocation_lng                1000163 non-null  float64\n",
      " 8   geolocation_city               1000163 non-null  object \n",
      " 9   geolocation_state              1000163 non-null  object \n",
      " 10  order_id                       415201 non-null   object \n",
      " 11  order_status                   99441 non-null    object \n",
      " 12  order_purchase_timestamp       99441 non-null    object \n",
      " 13  order_approved_at              99281 non-null    object \n",
      " 14  order_delivered_carrier_date   97658 non-null    object \n",
      " 15  order_delivered_customer_date  96476 non-null    object \n",
      " 16  order_estimated_delivery_date  99441 non-null    object \n",
      " 17  order_item_id                  112650 non-null   float64\n",
      " 18  product_id                     145601 non-null   object \n",
      " 19  seller_id                      118840 non-null   object \n",
      " 20  shipping_limit_date            112650 non-null   object \n",
      " 21  price                          112650 non-null   float64\n",
      " 22  freight_value                  112650 non-null   float64\n",
      " 23  payment_sequential             103886 non-null   float64\n",
      " 24  payment_type                   103886 non-null   object \n",
      " 25  payment_installments           103886 non-null   float64\n",
      " 26  payment_value                  103886 non-null   float64\n",
      " 27  review_id                      99224 non-null    object \n",
      " 28  review_score                   99224 non-null    float64\n",
      " 29  review_comment_message         40977 non-null    object \n",
      " 30  review_creation_date           99224 non-null    object \n",
      " 31  review_answer_timestamp        99224 non-null    object \n",
      " 32  product_category_name          32341 non-null    object \n",
      " 33  product_name_lenght            32341 non-null    float64\n",
      " 34  product_description_lenght     32341 non-null    float64\n",
      " 35  product_weight_g               32949 non-null    float64\n",
      " 36  product_length_cm              32949 non-null    float64\n",
      " 37  product_height_cm              32949 non-null    float64\n",
      " 38  product_width_cm               32949 non-null    float64\n",
      "dtypes: float64(17), object(22)\n",
      "memory usage: 462.4+ MB\n"
     ]
    }
   ],
   "source": [
    "df.info()"
   ]
  },
  {
   "cell_type": "markdown",
   "id": "4e1bdf9d",
   "metadata": {},
   "source": [
    "## Pipeline"
   ]
  },
  {
   "cell_type": "code",
   "execution_count": 15,
   "id": "82f3fa9b",
   "metadata": {
    "ExecuteTime": {
     "end_time": "2022-09-29T21:31:58.803214Z",
     "start_time": "2022-09-29T21:31:58.783220Z"
    }
   },
   "outputs": [],
   "source": [
    "from sklearn.pipeline import Pipeline\n",
    "from sklearn.ensemble import GradientBoostingClassifier\n",
    "import sklearn\n",
    "from sklearn.preprocessing import StandardScaler"
   ]
  },
  {
   "cell_type": "code",
   "execution_count": 17,
   "id": "0a1a3c31",
   "metadata": {
    "ExecuteTime": {
     "end_time": "2022-09-29T21:32:12.240881Z",
     "start_time": "2022-09-29T21:32:12.224890Z"
    }
   },
   "outputs": [],
   "source": [
    "scaler = StandardScaler()"
   ]
  },
  {
   "cell_type": "code",
   "execution_count": null,
   "id": "af161bd0",
   "metadata": {},
   "outputs": [],
   "source": []
  },
  {
   "cell_type": "code",
   "execution_count": null,
   "id": "e593c6a4",
   "metadata": {},
   "outputs": [],
   "source": []
  },
  {
   "cell_type": "markdown",
   "id": "3bba0cd3",
   "metadata": {},
   "source": [
    "## Localização"
   ]
  },
  {
   "cell_type": "code",
   "execution_count": null,
   "id": "5f57a152",
   "metadata": {},
   "outputs": [],
   "source": [
    "from opencage.geocoder import OpenCageGeocode\n"
   ]
  }
 ],
 "metadata": {
  "kernelspec": {
   "display_name": "pycaret",
   "language": "python",
   "name": "pycaret"
  },
  "language_info": {
   "codemirror_mode": {
    "name": "ipython",
    "version": 3
   },
   "file_extension": ".py",
   "mimetype": "text/x-python",
   "name": "python",
   "nbconvert_exporter": "python",
   "pygments_lexer": "ipython3",
   "version": "3.8.13"
  },
  "nbTranslate": {
   "displayLangs": [
    "*"
   ],
   "hotkey": "alt-t",
   "langInMainMenu": true,
   "sourceLang": "en",
   "targetLang": "fr",
   "useGoogleTranslate": true
  },
  "toc": {
   "base_numbering": 1,
   "nav_menu": {},
   "number_sections": true,
   "sideBar": true,
   "skip_h1_title": false,
   "title_cell": "Table of Contents",
   "title_sidebar": "Contents",
   "toc_cell": false,
   "toc_position": {},
   "toc_section_display": true,
   "toc_window_display": false
  },
  "varInspector": {
   "cols": {
    "lenName": 16,
    "lenType": 16,
    "lenVar": 40
   },
   "kernels_config": {
    "python": {
     "delete_cmd_postfix": "",
     "delete_cmd_prefix": "del ",
     "library": "var_list.py",
     "varRefreshCmd": "print(var_dic_list())"
    },
    "r": {
     "delete_cmd_postfix": ") ",
     "delete_cmd_prefix": "rm(",
     "library": "var_list.r",
     "varRefreshCmd": "cat(var_dic_list()) "
    }
   },
   "types_to_exclude": [
    "module",
    "function",
    "builtin_function_or_method",
    "instance",
    "_Feature"
   ],
   "window_display": false
  }
 },
 "nbformat": 4,
 "nbformat_minor": 5
}
