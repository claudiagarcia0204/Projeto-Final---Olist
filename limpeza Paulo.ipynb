{
 "cells": [
  {
   "cell_type": "code",
   "execution_count": 2,
   "id": "f7ffe595",
   "metadata": {
    "ExecuteTime": {
     "end_time": "2022-10-04T12:49:17.999253Z",
     "start_time": "2022-10-04T12:49:06.840321Z"
    }
   },
   "outputs": [],
   "source": [
    "import pandas as pd\n",
    "import numpy as np\n",
    "import sqlalchemy as db\n"
   ]
  },
  {
   "cell_type": "markdown",
   "id": "7d01c786",
   "metadata": {},
   "source": [
    "# DataSet  Itens"
   ]
  },
  {
   "cell_type": "code",
   "execution_count": null,
   "id": "a245793b",
   "metadata": {
    "ExecuteTime": {
     "end_time": "2022-10-03T12:55:35.741401Z",
     "start_time": "2022-10-03T12:55:35.443248Z"
    }
   },
   "outputs": [],
   "source": [
    "itens = pd.read_csv(\"data\\olist_order_items_dataset.csv\")\n",
    "# tabela 'itens' tem 112650 linhas e 8 colunas (order_id, product_id, seller_id,shipping_limit_date, price,freight_value  )"
   ]
  },
  {
   "cell_type": "code",
   "execution_count": null,
   "id": "7301c1ad",
   "metadata": {
    "ExecuteTime": {
     "end_time": "2022-10-03T17:07:19.587999Z",
     "start_time": "2022-10-03T17:07:18.084920Z"
    }
   },
   "outputs": [],
   "source": [
    "itens.to_csv('itens.csv')\n"
   ]
  },
  {
   "cell_type": "markdown",
   "id": "abc73745",
   "metadata": {},
   "source": [
    "# DataSet Ordens"
   ]
  },
  {
   "cell_type": "code",
   "execution_count": null,
   "id": "efa4b7a4",
   "metadata": {
    "ExecuteTime": {
     "end_time": "2022-10-03T12:58:36.670337Z",
     "start_time": "2022-10-03T12:58:36.157123Z"
    }
   },
   "outputs": [],
   "source": [
    "ordens = pd.read_csv(\"data\\olist_orders_dataset.csv\")\n",
    "\n",
    "'''Tabela 'ordens' tem 99441 linhas e 9 colunas ('order_id', 'customer_id', 'order_status', 'order_purchase_timestamp',\n",
    "'order_approved_at', 'order_delivered_carrier_date',\n",
    "'order_delivered_customer_date', 'order_estimated_delivery_date)\n",
    "Nulos (order_approved_at - 160, order_delivered_carrier_date -  1783, order_delivered_customer_date- 2965)'''\n"
   ]
  },
  {
   "cell_type": "markdown",
   "id": "e1c9c129",
   "metadata": {},
   "source": [
    "## Transformando Datetime (ordens)"
   ]
  },
  {
   "cell_type": "code",
   "execution_count": null,
   "id": "2935b278",
   "metadata": {
    "ExecuteTime": {
     "end_time": "2022-10-03T13:12:07.969488Z",
     "start_time": "2022-10-03T13:12:07.546989Z"
    }
   },
   "outputs": [],
   "source": [
    "#  Transformar Datetime\n",
    "times_cols = ['order_purchase_timestamp', 'order_approved_at', 'order_delivered_carrier_date', 'order_estimated_delivery_date', 'order_delivered_customer_date']\n",
    "for col in times_cols:\n",
    "    ordens[col] = pd.to_datetime(ordens[col])\n"
   ]
  },
  {
   "cell_type": "markdown",
   "id": "fe8d0d85",
   "metadata": {
    "ExecuteTime": {
     "end_time": "2022-10-03T13:25:46.026038Z",
     "start_time": "2022-10-03T13:25:46.012076Z"
    }
   },
   "source": [
    "## Tratando linhas nulas(ordens)"
   ]
  },
  {
   "cell_type": "code",
   "execution_count": null,
   "id": "31aa6f6e",
   "metadata": {
    "ExecuteTime": {
     "end_time": "2022-10-03T17:27:10.048620Z",
     "start_time": "2022-10-03T17:27:09.835644Z"
    }
   },
   "outputs": [],
   "source": [
    "# Convertendo linhas nulas por informações próximas\n",
    "ordens[\"order_approved_at\"].fillna(ordens[\"order_purchase_timestamp\"], inplace=True)\n",
    "ordens[\"order_delivered_customer_date\"].fillna(ordens[\"order_estimated_delivery_date\"], inplace=True)\n",
    "ordens[\"order_delivered_carrier_date\"].fillna(ordens[\"order_delivered_customer_date\"], inplace=True)"
   ]
  },
  {
   "cell_type": "code",
   "execution_count": null,
   "id": "04f15984",
   "metadata": {
    "ExecuteTime": {
     "end_time": "2022-10-03T17:27:15.423061Z",
     "start_time": "2022-10-03T17:27:13.443308Z"
    }
   },
   "outputs": [],
   "source": [
    "ordens.to_csv('Data/ordens.csv')\n"
   ]
  },
  {
   "cell_type": "markdown",
   "id": "765ef56a",
   "metadata": {},
   "source": [
    "# DataSet Avaliações"
   ]
  },
  {
   "cell_type": "code",
   "execution_count": null,
   "id": "336bd010",
   "metadata": {
    "ExecuteTime": {
     "end_time": "2022-10-03T14:12:30.211765Z",
     "start_time": "2022-10-03T14:12:29.786537Z"
    }
   },
   "outputs": [],
   "source": [
    "avaliacoes = pd.read_csv(\"data\\olist_order_reviews_dataset.csv\")\n",
    "\n",
    "'''Tabela 'avaliacoes' tem 99224 linhas e 7 colunas (review_id,order_id, review_score, \n",
    "review_comment_title, review_comment_message, review_creation_date, review_answer_timestamp)'''   "
   ]
  },
  {
   "cell_type": "markdown",
   "id": "17b97a91",
   "metadata": {},
   "source": [
    "## Dropando as colunas 'review_comment_title', 'review_comment_message'"
   ]
  },
  {
   "cell_type": "code",
   "execution_count": null,
   "id": "c30248bf",
   "metadata": {
    "ExecuteTime": {
     "end_time": "2022-10-03T14:12:38.078206Z",
     "start_time": "2022-10-03T14:12:38.050838Z"
    }
   },
   "outputs": [],
   "source": [
    "avaliacoes.drop(['review_comment_title', 'review_comment_message'],axis=1, inplace=True)\n",
    "\n",
    "'''Após a limpeza o dataframe possui 99224 linhas e 5 colunas (review_id,order_id,review_score,\n",
    " review_creation_date,review_answer_timestamp) '''   "
   ]
  },
  {
   "cell_type": "code",
   "execution_count": null,
   "id": "f7f124f2",
   "metadata": {
    "ExecuteTime": {
     "end_time": "2022-10-03T17:44:10.769742Z",
     "start_time": "2022-10-03T17:44:10.281815Z"
    }
   },
   "outputs": [],
   "source": [
    "avaliacoes.to_csv('Data/avaliacoes.csv')"
   ]
  },
  {
   "cell_type": "markdown",
   "id": "ed1e5767",
   "metadata": {
    "ExecuteTime": {
     "end_time": "2022-10-03T14:29:27.508999Z",
     "start_time": "2022-10-03T14:29:27.499024Z"
    }
   },
   "source": [
    "# DataSet Geolocal"
   ]
  },
  {
   "cell_type": "code",
   "execution_count": null,
   "id": "3e022fd9",
   "metadata": {},
   "outputs": [],
   "source": []
  },
  {
   "cell_type": "code",
   "execution_count": null,
   "id": "a1c0f2bd",
   "metadata": {
    "ExecuteTime": {
     "end_time": "2022-10-03T17:50:57.368566Z",
     "start_time": "2022-10-03T17:50:56.586833Z"
    }
   },
   "outputs": [],
   "source": [
    "geolocal = pd.read_csv(\"data\\olist_geolocation_dataset.csv\") "
   ]
  },
  {
   "cell_type": "code",
   "execution_count": null,
   "id": "29a21b06",
   "metadata": {
    "ExecuteTime": {
     "end_time": "2022-10-03T18:05:53.448068Z",
     "start_time": "2022-10-03T18:05:52.904904Z"
    }
   },
   "outputs": [],
   "source": [
    "geolocal.drop_duplicates(inplace=True)"
   ]
  },
  {
   "cell_type": "code",
   "execution_count": null,
   "id": "6c5719c2",
   "metadata": {
    "ExecuteTime": {
     "end_time": "2022-10-03T18:06:02.701838Z",
     "start_time": "2022-10-03T18:06:02.681857Z"
    }
   },
   "outputs": [],
   "source": [
    "geolocal"
   ]
  },
  {
   "cell_type": "code",
   "execution_count": null,
   "id": "da92bdbc",
   "metadata": {
    "ExecuteTime": {
     "end_time": "2022-10-03T18:05:34.252836Z",
     "start_time": "2022-10-03T18:05:34.171057Z"
    }
   },
   "outputs": [],
   "source": [
    "geolocal['geolocation_city'].value_counts()"
   ]
  },
  {
   "cell_type": "code",
   "execution_count": null,
   "id": "b34b4a23",
   "metadata": {
    "ExecuteTime": {
     "end_time": "2022-10-03T17:10:02.119386Z",
     "start_time": "2022-10-03T17:09:55.723025Z"
    }
   },
   "outputs": [],
   "source": [
    "geolocal.to_csv('Data/geolocal.csv')"
   ]
  },
  {
   "cell_type": "markdown",
   "id": "d0698715",
   "metadata": {
    "ExecuteTime": {
     "end_time": "2022-10-03T14:39:16.477112Z",
     "start_time": "2022-10-03T14:39:16.459099Z"
    }
   },
   "source": [
    "# DataSet Produtos"
   ]
  },
  {
   "cell_type": "code",
   "execution_count": null,
   "id": "b078eecd",
   "metadata": {
    "ExecuteTime": {
     "end_time": "2022-10-03T14:43:36.674980Z",
     "start_time": "2022-10-03T14:43:36.615986Z"
    }
   },
   "outputs": [],
   "source": [
    "produtos = pd.read_csv(\"data\\olist_products_dataset.csv\") \n",
    "'''32340 linhas com 6 colunas '''"
   ]
  },
  {
   "cell_type": "code",
   "execution_count": null,
   "id": "f10ef445",
   "metadata": {
    "ExecuteTime": {
     "end_time": "2022-10-03T16:46:55.032983Z",
     "start_time": "2022-10-03T16:46:54.989582Z"
    }
   },
   "outputs": [],
   "source": [
    "produtos"
   ]
  },
  {
   "cell_type": "markdown",
   "id": "53940261",
   "metadata": {
    "ExecuteTime": {
     "end_time": "2022-10-03T16:45:23.657591Z",
     "start_time": "2022-10-03T16:45:23.645626Z"
    }
   },
   "source": [
    "## Dropando linhas em nulo"
   ]
  },
  {
   "cell_type": "code",
   "execution_count": null,
   "id": "32ff0bcc",
   "metadata": {
    "ExecuteTime": {
     "end_time": "2022-10-03T16:44:00.613859Z",
     "start_time": "2022-10-03T16:44:00.535073Z"
    }
   },
   "outputs": [],
   "source": [
    "produtos.dropna(inplace=True)"
   ]
  },
  {
   "cell_type": "code",
   "execution_count": null,
   "id": "44e141d7",
   "metadata": {
    "ExecuteTime": {
     "end_time": "2022-10-03T16:50:35.863476Z",
     "start_time": "2022-10-03T16:50:35.708796Z"
    }
   },
   "outputs": [],
   "source": [
    "produtos.drop(['product_name_lenght', 'product_description_lenght', 'product_photos_qty'],axis=1, inplace=True)"
   ]
  },
  {
   "cell_type": "code",
   "execution_count": null,
   "id": "42fc2aaf",
   "metadata": {
    "ExecuteTime": {
     "end_time": "2022-10-03T18:22:53.617329Z",
     "start_time": "2022-10-03T18:22:53.604372Z"
    }
   },
   "outputs": [],
   "source": [
    "produtos['product_category_name'].value_counts().head(10)"
   ]
  },
  {
   "cell_type": "code",
   "execution_count": null,
   "id": "5e08d5c6",
   "metadata": {
    "ExecuteTime": {
     "end_time": "2022-10-03T17:10:23.917862Z",
     "start_time": "2022-10-03T17:10:23.501248Z"
    }
   },
   "outputs": [],
   "source": [
    "produtos.to_csv('Data/produtos.csv')"
   ]
  },
  {
   "cell_type": "code",
   "execution_count": null,
   "id": "8aa0a8bd",
   "metadata": {
    "ExecuteTime": {
     "end_time": "2022-10-03T22:42:01.009310Z",
     "start_time": "2022-10-03T22:41:59.893156Z"
    }
   },
   "outputs": [],
   "source": [
    "ordens = pd.read_csv(\"Data/avaliacoes.csv\")\n"
   ]
  },
  {
   "cell_type": "code",
   "execution_count": null,
   "id": "b028867c",
   "metadata": {
    "ExecuteTime": {
     "end_time": "2022-10-03T22:43:11.127140Z",
     "start_time": "2022-10-03T22:43:11.017323Z"
    }
   },
   "outputs": [],
   "source": [
    "produtos['product_category_name'].value_counts()"
   ]
  },
  {
   "cell_type": "code",
   "execution_count": 26,
   "id": "a857eec0",
   "metadata": {
    "ExecuteTime": {
     "end_time": "2022-10-04T14:22:58.761703Z",
     "start_time": "2022-10-04T14:22:54.851239Z"
    }
   },
   "outputs": [],
   "source": [
    "itens = pd.read_csv(\"Data/itens.csv\") \n",
    "ordens = pd.read_csv(\"Data/ordens.csv\")\n",
    "produtos = pd.read_csv(\"Data/produtos.csv\")\n",
    "geolocal = pd.read_csv(\"Data/geolocal.csv\")\n",
    "clientes = pd.read_csv(\"Data/clientes.csv\")\n",
    "avaliacoes = pd.read_csv('Data/avaliacoes.csv')\n",
    "vendedores = pd.read_csv(\"Data/vendedores.csv\")\n",
    "pagamentos = pd.read_csv('Data/pagamentos.csv')"
   ]
  },
  {
   "cell_type": "code",
   "execution_count": 67,
   "id": "c3966c59",
   "metadata": {
    "ExecuteTime": {
     "end_time": "2022-10-04T15:05:17.397451Z",
     "start_time": "2022-10-04T15:05:17.282709Z"
    }
   },
   "outputs": [],
   "source": [
    "df = vendedores.merge(itens, left_on='seller_id',right_on='seller_id', how='right')"
   ]
  },
  {
   "cell_type": "code",
   "execution_count": 71,
   "id": "e6c7b542",
   "metadata": {
    "ExecuteTime": {
     "end_time": "2022-10-04T15:06:15.555751Z",
     "start_time": "2022-10-04T15:06:15.378019Z"
    }
   },
   "outputs": [],
   "source": [
    "df = df.merge(ordens, left_on='order_id', right_on='order_id', how='right')"
   ]
  },
  {
   "cell_type": "code",
   "execution_count": 77,
   "id": "a562bf6e",
   "metadata": {
    "ExecuteTime": {
     "end_time": "2022-10-04T15:11:51.952991Z",
     "start_time": "2022-10-04T15:11:51.874165Z"
    }
   },
   "outputs": [],
   "source": [
    "df.drop(['Unnamed: 0_x', 'Unnamed: 0_y', 'Unnamed: 0'],axis=1, inplace=True)\n"
   ]
  },
  {
   "cell_type": "code",
   "execution_count": 79,
   "id": "d75b92a3",
   "metadata": {
    "ExecuteTime": {
     "end_time": "2022-10-04T15:12:23.884814Z",
     "start_time": "2022-10-04T15:12:23.762143Z"
    }
   },
   "outputs": [],
   "source": [
    "df = df.merge(produtos, left_on='product_id', right_on='product_id',how='left' )"
   ]
  },
  {
   "cell_type": "code",
   "execution_count": 81,
   "id": "370786c8",
   "metadata": {
    "ExecuteTime": {
     "end_time": "2022-10-04T15:14:31.453080Z",
     "start_time": "2022-10-04T15:14:31.259267Z"
    }
   },
   "outputs": [],
   "source": [
    "df = df.merge(ordens, left_on='order_id', right_on='order_id',how='right' )"
   ]
  },
  {
   "cell_type": "code",
   "execution_count": 85,
   "id": "dc61ab60",
   "metadata": {
    "ExecuteTime": {
     "end_time": "2022-10-04T15:15:46.581839Z",
     "start_time": "2022-10-04T15:15:46.354597Z"
    }
   },
   "outputs": [],
   "source": [
    "df = df.merge(avaliacoes, left_on='order_id', right_on='order_id',how='right' )"
   ]
  },
  {
   "cell_type": "code",
   "execution_count": 91,
   "id": "fbe41e91",
   "metadata": {
    "ExecuteTime": {
     "end_time": "2022-10-04T15:24:13.109555Z",
     "start_time": "2022-10-04T15:24:12.997485Z"
    }
   },
   "outputs": [
    {
     "data": {
      "text/plain": [
       "5    63596\n",
       "4    21348\n",
       "1    14775\n",
       "3     9476\n",
       "2     3936\n",
       "Name: review_score, dtype: int64"
      ]
     },
     "execution_count": 91,
     "metadata": {},
     "output_type": "execute_result"
    }
   ],
   "source": [
    "df['review_score'].value_counts()"
   ]
  },
  {
   "cell_type": "code",
   "execution_count": 13,
   "id": "fe1eaae9",
   "metadata": {
    "ExecuteTime": {
     "end_time": "2022-10-04T12:31:34.943705Z",
     "start_time": "2022-10-04T12:30:23.110161Z"
    }
   },
   "outputs": [
    {
     "data": {
      "text/plain": [
       "3095"
      ]
     },
     "execution_count": 13,
     "metadata": {},
     "output_type": "execute_result"
    }
   ],
   "source": [
    "ordens.to_sql('ordens', con=conn, index=False, if_exists='replace')\n",
    "produtos.to_sql('produtos', con=conn, index=False, if_exists='replace')\n",
    "geolocal.to_sql('geolocal', con=conn, index=False, if_exists='replace')\n",
    "clientes.to_sql('clientes', con=conn, index=False, if_exists='replace')\n",
    "avaliacoes.to_sql('avaliacoes', con=conn, index=False, if_exists='replace')\n",
    "vendedores.to_sql('vendedores', con=conn, index=False, if_exists='replace')\n"
   ]
  },
  {
   "cell_type": "code",
   "execution_count": 12,
   "id": "ef624d67",
   "metadata": {
    "ExecuteTime": {
     "end_time": "2022-10-04T13:24:33.276266Z",
     "start_time": "2022-10-04T13:24:33.122659Z"
    }
   },
   "outputs": [
    {
     "data": {
      "text/plain": [
       "06b8999e2fba1a1fbc88172c00ba8bc7    1\n",
       "c023f30c1147aeb0358474f3b1dbc707    1\n",
       "b5cbf43f42281920a175fc99650c91d6    1\n",
       "19f4e983f8f05b7de16670f8a0cf0ac7    1\n",
       "229ac14c6ee6d6a606264ebcc861beb7    1\n",
       "                                   ..\n",
       "31665bd5bc542687ab54c9fd9ed9917b    1\n",
       "37fb9cce079a4887c96b59bae2011d05    1\n",
       "1d815f3ad9b2017b6da2c4f1cbb1180b    1\n",
       "6b05c8f3a25a71005d5eb9b51766c333    1\n",
       "274fa6071e5e17fe303b9748641082c8    1\n",
       "Name: customer_id, Length: 99441, dtype: int64"
      ]
     },
     "execution_count": 12,
     "metadata": {},
     "output_type": "execute_result"
    }
   ],
   "source": [
    "clientes['customer_id'].value_counts()"
   ]
  },
  {
   "cell_type": "code",
   "execution_count": null,
   "id": "70840018",
   "metadata": {
    "ExecuteTime": {
     "end_time": "2022-10-04T11:36:51.231444Z",
     "start_time": "2022-10-04T11:36:51.192197Z"
    }
   },
   "outputs": [],
   "source": [
    "ordens['customer_id'].count()"
   ]
  },
  {
   "cell_type": "code",
   "execution_count": null,
   "id": "dd12b3e8",
   "metadata": {
    "ExecuteTime": {
     "end_time": "2022-10-04T11:35:40.804936Z",
     "start_time": "2022-10-04T11:35:40.288974Z"
    }
   },
   "outputs": [],
   "source": [
    "ordens = pd.read_csv('Data/ordens.csv')"
   ]
  },
  {
   "cell_type": "code",
   "execution_count": 6,
   "id": "376f2ced",
   "metadata": {
    "ExecuteTime": {
     "end_time": "2022-10-04T12:20:25.943704Z",
     "start_time": "2022-10-04T12:20:09.589969Z"
    }
   },
   "outputs": [
    {
     "name": "stdout",
     "output_type": "stream",
     "text": [
      "Collecting pymysql==1.0.2\n",
      "  Using cached PyMySQL-1.0.2-py3-none-any.whl (43 kB)\n",
      "Installing collected packages: pymysql\n",
      "Successfully installed pymysql-1.0.2\n",
      "Note: you may need to restart the kernel to use updated packages.\n"
     ]
    }
   ],
   "source": [
    "pip install pymysql==1.0.2\n"
   ]
  },
  {
   "cell_type": "code",
   "execution_count": 9,
   "id": "8db77f3a",
   "metadata": {
    "ExecuteTime": {
     "end_time": "2022-10-04T12:20:58.019936Z",
     "start_time": "2022-10-04T12:20:57.897634Z"
    }
   },
   "outputs": [],
   "source": [
    "db_server='pymysql'\n",
    "user='root'\n",
    "db_port = '3306'\n",
    "password = 'ironhack'\n",
    "ip = 'localhost'\n",
    "db_name = 'olist'\n",
    "engine = db.create_engine(f'mysql+{db_server}://{user}:{password}@{ip}:{db_port}/{db_name}?charset=utf8')\n",
    "conn = engine.connect()\n"
   ]
  },
  {
   "cell_type": "code",
   "execution_count": 12,
   "id": "6dab9b79",
   "metadata": {
    "ExecuteTime": {
     "end_time": "2022-10-04T12:24:39.071601Z",
     "start_time": "2022-10-04T12:24:24.797971Z"
    }
   },
   "outputs": [
    {
     "data": {
      "text/plain": [
       "112650"
      ]
     },
     "execution_count": 12,
     "metadata": {},
     "output_type": "execute_result"
    }
   ],
   "source": [
    "itens.to_sql('itens', con=conn, index=False, if_exists='replace')"
   ]
  },
  {
   "cell_type": "code",
   "execution_count": 92,
   "id": "eb22ed6f",
   "metadata": {
    "ExecuteTime": {
     "end_time": "2022-10-04T15:27:32.553753Z",
     "start_time": "2022-10-04T15:27:32.329281Z"
    }
   },
   "outputs": [
    {
     "data": {
      "text/html": [
       "<div>\n",
       "<style scoped>\n",
       "    .dataframe tbody tr th:only-of-type {\n",
       "        vertical-align: middle;\n",
       "    }\n",
       "\n",
       "    .dataframe tbody tr th {\n",
       "        vertical-align: top;\n",
       "    }\n",
       "\n",
       "    .dataframe thead th {\n",
       "        text-align: right;\n",
       "    }\n",
       "</style>\n",
       "<table border=\"1\" class=\"dataframe\">\n",
       "  <thead>\n",
       "    <tr style=\"text-align: right;\">\n",
       "      <th></th>\n",
       "      <th>seller_id</th>\n",
       "      <th>seller_zip_code_prefix</th>\n",
       "      <th>seller_city</th>\n",
       "      <th>seller_state</th>\n",
       "      <th>order_id</th>\n",
       "      <th>order_item_id</th>\n",
       "      <th>product_id</th>\n",
       "      <th>shipping_limit_date</th>\n",
       "      <th>price</th>\n",
       "      <th>freight_value</th>\n",
       "      <th>...</th>\n",
       "      <th>order_status_y</th>\n",
       "      <th>order_purchase_timestamp_y</th>\n",
       "      <th>order_approved_at_y</th>\n",
       "      <th>order_delivered_carrier_date_y</th>\n",
       "      <th>order_delivered_customer_date_y</th>\n",
       "      <th>order_estimated_delivery_date_y</th>\n",
       "      <th>review_id</th>\n",
       "      <th>review_score</th>\n",
       "      <th>review_creation_date</th>\n",
       "      <th>review_answer_timestamp</th>\n",
       "    </tr>\n",
       "  </thead>\n",
       "  <tbody>\n",
       "    <tr>\n",
       "      <th>0</th>\n",
       "      <td>6d803cb79cc31c41c4c789a75933b3c7</td>\n",
       "      <td>14600.0</td>\n",
       "      <td>sao joaquim da barra</td>\n",
       "      <td>SP</td>\n",
       "      <td>73fc7af87114b39712e6da79b0a377eb</td>\n",
       "      <td>1.0</td>\n",
       "      <td>fd25ab760bfbba13c198fa3b4f1a0cd3</td>\n",
       "      <td>2018-01-18 15:47:59</td>\n",
       "      <td>185.00</td>\n",
       "      <td>13.63</td>\n",
       "      <td>...</td>\n",
       "      <td>delivered</td>\n",
       "      <td>2018-01-11 15:30:49</td>\n",
       "      <td>2018-01-11 15:47:59</td>\n",
       "      <td>2018-01-12 21:57:22</td>\n",
       "      <td>2018-01-17 18:42:41</td>\n",
       "      <td>2018-02-02</td>\n",
       "      <td>7bc2406110b926393aa56f80a40eba40</td>\n",
       "      <td>4</td>\n",
       "      <td>2018-01-18 00:00:00</td>\n",
       "      <td>2018-01-18 21:46:59</td>\n",
       "    </tr>\n",
       "    <tr>\n",
       "      <th>1</th>\n",
       "      <td>6d803cb79cc31c41c4c789a75933b3c7</td>\n",
       "      <td>14600.0</td>\n",
       "      <td>sao joaquim da barra</td>\n",
       "      <td>SP</td>\n",
       "      <td>73fc7af87114b39712e6da79b0a377eb</td>\n",
       "      <td>2.0</td>\n",
       "      <td>fd25ab760bfbba13c198fa3b4f1a0cd3</td>\n",
       "      <td>2018-01-18 15:47:59</td>\n",
       "      <td>185.00</td>\n",
       "      <td>13.63</td>\n",
       "      <td>...</td>\n",
       "      <td>delivered</td>\n",
       "      <td>2018-01-11 15:30:49</td>\n",
       "      <td>2018-01-11 15:47:59</td>\n",
       "      <td>2018-01-12 21:57:22</td>\n",
       "      <td>2018-01-17 18:42:41</td>\n",
       "      <td>2018-02-02</td>\n",
       "      <td>7bc2406110b926393aa56f80a40eba40</td>\n",
       "      <td>4</td>\n",
       "      <td>2018-01-18 00:00:00</td>\n",
       "      <td>2018-01-18 21:46:59</td>\n",
       "    </tr>\n",
       "    <tr>\n",
       "      <th>2</th>\n",
       "      <td>8e6d7754bc7e0f22c96d255ebda59eba</td>\n",
       "      <td>12233.0</td>\n",
       "      <td>sao jose dos campos</td>\n",
       "      <td>SP</td>\n",
       "      <td>a548910a1c6147796b98fdf73dbeba33</td>\n",
       "      <td>1.0</td>\n",
       "      <td>be0dbdc3d67d55727a65d4cd696ca73c</td>\n",
       "      <td>2018-03-06 12:48:39</td>\n",
       "      <td>79.79</td>\n",
       "      <td>8.30</td>\n",
       "      <td>...</td>\n",
       "      <td>delivered</td>\n",
       "      <td>2018-02-28 12:25:19</td>\n",
       "      <td>2018-02-28 12:48:39</td>\n",
       "      <td>2018-03-02 19:08:15</td>\n",
       "      <td>2018-03-09 23:17:20</td>\n",
       "      <td>2018-03-14</td>\n",
       "      <td>80e641a11e56f04c1ad469d5645fdfde</td>\n",
       "      <td>5</td>\n",
       "      <td>2018-03-10 00:00:00</td>\n",
       "      <td>2018-03-11 03:05:13</td>\n",
       "    </tr>\n",
       "    <tr>\n",
       "      <th>3</th>\n",
       "      <td>a1043bafd471dff536d0c462352beb48</td>\n",
       "      <td>37175.0</td>\n",
       "      <td>ilicinea</td>\n",
       "      <td>MG</td>\n",
       "      <td>f9e4b658b201a9f2ecdecbb34bed034b</td>\n",
       "      <td>1.0</td>\n",
       "      <td>d1c427060a0f73f6b889a5c7c61f2ac4</td>\n",
       "      <td>2018-02-08 10:31:15</td>\n",
       "      <td>149.00</td>\n",
       "      <td>45.12</td>\n",
       "      <td>...</td>\n",
       "      <td>delivered</td>\n",
       "      <td>2018-02-03 09:56:22</td>\n",
       "      <td>2018-02-03 10:33:41</td>\n",
       "      <td>2018-02-06 16:18:28</td>\n",
       "      <td>2018-02-16 17:28:48</td>\n",
       "      <td>2018-03-09</td>\n",
       "      <td>228ce5500dc1d8e020d8d1322874b6f0</td>\n",
       "      <td>5</td>\n",
       "      <td>2018-02-17 00:00:00</td>\n",
       "      <td>2018-02-18 14:36:24</td>\n",
       "    </tr>\n",
       "    <tr>\n",
       "      <th>4</th>\n",
       "      <td>a1043bafd471dff536d0c462352beb48</td>\n",
       "      <td>37175.0</td>\n",
       "      <td>ilicinea</td>\n",
       "      <td>MG</td>\n",
       "      <td>658677c97b385a9be170737859d3511b</td>\n",
       "      <td>1.0</td>\n",
       "      <td>52c80cedd4e90108bf4fa6a206ef6b03</td>\n",
       "      <td>2017-04-13 17:55:19</td>\n",
       "      <td>179.99</td>\n",
       "      <td>42.85</td>\n",
       "      <td>...</td>\n",
       "      <td>delivered</td>\n",
       "      <td>2017-04-09 17:41:13</td>\n",
       "      <td>2017-04-09 17:55:19</td>\n",
       "      <td>2017-04-10 14:24:47</td>\n",
       "      <td>2017-04-20 09:08:35</td>\n",
       "      <td>2017-05-10</td>\n",
       "      <td>e64fb393e7b32834bb789ff8bb30750e</td>\n",
       "      <td>5</td>\n",
       "      <td>2017-04-21 00:00:00</td>\n",
       "      <td>2017-04-21 22:02:06</td>\n",
       "    </tr>\n",
       "    <tr>\n",
       "      <th>...</th>\n",
       "      <td>...</td>\n",
       "      <td>...</td>\n",
       "      <td>...</td>\n",
       "      <td>...</td>\n",
       "      <td>...</td>\n",
       "      <td>...</td>\n",
       "      <td>...</td>\n",
       "      <td>...</td>\n",
       "      <td>...</td>\n",
       "      <td>...</td>\n",
       "      <td>...</td>\n",
       "      <td>...</td>\n",
       "      <td>...</td>\n",
       "      <td>...</td>\n",
       "      <td>...</td>\n",
       "      <td>...</td>\n",
       "      <td>...</td>\n",
       "      <td>...</td>\n",
       "      <td>...</td>\n",
       "      <td>...</td>\n",
       "      <td>...</td>\n",
       "    </tr>\n",
       "    <tr>\n",
       "      <th>113126</th>\n",
       "      <td>5343d0649eca2a983820bfe93fc4d17e</td>\n",
       "      <td>9270.0</td>\n",
       "      <td>santo andre</td>\n",
       "      <td>SP</td>\n",
       "      <td>2a8c23fee101d4d5662fa670396eb8da</td>\n",
       "      <td>1.0</td>\n",
       "      <td>4fb209073dc2ab6a6d3c259a7c285501</td>\n",
       "      <td>2018-07-02 17:30:37</td>\n",
       "      <td>226.77</td>\n",
       "      <td>61.20</td>\n",
       "      <td>...</td>\n",
       "      <td>delivered</td>\n",
       "      <td>2018-06-27 17:31:29</td>\n",
       "      <td>2018-06-28 17:30:45</td>\n",
       "      <td>2018-06-29 14:25:00</td>\n",
       "      <td>2018-07-06 13:22:37</td>\n",
       "      <td>2018-07-20</td>\n",
       "      <td>574ed12dd733e5fa530cfd4bbf39d7c9</td>\n",
       "      <td>5</td>\n",
       "      <td>2018-07-07 00:00:00</td>\n",
       "      <td>2018-07-14 17:18:30</td>\n",
       "    </tr>\n",
       "    <tr>\n",
       "      <th>113127</th>\n",
       "      <td>46dc3b2cc0980fb8ec44634e21d2718e</td>\n",
       "      <td>22240.0</td>\n",
       "      <td>rio de janeiro</td>\n",
       "      <td>RJ</td>\n",
       "      <td>22ec9f0669f784db00fa86d035cf8602</td>\n",
       "      <td>1.0</td>\n",
       "      <td>3a33c980b62eb1ef3b8ae61b6fc6fe55</td>\n",
       "      <td>2017-12-07 22:08:00</td>\n",
       "      <td>199.99</td>\n",
       "      <td>9.77</td>\n",
       "      <td>...</td>\n",
       "      <td>delivered</td>\n",
       "      <td>2017-12-03 21:45:23</td>\n",
       "      <td>2017-12-03 22:08:00</td>\n",
       "      <td>2017-12-07 19:17:29</td>\n",
       "      <td>2017-12-08 17:19:00</td>\n",
       "      <td>2017-12-20</td>\n",
       "      <td>f3897127253a9592a73be9bdfdf4ed7a</td>\n",
       "      <td>5</td>\n",
       "      <td>2017-12-09 00:00:00</td>\n",
       "      <td>2017-12-11 20:06:42</td>\n",
       "    </tr>\n",
       "    <tr>\n",
       "      <th>113128</th>\n",
       "      <td>17ca9b9e9b9ef8fdb529001b49ebb50f</td>\n",
       "      <td>32677.0</td>\n",
       "      <td>betim</td>\n",
       "      <td>MG</td>\n",
       "      <td>55d4004744368f5571d1f590031933e4</td>\n",
       "      <td>1.0</td>\n",
       "      <td>8ba0118a487ec8671aed57e5ef846574</td>\n",
       "      <td>2018-03-22 10:08:04</td>\n",
       "      <td>215.97</td>\n",
       "      <td>15.59</td>\n",
       "      <td>...</td>\n",
       "      <td>delivered</td>\n",
       "      <td>2018-03-18 09:52:19</td>\n",
       "      <td>2018-03-18 10:08:04</td>\n",
       "      <td>2018-03-19 23:51:29</td>\n",
       "      <td>2018-03-21 17:44:08</td>\n",
       "      <td>2018-04-06</td>\n",
       "      <td>b3de70c89b1510c4cd3d0649fd302472</td>\n",
       "      <td>5</td>\n",
       "      <td>2018-03-22 00:00:00</td>\n",
       "      <td>2018-03-23 09:10:43</td>\n",
       "    </tr>\n",
       "    <tr>\n",
       "      <th>113129</th>\n",
       "      <td>8d956fec2e4337affcb520f56fd8cbfd</td>\n",
       "      <td>9780.0</td>\n",
       "      <td>sao bernardo do campo</td>\n",
       "      <td>SP</td>\n",
       "      <td>7725825d039fc1f0ceb7635e3f7d9206</td>\n",
       "      <td>1.0</td>\n",
       "      <td>73a7fbf8c1048131f3b531af31bcdf0e</td>\n",
       "      <td>2018-06-26 18:15:29</td>\n",
       "      <td>50.95</td>\n",
       "      <td>15.46</td>\n",
       "      <td>...</td>\n",
       "      <td>delivered</td>\n",
       "      <td>2018-06-22 16:47:28</td>\n",
       "      <td>2018-06-22 18:15:29</td>\n",
       "      <td>2018-06-25 12:58:00</td>\n",
       "      <td>2018-06-30 12:57:51</td>\n",
       "      <td>2018-07-16</td>\n",
       "      <td>1adeb9d84d72fe4e337617733eb85149</td>\n",
       "      <td>4</td>\n",
       "      <td>2018-07-01 00:00:00</td>\n",
       "      <td>2018-07-02 12:59:13</td>\n",
       "    </tr>\n",
       "    <tr>\n",
       "      <th>113130</th>\n",
       "      <td>7e3f87d16fb353f408d467e74fbd8014</td>\n",
       "      <td>4809.0</td>\n",
       "      <td>sao paulo</td>\n",
       "      <td>SP</td>\n",
       "      <td>90531360ecb1eec2a1fbb265a0db0508</td>\n",
       "      <td>1.0</td>\n",
       "      <td>8fbd36d3b045f5f38b252b1513478f38</td>\n",
       "      <td>2017-07-06 02:45:15</td>\n",
       "      <td>32.90</td>\n",
       "      <td>7.78</td>\n",
       "      <td>...</td>\n",
       "      <td>delivered</td>\n",
       "      <td>2017-06-29 10:43:25</td>\n",
       "      <td>2017-06-30 02:45:15</td>\n",
       "      <td>2017-06-30 13:53:54</td>\n",
       "      <td>2017-07-02 09:44:54</td>\n",
       "      <td>2017-07-12</td>\n",
       "      <td>efe49f1d6f951dd88b51e6ccd4cc548f</td>\n",
       "      <td>1</td>\n",
       "      <td>2017-07-03 00:00:00</td>\n",
       "      <td>2017-07-03 21:01:49</td>\n",
       "    </tr>\n",
       "  </tbody>\n",
       "</table>\n",
       "<p>113131 rows × 35 columns</p>\n",
       "</div>"
      ],
      "text/plain": [
       "                               seller_id  seller_zip_code_prefix  \\\n",
       "0       6d803cb79cc31c41c4c789a75933b3c7                 14600.0   \n",
       "1       6d803cb79cc31c41c4c789a75933b3c7                 14600.0   \n",
       "2       8e6d7754bc7e0f22c96d255ebda59eba                 12233.0   \n",
       "3       a1043bafd471dff536d0c462352beb48                 37175.0   \n",
       "4       a1043bafd471dff536d0c462352beb48                 37175.0   \n",
       "...                                  ...                     ...   \n",
       "113126  5343d0649eca2a983820bfe93fc4d17e                  9270.0   \n",
       "113127  46dc3b2cc0980fb8ec44634e21d2718e                 22240.0   \n",
       "113128  17ca9b9e9b9ef8fdb529001b49ebb50f                 32677.0   \n",
       "113129  8d956fec2e4337affcb520f56fd8cbfd                  9780.0   \n",
       "113130  7e3f87d16fb353f408d467e74fbd8014                  4809.0   \n",
       "\n",
       "                  seller_city seller_state                          order_id  \\\n",
       "0        sao joaquim da barra           SP  73fc7af87114b39712e6da79b0a377eb   \n",
       "1        sao joaquim da barra           SP  73fc7af87114b39712e6da79b0a377eb   \n",
       "2         sao jose dos campos           SP  a548910a1c6147796b98fdf73dbeba33   \n",
       "3                    ilicinea           MG  f9e4b658b201a9f2ecdecbb34bed034b   \n",
       "4                    ilicinea           MG  658677c97b385a9be170737859d3511b   \n",
       "...                       ...          ...                               ...   \n",
       "113126            santo andre           SP  2a8c23fee101d4d5662fa670396eb8da   \n",
       "113127         rio de janeiro           RJ  22ec9f0669f784db00fa86d035cf8602   \n",
       "113128                  betim           MG  55d4004744368f5571d1f590031933e4   \n",
       "113129  sao bernardo do campo           SP  7725825d039fc1f0ceb7635e3f7d9206   \n",
       "113130              sao paulo           SP  90531360ecb1eec2a1fbb265a0db0508   \n",
       "\n",
       "        order_item_id                        product_id  shipping_limit_date  \\\n",
       "0                 1.0  fd25ab760bfbba13c198fa3b4f1a0cd3  2018-01-18 15:47:59   \n",
       "1                 2.0  fd25ab760bfbba13c198fa3b4f1a0cd3  2018-01-18 15:47:59   \n",
       "2                 1.0  be0dbdc3d67d55727a65d4cd696ca73c  2018-03-06 12:48:39   \n",
       "3                 1.0  d1c427060a0f73f6b889a5c7c61f2ac4  2018-02-08 10:31:15   \n",
       "4                 1.0  52c80cedd4e90108bf4fa6a206ef6b03  2017-04-13 17:55:19   \n",
       "...               ...                               ...                  ...   \n",
       "113126            1.0  4fb209073dc2ab6a6d3c259a7c285501  2018-07-02 17:30:37   \n",
       "113127            1.0  3a33c980b62eb1ef3b8ae61b6fc6fe55  2017-12-07 22:08:00   \n",
       "113128            1.0  8ba0118a487ec8671aed57e5ef846574  2018-03-22 10:08:04   \n",
       "113129            1.0  73a7fbf8c1048131f3b531af31bcdf0e  2018-06-26 18:15:29   \n",
       "113130            1.0  8fbd36d3b045f5f38b252b1513478f38  2017-07-06 02:45:15   \n",
       "\n",
       "         price  freight_value  ... order_status_y order_purchase_timestamp_y  \\\n",
       "0       185.00          13.63  ...      delivered        2018-01-11 15:30:49   \n",
       "1       185.00          13.63  ...      delivered        2018-01-11 15:30:49   \n",
       "2        79.79           8.30  ...      delivered        2018-02-28 12:25:19   \n",
       "3       149.00          45.12  ...      delivered        2018-02-03 09:56:22   \n",
       "4       179.99          42.85  ...      delivered        2017-04-09 17:41:13   \n",
       "...        ...            ...  ...            ...                        ...   \n",
       "113126  226.77          61.20  ...      delivered        2018-06-27 17:31:29   \n",
       "113127  199.99           9.77  ...      delivered        2017-12-03 21:45:23   \n",
       "113128  215.97          15.59  ...      delivered        2018-03-18 09:52:19   \n",
       "113129   50.95          15.46  ...      delivered        2018-06-22 16:47:28   \n",
       "113130   32.90           7.78  ...      delivered        2017-06-29 10:43:25   \n",
       "\n",
       "        order_approved_at_y order_delivered_carrier_date_y  \\\n",
       "0       2018-01-11 15:47:59            2018-01-12 21:57:22   \n",
       "1       2018-01-11 15:47:59            2018-01-12 21:57:22   \n",
       "2       2018-02-28 12:48:39            2018-03-02 19:08:15   \n",
       "3       2018-02-03 10:33:41            2018-02-06 16:18:28   \n",
       "4       2017-04-09 17:55:19            2017-04-10 14:24:47   \n",
       "...                     ...                            ...   \n",
       "113126  2018-06-28 17:30:45            2018-06-29 14:25:00   \n",
       "113127  2017-12-03 22:08:00            2017-12-07 19:17:29   \n",
       "113128  2018-03-18 10:08:04            2018-03-19 23:51:29   \n",
       "113129  2018-06-22 18:15:29            2018-06-25 12:58:00   \n",
       "113130  2017-06-30 02:45:15            2017-06-30 13:53:54   \n",
       "\n",
       "       order_delivered_customer_date_y order_estimated_delivery_date_y  \\\n",
       "0                  2018-01-17 18:42:41                      2018-02-02   \n",
       "1                  2018-01-17 18:42:41                      2018-02-02   \n",
       "2                  2018-03-09 23:17:20                      2018-03-14   \n",
       "3                  2018-02-16 17:28:48                      2018-03-09   \n",
       "4                  2017-04-20 09:08:35                      2017-05-10   \n",
       "...                                ...                             ...   \n",
       "113126             2018-07-06 13:22:37                      2018-07-20   \n",
       "113127             2017-12-08 17:19:00                      2017-12-20   \n",
       "113128             2018-03-21 17:44:08                      2018-04-06   \n",
       "113129             2018-06-30 12:57:51                      2018-07-16   \n",
       "113130             2017-07-02 09:44:54                      2017-07-12   \n",
       "\n",
       "                               review_id  review_score review_creation_date  \\\n",
       "0       7bc2406110b926393aa56f80a40eba40             4  2018-01-18 00:00:00   \n",
       "1       7bc2406110b926393aa56f80a40eba40             4  2018-01-18 00:00:00   \n",
       "2       80e641a11e56f04c1ad469d5645fdfde             5  2018-03-10 00:00:00   \n",
       "3       228ce5500dc1d8e020d8d1322874b6f0             5  2018-02-17 00:00:00   \n",
       "4       e64fb393e7b32834bb789ff8bb30750e             5  2017-04-21 00:00:00   \n",
       "...                                  ...           ...                  ...   \n",
       "113126  574ed12dd733e5fa530cfd4bbf39d7c9             5  2018-07-07 00:00:00   \n",
       "113127  f3897127253a9592a73be9bdfdf4ed7a             5  2017-12-09 00:00:00   \n",
       "113128  b3de70c89b1510c4cd3d0649fd302472             5  2018-03-22 00:00:00   \n",
       "113129  1adeb9d84d72fe4e337617733eb85149             4  2018-07-01 00:00:00   \n",
       "113130  efe49f1d6f951dd88b51e6ccd4cc548f             1  2017-07-03 00:00:00   \n",
       "\n",
       "        review_answer_timestamp  \n",
       "0           2018-01-18 21:46:59  \n",
       "1           2018-01-18 21:46:59  \n",
       "2           2018-03-11 03:05:13  \n",
       "3           2018-02-18 14:36:24  \n",
       "4           2017-04-21 22:02:06  \n",
       "...                         ...  \n",
       "113126      2018-07-14 17:18:30  \n",
       "113127      2017-12-11 20:06:42  \n",
       "113128      2018-03-23 09:10:43  \n",
       "113129      2018-07-02 12:59:13  \n",
       "113130      2017-07-03 21:01:49  \n",
       "\n",
       "[113131 rows x 35 columns]"
      ]
     },
     "execution_count": 92,
     "metadata": {},
     "output_type": "execute_result"
    }
   ],
   "source": [
    "df\n"
   ]
  }
 ],
 "metadata": {
  "kernelspec": {
   "display_name": "pycaret",
   "language": "python",
   "name": "pycaret"
  },
  "language_info": {
   "codemirror_mode": {
    "name": "ipython",
    "version": 3
   },
   "file_extension": ".py",
   "mimetype": "text/x-python",
   "name": "python",
   "nbconvert_exporter": "python",
   "pygments_lexer": "ipython3",
   "version": "3.8.13"
  },
  "toc": {
   "base_numbering": 1,
   "nav_menu": {},
   "number_sections": true,
   "sideBar": true,
   "skip_h1_title": false,
   "title_cell": "Table of Contents",
   "title_sidebar": "Contents",
   "toc_cell": false,
   "toc_position": {},
   "toc_section_display": true,
   "toc_window_display": false
  },
  "varInspector": {
   "cols": {
    "lenName": 16,
    "lenType": 16,
    "lenVar": 40
   },
   "kernels_config": {
    "python": {
     "delete_cmd_postfix": "",
     "delete_cmd_prefix": "del ",
     "library": "var_list.py",
     "varRefreshCmd": "print(var_dic_list())"
    },
    "r": {
     "delete_cmd_postfix": ") ",
     "delete_cmd_prefix": "rm(",
     "library": "var_list.r",
     "varRefreshCmd": "cat(var_dic_list()) "
    }
   },
   "types_to_exclude": [
    "module",
    "function",
    "builtin_function_or_method",
    "instance",
    "_Feature"
   ],
   "window_display": false
  }
 },
 "nbformat": 4,
 "nbformat_minor": 5
}
