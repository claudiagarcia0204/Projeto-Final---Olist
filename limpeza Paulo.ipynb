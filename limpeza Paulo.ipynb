{
 "cells": [
  {
   "cell_type": "code",
   "execution_count": 1,
   "id": "f7ffe595",
   "metadata": {
    "ExecuteTime": {
     "end_time": "2022-10-05T11:58:50.331150Z",
     "start_time": "2022-10-05T11:58:44.718595Z"
    }
   },
   "outputs": [],
   "source": [
    "import pandas as pd\n",
    "import numpy as np\n",
    "import sqlalchemy as db\n"
   ]
  },
  {
   "cell_type": "markdown",
   "id": "7d01c786",
   "metadata": {},
   "source": [
    "# DataSet  Itens"
   ]
  },
  {
   "cell_type": "code",
   "execution_count": 2,
   "id": "a245793b",
   "metadata": {
    "ExecuteTime": {
     "end_time": "2022-10-05T11:58:53.237079Z",
     "start_time": "2022-10-05T11:58:52.850883Z"
    }
   },
   "outputs": [],
   "source": [
    "itens = pd.read_csv(\"data\\olist_order_items_dataset.csv\")\n",
    "# tabela 'itens' tem 112650 linhas e 8 colunas (order_id, product_id, seller_id,shipping_limit_date, price,freight_value  )"
   ]
  },
  {
   "cell_type": "code",
   "execution_count": 3,
   "id": "7301c1ad",
   "metadata": {
    "ExecuteTime": {
     "end_time": "2022-10-05T11:58:55.838640Z",
     "start_time": "2022-10-05T11:58:55.065379Z"
    }
   },
   "outputs": [],
   "source": [
    "itens.to_csv('itens.csv')\n"
   ]
  },
  {
   "cell_type": "markdown",
   "id": "abc73745",
   "metadata": {},
   "source": [
    "# DataSet Ordens"
   ]
  },
  {
   "cell_type": "code",
   "execution_count": 4,
   "id": "efa4b7a4",
   "metadata": {
    "ExecuteTime": {
     "end_time": "2022-10-05T11:58:58.449702Z",
     "start_time": "2022-10-05T11:58:58.003341Z"
    }
   },
   "outputs": [
    {
     "data": {
      "text/plain": [
       "\"Tabela 'ordens' tem 99441 linhas e 9 colunas ('order_id', 'customer_id', 'order_status', 'order_purchase_timestamp',\\n'order_approved_at', 'order_delivered_carrier_date',\\n'order_delivered_customer_date', 'order_estimated_delivery_date)\\nNulos (order_approved_at - 160, order_delivered_carrier_date -  1783, order_delivered_customer_date- 2965)\""
      ]
     },
     "execution_count": 4,
     "metadata": {},
     "output_type": "execute_result"
    }
   ],
   "source": [
    "ordens = pd.read_csv(\"data\\olist_orders_dataset.csv\")\n",
    "\n",
    "'''Tabela 'ordens' tem 99441 linhas e 9 colunas ('order_id', 'customer_id', 'order_status', 'order_purchase_timestamp',\n",
    "'order_approved_at', 'order_delivered_carrier_date',\n",
    "'order_delivered_customer_date', 'order_estimated_delivery_date)\n",
    "Nulos (order_approved_at - 160, order_delivered_carrier_date -  1783, order_delivered_customer_date- 2965)'''\n"
   ]
  },
  {
   "cell_type": "markdown",
   "id": "e1c9c129",
   "metadata": {},
   "source": [
    "## Transformando Datetime (ordens)"
   ]
  },
  {
   "cell_type": "code",
   "execution_count": 5,
   "id": "2935b278",
   "metadata": {
    "ExecuteTime": {
     "end_time": "2022-10-05T11:59:04.179795Z",
     "start_time": "2022-10-05T11:59:03.888239Z"
    }
   },
   "outputs": [],
   "source": [
    "#  Transformar Datetime\n",
    "times_cols = ['order_purchase_timestamp', 'order_approved_at', 'order_delivered_carrier_date', 'order_estimated_delivery_date', 'order_delivered_customer_date']\n",
    "for col in times_cols:\n",
    "    ordens[col] = pd.to_datetime(ordens[col])\n"
   ]
  },
  {
   "cell_type": "markdown",
   "id": "fe8d0d85",
   "metadata": {
    "ExecuteTime": {
     "end_time": "2022-10-03T13:25:46.026038Z",
     "start_time": "2022-10-03T13:25:46.012076Z"
    }
   },
   "source": [
    "## Tratando linhas nulas(ordens)"
   ]
  },
  {
   "cell_type": "code",
   "execution_count": 6,
   "id": "31aa6f6e",
   "metadata": {
    "ExecuteTime": {
     "end_time": "2022-10-05T11:59:07.662187Z",
     "start_time": "2022-10-05T11:59:07.650220Z"
    }
   },
   "outputs": [],
   "source": [
    "# Convertendo linhas nulas por informações próximas\n",
    "ordens[\"order_approved_at\"].fillna(ordens[\"order_purchase_timestamp\"], inplace=True)\n",
    "ordens[\"order_delivered_customer_date\"].fillna(ordens[\"order_estimated_delivery_date\"], inplace=True)\n",
    "ordens[\"order_delivered_carrier_date\"].fillna(ordens[\"order_delivered_customer_date\"], inplace=True)"
   ]
  },
  {
   "cell_type": "code",
   "execution_count": 9,
   "id": "04f15984",
   "metadata": {
    "ExecuteTime": {
     "end_time": "2022-10-05T11:59:50.858590Z",
     "start_time": "2022-10-05T11:59:48.912551Z"
    }
   },
   "outputs": [],
   "source": [
    "ordens.to_csv('Data/ordens.csv')\n"
   ]
  },
  {
   "cell_type": "markdown",
   "id": "765ef56a",
   "metadata": {},
   "source": [
    "# DataSet Avaliações"
   ]
  },
  {
   "cell_type": "code",
   "execution_count": 10,
   "id": "336bd010",
   "metadata": {
    "ExecuteTime": {
     "end_time": "2022-10-05T11:59:54.139550Z",
     "start_time": "2022-10-05T11:59:53.745602Z"
    }
   },
   "outputs": [
    {
     "data": {
      "text/plain": [
       "\"Tabela 'avaliacoes' tem 99224 linhas e 7 colunas (review_id,order_id, review_score, \\nreview_comment_title, review_comment_message, review_creation_date, review_answer_timestamp)\""
      ]
     },
     "execution_count": 10,
     "metadata": {},
     "output_type": "execute_result"
    }
   ],
   "source": [
    "avaliacoes = pd.read_csv(\"data\\olist_order_reviews_dataset.csv\")\n",
    "\n",
    "'''Tabela 'avaliacoes' tem 99224 linhas e 7 colunas (review_id,order_id, review_score, \n",
    "review_comment_title, review_comment_message, review_creation_date, review_answer_timestamp)'''   "
   ]
  },
  {
   "cell_type": "markdown",
   "id": "17b97a91",
   "metadata": {},
   "source": [
    "## Dropando as colunas 'review_comment_title', 'review_comment_message'"
   ]
  },
  {
   "cell_type": "code",
   "execution_count": 11,
   "id": "c30248bf",
   "metadata": {
    "ExecuteTime": {
     "end_time": "2022-10-05T11:59:57.315009Z",
     "start_time": "2022-10-05T11:59:57.290081Z"
    }
   },
   "outputs": [
    {
     "data": {
      "text/plain": [
       "'Após a limpeza o dataframe possui 99224 linhas e 5 colunas (review_id,order_id,review_score,\\n review_creation_date,review_answer_timestamp) '"
      ]
     },
     "execution_count": 11,
     "metadata": {},
     "output_type": "execute_result"
    }
   ],
   "source": [
    "avaliacoes.drop(['review_comment_title', 'review_comment_message'],axis=1, inplace=True)\n",
    "\n",
    "'''Após a limpeza o dataframe possui 99224 linhas e 5 colunas (review_id,order_id,review_score,\n",
    " review_creation_date,review_answer_timestamp) '''   "
   ]
  },
  {
   "cell_type": "code",
   "execution_count": 12,
   "id": "f7f124f2",
   "metadata": {
    "ExecuteTime": {
     "end_time": "2022-10-05T12:00:00.162802Z",
     "start_time": "2022-10-05T11:59:59.712642Z"
    }
   },
   "outputs": [],
   "source": [
    "avaliacoes.to_csv('Data/avaliacoes.csv')"
   ]
  },
  {
   "cell_type": "markdown",
   "id": "ed1e5767",
   "metadata": {
    "ExecuteTime": {
     "end_time": "2022-10-03T14:29:27.508999Z",
     "start_time": "2022-10-03T14:29:27.499024Z"
    }
   },
   "source": [
    "# DataSet Geolocal"
   ]
  },
  {
   "cell_type": "code",
   "execution_count": null,
   "id": "3e022fd9",
   "metadata": {},
   "outputs": [],
   "source": []
  },
  {
   "cell_type": "code",
   "execution_count": 13,
   "id": "a1c0f2bd",
   "metadata": {
    "ExecuteTime": {
     "end_time": "2022-10-05T12:00:05.381894Z",
     "start_time": "2022-10-05T12:00:04.491067Z"
    }
   },
   "outputs": [],
   "source": [
    "geolocal = pd.read_csv(\"data\\olist_geolocation_dataset.csv\") "
   ]
  },
  {
   "cell_type": "code",
   "execution_count": 14,
   "id": "29a21b06",
   "metadata": {
    "ExecuteTime": {
     "end_time": "2022-10-05T12:00:06.882222Z",
     "start_time": "2022-10-05T12:00:06.411858Z"
    }
   },
   "outputs": [],
   "source": [
    "geolocal.drop_duplicates(inplace=True)"
   ]
  },
  {
   "cell_type": "code",
   "execution_count": 15,
   "id": "b34b4a23",
   "metadata": {
    "ExecuteTime": {
     "end_time": "2022-10-05T12:00:12.257225Z",
     "start_time": "2022-10-05T12:00:08.257370Z"
    }
   },
   "outputs": [],
   "source": [
    "geolocal.to_csv('Data/geolocal.csv')"
   ]
  },
  {
   "cell_type": "markdown",
   "id": "d0698715",
   "metadata": {
    "ExecuteTime": {
     "end_time": "2022-10-03T14:39:16.477112Z",
     "start_time": "2022-10-03T14:39:16.459099Z"
    }
   },
   "source": [
    "# DataSet Produtos"
   ]
  },
  {
   "cell_type": "code",
   "execution_count": 16,
   "id": "b078eecd",
   "metadata": {
    "ExecuteTime": {
     "end_time": "2022-10-05T12:00:14.240075Z",
     "start_time": "2022-10-05T12:00:14.162251Z"
    }
   },
   "outputs": [
    {
     "data": {
      "text/plain": [
       "'32340 linhas com 6 colunas '"
      ]
     },
     "execution_count": 16,
     "metadata": {},
     "output_type": "execute_result"
    }
   ],
   "source": [
    "produtos = pd.read_csv(\"data\\olist_products_dataset.csv\") \n",
    "'''32340 linhas com 6 colunas '''"
   ]
  },
  {
   "cell_type": "markdown",
   "id": "53940261",
   "metadata": {
    "ExecuteTime": {
     "end_time": "2022-10-03T16:45:23.657591Z",
     "start_time": "2022-10-03T16:45:23.645626Z"
    }
   },
   "source": [
    "## Dropando linhas em nulo"
   ]
  },
  {
   "cell_type": "code",
   "execution_count": 17,
   "id": "32ff0bcc",
   "metadata": {
    "ExecuteTime": {
     "end_time": "2022-10-05T12:00:17.443482Z",
     "start_time": "2022-10-05T12:00:17.411359Z"
    }
   },
   "outputs": [],
   "source": [
    "produtos.dropna(inplace=True)"
   ]
  },
  {
   "cell_type": "code",
   "execution_count": 18,
   "id": "44e141d7",
   "metadata": {
    "ExecuteTime": {
     "end_time": "2022-10-05T12:00:19.667803Z",
     "start_time": "2022-10-05T12:00:19.657838Z"
    }
   },
   "outputs": [],
   "source": [
    "produtos.drop(['product_name_lenght', 'product_description_lenght', 'product_photos_qty'],axis=1, inplace=True)"
   ]
  },
  {
   "cell_type": "code",
   "execution_count": 19,
   "id": "5e08d5c6",
   "metadata": {
    "ExecuteTime": {
     "end_time": "2022-10-05T12:00:22.254036Z",
     "start_time": "2022-10-05T12:00:22.074035Z"
    }
   },
   "outputs": [],
   "source": [
    "produtos.to_csv('Data/produtos.csv')"
   ]
  },
  {
   "cell_type": "code",
   "execution_count": 27,
   "id": "3ffbfb17",
   "metadata": {
    "ExecuteTime": {
     "end_time": "2022-10-05T12:01:41.182686Z",
     "start_time": "2022-10-05T12:01:41.020117Z"
    }
   },
   "outputs": [
    {
     "data": {
      "text/html": [
       "<div>\n",
       "<style scoped>\n",
       "    .dataframe tbody tr th:only-of-type {\n",
       "        vertical-align: middle;\n",
       "    }\n",
       "\n",
       "    .dataframe tbody tr th {\n",
       "        vertical-align: top;\n",
       "    }\n",
       "\n",
       "    .dataframe thead th {\n",
       "        text-align: right;\n",
       "    }\n",
       "</style>\n",
       "<table border=\"1\" class=\"dataframe\">\n",
       "  <thead>\n",
       "    <tr style=\"text-align: right;\">\n",
       "      <th></th>\n",
       "      <th>seller_id</th>\n",
       "      <th>seller_zip_code_prefix</th>\n",
       "      <th>seller_city</th>\n",
       "      <th>seller_state</th>\n",
       "      <th>order_id</th>\n",
       "      <th>order_item_id</th>\n",
       "      <th>product_id</th>\n",
       "      <th>shipping_limit_date</th>\n",
       "      <th>price</th>\n",
       "      <th>freight_value</th>\n",
       "      <th>...</th>\n",
       "      <th>order_approved_at</th>\n",
       "      <th>order_delivered_carrier_date</th>\n",
       "      <th>order_delivered_customer_date</th>\n",
       "      <th>order_estimated_delivery_date</th>\n",
       "      <th>Unnamed: 0</th>\n",
       "      <th>product_category_name</th>\n",
       "      <th>product_weight_g</th>\n",
       "      <th>product_length_cm</th>\n",
       "      <th>product_height_cm</th>\n",
       "      <th>product_width_cm</th>\n",
       "    </tr>\n",
       "  </thead>\n",
       "  <tbody>\n",
       "    <tr>\n",
       "      <th>0</th>\n",
       "      <td>3504c0cb71d7fa48d967e0e4c94d59d9</td>\n",
       "      <td>9350.0</td>\n",
       "      <td>maua</td>\n",
       "      <td>SP</td>\n",
       "      <td>e481f51cbdc54678b7cc49136f2d6af7</td>\n",
       "      <td>1.0</td>\n",
       "      <td>87285b34884572647811a353c7ac498a</td>\n",
       "      <td>2017-10-06 11:07:15</td>\n",
       "      <td>29.99</td>\n",
       "      <td>8.72</td>\n",
       "      <td>...</td>\n",
       "      <td>2017-10-02 11:07:15</td>\n",
       "      <td>2017-10-04 19:55:00</td>\n",
       "      <td>2017-10-10 21:25:13</td>\n",
       "      <td>2017-10-18</td>\n",
       "      <td>2349.0</td>\n",
       "      <td>utilidades_domesticas</td>\n",
       "      <td>500.0</td>\n",
       "      <td>19.0</td>\n",
       "      <td>8.0</td>\n",
       "      <td>13.0</td>\n",
       "    </tr>\n",
       "    <tr>\n",
       "      <th>1</th>\n",
       "      <td>289cdb325fb7e7f891c38608bf9e0962</td>\n",
       "      <td>31570.0</td>\n",
       "      <td>belo horizonte</td>\n",
       "      <td>SP</td>\n",
       "      <td>53cdb2fc8bc7dce0b6741e2150273451</td>\n",
       "      <td>1.0</td>\n",
       "      <td>595fac2a385ac33a80bd5114aec74eb8</td>\n",
       "      <td>2018-07-30 03:24:27</td>\n",
       "      <td>118.70</td>\n",
       "      <td>22.76</td>\n",
       "      <td>...</td>\n",
       "      <td>2018-07-26 03:24:27</td>\n",
       "      <td>2018-07-26 14:31:00</td>\n",
       "      <td>2018-08-07 15:27:45</td>\n",
       "      <td>2018-08-13</td>\n",
       "      <td>20550.0</td>\n",
       "      <td>perfumaria</td>\n",
       "      <td>400.0</td>\n",
       "      <td>19.0</td>\n",
       "      <td>13.0</td>\n",
       "      <td>19.0</td>\n",
       "    </tr>\n",
       "    <tr>\n",
       "      <th>2</th>\n",
       "      <td>4869f7a5dfa277a7dca6462dcf3b52b2</td>\n",
       "      <td>14840.0</td>\n",
       "      <td>guariba</td>\n",
       "      <td>SP</td>\n",
       "      <td>47770eb9100c2d0c44946d9cf07ec65d</td>\n",
       "      <td>1.0</td>\n",
       "      <td>aa4383b373c6aca5d8797843e5594415</td>\n",
       "      <td>2018-08-13 08:55:23</td>\n",
       "      <td>159.90</td>\n",
       "      <td>19.22</td>\n",
       "      <td>...</td>\n",
       "      <td>2018-08-08 08:55:23</td>\n",
       "      <td>2018-08-08 13:50:00</td>\n",
       "      <td>2018-08-17 18:06:29</td>\n",
       "      <td>2018-09-04</td>\n",
       "      <td>12228.0</td>\n",
       "      <td>automotivo</td>\n",
       "      <td>420.0</td>\n",
       "      <td>24.0</td>\n",
       "      <td>19.0</td>\n",
       "      <td>21.0</td>\n",
       "    </tr>\n",
       "    <tr>\n",
       "      <th>3</th>\n",
       "      <td>66922902710d126a0e7d26b0e3805106</td>\n",
       "      <td>31842.0</td>\n",
       "      <td>belo horizonte</td>\n",
       "      <td>MG</td>\n",
       "      <td>949d5b44dbf5de918fe9c16f97b45f8a</td>\n",
       "      <td>1.0</td>\n",
       "      <td>d0b61bfb1de832b15ba9d266ca96e5b0</td>\n",
       "      <td>2017-11-23 19:45:59</td>\n",
       "      <td>45.00</td>\n",
       "      <td>27.20</td>\n",
       "      <td>...</td>\n",
       "      <td>2017-11-18 19:45:59</td>\n",
       "      <td>2017-11-22 13:39:59</td>\n",
       "      <td>2017-12-02 00:28:42</td>\n",
       "      <td>2017-12-15</td>\n",
       "      <td>29925.0</td>\n",
       "      <td>pet_shop</td>\n",
       "      <td>450.0</td>\n",
       "      <td>30.0</td>\n",
       "      <td>10.0</td>\n",
       "      <td>20.0</td>\n",
       "    </tr>\n",
       "    <tr>\n",
       "      <th>4</th>\n",
       "      <td>2c9e548be18521d1c43cde1c582c6de8</td>\n",
       "      <td>8752.0</td>\n",
       "      <td>mogi das cruzes</td>\n",
       "      <td>SP</td>\n",
       "      <td>ad21c59c0840e6cb83a9ceb5573f8159</td>\n",
       "      <td>1.0</td>\n",
       "      <td>65266b2da20d04dbe00c5c2d3bb7859e</td>\n",
       "      <td>2018-02-19 20:31:37</td>\n",
       "      <td>19.90</td>\n",
       "      <td>8.72</td>\n",
       "      <td>...</td>\n",
       "      <td>2018-02-13 22:20:29</td>\n",
       "      <td>2018-02-14 19:46:34</td>\n",
       "      <td>2018-02-16 18:17:02</td>\n",
       "      <td>2018-02-26</td>\n",
       "      <td>11900.0</td>\n",
       "      <td>papelaria</td>\n",
       "      <td>250.0</td>\n",
       "      <td>51.0</td>\n",
       "      <td>15.0</td>\n",
       "      <td>15.0</td>\n",
       "    </tr>\n",
       "    <tr>\n",
       "      <th>...</th>\n",
       "      <td>...</td>\n",
       "      <td>...</td>\n",
       "      <td>...</td>\n",
       "      <td>...</td>\n",
       "      <td>...</td>\n",
       "      <td>...</td>\n",
       "      <td>...</td>\n",
       "      <td>...</td>\n",
       "      <td>...</td>\n",
       "      <td>...</td>\n",
       "      <td>...</td>\n",
       "      <td>...</td>\n",
       "      <td>...</td>\n",
       "      <td>...</td>\n",
       "      <td>...</td>\n",
       "      <td>...</td>\n",
       "      <td>...</td>\n",
       "      <td>...</td>\n",
       "      <td>...</td>\n",
       "      <td>...</td>\n",
       "      <td>...</td>\n",
       "    </tr>\n",
       "    <tr>\n",
       "      <th>113420</th>\n",
       "      <td>1f9ab4708f3056ede07124aad39a2554</td>\n",
       "      <td>17602.0</td>\n",
       "      <td>tupa</td>\n",
       "      <td>SP</td>\n",
       "      <td>63943bddc261676b46f01ca7ac2f7bd8</td>\n",
       "      <td>1.0</td>\n",
       "      <td>f1d4ce8c6dd66c47bbaa8c6781c2a923</td>\n",
       "      <td>2018-02-12 13:10:37</td>\n",
       "      <td>174.90</td>\n",
       "      <td>20.10</td>\n",
       "      <td>...</td>\n",
       "      <td>2018-02-06 13:10:37</td>\n",
       "      <td>2018-02-07 23:22:42</td>\n",
       "      <td>2018-02-28 17:37:56</td>\n",
       "      <td>2018-03-02</td>\n",
       "      <td>1778.0</td>\n",
       "      <td>bebes</td>\n",
       "      <td>4950.0</td>\n",
       "      <td>40.0</td>\n",
       "      <td>10.0</td>\n",
       "      <td>40.0</td>\n",
       "    </tr>\n",
       "    <tr>\n",
       "      <th>113421</th>\n",
       "      <td>d50d79cb34e38265a8649c383dcffd48</td>\n",
       "      <td>8290.0</td>\n",
       "      <td>sao paulo</td>\n",
       "      <td>SP</td>\n",
       "      <td>83c1379a015df1e13d02aae0204711ab</td>\n",
       "      <td>1.0</td>\n",
       "      <td>b80910977a37536adeddd63663f916ad</td>\n",
       "      <td>2017-09-05 15:04:16</td>\n",
       "      <td>205.99</td>\n",
       "      <td>65.02</td>\n",
       "      <td>...</td>\n",
       "      <td>2017-08-27 15:04:16</td>\n",
       "      <td>2017-08-28 20:52:26</td>\n",
       "      <td>2017-09-21 11:24:17</td>\n",
       "      <td>2017-09-27</td>\n",
       "      <td>14953.0</td>\n",
       "      <td>eletrodomesticos_2</td>\n",
       "      <td>13300.0</td>\n",
       "      <td>32.0</td>\n",
       "      <td>90.0</td>\n",
       "      <td>22.0</td>\n",
       "    </tr>\n",
       "    <tr>\n",
       "      <th>113422</th>\n",
       "      <td>a1043bafd471dff536d0c462352beb48</td>\n",
       "      <td>37175.0</td>\n",
       "      <td>ilicinea</td>\n",
       "      <td>MG</td>\n",
       "      <td>11c177c8e97725db2631073c19f07b62</td>\n",
       "      <td>1.0</td>\n",
       "      <td>d1c427060a0f73f6b889a5c7c61f2ac4</td>\n",
       "      <td>2018-01-12 21:36:21</td>\n",
       "      <td>179.99</td>\n",
       "      <td>40.59</td>\n",
       "      <td>...</td>\n",
       "      <td>2018-01-08 21:36:21</td>\n",
       "      <td>2018-01-12 15:35:03</td>\n",
       "      <td>2018-01-25 23:32:54</td>\n",
       "      <td>2018-02-15</td>\n",
       "      <td>8290.0</td>\n",
       "      <td>informatica_acessorios</td>\n",
       "      <td>6550.0</td>\n",
       "      <td>20.0</td>\n",
       "      <td>20.0</td>\n",
       "      <td>20.0</td>\n",
       "    </tr>\n",
       "    <tr>\n",
       "      <th>113423</th>\n",
       "      <td>a1043bafd471dff536d0c462352beb48</td>\n",
       "      <td>37175.0</td>\n",
       "      <td>ilicinea</td>\n",
       "      <td>MG</td>\n",
       "      <td>11c177c8e97725db2631073c19f07b62</td>\n",
       "      <td>2.0</td>\n",
       "      <td>d1c427060a0f73f6b889a5c7c61f2ac4</td>\n",
       "      <td>2018-01-12 21:36:21</td>\n",
       "      <td>179.99</td>\n",
       "      <td>40.59</td>\n",
       "      <td>...</td>\n",
       "      <td>2018-01-08 21:36:21</td>\n",
       "      <td>2018-01-12 15:35:03</td>\n",
       "      <td>2018-01-25 23:32:54</td>\n",
       "      <td>2018-02-15</td>\n",
       "      <td>8290.0</td>\n",
       "      <td>informatica_acessorios</td>\n",
       "      <td>6550.0</td>\n",
       "      <td>20.0</td>\n",
       "      <td>20.0</td>\n",
       "      <td>20.0</td>\n",
       "    </tr>\n",
       "    <tr>\n",
       "      <th>113424</th>\n",
       "      <td>ececbfcff9804a2d6b40f589df8eef2b</td>\n",
       "      <td>14407.0</td>\n",
       "      <td>franca</td>\n",
       "      <td>SP</td>\n",
       "      <td>66dea50a8b16d9b4dee7af250b4be1a5</td>\n",
       "      <td>1.0</td>\n",
       "      <td>006619bbed68b000c8ba3f8725d5409e</td>\n",
       "      <td>2018-03-15 10:55:42</td>\n",
       "      <td>68.50</td>\n",
       "      <td>18.36</td>\n",
       "      <td>...</td>\n",
       "      <td>2018-03-09 11:20:28</td>\n",
       "      <td>2018-03-09 22:11:59</td>\n",
       "      <td>2018-03-16 13:08:30</td>\n",
       "      <td>2018-04-03</td>\n",
       "      <td>19887.0</td>\n",
       "      <td>beleza_saude</td>\n",
       "      <td>150.0</td>\n",
       "      <td>16.0</td>\n",
       "      <td>7.0</td>\n",
       "      <td>15.0</td>\n",
       "    </tr>\n",
       "  </tbody>\n",
       "</table>\n",
       "<p>113425 rows × 23 columns</p>\n",
       "</div>"
      ],
      "text/plain": [
       "                               seller_id  seller_zip_code_prefix  \\\n",
       "0       3504c0cb71d7fa48d967e0e4c94d59d9                  9350.0   \n",
       "1       289cdb325fb7e7f891c38608bf9e0962                 31570.0   \n",
       "2       4869f7a5dfa277a7dca6462dcf3b52b2                 14840.0   \n",
       "3       66922902710d126a0e7d26b0e3805106                 31842.0   \n",
       "4       2c9e548be18521d1c43cde1c582c6de8                  8752.0   \n",
       "...                                  ...                     ...   \n",
       "113420  1f9ab4708f3056ede07124aad39a2554                 17602.0   \n",
       "113421  d50d79cb34e38265a8649c383dcffd48                  8290.0   \n",
       "113422  a1043bafd471dff536d0c462352beb48                 37175.0   \n",
       "113423  a1043bafd471dff536d0c462352beb48                 37175.0   \n",
       "113424  ececbfcff9804a2d6b40f589df8eef2b                 14407.0   \n",
       "\n",
       "            seller_city seller_state                          order_id  \\\n",
       "0                  maua           SP  e481f51cbdc54678b7cc49136f2d6af7   \n",
       "1        belo horizonte           SP  53cdb2fc8bc7dce0b6741e2150273451   \n",
       "2               guariba           SP  47770eb9100c2d0c44946d9cf07ec65d   \n",
       "3        belo horizonte           MG  949d5b44dbf5de918fe9c16f97b45f8a   \n",
       "4       mogi das cruzes           SP  ad21c59c0840e6cb83a9ceb5573f8159   \n",
       "...                 ...          ...                               ...   \n",
       "113420             tupa           SP  63943bddc261676b46f01ca7ac2f7bd8   \n",
       "113421        sao paulo           SP  83c1379a015df1e13d02aae0204711ab   \n",
       "113422         ilicinea           MG  11c177c8e97725db2631073c19f07b62   \n",
       "113423         ilicinea           MG  11c177c8e97725db2631073c19f07b62   \n",
       "113424           franca           SP  66dea50a8b16d9b4dee7af250b4be1a5   \n",
       "\n",
       "        order_item_id                        product_id  shipping_limit_date  \\\n",
       "0                 1.0  87285b34884572647811a353c7ac498a  2017-10-06 11:07:15   \n",
       "1                 1.0  595fac2a385ac33a80bd5114aec74eb8  2018-07-30 03:24:27   \n",
       "2                 1.0  aa4383b373c6aca5d8797843e5594415  2018-08-13 08:55:23   \n",
       "3                 1.0  d0b61bfb1de832b15ba9d266ca96e5b0  2017-11-23 19:45:59   \n",
       "4                 1.0  65266b2da20d04dbe00c5c2d3bb7859e  2018-02-19 20:31:37   \n",
       "...               ...                               ...                  ...   \n",
       "113420            1.0  f1d4ce8c6dd66c47bbaa8c6781c2a923  2018-02-12 13:10:37   \n",
       "113421            1.0  b80910977a37536adeddd63663f916ad  2017-09-05 15:04:16   \n",
       "113422            1.0  d1c427060a0f73f6b889a5c7c61f2ac4  2018-01-12 21:36:21   \n",
       "113423            2.0  d1c427060a0f73f6b889a5c7c61f2ac4  2018-01-12 21:36:21   \n",
       "113424            1.0  006619bbed68b000c8ba3f8725d5409e  2018-03-15 10:55:42   \n",
       "\n",
       "         price  freight_value  ...    order_approved_at  \\\n",
       "0        29.99           8.72  ...  2017-10-02 11:07:15   \n",
       "1       118.70          22.76  ...  2018-07-26 03:24:27   \n",
       "2       159.90          19.22  ...  2018-08-08 08:55:23   \n",
       "3        45.00          27.20  ...  2017-11-18 19:45:59   \n",
       "4        19.90           8.72  ...  2018-02-13 22:20:29   \n",
       "...        ...            ...  ...                  ...   \n",
       "113420  174.90          20.10  ...  2018-02-06 13:10:37   \n",
       "113421  205.99          65.02  ...  2017-08-27 15:04:16   \n",
       "113422  179.99          40.59  ...  2018-01-08 21:36:21   \n",
       "113423  179.99          40.59  ...  2018-01-08 21:36:21   \n",
       "113424   68.50          18.36  ...  2018-03-09 11:20:28   \n",
       "\n",
       "       order_delivered_carrier_date order_delivered_customer_date  \\\n",
       "0               2017-10-04 19:55:00           2017-10-10 21:25:13   \n",
       "1               2018-07-26 14:31:00           2018-08-07 15:27:45   \n",
       "2               2018-08-08 13:50:00           2018-08-17 18:06:29   \n",
       "3               2017-11-22 13:39:59           2017-12-02 00:28:42   \n",
       "4               2018-02-14 19:46:34           2018-02-16 18:17:02   \n",
       "...                             ...                           ...   \n",
       "113420          2018-02-07 23:22:42           2018-02-28 17:37:56   \n",
       "113421          2017-08-28 20:52:26           2017-09-21 11:24:17   \n",
       "113422          2018-01-12 15:35:03           2018-01-25 23:32:54   \n",
       "113423          2018-01-12 15:35:03           2018-01-25 23:32:54   \n",
       "113424          2018-03-09 22:11:59           2018-03-16 13:08:30   \n",
       "\n",
       "       order_estimated_delivery_date Unnamed: 0   product_category_name  \\\n",
       "0                         2017-10-18     2349.0   utilidades_domesticas   \n",
       "1                         2018-08-13    20550.0              perfumaria   \n",
       "2                         2018-09-04    12228.0              automotivo   \n",
       "3                         2017-12-15    29925.0                pet_shop   \n",
       "4                         2018-02-26    11900.0               papelaria   \n",
       "...                              ...        ...                     ...   \n",
       "113420                    2018-03-02     1778.0                   bebes   \n",
       "113421                    2017-09-27    14953.0      eletrodomesticos_2   \n",
       "113422                    2018-02-15     8290.0  informatica_acessorios   \n",
       "113423                    2018-02-15     8290.0  informatica_acessorios   \n",
       "113424                    2018-04-03    19887.0            beleza_saude   \n",
       "\n",
       "       product_weight_g  product_length_cm product_height_cm  product_width_cm  \n",
       "0                 500.0               19.0               8.0              13.0  \n",
       "1                 400.0               19.0              13.0              19.0  \n",
       "2                 420.0               24.0              19.0              21.0  \n",
       "3                 450.0               30.0              10.0              20.0  \n",
       "4                 250.0               51.0              15.0              15.0  \n",
       "...                 ...                ...               ...               ...  \n",
       "113420           4950.0               40.0              10.0              40.0  \n",
       "113421          13300.0               32.0              90.0              22.0  \n",
       "113422           6550.0               20.0              20.0              20.0  \n",
       "113423           6550.0               20.0              20.0              20.0  \n",
       "113424            150.0               16.0               7.0              15.0  \n",
       "\n",
       "[113425 rows x 23 columns]"
      ]
     },
     "execution_count": 27,
     "metadata": {},
     "output_type": "execute_result"
    }
   ],
   "source": [
    "df"
   ]
  },
  {
   "cell_type": "markdown",
   "id": "10c0da6c",
   "metadata": {},
   "source": [
    "# Trazendo todas os Datasets Olist para fazer o merge"
   ]
  },
  {
   "cell_type": "code",
   "execution_count": 20,
   "id": "a857eec0",
   "metadata": {
    "ExecuteTime": {
     "end_time": "2022-10-05T12:00:31.760048Z",
     "start_time": "2022-10-05T12:00:29.411873Z"
    }
   },
   "outputs": [],
   "source": [
    "itens = pd.read_csv(\"Data/itens.csv\") \n",
    "ordens = pd.read_csv(\"Data/ordens.csv\")\n",
    "produtos = pd.read_csv(\"Data/produtos.csv\")\n",
    "geolocal = pd.read_csv(\"Data/geolocal.csv\")\n",
    "clientes = pd.read_csv(\"Data/clientes.csv\")\n",
    "avaliacoes = pd.read_csv('Data/avaliacoes.csv')\n",
    "vendedores = pd.read_csv(\"Data/vendedores.csv\")\n",
    "pagamentos = pd.read_csv('Data/pagamentos.csv')"
   ]
  },
  {
   "cell_type": "markdown",
   "id": "d216fad8",
   "metadata": {},
   "source": [
    "##  Merge dataset Itens com Vendedores"
   ]
  },
  {
   "cell_type": "code",
   "execution_count": 21,
   "id": "5281ed6b",
   "metadata": {
    "ExecuteTime": {
     "end_time": "2022-10-05T12:00:36.383535Z",
     "start_time": "2022-10-05T12:00:36.274679Z"
    }
   },
   "outputs": [],
   "source": [
    "df = vendedores.merge(itens, left_on='seller_id',right_on='seller_id', how='right')"
   ]
  },
  {
   "cell_type": "markdown",
   "id": "d028052d",
   "metadata": {},
   "source": [
    "##  Merge dataset Ordens "
   ]
  },
  {
   "cell_type": "code",
   "execution_count": 22,
   "id": "9f8a9809",
   "metadata": {
    "ExecuteTime": {
     "end_time": "2022-10-05T12:00:52.876762Z",
     "start_time": "2022-10-05T12:00:52.697234Z"
    }
   },
   "outputs": [],
   "source": [
    "df = df.merge(ordens, left_on='order_id', right_on='order_id', how='right')"
   ]
  },
  {
   "cell_type": "code",
   "execution_count": 23,
   "id": "7b72bef8",
   "metadata": {
    "ExecuteTime": {
     "end_time": "2022-10-05T12:00:55.024338Z",
     "start_time": "2022-10-05T12:00:54.953493Z"
    }
   },
   "outputs": [],
   "source": [
    "df.drop(['Unnamed: 0_x', 'Unnamed: 0_y', 'Unnamed: 0'],axis=1, inplace=True)\n"
   ]
  },
  {
   "cell_type": "markdown",
   "id": "1f17081f",
   "metadata": {
    "ExecuteTime": {
     "end_time": "2022-10-05T12:01:21.544200Z",
     "start_time": "2022-10-05T12:01:21.531225Z"
    }
   },
   "source": [
    "## Merge dataset Produtos"
   ]
  },
  {
   "cell_type": "code",
   "execution_count": 26,
   "id": "5308b079",
   "metadata": {
    "ExecuteTime": {
     "end_time": "2022-10-05T12:01:35.447904Z",
     "start_time": "2022-10-05T12:01:35.345906Z"
    }
   },
   "outputs": [],
   "source": [
    "df = df.merge(produtos, left_on='product_id', right_on='product_id',how='left' )"
   ]
  },
  {
   "cell_type": "markdown",
   "id": "09b452de",
   "metadata": {},
   "source": [
    "## Merge Ordens"
   ]
  },
  {
   "cell_type": "code",
   "execution_count": 28,
   "id": "3e981abc",
   "metadata": {
    "ExecuteTime": {
     "end_time": "2022-10-05T12:02:14.264576Z",
     "start_time": "2022-10-05T12:02:14.113979Z"
    }
   },
   "outputs": [],
   "source": [
    "df = df.merge(ordens, left_on='order_id', right_on='order_id',how='right' )"
   ]
  },
  {
   "cell_type": "code",
   "execution_count": 29,
   "id": "7f888ede",
   "metadata": {
    "ExecuteTime": {
     "end_time": "2022-10-05T12:02:18.542161Z",
     "start_time": "2022-10-05T12:02:18.348811Z"
    }
   },
   "outputs": [],
   "source": [
    "df = df.merge(avaliacoes, left_on='order_id', right_on='order_id',how='right' )"
   ]
  },
  {
   "cell_type": "code",
   "execution_count": 31,
   "id": "f3916346",
   "metadata": {
    "ExecuteTime": {
     "end_time": "2022-10-05T12:03:24.983983Z",
     "start_time": "2022-10-05T12:03:24.778499Z"
    }
   },
   "outputs": [
    {
     "data": {
      "text/html": [
       "<div>\n",
       "<style scoped>\n",
       "    .dataframe tbody tr th:only-of-type {\n",
       "        vertical-align: middle;\n",
       "    }\n",
       "\n",
       "    .dataframe tbody tr th {\n",
       "        vertical-align: top;\n",
       "    }\n",
       "\n",
       "    .dataframe thead th {\n",
       "        text-align: right;\n",
       "    }\n",
       "</style>\n",
       "<table border=\"1\" class=\"dataframe\">\n",
       "  <thead>\n",
       "    <tr style=\"text-align: right;\">\n",
       "      <th></th>\n",
       "      <th>seller_id</th>\n",
       "      <th>seller_zip_code_prefix</th>\n",
       "      <th>seller_city</th>\n",
       "      <th>seller_state</th>\n",
       "      <th>order_id</th>\n",
       "      <th>order_item_id</th>\n",
       "      <th>product_id</th>\n",
       "      <th>shipping_limit_date</th>\n",
       "      <th>price</th>\n",
       "      <th>freight_value</th>\n",
       "      <th>...</th>\n",
       "      <th>order_purchase_timestamp_y</th>\n",
       "      <th>order_approved_at_y</th>\n",
       "      <th>order_delivered_carrier_date_y</th>\n",
       "      <th>order_delivered_customer_date_y</th>\n",
       "      <th>order_estimated_delivery_date_y</th>\n",
       "      <th>Unnamed: 0</th>\n",
       "      <th>review_id</th>\n",
       "      <th>review_score</th>\n",
       "      <th>review_creation_date</th>\n",
       "      <th>review_answer_timestamp</th>\n",
       "    </tr>\n",
       "  </thead>\n",
       "  <tbody>\n",
       "    <tr>\n",
       "      <th>0</th>\n",
       "      <td>6d803cb79cc31c41c4c789a75933b3c7</td>\n",
       "      <td>14600.0</td>\n",
       "      <td>sao joaquim da barra</td>\n",
       "      <td>SP</td>\n",
       "      <td>73fc7af87114b39712e6da79b0a377eb</td>\n",
       "      <td>1.0</td>\n",
       "      <td>fd25ab760bfbba13c198fa3b4f1a0cd3</td>\n",
       "      <td>2018-01-18 15:47:59</td>\n",
       "      <td>185.00</td>\n",
       "      <td>13.63</td>\n",
       "      <td>...</td>\n",
       "      <td>2018-01-11 15:30:49</td>\n",
       "      <td>2018-01-11 15:47:59</td>\n",
       "      <td>2018-01-12 21:57:22</td>\n",
       "      <td>2018-01-17 18:42:41</td>\n",
       "      <td>2018-02-02</td>\n",
       "      <td>0</td>\n",
       "      <td>7bc2406110b926393aa56f80a40eba40</td>\n",
       "      <td>4</td>\n",
       "      <td>2018-01-18 00:00:00</td>\n",
       "      <td>2018-01-18 21:46:59</td>\n",
       "    </tr>\n",
       "    <tr>\n",
       "      <th>1</th>\n",
       "      <td>6d803cb79cc31c41c4c789a75933b3c7</td>\n",
       "      <td>14600.0</td>\n",
       "      <td>sao joaquim da barra</td>\n",
       "      <td>SP</td>\n",
       "      <td>73fc7af87114b39712e6da79b0a377eb</td>\n",
       "      <td>2.0</td>\n",
       "      <td>fd25ab760bfbba13c198fa3b4f1a0cd3</td>\n",
       "      <td>2018-01-18 15:47:59</td>\n",
       "      <td>185.00</td>\n",
       "      <td>13.63</td>\n",
       "      <td>...</td>\n",
       "      <td>2018-01-11 15:30:49</td>\n",
       "      <td>2018-01-11 15:47:59</td>\n",
       "      <td>2018-01-12 21:57:22</td>\n",
       "      <td>2018-01-17 18:42:41</td>\n",
       "      <td>2018-02-02</td>\n",
       "      <td>0</td>\n",
       "      <td>7bc2406110b926393aa56f80a40eba40</td>\n",
       "      <td>4</td>\n",
       "      <td>2018-01-18 00:00:00</td>\n",
       "      <td>2018-01-18 21:46:59</td>\n",
       "    </tr>\n",
       "    <tr>\n",
       "      <th>2</th>\n",
       "      <td>8e6d7754bc7e0f22c96d255ebda59eba</td>\n",
       "      <td>12233.0</td>\n",
       "      <td>sao jose dos campos</td>\n",
       "      <td>SP</td>\n",
       "      <td>a548910a1c6147796b98fdf73dbeba33</td>\n",
       "      <td>1.0</td>\n",
       "      <td>be0dbdc3d67d55727a65d4cd696ca73c</td>\n",
       "      <td>2018-03-06 12:48:39</td>\n",
       "      <td>79.79</td>\n",
       "      <td>8.30</td>\n",
       "      <td>...</td>\n",
       "      <td>2018-02-28 12:25:19</td>\n",
       "      <td>2018-02-28 12:48:39</td>\n",
       "      <td>2018-03-02 19:08:15</td>\n",
       "      <td>2018-03-09 23:17:20</td>\n",
       "      <td>2018-03-14</td>\n",
       "      <td>1</td>\n",
       "      <td>80e641a11e56f04c1ad469d5645fdfde</td>\n",
       "      <td>5</td>\n",
       "      <td>2018-03-10 00:00:00</td>\n",
       "      <td>2018-03-11 03:05:13</td>\n",
       "    </tr>\n",
       "    <tr>\n",
       "      <th>3</th>\n",
       "      <td>a1043bafd471dff536d0c462352beb48</td>\n",
       "      <td>37175.0</td>\n",
       "      <td>ilicinea</td>\n",
       "      <td>MG</td>\n",
       "      <td>f9e4b658b201a9f2ecdecbb34bed034b</td>\n",
       "      <td>1.0</td>\n",
       "      <td>d1c427060a0f73f6b889a5c7c61f2ac4</td>\n",
       "      <td>2018-02-08 10:31:15</td>\n",
       "      <td>149.00</td>\n",
       "      <td>45.12</td>\n",
       "      <td>...</td>\n",
       "      <td>2018-02-03 09:56:22</td>\n",
       "      <td>2018-02-03 10:33:41</td>\n",
       "      <td>2018-02-06 16:18:28</td>\n",
       "      <td>2018-02-16 17:28:48</td>\n",
       "      <td>2018-03-09</td>\n",
       "      <td>2</td>\n",
       "      <td>228ce5500dc1d8e020d8d1322874b6f0</td>\n",
       "      <td>5</td>\n",
       "      <td>2018-02-17 00:00:00</td>\n",
       "      <td>2018-02-18 14:36:24</td>\n",
       "    </tr>\n",
       "    <tr>\n",
       "      <th>4</th>\n",
       "      <td>a1043bafd471dff536d0c462352beb48</td>\n",
       "      <td>37175.0</td>\n",
       "      <td>ilicinea</td>\n",
       "      <td>MG</td>\n",
       "      <td>658677c97b385a9be170737859d3511b</td>\n",
       "      <td>1.0</td>\n",
       "      <td>52c80cedd4e90108bf4fa6a206ef6b03</td>\n",
       "      <td>2017-04-13 17:55:19</td>\n",
       "      <td>179.99</td>\n",
       "      <td>42.85</td>\n",
       "      <td>...</td>\n",
       "      <td>2017-04-09 17:41:13</td>\n",
       "      <td>2017-04-09 17:55:19</td>\n",
       "      <td>2017-04-10 14:24:47</td>\n",
       "      <td>2017-04-20 09:08:35</td>\n",
       "      <td>2017-05-10</td>\n",
       "      <td>3</td>\n",
       "      <td>e64fb393e7b32834bb789ff8bb30750e</td>\n",
       "      <td>5</td>\n",
       "      <td>2017-04-21 00:00:00</td>\n",
       "      <td>2017-04-21 22:02:06</td>\n",
       "    </tr>\n",
       "    <tr>\n",
       "      <th>...</th>\n",
       "      <td>...</td>\n",
       "      <td>...</td>\n",
       "      <td>...</td>\n",
       "      <td>...</td>\n",
       "      <td>...</td>\n",
       "      <td>...</td>\n",
       "      <td>...</td>\n",
       "      <td>...</td>\n",
       "      <td>...</td>\n",
       "      <td>...</td>\n",
       "      <td>...</td>\n",
       "      <td>...</td>\n",
       "      <td>...</td>\n",
       "      <td>...</td>\n",
       "      <td>...</td>\n",
       "      <td>...</td>\n",
       "      <td>...</td>\n",
       "      <td>...</td>\n",
       "      <td>...</td>\n",
       "      <td>...</td>\n",
       "      <td>...</td>\n",
       "    </tr>\n",
       "    <tr>\n",
       "      <th>113126</th>\n",
       "      <td>5343d0649eca2a983820bfe93fc4d17e</td>\n",
       "      <td>9270.0</td>\n",
       "      <td>santo andre</td>\n",
       "      <td>SP</td>\n",
       "      <td>2a8c23fee101d4d5662fa670396eb8da</td>\n",
       "      <td>1.0</td>\n",
       "      <td>4fb209073dc2ab6a6d3c259a7c285501</td>\n",
       "      <td>2018-07-02 17:30:37</td>\n",
       "      <td>226.77</td>\n",
       "      <td>61.20</td>\n",
       "      <td>...</td>\n",
       "      <td>2018-06-27 17:31:29</td>\n",
       "      <td>2018-06-28 17:30:45</td>\n",
       "      <td>2018-06-29 14:25:00</td>\n",
       "      <td>2018-07-06 13:22:37</td>\n",
       "      <td>2018-07-20</td>\n",
       "      <td>99219</td>\n",
       "      <td>574ed12dd733e5fa530cfd4bbf39d7c9</td>\n",
       "      <td>5</td>\n",
       "      <td>2018-07-07 00:00:00</td>\n",
       "      <td>2018-07-14 17:18:30</td>\n",
       "    </tr>\n",
       "    <tr>\n",
       "      <th>113127</th>\n",
       "      <td>46dc3b2cc0980fb8ec44634e21d2718e</td>\n",
       "      <td>22240.0</td>\n",
       "      <td>rio de janeiro</td>\n",
       "      <td>RJ</td>\n",
       "      <td>22ec9f0669f784db00fa86d035cf8602</td>\n",
       "      <td>1.0</td>\n",
       "      <td>3a33c980b62eb1ef3b8ae61b6fc6fe55</td>\n",
       "      <td>2017-12-07 22:08:00</td>\n",
       "      <td>199.99</td>\n",
       "      <td>9.77</td>\n",
       "      <td>...</td>\n",
       "      <td>2017-12-03 21:45:23</td>\n",
       "      <td>2017-12-03 22:08:00</td>\n",
       "      <td>2017-12-07 19:17:29</td>\n",
       "      <td>2017-12-08 17:19:00</td>\n",
       "      <td>2017-12-20</td>\n",
       "      <td>99220</td>\n",
       "      <td>f3897127253a9592a73be9bdfdf4ed7a</td>\n",
       "      <td>5</td>\n",
       "      <td>2017-12-09 00:00:00</td>\n",
       "      <td>2017-12-11 20:06:42</td>\n",
       "    </tr>\n",
       "    <tr>\n",
       "      <th>113128</th>\n",
       "      <td>17ca9b9e9b9ef8fdb529001b49ebb50f</td>\n",
       "      <td>32677.0</td>\n",
       "      <td>betim</td>\n",
       "      <td>MG</td>\n",
       "      <td>55d4004744368f5571d1f590031933e4</td>\n",
       "      <td>1.0</td>\n",
       "      <td>8ba0118a487ec8671aed57e5ef846574</td>\n",
       "      <td>2018-03-22 10:08:04</td>\n",
       "      <td>215.97</td>\n",
       "      <td>15.59</td>\n",
       "      <td>...</td>\n",
       "      <td>2018-03-18 09:52:19</td>\n",
       "      <td>2018-03-18 10:08:04</td>\n",
       "      <td>2018-03-19 23:51:29</td>\n",
       "      <td>2018-03-21 17:44:08</td>\n",
       "      <td>2018-04-06</td>\n",
       "      <td>99221</td>\n",
       "      <td>b3de70c89b1510c4cd3d0649fd302472</td>\n",
       "      <td>5</td>\n",
       "      <td>2018-03-22 00:00:00</td>\n",
       "      <td>2018-03-23 09:10:43</td>\n",
       "    </tr>\n",
       "    <tr>\n",
       "      <th>113129</th>\n",
       "      <td>8d956fec2e4337affcb520f56fd8cbfd</td>\n",
       "      <td>9780.0</td>\n",
       "      <td>sao bernardo do campo</td>\n",
       "      <td>SP</td>\n",
       "      <td>7725825d039fc1f0ceb7635e3f7d9206</td>\n",
       "      <td>1.0</td>\n",
       "      <td>73a7fbf8c1048131f3b531af31bcdf0e</td>\n",
       "      <td>2018-06-26 18:15:29</td>\n",
       "      <td>50.95</td>\n",
       "      <td>15.46</td>\n",
       "      <td>...</td>\n",
       "      <td>2018-06-22 16:47:28</td>\n",
       "      <td>2018-06-22 18:15:29</td>\n",
       "      <td>2018-06-25 12:58:00</td>\n",
       "      <td>2018-06-30 12:57:51</td>\n",
       "      <td>2018-07-16</td>\n",
       "      <td>99222</td>\n",
       "      <td>1adeb9d84d72fe4e337617733eb85149</td>\n",
       "      <td>4</td>\n",
       "      <td>2018-07-01 00:00:00</td>\n",
       "      <td>2018-07-02 12:59:13</td>\n",
       "    </tr>\n",
       "    <tr>\n",
       "      <th>113130</th>\n",
       "      <td>7e3f87d16fb353f408d467e74fbd8014</td>\n",
       "      <td>4809.0</td>\n",
       "      <td>sao paulo</td>\n",
       "      <td>SP</td>\n",
       "      <td>90531360ecb1eec2a1fbb265a0db0508</td>\n",
       "      <td>1.0</td>\n",
       "      <td>8fbd36d3b045f5f38b252b1513478f38</td>\n",
       "      <td>2017-07-06 02:45:15</td>\n",
       "      <td>32.90</td>\n",
       "      <td>7.78</td>\n",
       "      <td>...</td>\n",
       "      <td>2017-06-29 10:43:25</td>\n",
       "      <td>2017-06-30 02:45:15</td>\n",
       "      <td>2017-06-30 13:53:54</td>\n",
       "      <td>2017-07-02 09:44:54</td>\n",
       "      <td>2017-07-12</td>\n",
       "      <td>99223</td>\n",
       "      <td>efe49f1d6f951dd88b51e6ccd4cc548f</td>\n",
       "      <td>1</td>\n",
       "      <td>2017-07-03 00:00:00</td>\n",
       "      <td>2017-07-03 21:01:49</td>\n",
       "    </tr>\n",
       "  </tbody>\n",
       "</table>\n",
       "<p>113131 rows × 36 columns</p>\n",
       "</div>"
      ],
      "text/plain": [
       "                               seller_id  seller_zip_code_prefix  \\\n",
       "0       6d803cb79cc31c41c4c789a75933b3c7                 14600.0   \n",
       "1       6d803cb79cc31c41c4c789a75933b3c7                 14600.0   \n",
       "2       8e6d7754bc7e0f22c96d255ebda59eba                 12233.0   \n",
       "3       a1043bafd471dff536d0c462352beb48                 37175.0   \n",
       "4       a1043bafd471dff536d0c462352beb48                 37175.0   \n",
       "...                                  ...                     ...   \n",
       "113126  5343d0649eca2a983820bfe93fc4d17e                  9270.0   \n",
       "113127  46dc3b2cc0980fb8ec44634e21d2718e                 22240.0   \n",
       "113128  17ca9b9e9b9ef8fdb529001b49ebb50f                 32677.0   \n",
       "113129  8d956fec2e4337affcb520f56fd8cbfd                  9780.0   \n",
       "113130  7e3f87d16fb353f408d467e74fbd8014                  4809.0   \n",
       "\n",
       "                  seller_city seller_state                          order_id  \\\n",
       "0        sao joaquim da barra           SP  73fc7af87114b39712e6da79b0a377eb   \n",
       "1        sao joaquim da barra           SP  73fc7af87114b39712e6da79b0a377eb   \n",
       "2         sao jose dos campos           SP  a548910a1c6147796b98fdf73dbeba33   \n",
       "3                    ilicinea           MG  f9e4b658b201a9f2ecdecbb34bed034b   \n",
       "4                    ilicinea           MG  658677c97b385a9be170737859d3511b   \n",
       "...                       ...          ...                               ...   \n",
       "113126            santo andre           SP  2a8c23fee101d4d5662fa670396eb8da   \n",
       "113127         rio de janeiro           RJ  22ec9f0669f784db00fa86d035cf8602   \n",
       "113128                  betim           MG  55d4004744368f5571d1f590031933e4   \n",
       "113129  sao bernardo do campo           SP  7725825d039fc1f0ceb7635e3f7d9206   \n",
       "113130              sao paulo           SP  90531360ecb1eec2a1fbb265a0db0508   \n",
       "\n",
       "        order_item_id                        product_id  shipping_limit_date  \\\n",
       "0                 1.0  fd25ab760bfbba13c198fa3b4f1a0cd3  2018-01-18 15:47:59   \n",
       "1                 2.0  fd25ab760bfbba13c198fa3b4f1a0cd3  2018-01-18 15:47:59   \n",
       "2                 1.0  be0dbdc3d67d55727a65d4cd696ca73c  2018-03-06 12:48:39   \n",
       "3                 1.0  d1c427060a0f73f6b889a5c7c61f2ac4  2018-02-08 10:31:15   \n",
       "4                 1.0  52c80cedd4e90108bf4fa6a206ef6b03  2017-04-13 17:55:19   \n",
       "...               ...                               ...                  ...   \n",
       "113126            1.0  4fb209073dc2ab6a6d3c259a7c285501  2018-07-02 17:30:37   \n",
       "113127            1.0  3a33c980b62eb1ef3b8ae61b6fc6fe55  2017-12-07 22:08:00   \n",
       "113128            1.0  8ba0118a487ec8671aed57e5ef846574  2018-03-22 10:08:04   \n",
       "113129            1.0  73a7fbf8c1048131f3b531af31bcdf0e  2018-06-26 18:15:29   \n",
       "113130            1.0  8fbd36d3b045f5f38b252b1513478f38  2017-07-06 02:45:15   \n",
       "\n",
       "         price  freight_value  ... order_purchase_timestamp_y  \\\n",
       "0       185.00          13.63  ...        2018-01-11 15:30:49   \n",
       "1       185.00          13.63  ...        2018-01-11 15:30:49   \n",
       "2        79.79           8.30  ...        2018-02-28 12:25:19   \n",
       "3       149.00          45.12  ...        2018-02-03 09:56:22   \n",
       "4       179.99          42.85  ...        2017-04-09 17:41:13   \n",
       "...        ...            ...  ...                        ...   \n",
       "113126  226.77          61.20  ...        2018-06-27 17:31:29   \n",
       "113127  199.99           9.77  ...        2017-12-03 21:45:23   \n",
       "113128  215.97          15.59  ...        2018-03-18 09:52:19   \n",
       "113129   50.95          15.46  ...        2018-06-22 16:47:28   \n",
       "113130   32.90           7.78  ...        2017-06-29 10:43:25   \n",
       "\n",
       "        order_approved_at_y order_delivered_carrier_date_y  \\\n",
       "0       2018-01-11 15:47:59            2018-01-12 21:57:22   \n",
       "1       2018-01-11 15:47:59            2018-01-12 21:57:22   \n",
       "2       2018-02-28 12:48:39            2018-03-02 19:08:15   \n",
       "3       2018-02-03 10:33:41            2018-02-06 16:18:28   \n",
       "4       2017-04-09 17:55:19            2017-04-10 14:24:47   \n",
       "...                     ...                            ...   \n",
       "113126  2018-06-28 17:30:45            2018-06-29 14:25:00   \n",
       "113127  2017-12-03 22:08:00            2017-12-07 19:17:29   \n",
       "113128  2018-03-18 10:08:04            2018-03-19 23:51:29   \n",
       "113129  2018-06-22 18:15:29            2018-06-25 12:58:00   \n",
       "113130  2017-06-30 02:45:15            2017-06-30 13:53:54   \n",
       "\n",
       "       order_delivered_customer_date_y order_estimated_delivery_date_y  \\\n",
       "0                  2018-01-17 18:42:41                      2018-02-02   \n",
       "1                  2018-01-17 18:42:41                      2018-02-02   \n",
       "2                  2018-03-09 23:17:20                      2018-03-14   \n",
       "3                  2018-02-16 17:28:48                      2018-03-09   \n",
       "4                  2017-04-20 09:08:35                      2017-05-10   \n",
       "...                                ...                             ...   \n",
       "113126             2018-07-06 13:22:37                      2018-07-20   \n",
       "113127             2017-12-08 17:19:00                      2017-12-20   \n",
       "113128             2018-03-21 17:44:08                      2018-04-06   \n",
       "113129             2018-06-30 12:57:51                      2018-07-16   \n",
       "113130             2017-07-02 09:44:54                      2017-07-12   \n",
       "\n",
       "       Unnamed: 0                         review_id  review_score  \\\n",
       "0               0  7bc2406110b926393aa56f80a40eba40             4   \n",
       "1               0  7bc2406110b926393aa56f80a40eba40             4   \n",
       "2               1  80e641a11e56f04c1ad469d5645fdfde             5   \n",
       "3               2  228ce5500dc1d8e020d8d1322874b6f0             5   \n",
       "4               3  e64fb393e7b32834bb789ff8bb30750e             5   \n",
       "...           ...                               ...           ...   \n",
       "113126      99219  574ed12dd733e5fa530cfd4bbf39d7c9             5   \n",
       "113127      99220  f3897127253a9592a73be9bdfdf4ed7a             5   \n",
       "113128      99221  b3de70c89b1510c4cd3d0649fd302472             5   \n",
       "113129      99222  1adeb9d84d72fe4e337617733eb85149             4   \n",
       "113130      99223  efe49f1d6f951dd88b51e6ccd4cc548f             1   \n",
       "\n",
       "       review_creation_date  review_answer_timestamp  \n",
       "0       2018-01-18 00:00:00      2018-01-18 21:46:59  \n",
       "1       2018-01-18 00:00:00      2018-01-18 21:46:59  \n",
       "2       2018-03-10 00:00:00      2018-03-11 03:05:13  \n",
       "3       2018-02-17 00:00:00      2018-02-18 14:36:24  \n",
       "4       2017-04-21 00:00:00      2017-04-21 22:02:06  \n",
       "...                     ...                      ...  \n",
       "113126  2018-07-07 00:00:00      2018-07-14 17:18:30  \n",
       "113127  2017-12-09 00:00:00      2017-12-11 20:06:42  \n",
       "113128  2018-03-22 00:00:00      2018-03-23 09:10:43  \n",
       "113129  2018-07-01 00:00:00      2018-07-02 12:59:13  \n",
       "113130  2017-07-03 00:00:00      2017-07-03 21:01:49  \n",
       "\n",
       "[113131 rows x 36 columns]"
      ]
     },
     "execution_count": 31,
     "metadata": {},
     "output_type": "execute_result"
    }
   ],
   "source": [
    "df"
   ]
  },
  {
   "cell_type": "code",
   "execution_count": null,
   "id": "fe1eaae9",
   "metadata": {
    "ExecuteTime": {
     "end_time": "2022-10-04T12:31:34.943705Z",
     "start_time": "2022-10-04T12:30:23.110161Z"
    }
   },
   "outputs": [],
   "source": [
    "ordens.to_sql('ordens', con=conn, index=False, if_exists='replace')\n",
    "produtos.to_sql('produtos', con=conn, index=False, if_exists='replace')\n",
    "geolocal.to_sql('geolocal', con=conn, index=False, if_exists='replace')\n",
    "clientes.to_sql('clientes', con=conn, index=False, if_exists='replace')\n",
    "avaliacoes.to_sql('avaliacoes', con=conn, index=False, if_exists='replace')\n",
    "vendedores.to_sql('vendedores', con=conn, index=False, if_exists='replace')\n"
   ]
  },
  {
   "cell_type": "code",
   "execution_count": null,
   "id": "376f2ced",
   "metadata": {
    "ExecuteTime": {
     "end_time": "2022-10-04T12:20:25.943704Z",
     "start_time": "2022-10-04T12:20:09.589969Z"
    }
   },
   "outputs": [],
   "source": [
    "pip install pymysql==1.0.2\n"
   ]
  },
  {
   "cell_type": "code",
   "execution_count": null,
   "id": "8db77f3a",
   "metadata": {
    "ExecuteTime": {
     "end_time": "2022-10-04T12:20:58.019936Z",
     "start_time": "2022-10-04T12:20:57.897634Z"
    }
   },
   "outputs": [],
   "source": [
    "db_server='pymysql'\n",
    "user='root'\n",
    "db_port = '3306'\n",
    "password = 'ironhack'\n",
    "ip = 'localhost'\n",
    "db_name = 'olist'\n",
    "engine = db.create_engine(f'mysql+{db_server}://{user}:{password}@{ip}:{db_port}/{db_name}?charset=utf8')\n",
    "conn = engine.connect()\n"
   ]
  },
  {
   "cell_type": "code",
   "execution_count": null,
   "id": "6dab9b79",
   "metadata": {
    "ExecuteTime": {
     "end_time": "2022-10-04T12:24:39.071601Z",
     "start_time": "2022-10-04T12:24:24.797971Z"
    }
   },
   "outputs": [],
   "source": [
    "itens.to_sql('itens', con=conn, index=False, if_exists='replace')"
   ]
  },
  {
   "cell_type": "code",
   "execution_count": 32,
   "id": "eb22ed6f",
   "metadata": {
    "ExecuteTime": {
     "end_time": "2022-10-05T12:05:00.908521Z",
     "start_time": "2022-10-05T12:04:58.025672Z"
    }
   },
   "outputs": [],
   "source": [
    "df.to_csv('Data/df.csv')"
   ]
  }
 ],
 "metadata": {
  "kernelspec": {
   "display_name": "pycaret",
   "language": "python",
   "name": "pycaret"
  },
  "language_info": {
   "codemirror_mode": {
    "name": "ipython",
    "version": 3
   },
   "file_extension": ".py",
   "mimetype": "text/x-python",
   "name": "python",
   "nbconvert_exporter": "python",
   "pygments_lexer": "ipython3",
   "version": "3.8.13"
  },
  "nbTranslate": {
   "displayLangs": [
    "*"
   ],
   "hotkey": "alt-t",
   "langInMainMenu": true,
   "sourceLang": "en",
   "targetLang": "fr",
   "useGoogleTranslate": true
  },
  "toc": {
   "base_numbering": 1,
   "nav_menu": {},
   "number_sections": true,
   "sideBar": true,
   "skip_h1_title": false,
   "title_cell": "Table of Contents",
   "title_sidebar": "Contents",
   "toc_cell": false,
   "toc_position": {},
   "toc_section_display": true,
   "toc_window_display": false
  },
  "varInspector": {
   "cols": {
    "lenName": 16,
    "lenType": 16,
    "lenVar": 40
   },
   "kernels_config": {
    "python": {
     "delete_cmd_postfix": "",
     "delete_cmd_prefix": "del ",
     "library": "var_list.py",
     "varRefreshCmd": "print(var_dic_list())"
    },
    "r": {
     "delete_cmd_postfix": ") ",
     "delete_cmd_prefix": "rm(",
     "library": "var_list.r",
     "varRefreshCmd": "cat(var_dic_list()) "
    }
   },
   "types_to_exclude": [
    "module",
    "function",
    "builtin_function_or_method",
    "instance",
    "_Feature"
   ],
   "window_display": false
  }
 },
 "nbformat": 4,
 "nbformat_minor": 5
}
