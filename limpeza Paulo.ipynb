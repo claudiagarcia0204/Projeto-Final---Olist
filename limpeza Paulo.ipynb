{
 "cells": [
  {
   "cell_type": "code",
   "execution_count": 1,
   "id": "a91f676f",
   "metadata": {
    "ExecuteTime": {
     "end_time": "2022-10-03T12:47:51.683925Z",
     "start_time": "2022-10-03T12:47:48.698637Z"
    }
   },
   "outputs": [],
   "source": [
    "import pandas as pd\n",
    "import numpy as np"
   ]
  },
  {
   "cell_type": "markdown",
   "id": "c6f15b10",
   "metadata": {},
   "source": [
    "# DataSet  Itens"
   ]
  },
  {
   "cell_type": "code",
   "execution_count": 9,
   "id": "25674aea",
   "metadata": {
    "ExecuteTime": {
     "end_time": "2022-10-03T12:55:35.741401Z",
     "start_time": "2022-10-03T12:55:35.443248Z"
    }
   },
   "outputs": [],
   "source": [
    "itens = pd.read_csv(\"data\\olist_order_items_dataset.csv\")\n",
    "# tabela 'itens' tem 112650 linhas e 7 colunas (order_id, product_id, seller_id,shipping_limit_date, price,freight_value  )"
   ]
  },
  {
   "cell_type": "code",
   "execution_count": 114,
   "id": "5d69b6e8",
   "metadata": {
    "ExecuteTime": {
     "end_time": "2022-10-03T17:07:19.587999Z",
     "start_time": "2022-10-03T17:07:18.084920Z"
    }
   },
   "outputs": [],
   "source": [
    "itens.to_csv('itens.csv')\n"
   ]
  },
  {
   "cell_type": "markdown",
   "id": "4da81671",
   "metadata": {},
   "source": [
    "# DataSet Ordens"
   ]
  },
  {
   "cell_type": "code",
   "execution_count": 14,
   "id": "9c7c76b9",
   "metadata": {
    "ExecuteTime": {
     "end_time": "2022-10-03T12:58:36.670337Z",
     "start_time": "2022-10-03T12:58:36.157123Z"
    }
   },
   "outputs": [],
   "source": [
    "ordens = pd.read_csv(\"data\\olist_orders_dataset.csv\")\n",
    "\n",
    "'''Tabela 'ordens' tem 99441 linhas e 9 colunas ('order_id', 'customer_id', 'order_status', 'order_purchase_timestamp',\n",
    "'order_approved_at', 'order_delivered_carrier_date',\n",
    "'order_delivered_customer_date', 'order_estimated_delivery_date)\n",
    "Nulos (order_approved_at - 160, order_delivered_carrier_date -  1783, order_delivered_customer_date- 2965)'''\n"
   ]
  },
  {
   "cell_type": "markdown",
   "id": "e253c183",
   "metadata": {},
   "source": [
    "## Transformando Datetime (ordens)"
   ]
  },
  {
   "cell_type": "code",
   "execution_count": 23,
   "id": "654aa445",
   "metadata": {
    "ExecuteTime": {
     "end_time": "2022-10-03T13:12:07.969488Z",
     "start_time": "2022-10-03T13:12:07.546989Z"
    }
   },
   "outputs": [],
   "source": [
    "#  Transformar Datetime\n",
    "times_cols = ['order_purchase_timestamp', 'order_approved_at', 'order_delivered_carrier_date', 'order_estimated_delivery_date', 'order_delivered_customer_date']\n",
    "for col in times_cols:\n",
    "    ordens[col] = pd.to_datetime(ordens[col])\n"
   ]
  },
  {
   "cell_type": "markdown",
   "id": "37faf012",
   "metadata": {
    "ExecuteTime": {
     "end_time": "2022-10-03T13:25:46.026038Z",
     "start_time": "2022-10-03T13:25:46.012076Z"
    }
   },
   "source": [
    "## Tratando linhas nulas(ordens)"
   ]
  },
  {
   "cell_type": "code",
   "execution_count": 32,
   "id": "03798a3e",
   "metadata": {
    "ExecuteTime": {
     "end_time": "2022-10-03T13:20:27.708408Z",
     "start_time": "2022-10-03T13:20:27.688454Z"
    }
   },
   "outputs": [],
   "source": [
    "# Convertendo linhas nulas por informações próximas\n",
    "ordens[\"order_approved_at\"].fillna(ordens[\"order_purchase_timestamp\"], inplace=True)\n",
    "ordens[\"order_delivered_customer_date\"].fillna(ordens[\"order_estimated_delivery_date\"], inplace=True)\n",
    "ordens[\"order_delivered_carrier_date\"].fillna(ordens[\"order_approved_at\"], inplace=True)"
   ]
  },
  {
   "cell_type": "code",
   "execution_count": 115,
   "id": "d398474a",
   "metadata": {
    "ExecuteTime": {
     "end_time": "2022-10-03T17:08:50.759560Z",
     "start_time": "2022-10-03T17:08:48.258191Z"
    }
   },
   "outputs": [],
   "source": [
    "ordens.to_csv('Data/ordens.csv')\n"
   ]
  },
  {
   "cell_type": "markdown",
   "id": "d96d46d4",
   "metadata": {},
   "source": [
    "# DataSet Avaliações"
   ]
  },
  {
   "cell_type": "code",
   "execution_count": 65,
   "id": "4d130628",
   "metadata": {
    "ExecuteTime": {
     "end_time": "2022-10-03T14:12:30.211765Z",
     "start_time": "2022-10-03T14:12:29.786537Z"
    }
   },
   "outputs": [],
   "source": [
    "avaliacoes = pd.read_csv(\"data\\olist_order_reviews_dataset.csv\")\n",
    "\n",
    "'''Tabela 'avaliacoes' tem 99224 linhas e 7 colunas (review_id,order_id, review_score, \n",
    "review_comment_title, review_comment_message, review_creation_date, review_answer_timestamp)'''   "
   ]
  },
  {
   "cell_type": "markdown",
   "id": "91502af3",
   "metadata": {},
   "source": [
    "## Dropando as colunas 'review_comment_title', 'review_comment_message'"
   ]
  },
  {
   "cell_type": "code",
   "execution_count": 66,
   "id": "e1efbe0e",
   "metadata": {
    "ExecuteTime": {
     "end_time": "2022-10-03T14:12:38.078206Z",
     "start_time": "2022-10-03T14:12:38.050838Z"
    }
   },
   "outputs": [],
   "source": [
    "avaliacoes.drop(['review_comment_title', 'review_comment_message'],axis=1, inplace=True)\n",
    "\n",
    "'''Após a limpeza o dataframe possui 99224 linhas e 5 colunas (review_id,order_id,review_score,\n",
    " review_creation_date,review_answer_timestamp) '''   "
   ]
  },
  {
   "cell_type": "code",
   "execution_count": null,
   "id": "611f8755",
   "metadata": {},
   "outputs": [],
   "source": [
    "ordens.to_csv('Data/ordens.csv')"
   ]
  },
  {
   "cell_type": "markdown",
   "id": "fd9940c0",
   "metadata": {
    "ExecuteTime": {
     "end_time": "2022-10-03T14:29:27.508999Z",
     "start_time": "2022-10-03T14:29:27.499024Z"
    }
   },
   "source": [
    "# DataSet Geolocal"
   ]
  },
  {
   "cell_type": "code",
   "execution_count": 75,
   "id": "13827b94",
   "metadata": {
    "ExecuteTime": {
     "end_time": "2022-10-03T14:33:15.707965Z",
     "start_time": "2022-10-03T14:33:14.890118Z"
    }
   },
   "outputs": [
    {
     "data": {
      "text/html": [
       "<div>\n",
       "<style scoped>\n",
       "    .dataframe tbody tr th:only-of-type {\n",
       "        vertical-align: middle;\n",
       "    }\n",
       "\n",
       "    .dataframe tbody tr th {\n",
       "        vertical-align: top;\n",
       "    }\n",
       "\n",
       "    .dataframe thead th {\n",
       "        text-align: right;\n",
       "    }\n",
       "</style>\n",
       "<table border=\"1\" class=\"dataframe\">\n",
       "  <thead>\n",
       "    <tr style=\"text-align: right;\">\n",
       "      <th></th>\n",
       "      <th>geolocation_zip_code_prefix</th>\n",
       "      <th>geolocation_lat</th>\n",
       "      <th>geolocation_lng</th>\n",
       "      <th>geolocation_city</th>\n",
       "      <th>geolocation_state</th>\n",
       "    </tr>\n",
       "  </thead>\n",
       "  <tbody>\n",
       "    <tr>\n",
       "      <th>0</th>\n",
       "      <td>1037</td>\n",
       "      <td>-23.545621</td>\n",
       "      <td>-46.639292</td>\n",
       "      <td>sao paulo</td>\n",
       "      <td>SP</td>\n",
       "    </tr>\n",
       "    <tr>\n",
       "      <th>1</th>\n",
       "      <td>1046</td>\n",
       "      <td>-23.546081</td>\n",
       "      <td>-46.644820</td>\n",
       "      <td>sao paulo</td>\n",
       "      <td>SP</td>\n",
       "    </tr>\n",
       "    <tr>\n",
       "      <th>2</th>\n",
       "      <td>1046</td>\n",
       "      <td>-23.546129</td>\n",
       "      <td>-46.642951</td>\n",
       "      <td>sao paulo</td>\n",
       "      <td>SP</td>\n",
       "    </tr>\n",
       "    <tr>\n",
       "      <th>3</th>\n",
       "      <td>1041</td>\n",
       "      <td>-23.544392</td>\n",
       "      <td>-46.639499</td>\n",
       "      <td>sao paulo</td>\n",
       "      <td>SP</td>\n",
       "    </tr>\n",
       "    <tr>\n",
       "      <th>4</th>\n",
       "      <td>1035</td>\n",
       "      <td>-23.541578</td>\n",
       "      <td>-46.641607</td>\n",
       "      <td>sao paulo</td>\n",
       "      <td>SP</td>\n",
       "    </tr>\n",
       "    <tr>\n",
       "      <th>...</th>\n",
       "      <td>...</td>\n",
       "      <td>...</td>\n",
       "      <td>...</td>\n",
       "      <td>...</td>\n",
       "      <td>...</td>\n",
       "    </tr>\n",
       "    <tr>\n",
       "      <th>1000158</th>\n",
       "      <td>99950</td>\n",
       "      <td>-28.068639</td>\n",
       "      <td>-52.010705</td>\n",
       "      <td>tapejara</td>\n",
       "      <td>RS</td>\n",
       "    </tr>\n",
       "    <tr>\n",
       "      <th>1000159</th>\n",
       "      <td>99900</td>\n",
       "      <td>-27.877125</td>\n",
       "      <td>-52.224882</td>\n",
       "      <td>getulio vargas</td>\n",
       "      <td>RS</td>\n",
       "    </tr>\n",
       "    <tr>\n",
       "      <th>1000160</th>\n",
       "      <td>99950</td>\n",
       "      <td>-28.071855</td>\n",
       "      <td>-52.014716</td>\n",
       "      <td>tapejara</td>\n",
       "      <td>RS</td>\n",
       "    </tr>\n",
       "    <tr>\n",
       "      <th>1000161</th>\n",
       "      <td>99980</td>\n",
       "      <td>-28.388932</td>\n",
       "      <td>-51.846871</td>\n",
       "      <td>david canabarro</td>\n",
       "      <td>RS</td>\n",
       "    </tr>\n",
       "    <tr>\n",
       "      <th>1000162</th>\n",
       "      <td>99950</td>\n",
       "      <td>-28.070104</td>\n",
       "      <td>-52.018658</td>\n",
       "      <td>tapejara</td>\n",
       "      <td>RS</td>\n",
       "    </tr>\n",
       "  </tbody>\n",
       "</table>\n",
       "<p>1000163 rows × 5 columns</p>\n",
       "</div>"
      ],
      "text/plain": [
       "         geolocation_zip_code_prefix  geolocation_lat  geolocation_lng  \\\n",
       "0                               1037       -23.545621       -46.639292   \n",
       "1                               1046       -23.546081       -46.644820   \n",
       "2                               1046       -23.546129       -46.642951   \n",
       "3                               1041       -23.544392       -46.639499   \n",
       "4                               1035       -23.541578       -46.641607   \n",
       "...                              ...              ...              ...   \n",
       "1000158                        99950       -28.068639       -52.010705   \n",
       "1000159                        99900       -27.877125       -52.224882   \n",
       "1000160                        99950       -28.071855       -52.014716   \n",
       "1000161                        99980       -28.388932       -51.846871   \n",
       "1000162                        99950       -28.070104       -52.018658   \n",
       "\n",
       "        geolocation_city geolocation_state  \n",
       "0              sao paulo                SP  \n",
       "1              sao paulo                SP  \n",
       "2              sao paulo                SP  \n",
       "3              sao paulo                SP  \n",
       "4              sao paulo                SP  \n",
       "...                  ...               ...  \n",
       "1000158         tapejara                RS  \n",
       "1000159   getulio vargas                RS  \n",
       "1000160         tapejara                RS  \n",
       "1000161  david canabarro                RS  \n",
       "1000162         tapejara                RS  \n",
       "\n",
       "[1000163 rows x 5 columns]"
      ]
     },
     "execution_count": 75,
     "metadata": {},
     "output_type": "execute_result"
    }
   ],
   "source": [
    "geolocal = pd.read_csv(\"data\\olist_geolocation_dataset.csv\") \n",
    "\n",
    "'''Tabela geolocal com 100.163 linhas e 5 colunas (geolocation_zip_code_prefix, \n",
    "geolocation_lat, geolocation_lng, geolocation_city, geolocation_state)  )'''"
   ]
  },
  {
   "cell_type": "markdown",
   "id": "137b23f3",
   "metadata": {
    "ExecuteTime": {
     "end_time": "2022-10-03T14:39:16.477112Z",
     "start_time": "2022-10-03T14:39:16.459099Z"
    }
   },
   "source": [
    "# DataSet Produtos"
   ]
  },
  {
   "cell_type": "code",
   "execution_count": 83,
   "id": "c5655a38",
   "metadata": {
    "ExecuteTime": {
     "end_time": "2022-10-03T14:43:36.674980Z",
     "start_time": "2022-10-03T14:43:36.615986Z"
    }
   },
   "outputs": [],
   "source": [
    "produtos = pd.read_csv(\"data\\olist_products_dataset.csv\") #products"
   ]
  },
  {
   "cell_type": "code",
   "execution_count": 108,
   "id": "b9811d38",
   "metadata": {
    "ExecuteTime": {
     "end_time": "2022-10-03T16:46:55.032983Z",
     "start_time": "2022-10-03T16:46:54.989582Z"
    }
   },
   "outputs": [
    {
     "data": {
      "text/html": [
       "<div>\n",
       "<style scoped>\n",
       "    .dataframe tbody tr th:only-of-type {\n",
       "        vertical-align: middle;\n",
       "    }\n",
       "\n",
       "    .dataframe tbody tr th {\n",
       "        vertical-align: top;\n",
       "    }\n",
       "\n",
       "    .dataframe thead th {\n",
       "        text-align: right;\n",
       "    }\n",
       "</style>\n",
       "<table border=\"1\" class=\"dataframe\">\n",
       "  <thead>\n",
       "    <tr style=\"text-align: right;\">\n",
       "      <th></th>\n",
       "      <th>product_id</th>\n",
       "      <th>product_category_name</th>\n",
       "      <th>product_name_lenght</th>\n",
       "      <th>product_description_lenght</th>\n",
       "      <th>product_photos_qty</th>\n",
       "      <th>product_weight_g</th>\n",
       "      <th>product_length_cm</th>\n",
       "      <th>product_height_cm</th>\n",
       "      <th>product_width_cm</th>\n",
       "    </tr>\n",
       "  </thead>\n",
       "  <tbody>\n",
       "    <tr>\n",
       "      <th>0</th>\n",
       "      <td>1e9e8ef04dbcff4541ed26657ea517e5</td>\n",
       "      <td>perfumaria</td>\n",
       "      <td>40.0</td>\n",
       "      <td>287.0</td>\n",
       "      <td>1.0</td>\n",
       "      <td>225.0</td>\n",
       "      <td>16.0</td>\n",
       "      <td>10.0</td>\n",
       "      <td>14.0</td>\n",
       "    </tr>\n",
       "    <tr>\n",
       "      <th>1</th>\n",
       "      <td>3aa071139cb16b67ca9e5dea641aaa2f</td>\n",
       "      <td>artes</td>\n",
       "      <td>44.0</td>\n",
       "      <td>276.0</td>\n",
       "      <td>1.0</td>\n",
       "      <td>1000.0</td>\n",
       "      <td>30.0</td>\n",
       "      <td>18.0</td>\n",
       "      <td>20.0</td>\n",
       "    </tr>\n",
       "    <tr>\n",
       "      <th>2</th>\n",
       "      <td>96bd76ec8810374ed1b65e291975717f</td>\n",
       "      <td>esporte_lazer</td>\n",
       "      <td>46.0</td>\n",
       "      <td>250.0</td>\n",
       "      <td>1.0</td>\n",
       "      <td>154.0</td>\n",
       "      <td>18.0</td>\n",
       "      <td>9.0</td>\n",
       "      <td>15.0</td>\n",
       "    </tr>\n",
       "    <tr>\n",
       "      <th>3</th>\n",
       "      <td>cef67bcfe19066a932b7673e239eb23d</td>\n",
       "      <td>bebes</td>\n",
       "      <td>27.0</td>\n",
       "      <td>261.0</td>\n",
       "      <td>1.0</td>\n",
       "      <td>371.0</td>\n",
       "      <td>26.0</td>\n",
       "      <td>4.0</td>\n",
       "      <td>26.0</td>\n",
       "    </tr>\n",
       "    <tr>\n",
       "      <th>4</th>\n",
       "      <td>9dc1a7de274444849c219cff195d0b71</td>\n",
       "      <td>utilidades_domesticas</td>\n",
       "      <td>37.0</td>\n",
       "      <td>402.0</td>\n",
       "      <td>4.0</td>\n",
       "      <td>625.0</td>\n",
       "      <td>20.0</td>\n",
       "      <td>17.0</td>\n",
       "      <td>13.0</td>\n",
       "    </tr>\n",
       "    <tr>\n",
       "      <th>...</th>\n",
       "      <td>...</td>\n",
       "      <td>...</td>\n",
       "      <td>...</td>\n",
       "      <td>...</td>\n",
       "      <td>...</td>\n",
       "      <td>...</td>\n",
       "      <td>...</td>\n",
       "      <td>...</td>\n",
       "      <td>...</td>\n",
       "    </tr>\n",
       "    <tr>\n",
       "      <th>32946</th>\n",
       "      <td>a0b7d5a992ccda646f2d34e418fff5a0</td>\n",
       "      <td>moveis_decoracao</td>\n",
       "      <td>45.0</td>\n",
       "      <td>67.0</td>\n",
       "      <td>2.0</td>\n",
       "      <td>12300.0</td>\n",
       "      <td>40.0</td>\n",
       "      <td>40.0</td>\n",
       "      <td>40.0</td>\n",
       "    </tr>\n",
       "    <tr>\n",
       "      <th>32947</th>\n",
       "      <td>bf4538d88321d0fd4412a93c974510e6</td>\n",
       "      <td>construcao_ferramentas_iluminacao</td>\n",
       "      <td>41.0</td>\n",
       "      <td>971.0</td>\n",
       "      <td>1.0</td>\n",
       "      <td>1700.0</td>\n",
       "      <td>16.0</td>\n",
       "      <td>19.0</td>\n",
       "      <td>16.0</td>\n",
       "    </tr>\n",
       "    <tr>\n",
       "      <th>32948</th>\n",
       "      <td>9a7c6041fa9592d9d9ef6cfe62a71f8c</td>\n",
       "      <td>cama_mesa_banho</td>\n",
       "      <td>50.0</td>\n",
       "      <td>799.0</td>\n",
       "      <td>1.0</td>\n",
       "      <td>1400.0</td>\n",
       "      <td>27.0</td>\n",
       "      <td>7.0</td>\n",
       "      <td>27.0</td>\n",
       "    </tr>\n",
       "    <tr>\n",
       "      <th>32949</th>\n",
       "      <td>83808703fc0706a22e264b9d75f04a2e</td>\n",
       "      <td>informatica_acessorios</td>\n",
       "      <td>60.0</td>\n",
       "      <td>156.0</td>\n",
       "      <td>2.0</td>\n",
       "      <td>700.0</td>\n",
       "      <td>31.0</td>\n",
       "      <td>13.0</td>\n",
       "      <td>20.0</td>\n",
       "    </tr>\n",
       "    <tr>\n",
       "      <th>32950</th>\n",
       "      <td>106392145fca363410d287a815be6de4</td>\n",
       "      <td>cama_mesa_banho</td>\n",
       "      <td>58.0</td>\n",
       "      <td>309.0</td>\n",
       "      <td>1.0</td>\n",
       "      <td>2083.0</td>\n",
       "      <td>12.0</td>\n",
       "      <td>2.0</td>\n",
       "      <td>7.0</td>\n",
       "    </tr>\n",
       "  </tbody>\n",
       "</table>\n",
       "<p>32340 rows × 9 columns</p>\n",
       "</div>"
      ],
      "text/plain": [
       "                             product_id              product_category_name  \\\n",
       "0      1e9e8ef04dbcff4541ed26657ea517e5                         perfumaria   \n",
       "1      3aa071139cb16b67ca9e5dea641aaa2f                              artes   \n",
       "2      96bd76ec8810374ed1b65e291975717f                      esporte_lazer   \n",
       "3      cef67bcfe19066a932b7673e239eb23d                              bebes   \n",
       "4      9dc1a7de274444849c219cff195d0b71              utilidades_domesticas   \n",
       "...                                 ...                                ...   \n",
       "32946  a0b7d5a992ccda646f2d34e418fff5a0                   moveis_decoracao   \n",
       "32947  bf4538d88321d0fd4412a93c974510e6  construcao_ferramentas_iluminacao   \n",
       "32948  9a7c6041fa9592d9d9ef6cfe62a71f8c                    cama_mesa_banho   \n",
       "32949  83808703fc0706a22e264b9d75f04a2e             informatica_acessorios   \n",
       "32950  106392145fca363410d287a815be6de4                    cama_mesa_banho   \n",
       "\n",
       "       product_name_lenght  product_description_lenght  product_photos_qty  \\\n",
       "0                     40.0                       287.0                 1.0   \n",
       "1                     44.0                       276.0                 1.0   \n",
       "2                     46.0                       250.0                 1.0   \n",
       "3                     27.0                       261.0                 1.0   \n",
       "4                     37.0                       402.0                 4.0   \n",
       "...                    ...                         ...                 ...   \n",
       "32946                 45.0                        67.0                 2.0   \n",
       "32947                 41.0                       971.0                 1.0   \n",
       "32948                 50.0                       799.0                 1.0   \n",
       "32949                 60.0                       156.0                 2.0   \n",
       "32950                 58.0                       309.0                 1.0   \n",
       "\n",
       "       product_weight_g  product_length_cm  product_height_cm  \\\n",
       "0                 225.0               16.0               10.0   \n",
       "1                1000.0               30.0               18.0   \n",
       "2                 154.0               18.0                9.0   \n",
       "3                 371.0               26.0                4.0   \n",
       "4                 625.0               20.0               17.0   \n",
       "...                 ...                ...                ...   \n",
       "32946           12300.0               40.0               40.0   \n",
       "32947            1700.0               16.0               19.0   \n",
       "32948            1400.0               27.0                7.0   \n",
       "32949             700.0               31.0               13.0   \n",
       "32950            2083.0               12.0                2.0   \n",
       "\n",
       "       product_width_cm  \n",
       "0                  14.0  \n",
       "1                  20.0  \n",
       "2                  15.0  \n",
       "3                  26.0  \n",
       "4                  13.0  \n",
       "...                 ...  \n",
       "32946              40.0  \n",
       "32947              16.0  \n",
       "32948              27.0  \n",
       "32949              20.0  \n",
       "32950               7.0  \n",
       "\n",
       "[32340 rows x 9 columns]"
      ]
     },
     "execution_count": 108,
     "metadata": {},
     "output_type": "execute_result"
    }
   ],
   "source": [
    "produtos"
   ]
  },
  {
   "cell_type": "markdown",
   "id": "2d63621b",
   "metadata": {
    "ExecuteTime": {
     "end_time": "2022-10-03T16:45:23.657591Z",
     "start_time": "2022-10-03T16:45:23.645626Z"
    }
   },
   "source": [
    "## Dropando linhas em nulo"
   ]
  },
  {
   "cell_type": "code",
   "execution_count": 105,
   "id": "bab9af6a",
   "metadata": {
    "ExecuteTime": {
     "end_time": "2022-10-03T16:44:00.613859Z",
     "start_time": "2022-10-03T16:44:00.535073Z"
    }
   },
   "outputs": [],
   "source": [
    "produtos.dropna(inplace=True)"
   ]
  },
  {
   "cell_type": "code",
   "execution_count": 110,
   "id": "08cfef01",
   "metadata": {
    "ExecuteTime": {
     "end_time": "2022-10-03T16:50:35.863476Z",
     "start_time": "2022-10-03T16:50:35.708796Z"
    }
   },
   "outputs": [],
   "source": [
    "produtos.drop(['product_name_lenght', 'product_description_lenght', 'product_photos_qty'],axis=1, inplace=True)"
   ]
  },
  {
   "cell_type": "code",
   "execution_count": 111,
   "id": "a54247d6",
   "metadata": {
    "ExecuteTime": {
     "end_time": "2022-10-03T16:50:49.813582Z",
     "start_time": "2022-10-03T16:50:49.788641Z"
    }
   },
   "outputs": [
    {
     "data": {
      "text/html": [
       "<div>\n",
       "<style scoped>\n",
       "    .dataframe tbody tr th:only-of-type {\n",
       "        vertical-align: middle;\n",
       "    }\n",
       "\n",
       "    .dataframe tbody tr th {\n",
       "        vertical-align: top;\n",
       "    }\n",
       "\n",
       "    .dataframe thead th {\n",
       "        text-align: right;\n",
       "    }\n",
       "</style>\n",
       "<table border=\"1\" class=\"dataframe\">\n",
       "  <thead>\n",
       "    <tr style=\"text-align: right;\">\n",
       "      <th></th>\n",
       "      <th>product_id</th>\n",
       "      <th>product_category_name</th>\n",
       "      <th>product_weight_g</th>\n",
       "      <th>product_length_cm</th>\n",
       "      <th>product_height_cm</th>\n",
       "      <th>product_width_cm</th>\n",
       "    </tr>\n",
       "  </thead>\n",
       "  <tbody>\n",
       "    <tr>\n",
       "      <th>0</th>\n",
       "      <td>1e9e8ef04dbcff4541ed26657ea517e5</td>\n",
       "      <td>perfumaria</td>\n",
       "      <td>225.0</td>\n",
       "      <td>16.0</td>\n",
       "      <td>10.0</td>\n",
       "      <td>14.0</td>\n",
       "    </tr>\n",
       "    <tr>\n",
       "      <th>1</th>\n",
       "      <td>3aa071139cb16b67ca9e5dea641aaa2f</td>\n",
       "      <td>artes</td>\n",
       "      <td>1000.0</td>\n",
       "      <td>30.0</td>\n",
       "      <td>18.0</td>\n",
       "      <td>20.0</td>\n",
       "    </tr>\n",
       "    <tr>\n",
       "      <th>2</th>\n",
       "      <td>96bd76ec8810374ed1b65e291975717f</td>\n",
       "      <td>esporte_lazer</td>\n",
       "      <td>154.0</td>\n",
       "      <td>18.0</td>\n",
       "      <td>9.0</td>\n",
       "      <td>15.0</td>\n",
       "    </tr>\n",
       "    <tr>\n",
       "      <th>3</th>\n",
       "      <td>cef67bcfe19066a932b7673e239eb23d</td>\n",
       "      <td>bebes</td>\n",
       "      <td>371.0</td>\n",
       "      <td>26.0</td>\n",
       "      <td>4.0</td>\n",
       "      <td>26.0</td>\n",
       "    </tr>\n",
       "    <tr>\n",
       "      <th>4</th>\n",
       "      <td>9dc1a7de274444849c219cff195d0b71</td>\n",
       "      <td>utilidades_domesticas</td>\n",
       "      <td>625.0</td>\n",
       "      <td>20.0</td>\n",
       "      <td>17.0</td>\n",
       "      <td>13.0</td>\n",
       "    </tr>\n",
       "    <tr>\n",
       "      <th>...</th>\n",
       "      <td>...</td>\n",
       "      <td>...</td>\n",
       "      <td>...</td>\n",
       "      <td>...</td>\n",
       "      <td>...</td>\n",
       "      <td>...</td>\n",
       "    </tr>\n",
       "    <tr>\n",
       "      <th>32946</th>\n",
       "      <td>a0b7d5a992ccda646f2d34e418fff5a0</td>\n",
       "      <td>moveis_decoracao</td>\n",
       "      <td>12300.0</td>\n",
       "      <td>40.0</td>\n",
       "      <td>40.0</td>\n",
       "      <td>40.0</td>\n",
       "    </tr>\n",
       "    <tr>\n",
       "      <th>32947</th>\n",
       "      <td>bf4538d88321d0fd4412a93c974510e6</td>\n",
       "      <td>construcao_ferramentas_iluminacao</td>\n",
       "      <td>1700.0</td>\n",
       "      <td>16.0</td>\n",
       "      <td>19.0</td>\n",
       "      <td>16.0</td>\n",
       "    </tr>\n",
       "    <tr>\n",
       "      <th>32948</th>\n",
       "      <td>9a7c6041fa9592d9d9ef6cfe62a71f8c</td>\n",
       "      <td>cama_mesa_banho</td>\n",
       "      <td>1400.0</td>\n",
       "      <td>27.0</td>\n",
       "      <td>7.0</td>\n",
       "      <td>27.0</td>\n",
       "    </tr>\n",
       "    <tr>\n",
       "      <th>32949</th>\n",
       "      <td>83808703fc0706a22e264b9d75f04a2e</td>\n",
       "      <td>informatica_acessorios</td>\n",
       "      <td>700.0</td>\n",
       "      <td>31.0</td>\n",
       "      <td>13.0</td>\n",
       "      <td>20.0</td>\n",
       "    </tr>\n",
       "    <tr>\n",
       "      <th>32950</th>\n",
       "      <td>106392145fca363410d287a815be6de4</td>\n",
       "      <td>cama_mesa_banho</td>\n",
       "      <td>2083.0</td>\n",
       "      <td>12.0</td>\n",
       "      <td>2.0</td>\n",
       "      <td>7.0</td>\n",
       "    </tr>\n",
       "  </tbody>\n",
       "</table>\n",
       "<p>32340 rows × 6 columns</p>\n",
       "</div>"
      ],
      "text/plain": [
       "                             product_id              product_category_name  \\\n",
       "0      1e9e8ef04dbcff4541ed26657ea517e5                         perfumaria   \n",
       "1      3aa071139cb16b67ca9e5dea641aaa2f                              artes   \n",
       "2      96bd76ec8810374ed1b65e291975717f                      esporte_lazer   \n",
       "3      cef67bcfe19066a932b7673e239eb23d                              bebes   \n",
       "4      9dc1a7de274444849c219cff195d0b71              utilidades_domesticas   \n",
       "...                                 ...                                ...   \n",
       "32946  a0b7d5a992ccda646f2d34e418fff5a0                   moveis_decoracao   \n",
       "32947  bf4538d88321d0fd4412a93c974510e6  construcao_ferramentas_iluminacao   \n",
       "32948  9a7c6041fa9592d9d9ef6cfe62a71f8c                    cama_mesa_banho   \n",
       "32949  83808703fc0706a22e264b9d75f04a2e             informatica_acessorios   \n",
       "32950  106392145fca363410d287a815be6de4                    cama_mesa_banho   \n",
       "\n",
       "       product_weight_g  product_length_cm  product_height_cm  \\\n",
       "0                 225.0               16.0               10.0   \n",
       "1                1000.0               30.0               18.0   \n",
       "2                 154.0               18.0                9.0   \n",
       "3                 371.0               26.0                4.0   \n",
       "4                 625.0               20.0               17.0   \n",
       "...                 ...                ...                ...   \n",
       "32946           12300.0               40.0               40.0   \n",
       "32947            1700.0               16.0               19.0   \n",
       "32948            1400.0               27.0                7.0   \n",
       "32949             700.0               31.0               13.0   \n",
       "32950            2083.0               12.0                2.0   \n",
       "\n",
       "       product_width_cm  \n",
       "0                  14.0  \n",
       "1                  20.0  \n",
       "2                  15.0  \n",
       "3                  26.0  \n",
       "4                  13.0  \n",
       "...                 ...  \n",
       "32946              40.0  \n",
       "32947              16.0  \n",
       "32948              27.0  \n",
       "32949              20.0  \n",
       "32950               7.0  \n",
       "\n",
       "[32340 rows x 6 columns]"
      ]
     },
     "execution_count": 111,
     "metadata": {},
     "output_type": "execute_result"
    }
   ],
   "source": [
    "produtos"
   ]
  }
 ],
 "metadata": {
  "kernelspec": {
   "display_name": "pycaret",
   "language": "python",
   "name": "pycaret"
  },
  "language_info": {
   "codemirror_mode": {
    "name": "ipython",
    "version": 3
   },
   "file_extension": ".py",
   "mimetype": "text/x-python",
   "name": "python",
   "nbconvert_exporter": "python",
   "pygments_lexer": "ipython3",
   "version": "3.8.13"
  },
  "toc": {
   "base_numbering": 1,
   "nav_menu": {},
   "number_sections": true,
   "sideBar": true,
   "skip_h1_title": false,
   "title_cell": "Table of Contents",
   "title_sidebar": "Contents",
   "toc_cell": false,
   "toc_position": {},
   "toc_section_display": true,
   "toc_window_display": false
  },
  "varInspector": {
   "cols": {
    "lenName": 16,
    "lenType": 16,
    "lenVar": 40
   },
   "kernels_config": {
    "python": {
     "delete_cmd_postfix": "",
     "delete_cmd_prefix": "del ",
     "library": "var_list.py",
     "varRefreshCmd": "print(var_dic_list())"
    },
    "r": {
     "delete_cmd_postfix": ") ",
     "delete_cmd_prefix": "rm(",
     "library": "var_list.r",
     "varRefreshCmd": "cat(var_dic_list()) "
    }
   },
   "types_to_exclude": [
    "module",
    "function",
    "builtin_function_or_method",
    "instance",
    "_Feature"
   ],
   "window_display": false
  }
 },
 "nbformat": 4,
 "nbformat_minor": 5
}
