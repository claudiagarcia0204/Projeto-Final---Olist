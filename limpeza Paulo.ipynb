{
 "cells": [
  {
   "cell_type": "code",
   "execution_count": 94,
   "id": "f7ffe595",
   "metadata": {
    "ExecuteTime": {
     "end_time": "2022-10-04T17:08:53.620697Z",
     "start_time": "2022-10-04T17:08:53.523620Z"
    }
   },
   "outputs": [],
   "source": [
    "import pandas as pd\n",
    "import numpy as np\n",
    "import sqlalchemy as db\n"
   ]
  },
  {
   "cell_type": "markdown",
   "id": "7d01c786",
   "metadata": {},
   "source": [
    "# DataSet  Itens"
   ]
  },
  {
   "cell_type": "code",
   "execution_count": null,
   "id": "a245793b",
   "metadata": {
    "ExecuteTime": {
     "end_time": "2022-10-03T12:55:35.741401Z",
     "start_time": "2022-10-03T12:55:35.443248Z"
    }
   },
   "outputs": [],
   "source": [
    "itens = pd.read_csv(\"data\\olist_order_items_dataset.csv\")\n",
    "# tabela 'itens' tem 112650 linhas e 8 colunas (order_id, product_id, seller_id,shipping_limit_date, price,freight_value  )"
   ]
  },
  {
   "cell_type": "code",
   "execution_count": null,
   "id": "7301c1ad",
   "metadata": {
    "ExecuteTime": {
     "end_time": "2022-10-03T17:07:19.587999Z",
     "start_time": "2022-10-03T17:07:18.084920Z"
    }
   },
   "outputs": [],
   "source": [
    "itens.to_csv('itens.csv')\n"
   ]
  },
  {
   "cell_type": "markdown",
   "id": "abc73745",
   "metadata": {},
   "source": [
    "# DataSet Ordens"
   ]
  },
  {
   "cell_type": "code",
   "execution_count": null,
   "id": "efa4b7a4",
   "metadata": {
    "ExecuteTime": {
     "end_time": "2022-10-03T12:58:36.670337Z",
     "start_time": "2022-10-03T12:58:36.157123Z"
    }
   },
   "outputs": [],
   "source": [
    "ordens = pd.read_csv(\"data\\olist_orders_dataset.csv\")\n",
    "\n",
    "'''Tabela 'ordens' tem 99441 linhas e 9 colunas ('order_id', 'customer_id', 'order_status', 'order_purchase_timestamp',\n",
    "'order_approved_at', 'order_delivered_carrier_date',\n",
    "'order_delivered_customer_date', 'order_estimated_delivery_date)\n",
    "Nulos (order_approved_at - 160, order_delivered_carrier_date -  1783, order_delivered_customer_date- 2965)'''\n"
   ]
  },
  {
   "cell_type": "markdown",
   "id": "e1c9c129",
   "metadata": {},
   "source": [
    "## Transformando Datetime (ordens)"
   ]
  },
  {
   "cell_type": "code",
   "execution_count": null,
   "id": "2935b278",
   "metadata": {
    "ExecuteTime": {
     "end_time": "2022-10-03T13:12:07.969488Z",
     "start_time": "2022-10-03T13:12:07.546989Z"
    }
   },
   "outputs": [],
   "source": [
    "#  Transformar Datetime\n",
    "times_cols = ['order_purchase_timestamp', 'order_approved_at', 'order_delivered_carrier_date', 'order_estimated_delivery_date', 'order_delivered_customer_date']\n",
    "for col in times_cols:\n",
    "    ordens[col] = pd.to_datetime(ordens[col])\n"
   ]
  },
  {
   "cell_type": "markdown",
   "id": "fe8d0d85",
   "metadata": {
    "ExecuteTime": {
     "end_time": "2022-10-03T13:25:46.026038Z",
     "start_time": "2022-10-03T13:25:46.012076Z"
    }
   },
   "source": [
    "## Tratando linhas nulas(ordens)"
   ]
  },
  {
   "cell_type": "code",
   "execution_count": null,
   "id": "31aa6f6e",
   "metadata": {
    "ExecuteTime": {
     "end_time": "2022-10-03T17:27:10.048620Z",
     "start_time": "2022-10-03T17:27:09.835644Z"
    }
   },
   "outputs": [],
   "source": [
    "# Convertendo linhas nulas por informações próximas\n",
    "ordens[\"order_approved_at\"].fillna(ordens[\"order_purchase_timestamp\"], inplace=True)\n",
    "ordens[\"order_delivered_customer_date\"].fillna(ordens[\"order_estimated_delivery_date\"], inplace=True)\n",
    "ordens[\"order_delivered_carrier_date\"].fillna(ordens[\"order_delivered_customer_date\"], inplace=True)"
   ]
  },
  {
   "cell_type": "code",
   "execution_count": null,
   "id": "04f15984",
   "metadata": {
    "ExecuteTime": {
     "end_time": "2022-10-03T17:27:15.423061Z",
     "start_time": "2022-10-03T17:27:13.443308Z"
    }
   },
   "outputs": [],
   "source": [
    "ordens.to_csv('Data/ordens.csv')\n"
   ]
  },
  {
   "cell_type": "markdown",
   "id": "765ef56a",
   "metadata": {},
   "source": [
    "# DataSet Avaliações"
   ]
  },
  {
   "cell_type": "code",
   "execution_count": null,
   "id": "336bd010",
   "metadata": {
    "ExecuteTime": {
     "end_time": "2022-10-03T14:12:30.211765Z",
     "start_time": "2022-10-03T14:12:29.786537Z"
    }
   },
   "outputs": [],
   "source": [
    "avaliacoes = pd.read_csv(\"data\\olist_order_reviews_dataset.csv\")\n",
    "\n",
    "'''Tabela 'avaliacoes' tem 99224 linhas e 7 colunas (review_id,order_id, review_score, \n",
    "review_comment_title, review_comment_message, review_creation_date, review_answer_timestamp)'''   "
   ]
  },
  {
   "cell_type": "markdown",
   "id": "17b97a91",
   "metadata": {},
   "source": [
    "## Dropando as colunas 'review_comment_title', 'review_comment_message'"
   ]
  },
  {
   "cell_type": "code",
   "execution_count": null,
   "id": "c30248bf",
   "metadata": {
    "ExecuteTime": {
     "end_time": "2022-10-03T14:12:38.078206Z",
     "start_time": "2022-10-03T14:12:38.050838Z"
    }
   },
   "outputs": [],
   "source": [
    "avaliacoes.drop(['review_comment_title', 'review_comment_message'],axis=1, inplace=True)\n",
    "\n",
    "'''Após a limpeza o dataframe possui 99224 linhas e 5 colunas (review_id,order_id,review_score,\n",
    " review_creation_date,review_answer_timestamp) '''   "
   ]
  },
  {
   "cell_type": "code",
   "execution_count": null,
   "id": "f7f124f2",
   "metadata": {
    "ExecuteTime": {
     "end_time": "2022-10-03T17:44:10.769742Z",
     "start_time": "2022-10-03T17:44:10.281815Z"
    }
   },
   "outputs": [],
   "source": [
    "avaliacoes.to_csv('Data/avaliacoes.csv')"
   ]
  },
  {
   "cell_type": "markdown",
   "id": "ed1e5767",
   "metadata": {
    "ExecuteTime": {
     "end_time": "2022-10-03T14:29:27.508999Z",
     "start_time": "2022-10-03T14:29:27.499024Z"
    }
   },
   "source": [
    "# DataSet Geolocal"
   ]
  },
  {
   "cell_type": "code",
   "execution_count": null,
   "id": "3e022fd9",
   "metadata": {},
   "outputs": [],
   "source": []
  },
  {
   "cell_type": "code",
   "execution_count": null,
   "id": "a1c0f2bd",
   "metadata": {
    "ExecuteTime": {
     "end_time": "2022-10-03T17:50:57.368566Z",
     "start_time": "2022-10-03T17:50:56.586833Z"
    }
   },
   "outputs": [],
   "source": [
    "geolocal = pd.read_csv(\"data\\olist_geolocation_dataset.csv\") "
   ]
  },
  {
   "cell_type": "code",
   "execution_count": null,
   "id": "29a21b06",
   "metadata": {
    "ExecuteTime": {
     "end_time": "2022-10-03T18:05:53.448068Z",
     "start_time": "2022-10-03T18:05:52.904904Z"
    }
   },
   "outputs": [],
   "source": [
    "geolocal.drop_duplicates(inplace=True)"
   ]
  },
  {
   "cell_type": "code",
   "execution_count": null,
   "id": "6c5719c2",
   "metadata": {
    "ExecuteTime": {
     "end_time": "2022-10-03T18:06:02.701838Z",
     "start_time": "2022-10-03T18:06:02.681857Z"
    }
   },
   "outputs": [],
   "source": [
    "geolocal"
   ]
  },
  {
   "cell_type": "code",
   "execution_count": null,
   "id": "da92bdbc",
   "metadata": {
    "ExecuteTime": {
     "end_time": "2022-10-03T18:05:34.252836Z",
     "start_time": "2022-10-03T18:05:34.171057Z"
    }
   },
   "outputs": [],
   "source": [
    "geolocal['geolocation_city'].value_counts()"
   ]
  },
  {
   "cell_type": "code",
   "execution_count": null,
   "id": "b34b4a23",
   "metadata": {
    "ExecuteTime": {
     "end_time": "2022-10-03T17:10:02.119386Z",
     "start_time": "2022-10-03T17:09:55.723025Z"
    }
   },
   "outputs": [],
   "source": [
    "geolocal.to_csv('Data/geolocal.csv')"
   ]
  },
  {
   "cell_type": "markdown",
   "id": "d0698715",
   "metadata": {
    "ExecuteTime": {
     "end_time": "2022-10-03T14:39:16.477112Z",
     "start_time": "2022-10-03T14:39:16.459099Z"
    }
   },
   "source": [
    "# DataSet Produtos"
   ]
  },
  {
   "cell_type": "code",
   "execution_count": null,
   "id": "b078eecd",
   "metadata": {
    "ExecuteTime": {
     "end_time": "2022-10-03T14:43:36.674980Z",
     "start_time": "2022-10-03T14:43:36.615986Z"
    }
   },
   "outputs": [],
   "source": [
    "produtos = pd.read_csv(\"data\\olist_products_dataset.csv\") \n",
    "'''32340 linhas com 6 colunas '''"
   ]
  },
  {
   "cell_type": "code",
   "execution_count": null,
   "id": "f10ef445",
   "metadata": {
    "ExecuteTime": {
     "end_time": "2022-10-03T16:46:55.032983Z",
     "start_time": "2022-10-03T16:46:54.989582Z"
    }
   },
   "outputs": [],
   "source": [
    "produtos"
   ]
  },
  {
   "cell_type": "markdown",
   "id": "53940261",
   "metadata": {
    "ExecuteTime": {
     "end_time": "2022-10-03T16:45:23.657591Z",
     "start_time": "2022-10-03T16:45:23.645626Z"
    }
   },
   "source": [
    "## Dropando linhas em nulo"
   ]
  },
  {
   "cell_type": "code",
   "execution_count": null,
   "id": "32ff0bcc",
   "metadata": {
    "ExecuteTime": {
     "end_time": "2022-10-03T16:44:00.613859Z",
     "start_time": "2022-10-03T16:44:00.535073Z"
    }
   },
   "outputs": [],
   "source": [
    "produtos.dropna(inplace=True)"
   ]
  },
  {
   "cell_type": "code",
   "execution_count": null,
   "id": "44e141d7",
   "metadata": {
    "ExecuteTime": {
     "end_time": "2022-10-03T16:50:35.863476Z",
     "start_time": "2022-10-03T16:50:35.708796Z"
    }
   },
   "outputs": [],
   "source": [
    "produtos.drop(['product_name_lenght', 'product_description_lenght', 'product_photos_qty'],axis=1, inplace=True)"
   ]
  },
  {
   "cell_type": "code",
   "execution_count": null,
   "id": "42fc2aaf",
   "metadata": {
    "ExecuteTime": {
     "end_time": "2022-10-03T18:22:53.617329Z",
     "start_time": "2022-10-03T18:22:53.604372Z"
    }
   },
   "outputs": [],
   "source": [
    "produtos['product_category_name'].value_counts().head(10)"
   ]
  },
  {
   "cell_type": "code",
   "execution_count": null,
   "id": "5e08d5c6",
   "metadata": {
    "ExecuteTime": {
     "end_time": "2022-10-03T17:10:23.917862Z",
     "start_time": "2022-10-03T17:10:23.501248Z"
    }
   },
   "outputs": [],
   "source": [
    "produtos.to_csv('Data/produtos.csv')"
   ]
  },
  {
   "cell_type": "code",
   "execution_count": null,
   "id": "8aa0a8bd",
   "metadata": {
    "ExecuteTime": {
     "end_time": "2022-10-03T22:42:01.009310Z",
     "start_time": "2022-10-03T22:41:59.893156Z"
    }
   },
   "outputs": [],
   "source": [
    "ordens = pd.read_csv(\"Data/avaliacoes.csv\")\n"
   ]
  },
  {
   "cell_type": "code",
   "execution_count": null,
   "id": "b028867c",
   "metadata": {
    "ExecuteTime": {
     "end_time": "2022-10-03T22:43:11.127140Z",
     "start_time": "2022-10-03T22:43:11.017323Z"
    }
   },
   "outputs": [],
   "source": [
    "produtos['product_category_name'].value_counts()"
   ]
  },
  {
   "cell_type": "code",
   "execution_count": 26,
   "id": "a857eec0",
   "metadata": {
    "ExecuteTime": {
     "end_time": "2022-10-04T14:22:58.761703Z",
     "start_time": "2022-10-04T14:22:54.851239Z"
    }
   },
   "outputs": [],
   "source": [
    "itens = pd.read_csv(\"Data/itens.csv\") \n",
    "ordens = pd.read_csv(\"Data/ordens.csv\")\n",
    "produtos = pd.read_csv(\"Data/produtos.csv\")\n",
    "geolocal = pd.read_csv(\"Data/geolocal.csv\")\n",
    "clientes = pd.read_csv(\"Data/clientes.csv\")\n",
    "avaliacoes = pd.read_csv('Data/avaliacoes.csv')\n",
    "vendedores = pd.read_csv(\"Data/vendedores.csv\")\n",
    "pagamentos = pd.read_csv('Data/pagamentos.csv')"
   ]
  },
  {
   "cell_type": "code",
   "execution_count": 67,
   "id": "5281ed6b",
   "metadata": {
    "ExecuteTime": {
     "end_time": "2022-10-04T15:05:17.397451Z",
     "start_time": "2022-10-04T15:05:17.282709Z"
    }
   },
   "outputs": [],
   "source": [
    "df = vendedores.merge(itens, left_on='seller_id',right_on='seller_id', how='right')"
   ]
  },
  {
   "cell_type": "code",
   "execution_count": 71,
   "id": "9f8a9809",
   "metadata": {
    "ExecuteTime": {
     "end_time": "2022-10-04T15:06:15.555751Z",
     "start_time": "2022-10-04T15:06:15.378019Z"
    }
   },
   "outputs": [],
   "source": [
    "df = df.merge(ordens, left_on='order_id', right_on='order_id', how='right')"
   ]
  },
  {
   "cell_type": "code",
   "execution_count": 77,
   "id": "7b72bef8",
   "metadata": {
    "ExecuteTime": {
     "end_time": "2022-10-04T15:11:51.952991Z",
     "start_time": "2022-10-04T15:11:51.874165Z"
    }
   },
   "outputs": [],
   "source": [
    "df.drop(['Unnamed: 0_x', 'Unnamed: 0_y', 'Unnamed: 0'],axis=1, inplace=True)\n"
   ]
  },
  {
   "cell_type": "code",
   "execution_count": 79,
   "id": "5308b079",
   "metadata": {
    "ExecuteTime": {
     "end_time": "2022-10-04T15:12:23.884814Z",
     "start_time": "2022-10-04T15:12:23.762143Z"
    }
   },
   "outputs": [],
   "source": [
    "df = df.merge(produtos, left_on='product_id', right_on='product_id',how='left' )"
   ]
  },
  {
   "cell_type": "code",
   "execution_count": 81,
   "id": "3e981abc",
   "metadata": {
    "ExecuteTime": {
     "end_time": "2022-10-04T15:14:31.453080Z",
     "start_time": "2022-10-04T15:14:31.259267Z"
    }
   },
   "outputs": [],
   "source": [
    "df = df.merge(ordens, left_on='order_id', right_on='order_id',how='right' )"
   ]
  },
  {
   "cell_type": "code",
   "execution_count": 85,
   "id": "7f888ede",
   "metadata": {
    "ExecuteTime": {
     "end_time": "2022-10-04T15:15:46.581839Z",
     "start_time": "2022-10-04T15:15:46.354597Z"
    }
   },
   "outputs": [],
   "source": [
    "df = df.merge(avaliacoes, left_on='order_id', right_on='order_id',how='right' )"
   ]
  },
  {
   "cell_type": "code",
   "execution_count": 91,
   "id": "f3916346",
   "metadata": {
    "ExecuteTime": {
     "end_time": "2022-10-04T15:24:13.109555Z",
     "start_time": "2022-10-04T15:24:12.997485Z"
    }
   },
   "outputs": [
    {
     "data": {
      "text/plain": [
       "5    63596\n",
       "4    21348\n",
       "1    14775\n",
       "3     9476\n",
       "2     3936\n",
       "Name: review_score, dtype: int64"
      ]
     },
     "execution_count": 91,
     "metadata": {},
     "output_type": "execute_result"
    }
   ],
   "source": [
    "df['review_score'].value_counts()"
   ]
  },
  {
   "cell_type": "code",
   "execution_count": 13,
   "id": "fe1eaae9",
   "metadata": {
    "ExecuteTime": {
     "end_time": "2022-10-04T12:31:34.943705Z",
     "start_time": "2022-10-04T12:30:23.110161Z"
    }
   },
   "outputs": [
    {
     "data": {
      "text/plain": [
       "3095"
      ]
     },
     "execution_count": 13,
     "metadata": {},
     "output_type": "execute_result"
    }
   ],
   "source": [
    "ordens.to_sql('ordens', con=conn, index=False, if_exists='replace')\n",
    "produtos.to_sql('produtos', con=conn, index=False, if_exists='replace')\n",
    "geolocal.to_sql('geolocal', con=conn, index=False, if_exists='replace')\n",
    "clientes.to_sql('clientes', con=conn, index=False, if_exists='replace')\n",
    "avaliacoes.to_sql('avaliacoes', con=conn, index=False, if_exists='replace')\n",
    "vendedores.to_sql('vendedores', con=conn, index=False, if_exists='replace')\n"
   ]
  },
  {
   "cell_type": "code",
   "execution_count": 6,
   "id": "376f2ced",
   "metadata": {
    "ExecuteTime": {
     "end_time": "2022-10-04T12:20:25.943704Z",
     "start_time": "2022-10-04T12:20:09.589969Z"
    }
   },
   "outputs": [
    {
     "name": "stdout",
     "output_type": "stream",
     "text": [
      "Collecting pymysql==1.0.2\n",
      "  Using cached PyMySQL-1.0.2-py3-none-any.whl (43 kB)\n",
      "Installing collected packages: pymysql\n",
      "Successfully installed pymysql-1.0.2\n",
      "Note: you may need to restart the kernel to use updated packages.\n"
     ]
    }
   ],
   "source": [
    "pip install pymysql==1.0.2\n"
   ]
  },
  {
   "cell_type": "code",
   "execution_count": 9,
   "id": "8db77f3a",
   "metadata": {
    "ExecuteTime": {
     "end_time": "2022-10-04T12:20:58.019936Z",
     "start_time": "2022-10-04T12:20:57.897634Z"
    }
   },
   "outputs": [],
   "source": [
    "db_server='pymysql'\n",
    "user='root'\n",
    "db_port = '3306'\n",
    "password = 'ironhack'\n",
    "ip = 'localhost'\n",
    "db_name = 'olist'\n",
    "engine = db.create_engine(f'mysql+{db_server}://{user}:{password}@{ip}:{db_port}/{db_name}?charset=utf8')\n",
    "conn = engine.connect()\n"
   ]
  },
  {
   "cell_type": "code",
   "execution_count": 12,
   "id": "6dab9b79",
   "metadata": {
    "ExecuteTime": {
     "end_time": "2022-10-04T12:24:39.071601Z",
     "start_time": "2022-10-04T12:24:24.797971Z"
    }
   },
   "outputs": [
    {
     "data": {
      "text/plain": [
       "112650"
      ]
     },
     "execution_count": 12,
     "metadata": {},
     "output_type": "execute_result"
    }
   ],
   "source": [
    "itens.to_sql('itens', con=conn, index=False, if_exists='replace')"
   ]
  },
  {
   "cell_type": "code",
   "execution_count": 93,
   "id": "eb22ed6f",
   "metadata": {
    "ExecuteTime": {
     "end_time": "2022-10-04T15:29:19.601049Z",
     "start_time": "2022-10-04T15:29:16.018427Z"
    }
   },
   "outputs": [],
   "source": [
    "df.to_csv('Data/df.csv')"
   ]
  }
 ],
 "metadata": {
  "kernelspec": {
   "display_name": "pycaret",
   "language": "python",
   "name": "pycaret"
  },
  "language_info": {
   "codemirror_mode": {
    "name": "ipython",
    "version": 3
   },
   "file_extension": ".py",
   "mimetype": "text/x-python",
   "name": "python",
   "nbconvert_exporter": "python",
   "pygments_lexer": "ipython3",
   "version": "3.8.13"
  },
  "toc": {
   "base_numbering": 1,
   "nav_menu": {},
   "number_sections": true,
   "sideBar": true,
   "skip_h1_title": false,
   "title_cell": "Table of Contents",
   "title_sidebar": "Contents",
   "toc_cell": false,
   "toc_position": {},
   "toc_section_display": true,
   "toc_window_display": false
  },
  "varInspector": {
   "cols": {
    "lenName": 16,
    "lenType": 16,
    "lenVar": 40
   },
   "kernels_config": {
    "python": {
     "delete_cmd_postfix": "",
     "delete_cmd_prefix": "del ",
     "library": "var_list.py",
     "varRefreshCmd": "print(var_dic_list())"
    },
    "r": {
     "delete_cmd_postfix": ") ",
     "delete_cmd_prefix": "rm(",
     "library": "var_list.r",
     "varRefreshCmd": "cat(var_dic_list()) "
    }
   },
   "types_to_exclude": [
    "module",
    "function",
    "builtin_function_or_method",
    "instance",
    "_Feature"
   ],
   "window_display": false
  }
 },
 "nbformat": 4,
 "nbformat_minor": 5
}
