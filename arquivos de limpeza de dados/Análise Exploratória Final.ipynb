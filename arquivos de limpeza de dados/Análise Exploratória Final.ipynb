{
 "cells": [
  {
   "cell_type": "markdown",
   "id": "64a1bc8a",
   "metadata": {},
   "source": [
    "# PREDIÇÃO SATISFAÇÃO DO CLIENTE - OLIST"
   ]
  },
  {
   "cell_type": "markdown",
   "id": "bc7e4ac0",
   "metadata": {},
   "source": [
    "## DESCRIÇÃO OLIST - PLATAFORMA DE E-COMMERCE"
   ]
  },
  {
   "cell_type": "markdown",
   "id": "1a14effd",
   "metadata": {},
   "source": [
    "\"Conjunto de dados públicos de comércio eletrônico brasileiro por Olist\n",
    "O conjunto de dados tem informações de 100 mil pedidos de 2016 a 2018 feitos em vários marketplaces no Brasil.\n",
    "\n",
    "A Olist conecta pequenas empresas de todo o Brasil a canais sem complicações e com um único contrato. Esses comerciantes podem vender seus produtos através da Olist Store e enviá-los diretamente aos clientes usando os parceiros de logística da Olist.\n",
    "\n",
    "Depois que um cliente compra o produto da Olist Store, um vendedor é notificado para atender esse pedido. Assim que o cliente recebe o produto, ou vence a data prevista de entrega, o cliente recebe uma pesquisa de satisfação por e-mail onde pode dar uma nota da experiência de compra e anotar alguns comentários.\"\n"
   ]
  },
  {
   "cell_type": "markdown",
   "id": "00727d69",
   "metadata": {},
   "source": [
    "## Importando Bibliotecas"
   ]
  },
  {
   "cell_type": "code",
   "execution_count": 1,
   "id": "c9ad9312",
   "metadata": {
    "ExecuteTime": {
     "end_time": "2022-11-10T20:08:04.437208Z",
     "start_time": "2022-11-10T20:04:19.624021Z"
    }
   },
   "outputs": [],
   "source": [
    "import pandas as pd\n",
    "import numpy as np\n",
    "import os\n",
    "import re\n",
    "import seaborn as sns\n",
    "import glob\n",
    "%matplotlib inline\n",
    "import matplotlib.style as style\n",
    "style.use('ggplot')"
   ]
  },
  {
   "cell_type": "markdown",
   "id": "9ee2db76",
   "metadata": {},
   "source": [
    "Bibliotecas e dependências do Python utilizadas:\n",
    "* Pandas – Manipulação e análise de dados\n",
    "* NumPy – Manipulação de dados\n",
    "* Seaborn - Visualização gráfica\n",
    "* Matplotlib – Visualização gráfica\n",
    "* Pycaret - Aprendizado de máquina"
   ]
  },
  {
   "cell_type": "markdown",
   "id": "c3730203",
   "metadata": {},
   "source": [
    "# Leitura dos dados"
   ]
  },
  {
   "cell_type": "markdown",
   "id": "690fda18",
   "metadata": {},
   "source": [
    "A base de dados pode ser acessada no Kaggle, em https://www.kaggle.com/olistbr/brazilian-ecommerce\n",
    "A sbase de dados completa conta com mais de 100 mil regitros de pedidos em 8 conjuntos de dados separados, sobre:\n",
    "\n",
    "Consumidores\n",
    "Vendedores\n",
    "Produtos\n",
    "Pedidos\n",
    "Categoria de pedidos\n",
    "Avaliação de pedidos\n",
    "Pagamentos\n",
    "Geolocalização\n",
    "Cada conjunto possui informações exclusivas sobre um assunto em questão, podendo ser cruzados de diversas maneiras a fim de se obter informações sobre o quesito escolhido. No caso deste trabalho, a abordagem será realizada com foco nos Consumidores."
   ]
  },
  {
   "cell_type": "markdown",
   "id": "2fb99fc5",
   "metadata": {},
   "source": [
    "Cada recurso ou colunas de diferentes arquivos csv são descritos abaixo:\n",
    "\n",
    "* The  `olist_customers_dataset.csv` contain following features:\n",
    "\n",
    "Feature | Description \n",
    "----------|---------------\n",
    "**customer_id** | Id of the consumer who made the purchase.\n",
    "**customer_unique_id**    | Unique Id of the consumer.\n",
    "**customer_zip_code_prefix** | Zip Code of the location of the consumer.\n",
    "**customer_city** | Name of the City from where order is made.\n",
    "**customer_state** |  State Code from where order is made(Ex- sao paulo-SP).\n",
    "\n",
    "* The `olist_sellers_dataset.csv` contains following features:\n",
    "\n",
    "Feature | Description \n",
    "----------|---------------\n",
    "**seller_id** |   Unique Id of the seller registered in olist.\n",
    "**seller_zip_code_prefix** | Zip Code of the location of the seller.\n",
    "**seller_city** | Name of the City of the seller.\n",
    "**seller_state** | State Code (Ex- sao paulo-SP)\n",
    "\n",
    "\n",
    "* The `olist_order_items_dataset.csv`  contain following features:\n",
    "\n",
    "Feature | Description \n",
    "----------|---------------\n",
    "**order_id** | A unique id of order made by the consumers.\n",
    "**order_item_id** | A Unique id given to each item ordered in the order.\n",
    "**product_id** |A unique id given to each product available on the site.\n",
    "**seller_id** | Unique Id of the seller registered in olist.\n",
    "**shipping_limit_date** | The date before which shipping of the ordered    product must be completed.\n",
    "**price** | Actual price of the products ordered .\n",
    "**freight_value** | Price rate at which a product is delivered from one point to another. \n",
    "\n",
    "* The `olist_order_payments_dataset.csv` contain following features:\n",
    "\n",
    "Feature | Description \n",
    "----------|---------------\n",
    "**order_id** | A unique id of order made by the consumers.\n",
    "**payment_sequential** | sequences of the payments made in case of EMI.\n",
    "**payment_type** |  mode of payment used.(Ex-Credit Card)\n",
    "**payment_installments** | number of installments in case of EMI purchase.\n",
    "**payment_value** | Total amount paid for the purshase order.\n",
    "\n",
    "\n",
    "\n",
    "* The `olist_orders_dataset.csv`  contain following features:\n",
    "\n",
    "Feature | Description \n",
    "----------|---------------\n",
    "**order_id** | A unique id of order made by the consumers.\n",
    "**customer_id** | Id of the consumer who made the purchase.\n",
    "**order_status** | status of the order made i.e delivered, shipped etc.\n",
    "**order_purchase_timestamp** | Timestamp of the purchase.\n",
    "**order_approved_at** | Timestamp of the order approval.\n",
    "**order_delivered_carrier_date** | delivery date at which carrier made the delivery.\n",
    "**order_delivered_customer_date** | date at which customer got the product.\n",
    "**order_estimated_delivery_date** | estimated delivery date of the products.\n",
    "\n",
    "\n",
    "* The `olist_order_reviews_dataset.csv`  contain following features:\n",
    "\n",
    "Feature | Description \n",
    "----------|---------------\n",
    "**review_id** |Id of the review given on the product ordered by the order id.\n",
    "**order_id** |  A unique id of order made by the consumers.\n",
    "**review_score** | review score given by the customer for each order on the scale of 1–5. \n",
    "**review_comment_title** | Title of the review\n",
    "**review_comment_message** | Review comments posted by the consumer for each order.\n",
    "**review_creation_date** |Timestamp of the review when it is created.\n",
    "**review_answer_timestamp** | Timestamp of the review answered.\n",
    "\n",
    "\n",
    "* The `olist_products_dataset.csv` contain following features:\n",
    "\n",
    "Feature | Description \n",
    "----------|---------------\n",
    "**product_id** | A unique identifier for the proposed project.\n",
    "**product_category_name** | Name of the product category\n",
    "**product_name_lenght** | length of the string which specify the name given to the products ordered.\n",
    "**product_description_lenght** | length of the description written for each product ordered on the site.\n",
    "**product_photos_qty** | Number of photos of each product ordered available on the shopping portal.\n",
    "**product_weight_g** | Weight of the products ordered in grams.\n",
    "**product_length_cm** | Length of the products ordered in centimeters.\n",
    "**product_height_cm** | Height of the products ordered in centimeters.\n",
    "**product_width_cm** | width of the product ordered in centimeters.\n"
   ]
  },
  {
   "cell_type": "markdown",
   "id": "2a65b6d4",
   "metadata": {},
   "source": [
    "# Leitura arquivos"
   ]
  },
  {
   "cell_type": "markdown",
   "id": "a31aa776",
   "metadata": {},
   "source": [
    "Foi realizada a importação de todos os datasets através do Pandas e posteriormente foram cruzados a fim de formar um único Dataframe com informações de: consumidores, geolocalização, pedidos, categorias, produtos, vendedores e avaliações."
   ]
  },
  {
   "cell_type": "code",
   "execution_count": 8,
   "id": "0ec4e861",
   "metadata": {
    "ExecuteTime": {
     "end_time": "2022-11-10T20:14:55.493125Z",
     "start_time": "2022-11-10T20:14:55.475139Z"
    }
   },
   "outputs": [
    {
     "data": {
      "text/plain": [
       "'C:\\\\Users\\\\USER\\\\Desktop\\\\Ironhack\\\\Github\\\\Projeto Final - Olist'"
      ]
     },
     "execution_count": 8,
     "metadata": {},
     "output_type": "execute_result"
    }
   ],
   "source": [
    "pwd"
   ]
  },
  {
   "cell_type": "code",
   "execution_count": 9,
   "id": "db2813ea",
   "metadata": {
    "ExecuteTime": {
     "end_time": "2022-11-10T20:14:58.350230Z",
     "start_time": "2022-11-10T20:14:57.766062Z"
    }
   },
   "outputs": [],
   "source": [
    "items = pd.read_csv(\"C:/Users/USER/Desktop/Ironhack/Github/Projeto Final - Olist/arquivos de limpeza de dados/Data/olist_order_items_dataset.csv\")  "
   ]
  },
  {
   "cell_type": "code",
   "execution_count": 10,
   "id": "b2623d00",
   "metadata": {
    "ExecuteTime": {
     "end_time": "2022-11-10T20:15:00.447893Z",
     "start_time": "2022-11-10T20:15:00.047163Z"
    }
   },
   "outputs": [
    {
     "ename": "FileNotFoundError",
     "evalue": "[Errno 2] No such file or directory: 'Data/olist_orders_dataset.csv'",
     "output_type": "error",
     "traceback": [
      "\u001b[1;31m---------------------------------------------------------------------------\u001b[0m",
      "\u001b[1;31mFileNotFoundError\u001b[0m                         Traceback (most recent call last)",
      "Cell \u001b[1;32mIn [10], line 1\u001b[0m\n\u001b[1;32m----> 1\u001b[0m order \u001b[38;5;241m=\u001b[39m pd\u001b[38;5;241m.\u001b[39mread_csv(\u001b[38;5;124m\"\u001b[39m\u001b[38;5;124mData/olist_orders_dataset.csv\u001b[39m\u001b[38;5;124m\"\u001b[39m)\n",
      "File \u001b[1;32mC:\\ProgramData\\Anaconda3\\envs\\pycaret\\lib\\site-packages\\pandas\\util\\_decorators.py:311\u001b[0m, in \u001b[0;36mdeprecate_nonkeyword_arguments.<locals>.decorate.<locals>.wrapper\u001b[1;34m(*args, **kwargs)\u001b[0m\n\u001b[0;32m    305\u001b[0m \u001b[38;5;28;01mif\u001b[39;00m \u001b[38;5;28mlen\u001b[39m(args) \u001b[38;5;241m>\u001b[39m num_allow_args:\n\u001b[0;32m    306\u001b[0m     warnings\u001b[38;5;241m.\u001b[39mwarn(\n\u001b[0;32m    307\u001b[0m         msg\u001b[38;5;241m.\u001b[39mformat(arguments\u001b[38;5;241m=\u001b[39marguments),\n\u001b[0;32m    308\u001b[0m         \u001b[38;5;167;01mFutureWarning\u001b[39;00m,\n\u001b[0;32m    309\u001b[0m         stacklevel\u001b[38;5;241m=\u001b[39mstacklevel,\n\u001b[0;32m    310\u001b[0m     )\n\u001b[1;32m--> 311\u001b[0m \u001b[38;5;28;01mreturn\u001b[39;00m \u001b[43mfunc\u001b[49m\u001b[43m(\u001b[49m\u001b[38;5;241;43m*\u001b[39;49m\u001b[43margs\u001b[49m\u001b[43m,\u001b[49m\u001b[43m \u001b[49m\u001b[38;5;241;43m*\u001b[39;49m\u001b[38;5;241;43m*\u001b[39;49m\u001b[43mkwargs\u001b[49m\u001b[43m)\u001b[49m\n",
      "File \u001b[1;32mC:\\ProgramData\\Anaconda3\\envs\\pycaret\\lib\\site-packages\\pandas\\io\\parsers\\readers.py:678\u001b[0m, in \u001b[0;36mread_csv\u001b[1;34m(filepath_or_buffer, sep, delimiter, header, names, index_col, usecols, squeeze, prefix, mangle_dupe_cols, dtype, engine, converters, true_values, false_values, skipinitialspace, skiprows, skipfooter, nrows, na_values, keep_default_na, na_filter, verbose, skip_blank_lines, parse_dates, infer_datetime_format, keep_date_col, date_parser, dayfirst, cache_dates, iterator, chunksize, compression, thousands, decimal, lineterminator, quotechar, quoting, doublequote, escapechar, comment, encoding, encoding_errors, dialect, error_bad_lines, warn_bad_lines, on_bad_lines, delim_whitespace, low_memory, memory_map, float_precision, storage_options)\u001b[0m\n\u001b[0;32m    663\u001b[0m kwds_defaults \u001b[38;5;241m=\u001b[39m _refine_defaults_read(\n\u001b[0;32m    664\u001b[0m     dialect,\n\u001b[0;32m    665\u001b[0m     delimiter,\n\u001b[1;32m   (...)\u001b[0m\n\u001b[0;32m    674\u001b[0m     defaults\u001b[38;5;241m=\u001b[39m{\u001b[38;5;124m\"\u001b[39m\u001b[38;5;124mdelimiter\u001b[39m\u001b[38;5;124m\"\u001b[39m: \u001b[38;5;124m\"\u001b[39m\u001b[38;5;124m,\u001b[39m\u001b[38;5;124m\"\u001b[39m},\n\u001b[0;32m    675\u001b[0m )\n\u001b[0;32m    676\u001b[0m kwds\u001b[38;5;241m.\u001b[39mupdate(kwds_defaults)\n\u001b[1;32m--> 678\u001b[0m \u001b[38;5;28;01mreturn\u001b[39;00m \u001b[43m_read\u001b[49m\u001b[43m(\u001b[49m\u001b[43mfilepath_or_buffer\u001b[49m\u001b[43m,\u001b[49m\u001b[43m \u001b[49m\u001b[43mkwds\u001b[49m\u001b[43m)\u001b[49m\n",
      "File \u001b[1;32mC:\\ProgramData\\Anaconda3\\envs\\pycaret\\lib\\site-packages\\pandas\\io\\parsers\\readers.py:575\u001b[0m, in \u001b[0;36m_read\u001b[1;34m(filepath_or_buffer, kwds)\u001b[0m\n\u001b[0;32m    572\u001b[0m _validate_names(kwds\u001b[38;5;241m.\u001b[39mget(\u001b[38;5;124m\"\u001b[39m\u001b[38;5;124mnames\u001b[39m\u001b[38;5;124m\"\u001b[39m, \u001b[38;5;28;01mNone\u001b[39;00m))\n\u001b[0;32m    574\u001b[0m \u001b[38;5;66;03m# Create the parser.\u001b[39;00m\n\u001b[1;32m--> 575\u001b[0m parser \u001b[38;5;241m=\u001b[39m \u001b[43mTextFileReader\u001b[49m\u001b[43m(\u001b[49m\u001b[43mfilepath_or_buffer\u001b[49m\u001b[43m,\u001b[49m\u001b[43m \u001b[49m\u001b[38;5;241;43m*\u001b[39;49m\u001b[38;5;241;43m*\u001b[39;49m\u001b[43mkwds\u001b[49m\u001b[43m)\u001b[49m\n\u001b[0;32m    577\u001b[0m \u001b[38;5;28;01mif\u001b[39;00m chunksize \u001b[38;5;129;01mor\u001b[39;00m iterator:\n\u001b[0;32m    578\u001b[0m     \u001b[38;5;28;01mreturn\u001b[39;00m parser\n",
      "File \u001b[1;32mC:\\ProgramData\\Anaconda3\\envs\\pycaret\\lib\\site-packages\\pandas\\io\\parsers\\readers.py:932\u001b[0m, in \u001b[0;36mTextFileReader.__init__\u001b[1;34m(self, f, engine, **kwds)\u001b[0m\n\u001b[0;32m    929\u001b[0m     \u001b[38;5;28mself\u001b[39m\u001b[38;5;241m.\u001b[39moptions[\u001b[38;5;124m\"\u001b[39m\u001b[38;5;124mhas_index_names\u001b[39m\u001b[38;5;124m\"\u001b[39m] \u001b[38;5;241m=\u001b[39m kwds[\u001b[38;5;124m\"\u001b[39m\u001b[38;5;124mhas_index_names\u001b[39m\u001b[38;5;124m\"\u001b[39m]\n\u001b[0;32m    931\u001b[0m \u001b[38;5;28mself\u001b[39m\u001b[38;5;241m.\u001b[39mhandles: IOHandles \u001b[38;5;241m|\u001b[39m \u001b[38;5;28;01mNone\u001b[39;00m \u001b[38;5;241m=\u001b[39m \u001b[38;5;28;01mNone\u001b[39;00m\n\u001b[1;32m--> 932\u001b[0m \u001b[38;5;28mself\u001b[39m\u001b[38;5;241m.\u001b[39m_engine \u001b[38;5;241m=\u001b[39m \u001b[38;5;28;43mself\u001b[39;49m\u001b[38;5;241;43m.\u001b[39;49m\u001b[43m_make_engine\u001b[49m\u001b[43m(\u001b[49m\u001b[43mf\u001b[49m\u001b[43m,\u001b[49m\u001b[43m \u001b[49m\u001b[38;5;28;43mself\u001b[39;49m\u001b[38;5;241;43m.\u001b[39;49m\u001b[43mengine\u001b[49m\u001b[43m)\u001b[49m\n",
      "File \u001b[1;32mC:\\ProgramData\\Anaconda3\\envs\\pycaret\\lib\\site-packages\\pandas\\io\\parsers\\readers.py:1216\u001b[0m, in \u001b[0;36mTextFileReader._make_engine\u001b[1;34m(self, f, engine)\u001b[0m\n\u001b[0;32m   1212\u001b[0m     mode \u001b[38;5;241m=\u001b[39m \u001b[38;5;124m\"\u001b[39m\u001b[38;5;124mrb\u001b[39m\u001b[38;5;124m\"\u001b[39m\n\u001b[0;32m   1213\u001b[0m \u001b[38;5;66;03m# error: No overload variant of \"get_handle\" matches argument types\u001b[39;00m\n\u001b[0;32m   1214\u001b[0m \u001b[38;5;66;03m# \"Union[str, PathLike[str], ReadCsvBuffer[bytes], ReadCsvBuffer[str]]\"\u001b[39;00m\n\u001b[0;32m   1215\u001b[0m \u001b[38;5;66;03m# , \"str\", \"bool\", \"Any\", \"Any\", \"Any\", \"Any\", \"Any\"\u001b[39;00m\n\u001b[1;32m-> 1216\u001b[0m \u001b[38;5;28mself\u001b[39m\u001b[38;5;241m.\u001b[39mhandles \u001b[38;5;241m=\u001b[39m \u001b[43mget_handle\u001b[49m\u001b[43m(\u001b[49m\u001b[43m  \u001b[49m\u001b[38;5;66;43;03m# type: ignore[call-overload]\u001b[39;49;00m\n\u001b[0;32m   1217\u001b[0m \u001b[43m    \u001b[49m\u001b[43mf\u001b[49m\u001b[43m,\u001b[49m\n\u001b[0;32m   1218\u001b[0m \u001b[43m    \u001b[49m\u001b[43mmode\u001b[49m\u001b[43m,\u001b[49m\n\u001b[0;32m   1219\u001b[0m \u001b[43m    \u001b[49m\u001b[43mencoding\u001b[49m\u001b[38;5;241;43m=\u001b[39;49m\u001b[38;5;28;43mself\u001b[39;49m\u001b[38;5;241;43m.\u001b[39;49m\u001b[43moptions\u001b[49m\u001b[38;5;241;43m.\u001b[39;49m\u001b[43mget\u001b[49m\u001b[43m(\u001b[49m\u001b[38;5;124;43m\"\u001b[39;49m\u001b[38;5;124;43mencoding\u001b[39;49m\u001b[38;5;124;43m\"\u001b[39;49m\u001b[43m,\u001b[49m\u001b[43m \u001b[49m\u001b[38;5;28;43;01mNone\u001b[39;49;00m\u001b[43m)\u001b[49m\u001b[43m,\u001b[49m\n\u001b[0;32m   1220\u001b[0m \u001b[43m    \u001b[49m\u001b[43mcompression\u001b[49m\u001b[38;5;241;43m=\u001b[39;49m\u001b[38;5;28;43mself\u001b[39;49m\u001b[38;5;241;43m.\u001b[39;49m\u001b[43moptions\u001b[49m\u001b[38;5;241;43m.\u001b[39;49m\u001b[43mget\u001b[49m\u001b[43m(\u001b[49m\u001b[38;5;124;43m\"\u001b[39;49m\u001b[38;5;124;43mcompression\u001b[39;49m\u001b[38;5;124;43m\"\u001b[39;49m\u001b[43m,\u001b[49m\u001b[43m \u001b[49m\u001b[38;5;28;43;01mNone\u001b[39;49;00m\u001b[43m)\u001b[49m\u001b[43m,\u001b[49m\n\u001b[0;32m   1221\u001b[0m \u001b[43m    \u001b[49m\u001b[43mmemory_map\u001b[49m\u001b[38;5;241;43m=\u001b[39;49m\u001b[38;5;28;43mself\u001b[39;49m\u001b[38;5;241;43m.\u001b[39;49m\u001b[43moptions\u001b[49m\u001b[38;5;241;43m.\u001b[39;49m\u001b[43mget\u001b[49m\u001b[43m(\u001b[49m\u001b[38;5;124;43m\"\u001b[39;49m\u001b[38;5;124;43mmemory_map\u001b[39;49m\u001b[38;5;124;43m\"\u001b[39;49m\u001b[43m,\u001b[49m\u001b[43m \u001b[49m\u001b[38;5;28;43;01mFalse\u001b[39;49;00m\u001b[43m)\u001b[49m\u001b[43m,\u001b[49m\n\u001b[0;32m   1222\u001b[0m \u001b[43m    \u001b[49m\u001b[43mis_text\u001b[49m\u001b[38;5;241;43m=\u001b[39;49m\u001b[43mis_text\u001b[49m\u001b[43m,\u001b[49m\n\u001b[0;32m   1223\u001b[0m \u001b[43m    \u001b[49m\u001b[43merrors\u001b[49m\u001b[38;5;241;43m=\u001b[39;49m\u001b[38;5;28;43mself\u001b[39;49m\u001b[38;5;241;43m.\u001b[39;49m\u001b[43moptions\u001b[49m\u001b[38;5;241;43m.\u001b[39;49m\u001b[43mget\u001b[49m\u001b[43m(\u001b[49m\u001b[38;5;124;43m\"\u001b[39;49m\u001b[38;5;124;43mencoding_errors\u001b[39;49m\u001b[38;5;124;43m\"\u001b[39;49m\u001b[43m,\u001b[49m\u001b[43m \u001b[49m\u001b[38;5;124;43m\"\u001b[39;49m\u001b[38;5;124;43mstrict\u001b[39;49m\u001b[38;5;124;43m\"\u001b[39;49m\u001b[43m)\u001b[49m\u001b[43m,\u001b[49m\n\u001b[0;32m   1224\u001b[0m \u001b[43m    \u001b[49m\u001b[43mstorage_options\u001b[49m\u001b[38;5;241;43m=\u001b[39;49m\u001b[38;5;28;43mself\u001b[39;49m\u001b[38;5;241;43m.\u001b[39;49m\u001b[43moptions\u001b[49m\u001b[38;5;241;43m.\u001b[39;49m\u001b[43mget\u001b[49m\u001b[43m(\u001b[49m\u001b[38;5;124;43m\"\u001b[39;49m\u001b[38;5;124;43mstorage_options\u001b[39;49m\u001b[38;5;124;43m\"\u001b[39;49m\u001b[43m,\u001b[49m\u001b[43m \u001b[49m\u001b[38;5;28;43;01mNone\u001b[39;49;00m\u001b[43m)\u001b[49m\u001b[43m,\u001b[49m\n\u001b[0;32m   1225\u001b[0m \u001b[43m\u001b[49m\u001b[43m)\u001b[49m\n\u001b[0;32m   1226\u001b[0m \u001b[38;5;28;01massert\u001b[39;00m \u001b[38;5;28mself\u001b[39m\u001b[38;5;241m.\u001b[39mhandles \u001b[38;5;129;01mis\u001b[39;00m \u001b[38;5;129;01mnot\u001b[39;00m \u001b[38;5;28;01mNone\u001b[39;00m\n\u001b[0;32m   1227\u001b[0m f \u001b[38;5;241m=\u001b[39m \u001b[38;5;28mself\u001b[39m\u001b[38;5;241m.\u001b[39mhandles\u001b[38;5;241m.\u001b[39mhandle\n",
      "File \u001b[1;32mC:\\ProgramData\\Anaconda3\\envs\\pycaret\\lib\\site-packages\\pandas\\io\\common.py:786\u001b[0m, in \u001b[0;36mget_handle\u001b[1;34m(path_or_buf, mode, encoding, compression, memory_map, is_text, errors, storage_options)\u001b[0m\n\u001b[0;32m    781\u001b[0m \u001b[38;5;28;01melif\u001b[39;00m \u001b[38;5;28misinstance\u001b[39m(handle, \u001b[38;5;28mstr\u001b[39m):\n\u001b[0;32m    782\u001b[0m     \u001b[38;5;66;03m# Check whether the filename is to be opened in binary mode.\u001b[39;00m\n\u001b[0;32m    783\u001b[0m     \u001b[38;5;66;03m# Binary mode does not support 'encoding' and 'newline'.\u001b[39;00m\n\u001b[0;32m    784\u001b[0m     \u001b[38;5;28;01mif\u001b[39;00m ioargs\u001b[38;5;241m.\u001b[39mencoding \u001b[38;5;129;01mand\u001b[39;00m \u001b[38;5;124m\"\u001b[39m\u001b[38;5;124mb\u001b[39m\u001b[38;5;124m\"\u001b[39m \u001b[38;5;129;01mnot\u001b[39;00m \u001b[38;5;129;01min\u001b[39;00m ioargs\u001b[38;5;241m.\u001b[39mmode:\n\u001b[0;32m    785\u001b[0m         \u001b[38;5;66;03m# Encoding\u001b[39;00m\n\u001b[1;32m--> 786\u001b[0m         handle \u001b[38;5;241m=\u001b[39m \u001b[38;5;28;43mopen\u001b[39;49m\u001b[43m(\u001b[49m\n\u001b[0;32m    787\u001b[0m \u001b[43m            \u001b[49m\u001b[43mhandle\u001b[49m\u001b[43m,\u001b[49m\n\u001b[0;32m    788\u001b[0m \u001b[43m            \u001b[49m\u001b[43mioargs\u001b[49m\u001b[38;5;241;43m.\u001b[39;49m\u001b[43mmode\u001b[49m\u001b[43m,\u001b[49m\n\u001b[0;32m    789\u001b[0m \u001b[43m            \u001b[49m\u001b[43mencoding\u001b[49m\u001b[38;5;241;43m=\u001b[39;49m\u001b[43mioargs\u001b[49m\u001b[38;5;241;43m.\u001b[39;49m\u001b[43mencoding\u001b[49m\u001b[43m,\u001b[49m\n\u001b[0;32m    790\u001b[0m \u001b[43m            \u001b[49m\u001b[43merrors\u001b[49m\u001b[38;5;241;43m=\u001b[39;49m\u001b[43merrors\u001b[49m\u001b[43m,\u001b[49m\n\u001b[0;32m    791\u001b[0m \u001b[43m            \u001b[49m\u001b[43mnewline\u001b[49m\u001b[38;5;241;43m=\u001b[39;49m\u001b[38;5;124;43m\"\u001b[39;49m\u001b[38;5;124;43m\"\u001b[39;49m\u001b[43m,\u001b[49m\n\u001b[0;32m    792\u001b[0m \u001b[43m        \u001b[49m\u001b[43m)\u001b[49m\n\u001b[0;32m    793\u001b[0m     \u001b[38;5;28;01melse\u001b[39;00m:\n\u001b[0;32m    794\u001b[0m         \u001b[38;5;66;03m# Binary mode\u001b[39;00m\n\u001b[0;32m    795\u001b[0m         handle \u001b[38;5;241m=\u001b[39m \u001b[38;5;28mopen\u001b[39m(handle, ioargs\u001b[38;5;241m.\u001b[39mmode)\n",
      "\u001b[1;31mFileNotFoundError\u001b[0m: [Errno 2] No such file or directory: 'Data/olist_orders_dataset.csv'"
     ]
    }
   ],
   "source": [
    "order = pd.read_csv(\"Data/olist_orders_dataset.csv\")  "
   ]
  },
  {
   "cell_type": "code",
   "execution_count": null,
   "id": "0e7e5ce8",
   "metadata": {
    "ExecuteTime": {
     "end_time": "2022-11-10T20:08:09.582089Z",
     "start_time": "2022-11-10T20:08:09.582089Z"
    }
   },
   "outputs": [],
   "source": [
    "products = pd.read_csv(\"Data/olist_products_dataset.csv\")  "
   ]
  },
  {
   "cell_type": "code",
   "execution_count": null,
   "id": "39c5419e",
   "metadata": {
    "ExecuteTime": {
     "end_time": "2022-11-10T20:08:09.582089Z",
     "start_time": "2022-11-10T20:08:09.582089Z"
    }
   },
   "outputs": [],
   "source": [
    "geolocation = pd.read_csv(\"Data/olist_geolocation_dataset.csv\")  "
   ]
  },
  {
   "cell_type": "code",
   "execution_count": null,
   "id": "cb9c215b",
   "metadata": {
    "ExecuteTime": {
     "end_time": "2022-11-10T20:08:09.582089Z",
     "start_time": "2022-11-10T20:08:09.582089Z"
    }
   },
   "outputs": [],
   "source": [
    "reviews = pd.read_csv(\"Data/olist_order_reviews_dataset.csv\")  "
   ]
  },
  {
   "cell_type": "code",
   "execution_count": null,
   "id": "23349324",
   "metadata": {
    "ExecuteTime": {
     "end_time": "2022-11-10T20:08:09.597712Z",
     "start_time": "2022-11-10T20:08:09.597712Z"
    }
   },
   "outputs": [],
   "source": [
    "customers = pd.read_csv(\"Data/olist_customers_dataset.csv\") "
   ]
  },
  {
   "cell_type": "code",
   "execution_count": null,
   "id": "adf5b08e",
   "metadata": {
    "ExecuteTime": {
     "end_time": "2022-11-10T20:08:09.597712Z",
     "start_time": "2022-11-10T20:08:09.597712Z"
    }
   },
   "outputs": [],
   "source": [
    "payments = pd.read_csv(\"Data/olist_order_payments_dataset.csv\") "
   ]
  },
  {
   "cell_type": "code",
   "execution_count": null,
   "id": "6767ebbf",
   "metadata": {
    "ExecuteTime": {
     "end_time": "2022-11-10T20:08:09.597712Z",
     "start_time": "2022-11-10T20:08:09.597712Z"
    }
   },
   "outputs": [],
   "source": [
    "seller = pd.read_csv(\"Data/olist_sellers_dataset.csv\") "
   ]
  },
  {
   "cell_type": "code",
   "execution_count": null,
   "id": "3ca05a42",
   "metadata": {
    "ExecuteTime": {
     "end_time": "2022-11-10T20:08:09.597712Z",
     "start_time": "2022-11-10T20:08:09.597712Z"
    },
    "run_control": {
     "marked": false
    }
   },
   "outputs": [],
   "source": [
    "print(items.shape)\n",
    "items.head(2)"
   ]
  },
  {
   "cell_type": "code",
   "execution_count": null,
   "id": "d451b2e7",
   "metadata": {
    "ExecuteTime": {
     "end_time": "2022-11-10T20:08:09.613336Z",
     "start_time": "2022-11-10T20:08:09.613336Z"
    }
   },
   "outputs": [],
   "source": [
    "print(order.shape)\n",
    "order.head(2)"
   ]
  },
  {
   "cell_type": "code",
   "execution_count": null,
   "id": "07f7cf3d",
   "metadata": {
    "ExecuteTime": {
     "end_time": "2022-11-10T20:08:09.613336Z",
     "start_time": "2022-11-10T20:08:09.613336Z"
    }
   },
   "outputs": [],
   "source": [
    "print(products.shape)\n",
    "products.head(2)"
   ]
  },
  {
   "cell_type": "code",
   "execution_count": null,
   "id": "2ab52479",
   "metadata": {
    "ExecuteTime": {
     "end_time": "2022-11-10T20:08:09.613336Z",
     "start_time": "2022-11-10T20:08:09.613336Z"
    }
   },
   "outputs": [],
   "source": [
    "print(geolocation.shape)\n",
    "geolocation.head(2)"
   ]
  },
  {
   "cell_type": "code",
   "execution_count": null,
   "id": "a7667056",
   "metadata": {
    "ExecuteTime": {
     "end_time": "2022-11-10T20:08:09.613336Z",
     "start_time": "2022-11-10T20:08:09.613336Z"
    }
   },
   "outputs": [],
   "source": [
    "print(reviews.shape)\n",
    "reviews.head(2)"
   ]
  },
  {
   "cell_type": "code",
   "execution_count": null,
   "id": "717c24bc",
   "metadata": {
    "ExecuteTime": {
     "end_time": "2022-11-10T20:08:09.613336Z",
     "start_time": "2022-11-10T20:08:09.613336Z"
    }
   },
   "outputs": [],
   "source": [
    "print(customers.shape)\n",
    "customers.head(2)"
   ]
  },
  {
   "cell_type": "code",
   "execution_count": null,
   "id": "967c5199",
   "metadata": {
    "ExecuteTime": {
     "end_time": "2022-11-10T20:08:09.628961Z",
     "start_time": "2022-11-10T20:08:09.628961Z"
    }
   },
   "outputs": [],
   "source": [
    "print(payments.shape)\n",
    "payments.head(2)"
   ]
  },
  {
   "cell_type": "code",
   "execution_count": null,
   "id": "0c7cbcfc",
   "metadata": {
    "ExecuteTime": {
     "end_time": "2022-11-10T20:08:09.628961Z",
     "start_time": "2022-11-10T20:08:09.628961Z"
    }
   },
   "outputs": [],
   "source": [
    "print(seller.shape)\n",
    "seller.head(2)"
   ]
  },
  {
   "cell_type": "markdown",
   "id": "b9c0caab",
   "metadata": {},
   "source": [
    "# Limpando dados"
   ]
  },
  {
   "cell_type": "markdown",
   "id": "0830c37d",
   "metadata": {},
   "source": [
    "## Item"
   ]
  },
  {
   "cell_type": "markdown",
   "id": "9a70db20",
   "metadata": {},
   "source": [
    "Este conjunto de dados contém informações sobre os produtos em cada pedido. Os preços estão reais. O valor do frete é calculado de acordo com as medidas e peso de cada item."
   ]
  },
  {
   "cell_type": "code",
   "execution_count": null,
   "id": "3ea0190f",
   "metadata": {
    "ExecuteTime": {
     "end_time": "2022-11-10T20:08:09.628961Z",
     "start_time": "2022-11-10T20:08:09.628961Z"
    }
   },
   "outputs": [],
   "source": [
    "items.shape"
   ]
  },
  {
   "cell_type": "code",
   "execution_count": null,
   "id": "756e3b71",
   "metadata": {
    "ExecuteTime": {
     "end_time": "2022-11-10T20:08:09.628961Z",
     "start_time": "2022-11-10T20:08:09.628961Z"
    }
   },
   "outputs": [],
   "source": [
    "items.info()"
   ]
  },
  {
   "cell_type": "code",
   "execution_count": null,
   "id": "4b5fbc54",
   "metadata": {
    "ExecuteTime": {
     "end_time": "2022-11-10T20:08:09.628961Z",
     "start_time": "2022-11-10T20:08:09.628961Z"
    }
   },
   "outputs": [],
   "source": [
    "items.isnull().sum()"
   ]
  },
  {
   "cell_type": "markdown",
   "id": "600b55f7",
   "metadata": {},
   "source": [
    "Shipping_limit_date indica a data limite para o vendedor lidar com o pedido para o parceiro logístico. É uma etapa no processo de envio, mas é o tempo de entrega real que afeta a satisfação do cliente, portanto, descartaremos esse atributo."
   ]
  },
  {
   "cell_type": "code",
   "execution_count": null,
   "id": "c4f81473",
   "metadata": {
    "ExecuteTime": {
     "end_time": "2022-11-10T20:08:09.644587Z",
     "start_time": "2022-11-10T20:08:09.644587Z"
    }
   },
   "outputs": [],
   "source": [
    "items.drop('shipping_limit_date', axis=1, inplace=True)"
   ]
  },
  {
   "cell_type": "markdown",
   "id": "599a1457",
   "metadata": {},
   "source": [
    "O order_item_id representa a quantidade do item em cada pedido. Devido à falta de conexão entre os conjuntos de dados de produto, pedido e avaliação, não é possível vincular cada produto em um pedido de vários itens à sua própria avaliação. Portanto, manteremos apenas pedidos de um único item."
   ]
  },
  {
   "cell_type": "code",
   "execution_count": null,
   "id": "9699cb6d",
   "metadata": {
    "ExecuteTime": {
     "end_time": "2022-11-10T20:08:09.644587Z",
     "start_time": "2022-11-10T20:08:09.644587Z"
    }
   },
   "outputs": [],
   "source": [
    "linhas_mantidas = len(items.loc[items['order_item_id'] == 1,])\n",
    "print('Número de pedidos de um único item a ser mantido: ', linhas_mantidas)\n",
    "print('Porcentagem: ', linhas_mantidas/len(items)*100)\n"
   ]
  },
  {
   "cell_type": "code",
   "execution_count": null,
   "id": "a3efbab3",
   "metadata": {
    "ExecuteTime": {
     "end_time": "2022-11-10T20:08:09.644587Z",
     "start_time": "2022-11-10T20:08:09.644587Z"
    }
   },
   "outputs": [],
   "source": [
    "itens_pedidos_restritos = items.loc[items['order_item_id'] == 1,]\n",
    "itens_pedidos_restritos.drop('order_item_id', axis=1, inplace=True)"
   ]
  },
  {
   "cell_type": "markdown",
   "id": "bc64ce05",
   "metadata": {},
   "source": [
    "### Envio do arquivo limpo- itens.csv"
   ]
  },
  {
   "cell_type": "code",
   "execution_count": null,
   "id": "217c843a",
   "metadata": {
    "ExecuteTime": {
     "end_time": "2022-11-10T20:08:09.644587Z",
     "start_time": "2022-11-10T20:08:09.644587Z"
    }
   },
   "outputs": [],
   "source": [
    "items.to_csv('Data/itens.csv')"
   ]
  },
  {
   "cell_type": "markdown",
   "id": "5e3eb8b7",
   "metadata": {},
   "source": [
    "## Clientes - customers"
   ]
  },
  {
   "cell_type": "markdown",
   "id": "bd2d3be6",
   "metadata": {},
   "source": [
    "Esse conjunto de dados contém informações sobre o ID do cliente e sua localização no Brasil, que podem ser usadas para rastrear o local de entrega do pedido e principalmente analisar a experiência de compra de cada cliente.\n",
    "\n",
    "Cada cliente recebe um customer_unique_id, enquanto um novo customer_id é atribuído a cada vez que eles fazem um pedido. Essa é uma maneira de rastrear clientes recorrentes, o que é crucial para uma plataforma de comércio eletrônico\n"
   ]
  },
  {
   "cell_type": "code",
   "execution_count": null,
   "id": "e1379480",
   "metadata": {
    "ExecuteTime": {
     "end_time": "2022-11-10T20:08:09.660211Z",
     "start_time": "2022-11-10T20:08:09.660211Z"
    }
   },
   "outputs": [],
   "source": [
    "customers.shape"
   ]
  },
  {
   "cell_type": "code",
   "execution_count": null,
   "id": "c132b60c",
   "metadata": {
    "ExecuteTime": {
     "end_time": "2022-11-10T20:08:09.660211Z",
     "start_time": "2022-11-10T20:08:09.660211Z"
    },
    "cell_style": "center"
   },
   "outputs": [],
   "source": [
    "customers.info()"
   ]
  },
  {
   "cell_type": "code",
   "execution_count": null,
   "id": "b7ac5afc",
   "metadata": {
    "ExecuteTime": {
     "end_time": "2022-11-10T20:08:09.660211Z",
     "start_time": "2022-11-10T20:08:09.660211Z"
    },
    "cell_style": "center"
   },
   "outputs": [],
   "source": [
    "customers.isnull().sum()"
   ]
  },
  {
   "cell_type": "markdown",
   "id": "b5ad4710",
   "metadata": {},
   "source": [
    "Criando variável dummy para retorno do cliente em dtype: int"
   ]
  },
  {
   "cell_type": "code",
   "execution_count": null,
   "id": "91d855b3",
   "metadata": {
    "ExecuteTime": {
     "end_time": "2022-11-10T20:08:09.660211Z",
     "start_time": "2022-11-10T20:08:09.660211Z"
    }
   },
   "outputs": [],
   "source": [
    "customers['retorno_cliente'] = customers.duplicated(subset=['customer_unique_id']).astype(int)\n",
    "customers['retorno_cliente'].value_counts()"
   ]
  },
  {
   "cell_type": "code",
   "execution_count": null,
   "id": "923e0fbe",
   "metadata": {
    "ExecuteTime": {
     "end_time": "2022-11-10T20:08:09.660211Z",
     "start_time": "2022-11-10T20:08:09.660211Z"
    }
   },
   "outputs": [],
   "source": [
    "customers.columns"
   ]
  },
  {
   "cell_type": "markdown",
   "id": "8e9afa92",
   "metadata": {},
   "source": [
    "Eliminar colunas indesejadas e renomear a coluna de estado "
   ]
  },
  {
   "cell_type": "code",
   "execution_count": null,
   "id": "026cbfcb",
   "metadata": {
    "ExecuteTime": {
     "end_time": "2022-11-10T20:08:09.675837Z",
     "start_time": "2022-11-10T20:08:09.675837Z"
    }
   },
   "outputs": [],
   "source": [
    "customers.drop(['customer_city', 'customer_unique_id'], axis=1, inplace=True)\n",
    "customers.rename(columns={\"cliente_estado\": \"estado_code\"}, inplace=True)"
   ]
  },
  {
   "cell_type": "markdown",
   "id": "1d8bb234",
   "metadata": {},
   "source": [
    "### Envio do arquivo limpo- clientes.csv"
   ]
  },
  {
   "cell_type": "code",
   "execution_count": null,
   "id": "801cf0e5",
   "metadata": {
    "ExecuteTime": {
     "end_time": "2022-11-10T20:08:09.675837Z",
     "start_time": "2022-11-10T20:08:09.675837Z"
    }
   },
   "outputs": [],
   "source": [
    "customers.to_csv('Data/clientes.csv')"
   ]
  },
  {
   "cell_type": "markdown",
   "id": "968d6097",
   "metadata": {
    "ExecuteTime": {
     "end_time": "2022-10-04T00:07:55.866202Z",
     "start_time": "2022-10-04T00:07:55.845213Z"
    }
   },
   "source": [
    "## Ordens - order"
   ]
  },
  {
   "cell_type": "markdown",
   "id": "d025c401",
   "metadata": {},
   "source": [
    "Esse conjunto de dados rastreia o status do pedido e o processo de envio pelo parceiro logistico"
   ]
  },
  {
   "cell_type": "code",
   "execution_count": null,
   "id": "6094c876",
   "metadata": {
    "ExecuteTime": {
     "end_time": "2022-11-10T20:08:09.675837Z",
     "start_time": "2022-11-10T20:08:09.675837Z"
    }
   },
   "outputs": [],
   "source": [
    "order.shape"
   ]
  },
  {
   "cell_type": "code",
   "execution_count": null,
   "id": "592bb0cc",
   "metadata": {
    "ExecuteTime": {
     "end_time": "2022-11-10T20:08:09.675837Z",
     "start_time": "2022-11-10T20:08:09.675837Z"
    },
    "cell_style": "center"
   },
   "outputs": [],
   "source": [
    "order.isna().sum()"
   ]
  },
  {
   "cell_type": "code",
   "execution_count": null,
   "id": "72854286",
   "metadata": {
    "ExecuteTime": {
     "end_time": "2022-11-10T20:08:09.691461Z",
     "start_time": "2022-11-10T20:08:09.691461Z"
    },
    "cell_style": "center"
   },
   "outputs": [],
   "source": [
    "order.info()"
   ]
  },
  {
   "cell_type": "markdown",
   "id": "413f0f42",
   "metadata": {},
   "source": [
    "Criaremos atributos agregados para acompanhar o processo de envio"
   ]
  },
  {
   "cell_type": "code",
   "execution_count": null,
   "id": "0ce0be9d",
   "metadata": {
    "ExecuteTime": {
     "end_time": "2022-11-10T20:08:09.691461Z",
     "start_time": "2022-11-10T20:08:09.691461Z"
    }
   },
   "outputs": [],
   "source": [
    "# alterando dtype para date\n",
    "order.loc[:,'order_purchase_timestamp'] = pd.to_datetime(order['order_purchase_timestamp'],\n",
    "                                                              format='%Y/%m/%d').dt.date\n",
    "order.loc[:,'order_delivered_customer_date'] = pd.to_datetime(order['order_delivered_customer_date'],\n",
    "                                                              format='%Y/%m/%d').dt.date\n",
    "order.loc[:,'order_estimated_delivery_date'] = pd.to_datetime(order['order_estimated_delivery_date'],\n",
    "                                                              format='%Y/%m/%d').dt.date"
   ]
  },
  {
   "cell_type": "code",
   "execution_count": null,
   "id": "be56a9af",
   "metadata": {
    "ExecuteTime": {
     "end_time": "2022-11-10T20:08:09.691461Z",
     "start_time": "2022-11-10T20:08:09.691461Z"
    }
   },
   "outputs": [],
   "source": [
    "# acompanhar os dias estimados e reais de entrega\n",
    "order['estimativa_dias_entrega'] = (order['order_estimated_delivery_date']- order['order_purchase_timestamp']).astype('timedelta64[D]')\n",
    "\n",
    "order['dias_reais_entrega'] = (order['order_delivered_customer_date'] - order['order_purchase_timestamp']).astype('timedelta64[D]')"
   ]
  },
  {
   "cell_type": "markdown",
   "id": "c0f14993",
   "metadata": {},
   "source": [
    "Criando uma coluna de ano como uma junção chave posteriormente."
   ]
  },
  {
   "cell_type": "code",
   "execution_count": null,
   "id": "2ff2b996",
   "metadata": {
    "ExecuteTime": {
     "end_time": "2022-11-10T20:08:09.691461Z",
     "start_time": "2022-11-10T20:08:09.691461Z"
    }
   },
   "outputs": [],
   "source": [
    "order['ano_pedidos'] = pd.to_datetime(order['order_purchase_timestamp'], format='%Y/%m/%d').dt.year"
   ]
  },
  {
   "cell_type": "markdown",
   "id": "67cca88f",
   "metadata": {},
   "source": [
    "Tratando linhas nulas com dados de colunas próximas e eliminando linhas com order_status indisponíveis. "
   ]
  },
  {
   "cell_type": "code",
   "execution_count": null,
   "id": "3e14f87f",
   "metadata": {
    "ExecuteTime": {
     "end_time": "2022-11-10T20:08:09.691461Z",
     "start_time": "2022-11-10T20:08:09.691461Z"
    }
   },
   "outputs": [],
   "source": [
    "order = order[(~order['order_status'].isin(['canceled','unavailable']))]"
   ]
  },
  {
   "cell_type": "code",
   "execution_count": null,
   "id": "052400ba",
   "metadata": {
    "ExecuteTime": {
     "end_time": "2022-11-10T20:08:09.707084Z",
     "start_time": "2022-11-10T20:08:09.707084Z"
    }
   },
   "outputs": [],
   "source": [
    "order[\"order_approved_at\"].fillna(order[\"order_purchase_timestamp\"], inplace=True)\n",
    "order[\"order_delivered_customer_date\"].fillna(order[\"order_estimated_delivery_date\"], inplace=True)\n",
    "order[\"order_delivered_carrier_date\"].fillna(order[\"order_delivered_customer_date\"], inplace=True)"
   ]
  },
  {
   "cell_type": "markdown",
   "id": "36ac9d76",
   "metadata": {},
   "source": [
    "Criando coluna com cálculo de dias de antecipação de pedidos"
   ]
  },
  {
   "cell_type": "code",
   "execution_count": null,
   "id": "329e96bd",
   "metadata": {
    "ExecuteTime": {
     "end_time": "2022-11-10T20:08:09.707084Z",
     "start_time": "2022-11-10T20:08:09.707084Z"
    }
   },
   "outputs": [],
   "source": [
    "order['antecipacao_entrega'] = (order['order_estimated_delivery_date'] - order['order_delivered_customer_date'])"
   ]
  },
  {
   "cell_type": "code",
   "execution_count": null,
   "id": "3b76e797",
   "metadata": {
    "ExecuteTime": {
     "end_time": "2022-11-10T20:08:09.707084Z",
     "start_time": "2022-11-10T20:08:09.707084Z"
    }
   },
   "outputs": [],
   "source": [
    "order['antecipacao_entrega'] = order['antecipacao_entrega'].dt.days"
   ]
  },
  {
   "cell_type": "markdown",
   "id": "f2e99c42",
   "metadata": {},
   "source": [
    "Eliminando colunas irrelevantes"
   ]
  },
  {
   "cell_type": "code",
   "execution_count": null,
   "id": "3e74f514",
   "metadata": {
    "ExecuteTime": {
     "end_time": "2022-11-10T20:08:09.707084Z",
     "start_time": "2022-11-10T20:08:09.707084Z"
    }
   },
   "outputs": [],
   "source": [
    "cols_to_drop = ['order_approved_at', 'order_delivered_carrier_date', \n",
    "               'order_delivered_customer_date', 'order_estimated_delivery_date'] \n",
    "order = order.drop(cols_to_drop, axis=1)\n",
    "order.head(3)"
   ]
  },
  {
   "cell_type": "markdown",
   "id": "bb720e4f",
   "metadata": {},
   "source": [
    "### Envio do arquivo limpo- ordens.csv"
   ]
  },
  {
   "cell_type": "code",
   "execution_count": null,
   "id": "26a3cbd4",
   "metadata": {
    "ExecuteTime": {
     "end_time": "2022-11-10T20:08:09.722708Z",
     "start_time": "2022-11-10T20:08:09.722708Z"
    }
   },
   "outputs": [],
   "source": [
    "order.to_csv('Data/ordens.csv')"
   ]
  },
  {
   "cell_type": "markdown",
   "id": "9d7c443d",
   "metadata": {
    "ExecuteTime": {
     "end_time": "2022-10-04T00:44:50.125439Z",
     "start_time": "2022-10-04T00:44:50.108450Z"
    }
   },
   "source": [
    "## Produtos - products"
   ]
  },
  {
   "cell_type": "markdown",
   "id": "a7b9ce72",
   "metadata": {},
   "source": [
    "Esses conjuntos de dados fornece detalhes sobre os produtos da Olist e suas categorias"
   ]
  },
  {
   "cell_type": "code",
   "execution_count": null,
   "id": "585a9887",
   "metadata": {
    "ExecuteTime": {
     "end_time": "2022-11-10T20:08:09.722708Z",
     "start_time": "2022-11-10T20:08:09.722708Z"
    }
   },
   "outputs": [],
   "source": [
    "products.shape"
   ]
  },
  {
   "cell_type": "code",
   "execution_count": null,
   "id": "60a0ed2d",
   "metadata": {
    "ExecuteTime": {
     "end_time": "2022-11-10T20:08:09.722708Z",
     "start_time": "2022-11-10T20:08:09.722708Z"
    },
    "cell_style": "center"
   },
   "outputs": [],
   "source": [
    "products.info()"
   ]
  },
  {
   "cell_type": "code",
   "execution_count": null,
   "id": "d9e1cf1d",
   "metadata": {
    "ExecuteTime": {
     "end_time": "2022-11-10T20:08:09.722708Z",
     "start_time": "2022-11-10T20:08:09.722708Z"
    },
    "cell_style": "center"
   },
   "outputs": [],
   "source": [
    "products.isnull().sum()"
   ]
  },
  {
   "cell_type": "code",
   "execution_count": null,
   "id": "2bb4d5a5",
   "metadata": {
    "ExecuteTime": {
     "end_time": "2022-11-10T20:08:09.722708Z",
     "start_time": "2022-11-10T20:08:09.722708Z"
    }
   },
   "outputs": [],
   "source": [
    "products.columns"
   ]
  },
  {
   "cell_type": "code",
   "execution_count": null,
   "id": "399f15b3",
   "metadata": {
    "ExecuteTime": {
     "end_time": "2022-11-10T20:08:09.738333Z",
     "start_time": "2022-11-10T20:08:09.738333Z"
    },
    "scrolled": true
   },
   "outputs": [],
   "source": [
    "products['product_category_name'].value_counts().head(10)"
   ]
  },
  {
   "cell_type": "markdown",
   "id": "bfb4c8fa",
   "metadata": {},
   "source": [
    "Vamos atribuar os valores ausentes em product_category_name como 'not_reported'"
   ]
  },
  {
   "cell_type": "code",
   "execution_count": null,
   "id": "0921101e",
   "metadata": {
    "ExecuteTime": {
     "end_time": "2022-11-10T20:08:09.738333Z",
     "start_time": "2022-11-10T20:08:09.738333Z"
    }
   },
   "outputs": [],
   "source": [
    "products['product_category_name'] = products['product_category_name'].fillna('not_reported')\n",
    "products.head(3)"
   ]
  },
  {
   "cell_type": "code",
   "execution_count": null,
   "id": "109ce0ad",
   "metadata": {
    "ExecuteTime": {
     "end_time": "2022-11-10T20:08:09.738333Z",
     "start_time": "2022-11-10T20:08:09.738333Z"
    }
   },
   "outputs": [],
   "source": [
    "products.isna().sum()"
   ]
  },
  {
   "cell_type": "markdown",
   "id": "01b3dc02",
   "metadata": {},
   "source": [
    "Manipulando valores ausentes de recursos numéricos das colunas de medidas"
   ]
  },
  {
   "cell_type": "code",
   "execution_count": null,
   "id": "fd07430a",
   "metadata": {
    "ExecuteTime": {
     "end_time": "2022-11-10T20:08:09.738333Z",
     "start_time": "2022-11-10T20:08:09.738333Z"
    }
   },
   "outputs": [],
   "source": [
    "products['product_weight_g'].fillna(products['product_weight_g'].median(),inplace=True)\n",
    "products['product_length_cm'].fillna(products['product_length_cm'].median(),inplace=True)\n",
    "products['product_height_cm'].fillna(products['product_height_cm'].median(),inplace=True)\n",
    "products['product_width_cm'].fillna(products['product_width_cm'].median(),inplace=True)"
   ]
  },
  {
   "cell_type": "markdown",
   "id": "b4dce7b2",
   "metadata": {},
   "source": [
    "### Envio do arquivo limpo- produtos.csv"
   ]
  },
  {
   "cell_type": "code",
   "execution_count": null,
   "id": "02012b98",
   "metadata": {
    "ExecuteTime": {
     "end_time": "2022-11-10T20:08:09.738333Z",
     "start_time": "2022-11-10T20:08:09.738333Z"
    }
   },
   "outputs": [],
   "source": [
    "products.to_csv('Data/produtos.csv')"
   ]
  },
  {
   "cell_type": "markdown",
   "id": "25cb1207",
   "metadata": {},
   "source": [
    "## Avaliações - reviews"
   ]
  },
  {
   "cell_type": "markdown",
   "id": "9fb117d1",
   "metadata": {},
   "source": [
    "Este conjunto de dados contém informações sobre as avaliações em cada pedido."
   ]
  },
  {
   "cell_type": "code",
   "execution_count": null,
   "id": "211b6b4f",
   "metadata": {
    "ExecuteTime": {
     "end_time": "2022-11-10T20:08:09.753957Z",
     "start_time": "2022-11-10T20:08:09.753957Z"
    }
   },
   "outputs": [],
   "source": [
    "reviews.shape"
   ]
  },
  {
   "cell_type": "code",
   "execution_count": null,
   "id": "4ac58bbd",
   "metadata": {
    "ExecuteTime": {
     "end_time": "2022-11-10T20:08:09.753957Z",
     "start_time": "2022-11-10T20:08:09.753957Z"
    },
    "cell_style": "center"
   },
   "outputs": [],
   "source": [
    "reviews.info()"
   ]
  },
  {
   "cell_type": "code",
   "execution_count": null,
   "id": "3a7bfafa",
   "metadata": {
    "ExecuteTime": {
     "end_time": "2022-11-10T20:08:09.753957Z",
     "start_time": "2022-11-10T20:08:09.753957Z"
    }
   },
   "outputs": [],
   "source": [
    "print('Número de registros de reviews: ', len(reviews))\n",
    "print('Número de registros únicos de reviews: ', reviews.review_id.nunique())"
   ]
  },
  {
   "cell_type": "markdown",
   "id": "564c907b",
   "metadata": {
    "ExecuteTime": {
     "end_time": "2022-10-28T12:58:00.937420Z",
     "start_time": "2022-10-28T12:58:00.922430Z"
    }
   },
   "source": [
    "Existem portanto revisões repetidas. Os valores duplicados serão removidos pois sua repeticão não agrega informação útil ao trabalho.\n",
    "Retiraremos duplicatas para o mesmo order_id selecionando a avaliação mais recente com base em review_answer_timestamp, pois os dados já estão classificados por hora. Em seguida, retiraremos avaliações duplicadas devido ao problema com pedidos de vários itens e várias avaliações."
   ]
  },
  {
   "cell_type": "code",
   "execution_count": null,
   "id": "31426542",
   "metadata": {
    "ExecuteTime": {
     "end_time": "2022-11-10T20:08:09.753957Z",
     "start_time": "2022-11-10T20:08:09.753957Z"
    }
   },
   "outputs": [],
   "source": [
    "reviews = reviews.drop_duplicates(subset='review_id')\n",
    "print('Número de registros de reviews: ', len(reviews))\n",
    "print('Número de registros únicos de reviews: ', reviews.review_id.nunique())"
   ]
  },
  {
   "cell_type": "markdown",
   "id": "884c00b8",
   "metadata": {},
   "source": [
    "Criaremos um novo atributo para capturar o tempo que cada cliente leva para responder à pesquisa após a compra. Em seguida, criaremos a coluna tempo de resposta para analisarmos o score sobre este item."
   ]
  },
  {
   "cell_type": "code",
   "execution_count": null,
   "id": "4351ef1c",
   "metadata": {
    "ExecuteTime": {
     "end_time": "2022-11-10T20:08:09.753957Z",
     "start_time": "2022-11-10T20:08:09.753957Z"
    }
   },
   "outputs": [],
   "source": [
    "reviews['review_answer_timestamp'] = pd.to_datetime(reviews['review_answer_timestamp'], format='%Y/%m/%d')\n",
    "reviews['review_creation_date'] = pd.to_datetime(reviews['review_creation_date'], format='%Y/%m/%d')\n",
    "reviews['tempo_resposta_avaliação'] = (reviews['review_answer_timestamp'] - reviews['review_creation_date']).dt.days"
   ]
  },
  {
   "cell_type": "markdown",
   "id": "48a15f25",
   "metadata": {},
   "source": [
    "Verificando os valores ausentes."
   ]
  },
  {
   "cell_type": "code",
   "execution_count": null,
   "id": "3a75df8f",
   "metadata": {
    "ExecuteTime": {
     "end_time": "2022-11-10T20:08:09.769583Z",
     "start_time": "2022-11-10T20:08:09.769583Z"
    }
   },
   "outputs": [],
   "source": [
    "reviews.isnull().sum()"
   ]
  },
  {
   "cell_type": "markdown",
   "id": "06c47f4c",
   "metadata": {},
   "source": [
    "Verificamos acima que existem 57742 revisões sem comentários. Para a análise que será realizada é interessante que as revisões tenham os comentários preenchidos. Manteremos apenas as revisões com comentários."
   ]
  },
  {
   "cell_type": "code",
   "execution_count": null,
   "id": "9dd2c184",
   "metadata": {
    "ExecuteTime": {
     "end_time": "2022-11-10T20:08:09.769583Z",
     "start_time": "2022-11-10T20:08:09.769583Z"
    }
   },
   "outputs": [],
   "source": [
    "reviews = reviews.dropna(subset=['review_comment_message'])\n",
    "reviews.info()"
   ]
  },
  {
   "cell_type": "markdown",
   "id": "99e4b6f5",
   "metadata": {},
   "source": [
    "Verificando os valores ausentes."
   ]
  },
  {
   "cell_type": "code",
   "execution_count": null,
   "id": "7214a8f4",
   "metadata": {
    "ExecuteTime": {
     "end_time": "2022-11-10T20:08:09.769583Z",
     "start_time": "2022-11-10T20:08:09.769583Z"
    }
   },
   "outputs": [],
   "source": [
    "reviews.isna().sum() / len(reviews)"
   ]
  },
  {
   "cell_type": "markdown",
   "id": "d53f62e6",
   "metadata": {},
   "source": [
    "A coluna revisão título do comentário está com mais de 75% de valores ausentes, então vamos descartá-las."
   ]
  },
  {
   "cell_type": "code",
   "execution_count": null,
   "id": "21755821",
   "metadata": {
    "ExecuteTime": {
     "end_time": "2022-11-10T20:08:09.769583Z",
     "start_time": "2022-11-10T20:08:09.769583Z"
    }
   },
   "outputs": [],
   "source": [
    "reviews = reviews.drop(['review_comment_title'], axis=1)\n",
    "reviews.head(3)"
   ]
  },
  {
   "cell_type": "markdown",
   "id": "db693170",
   "metadata": {
    "ExecuteTime": {
     "end_time": "2022-10-06T02:49:36.177653Z",
     "start_time": "2022-10-06T02:49:36.156668Z"
    }
   },
   "source": [
    "### Envio do arquivo limpo- avalicoes.csv"
   ]
  },
  {
   "cell_type": "code",
   "execution_count": null,
   "id": "38747300",
   "metadata": {
    "ExecuteTime": {
     "end_time": "2022-11-10T20:08:09.785206Z",
     "start_time": "2022-11-10T20:08:09.785206Z"
    }
   },
   "outputs": [],
   "source": [
    "reviews.to_csv('Data/avaliacoes.csv')"
   ]
  },
  {
   "cell_type": "markdown",
   "id": "05bc5122",
   "metadata": {},
   "source": [
    "## Vendedores - Seller"
   ]
  },
  {
   "cell_type": "markdown",
   "id": "49309921",
   "metadata": {},
   "source": [
    "Este conjunto de dados contém o ID do vendedor e suas informações de localização."
   ]
  },
  {
   "cell_type": "code",
   "execution_count": null,
   "id": "712810ba",
   "metadata": {
    "ExecuteTime": {
     "end_time": "2022-11-10T20:08:09.785206Z",
     "start_time": "2022-11-10T20:08:09.785206Z"
    }
   },
   "outputs": [],
   "source": [
    "seller.shape"
   ]
  },
  {
   "cell_type": "code",
   "execution_count": null,
   "id": "fa9aefd8",
   "metadata": {
    "ExecuteTime": {
     "end_time": "2022-11-10T20:08:09.785206Z",
     "start_time": "2022-11-10T20:08:09.785206Z"
    },
    "cell_style": "center",
    "run_control": {
     "marked": false
    }
   },
   "outputs": [],
   "source": [
    "seller.info()"
   ]
  },
  {
   "cell_type": "code",
   "execution_count": null,
   "id": "76f3f8f8",
   "metadata": {
    "ExecuteTime": {
     "end_time": "2022-11-10T20:08:09.785206Z",
     "start_time": "2022-11-10T20:08:09.785206Z"
    },
    "cell_style": "center"
   },
   "outputs": [],
   "source": [
    "seller.isnull().sum()"
   ]
  },
  {
   "cell_type": "markdown",
   "id": "2c3df8f2",
   "metadata": {
    "ExecuteTime": {
     "end_time": "2022-10-19T22:16:17.674490Z",
     "start_time": "2022-10-19T22:16:17.570552Z"
    }
   },
   "source": [
    "Drop nas colunas seller_city e seller_state"
   ]
  },
  {
   "cell_type": "code",
   "execution_count": null,
   "id": "ea0c49a5",
   "metadata": {
    "ExecuteTime": {
     "end_time": "2022-11-10T20:08:09.785206Z",
     "start_time": "2022-11-10T20:08:09.785206Z"
    }
   },
   "outputs": [],
   "source": [
    "seller.drop(['seller_city', 'seller_state'], axis=1, inplace=True)"
   ]
  },
  {
   "cell_type": "markdown",
   "id": "b4a77a16",
   "metadata": {},
   "source": [
    "### Envio do arquivo limpo- vendedores.csv"
   ]
  },
  {
   "cell_type": "code",
   "execution_count": null,
   "id": "e31cc671",
   "metadata": {
    "ExecuteTime": {
     "end_time": "2022-11-10T20:08:09.800832Z",
     "start_time": "2022-11-10T20:08:09.800832Z"
    }
   },
   "outputs": [],
   "source": [
    "seller.to_csv('Data/vendedores.csv')"
   ]
  },
  {
   "cell_type": "markdown",
   "id": "d6fe51e7",
   "metadata": {},
   "source": [
    "## Pagamentos - payments"
   ]
  },
  {
   "cell_type": "markdown",
   "id": "95874b54",
   "metadata": {},
   "source": [
    "Tabela de pagamentos contendo modo de pagamento utilizado e valor pago pelo pedido de compra"
   ]
  },
  {
   "cell_type": "code",
   "execution_count": null,
   "id": "4ebf82ba",
   "metadata": {
    "ExecuteTime": {
     "end_time": "2022-11-10T20:08:09.800832Z",
     "start_time": "2022-11-10T20:08:09.800832Z"
    }
   },
   "outputs": [],
   "source": [
    "payments.shape"
   ]
  },
  {
   "cell_type": "code",
   "execution_count": null,
   "id": "f7bdf169",
   "metadata": {
    "ExecuteTime": {
     "end_time": "2022-11-10T20:08:09.800832Z",
     "start_time": "2022-11-10T20:08:09.800832Z"
    },
    "cell_style": "center"
   },
   "outputs": [],
   "source": [
    "payments.info()"
   ]
  },
  {
   "cell_type": "code",
   "execution_count": null,
   "id": "cbdea4b4",
   "metadata": {
    "ExecuteTime": {
     "end_time": "2022-11-10T20:08:09.800832Z",
     "start_time": "2022-11-10T20:08:09.800832Z"
    },
    "cell_style": "center"
   },
   "outputs": [],
   "source": [
    "payments.isnull().sum()"
   ]
  },
  {
   "cell_type": "code",
   "execution_count": null,
   "id": "a0003500",
   "metadata": {
    "ExecuteTime": {
     "end_time": "2022-11-10T20:08:09.816456Z",
     "start_time": "2022-11-10T20:08:09.816456Z"
    }
   },
   "outputs": [],
   "source": [
    "payments.columns"
   ]
  },
  {
   "cell_type": "code",
   "execution_count": null,
   "id": "d96f27f4",
   "metadata": {
    "ExecuteTime": {
     "end_time": "2022-11-10T20:08:09.816456Z",
     "start_time": "2022-11-10T20:08:09.816456Z"
    }
   },
   "outputs": [],
   "source": [
    "payments['payment_type'].value_counts()"
   ]
  },
  {
   "cell_type": "code",
   "execution_count": null,
   "id": "ab577929",
   "metadata": {
    "ExecuteTime": {
     "end_time": "2022-11-10T20:08:09.816456Z",
     "start_time": "2022-11-10T20:08:09.816456Z"
    }
   },
   "outputs": [],
   "source": [
    "payments.groupby('payment_type').size()"
   ]
  },
  {
   "cell_type": "code",
   "execution_count": null,
   "id": "a5c4080c",
   "metadata": {
    "ExecuteTime": {
     "end_time": "2022-11-10T20:08:09.816456Z",
     "start_time": "2022-11-10T20:08:09.816456Z"
    }
   },
   "outputs": [],
   "source": [
    "payments.loc[payments['payment_type']=='not_defined']"
   ]
  },
  {
   "cell_type": "code",
   "execution_count": null,
   "id": "adb6c8db",
   "metadata": {
    "ExecuteTime": {
     "end_time": "2022-11-10T20:08:09.816456Z",
     "start_time": "2022-11-10T20:08:09.816456Z"
    },
    "run_control": {
     "marked": false
    }
   },
   "outputs": [],
   "source": [
    "payments.drop(index=payments.loc[payments['payment_type']=='not_defined'].index, inplace=True)"
   ]
  },
  {
   "cell_type": "code",
   "execution_count": null,
   "id": "aeac3a03",
   "metadata": {
    "ExecuteTime": {
     "end_time": "2022-11-10T20:08:09.832080Z",
     "start_time": "2022-11-10T20:08:09.832080Z"
    }
   },
   "outputs": [],
   "source": [
    "payments['payment_type'].value_counts()"
   ]
  },
  {
   "cell_type": "markdown",
   "id": "b65993ac",
   "metadata": {},
   "source": [
    "### Envio do arquivo limpo- pagamentos.csv"
   ]
  },
  {
   "cell_type": "code",
   "execution_count": null,
   "id": "5ca5c368",
   "metadata": {
    "ExecuteTime": {
     "end_time": "2022-11-10T20:08:09.832080Z",
     "start_time": "2022-11-10T20:08:09.832080Z"
    }
   },
   "outputs": [],
   "source": [
    "payments.to_csv('Data/pagamentos.csv')"
   ]
  },
  {
   "cell_type": "markdown",
   "id": "896be821",
   "metadata": {},
   "source": [
    "## Geocalização"
   ]
  },
  {
   "cell_type": "markdown",
   "id": "8453868a",
   "metadata": {},
   "source": [
    "Este conjunto de dados contém CEPs e suas coordenadas lat/lng. Isso pode ser útil para analisar as distâncias e fazer a visualização geoespacial."
   ]
  },
  {
   "cell_type": "code",
   "execution_count": null,
   "id": "7d7e0760",
   "metadata": {
    "ExecuteTime": {
     "end_time": "2022-11-10T20:08:09.832080Z",
     "start_time": "2022-11-10T20:08:09.832080Z"
    }
   },
   "outputs": [],
   "source": [
    "geolocation.shape"
   ]
  },
  {
   "cell_type": "code",
   "execution_count": null,
   "id": "7e65466e",
   "metadata": {
    "ExecuteTime": {
     "end_time": "2022-11-10T20:08:09.832080Z",
     "start_time": "2022-11-10T20:08:09.832080Z"
    },
    "cell_style": "split"
   },
   "outputs": [],
   "source": [
    "geolocation.info()"
   ]
  },
  {
   "cell_type": "code",
   "execution_count": null,
   "id": "92557393",
   "metadata": {
    "ExecuteTime": {
     "end_time": "2022-11-10T20:08:09.847704Z",
     "start_time": "2022-11-10T20:08:09.847704Z"
    },
    "cell_style": "split"
   },
   "outputs": [],
   "source": [
    "geolocation.isnull().sum()"
   ]
  },
  {
   "cell_type": "code",
   "execution_count": null,
   "id": "c5dc4edf",
   "metadata": {
    "ExecuteTime": {
     "end_time": "2022-11-10T20:08:09.847704Z",
     "start_time": "2022-11-10T20:08:09.847704Z"
    }
   },
   "outputs": [],
   "source": [
    "geolocation.columns"
   ]
  },
  {
   "cell_type": "markdown",
   "id": "d6f40e57",
   "metadata": {},
   "source": [
    "Eliminar colunas indesejadas e duplicatas para manter apenas um par de latitude/longitude por prefixo de código postal.\n"
   ]
  },
  {
   "cell_type": "code",
   "execution_count": null,
   "id": "2061a167",
   "metadata": {
    "ExecuteTime": {
     "end_time": "2022-11-10T20:08:09.847704Z",
     "start_time": "2022-11-10T20:08:09.847704Z"
    }
   },
   "outputs": [],
   "source": [
    "geolocation = geolocation.drop(['geolocation_city', 'geolocation_state'], axis=1)\n",
    "geolocation = geolocation.drop_duplicates(subset = ['geolocation_zip_code_prefix'],ignore_index=True)"
   ]
  },
  {
   "cell_type": "markdown",
   "id": "899d3158",
   "metadata": {},
   "source": [
    "Separar a geolocalização por cliente e vendedor"
   ]
  },
  {
   "cell_type": "code",
   "execution_count": null,
   "id": "cdeec26f",
   "metadata": {
    "ExecuteTime": {
     "end_time": "2022-11-10T20:08:09.847704Z",
     "start_time": "2022-11-10T20:08:09.847704Z"
    }
   },
   "outputs": [],
   "source": [
    "geo_cliente = geolocation.rename(columns={\"geolocation_zip_code_prefix\":\"customer_zip_code_prefix\",\n",
    "                                                  \"geolocation_lat\":\"customer_lat\",\n",
    "                                                  \"geolocation_lng\":\"customer_lng\"})\n",
    "geo_vendedor = geolocation.rename(columns={\"geolocation_zip_code_prefix\":\"seller_zip_code_prefix\",\n",
    "                                                  \"geolocation_lat\":\"seller_lat\",\n",
    "                                                  \"geolocation_lng\":\"seller_lng\"})\n",
    "geo_cliente.head(3)"
   ]
  },
  {
   "cell_type": "markdown",
   "id": "762d7322",
   "metadata": {},
   "source": [
    "### Envio do arquivo limpo- geolocal.csv"
   ]
  },
  {
   "cell_type": "code",
   "execution_count": null,
   "id": "2b438650",
   "metadata": {
    "ExecuteTime": {
     "end_time": "2022-11-10T20:08:09.847704Z",
     "start_time": "2022-11-10T20:08:09.847704Z"
    }
   },
   "outputs": [],
   "source": [
    "geolocation.to_csv('Data/geolocal.csv')"
   ]
  },
  {
   "cell_type": "code",
   "execution_count": null,
   "id": "49311dbb",
   "metadata": {
    "ExecuteTime": {
     "end_time": "2022-11-10T20:08:09.863716Z",
     "start_time": "2022-11-10T20:08:09.863716Z"
    }
   },
   "outputs": [],
   "source": [
    "geo_cliente.to_csv('Data/geo_cliente.csv')"
   ]
  },
  {
   "cell_type": "code",
   "execution_count": null,
   "id": "79e20f8b",
   "metadata": {
    "ExecuteTime": {
     "end_time": "2022-11-10T20:08:09.864746Z",
     "start_time": "2022-11-10T20:08:09.864746Z"
    }
   },
   "outputs": [],
   "source": [
    "geo_vendedor.to_csv('Data/geo_vendedor.csv')"
   ]
  },
  {
   "cell_type": "markdown",
   "id": "8ad5e809",
   "metadata": {},
   "source": [
    "# DataFrame original para merge"
   ]
  },
  {
   "cell_type": "code",
   "execution_count": null,
   "id": "4d4fc4dd",
   "metadata": {
    "ExecuteTime": {
     "end_time": "2022-11-10T20:08:09.864746Z",
     "start_time": "2022-11-10T20:08:09.864746Z"
    },
    "run_control": {
     "marked": false
    }
   },
   "outputs": [],
   "source": [
    "itens = pd.read_csv(\"Data/itens.csv\") \n",
    "ordens = pd.read_csv(\"Data/ordens.csv\")\n",
    "produtos = pd.read_csv(\"Data/produtos.csv\")\n",
    "geolocal = pd.read_csv(\"Data/geolocal.csv\")\n",
    "clientes = pd.read_csv(\"Data/clientes.csv\")\n",
    "avaliacoes = pd.read_csv('Data/avaliacoes.csv')\n",
    "vendedores = pd.read_csv(\"Data/vendedores.csv\")\n",
    "pagamentos = pd.read_csv('Data/pagamentos.csv')\n",
    "geo_cliente= pd.read_csv('Data/geo_cliente.csv')\n",
    "geo_vendedor= pd.read_csv('Data/geo_vendedor.csv')"
   ]
  },
  {
   "cell_type": "markdown",
   "id": "d4693a80",
   "metadata": {},
   "source": [
    "## Colunas finais "
   ]
  },
  {
   "cell_type": "code",
   "execution_count": null,
   "id": "3566fb56",
   "metadata": {
    "ExecuteTime": {
     "end_time": "2022-11-10T20:08:09.864746Z",
     "start_time": "2022-11-10T20:08:09.864746Z"
    }
   },
   "outputs": [],
   "source": [
    "final_df = itens_pedidos_restritos.merge(ordens, on = 'order_id', how = 'inner')\n",
    "final_df = final_df.merge(produtos, on = 'product_id', how = 'left')\n",
    "final_df = final_df.merge(avaliacoes, on = 'order_id', how = 'inner')\n",
    "final_df = final_df.merge(clientes, on = 'customer_id', how = 'left')\n",
    "final_df = final_df.merge(vendedores, on = 'seller_id', how='left')\n",
    "final_df = final_df.merge(geo_cliente, on = 'customer_zip_code_prefix', how = 'left')\n",
    "final_df = final_df.merge(pagamentos, on = 'order_id', how = 'left')"
   ]
  },
  {
   "cell_type": "code",
   "execution_count": null,
   "id": "fe2ad079",
   "metadata": {
    "ExecuteTime": {
     "end_time": "2022-11-10T20:08:09.864746Z",
     "start_time": "2022-11-10T20:08:09.864746Z"
    }
   },
   "outputs": [],
   "source": [
    "final_df.isna().sum()"
   ]
  },
  {
   "cell_type": "markdown",
   "id": "6a1b0e7d",
   "metadata": {},
   "source": [
    "   # Leitura DataFrame final"
   ]
  },
  {
   "cell_type": "code",
   "execution_count": null,
   "id": "cf9fbdfa",
   "metadata": {
    "ExecuteTime": {
     "end_time": "2022-11-10T20:08:09.880372Z",
     "start_time": "2022-11-10T20:08:09.880372Z"
    }
   },
   "outputs": [],
   "source": [
    "(final_df.isna().sum() / len(final_df)).sort_values(ascending=False)"
   ]
  },
  {
   "cell_type": "code",
   "execution_count": null,
   "id": "424b5e92",
   "metadata": {
    "ExecuteTime": {
     "end_time": "2022-11-10T20:08:09.880372Z",
     "start_time": "2022-11-10T20:08:09.880372Z"
    }
   },
   "outputs": [],
   "source": [
    "final_df.describe()"
   ]
  },
  {
   "cell_type": "code",
   "execution_count": null,
   "id": "5771edfc",
   "metadata": {
    "ExecuteTime": {
     "end_time": "2022-11-10T20:08:09.880372Z",
     "start_time": "2022-11-10T20:08:09.880372Z"
    }
   },
   "outputs": [],
   "source": [
    "total = final_df.isnull().sum().sort_values(ascending=False)\n",
    "percent = (final_df.isnull().sum()/final_df.isnull().count()).sort_values(ascending=False)\n",
    "missing = pd.concat([total, percent], axis=1, keys=['Total', 'Percent'])\n",
    "missing.head()"
   ]
  },
  {
   "cell_type": "markdown",
   "id": "410e26f6",
   "metadata": {},
   "source": [
    "## Fazendo Drop Duplicates"
   ]
  },
  {
   "cell_type": "code",
   "execution_count": null,
   "id": "21acd4d3",
   "metadata": {
    "ExecuteTime": {
     "end_time": "2022-11-10T20:08:09.880372Z",
     "start_time": "2022-11-10T20:08:09.880372Z"
    }
   },
   "outputs": [],
   "source": [
    "geolocal.drop_duplicates(inplace=True)"
   ]
  },
  {
   "cell_type": "markdown",
   "id": "45336a55",
   "metadata": {},
   "source": [
    "# Gráficos"
   ]
  },
  {
   "cell_type": "code",
   "execution_count": null,
   "id": "87cf238e",
   "metadata": {
    "ExecuteTime": {
     "end_time": "2022-11-10T20:08:09.880372Z",
     "start_time": "2022-11-10T20:08:09.880372Z"
    }
   },
   "outputs": [],
   "source": [
    "import seaborn as sns\n",
    "import matplotlib\n",
    "import matplotlib.pyplot as plt\n",
    "import plotly.express as px"
   ]
  },
  {
   "cell_type": "code",
   "execution_count": null,
   "id": "697c3f72",
   "metadata": {
    "ExecuteTime": {
     "end_time": "2022-11-10T20:08:09.895996Z",
     "start_time": "2022-11-10T20:08:09.895996Z"
    }
   },
   "outputs": [],
   "source": [
    "import seaborn as sns\n",
    "import matplotlib.pyplot as plt\n",
    "matriz_corr = final_df.corr()\n",
    "top_corr_features = matriz_corr.index\n",
    "plt.figure(figsize=(80,30))\n",
    "\n",
    "g=sns.heatmap(final_df[top_corr_features].corr(),annot=True,cmap=\"RdYlGn\")"
   ]
  },
  {
   "cell_type": "markdown",
   "id": "087cca26",
   "metadata": {},
   "source": [
    "# Analisando parâmetros do novo DataFrame"
   ]
  },
  {
   "cell_type": "markdown",
   "id": "fa649ffe",
   "metadata": {},
   "source": [
    "## Data entrega"
   ]
  },
  {
   "cell_type": "code",
   "execution_count": null,
   "id": "e2159772",
   "metadata": {
    "ExecuteTime": {
     "end_time": "2022-11-10T20:08:09.895996Z",
     "start_time": "2022-11-10T20:08:09.895996Z"
    }
   },
   "outputs": [],
   "source": [
    "print('Média de dias de entrega (by the median value): ', final_df['dias_reais_entrega'].median())\n",
    "final_df['dias_reais_entrega'].plot.hist(bins=50);"
   ]
  },
  {
   "cell_type": "code",
   "execution_count": null,
   "id": "93141dcc",
   "metadata": {
    "ExecuteTime": {
     "end_time": "2022-11-10T20:08:09.895996Z",
     "start_time": "2022-11-10T20:08:09.895996Z"
    }
   },
   "outputs": [],
   "source": [
    "final_df[final_df.dias_reais_entrega.isna()]['order_status'].value_counts()"
   ]
  },
  {
   "cell_type": "markdown",
   "id": "8bb4cb2a",
   "metadata": {},
   "source": [
    "Para análise do cliente, a Olist envia pesquisas aos clientes quando o pedido é entregue ou o tempo estimado de entrega já ultrapassou. Portanto, para os pedidos que ainda não têm a data de entrega, mas ainda têm pontuações de revisão, isso significa que eles não foram entregues no dia da revisão.\n",
    "\n",
    "Com base nos dias de entrega reais médios e no status de cada pedido, estimamos o tempo extra (além do tempo de entrega estimado para cada pedido) considerando:\n",
    "\n",
    "- enviado: +5 dias\n",
    "- faturado/processando/aprovado: + 10 dias\n",
    "- entregue: +1 dia"
   ]
  },
  {
   "cell_type": "code",
   "execution_count": null,
   "id": "45816091",
   "metadata": {
    "ExecuteTime": {
     "end_time": "2022-11-10T20:08:09.895996Z",
     "start_time": "2022-11-10T20:08:09.895996Z"
    }
   },
   "outputs": [],
   "source": [
    "# definindo filtros com base em order_status\n",
    "filtro_enviado = (final_df['dias_reais_entrega'].isna() & (final_df['order_status'] == 'shipped'))\n",
    "filtro_entregue = (final_df['dias_reais_entrega'].isna() & (final_df['order_status'] == 'delivered'))\n",
    "outros = ['invoiced', 'processing', 'approved']\n",
    "filtro_outros = (final_df['dias_reais_entrega'].isna() & final_df['order_status'].isin(outros))\n",
    "\n",
    "\n",
    "# preenchendo os valores com tempo extra acordado\n",
    "final_df.loc[filtro_enviado, 'dias_reais_entrega'] = final_df.loc[filtro_enviado, 'estimativa_dias_entrega'] + 5\n",
    "final_df.loc[filtro_entregue, 'dias_reais_entrega'] = final_df.loc[filtro_entregue, 'estimativa_dias_entrega'] + 1\n",
    "final_df.loc[filtro_outros, 'dias_reais_entrega'] = final_df.loc[filtro_outros, 'estimativa_dias_entrega'] + 10"
   ]
  },
  {
   "cell_type": "markdown",
   "id": "f2c6cdfb",
   "metadata": {},
   "source": [
    "Criando coluna para rastrear se a entrega está atrasada."
   ]
  },
  {
   "cell_type": "code",
   "execution_count": null,
   "id": "94af17a6",
   "metadata": {
    "ExecuteTime": {
     "end_time": "2022-11-10T20:08:09.895996Z",
     "start_time": "2022-11-10T20:08:09.895996Z"
    }
   },
   "outputs": [],
   "source": [
    "final_df['entrega_atrasada'] = (final_df['dias_reais_entrega'] > final_df['estimativa_dias_entrega']).astype(int)\n",
    "final_df['entrega_atrasada'].value_counts()"
   ]
  },
  {
   "cell_type": "markdown",
   "id": "94ccfbd0",
   "metadata": {},
   "source": [
    "## Analisando Status do Pedido"
   ]
  },
  {
   "cell_type": "markdown",
   "id": "c9078385",
   "metadata": {},
   "source": [
    "Proporção do pedido com base no Status do Pedido"
   ]
  },
  {
   "cell_type": "code",
   "execution_count": null,
   "id": "13517028",
   "metadata": {
    "ExecuteTime": {
     "end_time": "2022-11-10T20:08:09.911621Z",
     "start_time": "2022-11-10T20:08:09.911621Z"
    }
   },
   "outputs": [],
   "source": [
    "review_score_pct = final_df['review_score'].value_counts(normalize=True)\n",
    "review_score_pct.to_frame().T.plot.barh(stacked=True, figsize=(10,2), width=0.2,\n",
    "                                 colormap='coolwarm').legend(loc='upper left', ncol=1)\n",
    "plt.title('Distribuição das avaliações por score', fontsize=12)\n",
    "plt.legend(ncol=5, bbox_to_anchor=(0.3, 0.7), loc='lower left', fontsize='small')\n",
    "plt.show()"
   ]
  },
  {
   "cell_type": "markdown",
   "id": "1b196878",
   "metadata": {},
   "source": [
    "A distribuição do atributo order_status é altamente desequilibrada, com 98% dos pedidos sendo declarados 'entregues' e o restante dividido em 'enviado', 'faturado', 'processando' e 'aprovado'.\n",
    "Vamos analisar os pedidos não entregues."
   ]
  },
  {
   "cell_type": "code",
   "execution_count": null,
   "id": "0854b2dc",
   "metadata": {
    "ExecuteTime": {
     "end_time": "2022-11-10T20:08:09.911621Z",
     "start_time": "2022-11-10T20:08:09.911621Z"
    }
   },
   "outputs": [],
   "source": [
    "filtro_não_entregue = (final_df['order_status'] != 'delivered')\n",
    "pd.crosstab(final_df[filtro_não_entregue]['order_status'], \n",
    "            final_df[filtro_não_entregue]['review_score']).plot.bar(cmap='PiYG', figsize=(6,4), rot=0)\n",
    "plt.show()"
   ]
  },
  {
   "cell_type": "markdown",
   "id": "05794eb8",
   "metadata": {},
   "source": [
    "Em 3 categorias principais de pedidos não entregues, pontuações baixas de revisão, especialmente a pontuação 1, são amplamente dominantes. Como esses pedidos ocupam uma proporção pequena no conjunto de dados e todos compartilham essa característica, vamos reagrupar em uma categoria não entregue (valor 0) e categoria entregue (valor 1)."
   ]
  },
  {
   "cell_type": "code",
   "execution_count": null,
   "id": "b4507776",
   "metadata": {
    "ExecuteTime": {
     "end_time": "2022-11-10T20:08:09.911621Z",
     "start_time": "2022-11-10T20:08:09.911621Z"
    }
   },
   "outputs": [],
   "source": [
    "final_df['delivered'] = np.where(final_df['order_status']=='delivered', 1, 0)"
   ]
  },
  {
   "cell_type": "markdown",
   "id": "a3f10fa9",
   "metadata": {},
   "source": [
    "\n",
    "## Analisando recursos de dimensão do produto"
   ]
  },
  {
   "cell_type": "code",
   "execution_count": null,
   "id": "3b729c2c",
   "metadata": {
    "ExecuteTime": {
     "end_time": "2022-11-10T20:08:09.911621Z",
     "start_time": "2022-11-10T20:08:09.911621Z"
    }
   },
   "outputs": [],
   "source": [
    "final_df[final_df.product_weight_g.isna()][['product_length_cm', 'product_height_cm', 'product_width_cm']]"
   ]
  },
  {
   "cell_type": "markdown",
   "id": "745e02ac",
   "metadata": {},
   "source": [
    "Todos os valores ausentes nessas 4 colunas são das mesmas 20 linhas. Como essas 20 linhas são insignificantes para o tamanho dos nossos dados, vamos eliminá-las."
   ]
  },
  {
   "cell_type": "code",
   "execution_count": null,
   "id": "51df7449",
   "metadata": {
    "ExecuteTime": {
     "end_time": "2022-11-10T20:08:09.911621Z",
     "start_time": "2022-11-10T20:08:09.911621Z"
    }
   },
   "outputs": [],
   "source": [
    "final_df.dropna(subset=['product_weight_g', 'product_length_cm', 'product_height_cm', 'product_width_cm'], axis=0, inplace=True)"
   ]
  },
  {
   "cell_type": "code",
   "execution_count": null,
   "id": "5e8cb174",
   "metadata": {
    "ExecuteTime": {
     "end_time": "2022-11-10T20:08:09.927245Z",
     "start_time": "2022-11-10T20:08:09.927245Z"
    }
   },
   "outputs": [],
   "source": [
    "final_df.info()"
   ]
  },
  {
   "cell_type": "markdown",
   "id": "8d497415",
   "metadata": {},
   "source": [
    "## Análise avaliação"
   ]
  },
  {
   "cell_type": "code",
   "execution_count": null,
   "id": "a812b2b4",
   "metadata": {
    "ExecuteTime": {
     "end_time": "2022-11-10T20:08:09.927245Z",
     "start_time": "2022-11-10T20:08:09.927245Z"
    }
   },
   "outputs": [],
   "source": [
    "# Soma análise avaliação\n",
    "final_df[\"review_score\"].value_counts()"
   ]
  },
  {
   "cell_type": "code",
   "execution_count": null,
   "id": "2fcd5064",
   "metadata": {
    "ExecuteTime": {
     "end_time": "2022-11-10T20:08:09.927245Z",
     "start_time": "2022-11-10T20:08:09.927245Z"
    }
   },
   "outputs": [],
   "source": [
    "# análise de pontuação - percentual\n",
    "final_df[\"review_score\"].value_counts() / final_df[\"review_score\"].count() * 100"
   ]
  },
  {
   "cell_type": "code",
   "execution_count": null,
   "id": "c74f8b74",
   "metadata": {
    "ExecuteTime": {
     "end_time": "2022-11-10T20:08:09.927245Z",
     "start_time": "2022-11-10T20:08:09.927245Z"
    }
   },
   "outputs": [],
   "source": [
    "score = sns.countplot(final_df[\"review_score\"])\n",
    "plt.xlabel(\"Review Score\")\n",
    "plt.ylabel(\"Count\")\n",
    "plt.title(\"Análise da score\")\n",
    "plt.show(score)"
   ]
  },
  {
   "cell_type": "markdown",
   "id": "75db9d18",
   "metadata": {},
   "source": [
    "As pontuações altas 4 e 5 representam um total aproximado de 78% dos pedidos, enquanto as pontuações baixas 1, 2 e 3 representam apenas 10%, 3% e 8%, respectivamente"
   ]
  },
  {
   "cell_type": "code",
   "execution_count": null,
   "id": "5fd88d22",
   "metadata": {
    "ExecuteTime": {
     "end_time": "2022-11-10T20:08:09.927245Z",
     "start_time": "2022-11-10T20:08:09.927245Z"
    }
   },
   "outputs": [],
   "source": [
    "final_df['review_score'].value_counts().plot.pie(autopct='%1.2f%%', figsize=(8, 8));"
   ]
  },
  {
   "cell_type": "markdown",
   "id": "a16f4742",
   "metadata": {},
   "source": [
    "No gráfico acima, podemos verificar que cerca de 75,62% deram uma boa pontuação de avaliação ou deram um valor mínimo de 4 em 5. Para o valor de avaliação com 1 na faixa de 12,54%.\n",
    "\n",
    "Depois de sabermos a porcentagem de avaliações dadas pelos clientes, tentaremos analisr o que faz com que os clientes atribuirem uma classificação de avaliação de 1 a partir do limite máximo de 5."
   ]
  },
  {
   "cell_type": "code",
   "execution_count": null,
   "id": "0a7d10df",
   "metadata": {
    "ExecuteTime": {
     "end_time": "2022-11-10T20:08:09.942870Z",
     "start_time": "2022-11-10T20:08:09.942870Z"
    }
   },
   "outputs": [],
   "source": [
    "review_score_pts = final_df['review_score'].value_counts(normalize=True)\n",
    "review_score_pts.to_frame().T.plot.barh(stacked=True, figsize=(10,2), width=0.2,\n",
    "                                 colormap='coolwarm').legend(loc='upper left', ncol=1)\n",
    "plt.title('Distribuição de pontuações de avaliações', fontsize=12)\n",
    "plt.legend(ncol=5, bbox_to_anchor=(0.3, 0.7), loc='lower left', fontsize='small')\n",
    "plt.show()"
   ]
  },
  {
   "cell_type": "markdown",
   "id": "490b39b3",
   "metadata": {},
   "source": [
    "Vamos tentar analisar as avaliações com pontuação = 1"
   ]
  },
  {
   "cell_type": "code",
   "execution_count": null,
   "id": "95e93309",
   "metadata": {
    "ExecuteTime": {
     "end_time": "2022-11-10T20:08:09.942870Z",
     "start_time": "2022-11-10T20:08:09.942870Z"
    }
   },
   "outputs": [],
   "source": [
    "avaliacao_class_1 = final_df[final_df['review_score'] == 1]\n",
    "avaliacao_class_1 = avaliacao_class_1.drop_duplicates()\n",
    "avaliacao_class_1[['product_category_name', 'price', 'product_name_lenght', 'product_photos_qty', 'product_description_lenght']]"
   ]
  },
  {
   "cell_type": "markdown",
   "id": "4a0c4bb3",
   "metadata": {},
   "source": [
    "No descritivo acima, várias causas podem levar a um valor de avaliação = 1. "
   ]
  },
  {
   "cell_type": "markdown",
   "id": "f60b444b",
   "metadata": {},
   "source": [
    "### Avaliação por categoria"
   ]
  },
  {
   "cell_type": "markdown",
   "id": "ebd0aad0",
   "metadata": {
    "ExecuteTime": {
     "end_time": "2022-10-13T14:27:34.088423Z",
     "start_time": "2022-10-13T14:27:34.072431Z"
    }
   },
   "source": [
    "Vamos analisar categoria de produto que recebe muitas avaliações = 1\n",
    "Exponho os 20 principais dados relativos à categoria de mercadorias que receberam uma classificação de 1 e, em seguida, também descrevendo os dados em forma gráfica\n"
   ]
  },
  {
   "cell_type": "code",
   "execution_count": null,
   "id": "7855faaf",
   "metadata": {
    "ExecuteTime": {
     "end_time": "2022-11-10T20:08:09.942870Z",
     "start_time": "2022-11-10T20:08:09.942870Z"
    }
   },
   "outputs": [],
   "source": [
    "avaliacao_class_1['product_category_name'].value_counts().head(20).sort_values(ascending=False)"
   ]
  },
  {
   "cell_type": "code",
   "execution_count": null,
   "id": "9ab4fa04",
   "metadata": {
    "ExecuteTime": {
     "end_time": "2022-11-10T20:08:09.942870Z",
     "start_time": "2022-11-10T20:08:09.942870Z"
    },
    "scrolled": true
   },
   "outputs": [],
   "source": [
    "plt.figure(figsize=(50,9))\n",
    "plt.xticks(rotation=45, ha='right')\n",
    "visu_avaliacao = sns.countplot(avaliacao_class_1['product_category_name'])\n",
    "plt.xlabel(\"Categoria do Produto\")\n",
    "plt.ylabel(\"Count\")\n",
    "plt.title(\"A categoria de produto que recebe muitas avaliações = 1\")\n",
    "plt.show(visu_avaliacao)"
   ]
  },
  {
   "cell_type": "markdown",
   "id": "284c5d50",
   "metadata": {},
   "source": [
    "## Produtos com melhor e pior classificação"
   ]
  },
  {
   "cell_type": "markdown",
   "id": "eff3ece2",
   "metadata": {
    "ExecuteTime": {
     "end_time": "2022-10-13T20:03:46.254048Z",
     "start_time": "2022-10-13T20:03:46.231061Z"
    }
   },
   "source": [
    "### Produtos com 30 ou mais avaliações"
   ]
  },
  {
   "cell_type": "code",
   "execution_count": null,
   "id": "533bbd78",
   "metadata": {
    "ExecuteTime": {
     "end_time": "2022-11-10T20:08:09.958493Z",
     "start_time": "2022-11-10T20:08:09.958493Z"
    }
   },
   "outputs": [],
   "source": [
    "plt.figure(figsize=(12,12))\n",
    "aval_score = final_df.groupby(\"product_category_name\")[\"review_score\"].agg([\"mean\", \"count\"]).sort_values(by=\"mean\",ascending=False)\n",
    "\n",
    "melhor_avaliado = aval_score[aval_score[\"count\"]>=30][:20]\n",
    "melhor_avaliado"
   ]
  },
  {
   "cell_type": "markdown",
   "id": "e069ce5f",
   "metadata": {},
   "source": [
    "### Os 20 últimos produtos por pontuação de avaliação"
   ]
  },
  {
   "cell_type": "code",
   "execution_count": null,
   "id": "194a94ca",
   "metadata": {
    "ExecuteTime": {
     "end_time": "2022-11-10T20:08:09.958493Z",
     "start_time": "2022-11-10T20:08:09.958493Z"
    }
   },
   "outputs": [],
   "source": [
    "pior_avaliado = aval_score[aval_score[\"count\"]>=30].sort_values(by='mean')[:20]\n",
    "pior_avaliado\n"
   ]
  },
  {
   "cell_type": "markdown",
   "id": "96593190",
   "metadata": {},
   "source": [
    "## Analisando tempo de entrega"
   ]
  },
  {
   "cell_type": "code",
   "execution_count": null,
   "id": "3aaac311",
   "metadata": {
    "ExecuteTime": {
     "end_time": "2022-11-10T20:08:09.958493Z",
     "start_time": "2022-11-10T20:08:09.958493Z"
    }
   },
   "outputs": [],
   "source": [
    "final_df.head()"
   ]
  },
  {
   "cell_type": "code",
   "execution_count": null,
   "id": "4f980e18",
   "metadata": {
    "ExecuteTime": {
     "end_time": "2022-11-10T20:08:09.958493Z",
     "start_time": "2022-11-10T20:08:09.958493Z"
    }
   },
   "outputs": [],
   "source": [
    "final_df['erro_estimativa_dias_entrega'] = final_df['dias_reais_entrega'] -final_df['estimativa_dias_entrega']"
   ]
  },
  {
   "cell_type": "code",
   "execution_count": null,
   "id": "16e683b6",
   "metadata": {
    "ExecuteTime": {
     "end_time": "2022-11-10T20:08:09.958493Z",
     "start_time": "2022-11-10T20:08:09.958493Z"
    }
   },
   "outputs": [],
   "source": [
    "sns.displot(data=final_df, x=\"erro_estimativa_dias_entrega\", hue=\"review_score\", palette='PiYG', bins=150)\n",
    "plt.xlim((-50,50))\n",
    "plt.show()"
   ]
  },
  {
   "cell_type": "markdown",
   "id": "af933aa5",
   "metadata": {},
   "source": [
    "Podemos dar uma olhada mais de perto nas contagens de comentários insatisfeitos"
   ]
  },
  {
   "cell_type": "code",
   "execution_count": null,
   "id": "7bc43504",
   "metadata": {
    "ExecuteTime": {
     "end_time": "2022-11-10T20:08:09.958493Z",
     "start_time": "2022-11-10T20:08:09.958493Z"
    }
   },
   "outputs": [],
   "source": [
    "sns.displot(data=final_df, x=\"erro_estimativa_dias_entrega\", hue=\"review_score\", palette='PiYG', bins=150)\n",
    "plt.xlim((-50,50))\n",
    "plt.ylim((0,2000))\n",
    "\n",
    "plt.show()"
   ]
  },
  {
   "cell_type": "markdown",
   "id": "3711e676",
   "metadata": {},
   "source": [
    "Quando o tempo de entrega real é maior do que o esperado (erro de estimativa > 0), o número de avaliações insatisfeitas aumenta notavelmente."
   ]
  },
  {
   "cell_type": "markdown",
   "id": "3cdf1ea8",
   "metadata": {},
   "source": [
    "### Analisando o tempo de entrega ao longo do tempo"
   ]
  },
  {
   "cell_type": "code",
   "execution_count": null,
   "id": "d88967b5",
   "metadata": {
    "ExecuteTime": {
     "end_time": "2022-11-10T20:08:09.974120Z",
     "start_time": "2022-11-10T20:08:09.974120Z"
    }
   },
   "outputs": [],
   "source": [
    "final_df['tempo_resposta_avaliação'].describe()"
   ]
  },
  {
   "cell_type": "markdown",
   "id": "dca28c98",
   "metadata": {},
   "source": [
    "Os dados acima mostram que 50% das avaliações foram criadas no primeiro dia de recebimento das pesquisas. Vamos transformar este atributo em uma variável categórica dependendo do intervalo de atraso.\n"
   ]
  },
  {
   "cell_type": "code",
   "execution_count": null,
   "id": "92b59b3b",
   "metadata": {
    "ExecuteTime": {
     "end_time": "2022-11-10T20:08:09.974120Z",
     "start_time": "2022-11-10T20:08:09.974120Z"
    }
   },
   "outputs": [],
   "source": [
    "atraso_bins = [-1, 0, 1, 2, 3, 518]\n",
    "atraso_rotulo = ['0', '1', '2', '3', '3_mais']\n",
    "final_df['revisao_intervalo_atraso_resposta'] = pd.cut(final_df['tempo_resposta_avaliação'], atraso_bins, labels=atraso_rotulo)\n",
    "\n",
    "pd.crosstab(final_df['revisao_intervalo_atraso_resposta'],\n",
    "            final_df['review_score']).plot.barh(figsize=(8, 5), stacked=True,\n",
    "                                                            width=0.4, cmap='crest_r')\n",
    "plt.legend(ncol=5 ,bbox_to_anchor=(0, 1), loc='lower left', fontsize='small')\n",
    "plt.show()"
   ]
  },
  {
   "cell_type": "markdown",
   "id": "f06898e1",
   "metadata": {},
   "source": [
    "O gráfico mostra que os clientes insatisfeitos tendem a dar feedback antes de 1 dia após o recebimento da pesquisa. Codificaremos esse recurso para binário para ver se ele pode ajudar a detectar pontuações baixas nas avaliações.\n"
   ]
  },
  {
   "cell_type": "code",
   "execution_count": null,
   "id": "00d80536",
   "metadata": {
    "ExecuteTime": {
     "end_time": "2022-11-10T20:08:09.974120Z",
     "start_time": "2022-11-10T20:08:09.974120Z"
    }
   },
   "outputs": [],
   "source": [
    "delay_dummies = pd.get_dummies(final_df['revisao_intervalo_atraso_resposta'], prefix='revisão intervalo de atraso')\n",
    "final_df = pd.concat([final_df, delay_dummies], axis=1)"
   ]
  },
  {
   "cell_type": "markdown",
   "id": "1b95f1b2",
   "metadata": {},
   "source": [
    "## Categorias de produtos mais vendidas"
   ]
  },
  {
   "cell_type": "code",
   "execution_count": null,
   "id": "d74e6a18",
   "metadata": {
    "ExecuteTime": {
     "end_time": "2022-11-10T20:08:09.974120Z",
     "start_time": "2022-11-10T20:08:09.974120Z"
    }
   },
   "outputs": [],
   "source": [
    "top_categ_vendida = final_df.groupby(\"product_category_name\").agg({'order_id':'nunique','payment_value':'sum'}).sort_values(\"payment_value\", ascending=False)[:10]\n",
    "top_categ_vendida.rename(columns={\"order_id\":\"Nº_de_encomendas\", \"payment_value\":\"receitas\"}, inplace=True)\n",
    "top_categ_vendida"
   ]
  },
  {
   "cell_type": "code",
   "execution_count": null,
   "id": "b7f46003",
   "metadata": {
    "ExecuteTime": {
     "end_time": "2022-11-10T20:08:09.974120Z",
     "start_time": "2022-11-10T20:08:09.974120Z"
    }
   },
   "outputs": [],
   "source": [
    "categoria_avaliacao = pd.crosstab(final_df['product_category_name'], final_df['review_score'], margins=True, margins_name='total_counts')\n",
    "categoria_avaliacao.drop('total_counts', axis=0, inplace=True)\n",
    "categoria_avaliacao.sort_values(by='total_counts', ascending=False, inplace=True)\n",
    "categoria_avaliacao.drop('total_counts', axis=1)[:50].plot(kind='bar', stacked=True,\n",
    "                                                        figsize=(10,6), width=0.3,cmap='vlag_r')\n",
    "plt.title('Avaliação das pontuações com base nas categorias de produtos', fontsize=14)\n",
    "plt.xlabel('Categoria de Produtos')\n",
    "plt.ylabel('Nº de avaliações')\n",
    "plt.show()"
   ]
  },
  {
   "cell_type": "markdown",
   "id": "f2ab19bb",
   "metadata": {},
   "source": [
    "## Vendedor popular"
   ]
  },
  {
   "cell_type": "code",
   "execution_count": null,
   "id": "25c0cedd",
   "metadata": {
    "ExecuteTime": {
     "end_time": "2022-11-10T20:08:09.989743Z",
     "start_time": "2022-11-10T20:08:09.989743Z"
    }
   },
   "outputs": [],
   "source": [
    "vendas_por_vendedor = final_df['seller_id'].value_counts().reset_index()\n",
    "vendas_por_vendedor.columns = ['seller_id', 'volume_vendas']\n",
    "print(vendas_por_vendedor.shape)\n",
    "vendas_por_vendedor.head(3)"
   ]
  },
  {
   "cell_type": "code",
   "execution_count": null,
   "id": "235e7c7c",
   "metadata": {
    "ExecuteTime": {
     "end_time": "2022-11-10T20:08:09.989743Z",
     "start_time": "2022-11-10T20:08:09.989743Z"
    }
   },
   "outputs": [],
   "source": [
    "vendas_por_vendedor.volume_vendas.sort_values().plot.hist(bins=50);"
   ]
  },
  {
   "cell_type": "code",
   "execution_count": null,
   "id": "1833da7d",
   "metadata": {
    "ExecuteTime": {
     "end_time": "2022-11-10T20:08:09.989743Z",
     "start_time": "2022-11-10T20:08:09.989743Z"
    }
   },
   "outputs": [],
   "source": [
    "# busca melhor vendedor\n",
    "\n",
    "vendas_por_vendedor['vendedor_popular'] = (vendas_por_vendedor['volume_vendas'] >= 100).astype(int)"
   ]
  },
  {
   "cell_type": "code",
   "execution_count": null,
   "id": "3a0133c2",
   "metadata": {
    "ExecuteTime": {
     "end_time": "2022-11-10T20:08:09.989743Z",
     "start_time": "2022-11-10T20:08:09.989743Z"
    }
   },
   "outputs": [],
   "source": [
    "final_df = final_df.merge(vendas_por_vendedor[['seller_id', 'vendedor_popular']], on='seller_id', how='left')"
   ]
  },
  {
   "cell_type": "code",
   "execution_count": null,
   "id": "49eb25b5",
   "metadata": {
    "ExecuteTime": {
     "end_time": "2022-11-10T20:08:10.005369Z",
     "start_time": "2022-11-10T20:08:10.005369Z"
    }
   },
   "outputs": [],
   "source": [
    "pd.crosstab(final_df['vendedor_popular'], final_df['review_score']).plot.bar(rot=0, figsize=(6,6),\n",
    "                                                               cmap=sns.color_palette('crest_r', as_cmap=True))\n",
    "plt.show()"
   ]
  },
  {
   "cell_type": "markdown",
   "id": "700ccffe",
   "metadata": {},
   "source": [
    "## Tempo por compra"
   ]
  },
  {
   "cell_type": "code",
   "execution_count": null,
   "id": "b37d020e",
   "metadata": {
    "ExecuteTime": {
     "end_time": "2022-11-10T20:08:10.005369Z",
     "start_time": "2022-11-10T20:08:10.005369Z"
    }
   },
   "outputs": [],
   "source": [
    "final_df['purchase_month'] = pd.to_datetime(final_df['order_purchase_timestamp']).dt.month\n",
    "final_df['purchase_day'] = pd.to_datetime(final_df['order_purchase_timestamp']).dt.day"
   ]
  },
  {
   "cell_type": "markdown",
   "id": "90a50b61",
   "metadata": {},
   "source": [
    "Avaliação das pontuações com base no ano e mês.\n",
    "Retiraremos o ano de 2016 em que há um número pequeno de observações"
   ]
  },
  {
   "cell_type": "code",
   "execution_count": null,
   "id": "bc376e46",
   "metadata": {
    "ExecuteTime": {
     "end_time": "2022-11-10T20:08:10.005369Z",
     "start_time": "2022-11-10T20:08:10.005369Z"
    }
   },
   "outputs": [],
   "source": [
    "filtro_2017 = (final_df['ano_pedidos'] == 2017)\n",
    "filtro_2018 = (final_df['ano_pedidos'] == 2018)\n",
    "style.use('seaborn-dark')\n",
    "fig, axes = plt.subplots(1,2, figsize=(10,5), sharey=True)\n",
    "pd.crosstab(final_df[filtro_2017]['purchase_month'], final_df[filtro_2017]['review_score']).plot(ax=axes[0], kind='bar', width=0.5,\n",
    "                                                                                 stacked=True, cmap='Spectral',\n",
    "                                                                                 title='2017', rot=0)\n",
    "pd.crosstab(final_df[filtro_2018]['purchase_month'], final_df[filtro_2018]['review_score']).plot(ax=axes[1], kind='bar',width=0.3,\n",
    "                                                                                 stacked=True, cmap='Spectral',\n",
    "                                                                                 title='2018', rot=0, legend=False)\n",
    "plt.suptitle('Avaliação das pontuações baseado no ano e mês', fontsize=14)\n",
    "axes[0].set_ylabel('Nº avaliações')\n",
    "plt.show()\n"
   ]
  },
  {
   "cell_type": "markdown",
   "id": "4cf857f3",
   "metadata": {},
   "source": [
    "Os volumes de vendas variaram ao longo dos meses e anos"
   ]
  },
  {
   "cell_type": "code",
   "execution_count": null,
   "id": "209816fd",
   "metadata": {
    "ExecuteTime": {
     "end_time": "2022-11-10T20:08:10.005369Z",
     "start_time": "2022-11-10T20:08:10.005369Z"
    }
   },
   "outputs": [],
   "source": [
    "final_df.head()"
   ]
  },
  {
   "cell_type": "code",
   "execution_count": null,
   "id": "2348355c",
   "metadata": {
    "ExecuteTime": {
     "end_time": "2022-11-10T20:08:10.005369Z",
     "start_time": "2022-11-10T20:08:10.005369Z"
    }
   },
   "outputs": [],
   "source": [
    "final_df.to_csv('Data/final_df.csv')"
   ]
  }
 ],
 "metadata": {
  "kernelspec": {
   "display_name": "pycaret",
   "language": "python",
   "name": "pycaret"
  },
  "language_info": {
   "codemirror_mode": {
    "name": "ipython",
    "version": 3
   },
   "file_extension": ".py",
   "mimetype": "text/x-python",
   "name": "python",
   "nbconvert_exporter": "python",
   "pygments_lexer": "ipython3",
   "version": "3.8.13"
  },
  "nbTranslate": {
   "displayLangs": [
    "*"
   ],
   "hotkey": "alt-t",
   "langInMainMenu": true,
   "sourceLang": "en",
   "targetLang": "fr",
   "useGoogleTranslate": true
  },
  "toc": {
   "base_numbering": 1,
   "nav_menu": {},
   "number_sections": true,
   "sideBar": true,
   "skip_h1_title": false,
   "title_cell": "Table of Contents",
   "title_sidebar": "Contents",
   "toc_cell": false,
   "toc_position": {},
   "toc_section_display": true,
   "toc_window_display": false
  },
  "varInspector": {
   "cols": {
    "lenName": 16,
    "lenType": 16,
    "lenVar": 40
   },
   "kernels_config": {
    "python": {
     "delete_cmd_postfix": "",
     "delete_cmd_prefix": "del ",
     "library": "var_list.py",
     "varRefreshCmd": "print(var_dic_list())"
    },
    "r": {
     "delete_cmd_postfix": ") ",
     "delete_cmd_prefix": "rm(",
     "library": "var_list.r",
     "varRefreshCmd": "cat(var_dic_list()) "
    }
   },
   "types_to_exclude": [
    "module",
    "function",
    "builtin_function_or_method",
    "instance",
    "_Feature"
   ],
   "window_display": false
  }
 },
 "nbformat": 4,
 "nbformat_minor": 5
}
