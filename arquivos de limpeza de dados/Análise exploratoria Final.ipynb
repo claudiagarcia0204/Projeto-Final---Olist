{
 "cells": [
  {
   "cell_type": "markdown",
   "id": "0242a5b6",
   "metadata": {},
   "source": [
    "# Importando Bibliotecas"
   ]
  },
  {
   "cell_type": "markdown",
   "id": "84e556db",
   "metadata": {},
   "source": [
    "Modelagem"
   ]
  },
  {
   "cell_type": "markdown",
   "id": "b15e7e30",
   "metadata": {},
   "source": [
    "Passos:\n",
    "* Pre-processamento dos dados, divisão train & test, preparar a pipeline.\n",
    "* Testar Logistic Regression & Randome Forest, ajustar hyperparameters com GridSearchCV & StratifiedKFold.\n",
    "* Selecionar recursos e modelos, prever a probabilidade no conjunto de testes."
   ]
  },
  {
   "cell_type": "code",
   "execution_count": 1,
   "id": "36cef131",
   "metadata": {
    "ExecuteTime": {
     "end_time": "2022-10-21T20:16:26.874672Z",
     "start_time": "2022-10-21T20:16:24.604258Z"
    }
   },
   "outputs": [],
   "source": [
    "import pandas as pd\n",
    "import numpy as np\n",
    "import datetime"
   ]
  },
  {
   "cell_type": "code",
   "execution_count": 2,
   "id": "8c9dac9c",
   "metadata": {
    "ExecuteTime": {
     "end_time": "2022-10-21T20:16:32.654097Z",
     "start_time": "2022-10-21T20:16:29.096879Z"
    }
   },
   "outputs": [],
   "source": [
    "from sklearn.model_selection import train_test_split\n",
    "from sklearn.impute import SimpleImputer\n",
    "from sklearn.preprocessing import StandardScaler\n",
    "from sklearn.decomposition import PCA\n",
    "from sklearn.pipeline import Pipeline, make_pipeline"
   ]
  },
  {
   "cell_type": "code",
   "execution_count": 4,
   "id": "b6947b12",
   "metadata": {
    "ExecuteTime": {
     "end_time": "2022-10-21T20:16:49.352615Z",
     "start_time": "2022-10-21T20:16:49.336625Z"
    }
   },
   "outputs": [],
   "source": [
    "from sklearn.linear_model import LogisticRegression\n",
    "from sklearn.ensemble import RandomForestClassifier\n",
    "from sklearn.model_selection import cross_val_score, cross_val_predict, StratifiedKFold\n",
    "from sklearn.model_selection import GridSearchCV, RandomizedSearchCV\n",
    "import warnings"
   ]
  },
  {
   "cell_type": "code",
   "execution_count": 5,
   "id": "c38b87ef",
   "metadata": {
    "ExecuteTime": {
     "end_time": "2022-10-21T20:16:50.307634Z",
     "start_time": "2022-10-21T20:16:50.288646Z"
    }
   },
   "outputs": [],
   "source": [
    "from sklearn.metrics import accuracy_score, mean_squared_error\n",
    "from sklearn.metrics import precision_score, recall_score, f1_score\n",
    "from sklearn.metrics import confusion_matrix, plot_confusion_matrix, classification_report"
   ]
  },
  {
   "cell_type": "code",
   "execution_count": 6,
   "id": "66258a0c",
   "metadata": {
    "ExecuteTime": {
     "end_time": "2022-10-21T20:16:51.218997Z",
     "start_time": "2022-10-21T20:16:51.199010Z"
    }
   },
   "outputs": [],
   "source": [
    "from pycaret.regression import *"
   ]
  },
  {
   "cell_type": "markdown",
   "id": "0645c7ad",
   "metadata": {},
   "source": [
    "# Análise exploratoria DataFrame"
   ]
  },
  {
   "cell_type": "code",
   "execution_count": 66,
   "id": "f39adb9c",
   "metadata": {
    "ExecuteTime": {
     "end_time": "2022-10-21T20:33:32.114524Z",
     "start_time": "2022-10-21T20:33:30.738185Z"
    }
   },
   "outputs": [],
   "source": [
    "df = pd.read_csv('Data/final_df.csv')"
   ]
  },
  {
   "cell_type": "code",
   "execution_count": 22,
   "id": "da0d38c4",
   "metadata": {
    "ExecuteTime": {
     "end_time": "2022-10-21T20:22:54.053709Z",
     "start_time": "2022-10-21T20:22:53.789860Z"
    }
   },
   "outputs": [
    {
     "name": "stdout",
     "output_type": "stream",
     "text": [
      "<class 'pandas.core.frame.DataFrame'>\n",
      "RangeIndex: 100761 entries, 0 to 100760\n",
      "Data columns (total 52 columns):\n",
      " #   Column                              Non-Null Count   Dtype  \n",
      "---  ------                              --------------   -----  \n",
      " 0   Unnamed: 0.1                        100761 non-null  int64  \n",
      " 1   order_id                            100761 non-null  object \n",
      " 2   product_id                          100761 non-null  object \n",
      " 3   seller_id                           100761 non-null  object \n",
      " 4   price                               100761 non-null  float64\n",
      " 5   freight_value                       100761 non-null  float64\n",
      " 6   Unnamed: 0_x                        100761 non-null  int64  \n",
      " 7   customer_id                         100761 non-null  object \n",
      " 8   order_status                        100761 non-null  object \n",
      " 9   order_purchase_timestamp            100761 non-null  object \n",
      " 10  estimativa_dias_entrega             100761 non-null  float64\n",
      " 11  dias_reais_entrega                  100761 non-null  float64\n",
      " 12  ano_pedidos                         100761 non-null  int64  \n",
      " 13  antecipacao_entrega                 100761 non-null  int64  \n",
      " 14  Unnamed: 0_y                        100761 non-null  int64  \n",
      " 15  product_category_name               100761 non-null  object \n",
      " 16  product_name_lenght                 99302 non-null   float64\n",
      " 17  product_description_lenght          99302 non-null   float64\n",
      " 18  product_photos_qty                  99302 non-null   float64\n",
      " 19  product_weight_g                    100761 non-null  float64\n",
      " 20  product_length_cm                   100761 non-null  float64\n",
      " 21  product_height_cm                   100761 non-null  float64\n",
      " 22  product_width_cm                    100761 non-null  float64\n",
      " 23  Unnamed: 0_x.1                      100761 non-null  int64  \n",
      " 24  review_score                        100761 non-null  int64  \n",
      " 25  tempo_resposta_avaliação            100761 non-null  int64  \n",
      " 26  Unnamed: 0_y.1                      100761 non-null  int64  \n",
      " 27  customer_zip_code_prefix            100761 non-null  int64  \n",
      " 28  customer_state                      100761 non-null  object \n",
      " 29  retorno_cliente                     100761 non-null  int64  \n",
      " 30  Unnamed: 0_x.2                      100761 non-null  int64  \n",
      " 31  seller_zip_code_prefix              100761 non-null  int64  \n",
      " 32  Unnamed: 0_y.2                      100485 non-null  float64\n",
      " 33  customer_lat                        100485 non-null  float64\n",
      " 34  customer_lng                        100485 non-null  float64\n",
      " 35  Unnamed: 0                          100760 non-null  float64\n",
      " 36  payment_sequential                  100760 non-null  float64\n",
      " 37  payment_type                        100760 non-null  object \n",
      " 38  payment_installments                100760 non-null  float64\n",
      " 39  payment_value                       100760 non-null  float64\n",
      " 40  entrega_atrasada                    100761 non-null  int64  \n",
      " 41  delivered                           100761 non-null  int64  \n",
      " 42  erro_estimativa_dias_entrega        100761 non-null  float64\n",
      " 43  revisao_intervalo_atraso_resposta   100761 non-null  object \n",
      " 44  revisão intervalo de atraso_0       100761 non-null  int64  \n",
      " 45  revisão intervalo de atraso_1       100761 non-null  int64  \n",
      " 46  revisão intervalo de atraso_2       100761 non-null  int64  \n",
      " 47  revisão intervalo de atraso_3       100761 non-null  int64  \n",
      " 48  revisão intervalo de atraso_3_mais  100761 non-null  int64  \n",
      " 49  vendedor_popular                    100761 non-null  int64  \n",
      " 50  purchase_month                      100761 non-null  int64  \n",
      " 51  purchase_day                        100761 non-null  int64  \n",
      "dtypes: float64(19), int64(23), object(10)\n",
      "memory usage: 40.0+ MB\n"
     ]
    }
   ],
   "source": [
    "df.info()"
   ]
  },
  {
   "cell_type": "markdown",
   "id": "f702427e",
   "metadata": {},
   "source": [
    "## Processamento do DataFrame"
   ]
  },
  {
   "cell_type": "code",
   "execution_count": 23,
   "id": "c1578170",
   "metadata": {
    "ExecuteTime": {
     "end_time": "2022-10-21T20:23:01.074098Z",
     "start_time": "2022-10-21T20:23:00.977160Z"
    }
   },
   "outputs": [
    {
     "data": {
      "text/html": [
       "<div>\n",
       "<style scoped>\n",
       "    .dataframe tbody tr th:only-of-type {\n",
       "        vertical-align: middle;\n",
       "    }\n",
       "\n",
       "    .dataframe tbody tr th {\n",
       "        vertical-align: top;\n",
       "    }\n",
       "\n",
       "    .dataframe thead th {\n",
       "        text-align: right;\n",
       "    }\n",
       "</style>\n",
       "<table border=\"1\" class=\"dataframe\">\n",
       "  <thead>\n",
       "    <tr style=\"text-align: right;\">\n",
       "      <th></th>\n",
       "      <th>Unnamed: 0.1</th>\n",
       "      <th>order_id</th>\n",
       "      <th>product_id</th>\n",
       "      <th>seller_id</th>\n",
       "      <th>price</th>\n",
       "      <th>freight_value</th>\n",
       "      <th>Unnamed: 0_x</th>\n",
       "      <th>customer_id</th>\n",
       "      <th>order_status</th>\n",
       "      <th>order_purchase_timestamp</th>\n",
       "      <th>estimativa_dias_entrega</th>\n",
       "      <th>dias_reais_entrega</th>\n",
       "      <th>ano_pedidos</th>\n",
       "      <th>antecipacao_entrega</th>\n",
       "      <th>Unnamed: 0_y</th>\n",
       "      <th>product_category_name</th>\n",
       "      <th>product_name_lenght</th>\n",
       "      <th>product_description_lenght</th>\n",
       "      <th>product_photos_qty</th>\n",
       "      <th>product_weight_g</th>\n",
       "      <th>product_length_cm</th>\n",
       "      <th>product_height_cm</th>\n",
       "      <th>product_width_cm</th>\n",
       "      <th>Unnamed: 0_x.1</th>\n",
       "      <th>review_score</th>\n",
       "      <th>tempo_resposta_avaliação</th>\n",
       "      <th>Unnamed: 0_y.1</th>\n",
       "      <th>customer_zip_code_prefix</th>\n",
       "      <th>customer_state</th>\n",
       "      <th>retorno_cliente</th>\n",
       "      <th>Unnamed: 0_x.2</th>\n",
       "      <th>seller_zip_code_prefix</th>\n",
       "      <th>Unnamed: 0_y.2</th>\n",
       "      <th>customer_lat</th>\n",
       "      <th>customer_lng</th>\n",
       "      <th>Unnamed: 0</th>\n",
       "      <th>payment_sequential</th>\n",
       "      <th>payment_type</th>\n",
       "      <th>payment_installments</th>\n",
       "      <th>payment_value</th>\n",
       "      <th>entrega_atrasada</th>\n",
       "      <th>delivered</th>\n",
       "      <th>erro_estimativa_dias_entrega</th>\n",
       "      <th>revisao_intervalo_atraso_resposta</th>\n",
       "      <th>revisão intervalo de atraso_0</th>\n",
       "      <th>revisão intervalo de atraso_1</th>\n",
       "      <th>revisão intervalo de atraso_2</th>\n",
       "      <th>revisão intervalo de atraso_3</th>\n",
       "      <th>revisão intervalo de atraso_3_mais</th>\n",
       "      <th>vendedor_popular</th>\n",
       "      <th>purchase_month</th>\n",
       "      <th>purchase_day</th>\n",
       "    </tr>\n",
       "  </thead>\n",
       "  <tbody>\n",
       "    <tr>\n",
       "      <th>0</th>\n",
       "      <td>0</td>\n",
       "      <td>00010242fe8c5a6d1ba2dd792cb16214</td>\n",
       "      <td>4244733e06e7ecb4970a6e2683c13e61</td>\n",
       "      <td>48436dade18ac8b2bce089ec2a041202</td>\n",
       "      <td>58.90</td>\n",
       "      <td>13.29</td>\n",
       "      <td>85267</td>\n",
       "      <td>3ce436f183e68e07877b285a838db11a</td>\n",
       "      <td>delivered</td>\n",
       "      <td>2017-09-13</td>\n",
       "      <td>16.0</td>\n",
       "      <td>7.0</td>\n",
       "      <td>2017</td>\n",
       "      <td>9</td>\n",
       "      <td>25865</td>\n",
       "      <td>cool_stuff</td>\n",
       "      <td>58.0</td>\n",
       "      <td>598.0</td>\n",
       "      <td>4.0</td>\n",
       "      <td>650.0</td>\n",
       "      <td>28.0</td>\n",
       "      <td>9.0</td>\n",
       "      <td>14.0</td>\n",
       "      <td>51020</td>\n",
       "      <td>5</td>\n",
       "      <td>1</td>\n",
       "      <td>65557</td>\n",
       "      <td>28013</td>\n",
       "      <td>RJ</td>\n",
       "      <td>0</td>\n",
       "      <td>513</td>\n",
       "      <td>27277</td>\n",
       "      <td>7570.0</td>\n",
       "      <td>-21.758076</td>\n",
       "      <td>-41.312633</td>\n",
       "      <td>85283.0</td>\n",
       "      <td>1.0</td>\n",
       "      <td>credit_card</td>\n",
       "      <td>2.0</td>\n",
       "      <td>72.19</td>\n",
       "      <td>0</td>\n",
       "      <td>1</td>\n",
       "      <td>-9.0</td>\n",
       "      <td>1</td>\n",
       "      <td>0</td>\n",
       "      <td>1</td>\n",
       "      <td>0</td>\n",
       "      <td>0</td>\n",
       "      <td>0</td>\n",
       "      <td>1</td>\n",
       "      <td>9</td>\n",
       "      <td>13</td>\n",
       "    </tr>\n",
       "    <tr>\n",
       "      <th>1</th>\n",
       "      <td>1</td>\n",
       "      <td>00018f77f2f0320c557190d7a144bdd3</td>\n",
       "      <td>e5f2d52b802189ee658865ca93d83a8f</td>\n",
       "      <td>dd7ddc04e1b6c2c614352b383efe2d36</td>\n",
       "      <td>239.90</td>\n",
       "      <td>19.93</td>\n",
       "      <td>71853</td>\n",
       "      <td>f6dd3ec061db4e3987629fe6b26e5cce</td>\n",
       "      <td>delivered</td>\n",
       "      <td>2017-04-26</td>\n",
       "      <td>19.0</td>\n",
       "      <td>16.0</td>\n",
       "      <td>2017</td>\n",
       "      <td>3</td>\n",
       "      <td>27230</td>\n",
       "      <td>pet_shop</td>\n",
       "      <td>56.0</td>\n",
       "      <td>239.0</td>\n",
       "      <td>2.0</td>\n",
       "      <td>30000.0</td>\n",
       "      <td>50.0</td>\n",
       "      <td>30.0</td>\n",
       "      <td>40.0</td>\n",
       "      <td>27324</td>\n",
       "      <td>4</td>\n",
       "      <td>2</td>\n",
       "      <td>34265</td>\n",
       "      <td>15775</td>\n",
       "      <td>SP</td>\n",
       "      <td>0</td>\n",
       "      <td>471</td>\n",
       "      <td>3471</td>\n",
       "      <td>5620.0</td>\n",
       "      <td>-20.212393</td>\n",
       "      <td>-50.941471</td>\n",
       "      <td>2499.0</td>\n",
       "      <td>1.0</td>\n",
       "      <td>credit_card</td>\n",
       "      <td>3.0</td>\n",
       "      <td>259.83</td>\n",
       "      <td>0</td>\n",
       "      <td>1</td>\n",
       "      <td>-3.0</td>\n",
       "      <td>2</td>\n",
       "      <td>0</td>\n",
       "      <td>0</td>\n",
       "      <td>1</td>\n",
       "      <td>0</td>\n",
       "      <td>0</td>\n",
       "      <td>1</td>\n",
       "      <td>4</td>\n",
       "      <td>26</td>\n",
       "    </tr>\n",
       "    <tr>\n",
       "      <th>2</th>\n",
       "      <td>2</td>\n",
       "      <td>000229ec398224ef6ca0657da4fc703e</td>\n",
       "      <td>c777355d18b72b67abbeef9df44fd0fd</td>\n",
       "      <td>5b51032eddd242adc84c38acab88f23d</td>\n",
       "      <td>199.00</td>\n",
       "      <td>17.87</td>\n",
       "      <td>6298</td>\n",
       "      <td>6489ae5e4333f3693df5ad4372dab6d3</td>\n",
       "      <td>delivered</td>\n",
       "      <td>2018-01-14</td>\n",
       "      <td>22.0</td>\n",
       "      <td>8.0</td>\n",
       "      <td>2018</td>\n",
       "      <td>14</td>\n",
       "      <td>22624</td>\n",
       "      <td>moveis_decoracao</td>\n",
       "      <td>59.0</td>\n",
       "      <td>695.0</td>\n",
       "      <td>2.0</td>\n",
       "      <td>3050.0</td>\n",
       "      <td>33.0</td>\n",
       "      <td>13.0</td>\n",
       "      <td>33.0</td>\n",
       "      <td>4149</td>\n",
       "      <td>5</td>\n",
       "      <td>0</td>\n",
       "      <td>34955</td>\n",
       "      <td>35661</td>\n",
       "      <td>MG</td>\n",
       "      <td>0</td>\n",
       "      <td>1824</td>\n",
       "      <td>37564</td>\n",
       "      <td>8787.0</td>\n",
       "      <td>-19.860439</td>\n",
       "      <td>-44.597972</td>\n",
       "      <td>12393.0</td>\n",
       "      <td>1.0</td>\n",
       "      <td>credit_card</td>\n",
       "      <td>5.0</td>\n",
       "      <td>216.87</td>\n",
       "      <td>0</td>\n",
       "      <td>1</td>\n",
       "      <td>-14.0</td>\n",
       "      <td>0</td>\n",
       "      <td>1</td>\n",
       "      <td>0</td>\n",
       "      <td>0</td>\n",
       "      <td>0</td>\n",
       "      <td>0</td>\n",
       "      <td>0</td>\n",
       "      <td>1</td>\n",
       "      <td>14</td>\n",
       "    </tr>\n",
       "    <tr>\n",
       "      <th>3</th>\n",
       "      <td>3</td>\n",
       "      <td>00024acbcdf0a6daa1e931b038114c75</td>\n",
       "      <td>7634da152a4610f1595efa32f14722fc</td>\n",
       "      <td>9d7a1d34a5052409006425275ba1c2b4</td>\n",
       "      <td>12.99</td>\n",
       "      <td>12.79</td>\n",
       "      <td>22550</td>\n",
       "      <td>d4eb9395c8c0431ee92fce09860c5a06</td>\n",
       "      <td>delivered</td>\n",
       "      <td>2018-08-08</td>\n",
       "      <td>12.0</td>\n",
       "      <td>6.0</td>\n",
       "      <td>2018</td>\n",
       "      <td>6</td>\n",
       "      <td>15403</td>\n",
       "      <td>perfumaria</td>\n",
       "      <td>42.0</td>\n",
       "      <td>480.0</td>\n",
       "      <td>1.0</td>\n",
       "      <td>200.0</td>\n",
       "      <td>16.0</td>\n",
       "      <td>10.0</td>\n",
       "      <td>15.0</td>\n",
       "      <td>38151</td>\n",
       "      <td>4</td>\n",
       "      <td>0</td>\n",
       "      <td>51763</td>\n",
       "      <td>12952</td>\n",
       "      <td>SP</td>\n",
       "      <td>0</td>\n",
       "      <td>2023</td>\n",
       "      <td>14403</td>\n",
       "      <td>4798.0</td>\n",
       "      <td>-23.144923</td>\n",
       "      <td>-46.539830</td>\n",
       "      <td>32971.0</td>\n",
       "      <td>1.0</td>\n",
       "      <td>credit_card</td>\n",
       "      <td>2.0</td>\n",
       "      <td>25.78</td>\n",
       "      <td>0</td>\n",
       "      <td>1</td>\n",
       "      <td>-6.0</td>\n",
       "      <td>0</td>\n",
       "      <td>1</td>\n",
       "      <td>0</td>\n",
       "      <td>0</td>\n",
       "      <td>0</td>\n",
       "      <td>0</td>\n",
       "      <td>0</td>\n",
       "      <td>8</td>\n",
       "      <td>8</td>\n",
       "    </tr>\n",
       "    <tr>\n",
       "      <th>4</th>\n",
       "      <td>4</td>\n",
       "      <td>00042b26cf59d7ce69dfabb4e55b4fd9</td>\n",
       "      <td>ac6c3623068f30de03045865e4e10089</td>\n",
       "      <td>df560393f3a51e74553ab94004ba5c87</td>\n",
       "      <td>199.90</td>\n",
       "      <td>18.14</td>\n",
       "      <td>5247</td>\n",
       "      <td>58dbd0b2d70206bf40e62cd34e84d795</td>\n",
       "      <td>delivered</td>\n",
       "      <td>2017-02-04</td>\n",
       "      <td>41.0</td>\n",
       "      <td>25.0</td>\n",
       "      <td>2017</td>\n",
       "      <td>16</td>\n",
       "      <td>8862</td>\n",
       "      <td>ferramentas_jardim</td>\n",
       "      <td>59.0</td>\n",
       "      <td>409.0</td>\n",
       "      <td>1.0</td>\n",
       "      <td>3750.0</td>\n",
       "      <td>35.0</td>\n",
       "      <td>40.0</td>\n",
       "      <td>30.0</td>\n",
       "      <td>54668</td>\n",
       "      <td>5</td>\n",
       "      <td>1</td>\n",
       "      <td>7602</td>\n",
       "      <td>13226</td>\n",
       "      <td>SP</td>\n",
       "      <td>0</td>\n",
       "      <td>1597</td>\n",
       "      <td>87900</td>\n",
       "      <td>4967.0</td>\n",
       "      <td>-23.249008</td>\n",
       "      <td>-46.824961</td>\n",
       "      <td>98711.0</td>\n",
       "      <td>1.0</td>\n",
       "      <td>credit_card</td>\n",
       "      <td>3.0</td>\n",
       "      <td>218.04</td>\n",
       "      <td>0</td>\n",
       "      <td>1</td>\n",
       "      <td>-16.0</td>\n",
       "      <td>1</td>\n",
       "      <td>0</td>\n",
       "      <td>1</td>\n",
       "      <td>0</td>\n",
       "      <td>0</td>\n",
       "      <td>0</td>\n",
       "      <td>0</td>\n",
       "      <td>2</td>\n",
       "      <td>4</td>\n",
       "    </tr>\n",
       "  </tbody>\n",
       "</table>\n",
       "</div>"
      ],
      "text/plain": [
       "   Unnamed: 0.1                          order_id  \\\n",
       "0             0  00010242fe8c5a6d1ba2dd792cb16214   \n",
       "1             1  00018f77f2f0320c557190d7a144bdd3   \n",
       "2             2  000229ec398224ef6ca0657da4fc703e   \n",
       "3             3  00024acbcdf0a6daa1e931b038114c75   \n",
       "4             4  00042b26cf59d7ce69dfabb4e55b4fd9   \n",
       "\n",
       "                         product_id                         seller_id   price  \\\n",
       "0  4244733e06e7ecb4970a6e2683c13e61  48436dade18ac8b2bce089ec2a041202   58.90   \n",
       "1  e5f2d52b802189ee658865ca93d83a8f  dd7ddc04e1b6c2c614352b383efe2d36  239.90   \n",
       "2  c777355d18b72b67abbeef9df44fd0fd  5b51032eddd242adc84c38acab88f23d  199.00   \n",
       "3  7634da152a4610f1595efa32f14722fc  9d7a1d34a5052409006425275ba1c2b4   12.99   \n",
       "4  ac6c3623068f30de03045865e4e10089  df560393f3a51e74553ab94004ba5c87  199.90   \n",
       "\n",
       "   freight_value  Unnamed: 0_x                       customer_id order_status  \\\n",
       "0          13.29         85267  3ce436f183e68e07877b285a838db11a    delivered   \n",
       "1          19.93         71853  f6dd3ec061db4e3987629fe6b26e5cce    delivered   \n",
       "2          17.87          6298  6489ae5e4333f3693df5ad4372dab6d3    delivered   \n",
       "3          12.79         22550  d4eb9395c8c0431ee92fce09860c5a06    delivered   \n",
       "4          18.14          5247  58dbd0b2d70206bf40e62cd34e84d795    delivered   \n",
       "\n",
       "  order_purchase_timestamp  estimativa_dias_entrega  dias_reais_entrega  \\\n",
       "0               2017-09-13                     16.0                 7.0   \n",
       "1               2017-04-26                     19.0                16.0   \n",
       "2               2018-01-14                     22.0                 8.0   \n",
       "3               2018-08-08                     12.0                 6.0   \n",
       "4               2017-02-04                     41.0                25.0   \n",
       "\n",
       "   ano_pedidos  antecipacao_entrega  Unnamed: 0_y product_category_name  \\\n",
       "0         2017                    9         25865            cool_stuff   \n",
       "1         2017                    3         27230              pet_shop   \n",
       "2         2018                   14         22624      moveis_decoracao   \n",
       "3         2018                    6         15403            perfumaria   \n",
       "4         2017                   16          8862    ferramentas_jardim   \n",
       "\n",
       "   product_name_lenght  product_description_lenght  product_photos_qty  \\\n",
       "0                 58.0                       598.0                 4.0   \n",
       "1                 56.0                       239.0                 2.0   \n",
       "2                 59.0                       695.0                 2.0   \n",
       "3                 42.0                       480.0                 1.0   \n",
       "4                 59.0                       409.0                 1.0   \n",
       "\n",
       "   product_weight_g  product_length_cm  product_height_cm  product_width_cm  \\\n",
       "0             650.0               28.0                9.0              14.0   \n",
       "1           30000.0               50.0               30.0              40.0   \n",
       "2            3050.0               33.0               13.0              33.0   \n",
       "3             200.0               16.0               10.0              15.0   \n",
       "4            3750.0               35.0               40.0              30.0   \n",
       "\n",
       "   Unnamed: 0_x.1  review_score  tempo_resposta_avaliação  Unnamed: 0_y.1  \\\n",
       "0           51020             5                         1           65557   \n",
       "1           27324             4                         2           34265   \n",
       "2            4149             5                         0           34955   \n",
       "3           38151             4                         0           51763   \n",
       "4           54668             5                         1            7602   \n",
       "\n",
       "   customer_zip_code_prefix customer_state  retorno_cliente  Unnamed: 0_x.2  \\\n",
       "0                     28013             RJ                0             513   \n",
       "1                     15775             SP                0             471   \n",
       "2                     35661             MG                0            1824   \n",
       "3                     12952             SP                0            2023   \n",
       "4                     13226             SP                0            1597   \n",
       "\n",
       "   seller_zip_code_prefix  Unnamed: 0_y.2  customer_lat  customer_lng  \\\n",
       "0                   27277          7570.0    -21.758076    -41.312633   \n",
       "1                    3471          5620.0    -20.212393    -50.941471   \n",
       "2                   37564          8787.0    -19.860439    -44.597972   \n",
       "3                   14403          4798.0    -23.144923    -46.539830   \n",
       "4                   87900          4967.0    -23.249008    -46.824961   \n",
       "\n",
       "   Unnamed: 0  payment_sequential payment_type  payment_installments  \\\n",
       "0     85283.0                 1.0  credit_card                   2.0   \n",
       "1      2499.0                 1.0  credit_card                   3.0   \n",
       "2     12393.0                 1.0  credit_card                   5.0   \n",
       "3     32971.0                 1.0  credit_card                   2.0   \n",
       "4     98711.0                 1.0  credit_card                   3.0   \n",
       "\n",
       "   payment_value  entrega_atrasada  delivered  erro_estimativa_dias_entrega  \\\n",
       "0          72.19                 0          1                          -9.0   \n",
       "1         259.83                 0          1                          -3.0   \n",
       "2         216.87                 0          1                         -14.0   \n",
       "3          25.78                 0          1                          -6.0   \n",
       "4         218.04                 0          1                         -16.0   \n",
       "\n",
       "  revisao_intervalo_atraso_resposta  revisão intervalo de atraso_0  \\\n",
       "0                                 1                              0   \n",
       "1                                 2                              0   \n",
       "2                                 0                              1   \n",
       "3                                 0                              1   \n",
       "4                                 1                              0   \n",
       "\n",
       "   revisão intervalo de atraso_1  revisão intervalo de atraso_2  \\\n",
       "0                              1                              0   \n",
       "1                              0                              1   \n",
       "2                              0                              0   \n",
       "3                              0                              0   \n",
       "4                              1                              0   \n",
       "\n",
       "   revisão intervalo de atraso_3  revisão intervalo de atraso_3_mais  \\\n",
       "0                              0                                   0   \n",
       "1                              0                                   0   \n",
       "2                              0                                   0   \n",
       "3                              0                                   0   \n",
       "4                              0                                   0   \n",
       "\n",
       "   vendedor_popular  purchase_month  purchase_day  \n",
       "0                 1               9            13  \n",
       "1                 1               4            26  \n",
       "2                 0               1            14  \n",
       "3                 0               8             8  \n",
       "4                 0               2             4  "
      ]
     },
     "execution_count": 23,
     "metadata": {},
     "output_type": "execute_result"
    }
   ],
   "source": [
    "df.head()"
   ]
  },
  {
   "cell_type": "code",
   "execution_count": 67,
   "id": "d151c3c7",
   "metadata": {
    "ExecuteTime": {
     "end_time": "2022-10-21T20:33:38.877090Z",
     "start_time": "2022-10-21T20:33:38.826120Z"
    }
   },
   "outputs": [],
   "source": [
    "# drop colunas \n",
    "to_drop = ['product_category_name', 'order_id', 'seller_id', 'customer_id', 'product_id',  'order_status', \n",
    "           'order_purchase_timestamp', 'Unnamed: 0.1', 'Unnamed: 0_x', 'Unnamed: 0_y', 'Unnamed: 0_x.1', \n",
    "           'Unnamed: 0_y.1', 'Unnamed: 0', 'order_status', 'customer_state', 'payment_type',\n",
    "           'revisão intervalo de atraso_0', 'revisão intervalo de atraso_1','revisão intervalo de atraso_2',\n",
    "           'revisão intervalo de atraso_3', 'revisão intervalo de atraso_3_mais']\n",
    "\n",
    "df = df.drop(columns=to_drop, axis=1)"
   ]
  },
  {
   "cell_type": "code",
   "execution_count": 76,
   "id": "4dee3e4f",
   "metadata": {
    "ExecuteTime": {
     "end_time": "2022-10-21T20:36:32.942126Z",
     "start_time": "2022-10-21T20:36:32.859176Z"
    }
   },
   "outputs": [
    {
     "name": "stdout",
     "output_type": "stream",
     "text": [
      "<class 'pandas.core.frame.DataFrame'>\n",
      "RangeIndex: 100761 entries, 0 to 100760\n",
      "Data columns (total 32 columns):\n",
      " #   Column                             Non-Null Count   Dtype  \n",
      "---  ------                             --------------   -----  \n",
      " 0   price                              100761 non-null  float64\n",
      " 1   freight_value                      100761 non-null  float64\n",
      " 2   estimativa_dias_entrega            100761 non-null  float64\n",
      " 3   dias_reais_entrega                 100761 non-null  float64\n",
      " 4   ano_pedidos                        100761 non-null  int64  \n",
      " 5   antecipacao_entrega                100761 non-null  int64  \n",
      " 6   product_name_lenght                99302 non-null   float64\n",
      " 7   product_description_lenght         99302 non-null   float64\n",
      " 8   product_photos_qty                 99302 non-null   float64\n",
      " 9   product_weight_g                   100761 non-null  float64\n",
      " 10  product_length_cm                  100761 non-null  float64\n",
      " 11  product_height_cm                  100761 non-null  float64\n",
      " 12  product_width_cm                   100761 non-null  float64\n",
      " 13  review_score                       100761 non-null  int64  \n",
      " 14  tempo_resposta_avaliação           100761 non-null  int64  \n",
      " 15  customer_zip_code_prefix           100761 non-null  int64  \n",
      " 16  retorno_cliente                    100761 non-null  int64  \n",
      " 17  Unnamed: 0_x.2                     100761 non-null  int64  \n",
      " 18  seller_zip_code_prefix             100761 non-null  int64  \n",
      " 19  Unnamed: 0_y.2                     100485 non-null  float64\n",
      " 20  customer_lat                       100485 non-null  float64\n",
      " 21  customer_lng                       100485 non-null  float64\n",
      " 22  payment_sequential                 100760 non-null  float64\n",
      " 23  payment_installments               100760 non-null  float64\n",
      " 24  payment_value                      100760 non-null  float64\n",
      " 25  entrega_atrasada                   100761 non-null  int64  \n",
      " 26  delivered                          100761 non-null  int64  \n",
      " 27  erro_estimativa_dias_entrega       100761 non-null  float64\n",
      " 28  revisao_intervalo_atraso_resposta  100761 non-null  object \n",
      " 29  vendedor_popular                   100761 non-null  int64  \n",
      " 30  purchase_month                     100761 non-null  int64  \n",
      " 31  purchase_day                       100761 non-null  int64  \n",
      "dtypes: float64(18), int64(13), object(1)\n",
      "memory usage: 24.6+ MB\n"
     ]
    }
   ],
   "source": [
    "df.info()"
   ]
  },
  {
   "cell_type": "code",
   "execution_count": 68,
   "id": "a0725634",
   "metadata": {
    "ExecuteTime": {
     "end_time": "2022-10-21T20:33:45.293455Z",
     "start_time": "2022-10-21T20:33:45.267471Z"
    }
   },
   "outputs": [],
   "source": [
    "df_model = df\n",
    "X = df_model.drop(['review_score'], axis=1)\n",
    "y = df_model['review_score']"
   ]
  },
  {
   "cell_type": "markdown",
   "id": "bd1e2390",
   "metadata": {},
   "source": [
    "A variável alvo (review_score) é bastante desequilibrada e vamos dividir essa variável em 2 categorias principais: clientes satisfeitos (pontuação da avaliação 4 e 5) e clientes insatisfeitos (pontuação da avaliação de 1 a 3). Isso ajudará a aumentar a representação das classes minoritárias e ajudará os modelos a detectá-las melhor, preservando os insights de negócios e a interpretabilidade."
   ]
  },
  {
   "cell_type": "code",
   "execution_count": 69,
   "id": "008eea4b",
   "metadata": {
    "ExecuteTime": {
     "end_time": "2022-10-21T20:33:51.982072Z",
     "start_time": "2022-10-21T20:33:51.892841Z"
    }
   },
   "outputs": [],
   "source": [
    "y2 = y.apply(lambda x: 0 if x in [1,2,3] else 1)"
   ]
  },
  {
   "cell_type": "markdown",
   "id": "e97edeb4",
   "metadata": {},
   "source": [
    "### Dividindo os conjuntos em treino e teste"
   ]
  },
  {
   "cell_type": "code",
   "execution_count": 70,
   "id": "57819fe5",
   "metadata": {
    "ExecuteTime": {
     "end_time": "2022-10-21T20:33:58.067841Z",
     "start_time": "2022-10-21T20:33:57.945791Z"
    }
   },
   "outputs": [],
   "source": [
    "X_train, X_test, y_train, y_test = train_test_split(X, y2,\n",
    "                                                    test_size=0.2,\n",
    "                                                    stratify=y,\n",
    "                                                    random_state=1)"
   ]
  },
  {
   "cell_type": "code",
   "execution_count": 71,
   "id": "4d1cd3fb",
   "metadata": {
    "ExecuteTime": {
     "end_time": "2022-10-21T20:34:03.806173Z",
     "start_time": "2022-10-21T20:34:03.794178Z"
    }
   },
   "outputs": [
    {
     "name": "stdout",
     "output_type": "stream",
     "text": [
      "Tamanho conjunto treino:  (80608, 31) (80608,)\n",
      "Tamanho conjunto teste: (20153, 31) (20153,)\n"
     ]
    }
   ],
   "source": [
    "print('Tamanho conjunto treino: ', X_train.shape, y_train.shape)\n",
    "print('Tamanho conjunto teste:', X_test.shape, y_test.shape)"
   ]
  },
  {
   "cell_type": "code",
   "execution_count": 72,
   "id": "b40fdb3b",
   "metadata": {
    "ExecuteTime": {
     "end_time": "2022-10-21T20:34:10.551053Z",
     "start_time": "2022-10-21T20:34:10.526070Z"
    }
   },
   "outputs": [],
   "source": [
    "imputer = SimpleImputer(strategy='median')\n",
    "scaler = StandardScaler()"
   ]
  },
  {
   "cell_type": "markdown",
   "id": "c9402631",
   "metadata": {
    "ExecuteTime": {
     "end_time": "2022-10-13T22:45:21.708655Z",
     "start_time": "2022-10-13T22:45:21.689666Z"
    }
   },
   "source": [
    "### Base para avaliar o desempenho de nossos modelos"
   ]
  },
  {
   "cell_type": "code",
   "execution_count": 73,
   "id": "261e0af2",
   "metadata": {
    "ExecuteTime": {
     "end_time": "2022-10-21T20:34:17.299897Z",
     "start_time": "2022-10-21T20:34:17.274915Z"
    }
   },
   "outputs": [
    {
     "data": {
      "text/plain": [
       "1    0.779588\n",
       "0    0.220412\n",
       "Name: review_score, dtype: float64"
      ]
     },
     "execution_count": 73,
     "metadata": {},
     "output_type": "execute_result"
    }
   ],
   "source": [
    "y_train.value_counts(normalize=True)"
   ]
  },
  {
   "cell_type": "markdown",
   "id": "a057bd45",
   "metadata": {},
   "source": [
    "### Logistic Regression"
   ]
  },
  {
   "cell_type": "code",
   "execution_count": 74,
   "id": "50647015",
   "metadata": {
    "ExecuteTime": {
     "end_time": "2022-10-21T20:34:25.269991Z",
     "start_time": "2022-10-21T20:34:25.117086Z"
    }
   },
   "outputs": [],
   "source": [
    "from sklearn.model_selection import train_test_split\n",
    "X_train, X_test, y_train, y_test = train_test_split(X, y2,\n",
    "                                                    test_size=0.25,\n",
    "                                                    stratify=y,\n",
    "                                                    random_state=0)"
   ]
  },
  {
   "cell_type": "markdown",
   "id": "8050473b",
   "metadata": {},
   "source": [
    "O GridSearchCV implementa um método “fit” e um método “score”. Também implementa “score_samples”, “predict”, “predict_proba”, “decision_function”, “transform” e “inverse_transform” se estiverem implementados no estimador utilizado"
   ]
  },
  {
   "cell_type": "code",
   "execution_count": 75,
   "id": "93710eec",
   "metadata": {
    "ExecuteTime": {
     "end_time": "2022-10-21T20:35:00.070559Z",
     "start_time": "2022-10-21T20:34:33.256073Z"
    }
   },
   "outputs": [
    {
     "name": "stdout",
     "output_type": "stream",
     "text": [
      "Fitting 5 folds for each of 54 candidates, totalling 270 fits\n"
     ]
    },
    {
     "name": "stderr",
     "output_type": "stream",
     "text": [
      "[Parallel(n_jobs=-1)]: Using backend LokyBackend with 4 concurrent workers.\n",
      "[Parallel(n_jobs=-1)]: Done  42 tasks      | elapsed:    4.4s\n",
      "[Parallel(n_jobs=-1)]: Done 192 tasks      | elapsed:   18.5s\n",
      "[Parallel(n_jobs=-1)]: Done 270 out of 270 | elapsed:   25.6s finished\n"
     ]
    },
    {
     "ename": "ValueError",
     "evalue": "Cannot use median strategy with non-numeric data:\ncould not convert string to float: '3_mais'",
     "output_type": "error",
     "traceback": [
      "\u001b[1;31m---------------------------------------------------------------------------\u001b[0m",
      "\u001b[1;31mValueError\u001b[0m                                Traceback (most recent call last)",
      "Cell \u001b[1;32mIn [75], line 27\u001b[0m\n\u001b[0;32m     20\u001b[0m grid_lr \u001b[38;5;241m=\u001b[39m GridSearchCV(pipe_lr, \n\u001b[0;32m     21\u001b[0m                        param_grid\u001b[38;5;241m=\u001b[39mparameters_lr, \n\u001b[0;32m     22\u001b[0m                        cv\u001b[38;5;241m=\u001b[39mStratifiedKFold(),\n\u001b[0;32m     23\u001b[0m                        verbose\u001b[38;5;241m=\u001b[39m\u001b[38;5;241m1\u001b[39m,\n\u001b[0;32m     24\u001b[0m                       n_jobs\u001b[38;5;241m=\u001b[39m\u001b[38;5;241m-\u001b[39m\u001b[38;5;241m1\u001b[39m)\n\u001b[0;32m     26\u001b[0m warnings\u001b[38;5;241m.\u001b[39m filterwarnings(\u001b[38;5;124m\"\u001b[39m\u001b[38;5;124mignore\u001b[39m\u001b[38;5;124m\"\u001b[39m)\n\u001b[1;32m---> 27\u001b[0m grid_lr\u001b[38;5;241m.\u001b[39mfit(X_train, y_train)\n",
      "File \u001b[1;32mC:\\ProgramData\\Anaconda3\\envs\\pycaret\\lib\\site-packages\\sklearn\\utils\\validation.py:72\u001b[0m, in \u001b[0;36m_deprecate_positional_args.<locals>.inner_f\u001b[1;34m(*args, **kwargs)\u001b[0m\n\u001b[0;32m     67\u001b[0m     warnings\u001b[38;5;241m.\u001b[39mwarn(\u001b[38;5;124m\"\u001b[39m\u001b[38;5;124mPass \u001b[39m\u001b[38;5;132;01m{}\u001b[39;00m\u001b[38;5;124m as keyword args. From version 0.25 \u001b[39m\u001b[38;5;124m\"\u001b[39m\n\u001b[0;32m     68\u001b[0m                   \u001b[38;5;124m\"\u001b[39m\u001b[38;5;124mpassing these as positional arguments will \u001b[39m\u001b[38;5;124m\"\u001b[39m\n\u001b[0;32m     69\u001b[0m                   \u001b[38;5;124m\"\u001b[39m\u001b[38;5;124mresult in an error\u001b[39m\u001b[38;5;124m\"\u001b[39m\u001b[38;5;241m.\u001b[39mformat(\u001b[38;5;124m\"\u001b[39m\u001b[38;5;124m, \u001b[39m\u001b[38;5;124m\"\u001b[39m\u001b[38;5;241m.\u001b[39mjoin(args_msg)),\n\u001b[0;32m     70\u001b[0m                   \u001b[38;5;167;01mFutureWarning\u001b[39;00m)\n\u001b[0;32m     71\u001b[0m kwargs\u001b[38;5;241m.\u001b[39mupdate({k: arg \u001b[38;5;28;01mfor\u001b[39;00m k, arg \u001b[38;5;129;01min\u001b[39;00m \u001b[38;5;28mzip\u001b[39m(sig\u001b[38;5;241m.\u001b[39mparameters, args)})\n\u001b[1;32m---> 72\u001b[0m \u001b[38;5;28;01mreturn\u001b[39;00m \u001b[43mf\u001b[49m\u001b[43m(\u001b[49m\u001b[38;5;241;43m*\u001b[39;49m\u001b[38;5;241;43m*\u001b[39;49m\u001b[43mkwargs\u001b[49m\u001b[43m)\u001b[49m\n",
      "File \u001b[1;32mC:\\ProgramData\\Anaconda3\\envs\\pycaret\\lib\\site-packages\\sklearn\\model_selection\\_search.py:765\u001b[0m, in \u001b[0;36mBaseSearchCV.fit\u001b[1;34m(self, X, y, groups, **fit_params)\u001b[0m\n\u001b[0;32m    763\u001b[0m refit_start_time \u001b[38;5;241m=\u001b[39m time\u001b[38;5;241m.\u001b[39mtime()\n\u001b[0;32m    764\u001b[0m \u001b[38;5;28;01mif\u001b[39;00m y \u001b[38;5;129;01mis\u001b[39;00m \u001b[38;5;129;01mnot\u001b[39;00m \u001b[38;5;28;01mNone\u001b[39;00m:\n\u001b[1;32m--> 765\u001b[0m     \u001b[38;5;28;43mself\u001b[39;49m\u001b[38;5;241;43m.\u001b[39;49m\u001b[43mbest_estimator_\u001b[49m\u001b[38;5;241;43m.\u001b[39;49m\u001b[43mfit\u001b[49m\u001b[43m(\u001b[49m\u001b[43mX\u001b[49m\u001b[43m,\u001b[49m\u001b[43m \u001b[49m\u001b[43my\u001b[49m\u001b[43m,\u001b[49m\u001b[43m \u001b[49m\u001b[38;5;241;43m*\u001b[39;49m\u001b[38;5;241;43m*\u001b[39;49m\u001b[43mfit_params\u001b[49m\u001b[43m)\u001b[49m\n\u001b[0;32m    766\u001b[0m \u001b[38;5;28;01melse\u001b[39;00m:\n\u001b[0;32m    767\u001b[0m     \u001b[38;5;28mself\u001b[39m\u001b[38;5;241m.\u001b[39mbest_estimator_\u001b[38;5;241m.\u001b[39mfit(X, \u001b[38;5;241m*\u001b[39m\u001b[38;5;241m*\u001b[39mfit_params)\n",
      "File \u001b[1;32mC:\\ProgramData\\Anaconda3\\envs\\pycaret\\lib\\site-packages\\sklearn\\pipeline.py:330\u001b[0m, in \u001b[0;36mPipeline.fit\u001b[1;34m(self, X, y, **fit_params)\u001b[0m\n\u001b[0;32m    304\u001b[0m \u001b[38;5;124;03m\"\"\"Fit the model\u001b[39;00m\n\u001b[0;32m    305\u001b[0m \n\u001b[0;32m    306\u001b[0m \u001b[38;5;124;03mFit all the transforms one after the other and transform the\u001b[39;00m\n\u001b[1;32m   (...)\u001b[0m\n\u001b[0;32m    327\u001b[0m \u001b[38;5;124;03m    This estimator\u001b[39;00m\n\u001b[0;32m    328\u001b[0m \u001b[38;5;124;03m\"\"\"\u001b[39;00m\n\u001b[0;32m    329\u001b[0m fit_params_steps \u001b[38;5;241m=\u001b[39m \u001b[38;5;28mself\u001b[39m\u001b[38;5;241m.\u001b[39m_check_fit_params(\u001b[38;5;241m*\u001b[39m\u001b[38;5;241m*\u001b[39mfit_params)\n\u001b[1;32m--> 330\u001b[0m Xt \u001b[38;5;241m=\u001b[39m \u001b[38;5;28;43mself\u001b[39;49m\u001b[38;5;241;43m.\u001b[39;49m\u001b[43m_fit\u001b[49m\u001b[43m(\u001b[49m\u001b[43mX\u001b[49m\u001b[43m,\u001b[49m\u001b[43m \u001b[49m\u001b[43my\u001b[49m\u001b[43m,\u001b[49m\u001b[43m \u001b[49m\u001b[38;5;241;43m*\u001b[39;49m\u001b[38;5;241;43m*\u001b[39;49m\u001b[43mfit_params_steps\u001b[49m\u001b[43m)\u001b[49m\n\u001b[0;32m    331\u001b[0m \u001b[38;5;28;01mwith\u001b[39;00m _print_elapsed_time(\u001b[38;5;124m'\u001b[39m\u001b[38;5;124mPipeline\u001b[39m\u001b[38;5;124m'\u001b[39m,\n\u001b[0;32m    332\u001b[0m                          \u001b[38;5;28mself\u001b[39m\u001b[38;5;241m.\u001b[39m_log_message(\u001b[38;5;28mlen\u001b[39m(\u001b[38;5;28mself\u001b[39m\u001b[38;5;241m.\u001b[39msteps) \u001b[38;5;241m-\u001b[39m \u001b[38;5;241m1\u001b[39m)):\n\u001b[0;32m    333\u001b[0m     \u001b[38;5;28;01mif\u001b[39;00m \u001b[38;5;28mself\u001b[39m\u001b[38;5;241m.\u001b[39m_final_estimator \u001b[38;5;241m!=\u001b[39m \u001b[38;5;124m'\u001b[39m\u001b[38;5;124mpassthrough\u001b[39m\u001b[38;5;124m'\u001b[39m:\n",
      "File \u001b[1;32mC:\\ProgramData\\Anaconda3\\envs\\pycaret\\lib\\site-packages\\sklearn\\pipeline.py:292\u001b[0m, in \u001b[0;36mPipeline._fit\u001b[1;34m(self, X, y, **fit_params_steps)\u001b[0m\n\u001b[0;32m    290\u001b[0m     cloned_transformer \u001b[38;5;241m=\u001b[39m clone(transformer)\n\u001b[0;32m    291\u001b[0m \u001b[38;5;66;03m# Fit or load from cache the current transformer\u001b[39;00m\n\u001b[1;32m--> 292\u001b[0m X, fitted_transformer \u001b[38;5;241m=\u001b[39m \u001b[43mfit_transform_one_cached\u001b[49m\u001b[43m(\u001b[49m\n\u001b[0;32m    293\u001b[0m \u001b[43m    \u001b[49m\u001b[43mcloned_transformer\u001b[49m\u001b[43m,\u001b[49m\u001b[43m \u001b[49m\u001b[43mX\u001b[49m\u001b[43m,\u001b[49m\u001b[43m \u001b[49m\u001b[43my\u001b[49m\u001b[43m,\u001b[49m\u001b[43m \u001b[49m\u001b[38;5;28;43;01mNone\u001b[39;49;00m\u001b[43m,\u001b[49m\n\u001b[0;32m    294\u001b[0m \u001b[43m    \u001b[49m\u001b[43mmessage_clsname\u001b[49m\u001b[38;5;241;43m=\u001b[39;49m\u001b[38;5;124;43m'\u001b[39;49m\u001b[38;5;124;43mPipeline\u001b[39;49m\u001b[38;5;124;43m'\u001b[39;49m\u001b[43m,\u001b[49m\n\u001b[0;32m    295\u001b[0m \u001b[43m    \u001b[49m\u001b[43mmessage\u001b[49m\u001b[38;5;241;43m=\u001b[39;49m\u001b[38;5;28;43mself\u001b[39;49m\u001b[38;5;241;43m.\u001b[39;49m\u001b[43m_log_message\u001b[49m\u001b[43m(\u001b[49m\u001b[43mstep_idx\u001b[49m\u001b[43m)\u001b[49m\u001b[43m,\u001b[49m\n\u001b[0;32m    296\u001b[0m \u001b[43m    \u001b[49m\u001b[38;5;241;43m*\u001b[39;49m\u001b[38;5;241;43m*\u001b[39;49m\u001b[43mfit_params_steps\u001b[49m\u001b[43m[\u001b[49m\u001b[43mname\u001b[49m\u001b[43m]\u001b[49m\u001b[43m)\u001b[49m\n\u001b[0;32m    297\u001b[0m \u001b[38;5;66;03m# Replace the transformer of the step with the fitted\u001b[39;00m\n\u001b[0;32m    298\u001b[0m \u001b[38;5;66;03m# transformer. This is necessary when loading the transformer\u001b[39;00m\n\u001b[0;32m    299\u001b[0m \u001b[38;5;66;03m# from the cache.\u001b[39;00m\n\u001b[0;32m    300\u001b[0m \u001b[38;5;28mself\u001b[39m\u001b[38;5;241m.\u001b[39msteps[step_idx] \u001b[38;5;241m=\u001b[39m (name, fitted_transformer)\n",
      "File \u001b[1;32mC:\\ProgramData\\Anaconda3\\envs\\pycaret\\lib\\site-packages\\joblib\\memory.py:349\u001b[0m, in \u001b[0;36mNotMemorizedFunc.__call__\u001b[1;34m(self, *args, **kwargs)\u001b[0m\n\u001b[0;32m    348\u001b[0m \u001b[38;5;28;01mdef\u001b[39;00m \u001b[38;5;21m__call__\u001b[39m(\u001b[38;5;28mself\u001b[39m, \u001b[38;5;241m*\u001b[39margs, \u001b[38;5;241m*\u001b[39m\u001b[38;5;241m*\u001b[39mkwargs):\n\u001b[1;32m--> 349\u001b[0m     \u001b[38;5;28;01mreturn\u001b[39;00m \u001b[38;5;28;43mself\u001b[39;49m\u001b[38;5;241;43m.\u001b[39;49m\u001b[43mfunc\u001b[49m\u001b[43m(\u001b[49m\u001b[38;5;241;43m*\u001b[39;49m\u001b[43margs\u001b[49m\u001b[43m,\u001b[49m\u001b[43m \u001b[49m\u001b[38;5;241;43m*\u001b[39;49m\u001b[38;5;241;43m*\u001b[39;49m\u001b[43mkwargs\u001b[49m\u001b[43m)\u001b[49m\n",
      "File \u001b[1;32mC:\\ProgramData\\Anaconda3\\envs\\pycaret\\lib\\site-packages\\sklearn\\pipeline.py:740\u001b[0m, in \u001b[0;36m_fit_transform_one\u001b[1;34m(transformer, X, y, weight, message_clsname, message, **fit_params)\u001b[0m\n\u001b[0;32m    738\u001b[0m \u001b[38;5;28;01mwith\u001b[39;00m _print_elapsed_time(message_clsname, message):\n\u001b[0;32m    739\u001b[0m     \u001b[38;5;28;01mif\u001b[39;00m \u001b[38;5;28mhasattr\u001b[39m(transformer, \u001b[38;5;124m'\u001b[39m\u001b[38;5;124mfit_transform\u001b[39m\u001b[38;5;124m'\u001b[39m):\n\u001b[1;32m--> 740\u001b[0m         res \u001b[38;5;241m=\u001b[39m \u001b[43mtransformer\u001b[49m\u001b[38;5;241;43m.\u001b[39;49m\u001b[43mfit_transform\u001b[49m\u001b[43m(\u001b[49m\u001b[43mX\u001b[49m\u001b[43m,\u001b[49m\u001b[43m \u001b[49m\u001b[43my\u001b[49m\u001b[43m,\u001b[49m\u001b[43m \u001b[49m\u001b[38;5;241;43m*\u001b[39;49m\u001b[38;5;241;43m*\u001b[39;49m\u001b[43mfit_params\u001b[49m\u001b[43m)\u001b[49m\n\u001b[0;32m    741\u001b[0m     \u001b[38;5;28;01melse\u001b[39;00m:\n\u001b[0;32m    742\u001b[0m         res \u001b[38;5;241m=\u001b[39m transformer\u001b[38;5;241m.\u001b[39mfit(X, y, \u001b[38;5;241m*\u001b[39m\u001b[38;5;241m*\u001b[39mfit_params)\u001b[38;5;241m.\u001b[39mtransform(X)\n",
      "File \u001b[1;32mC:\\ProgramData\\Anaconda3\\envs\\pycaret\\lib\\site-packages\\sklearn\\base.py:693\u001b[0m, in \u001b[0;36mTransformerMixin.fit_transform\u001b[1;34m(self, X, y, **fit_params)\u001b[0m\n\u001b[0;32m    690\u001b[0m     \u001b[38;5;28;01mreturn\u001b[39;00m \u001b[38;5;28mself\u001b[39m\u001b[38;5;241m.\u001b[39mfit(X, \u001b[38;5;241m*\u001b[39m\u001b[38;5;241m*\u001b[39mfit_params)\u001b[38;5;241m.\u001b[39mtransform(X)\n\u001b[0;32m    691\u001b[0m \u001b[38;5;28;01melse\u001b[39;00m:\n\u001b[0;32m    692\u001b[0m     \u001b[38;5;66;03m# fit method of arity 2 (supervised transformation)\u001b[39;00m\n\u001b[1;32m--> 693\u001b[0m     \u001b[38;5;28;01mreturn\u001b[39;00m \u001b[38;5;28;43mself\u001b[39;49m\u001b[38;5;241;43m.\u001b[39;49m\u001b[43mfit\u001b[49m\u001b[43m(\u001b[49m\u001b[43mX\u001b[49m\u001b[43m,\u001b[49m\u001b[43m \u001b[49m\u001b[43my\u001b[49m\u001b[43m,\u001b[49m\u001b[43m \u001b[49m\u001b[38;5;241;43m*\u001b[39;49m\u001b[38;5;241;43m*\u001b[39;49m\u001b[43mfit_params\u001b[49m\u001b[43m)\u001b[49m\u001b[38;5;241m.\u001b[39mtransform(X)\n",
      "File \u001b[1;32mC:\\ProgramData\\Anaconda3\\envs\\pycaret\\lib\\site-packages\\sklearn\\impute\\_base.py:277\u001b[0m, in \u001b[0;36mSimpleImputer.fit\u001b[1;34m(self, X, y)\u001b[0m\n\u001b[0;32m    264\u001b[0m \u001b[38;5;28;01mdef\u001b[39;00m \u001b[38;5;21mfit\u001b[39m(\u001b[38;5;28mself\u001b[39m, X, y\u001b[38;5;241m=\u001b[39m\u001b[38;5;28;01mNone\u001b[39;00m):\n\u001b[0;32m    265\u001b[0m     \u001b[38;5;124;03m\"\"\"Fit the imputer on X.\u001b[39;00m\n\u001b[0;32m    266\u001b[0m \n\u001b[0;32m    267\u001b[0m \u001b[38;5;124;03m    Parameters\u001b[39;00m\n\u001b[1;32m   (...)\u001b[0m\n\u001b[0;32m    275\u001b[0m \u001b[38;5;124;03m    self : SimpleImputer\u001b[39;00m\n\u001b[0;32m    276\u001b[0m \u001b[38;5;124;03m    \"\"\"\u001b[39;00m\n\u001b[1;32m--> 277\u001b[0m     X \u001b[38;5;241m=\u001b[39m \u001b[38;5;28;43mself\u001b[39;49m\u001b[38;5;241;43m.\u001b[39;49m\u001b[43m_validate_input\u001b[49m\u001b[43m(\u001b[49m\u001b[43mX\u001b[49m\u001b[43m,\u001b[49m\u001b[43m \u001b[49m\u001b[43min_fit\u001b[49m\u001b[38;5;241;43m=\u001b[39;49m\u001b[38;5;28;43;01mTrue\u001b[39;49;00m\u001b[43m)\u001b[49m\n\u001b[0;32m    278\u001b[0m     \u001b[38;5;28msuper\u001b[39m()\u001b[38;5;241m.\u001b[39m_fit_indicator(X)\n\u001b[0;32m    280\u001b[0m     \u001b[38;5;66;03m# default fill_value is 0 for numerical input and \"missing_value\"\u001b[39;00m\n\u001b[0;32m    281\u001b[0m     \u001b[38;5;66;03m# otherwise\u001b[39;00m\n",
      "File \u001b[1;32mC:\\ProgramData\\Anaconda3\\envs\\pycaret\\lib\\site-packages\\sklearn\\impute\\_base.py:249\u001b[0m, in \u001b[0;36mSimpleImputer._validate_input\u001b[1;34m(self, X, in_fit)\u001b[0m\n\u001b[0;32m    246\u001b[0m \u001b[38;5;28;01mif\u001b[39;00m \u001b[38;5;124m\"\u001b[39m\u001b[38;5;124mcould not convert\u001b[39m\u001b[38;5;124m\"\u001b[39m \u001b[38;5;129;01min\u001b[39;00m \u001b[38;5;28mstr\u001b[39m(ve):\n\u001b[0;32m    247\u001b[0m     new_ve \u001b[38;5;241m=\u001b[39m \u001b[38;5;167;01mValueError\u001b[39;00m(\u001b[38;5;124m\"\u001b[39m\u001b[38;5;124mCannot use \u001b[39m\u001b[38;5;132;01m{}\u001b[39;00m\u001b[38;5;124m strategy with non-numeric \u001b[39m\u001b[38;5;124m\"\u001b[39m\n\u001b[0;32m    248\u001b[0m                         \u001b[38;5;124m\"\u001b[39m\u001b[38;5;124mdata:\u001b[39m\u001b[38;5;130;01m\\n\u001b[39;00m\u001b[38;5;132;01m{}\u001b[39;00m\u001b[38;5;124m\"\u001b[39m\u001b[38;5;241m.\u001b[39mformat(\u001b[38;5;28mself\u001b[39m\u001b[38;5;241m.\u001b[39mstrategy, ve))\n\u001b[1;32m--> 249\u001b[0m     \u001b[38;5;28;01mraise\u001b[39;00m new_ve \u001b[38;5;28;01mfrom\u001b[39;00m \u001b[38;5;28mNone\u001b[39m\n\u001b[0;32m    250\u001b[0m \u001b[38;5;28;01melse\u001b[39;00m:\n\u001b[0;32m    251\u001b[0m     \u001b[38;5;28;01mraise\u001b[39;00m ve\n",
      "\u001b[1;31mValueError\u001b[0m: Cannot use median strategy with non-numeric data:\ncould not convert string to float: '3_mais'"
     ]
    }
   ],
   "source": [
    "# modelo & pipeline para GridSearch\n",
    "lr = LogisticRegression()\n",
    "\n",
    "# adicionando pca\n",
    "pca = PCA()\n",
    "n_components = list(range(25,X.shape[1],2))\n",
    "\n",
    "# pipeline\n",
    "pipe_lr = make_pipeline(imputer, scaler, pca, lr)\n",
    "\n",
    "# hiperparâmetros do modelo que será testado pelo GridSearchCV\n",
    "parameters_lr = {\n",
    "        'logisticregression__C': [0.01, 0.05, 0.1, 0.5, 1, 2],\n",
    "        'logisticregression__penalty' : ['l2'],\n",
    "        'logisticregression__solver' : ['newton-cg', 'sag', 'lbfgs'],\n",
    "        'pca__n_components': n_components\n",
    "        }\n",
    "\n",
    "# definir GridSearchCV\n",
    "grid_lr = GridSearchCV(pipe_lr, \n",
    "                       param_grid=parameters_lr, \n",
    "                       cv=StratifiedKFold(),\n",
    "                       verbose=1,\n",
    "                      n_jobs=-1)\n",
    "\n",
    "warnings. filterwarnings(\"ignore\")\n",
    "grid_lr.fit(X_train, y_train)\n"
   ]
  },
  {
   "cell_type": "code",
   "execution_count": null,
   "id": "d1bd9e8a",
   "metadata": {
    "ExecuteTime": {
     "end_time": "2022-10-13T23:07:39.165494Z",
     "start_time": "2022-10-13T23:07:39.165494Z"
    }
   },
   "outputs": [],
   "source": [
    "print('Melhor hyperparameters:\\n{}'.format(grid_lr.best_params_))\n",
    "print('Melhor estimator: ', grid_lr.best_estimator_)\n",
    "print('Pontuação de validação cruzada: \\n Accuracy:', grid_lr.best_score_)"
   ]
  },
  {
   "cell_type": "markdown",
   "id": "72b28ab2",
   "metadata": {},
   "source": [
    "Com os melhores parâmetros, vamos prever o resultado do conjunto de testes e calculamos a pontuação."
   ]
  },
  {
   "cell_type": "code",
   "execution_count": null,
   "id": "d204af22",
   "metadata": {},
   "outputs": [],
   "source": [
    "y_train_pred_lr = cross_val_predict(grid_lr.best_estimator_, X_train, y_train, cv=5, method='predict', n_jobs=-1)\n",
    "print('Logistic Regression - melhor score:')\n",
    "print('F1-score:', f1_score(y_train, y_train_pred_lr))\n",
    "print('Confusion matrix: \\n', confusion_matrix(y_train, y_train_pred_lr))"
   ]
  },
  {
   "cell_type": "markdown",
   "id": "8b9390d1",
   "metadata": {},
   "source": [
    "### Utilizando Picaret Regression"
   ]
  },
  {
   "cell_type": "code",
   "execution_count": null,
   "id": "623bf4e3",
   "metadata": {},
   "outputs": [],
   "source": [
    "regression2 = setup(data = data, remove_outliers=True, unknown_categorical_method='most_frequent', target = 'review_score', session_id=42, imputation_type='iterative', normalize=True, n_jobs=-3)"
   ]
  }
 ],
 "metadata": {
  "kernelspec": {
   "display_name": "pycaret",
   "language": "python",
   "name": "pycaret"
  },
  "language_info": {
   "codemirror_mode": {
    "name": "ipython",
    "version": 3
   },
   "file_extension": ".py",
   "mimetype": "text/x-python",
   "name": "python",
   "nbconvert_exporter": "python",
   "pygments_lexer": "ipython3",
   "version": "3.8.13"
  },
  "nbTranslate": {
   "displayLangs": [
    "*"
   ],
   "hotkey": "alt-t",
   "langInMainMenu": true,
   "sourceLang": "en",
   "targetLang": "fr",
   "useGoogleTranslate": true
  },
  "toc": {
   "base_numbering": 1,
   "nav_menu": {},
   "number_sections": true,
   "sideBar": true,
   "skip_h1_title": false,
   "title_cell": "Table of Contents",
   "title_sidebar": "Contents",
   "toc_cell": false,
   "toc_position": {},
   "toc_section_display": true,
   "toc_window_display": false
  },
  "varInspector": {
   "cols": {
    "lenName": 16,
    "lenType": 16,
    "lenVar": 40
   },
   "kernels_config": {
    "python": {
     "delete_cmd_postfix": "",
     "delete_cmd_prefix": "del ",
     "library": "var_list.py",
     "varRefreshCmd": "print(var_dic_list())"
    },
    "r": {
     "delete_cmd_postfix": ") ",
     "delete_cmd_prefix": "rm(",
     "library": "var_list.r",
     "varRefreshCmd": "cat(var_dic_list()) "
    }
   },
   "types_to_exclude": [
    "module",
    "function",
    "builtin_function_or_method",
    "instance",
    "_Feature"
   ],
   "window_display": false
  }
 },
 "nbformat": 4,
 "nbformat_minor": 5
}
