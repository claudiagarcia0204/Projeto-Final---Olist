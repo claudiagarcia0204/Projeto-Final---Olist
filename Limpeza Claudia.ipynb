{
 "cells": [
  {
   "cell_type": "code",
   "execution_count": 70,
   "id": "d3b4aacc",
   "metadata": {
    "ExecuteTime": {
     "end_time": "2022-10-05T21:45:57.792122Z",
     "start_time": "2022-10-05T21:45:57.725163Z"
    }
   },
   "outputs": [],
   "source": [
    "import numpy as np\n",
    "import pandas as pd\n",
    "import seaborn as sns\n",
    "import matplotlib\n",
    "import matplotlib.pyplot as plt\n",
    "import plotly.express as px\n",
    "import re"
   ]
  },
  {
   "cell_type": "markdown",
   "id": "16e64105",
   "metadata": {},
   "source": [
    "## Vendedores - Seller"
   ]
  },
  {
   "cell_type": "code",
   "execution_count": null,
   "id": "4e2306bf",
   "metadata": {
    "ExecuteTime": {
     "end_time": "2022-10-05T11:41:17.813709Z",
     "start_time": "2022-10-05T11:41:17.369911Z"
    }
   },
   "outputs": [],
   "source": [
    "vendedores = pd.read_csv(\"data\\olist_sellers_dataset.csv\") #seller\n",
    "\n",
    "# tabela de vendedores 3095 linhas  4 colunas ('seller_id', 'seller_zip_code_prefix', 'seller_city', 'seller_state')"
   ]
  },
  {
   "cell_type": "code",
   "execution_count": null,
   "id": "2bf58c36",
   "metadata": {
    "ExecuteTime": {
     "end_time": "2022-10-03T12:58:04.554866Z",
     "start_time": "2022-10-03T12:58:04.513891Z"
    },
    "cell_style": "split"
   },
   "outputs": [],
   "source": [
    "vendedores.info()"
   ]
  },
  {
   "cell_type": "code",
   "execution_count": null,
   "id": "8960f4e8",
   "metadata": {
    "ExecuteTime": {
     "end_time": "2022-10-03T13:19:08.271800Z",
     "start_time": "2022-10-03T13:19:08.236822Z"
    },
    "cell_style": "split",
    "scrolled": true
   },
   "outputs": [],
   "source": [
    "vendedores.isnull().sum()"
   ]
  },
  {
   "cell_type": "code",
   "execution_count": null,
   "id": "8de78c6e",
   "metadata": {
    "ExecuteTime": {
     "end_time": "2022-10-03T12:58:41.291817Z",
     "start_time": "2022-10-03T12:58:41.273825Z"
    },
    "cell_style": "center"
   },
   "outputs": [],
   "source": [
    "vendedores.columns"
   ]
  },
  {
   "cell_type": "code",
   "execution_count": null,
   "id": "f743f26c",
   "metadata": {
    "ExecuteTime": {
     "end_time": "2022-10-03T13:17:57.271771Z",
     "start_time": "2022-10-03T13:17:57.259778Z"
    }
   },
   "outputs": [],
   "source": [
    "print(\"Nº total de vendedores exclusivos:\",len((vendedores.seller_id).unique()))"
   ]
  },
  {
   "cell_type": "code",
   "execution_count": null,
   "id": "35c82510",
   "metadata": {
    "ExecuteTime": {
     "end_time": "2022-10-05T11:41:25.044756Z",
     "start_time": "2022-10-05T11:41:24.733376Z"
    }
   },
   "outputs": [],
   "source": [
    "vendedores.to_csv('vendedores.csv')"
   ]
  },
  {
   "cell_type": "code",
   "execution_count": null,
   "id": "8da3d0f3",
   "metadata": {
    "ExecuteTime": {
     "end_time": "2022-10-03T17:53:59.812454Z",
     "start_time": "2022-10-03T17:53:59.795466Z"
    }
   },
   "outputs": [],
   "source": [
    "vendedores.shape"
   ]
  },
  {
   "cell_type": "markdown",
   "id": "2a638a59",
   "metadata": {},
   "source": [
    "## Pagamentos - payments"
   ]
  },
  {
   "cell_type": "code",
   "execution_count": null,
   "id": "b6682736",
   "metadata": {
    "ExecuteTime": {
     "end_time": "2022-10-05T11:41:27.573323Z",
     "start_time": "2022-10-05T11:41:26.982294Z"
    }
   },
   "outputs": [],
   "source": [
    "pagamentos = pd.read_csv(\"data\\olist_order_payments_dataset.csv\") #payments\n",
    "\n",
    "\n",
    "# tabela de pagamentos 103886 linhas  5 colunas ('order_id', 'payment_sequential', 'payment_type','payment_installments', 'payment_value')"
   ]
  },
  {
   "cell_type": "code",
   "execution_count": null,
   "id": "88e27b8b",
   "metadata": {
    "ExecuteTime": {
     "end_time": "2022-10-03T13:27:55.354507Z",
     "start_time": "2022-10-03T13:27:55.267517Z"
    },
    "cell_style": "split"
   },
   "outputs": [],
   "source": [
    "pagamentos.info()"
   ]
  },
  {
   "cell_type": "code",
   "execution_count": null,
   "id": "e8c17c2a",
   "metadata": {
    "ExecuteTime": {
     "end_time": "2022-10-03T13:28:08.240465Z",
     "start_time": "2022-10-03T13:28:08.172956Z"
    },
    "cell_style": "split",
    "scrolled": true
   },
   "outputs": [],
   "source": [
    "pagamentos.isnull().sum()"
   ]
  },
  {
   "cell_type": "code",
   "execution_count": null,
   "id": "a2fa04ca",
   "metadata": {
    "ExecuteTime": {
     "end_time": "2022-10-03T13:28:19.173461Z",
     "start_time": "2022-10-03T13:28:19.149475Z"
    },
    "cell_style": "center"
   },
   "outputs": [],
   "source": [
    "pagamentos.columns"
   ]
  },
  {
   "cell_type": "code",
   "execution_count": null,
   "id": "8ec87723",
   "metadata": {
    "ExecuteTime": {
     "end_time": "2022-10-03T13:34:45.465545Z",
     "start_time": "2022-10-03T13:34:45.426570Z"
    }
   },
   "outputs": [],
   "source": [
    "pagamentos.groupby('payment_type').size()"
   ]
  },
  {
   "cell_type": "code",
   "execution_count": null,
   "id": "f11f31a3",
   "metadata": {
    "ExecuteTime": {
     "end_time": "2022-10-05T11:41:33.960139Z",
     "start_time": "2022-10-05T11:41:33.852258Z"
    }
   },
   "outputs": [],
   "source": [
    "pagamentos.loc[pagamentos['payment_type']=='not_defined']"
   ]
  },
  {
   "cell_type": "code",
   "execution_count": null,
   "id": "8fba550b",
   "metadata": {
    "ExecuteTime": {
     "end_time": "2022-10-05T11:41:36.838823Z",
     "start_time": "2022-10-05T11:41:36.732925Z"
    }
   },
   "outputs": [],
   "source": [
    "pagamentos.drop(index=pagamentos.loc[pagamentos['payment_type']=='not_defined'].index, inplace=True)"
   ]
  },
  {
   "cell_type": "code",
   "execution_count": null,
   "id": "4b1e45bc",
   "metadata": {
    "ExecuteTime": {
     "end_time": "2022-10-03T14:22:02.108215Z",
     "start_time": "2022-10-03T14:22:02.070238Z"
    }
   },
   "outputs": [],
   "source": [
    "pagamentos['payment_type'].value_counts()"
   ]
  },
  {
   "cell_type": "code",
   "execution_count": null,
   "id": "407ff279",
   "metadata": {
    "ExecuteTime": {
     "end_time": "2022-10-05T11:41:40.479151Z",
     "start_time": "2022-10-05T11:41:39.229922Z"
    }
   },
   "outputs": [],
   "source": [
    "pagamentos.to_csv('pagamentos.csv')"
   ]
  },
  {
   "cell_type": "code",
   "execution_count": null,
   "id": "167c75d4",
   "metadata": {
    "ExecuteTime": {
     "end_time": "2022-10-03T17:52:42.720493Z",
     "start_time": "2022-10-03T17:52:42.701505Z"
    }
   },
   "outputs": [],
   "source": [
    "pagamentos.shape"
   ]
  },
  {
   "cell_type": "markdown",
   "id": "2fc803fd",
   "metadata": {},
   "source": [
    "## Clientes - customers"
   ]
  },
  {
   "cell_type": "code",
   "execution_count": null,
   "id": "1c8cfcd7",
   "metadata": {
    "ExecuteTime": {
     "end_time": "2022-10-05T11:41:43.355573Z",
     "start_time": "2022-10-05T11:41:42.614607Z"
    }
   },
   "outputs": [],
   "source": [
    "clientes = pd.read_csv(\"data\\olist_customers_dataset.csv\") #customers\n",
    "\n",
    "# tabela de clientes 99441 linhas  5 colunas ('customer_id', 'customer_unique_id', 'customer_zip_code_prefix','customer_city', 'customer_state')"
   ]
  },
  {
   "cell_type": "code",
   "execution_count": null,
   "id": "3603e86c",
   "metadata": {
    "ExecuteTime": {
     "end_time": "2022-10-03T15:16:47.846209Z",
     "start_time": "2022-10-03T15:16:47.617340Z"
    },
    "cell_style": "split"
   },
   "outputs": [],
   "source": [
    "clientes.info()"
   ]
  },
  {
   "cell_type": "code",
   "execution_count": null,
   "id": "40fb1741",
   "metadata": {
    "ExecuteTime": {
     "end_time": "2022-10-03T15:16:49.106916Z",
     "start_time": "2022-10-03T15:16:48.889052Z"
    },
    "cell_style": "split",
    "scrolled": true
   },
   "outputs": [],
   "source": [
    "clientes.isnull().sum()"
   ]
  },
  {
   "cell_type": "code",
   "execution_count": null,
   "id": "27c87889",
   "metadata": {
    "ExecuteTime": {
     "end_time": "2022-10-03T15:16:52.112037Z",
     "start_time": "2022-10-03T15:16:52.086054Z"
    }
   },
   "outputs": [],
   "source": [
    "clientes.columns"
   ]
  },
  {
   "cell_type": "code",
   "execution_count": null,
   "id": "e1295903",
   "metadata": {
    "ExecuteTime": {
     "end_time": "2022-10-05T11:41:48.109991Z",
     "start_time": "2022-10-05T11:41:46.878751Z"
    }
   },
   "outputs": [],
   "source": [
    "clientes.to_csv('clientes.csv')"
   ]
  },
  {
   "cell_type": "markdown",
   "id": "90e0019a",
   "metadata": {
    "ExecuteTime": {
     "end_time": "2022-10-03T14:44:06.581657Z",
     "start_time": "2022-10-03T14:44:06.573663Z"
    }
   },
   "source": [
    "### Cidade"
   ]
  },
  {
   "cell_type": "code",
   "execution_count": null,
   "id": "d6c719de",
   "metadata": {
    "ExecuteTime": {
     "end_time": "2022-10-03T15:16:54.084029Z",
     "start_time": "2022-10-03T15:16:54.039052Z"
    },
    "run_control": {
     "marked": false
    }
   },
   "outputs": [],
   "source": [
    "clientes.customer_city.unique()"
   ]
  },
  {
   "cell_type": "code",
   "execution_count": null,
   "id": "586b97d6",
   "metadata": {
    "ExecuteTime": {
     "end_time": "2022-10-03T15:16:55.584263Z",
     "start_time": "2022-10-03T15:16:55.546283Z"
    }
   },
   "outputs": [],
   "source": [
    "len(clientes.customer_city.unique())"
   ]
  },
  {
   "cell_type": "markdown",
   "id": "f5e1e2b6",
   "metadata": {},
   "source": [
    "### Estado"
   ]
  },
  {
   "cell_type": "code",
   "execution_count": null,
   "id": "dd0c9dc4",
   "metadata": {
    "ExecuteTime": {
     "end_time": "2022-10-03T15:16:57.554691Z",
     "start_time": "2022-10-03T15:16:57.525708Z"
    }
   },
   "outputs": [],
   "source": [
    "clientes.customer_state.unique()"
   ]
  },
  {
   "cell_type": "code",
   "execution_count": null,
   "id": "fbd28eb3",
   "metadata": {
    "ExecuteTime": {
     "end_time": "2022-10-03T15:16:58.580259Z",
     "start_time": "2022-10-03T15:16:58.551275Z"
    }
   },
   "outputs": [],
   "source": [
    "len(clientes.customer_state.unique())"
   ]
  },
  {
   "cell_type": "code",
   "execution_count": null,
   "id": "36fd9c28",
   "metadata": {
    "ExecuteTime": {
     "end_time": "2022-10-03T15:17:00.012575Z",
     "start_time": "2022-10-03T15:16:59.830685Z"
    }
   },
   "outputs": [],
   "source": [
    "clientes.groupby('customer_city').count()['customer_id'].reset_index()"
   ]
  },
  {
   "cell_type": "code",
   "execution_count": null,
   "id": "50b725b7",
   "metadata": {
    "ExecuteTime": {
     "end_time": "2022-10-05T11:51:38.835264Z",
     "start_time": "2022-10-05T11:51:34.331215Z"
    }
   },
   "outputs": [],
   "source": [
    "itens = pd.read_csv(\"Data/itens.csv\") \n",
    "ordens = pd.read_csv(\"Data/ordens.csv\")\n",
    "produtos = pd.read_csv(\"Data/produtos.csv\")\n",
    "geolocal = pd.read_csv(\"Data/geolocal.csv\")\n",
    "clientes = pd.read_csv(\"Data/clientes.csv\")\n",
    "avaliacoes = pd.read_csv('Data/avaliacoes.csv')\n",
    "vendedores = pd.read_csv(\"Data/vendedores.csv\")\n",
    "pagamentos = pd.read_csv(\"Data/pagamentos.csv\")"
   ]
  },
  {
   "cell_type": "code",
   "execution_count": null,
   "id": "8c2948ad",
   "metadata": {
    "ExecuteTime": {
     "end_time": "2022-10-04T14:01:07.166348Z",
     "start_time": "2022-10-04T14:01:07.059682Z"
    }
   },
   "outputs": [],
   "source": [
    "ordens['order_status'].value_counts()"
   ]
  },
  {
   "cell_type": "code",
   "execution_count": null,
   "id": "c9e6651a",
   "metadata": {
    "ExecuteTime": {
     "end_time": "2022-10-04T14:02:27.997584Z",
     "start_time": "2022-10-04T14:02:27.956608Z"
    }
   },
   "outputs": [],
   "source": [
    "avaliacoes.columns\n"
   ]
  },
  {
   "cell_type": "code",
   "execution_count": null,
   "id": "e694b2c5",
   "metadata": {
    "ExecuteTime": {
     "end_time": "2022-10-04T14:03:08.387012Z",
     "start_time": "2022-10-04T14:03:08.274017Z"
    }
   },
   "outputs": [],
   "source": [
    "avaliacoes['review_score'].value_counts()"
   ]
  },
  {
   "cell_type": "code",
   "execution_count": null,
   "id": "424a2383",
   "metadata": {
    "ExecuteTime": {
     "end_time": "2022-10-05T11:52:03.095518Z",
     "start_time": "2022-10-05T11:52:01.334522Z"
    }
   },
   "outputs": [],
   "source": [
    "df.merge(vendedores, on='seller_id')"
   ]
  },
  {
   "cell_type": "code",
   "execution_count": null,
   "id": "665cc5be",
   "metadata": {
    "ExecuteTime": {
     "end_time": "2022-10-04T14:42:47.482567Z",
     "start_time": "2022-10-04T14:42:47.291170Z"
    }
   },
   "outputs": [],
   "source": [
    "pd.merge(ordens,pagamentos, on='order_id')"
   ]
  },
  {
   "cell_type": "code",
   "execution_count": null,
   "id": "27200b10",
   "metadata": {
    "ExecuteTime": {
     "end_time": "2022-10-04T14:45:01.117822Z",
     "start_time": "2022-10-04T14:45:00.671099Z"
    }
   },
   "outputs": [],
   "source": [
    "df.merge(clientes, on='customer_id')"
   ]
  },
  {
   "cell_type": "code",
   "execution_count": null,
   "id": "58dd99ac",
   "metadata": {
    "ExecuteTime": {
     "end_time": "2022-10-04T14:45:23.837045Z",
     "start_time": "2022-10-04T14:45:23.477270Z"
    }
   },
   "outputs": [],
   "source": [
    "df.merge(itens, on='order_id')"
   ]
  },
  {
   "cell_type": "code",
   "execution_count": null,
   "id": "2995bd16",
   "metadata": {},
   "outputs": [],
   "source": []
  },
  {
   "cell_type": "markdown",
   "id": "babe55bd",
   "metadata": {},
   "source": [
    "## Avaliações"
   ]
  },
  {
   "cell_type": "code",
   "execution_count": null,
   "id": "063c7de7",
   "metadata": {
    "ExecuteTime": {
     "end_time": "2022-10-04T13:58:40.523671Z",
     "start_time": "2022-10-04T13:58:39.987823Z"
    }
   },
   "outputs": [],
   "source": [
    "avaliacoes = pd.read_csv('Data/avaliacoes.csv') # reviews"
   ]
  },
  {
   "cell_type": "code",
   "execution_count": null,
   "id": "e666dc40",
   "metadata": {
    "ExecuteTime": {
     "end_time": "2022-10-04T13:58:51.449906Z",
     "start_time": "2022-10-04T13:58:51.428918Z"
    }
   },
   "outputs": [],
   "source": [
    "avaliacoes.shape"
   ]
  },
  {
   "cell_type": "code",
   "execution_count": null,
   "id": "b379ae79",
   "metadata": {
    "ExecuteTime": {
     "end_time": "2022-10-04T13:57:28.600418Z",
     "start_time": "2022-10-04T13:57:28.138016Z"
    }
   },
   "outputs": [],
   "source": [
    "avaliacoes.isnull().sum()"
   ]
  },
  {
   "cell_type": "code",
   "execution_count": null,
   "id": "92bf0c05",
   "metadata": {
    "ExecuteTime": {
     "end_time": "2022-10-04T13:59:01.777064Z",
     "start_time": "2022-10-04T13:59:01.573878Z"
    }
   },
   "outputs": [],
   "source": [
    "avaliacoes.drop_duplicates(inplace=True)"
   ]
  },
  {
   "cell_type": "code",
   "execution_count": null,
   "id": "11778553",
   "metadata": {
    "ExecuteTime": {
     "end_time": "2022-10-04T13:59:02.714656Z",
     "start_time": "2022-10-04T13:59:02.694668Z"
    }
   },
   "outputs": [],
   "source": [
    "avaliacoes.shape"
   ]
  },
  {
   "cell_type": "code",
   "execution_count": null,
   "id": "5e1cf970",
   "metadata": {
    "ExecuteTime": {
     "start_time": "2022-10-04T16:28:36.454Z"
    }
   },
   "outputs": [],
   "source": [
    "df = pd.merge(ordens,pagamentos, on='order_id')\n",
    "df = df.merge(clientes, on='customer_id')\n",
    "df = df.merge(itens, on='order_id')\n",
    "df = df.merge(produtos, on='product_id')\n",
    "df = df.merge(produtos, on='product_category_name')\n",
    "df = df.merge(avaliacoes, on='order_id')\n",
    "df = df.merge(vendedores, on='seller_id')"
   ]
  },
  {
   "cell_type": "code",
   "execution_count": null,
   "id": "6e2641e0",
   "metadata": {},
   "outputs": [],
   "source": []
  },
  {
   "cell_type": "code",
   "execution_count": null,
   "id": "9a781f87",
   "metadata": {
    "ExecuteTime": {
     "end_time": "2022-10-04T14:56:14.445613Z",
     "start_time": "2022-10-04T14:56:14.232745Z"
    }
   },
   "outputs": [],
   "source": [
    "ordens['order_purchase_year'] = ordens['order_purchase_timestamp'].apply(lambda x: x.year)\n",
    "ordens['order_purchase_month'] = ordens['order_purchase_timestamp'].apply(lambda x: x.month)\n",
    "ordens['order_purchase_month_name'] = ordens['order_purchase_timestamp'].apply(lambda x: x.strftime('%b')if x==x else x )\n",
    "ordens['order_purchase_year_month'] = ordens['order_purchase_timestamp'].apply(lambda x: x.strftime('%Y.%m')if x==x else x )\n",
    "ordens['order_purchase_date'] = ordens['order_purchase_timestamp'].apply(lambda x: x.strftime('%Y,%m,%d')if x==x else x )\n",
    "\n",
    "# GETTING VALUES FOR PURCHASE DAY, DAY OF WEEK, AND DAY NAME\n",
    "ordens['order_purchase_day'] = ordens['order_purchase_timestamp'].apply(lambda x: x.day)\n",
    "ordens['order_purchase_dayofweek'] = ordens['order_purchase_timestamp'].apply(lambda x: x.dayofweek)\n",
    "ordens['order_purchase_dayofweek_name'] = ordens['order_purchase_timestamp'].apply(lambda x: x.strftime('%a')if x==x else x )\n",
    "\n",
    "# GETTING VALUES FOR SPECIFIC TIME OF A DAY \n",
    "ordens['order_purchase_hour'] = ordens['order_purchase_timestamp'].apply(lambda x: x.hour)\n",
    "hours_bins = [-0.1, 6, 12, 18, 23]\n",
    "hours_labels = ['Early morning', 'Morning', 'Afternoon', 'Night']\n",
    "ordens['order_purchase_time_day'] = pd.cut(ordens['order_purchase_hour'], hours_bins, labels=hours_labels)\n",
    "ordens[:5]"
   ]
  },
  {
   "cell_type": "code",
   "execution_count": null,
   "id": "14d1796c",
   "metadata": {
    "ExecuteTime": {
     "end_time": "2022-10-04T15:25:17.360465Z",
     "start_time": "2022-10-04T15:25:17.329482Z"
    }
   },
   "outputs": [],
   "source": [
    "ordens['order_purchase_timestamp']"
   ]
  },
  {
   "cell_type": "code",
   "execution_count": null,
   "id": "b1f84bfd",
   "metadata": {
    "ExecuteTime": {
     "end_time": "2022-10-04T15:26:00.490354Z",
     "start_time": "2022-10-04T15:26:00.466369Z"
    }
   },
   "outputs": [],
   "source": [
    "ordens.columns"
   ]
  },
  {
   "cell_type": "code",
   "execution_count": null,
   "id": "33154af5",
   "metadata": {},
   "outputs": [],
   "source": [
    "order_delivered_customer_date_y\n"
   ]
  },
  {
   "cell_type": "code",
   "execution_count": null,
   "id": "ca3500e3",
   "metadata": {},
   "outputs": [],
   "source": [
    "order_estimated_delivery_date_y\n"
   ]
  },
  {
   "cell_type": "markdown",
   "id": "100f4353",
   "metadata": {},
   "source": [
    "## Novo data frame unifica"
   ]
  },
  {
   "cell_type": "code",
   "execution_count": null,
   "id": "2fe7780f",
   "metadata": {
    "ExecuteTime": {
     "end_time": "2022-10-05T12:10:27.057818Z",
     "start_time": "2022-10-05T12:10:23.826056Z"
    }
   },
   "outputs": [],
   "source": [
    "df1 = pd.read_csv('Data/df.csv')"
   ]
  },
  {
   "cell_type": "code",
   "execution_count": null,
   "id": "8c4cc2bd",
   "metadata": {
    "ExecuteTime": {
     "end_time": "2022-10-05T12:11:45.294938Z",
     "start_time": "2022-10-05T12:11:45.009326Z"
    }
   },
   "outputs": [],
   "source": [
    "df1"
   ]
  },
  {
   "cell_type": "code",
   "execution_count": null,
   "id": "1f7316f3",
   "metadata": {
    "ExecuteTime": {
     "end_time": "2022-10-05T12:11:01.892654Z",
     "start_time": "2022-10-05T12:11:00.793460Z"
    }
   },
   "outputs": [],
   "source": [
    "df1.info()"
   ]
  },
  {
   "cell_type": "code",
   "execution_count": null,
   "id": "bed9cd8a",
   "metadata": {
    "ExecuteTime": {
     "end_time": "2022-10-05T12:11:53.774910Z",
     "start_time": "2022-10-05T12:11:53.749924Z"
    }
   },
   "outputs": [],
   "source": [
    "df1['order_delivered_carrier_date_y']"
   ]
  },
  {
   "cell_type": "code",
   "execution_count": null,
   "id": "de7c2f1f",
   "metadata": {
    "ExecuteTime": {
     "end_time": "2022-10-05T12:11:55.344279Z",
     "start_time": "2022-10-05T12:11:55.325292Z"
    }
   },
   "outputs": [],
   "source": [
    "df1['order_estimated_delivery_date_y']"
   ]
  },
  {
   "cell_type": "code",
   "execution_count": null,
   "id": "9197cbfb",
   "metadata": {
    "ExecuteTime": {
     "end_time": "2022-10-05T12:11:58.675647Z",
     "start_time": "2022-10-05T12:11:58.494247Z"
    }
   },
   "outputs": [],
   "source": [
    "times_cols = ['order_estimated_delivery_date_y', 'order_delivered_customer_date_y']\n",
    "for col in times_cols:\n",
    "    df1[col] = pd.to_datetime(df1[col])"
   ]
  },
  {
   "cell_type": "code",
   "execution_count": 71,
   "id": "24bcc266",
   "metadata": {
    "ExecuteTime": {
     "end_time": "2022-10-05T21:46:06.134473Z",
     "start_time": "2022-10-05T21:46:05.755684Z"
    }
   },
   "outputs": [
    {
     "ename": "NameError",
     "evalue": "name 'df' is not defined",
     "output_type": "error",
     "traceback": [
      "\u001b[1;31m---------------------------------------------------------------------------\u001b[0m",
      "\u001b[1;31mNameError\u001b[0m                                 Traceback (most recent call last)",
      "Cell \u001b[1;32mIn [71], line 1\u001b[0m\n\u001b[1;32m----> 1\u001b[0m df\u001b[38;5;241m.\u001b[39mhead()\n",
      "\u001b[1;31mNameError\u001b[0m: name 'df' is not defined"
     ]
    }
   ],
   "source": [
    "df.head()"
   ]
  },
  {
   "cell_type": "code",
   "execution_count": null,
   "id": "48319fd7",
   "metadata": {},
   "outputs": [],
   "source": [
    "times_cols = ['order_estimated_delivery_date_y', 'order_delivered_customer_date_y']\n",
    "for col in times_cols:\n",
    "    df1[col] = pd.to_datetime(df1[col])"
   ]
  },
  {
   "cell_type": "code",
   "execution_count": null,
   "id": "8fa4029c",
   "metadata": {
    "ExecuteTime": {
     "end_time": "2022-10-05T12:11:17.968057Z",
     "start_time": "2022-10-05T12:11:17.935074Z"
    }
   },
   "outputs": [],
   "source": [
    "df1['order_estimated_delivery_date_y']"
   ]
  },
  {
   "cell_type": "code",
   "execution_count": null,
   "id": "92244531",
   "metadata": {
    "ExecuteTime": {
     "end_time": "2022-10-05T12:12:02.182616Z",
     "start_time": "2022-10-05T12:12:02.166625Z"
    },
    "run_control": {
     "marked": false
    }
   },
   "outputs": [],
   "source": [
    "import datetime"
   ]
  },
  {
   "cell_type": "code",
   "execution_count": null,
   "id": "50216429",
   "metadata": {
    "ExecuteTime": {
     "end_time": "2022-10-05T12:11:21.257253Z",
     "start_time": "2022-10-05T12:11:21.205286Z"
    }
   },
   "outputs": [],
   "source": [
    "df1.head(2)"
   ]
  },
  {
   "cell_type": "markdown",
   "id": "3fa95e41",
   "metadata": {},
   "source": [
    "## Diferença entre dias"
   ]
  },
  {
   "cell_type": "code",
   "execution_count": null,
   "id": "f720fa08",
   "metadata": {
    "ExecuteTime": {
     "end_time": "2022-10-05T12:11:25.171203Z",
     "start_time": "2022-10-05T12:11:24.365699Z"
    }
   },
   "outputs": [],
   "source": [
    "df1.info()"
   ]
  },
  {
   "cell_type": "code",
   "execution_count": null,
   "id": "d7890aac",
   "metadata": {
    "ExecuteTime": {
     "end_time": "2022-10-05T12:11:32.504772Z",
     "start_time": "2022-10-05T12:11:32.394842Z"
    }
   },
   "outputs": [],
   "source": [
    "df1.head()"
   ]
  },
  {
   "cell_type": "code",
   "execution_count": null,
   "id": "4abd6462",
   "metadata": {
    "ExecuteTime": {
     "end_time": "2022-10-05T12:12:13.053806Z",
     "start_time": "2022-10-05T12:12:12.873339Z"
    }
   },
   "outputs": [],
   "source": [
    " df1['antecipacao_entrega']= df1['order_estimated_delivery_date_y'] - df1['order_delivered_customer_date_y']"
   ]
  },
  {
   "cell_type": "code",
   "execution_count": null,
   "id": "5790b45f",
   "metadata": {
    "ExecuteTime": {
     "end_time": "2022-10-05T12:12:14.187391Z",
     "start_time": "2022-10-05T12:12:14.165404Z"
    }
   },
   "outputs": [],
   "source": [
    " df1['antecipacao_entrega']"
   ]
  },
  {
   "cell_type": "code",
   "execution_count": null,
   "id": "f26ef24d",
   "metadata": {
    "ExecuteTime": {
     "end_time": "2022-10-04T18:32:15.341102Z",
     "start_time": "2022-10-04T18:32:03.043796Z"
    }
   },
   "outputs": [],
   "source": [
    "import seaborn as sns\n",
    "sns.heatmap(df1.isnull(), cbar=False, cmap='PuBu')"
   ]
  },
  {
   "cell_type": "code",
   "execution_count": null,
   "id": "beba0192",
   "metadata": {
    "ExecuteTime": {
     "start_time": "2022-10-05T10:51:12.217Z"
    },
    "scrolled": true
   },
   "outputs": [],
   "source": [
    "df1.corr()"
   ]
  },
  {
   "cell_type": "markdown",
   "id": "f8f7df3a",
   "metadata": {},
   "source": [
    "## Análise exploratória"
   ]
  },
  {
   "cell_type": "code",
   "execution_count": 15,
   "id": "3e5ad403",
   "metadata": {
    "ExecuteTime": {
     "end_time": "2022-10-05T17:32:17.650846Z",
     "start_time": "2022-10-05T17:32:14.093015Z"
    }
   },
   "outputs": [],
   "source": [
    "df1 = pd.read_csv('Data/df.csv')"
   ]
  },
  {
   "cell_type": "code",
   "execution_count": 16,
   "id": "18bd4b7d",
   "metadata": {
    "ExecuteTime": {
     "end_time": "2022-10-05T17:32:18.464356Z",
     "start_time": "2022-10-05T17:32:18.389405Z"
    }
   },
   "outputs": [
    {
     "data": {
      "text/html": [
       "<div>\n",
       "<style scoped>\n",
       "    .dataframe tbody tr th:only-of-type {\n",
       "        vertical-align: middle;\n",
       "    }\n",
       "\n",
       "    .dataframe tbody tr th {\n",
       "        vertical-align: top;\n",
       "    }\n",
       "\n",
       "    .dataframe thead th {\n",
       "        text-align: right;\n",
       "    }\n",
       "</style>\n",
       "<table border=\"1\" class=\"dataframe\">\n",
       "  <thead>\n",
       "    <tr style=\"text-align: right;\">\n",
       "      <th></th>\n",
       "      <th>Unnamed: 0.1</th>\n",
       "      <th>seller_id</th>\n",
       "      <th>seller_zip_code_prefix</th>\n",
       "      <th>seller_city</th>\n",
       "      <th>seller_state</th>\n",
       "      <th>order_id</th>\n",
       "      <th>order_item_id</th>\n",
       "      <th>product_id</th>\n",
       "      <th>shipping_limit_date</th>\n",
       "      <th>price</th>\n",
       "      <th>...</th>\n",
       "      <th>order_purchase_timestamp_y</th>\n",
       "      <th>order_approved_at_y</th>\n",
       "      <th>order_delivered_carrier_date_y</th>\n",
       "      <th>order_delivered_customer_date_y</th>\n",
       "      <th>order_estimated_delivery_date_y</th>\n",
       "      <th>Unnamed: 0</th>\n",
       "      <th>review_id</th>\n",
       "      <th>review_score</th>\n",
       "      <th>review_creation_date</th>\n",
       "      <th>review_answer_timestamp</th>\n",
       "    </tr>\n",
       "  </thead>\n",
       "  <tbody>\n",
       "    <tr>\n",
       "      <th>0</th>\n",
       "      <td>0</td>\n",
       "      <td>6d803cb79cc31c41c4c789a75933b3c7</td>\n",
       "      <td>14600.0</td>\n",
       "      <td>sao joaquim da barra</td>\n",
       "      <td>SP</td>\n",
       "      <td>73fc7af87114b39712e6da79b0a377eb</td>\n",
       "      <td>1.0</td>\n",
       "      <td>fd25ab760bfbba13c198fa3b4f1a0cd3</td>\n",
       "      <td>2018-01-18 15:47:59</td>\n",
       "      <td>185.0</td>\n",
       "      <td>...</td>\n",
       "      <td>2018-01-11 15:30:49</td>\n",
       "      <td>2018-01-11 15:47:59</td>\n",
       "      <td>2018-01-12 21:57:22</td>\n",
       "      <td>2018-01-17 18:42:41</td>\n",
       "      <td>2018-02-02</td>\n",
       "      <td>0</td>\n",
       "      <td>7bc2406110b926393aa56f80a40eba40</td>\n",
       "      <td>4</td>\n",
       "      <td>2018-01-18 00:00:00</td>\n",
       "      <td>2018-01-18 21:46:59</td>\n",
       "    </tr>\n",
       "    <tr>\n",
       "      <th>1</th>\n",
       "      <td>1</td>\n",
       "      <td>6d803cb79cc31c41c4c789a75933b3c7</td>\n",
       "      <td>14600.0</td>\n",
       "      <td>sao joaquim da barra</td>\n",
       "      <td>SP</td>\n",
       "      <td>73fc7af87114b39712e6da79b0a377eb</td>\n",
       "      <td>2.0</td>\n",
       "      <td>fd25ab760bfbba13c198fa3b4f1a0cd3</td>\n",
       "      <td>2018-01-18 15:47:59</td>\n",
       "      <td>185.0</td>\n",
       "      <td>...</td>\n",
       "      <td>2018-01-11 15:30:49</td>\n",
       "      <td>2018-01-11 15:47:59</td>\n",
       "      <td>2018-01-12 21:57:22</td>\n",
       "      <td>2018-01-17 18:42:41</td>\n",
       "      <td>2018-02-02</td>\n",
       "      <td>0</td>\n",
       "      <td>7bc2406110b926393aa56f80a40eba40</td>\n",
       "      <td>4</td>\n",
       "      <td>2018-01-18 00:00:00</td>\n",
       "      <td>2018-01-18 21:46:59</td>\n",
       "    </tr>\n",
       "  </tbody>\n",
       "</table>\n",
       "<p>2 rows × 37 columns</p>\n",
       "</div>"
      ],
      "text/plain": [
       "   Unnamed: 0.1                         seller_id  seller_zip_code_prefix  \\\n",
       "0             0  6d803cb79cc31c41c4c789a75933b3c7                 14600.0   \n",
       "1             1  6d803cb79cc31c41c4c789a75933b3c7                 14600.0   \n",
       "\n",
       "            seller_city seller_state                          order_id  \\\n",
       "0  sao joaquim da barra           SP  73fc7af87114b39712e6da79b0a377eb   \n",
       "1  sao joaquim da barra           SP  73fc7af87114b39712e6da79b0a377eb   \n",
       "\n",
       "   order_item_id                        product_id  shipping_limit_date  \\\n",
       "0            1.0  fd25ab760bfbba13c198fa3b4f1a0cd3  2018-01-18 15:47:59   \n",
       "1            2.0  fd25ab760bfbba13c198fa3b4f1a0cd3  2018-01-18 15:47:59   \n",
       "\n",
       "   price  ...  order_purchase_timestamp_y  order_approved_at_y  \\\n",
       "0  185.0  ...         2018-01-11 15:30:49  2018-01-11 15:47:59   \n",
       "1  185.0  ...         2018-01-11 15:30:49  2018-01-11 15:47:59   \n",
       "\n",
       "  order_delivered_carrier_date_y order_delivered_customer_date_y  \\\n",
       "0            2018-01-12 21:57:22             2018-01-17 18:42:41   \n",
       "1            2018-01-12 21:57:22             2018-01-17 18:42:41   \n",
       "\n",
       "  order_estimated_delivery_date_y Unnamed: 0  \\\n",
       "0                      2018-02-02          0   \n",
       "1                      2018-02-02          0   \n",
       "\n",
       "                          review_id review_score  review_creation_date  \\\n",
       "0  7bc2406110b926393aa56f80a40eba40            4   2018-01-18 00:00:00   \n",
       "1  7bc2406110b926393aa56f80a40eba40            4   2018-01-18 00:00:00   \n",
       "\n",
       "  review_answer_timestamp  \n",
       "0     2018-01-18 21:46:59  \n",
       "1     2018-01-18 21:46:59  \n",
       "\n",
       "[2 rows x 37 columns]"
      ]
     },
     "execution_count": 16,
     "metadata": {},
     "output_type": "execute_result"
    }
   ],
   "source": [
    "df1.head(2)"
   ]
  },
  {
   "cell_type": "code",
   "execution_count": 17,
   "id": "7117362e",
   "metadata": {
    "ExecuteTime": {
     "end_time": "2022-10-05T17:32:19.043372Z",
     "start_time": "2022-10-05T17:32:19.033379Z"
    }
   },
   "outputs": [
    {
     "name": "stdout",
     "output_type": "stream",
     "text": [
      "Number of rows after merging: 113131\n",
      "Number of columns after merging: 37\n"
     ]
    }
   ],
   "source": [
    "print(\"Number of rows after merging:\",len(df1))\n",
    "print(\"Number of columns after merging:\",len(df1.columns))"
   ]
  },
  {
   "cell_type": "code",
   "execution_count": 18,
   "id": "88dc8f8b",
   "metadata": {
    "ExecuteTime": {
     "end_time": "2022-10-05T17:32:20.600138Z",
     "start_time": "2022-10-05T17:32:19.645740Z"
    }
   },
   "outputs": [
    {
     "data": {
      "text/plain": [
       "Unnamed: 0.1                          0\n",
       "seller_id                           759\n",
       "seller_zip_code_prefix              759\n",
       "seller_city                         759\n",
       "seller_state                        759\n",
       "order_id                              0\n",
       "order_item_id                       759\n",
       "product_id                          759\n",
       "shipping_limit_date                 759\n",
       "price                               759\n",
       "freight_value                       759\n",
       "customer_id_x                         0\n",
       "order_status_x                        0\n",
       "order_purchase_timestamp_x            0\n",
       "order_approved_at_x                   0\n",
       "order_delivered_carrier_date_x        0\n",
       "order_delivered_customer_date_x       0\n",
       "order_estimated_delivery_date_x       0\n",
       "Unnamed: 0_x                       2358\n",
       "product_category_name              2358\n",
       "product_weight_g                   2358\n",
       "product_length_cm                  2358\n",
       "product_height_cm                  2358\n",
       "product_width_cm                   2358\n",
       "Unnamed: 0_y                          0\n",
       "customer_id_y                         0\n",
       "order_status_y                        0\n",
       "order_purchase_timestamp_y            0\n",
       "order_approved_at_y                   0\n",
       "order_delivered_carrier_date_y        0\n",
       "order_delivered_customer_date_y       0\n",
       "order_estimated_delivery_date_y       0\n",
       "Unnamed: 0                            0\n",
       "review_id                             0\n",
       "review_score                          0\n",
       "review_creation_date                  0\n",
       "review_answer_timestamp               0\n",
       "dtype: int64"
      ]
     },
     "execution_count": 18,
     "metadata": {},
     "output_type": "execute_result"
    }
   ],
   "source": [
    "df1.isnull().sum()"
   ]
  },
  {
   "cell_type": "code",
   "execution_count": 19,
   "id": "1bf9dfb4",
   "metadata": {
    "ExecuteTime": {
     "end_time": "2022-10-05T17:32:21.399394Z",
     "start_time": "2022-10-05T17:32:21.152513Z"
    }
   },
   "outputs": [],
   "source": [
    "times_cols = ['order_estimated_delivery_date_y', 'order_delivered_customer_date_y']\n",
    "for col in times_cols:\n",
    "    df1[col] = pd.to_datetime(df1[col])\n"
   ]
  },
  {
   "cell_type": "code",
   "execution_count": 20,
   "id": "fe545307",
   "metadata": {
    "ExecuteTime": {
     "end_time": "2022-10-05T17:32:22.040093Z",
     "start_time": "2022-10-05T17:32:22.021105Z"
    }
   },
   "outputs": [],
   "source": [
    "df1['antecipacao_entrega']= df1['order_estimated_delivery_date_y'] - df1['order_delivered_customer_date_y']"
   ]
  },
  {
   "cell_type": "code",
   "execution_count": 21,
   "id": "3f3cd2e7",
   "metadata": {
    "ExecuteTime": {
     "end_time": "2022-10-05T17:32:22.675706Z",
     "start_time": "2022-10-05T17:32:22.649717Z"
    }
   },
   "outputs": [],
   "source": [
    "df1['antecipacao_entrega'] = df1['antecipacao_entrega'].dt.days"
   ]
  },
  {
   "cell_type": "code",
   "execution_count": 22,
   "id": "6bbd0e58",
   "metadata": {
    "ExecuteTime": {
     "end_time": "2022-10-05T17:32:25.262526Z",
     "start_time": "2022-10-05T17:32:25.178580Z"
    }
   },
   "outputs": [],
   "source": [
    "df_value = df1.groupby('seller_id', as_index=False)['review_score'].std()"
   ]
  },
  {
   "cell_type": "code",
   "execution_count": 23,
   "id": "8d709caa",
   "metadata": {
    "ExecuteTime": {
     "end_time": "2022-10-05T17:32:25.947103Z",
     "start_time": "2022-10-05T17:32:25.880145Z"
    }
   },
   "outputs": [],
   "source": [
    "df3 = pd.DataFrame(df1['seller_id'].value_counts()).merge(df_value, left_index=True, right_on='seller_id')"
   ]
  },
  {
   "cell_type": "code",
   "execution_count": 24,
   "id": "7e036762",
   "metadata": {
    "ExecuteTime": {
     "end_time": "2022-10-05T17:32:26.735704Z",
     "start_time": "2022-10-05T17:32:26.697725Z"
    }
   },
   "outputs": [
    {
     "data": {
      "text/html": [
       "<div>\n",
       "<style scoped>\n",
       "    .dataframe tbody tr th:only-of-type {\n",
       "        vertical-align: middle;\n",
       "    }\n",
       "\n",
       "    .dataframe tbody tr th {\n",
       "        vertical-align: top;\n",
       "    }\n",
       "\n",
       "    .dataframe thead th {\n",
       "        text-align: right;\n",
       "    }\n",
       "</style>\n",
       "<table border=\"1\" class=\"dataframe\">\n",
       "  <thead>\n",
       "    <tr style=\"text-align: right;\">\n",
       "      <th></th>\n",
       "      <th>seller_id</th>\n",
       "      <th>seller_id_x</th>\n",
       "      <th>seller_id_y</th>\n",
       "      <th>review_score</th>\n",
       "    </tr>\n",
       "  </thead>\n",
       "  <tbody>\n",
       "    <tr>\n",
       "      <th>1232</th>\n",
       "      <td>6560211a19b47992c3666cc44a7e94c0</td>\n",
       "      <td>2020</td>\n",
       "      <td>6560211a19b47992c3666cc44a7e94c0</td>\n",
       "      <td>1.408321</td>\n",
       "    </tr>\n",
       "    <tr>\n",
       "      <th>878</th>\n",
       "      <td>4a3ca9315b744ce9f8e9374361493884</td>\n",
       "      <td>1984</td>\n",
       "      <td>4a3ca9315b744ce9f8e9374361493884</td>\n",
       "      <td>1.449560</td>\n",
       "    </tr>\n",
       "    <tr>\n",
       "      <th>368</th>\n",
       "      <td>1f50f920176fa81dab994f9023523100</td>\n",
       "      <td>1932</td>\n",
       "      <td>1f50f920176fa81dab994f9023523100</td>\n",
       "      <td>1.449192</td>\n",
       "    </tr>\n",
       "    <tr>\n",
       "      <th>2476</th>\n",
       "      <td>cc419e0650a3c5ba77189a1882b7556a</td>\n",
       "      <td>1811</td>\n",
       "      <td>cc419e0650a3c5ba77189a1882b7556a</td>\n",
       "      <td>1.365566</td>\n",
       "    </tr>\n",
       "    <tr>\n",
       "      <th>2638</th>\n",
       "      <td>da8622b14eb17ae2831f4ac5b9dab84a</td>\n",
       "      <td>1568</td>\n",
       "      <td>da8622b14eb17ae2831f4ac5b9dab84a</td>\n",
       "      <td>1.347194</td>\n",
       "    </tr>\n",
       "    <tr>\n",
       "      <th>...</th>\n",
       "      <td>...</td>\n",
       "      <td>...</td>\n",
       "      <td>...</td>\n",
       "      <td>...</td>\n",
       "    </tr>\n",
       "    <tr>\n",
       "      <th>2429</th>\n",
       "      <td>c878515173c84a492ebe50d6b493230b</td>\n",
       "      <td>10</td>\n",
       "      <td>c878515173c84a492ebe50d6b493230b</td>\n",
       "      <td>1.686548</td>\n",
       "    </tr>\n",
       "    <tr>\n",
       "      <th>1456</th>\n",
       "      <td>76c47a299e4a8fe992316a85865acbe9</td>\n",
       "      <td>10</td>\n",
       "      <td>76c47a299e4a8fe992316a85865acbe9</td>\n",
       "      <td>0.632456</td>\n",
       "    </tr>\n",
       "    <tr>\n",
       "      <th>1807</th>\n",
       "      <td>9449f25aeaf531019b76999ea49a6949</td>\n",
       "      <td>10</td>\n",
       "      <td>9449f25aeaf531019b76999ea49a6949</td>\n",
       "      <td>1.414214</td>\n",
       "    </tr>\n",
       "    <tr>\n",
       "      <th>1111</th>\n",
       "      <td>5b2e94f2c22b39ccc24d34ad0f669672</td>\n",
       "      <td>10</td>\n",
       "      <td>5b2e94f2c22b39ccc24d34ad0f669672</td>\n",
       "      <td>0.316228</td>\n",
       "    </tr>\n",
       "    <tr>\n",
       "      <th>2995</th>\n",
       "      <td>f8201cab383e484733266d1906e2fdfa</td>\n",
       "      <td>10</td>\n",
       "      <td>f8201cab383e484733266d1906e2fdfa</td>\n",
       "      <td>1.286684</td>\n",
       "    </tr>\n",
       "  </tbody>\n",
       "</table>\n",
       "<p>1379 rows × 4 columns</p>\n",
       "</div>"
      ],
      "text/plain": [
       "                             seller_id  seller_id_x  \\\n",
       "1232  6560211a19b47992c3666cc44a7e94c0         2020   \n",
       "878   4a3ca9315b744ce9f8e9374361493884         1984   \n",
       "368   1f50f920176fa81dab994f9023523100         1932   \n",
       "2476  cc419e0650a3c5ba77189a1882b7556a         1811   \n",
       "2638  da8622b14eb17ae2831f4ac5b9dab84a         1568   \n",
       "...                                ...          ...   \n",
       "2429  c878515173c84a492ebe50d6b493230b           10   \n",
       "1456  76c47a299e4a8fe992316a85865acbe9           10   \n",
       "1807  9449f25aeaf531019b76999ea49a6949           10   \n",
       "1111  5b2e94f2c22b39ccc24d34ad0f669672           10   \n",
       "2995  f8201cab383e484733266d1906e2fdfa           10   \n",
       "\n",
       "                           seller_id_y  review_score  \n",
       "1232  6560211a19b47992c3666cc44a7e94c0      1.408321  \n",
       "878   4a3ca9315b744ce9f8e9374361493884      1.449560  \n",
       "368   1f50f920176fa81dab994f9023523100      1.449192  \n",
       "2476  cc419e0650a3c5ba77189a1882b7556a      1.365566  \n",
       "2638  da8622b14eb17ae2831f4ac5b9dab84a      1.347194  \n",
       "...                                ...           ...  \n",
       "2429  c878515173c84a492ebe50d6b493230b      1.686548  \n",
       "1456  76c47a299e4a8fe992316a85865acbe9      0.632456  \n",
       "1807  9449f25aeaf531019b76999ea49a6949      1.414214  \n",
       "1111  5b2e94f2c22b39ccc24d34ad0f669672      0.316228  \n",
       "2995  f8201cab383e484733266d1906e2fdfa      1.286684  \n",
       "\n",
       "[1379 rows x 4 columns]"
      ]
     },
     "execution_count": 24,
     "metadata": {},
     "output_type": "execute_result"
    }
   ],
   "source": [
    "df3.loc[df3['seller_id_x']>=10]"
   ]
  },
  {
   "cell_type": "code",
   "execution_count": 25,
   "id": "72bf5dc4",
   "metadata": {
    "ExecuteTime": {
     "end_time": "2022-10-05T17:32:31.354365Z",
     "start_time": "2022-10-05T17:32:30.894110Z"
    }
   },
   "outputs": [
    {
     "data": {
      "text/plain": [
       "<AxesSubplot:xlabel='review_score', ylabel='seller_id_x'>"
      ]
     },
     "execution_count": 25,
     "metadata": {},
     "output_type": "execute_result"
    },
    {
     "data": {
      "image/png": "[encoded data removed]",
      "text/plain": [
       "<Figure size 640x480 with 1 Axes>"
      ]
     },
     "metadata": {},
     "output_type": "display_data"
    }
   ],
   "source": [
    "df3.loc[df3['seller_id_x']>=250].plot.scatter(x='review_score', y='seller_id_x')"
   ]
  },
  {
   "cell_type": "code",
   "execution_count": 26,
   "id": "ad770d47",
   "metadata": {
    "ExecuteTime": {
     "end_time": "2022-10-05T17:32:33.959648Z",
     "start_time": "2022-10-05T17:32:33.511472Z"
    }
   },
   "outputs": [
    {
     "data": {
      "text/plain": [
       "<AxesSubplot:ylabel='Frequency'>"
      ]
     },
     "execution_count": 26,
     "metadata": {},
     "output_type": "execute_result"
    },
    {
     "data": {
      "image/png": "[encoded data removed]",
      "text/plain": [
       "<Figure size 640x480 with 1 Axes>"
      ]
     },
     "metadata": {},
     "output_type": "display_data"
    }
   ],
   "source": [
    "df1.loc[df1['seller_id']=='5b2e94f2c22b39ccc24d34ad0f669672','review_score'].plot.hist()"
   ]
  },
  {
   "cell_type": "code",
   "execution_count": 27,
   "id": "81328e09",
   "metadata": {
    "ExecuteTime": {
     "end_time": "2022-10-05T17:32:45.297935Z",
     "start_time": "2022-10-05T17:32:45.285942Z"
    }
   },
   "outputs": [
    {
     "data": {
      "text/plain": [
       "Index(['Unnamed: 0.1', 'seller_id', 'seller_zip_code_prefix', 'seller_city',\n",
       "       'seller_state', 'order_id', 'order_item_id', 'product_id',\n",
       "       'shipping_limit_date', 'price', 'freight_value', 'customer_id_x',\n",
       "       'order_status_x', 'order_purchase_timestamp_x', 'order_approved_at_x',\n",
       "       'order_delivered_carrier_date_x', 'order_delivered_customer_date_x',\n",
       "       'order_estimated_delivery_date_x', 'Unnamed: 0_x',\n",
       "       'product_category_name', 'product_weight_g', 'product_length_cm',\n",
       "       'product_height_cm', 'product_width_cm', 'Unnamed: 0_y',\n",
       "       'customer_id_y', 'order_status_y', 'order_purchase_timestamp_y',\n",
       "       'order_approved_at_y', 'order_delivered_carrier_date_y',\n",
       "       'order_delivered_customer_date_y', 'order_estimated_delivery_date_y',\n",
       "       'Unnamed: 0', 'review_id', 'review_score', 'review_creation_date',\n",
       "       'review_answer_timestamp', 'antecipacao_entrega'],\n",
       "      dtype='object')"
      ]
     },
     "execution_count": 27,
     "metadata": {},
     "output_type": "execute_result"
    }
   ],
   "source": [
    "df1.columns"
   ]
  },
  {
   "cell_type": "code",
   "execution_count": 28,
   "id": "ecb59900",
   "metadata": {
    "ExecuteTime": {
     "end_time": "2022-10-05T17:32:47.302930Z",
     "start_time": "2022-10-05T17:32:47.252050Z"
    }
   },
   "outputs": [],
   "source": [
    "df1['product_weight_g'].fillna(df1['product_weight_g'].median(),inplace=True)\n",
    "df1['product_length_cm'].fillna(df1['product_length_cm'].median(),inplace=True)\n",
    "df1['product_height_cm'].fillna(df1['product_height_cm'].median(),inplace=True)\n",
    "df1['product_width_cm'].fillna(df1['product_width_cm'].median(),inplace=True)"
   ]
  },
  {
   "cell_type": "code",
   "execution_count": 29,
   "id": "083ceb74",
   "metadata": {
    "ExecuteTime": {
     "end_time": "2022-10-05T17:32:49.495035Z",
     "start_time": "2022-10-05T17:32:48.818456Z"
    }
   },
   "outputs": [
    {
     "data": {
      "text/plain": [
       "Unnamed: 0.1                          0\n",
       "seller_id                           759\n",
       "seller_zip_code_prefix              759\n",
       "seller_city                         759\n",
       "seller_state                        759\n",
       "order_id                              0\n",
       "order_item_id                       759\n",
       "product_id                          759\n",
       "shipping_limit_date                 759\n",
       "price                               759\n",
       "freight_value                       759\n",
       "customer_id_x                         0\n",
       "order_status_x                        0\n",
       "order_purchase_timestamp_x            0\n",
       "order_approved_at_x                   0\n",
       "order_delivered_carrier_date_x        0\n",
       "order_delivered_customer_date_x       0\n",
       "order_estimated_delivery_date_x       0\n",
       "Unnamed: 0_x                       2358\n",
       "product_category_name              2358\n",
       "product_weight_g                      0\n",
       "product_length_cm                     0\n",
       "product_height_cm                     0\n",
       "product_width_cm                      0\n",
       "Unnamed: 0_y                          0\n",
       "customer_id_y                         0\n",
       "order_status_y                        0\n",
       "order_purchase_timestamp_y            0\n",
       "order_approved_at_y                   0\n",
       "order_delivered_carrier_date_y        0\n",
       "order_delivered_customer_date_y       0\n",
       "order_estimated_delivery_date_y       0\n",
       "Unnamed: 0                            0\n",
       "review_id                             0\n",
       "review_score                          0\n",
       "review_creation_date                  0\n",
       "review_answer_timestamp               0\n",
       "antecipacao_entrega                   0\n",
       "dtype: int64"
      ]
     },
     "execution_count": 29,
     "metadata": {},
     "output_type": "execute_result"
    }
   ],
   "source": [
    "df1.isnull().sum()"
   ]
  },
  {
   "cell_type": "code",
   "execution_count": 30,
   "id": "55b1c976",
   "metadata": {
    "ExecuteTime": {
     "end_time": "2022-10-05T17:32:52.661138Z",
     "start_time": "2022-10-05T17:32:52.597164Z"
    }
   },
   "outputs": [
    {
     "data": {
      "text/plain": [
       "5    63596\n",
       "4    21348\n",
       "1    14775\n",
       "3     9476\n",
       "2     3936\n",
       "Name: review_score, dtype: int64"
      ]
     },
     "execution_count": 30,
     "metadata": {},
     "output_type": "execute_result"
    }
   ],
   "source": [
    "df1.review_score.value_counts()"
   ]
  },
  {
   "cell_type": "code",
   "execution_count": 31,
   "id": "036a2388",
   "metadata": {
    "ExecuteTime": {
     "end_time": "2022-10-05T17:32:53.832114Z",
     "start_time": "2022-10-05T17:32:53.629959Z"
    }
   },
   "outputs": [],
   "source": [
    "corr_matrix = df1.corr()"
   ]
  },
  {
   "cell_type": "code",
   "execution_count": 32,
   "id": "7566000e",
   "metadata": {
    "ExecuteTime": {
     "end_time": "2022-10-05T17:32:55.434484Z",
     "start_time": "2022-10-05T17:32:55.417496Z"
    }
   },
   "outputs": [
    {
     "data": {
      "text/plain": [
       "review_score              1.000000\n",
       "antecipacao_entrega       0.262672\n",
       "seller_zip_code_prefix    0.025903\n",
       "Unnamed: 0_x              0.006399\n",
       "Unnamed: 0                0.001331\n",
       "Unnamed: 0.1              0.001327\n",
       "Unnamed: 0_y             -0.002894\n",
       "price                    -0.003941\n",
       "product_width_cm         -0.009895\n",
       "product_length_cm        -0.017471\n",
       "product_height_cm        -0.025374\n",
       "product_weight_g         -0.025611\n",
       "freight_value            -0.036179\n",
       "order_item_id            -0.130890\n",
       "Name: review_score, dtype: float64"
      ]
     },
     "execution_count": 32,
     "metadata": {},
     "output_type": "execute_result"
    }
   ],
   "source": [
    "corr_matrix[\"review_score\"].sort_values(ascending=False)"
   ]
  },
  {
   "cell_type": "code",
   "execution_count": 33,
   "id": "36c34abd",
   "metadata": {
    "ExecuteTime": {
     "end_time": "2022-10-05T17:32:57.622493Z",
     "start_time": "2022-10-05T17:32:57.597508Z"
    }
   },
   "outputs": [
    {
     "data": {
      "text/plain": [
       "antecipacao_entrega       1.000000\n",
       "review_score              0.262672\n",
       "seller_zip_code_prefix    0.116573\n",
       "freight_value             0.037186\n",
       "order_item_id             0.026443\n",
       "Unnamed: 0_y              0.002856\n",
       "price                     0.000563\n",
       "product_height_cm        -0.000086\n",
       "product_width_cm         -0.000845\n",
       "Unnamed: 0.1             -0.001881\n",
       "Unnamed: 0               -0.001889\n",
       "Unnamed: 0_x             -0.004271\n",
       "product_length_cm        -0.008824\n",
       "product_weight_g         -0.009564\n",
       "Name: antecipacao_entrega, dtype: float64"
      ]
     },
     "execution_count": 33,
     "metadata": {},
     "output_type": "execute_result"
    }
   ],
   "source": [
    "corr_matrix[\"antecipacao_entrega\"].sort_values(ascending=False)"
   ]
  },
  {
   "cell_type": "markdown",
   "id": "b7a535c4",
   "metadata": {},
   "source": [
    "## Verificando IDs unicos"
   ]
  },
  {
   "cell_type": "code",
   "execution_count": 34,
   "id": "60a0f8ce",
   "metadata": {
    "ExecuteTime": {
     "end_time": "2022-10-05T17:32:59.525178Z",
     "start_time": "2022-10-05T17:32:59.380268Z"
    }
   },
   "outputs": [
    {
     "name": "stdout",
     "output_type": "stream",
     "text": [
      "Número total de seller_id unico: 3091\n",
      "Número total de product_id unico: 32790\n",
      "Número total de customer_id_x unico: 98673\n"
     ]
    }
   ],
   "source": [
    "print(\"Número total de seller_id unico:\",len((df1.seller_id).unique()))\n",
    "print(\"Número total de product_id unico:\",len((df1.product_id).unique()))\n",
    "print(\"Número total de customer_id_x unico:\",len((df1.customer_id_x).unique()))"
   ]
  },
  {
   "cell_type": "markdown",
   "id": "857b32a2",
   "metadata": {
    "ExecuteTime": {
     "end_time": "2022-10-04T22:18:40.487343Z",
     "start_time": "2022-10-04T22:18:40.111250Z"
    }
   },
   "source": [
    "## Gráficos"
   ]
  },
  {
   "cell_type": "code",
   "execution_count": 35,
   "id": "e34a9074",
   "metadata": {
    "ExecuteTime": {
     "end_time": "2022-10-05T17:33:04.396480Z",
     "start_time": "2022-10-05T17:33:00.516783Z"
    }
   },
   "outputs": [
    {
     "data": {
      "image/png": "[encoded data removed]",
      "text/plain": [
       "<Figure size 250x250 with 2 Axes>"
      ]
     },
     "metadata": {},
     "output_type": "display_data"
    }
   ],
   "source": [
    "sns.pairplot(df1[['seller_id', 'antecipacao_entrega']])\n",
    "plt.show()"
   ]
  },
  {
   "cell_type": "code",
   "execution_count": 36,
   "id": "4c307540",
   "metadata": {
    "ExecuteTime": {
     "end_time": "2022-10-05T17:33:09.673934Z",
     "start_time": "2022-10-05T17:33:06.595828Z"
    },
    "scrolled": false
   },
   "outputs": [
    {
     "data": {
      "image/png": "[encoded data removed]",
      "text/plain": [
       "<Figure size 2000x2000 with 2 Axes>"
      ]
     },
     "metadata": {},
     "output_type": "display_data"
    }
   ],
   "source": [
    "import seaborn as sns\n",
    "import matplotlib.pyplot as plt\n",
    "matriz_corr = df1.corr()\n",
    "top_corr_features = matriz_corr.index\n",
    "plt.figure(figsize=(20,20))\n",
    "\n",
    "g=sns.heatmap(df1[top_corr_features].corr(),annot=True,cmap=\"RdYlGn\")"
   ]
  },
  {
   "cell_type": "code",
   "execution_count": 37,
   "id": "6ff1e3bd",
   "metadata": {
    "ExecuteTime": {
     "end_time": "2022-10-05T17:33:12.746596Z",
     "start_time": "2022-10-05T17:33:12.332851Z"
    }
   },
   "outputs": [
    {
     "data": {
      "image/png": "[encoded data removed]",
      "text/plain": [
       "<Figure size 640x480 with 1 Axes>"
      ]
     },
     "metadata": {},
     "output_type": "display_data"
    }
   ],
   "source": [
    "df1['review_score'].plot.hist(title='Distribuição avaliações',cmap='Paired')\n",
    "plt.xticks([1,2,3,4,5])\n",
    "plt.show()"
   ]
  },
  {
   "cell_type": "code",
   "execution_count": 64,
   "id": "d8683a2e",
   "metadata": {
    "ExecuteTime": {
     "end_time": "2022-10-05T19:30:18.540594Z",
     "start_time": "2022-10-05T19:30:18.316733Z"
    }
   },
   "outputs": [
    {
     "data": {
      "text/html": [
       "<div>\n",
       "<style scoped>\n",
       "    .dataframe tbody tr th:only-of-type {\n",
       "        vertical-align: middle;\n",
       "    }\n",
       "\n",
       "    .dataframe tbody tr th {\n",
       "        vertical-align: top;\n",
       "    }\n",
       "\n",
       "    .dataframe thead th {\n",
       "        text-align: right;\n",
       "    }\n",
       "</style>\n",
       "<table border=\"1\" class=\"dataframe\">\n",
       "  <thead>\n",
       "    <tr style=\"text-align: right;\">\n",
       "      <th></th>\n",
       "      <th>Unnamed: 0.1</th>\n",
       "      <th>seller_id</th>\n",
       "      <th>seller_zip_code_prefix</th>\n",
       "      <th>seller_city</th>\n",
       "      <th>seller_state</th>\n",
       "      <th>order_id</th>\n",
       "      <th>order_item_id</th>\n",
       "      <th>product_id</th>\n",
       "      <th>shipping_limit_date</th>\n",
       "      <th>price</th>\n",
       "      <th>...</th>\n",
       "      <th>order_approved_at_y</th>\n",
       "      <th>order_delivered_carrier_date_y</th>\n",
       "      <th>order_delivered_customer_date_y</th>\n",
       "      <th>order_estimated_delivery_date_y</th>\n",
       "      <th>Unnamed: 0</th>\n",
       "      <th>review_id</th>\n",
       "      <th>review_score</th>\n",
       "      <th>review_creation_date</th>\n",
       "      <th>review_answer_timestamp</th>\n",
       "      <th>antecipacao_entrega</th>\n",
       "    </tr>\n",
       "  </thead>\n",
       "  <tbody>\n",
       "    <tr>\n",
       "      <th>0</th>\n",
       "      <td>0</td>\n",
       "      <td>6d803cb79cc31c41c4c789a75933b3c7</td>\n",
       "      <td>14600.0</td>\n",
       "      <td>sao joaquim da barra</td>\n",
       "      <td>SP</td>\n",
       "      <td>73fc7af87114b39712e6da79b0a377eb</td>\n",
       "      <td>1.0</td>\n",
       "      <td>fd25ab760bfbba13c198fa3b4f1a0cd3</td>\n",
       "      <td>2018-01-18 15:47:59</td>\n",
       "      <td>185.00</td>\n",
       "      <td>...</td>\n",
       "      <td>2018-01-11 15:47:59</td>\n",
       "      <td>2018-01-12 21:57:22</td>\n",
       "      <td>2018-01-17 18:42:41</td>\n",
       "      <td>2018-02-02</td>\n",
       "      <td>0</td>\n",
       "      <td>7bc2406110b926393aa56f80a40eba40</td>\n",
       "      <td>4</td>\n",
       "      <td>2018-01-18 00:00:00</td>\n",
       "      <td>2018-01-18 21:46:59</td>\n",
       "      <td>15</td>\n",
       "    </tr>\n",
       "    <tr>\n",
       "      <th>1</th>\n",
       "      <td>1</td>\n",
       "      <td>6d803cb79cc31c41c4c789a75933b3c7</td>\n",
       "      <td>14600.0</td>\n",
       "      <td>sao joaquim da barra</td>\n",
       "      <td>SP</td>\n",
       "      <td>73fc7af87114b39712e6da79b0a377eb</td>\n",
       "      <td>2.0</td>\n",
       "      <td>fd25ab760bfbba13c198fa3b4f1a0cd3</td>\n",
       "      <td>2018-01-18 15:47:59</td>\n",
       "      <td>185.00</td>\n",
       "      <td>...</td>\n",
       "      <td>2018-01-11 15:47:59</td>\n",
       "      <td>2018-01-12 21:57:22</td>\n",
       "      <td>2018-01-17 18:42:41</td>\n",
       "      <td>2018-02-02</td>\n",
       "      <td>0</td>\n",
       "      <td>7bc2406110b926393aa56f80a40eba40</td>\n",
       "      <td>4</td>\n",
       "      <td>2018-01-18 00:00:00</td>\n",
       "      <td>2018-01-18 21:46:59</td>\n",
       "      <td>15</td>\n",
       "    </tr>\n",
       "    <tr>\n",
       "      <th>2</th>\n",
       "      <td>2</td>\n",
       "      <td>8e6d7754bc7e0f22c96d255ebda59eba</td>\n",
       "      <td>12233.0</td>\n",
       "      <td>sao jose dos campos</td>\n",
       "      <td>SP</td>\n",
       "      <td>a548910a1c6147796b98fdf73dbeba33</td>\n",
       "      <td>1.0</td>\n",
       "      <td>be0dbdc3d67d55727a65d4cd696ca73c</td>\n",
       "      <td>2018-03-06 12:48:39</td>\n",
       "      <td>79.79</td>\n",
       "      <td>...</td>\n",
       "      <td>2018-02-28 12:48:39</td>\n",
       "      <td>2018-03-02 19:08:15</td>\n",
       "      <td>2018-03-09 23:17:20</td>\n",
       "      <td>2018-03-14</td>\n",
       "      <td>1</td>\n",
       "      <td>80e641a11e56f04c1ad469d5645fdfde</td>\n",
       "      <td>5</td>\n",
       "      <td>2018-03-10 00:00:00</td>\n",
       "      <td>2018-03-11 03:05:13</td>\n",
       "      <td>4</td>\n",
       "    </tr>\n",
       "    <tr>\n",
       "      <th>3</th>\n",
       "      <td>3</td>\n",
       "      <td>a1043bafd471dff536d0c462352beb48</td>\n",
       "      <td>37175.0</td>\n",
       "      <td>ilicinea</td>\n",
       "      <td>MG</td>\n",
       "      <td>f9e4b658b201a9f2ecdecbb34bed034b</td>\n",
       "      <td>1.0</td>\n",
       "      <td>d1c427060a0f73f6b889a5c7c61f2ac4</td>\n",
       "      <td>2018-02-08 10:31:15</td>\n",
       "      <td>149.00</td>\n",
       "      <td>...</td>\n",
       "      <td>2018-02-03 10:33:41</td>\n",
       "      <td>2018-02-06 16:18:28</td>\n",
       "      <td>2018-02-16 17:28:48</td>\n",
       "      <td>2018-03-09</td>\n",
       "      <td>2</td>\n",
       "      <td>228ce5500dc1d8e020d8d1322874b6f0</td>\n",
       "      <td>5</td>\n",
       "      <td>2018-02-17 00:00:00</td>\n",
       "      <td>2018-02-18 14:36:24</td>\n",
       "      <td>20</td>\n",
       "    </tr>\n",
       "    <tr>\n",
       "      <th>4</th>\n",
       "      <td>4</td>\n",
       "      <td>a1043bafd471dff536d0c462352beb48</td>\n",
       "      <td>37175.0</td>\n",
       "      <td>ilicinea</td>\n",
       "      <td>MG</td>\n",
       "      <td>658677c97b385a9be170737859d3511b</td>\n",
       "      <td>1.0</td>\n",
       "      <td>52c80cedd4e90108bf4fa6a206ef6b03</td>\n",
       "      <td>2017-04-13 17:55:19</td>\n",
       "      <td>179.99</td>\n",
       "      <td>...</td>\n",
       "      <td>2017-04-09 17:55:19</td>\n",
       "      <td>2017-04-10 14:24:47</td>\n",
       "      <td>2017-04-20 09:08:35</td>\n",
       "      <td>2017-05-10</td>\n",
       "      <td>3</td>\n",
       "      <td>e64fb393e7b32834bb789ff8bb30750e</td>\n",
       "      <td>5</td>\n",
       "      <td>2017-04-21 00:00:00</td>\n",
       "      <td>2017-04-21 22:02:06</td>\n",
       "      <td>19</td>\n",
       "    </tr>\n",
       "    <tr>\n",
       "      <th>...</th>\n",
       "      <td>...</td>\n",
       "      <td>...</td>\n",
       "      <td>...</td>\n",
       "      <td>...</td>\n",
       "      <td>...</td>\n",
       "      <td>...</td>\n",
       "      <td>...</td>\n",
       "      <td>...</td>\n",
       "      <td>...</td>\n",
       "      <td>...</td>\n",
       "      <td>...</td>\n",
       "      <td>...</td>\n",
       "      <td>...</td>\n",
       "      <td>...</td>\n",
       "      <td>...</td>\n",
       "      <td>...</td>\n",
       "      <td>...</td>\n",
       "      <td>...</td>\n",
       "      <td>...</td>\n",
       "      <td>...</td>\n",
       "      <td>...</td>\n",
       "    </tr>\n",
       "    <tr>\n",
       "      <th>113126</th>\n",
       "      <td>113126</td>\n",
       "      <td>5343d0649eca2a983820bfe93fc4d17e</td>\n",
       "      <td>9270.0</td>\n",
       "      <td>santo andre</td>\n",
       "      <td>SP</td>\n",
       "      <td>2a8c23fee101d4d5662fa670396eb8da</td>\n",
       "      <td>1.0</td>\n",
       "      <td>4fb209073dc2ab6a6d3c259a7c285501</td>\n",
       "      <td>2018-07-02 17:30:37</td>\n",
       "      <td>226.77</td>\n",
       "      <td>...</td>\n",
       "      <td>2018-06-28 17:30:45</td>\n",
       "      <td>2018-06-29 14:25:00</td>\n",
       "      <td>2018-07-06 13:22:37</td>\n",
       "      <td>2018-07-20</td>\n",
       "      <td>99219</td>\n",
       "      <td>574ed12dd733e5fa530cfd4bbf39d7c9</td>\n",
       "      <td>5</td>\n",
       "      <td>2018-07-07 00:00:00</td>\n",
       "      <td>2018-07-14 17:18:30</td>\n",
       "      <td>13</td>\n",
       "    </tr>\n",
       "    <tr>\n",
       "      <th>113127</th>\n",
       "      <td>113127</td>\n",
       "      <td>46dc3b2cc0980fb8ec44634e21d2718e</td>\n",
       "      <td>22240.0</td>\n",
       "      <td>rio de janeiro</td>\n",
       "      <td>RJ</td>\n",
       "      <td>22ec9f0669f784db00fa86d035cf8602</td>\n",
       "      <td>1.0</td>\n",
       "      <td>3a33c980b62eb1ef3b8ae61b6fc6fe55</td>\n",
       "      <td>2017-12-07 22:08:00</td>\n",
       "      <td>199.99</td>\n",
       "      <td>...</td>\n",
       "      <td>2017-12-03 22:08:00</td>\n",
       "      <td>2017-12-07 19:17:29</td>\n",
       "      <td>2017-12-08 17:19:00</td>\n",
       "      <td>2017-12-20</td>\n",
       "      <td>99220</td>\n",
       "      <td>f3897127253a9592a73be9bdfdf4ed7a</td>\n",
       "      <td>5</td>\n",
       "      <td>2017-12-09 00:00:00</td>\n",
       "      <td>2017-12-11 20:06:42</td>\n",
       "      <td>11</td>\n",
       "    </tr>\n",
       "    <tr>\n",
       "      <th>113128</th>\n",
       "      <td>113128</td>\n",
       "      <td>17ca9b9e9b9ef8fdb529001b49ebb50f</td>\n",
       "      <td>32677.0</td>\n",
       "      <td>betim</td>\n",
       "      <td>MG</td>\n",
       "      <td>55d4004744368f5571d1f590031933e4</td>\n",
       "      <td>1.0</td>\n",
       "      <td>8ba0118a487ec8671aed57e5ef846574</td>\n",
       "      <td>2018-03-22 10:08:04</td>\n",
       "      <td>215.97</td>\n",
       "      <td>...</td>\n",
       "      <td>2018-03-18 10:08:04</td>\n",
       "      <td>2018-03-19 23:51:29</td>\n",
       "      <td>2018-03-21 17:44:08</td>\n",
       "      <td>2018-04-06</td>\n",
       "      <td>99221</td>\n",
       "      <td>b3de70c89b1510c4cd3d0649fd302472</td>\n",
       "      <td>5</td>\n",
       "      <td>2018-03-22 00:00:00</td>\n",
       "      <td>2018-03-23 09:10:43</td>\n",
       "      <td>15</td>\n",
       "    </tr>\n",
       "    <tr>\n",
       "      <th>113129</th>\n",
       "      <td>113129</td>\n",
       "      <td>8d956fec2e4337affcb520f56fd8cbfd</td>\n",
       "      <td>9780.0</td>\n",
       "      <td>sao bernardo do campo</td>\n",
       "      <td>SP</td>\n",
       "      <td>7725825d039fc1f0ceb7635e3f7d9206</td>\n",
       "      <td>1.0</td>\n",
       "      <td>73a7fbf8c1048131f3b531af31bcdf0e</td>\n",
       "      <td>2018-06-26 18:15:29</td>\n",
       "      <td>50.95</td>\n",
       "      <td>...</td>\n",
       "      <td>2018-06-22 18:15:29</td>\n",
       "      <td>2018-06-25 12:58:00</td>\n",
       "      <td>2018-06-30 12:57:51</td>\n",
       "      <td>2018-07-16</td>\n",
       "      <td>99222</td>\n",
       "      <td>1adeb9d84d72fe4e337617733eb85149</td>\n",
       "      <td>4</td>\n",
       "      <td>2018-07-01 00:00:00</td>\n",
       "      <td>2018-07-02 12:59:13</td>\n",
       "      <td>15</td>\n",
       "    </tr>\n",
       "    <tr>\n",
       "      <th>113130</th>\n",
       "      <td>113130</td>\n",
       "      <td>7e3f87d16fb353f408d467e74fbd8014</td>\n",
       "      <td>4809.0</td>\n",
       "      <td>sao paulo</td>\n",
       "      <td>SP</td>\n",
       "      <td>90531360ecb1eec2a1fbb265a0db0508</td>\n",
       "      <td>1.0</td>\n",
       "      <td>8fbd36d3b045f5f38b252b1513478f38</td>\n",
       "      <td>2017-07-06 02:45:15</td>\n",
       "      <td>32.90</td>\n",
       "      <td>...</td>\n",
       "      <td>2017-06-30 02:45:15</td>\n",
       "      <td>2017-06-30 13:53:54</td>\n",
       "      <td>2017-07-02 09:44:54</td>\n",
       "      <td>2017-07-12</td>\n",
       "      <td>99223</td>\n",
       "      <td>efe49f1d6f951dd88b51e6ccd4cc548f</td>\n",
       "      <td>1</td>\n",
       "      <td>2017-07-03 00:00:00</td>\n",
       "      <td>2017-07-03 21:01:49</td>\n",
       "      <td>9</td>\n",
       "    </tr>\n",
       "  </tbody>\n",
       "</table>\n",
       "<p>113131 rows × 38 columns</p>\n",
       "</div>"
      ],
      "text/plain": [
       "        Unnamed: 0.1                         seller_id  \\\n",
       "0                  0  6d803cb79cc31c41c4c789a75933b3c7   \n",
       "1                  1  6d803cb79cc31c41c4c789a75933b3c7   \n",
       "2                  2  8e6d7754bc7e0f22c96d255ebda59eba   \n",
       "3                  3  a1043bafd471dff536d0c462352beb48   \n",
       "4                  4  a1043bafd471dff536d0c462352beb48   \n",
       "...              ...                               ...   \n",
       "113126        113126  5343d0649eca2a983820bfe93fc4d17e   \n",
       "113127        113127  46dc3b2cc0980fb8ec44634e21d2718e   \n",
       "113128        113128  17ca9b9e9b9ef8fdb529001b49ebb50f   \n",
       "113129        113129  8d956fec2e4337affcb520f56fd8cbfd   \n",
       "113130        113130  7e3f87d16fb353f408d467e74fbd8014   \n",
       "\n",
       "        seller_zip_code_prefix            seller_city seller_state  \\\n",
       "0                      14600.0   sao joaquim da barra           SP   \n",
       "1                      14600.0   sao joaquim da barra           SP   \n",
       "2                      12233.0    sao jose dos campos           SP   \n",
       "3                      37175.0               ilicinea           MG   \n",
       "4                      37175.0               ilicinea           MG   \n",
       "...                        ...                    ...          ...   \n",
       "113126                  9270.0            santo andre           SP   \n",
       "113127                 22240.0         rio de janeiro           RJ   \n",
       "113128                 32677.0                  betim           MG   \n",
       "113129                  9780.0  sao bernardo do campo           SP   \n",
       "113130                  4809.0              sao paulo           SP   \n",
       "\n",
       "                                order_id  order_item_id  \\\n",
       "0       73fc7af87114b39712e6da79b0a377eb            1.0   \n",
       "1       73fc7af87114b39712e6da79b0a377eb            2.0   \n",
       "2       a548910a1c6147796b98fdf73dbeba33            1.0   \n",
       "3       f9e4b658b201a9f2ecdecbb34bed034b            1.0   \n",
       "4       658677c97b385a9be170737859d3511b            1.0   \n",
       "...                                  ...            ...   \n",
       "113126  2a8c23fee101d4d5662fa670396eb8da            1.0   \n",
       "113127  22ec9f0669f784db00fa86d035cf8602            1.0   \n",
       "113128  55d4004744368f5571d1f590031933e4            1.0   \n",
       "113129  7725825d039fc1f0ceb7635e3f7d9206            1.0   \n",
       "113130  90531360ecb1eec2a1fbb265a0db0508            1.0   \n",
       "\n",
       "                              product_id  shipping_limit_date   price  ...  \\\n",
       "0       fd25ab760bfbba13c198fa3b4f1a0cd3  2018-01-18 15:47:59  185.00  ...   \n",
       "1       fd25ab760bfbba13c198fa3b4f1a0cd3  2018-01-18 15:47:59  185.00  ...   \n",
       "2       be0dbdc3d67d55727a65d4cd696ca73c  2018-03-06 12:48:39   79.79  ...   \n",
       "3       d1c427060a0f73f6b889a5c7c61f2ac4  2018-02-08 10:31:15  149.00  ...   \n",
       "4       52c80cedd4e90108bf4fa6a206ef6b03  2017-04-13 17:55:19  179.99  ...   \n",
       "...                                  ...                  ...     ...  ...   \n",
       "113126  4fb209073dc2ab6a6d3c259a7c285501  2018-07-02 17:30:37  226.77  ...   \n",
       "113127  3a33c980b62eb1ef3b8ae61b6fc6fe55  2017-12-07 22:08:00  199.99  ...   \n",
       "113128  8ba0118a487ec8671aed57e5ef846574  2018-03-22 10:08:04  215.97  ...   \n",
       "113129  73a7fbf8c1048131f3b531af31bcdf0e  2018-06-26 18:15:29   50.95  ...   \n",
       "113130  8fbd36d3b045f5f38b252b1513478f38  2017-07-06 02:45:15   32.90  ...   \n",
       "\n",
       "        order_approved_at_y order_delivered_carrier_date_y  \\\n",
       "0       2018-01-11 15:47:59            2018-01-12 21:57:22   \n",
       "1       2018-01-11 15:47:59            2018-01-12 21:57:22   \n",
       "2       2018-02-28 12:48:39            2018-03-02 19:08:15   \n",
       "3       2018-02-03 10:33:41            2018-02-06 16:18:28   \n",
       "4       2017-04-09 17:55:19            2017-04-10 14:24:47   \n",
       "...                     ...                            ...   \n",
       "113126  2018-06-28 17:30:45            2018-06-29 14:25:00   \n",
       "113127  2017-12-03 22:08:00            2017-12-07 19:17:29   \n",
       "113128  2018-03-18 10:08:04            2018-03-19 23:51:29   \n",
       "113129  2018-06-22 18:15:29            2018-06-25 12:58:00   \n",
       "113130  2017-06-30 02:45:15            2017-06-30 13:53:54   \n",
       "\n",
       "       order_delivered_customer_date_y order_estimated_delivery_date_y  \\\n",
       "0                  2018-01-17 18:42:41                      2018-02-02   \n",
       "1                  2018-01-17 18:42:41                      2018-02-02   \n",
       "2                  2018-03-09 23:17:20                      2018-03-14   \n",
       "3                  2018-02-16 17:28:48                      2018-03-09   \n",
       "4                  2017-04-20 09:08:35                      2017-05-10   \n",
       "...                                ...                             ...   \n",
       "113126             2018-07-06 13:22:37                      2018-07-20   \n",
       "113127             2017-12-08 17:19:00                      2017-12-20   \n",
       "113128             2018-03-21 17:44:08                      2018-04-06   \n",
       "113129             2018-06-30 12:57:51                      2018-07-16   \n",
       "113130             2017-07-02 09:44:54                      2017-07-12   \n",
       "\n",
       "       Unnamed: 0                         review_id review_score  \\\n",
       "0               0  7bc2406110b926393aa56f80a40eba40            4   \n",
       "1               0  7bc2406110b926393aa56f80a40eba40            4   \n",
       "2               1  80e641a11e56f04c1ad469d5645fdfde            5   \n",
       "3               2  228ce5500dc1d8e020d8d1322874b6f0            5   \n",
       "4               3  e64fb393e7b32834bb789ff8bb30750e            5   \n",
       "...           ...                               ...          ...   \n",
       "113126      99219  574ed12dd733e5fa530cfd4bbf39d7c9            5   \n",
       "113127      99220  f3897127253a9592a73be9bdfdf4ed7a            5   \n",
       "113128      99221  b3de70c89b1510c4cd3d0649fd302472            5   \n",
       "113129      99222  1adeb9d84d72fe4e337617733eb85149            4   \n",
       "113130      99223  efe49f1d6f951dd88b51e6ccd4cc548f            1   \n",
       "\n",
       "       review_creation_date  review_answer_timestamp antecipacao_entrega  \n",
       "0       2018-01-18 00:00:00      2018-01-18 21:46:59                  15  \n",
       "1       2018-01-18 00:00:00      2018-01-18 21:46:59                  15  \n",
       "2       2018-03-10 00:00:00      2018-03-11 03:05:13                   4  \n",
       "3       2018-02-17 00:00:00      2018-02-18 14:36:24                  20  \n",
       "4       2017-04-21 00:00:00      2017-04-21 22:02:06                  19  \n",
       "...                     ...                      ...                 ...  \n",
       "113126  2018-07-07 00:00:00      2018-07-14 17:18:30                  13  \n",
       "113127  2017-12-09 00:00:00      2017-12-11 20:06:42                  11  \n",
       "113128  2018-03-22 00:00:00      2018-03-23 09:10:43                  15  \n",
       "113129  2018-07-01 00:00:00      2018-07-02 12:59:13                  15  \n",
       "113130  2017-07-03 00:00:00      2017-07-03 21:01:49                   9  \n",
       "\n",
       "[113131 rows x 38 columns]"
      ]
     },
     "execution_count": 64,
     "metadata": {},
     "output_type": "execute_result"
    }
   ],
   "source": [
    "df1"
   ]
  },
  {
   "cell_type": "code",
   "execution_count": 38,
   "id": "f7fc38ab",
   "metadata": {
    "ExecuteTime": {
     "end_time": "2022-10-05T17:33:20.521745Z",
     "start_time": "2022-10-05T17:33:14.805266Z"
    }
   },
   "outputs": [
    {
     "data": {
      "image/png": "[encoded data removed]",
      "text/plain": [
       "<Figure size 601.361x500 with 1 Axes>"
      ]
     },
     "metadata": {},
     "output_type": "display_data"
    }
   ],
   "source": [
    "sns.displot(data=df1, x=\"antecipacao_entrega\", hue=\"review_score\", palette='PiYG', bins=150)\n",
    "plt.xlim((-50,50))\n",
    "plt.show()"
   ]
  },
  {
   "cell_type": "code",
   "execution_count": 39,
   "id": "f4834772",
   "metadata": {
    "ExecuteTime": {
     "end_time": "2022-10-05T17:33:28.209570Z",
     "start_time": "2022-10-05T17:33:22.631291Z"
    }
   },
   "outputs": [
    {
     "data": {
      "image/png": "[encoded data removed]",
      "text/plain": [
       "<Figure size 601.361x500 with 1 Axes>"
      ]
     },
     "metadata": {},
     "output_type": "display_data"
    }
   ],
   "source": [
    "sns.displot(data=df1, x=\"antecipacao_entrega\", hue=\"review_score\", palette='PiYG', bins=150)\n",
    "plt.xlim((-50,50))\n",
    "plt.ylim((0,2000))\n",
    "\n",
    "plt.show()"
   ]
  },
  {
   "cell_type": "markdown",
   "id": "12d17740",
   "metadata": {},
   "source": [
    "Quando o tempo de entrega real é maior do que o esperado, o número de avaliações insatisfeitas aumenta notavelmente."
   ]
  },
  {
   "cell_type": "markdown",
   "id": "1df31622",
   "metadata": {},
   "source": [
    "## Analisando categoria com score"
   ]
  },
  {
   "cell_type": "markdown",
   "id": "74b235bc",
   "metadata": {},
   "source": [
    "Filtro para mostrar apenas categorias com mais de 50 avaliações"
   ]
  },
  {
   "cell_type": "code",
   "execution_count": 40,
   "id": "3679220c",
   "metadata": {
    "ExecuteTime": {
     "end_time": "2022-10-05T17:33:45.959769Z",
     "start_time": "2022-10-05T17:33:45.859830Z"
    }
   },
   "outputs": [
    {
     "data": {
      "text/html": [
       "<div>\n",
       "<style scoped>\n",
       "    .dataframe tbody tr th:only-of-type {\n",
       "        vertical-align: middle;\n",
       "    }\n",
       "\n",
       "    .dataframe tbody tr th {\n",
       "        vertical-align: top;\n",
       "    }\n",
       "\n",
       "    .dataframe thead th {\n",
       "        text-align: right;\n",
       "    }\n",
       "</style>\n",
       "<table border=\"1\" class=\"dataframe\">\n",
       "  <thead>\n",
       "    <tr style=\"text-align: right;\">\n",
       "      <th></th>\n",
       "      <th>product_category_name</th>\n",
       "      <th>count</th>\n",
       "      <th>mean</th>\n",
       "    </tr>\n",
       "  </thead>\n",
       "  <tbody>\n",
       "    <tr>\n",
       "      <th>48</th>\n",
       "      <td>livros_interesse_geral</td>\n",
       "      <td>549</td>\n",
       "      <td>4.446266</td>\n",
       "    </tr>\n",
       "    <tr>\n",
       "      <th>22</th>\n",
       "      <td>construcao_ferramentas_ferramentas</td>\n",
       "      <td>99</td>\n",
       "      <td>4.444444</td>\n",
       "    </tr>\n",
       "    <tr>\n",
       "      <th>47</th>\n",
       "      <td>livros_importados</td>\n",
       "      <td>60</td>\n",
       "      <td>4.400000</td>\n",
       "    </tr>\n",
       "    <tr>\n",
       "      <th>49</th>\n",
       "      <td>livros_tecnicos</td>\n",
       "      <td>266</td>\n",
       "      <td>4.368421</td>\n",
       "    </tr>\n",
       "    <tr>\n",
       "      <th>2</th>\n",
       "      <td>alimentos_bebidas</td>\n",
       "      <td>279</td>\n",
       "      <td>4.315412</td>\n",
       "    </tr>\n",
       "    <tr>\n",
       "      <th>50</th>\n",
       "      <td>malas_acessorios</td>\n",
       "      <td>1088</td>\n",
       "      <td>4.315257</td>\n",
       "    </tr>\n",
       "    <tr>\n",
       "      <th>64</th>\n",
       "      <td>portateis_casa_forno_e_cafe</td>\n",
       "      <td>76</td>\n",
       "      <td>4.302632</td>\n",
       "    </tr>\n",
       "    <tr>\n",
       "      <th>34</th>\n",
       "      <td>fashion_calcados</td>\n",
       "      <td>261</td>\n",
       "      <td>4.233716</td>\n",
       "    </tr>\n",
       "    <tr>\n",
       "      <th>1</th>\n",
       "      <td>alimentos</td>\n",
       "      <td>495</td>\n",
       "      <td>4.218182</td>\n",
       "    </tr>\n",
       "    <tr>\n",
       "      <th>18</th>\n",
       "      <td>cine_foto</td>\n",
       "      <td>73</td>\n",
       "      <td>4.205479</td>\n",
       "    </tr>\n",
       "    <tr>\n",
       "      <th>59</th>\n",
       "      <td>papelaria</td>\n",
       "      <td>2507</td>\n",
       "      <td>4.193857</td>\n",
       "    </tr>\n",
       "    <tr>\n",
       "      <th>63</th>\n",
       "      <td>pet_shop</td>\n",
       "      <td>1939</td>\n",
       "      <td>4.185147</td>\n",
       "    </tr>\n",
       "    <tr>\n",
       "      <th>61</th>\n",
       "      <td>pcs</td>\n",
       "      <td>200</td>\n",
       "      <td>4.175000</td>\n",
       "    </tr>\n",
       "    <tr>\n",
       "      <th>28</th>\n",
       "      <td>eletrodomesticos</td>\n",
       "      <td>806</td>\n",
       "      <td>4.172457</td>\n",
       "    </tr>\n",
       "    <tr>\n",
       "      <th>62</th>\n",
       "      <td>perfumaria</td>\n",
       "      <td>3421</td>\n",
       "      <td>4.161941</td>\n",
       "    </tr>\n",
       "    <tr>\n",
       "      <th>12</th>\n",
       "      <td>brinquedos</td>\n",
       "      <td>4091</td>\n",
       "      <td>4.158641</td>\n",
       "    </tr>\n",
       "    <tr>\n",
       "      <th>45</th>\n",
       "      <td>instrumentos_musicais</td>\n",
       "      <td>675</td>\n",
       "      <td>4.152593</td>\n",
       "    </tr>\n",
       "    <tr>\n",
       "      <th>31</th>\n",
       "      <td>eletroportateis</td>\n",
       "      <td>677</td>\n",
       "      <td>4.149188</td>\n",
       "    </tr>\n",
       "    <tr>\n",
       "      <th>26</th>\n",
       "      <td>cool_stuff</td>\n",
       "      <td>3772</td>\n",
       "      <td>4.146341</td>\n",
       "    </tr>\n",
       "    <tr>\n",
       "      <th>33</th>\n",
       "      <td>fashion_bolsas_e_acessorios</td>\n",
       "      <td>2039</td>\n",
       "      <td>4.144679</td>\n",
       "    </tr>\n",
       "    <tr>\n",
       "      <th>29</th>\n",
       "      <td>eletrodomesticos_2</td>\n",
       "      <td>238</td>\n",
       "      <td>4.142857</td>\n",
       "    </tr>\n",
       "    <tr>\n",
       "      <th>11</th>\n",
       "      <td>beleza_saude</td>\n",
       "      <td>9645</td>\n",
       "      <td>4.142768</td>\n",
       "    </tr>\n",
       "    <tr>\n",
       "      <th>69</th>\n",
       "      <td>tablets_impressao_imagem</td>\n",
       "      <td>81</td>\n",
       "      <td>4.123457</td>\n",
       "    </tr>\n",
       "    <tr>\n",
       "      <th>56</th>\n",
       "      <td>moveis_quarto</td>\n",
       "      <td>110</td>\n",
       "      <td>4.118182</td>\n",
       "    </tr>\n",
       "    <tr>\n",
       "      <th>32</th>\n",
       "      <td>esporte_lazer</td>\n",
       "      <td>8640</td>\n",
       "      <td>4.107986</td>\n",
       "    </tr>\n",
       "    <tr>\n",
       "      <th>43</th>\n",
       "      <td>industria_comercio_e_negocios</td>\n",
       "      <td>266</td>\n",
       "      <td>4.101504</td>\n",
       "    </tr>\n",
       "    <tr>\n",
       "      <th>68</th>\n",
       "      <td>sinalizacao_e_seguranca</td>\n",
       "      <td>197</td>\n",
       "      <td>4.086294</td>\n",
       "    </tr>\n",
       "    <tr>\n",
       "      <th>27</th>\n",
       "      <td>dvds_blu_ray</td>\n",
       "      <td>63</td>\n",
       "      <td>4.079365</td>\n",
       "    </tr>\n",
       "    <tr>\n",
       "      <th>8</th>\n",
       "      <td>automotivo</td>\n",
       "      <td>4213</td>\n",
       "      <td>4.065512</td>\n",
       "    </tr>\n",
       "    <tr>\n",
       "      <th>72</th>\n",
       "      <td>utilidades_domesticas</td>\n",
       "      <td>6943</td>\n",
       "      <td>4.055019</td>\n",
       "    </tr>\n",
       "    <tr>\n",
       "      <th>24</th>\n",
       "      <td>construcao_ferramentas_jardim</td>\n",
       "      <td>240</td>\n",
       "      <td>4.054167</td>\n",
       "    </tr>\n",
       "    <tr>\n",
       "      <th>23</th>\n",
       "      <td>construcao_ferramentas_iluminacao</td>\n",
       "      <td>296</td>\n",
       "      <td>4.054054</td>\n",
       "    </tr>\n",
       "    <tr>\n",
       "      <th>21</th>\n",
       "      <td>construcao_ferramentas_construcao</td>\n",
       "      <td>926</td>\n",
       "      <td>4.052916</td>\n",
       "    </tr>\n",
       "    <tr>\n",
       "      <th>10</th>\n",
       "      <td>bebidas</td>\n",
       "      <td>377</td>\n",
       "      <td>4.047745</td>\n",
       "    </tr>\n",
       "    <tr>\n",
       "      <th>40</th>\n",
       "      <td>ferramentas_jardim</td>\n",
       "      <td>4329</td>\n",
       "      <td>4.042735</td>\n",
       "    </tr>\n",
       "    <tr>\n",
       "      <th>30</th>\n",
       "      <td>eletronicos</td>\n",
       "      <td>2749</td>\n",
       "      <td>4.037468</td>\n",
       "    </tr>\n",
       "    <tr>\n",
       "      <th>20</th>\n",
       "      <td>consoles_games</td>\n",
       "      <td>1127</td>\n",
       "      <td>4.023070</td>\n",
       "    </tr>\n",
       "    <tr>\n",
       "      <th>6</th>\n",
       "      <td>artigos_de_natal</td>\n",
       "      <td>146</td>\n",
       "      <td>4.020548</td>\n",
       "    </tr>\n",
       "    <tr>\n",
       "      <th>51</th>\n",
       "      <td>market_place</td>\n",
       "      <td>309</td>\n",
       "      <td>4.019417</td>\n",
       "    </tr>\n",
       "    <tr>\n",
       "      <th>66</th>\n",
       "      <td>relogios_presentes</td>\n",
       "      <td>5950</td>\n",
       "      <td>4.019160</td>\n",
       "    </tr>\n",
       "    <tr>\n",
       "      <th>9</th>\n",
       "      <td>bebes</td>\n",
       "      <td>3047</td>\n",
       "      <td>4.011487</td>\n",
       "    </tr>\n",
       "    <tr>\n",
       "      <th>0</th>\n",
       "      <td>agro_industria_e_comercio</td>\n",
       "      <td>212</td>\n",
       "      <td>4.000000</td>\n",
       "    </tr>\n",
       "    <tr>\n",
       "      <th>39</th>\n",
       "      <td>fashion_underwear_e_moda_praia</td>\n",
       "      <td>130</td>\n",
       "      <td>3.976923</td>\n",
       "    </tr>\n",
       "    <tr>\n",
       "      <th>19</th>\n",
       "      <td>climatizacao</td>\n",
       "      <td>292</td>\n",
       "      <td>3.969178</td>\n",
       "    </tr>\n",
       "    <tr>\n",
       "      <th>53</th>\n",
       "      <td>moveis_cozinha_area_de_servico_jantar_e_jardim</td>\n",
       "      <td>280</td>\n",
       "      <td>3.964286</td>\n",
       "    </tr>\n",
       "    <tr>\n",
       "      <th>70</th>\n",
       "      <td>telefonia</td>\n",
       "      <td>4517</td>\n",
       "      <td>3.946867</td>\n",
       "    </tr>\n",
       "    <tr>\n",
       "      <th>16</th>\n",
       "      <td>casa_construcao</td>\n",
       "      <td>600</td>\n",
       "      <td>3.940000</td>\n",
       "    </tr>\n",
       "    <tr>\n",
       "      <th>3</th>\n",
       "      <td>artes</td>\n",
       "      <td>207</td>\n",
       "      <td>3.937198</td>\n",
       "    </tr>\n",
       "    <tr>\n",
       "      <th>44</th>\n",
       "      <td>informatica_acessorios</td>\n",
       "      <td>7849</td>\n",
       "      <td>3.930819</td>\n",
       "    </tr>\n",
       "    <tr>\n",
       "      <th>57</th>\n",
       "      <td>moveis_sala</td>\n",
       "      <td>502</td>\n",
       "      <td>3.904382</td>\n",
       "    </tr>\n",
       "    <tr>\n",
       "      <th>54</th>\n",
       "      <td>moveis_decoracao</td>\n",
       "      <td>8331</td>\n",
       "      <td>3.903493</td>\n",
       "    </tr>\n",
       "    <tr>\n",
       "      <th>13</th>\n",
       "      <td>cama_mesa_banho</td>\n",
       "      <td>11137</td>\n",
       "      <td>3.895663</td>\n",
       "    </tr>\n",
       "    <tr>\n",
       "      <th>25</th>\n",
       "      <td>construcao_ferramentas_seguranca</td>\n",
       "      <td>193</td>\n",
       "      <td>3.844560</td>\n",
       "    </tr>\n",
       "    <tr>\n",
       "      <th>14</th>\n",
       "      <td>casa_conforto</td>\n",
       "      <td>435</td>\n",
       "      <td>3.829885</td>\n",
       "    </tr>\n",
       "    <tr>\n",
       "      <th>7</th>\n",
       "      <td>audio</td>\n",
       "      <td>361</td>\n",
       "      <td>3.825485</td>\n",
       "    </tr>\n",
       "    <tr>\n",
       "      <th>71</th>\n",
       "      <td>telefonia_fixa</td>\n",
       "      <td>262</td>\n",
       "      <td>3.683206</td>\n",
       "    </tr>\n",
       "    <tr>\n",
       "      <th>38</th>\n",
       "      <td>fashion_roupa_masculina</td>\n",
       "      <td>131</td>\n",
       "      <td>3.641221</td>\n",
       "    </tr>\n",
       "    <tr>\n",
       "      <th>55</th>\n",
       "      <td>moveis_escritorio</td>\n",
       "      <td>1687</td>\n",
       "      <td>3.493183</td>\n",
       "    </tr>\n",
       "  </tbody>\n",
       "</table>\n",
       "</div>"
      ],
      "text/plain": [
       "                             product_category_name  count      mean\n",
       "48                          livros_interesse_geral    549  4.446266\n",
       "22              construcao_ferramentas_ferramentas     99  4.444444\n",
       "47                               livros_importados     60  4.400000\n",
       "49                                 livros_tecnicos    266  4.368421\n",
       "2                                alimentos_bebidas    279  4.315412\n",
       "50                                malas_acessorios   1088  4.315257\n",
       "64                     portateis_casa_forno_e_cafe     76  4.302632\n",
       "34                                fashion_calcados    261  4.233716\n",
       "1                                        alimentos    495  4.218182\n",
       "18                                       cine_foto     73  4.205479\n",
       "59                                       papelaria   2507  4.193857\n",
       "63                                        pet_shop   1939  4.185147\n",
       "61                                             pcs    200  4.175000\n",
       "28                                eletrodomesticos    806  4.172457\n",
       "62                                      perfumaria   3421  4.161941\n",
       "12                                      brinquedos   4091  4.158641\n",
       "45                           instrumentos_musicais    675  4.152593\n",
       "31                                 eletroportateis    677  4.149188\n",
       "26                                      cool_stuff   3772  4.146341\n",
       "33                     fashion_bolsas_e_acessorios   2039  4.144679\n",
       "29                              eletrodomesticos_2    238  4.142857\n",
       "11                                    beleza_saude   9645  4.142768\n",
       "69                        tablets_impressao_imagem     81  4.123457\n",
       "56                                   moveis_quarto    110  4.118182\n",
       "32                                   esporte_lazer   8640  4.107986\n",
       "43                   industria_comercio_e_negocios    266  4.101504\n",
       "68                         sinalizacao_e_seguranca    197  4.086294\n",
       "27                                    dvds_blu_ray     63  4.079365\n",
       "8                                       automotivo   4213  4.065512\n",
       "72                           utilidades_domesticas   6943  4.055019\n",
       "24                   construcao_ferramentas_jardim    240  4.054167\n",
       "23               construcao_ferramentas_iluminacao    296  4.054054\n",
       "21               construcao_ferramentas_construcao    926  4.052916\n",
       "10                                         bebidas    377  4.047745\n",
       "40                              ferramentas_jardim   4329  4.042735\n",
       "30                                     eletronicos   2749  4.037468\n",
       "20                                  consoles_games   1127  4.023070\n",
       "6                                 artigos_de_natal    146  4.020548\n",
       "51                                    market_place    309  4.019417\n",
       "66                              relogios_presentes   5950  4.019160\n",
       "9                                            bebes   3047  4.011487\n",
       "0                        agro_industria_e_comercio    212  4.000000\n",
       "39                  fashion_underwear_e_moda_praia    130  3.976923\n",
       "19                                    climatizacao    292  3.969178\n",
       "53  moveis_cozinha_area_de_servico_jantar_e_jardim    280  3.964286\n",
       "70                                       telefonia   4517  3.946867\n",
       "16                                 casa_construcao    600  3.940000\n",
       "3                                            artes    207  3.937198\n",
       "44                          informatica_acessorios   7849  3.930819\n",
       "57                                     moveis_sala    502  3.904382\n",
       "54                                moveis_decoracao   8331  3.903493\n",
       "13                                 cama_mesa_banho  11137  3.895663\n",
       "25                construcao_ferramentas_seguranca    193  3.844560\n",
       "14                                   casa_conforto    435  3.829885\n",
       "7                                            audio    361  3.825485\n",
       "71                                  telefonia_fixa    262  3.683206\n",
       "38                         fashion_roupa_masculina    131  3.641221\n",
       "55                               moveis_escritorio   1687  3.493183"
      ]
     },
     "execution_count": 40,
     "metadata": {},
     "output_type": "execute_result"
    }
   ],
   "source": [
    "avg_score_por_categoria = df1.groupby('product_category_name', as_index=False).agg({'review_score': ['count', 'mean']})\n",
    "avg_score_por_categoria.columns = ['product_category_name', 'count', 'mean']\n",
    "\n",
    "avg_score_por_categoria = avg_score_por_categoria[avg_score_por_categoria['count'] > 50]\n",
    "avg_score_por_categoria = avg_score_por_categoria.sort_values(by='mean', ascending=False)\n",
    "avg_score_por_categoria"
   ]
  },
  {
   "cell_type": "code",
   "execution_count": null,
   "id": "323690c1",
   "metadata": {
    "ExecuteTime": {
     "end_time": "2022-10-05T14:18:40.152656Z",
     "start_time": "2022-10-05T14:18:36.985862Z"
    }
   },
   "outputs": [],
   "source": [
    "categoria_avaliacao = pd.crosstab(df1['product_category_name'], df1['review_score'], margins=True, margins_name='total_counts')\n",
    "categoria_avaliacao.drop('total_counts', axis=0, inplace=True)\n",
    "categoria_avaliacao.sort_values(by='total_counts', ascending=False, inplace=True)\n",
    "categoria_avaliacao.drop('total_counts', axis=1)[:50].plot(kind='bar', stacked=True,\n",
    "                                                        figsize=(10,6), width=0.3,cmap='vlag_r')\n",
    "plt.title('Review scores based on product categories', fontsize=14)\n",
    "plt.xlabel('Product categories')\n",
    "plt.ylabel('Number of reviews')\n",
    "plt.show()"
   ]
  },
  {
   "cell_type": "code",
   "execution_count": null,
   "id": "836900f2",
   "metadata": {},
   "outputs": [],
   "source": []
  },
  {
   "cell_type": "markdown",
   "id": "5cb54a80",
   "metadata": {
    "ExecuteTime": {
     "end_time": "2022-10-05T00:06:40.582395Z",
     "start_time": "2022-10-05T00:06:38.245152Z"
    }
   },
   "source": [
    "## Como as classes se relacionam com as categorias e pontuações de revisão?¶"
   ]
  },
  {
   "cell_type": "code",
   "execution_count": null,
   "id": "1da5fcc5",
   "metadata": {
    "ExecuteTime": {
     "end_time": "2022-10-05T00:30:18.693783Z",
     "start_time": "2022-10-05T00:30:18.678137Z"
    }
   },
   "outputs": [],
   "source": [
    "df1.columns"
   ]
  },
  {
   "cell_type": "markdown",
   "id": "65223e2a",
   "metadata": {},
   "source": [
    "## Criando 2 data frame para geolocalização"
   ]
  },
  {
   "cell_type": "code",
   "execution_count": null,
   "id": "5e08c950",
   "metadata": {
    "ExecuteTime": {
     "end_time": "2022-10-05T12:15:23.074162Z",
     "start_time": "2022-10-05T12:15:21.045145Z"
    }
   },
   "outputs": [],
   "source": [
    "geolocal = pd.read_csv(\"Data/geolocal.csv\")"
   ]
  },
  {
   "cell_type": "code",
   "execution_count": null,
   "id": "3046db10",
   "metadata": {
    "ExecuteTime": {
     "end_time": "2022-10-05T12:15:26.676828Z",
     "start_time": "2022-10-05T12:15:26.652843Z"
    }
   },
   "outputs": [],
   "source": [
    "geolocal.shape"
   ]
  },
  {
   "cell_type": "code",
   "execution_count": null,
   "id": "b465351c",
   "metadata": {
    "ExecuteTime": {
     "end_time": "2022-10-05T12:15:30.223663Z",
     "start_time": "2022-10-05T12:15:29.642022Z"
    }
   },
   "outputs": [],
   "source": [
    "geolocal.isnull().sum()"
   ]
  },
  {
   "cell_type": "code",
   "execution_count": null,
   "id": "8350a611",
   "metadata": {
    "ExecuteTime": {
     "end_time": "2022-10-05T12:16:25.437658Z",
     "start_time": "2022-10-05T12:16:25.182066Z"
    }
   },
   "outputs": [],
   "source": [
    "geolocal = geolocal.drop(['geolocation_city', 'geolocation_state'], axis=1)\n",
    "geolocal = geolocal.drop_duplicates(subset = ['geolocation_zip_code_prefix'],ignore_index=True)"
   ]
  },
  {
   "cell_type": "code",
   "execution_count": null,
   "id": "58cf0533",
   "metadata": {
    "ExecuteTime": {
     "end_time": "2022-10-05T12:20:13.670677Z",
     "start_time": "2022-10-05T12:20:13.620708Z"
    }
   },
   "outputs": [],
   "source": [
    "geo_cliente = geolocal.rename(columns={\"geolocation_zip_code_prefix\":\"customer_zip_code_prefix\",\n",
    "                                                  \"geolocation_lat\":\"customer_lat\",\n",
    "                                                  \"geolocation_lng\":\"customer_lng\"})\n",
    "geo_vendedor = geolocal.rename(columns={\"geolocation_zip_code_prefix\":\"seller_zip_code_prefix\",\n",
    "                                                  \"geolocation_lat\":\"seller_lat\",\n",
    "                                                  \"geolocation_lng\":\"seller_lng\"})\n",
    "geo_cliente.head()"
   ]
  },
  {
   "cell_type": "markdown",
   "id": "26a10b63",
   "metadata": {},
   "source": [
    "O order_item_id representa a quantidade do item em cada pedido. "
   ]
  },
  {
   "cell_type": "code",
   "execution_count": null,
   "id": "143646e3",
   "metadata": {
    "ExecuteTime": {
     "end_time": "2022-10-05T14:37:20.927328Z",
     "start_time": "2022-10-05T14:37:17.270661Z"
    }
   },
   "outputs": [],
   "source": [
    "df6 = pd.read_csv('Data/df.csv') %#criado a partir do DF"
   ]
  },
  {
   "cell_type": "code",
   "execution_count": null,
   "id": "5a01f871",
   "metadata": {
    "ExecuteTime": {
     "end_time": "2022-10-05T14:47:01.297910Z",
     "start_time": "2022-10-05T14:47:01.266928Z"
    }
   },
   "outputs": [],
   "source": [
    "df6.product_category_name.unique()"
   ]
  },
  {
   "cell_type": "markdown",
   "id": "c5fe221d",
   "metadata": {},
   "source": [
    "## Data Frame agregado com colunas selecionadas"
   ]
  },
  {
   "cell_type": "code",
   "execution_count": 3,
   "id": "4ecba772",
   "metadata": {
    "ExecuteTime": {
     "end_time": "2022-10-05T17:21:34.612301Z",
     "start_time": "2022-10-05T17:21:19.168982Z"
    }
   },
   "outputs": [],
   "source": [
    "import pandas as pd \n",
    "import numpy as np \n",
    "import matplotlib.pyplot as plt \n",
    "import seaborn as sns \n",
    "%matplotlib inline"
   ]
  },
  {
   "cell_type": "code",
   "execution_count": 51,
   "id": "b90abec5",
   "metadata": {
    "ExecuteTime": {
     "end_time": "2022-10-05T17:45:37.875426Z",
     "start_time": "2022-10-05T17:45:37.776490Z"
    }
   },
   "outputs": [
    {
     "data": {
      "text/html": [
       "<div>\n",
       "<style scoped>\n",
       "    .dataframe tbody tr th:only-of-type {\n",
       "        vertical-align: middle;\n",
       "    }\n",
       "\n",
       "    .dataframe tbody tr th {\n",
       "        vertical-align: top;\n",
       "    }\n",
       "\n",
       "    .dataframe thead th {\n",
       "        text-align: right;\n",
       "    }\n",
       "</style>\n",
       "<table border=\"1\" class=\"dataframe\">\n",
       "  <thead>\n",
       "    <tr style=\"text-align: right;\">\n",
       "      <th></th>\n",
       "      <th>Unnamed: 0</th>\n",
       "      <th>seller_id</th>\n",
       "      <th>product_category_name</th>\n",
       "      <th>vendas_total</th>\n",
       "      <th>entrega_antecipacao</th>\n",
       "      <th>score</th>\n",
       "    </tr>\n",
       "  </thead>\n",
       "  <tbody>\n",
       "    <tr>\n",
       "      <th>0</th>\n",
       "      <td>0</td>\n",
       "      <td>0015a82c2db000af6aaaf3ae2ecb0532</td>\n",
       "      <td>eletroportateis</td>\n",
       "      <td>3</td>\n",
       "      <td>12.0</td>\n",
       "      <td>5.0</td>\n",
       "    </tr>\n",
       "    <tr>\n",
       "      <th>1</th>\n",
       "      <td>1</td>\n",
       "      <td>001cca7ae9ae17fb1caed9dfb1094831</td>\n",
       "      <td>construcao_ferramentas_construcao</td>\n",
       "      <td>27</td>\n",
       "      <td>10.0</td>\n",
       "      <td>4.0</td>\n",
       "    </tr>\n",
       "    <tr>\n",
       "      <th>2</th>\n",
       "      <td>2</td>\n",
       "      <td>001cca7ae9ae17fb1caed9dfb1094831</td>\n",
       "      <td>ferramentas_jardim</td>\n",
       "      <td>209</td>\n",
       "      <td>13.0</td>\n",
       "      <td>5.0</td>\n",
       "    </tr>\n",
       "    <tr>\n",
       "      <th>3</th>\n",
       "      <td>3</td>\n",
       "      <td>001e6ad469a905060d959994f1b41e4f</td>\n",
       "      <td>esporte_lazer</td>\n",
       "      <td>1</td>\n",
       "      <td>0.0</td>\n",
       "      <td>1.0</td>\n",
       "    </tr>\n",
       "    <tr>\n",
       "      <th>4</th>\n",
       "      <td>4</td>\n",
       "      <td>002100f778ceb8431b7a1020ff7ab48f</td>\n",
       "      <td>moveis_decoracao</td>\n",
       "      <td>56</td>\n",
       "      <td>8.0</td>\n",
       "      <td>5.0</td>\n",
       "    </tr>\n",
       "    <tr>\n",
       "      <th>...</th>\n",
       "      <td>...</td>\n",
       "      <td>...</td>\n",
       "      <td>...</td>\n",
       "      <td>...</td>\n",
       "      <td>...</td>\n",
       "      <td>...</td>\n",
       "    </tr>\n",
       "    <tr>\n",
       "      <th>6331</th>\n",
       "      <td>6331</td>\n",
       "      <td>ffff564a4f9085cd26170f4732393726</td>\n",
       "      <td>automotivo</td>\n",
       "      <td>10</td>\n",
       "      <td>21.5</td>\n",
       "      <td>1.0</td>\n",
       "    </tr>\n",
       "    <tr>\n",
       "      <th>6332</th>\n",
       "      <td>6332</td>\n",
       "      <td>ffff564a4f9085cd26170f4732393726</td>\n",
       "      <td>construcao_ferramentas_construcao</td>\n",
       "      <td>1</td>\n",
       "      <td>0.0</td>\n",
       "      <td>1.0</td>\n",
       "    </tr>\n",
       "    <tr>\n",
       "      <th>6333</th>\n",
       "      <td>6333</td>\n",
       "      <td>ffff564a4f9085cd26170f4732393726</td>\n",
       "      <td>eletronicos</td>\n",
       "      <td>2</td>\n",
       "      <td>44.5</td>\n",
       "      <td>5.0</td>\n",
       "    </tr>\n",
       "    <tr>\n",
       "      <th>6334</th>\n",
       "      <td>6334</td>\n",
       "      <td>ffff564a4f9085cd26170f4732393726</td>\n",
       "      <td>market_place</td>\n",
       "      <td>1</td>\n",
       "      <td>51.0</td>\n",
       "      <td>5.0</td>\n",
       "    </tr>\n",
       "    <tr>\n",
       "      <th>6335</th>\n",
       "      <td>6335</td>\n",
       "      <td>ffff564a4f9085cd26170f4732393726</td>\n",
       "      <td>utilidades_domesticas</td>\n",
       "      <td>2</td>\n",
       "      <td>0.0</td>\n",
       "      <td>1.0</td>\n",
       "    </tr>\n",
       "  </tbody>\n",
       "</table>\n",
       "<p>6336 rows × 6 columns</p>\n",
       "</div>"
      ],
      "text/plain": [
       "      Unnamed: 0                         seller_id  \\\n",
       "0              0  0015a82c2db000af6aaaf3ae2ecb0532   \n",
       "1              1  001cca7ae9ae17fb1caed9dfb1094831   \n",
       "2              2  001cca7ae9ae17fb1caed9dfb1094831   \n",
       "3              3  001e6ad469a905060d959994f1b41e4f   \n",
       "4              4  002100f778ceb8431b7a1020ff7ab48f   \n",
       "...          ...                               ...   \n",
       "6331        6331  ffff564a4f9085cd26170f4732393726   \n",
       "6332        6332  ffff564a4f9085cd26170f4732393726   \n",
       "6333        6333  ffff564a4f9085cd26170f4732393726   \n",
       "6334        6334  ffff564a4f9085cd26170f4732393726   \n",
       "6335        6335  ffff564a4f9085cd26170f4732393726   \n",
       "\n",
       "                  product_category_name  vendas_total  entrega_antecipacao  \\\n",
       "0                       eletroportateis             3                 12.0   \n",
       "1     construcao_ferramentas_construcao            27                 10.0   \n",
       "2                    ferramentas_jardim           209                 13.0   \n",
       "3                         esporte_lazer             1                  0.0   \n",
       "4                      moveis_decoracao            56                  8.0   \n",
       "...                                 ...           ...                  ...   \n",
       "6331                         automotivo            10                 21.5   \n",
       "6332  construcao_ferramentas_construcao             1                  0.0   \n",
       "6333                        eletronicos             2                 44.5   \n",
       "6334                       market_place             1                 51.0   \n",
       "6335              utilidades_domesticas             2                  0.0   \n",
       "\n",
       "      score  \n",
       "0       5.0  \n",
       "1       4.0  \n",
       "2       5.0  \n",
       "3       1.0  \n",
       "4       5.0  \n",
       "...     ...  \n",
       "6331    1.0  \n",
       "6332    1.0  \n",
       "6333    5.0  \n",
       "6334    5.0  \n",
       "6335    1.0  \n",
       "\n",
       "[6336 rows x 6 columns]"
      ]
     },
     "execution_count": 51,
     "metadata": {},
     "output_type": "execute_result"
    }
   ],
   "source": [
    "categ_vendedor =  pd.read_csv('Data/seller_category.csv')\n",
    "categ_vendedor"
   ]
  },
  {
   "cell_type": "code",
   "execution_count": 52,
   "id": "7c0edd37",
   "metadata": {
    "ExecuteTime": {
     "end_time": "2022-10-05T17:45:44.903180Z",
     "start_time": "2022-10-05T17:45:43.840289Z"
    }
   },
   "outputs": [
    {
     "data": {
      "image/png": "[encoded data removed]",
      "text/plain": [
       "<Figure size 1000x600 with 1 Axes>"
      ]
     },
     "metadata": {},
     "output_type": "display_data"
    }
   ],
   "source": [
    "categ_score_vendedor = pd.crosstab(categ_vendedor['product_category_name'], categ_vendedor['score'], margins=True, margins_name='total_counts')\n",
    "categ_score_vendedor.drop('total_counts', axis=0, inplace=True)\n",
    "categ_score_vendedor.sort_values(by='total_counts', ascending=False, inplace=True)\n",
    "categ_score_vendedor.drop('total_counts', axis=1)[:10].plot(kind='bar', stacked=True,\n",
    "                                                        figsize=(10,6), width=0.3,cmap='Set1')\n",
    "\n",
    "plt.title('Avaliação com base nas categorias de produtos', fontsize=14)\n",
    "plt.xlabel('Categoria de Produto')\n",
    "plt.ylabel('Nº de avaliações')\n",
    "plt.show()"
   ]
  },
  {
   "cell_type": "code",
   "execution_count": 53,
   "id": "d69b2e03",
   "metadata": {
    "ExecuteTime": {
     "end_time": "2022-10-05T17:45:47.382608Z",
     "start_time": "2022-10-05T17:45:47.316603Z"
    }
   },
   "outputs": [
    {
     "data": {
      "text/html": [
       "<div>\n",
       "<style scoped>\n",
       "    .dataframe tbody tr th:only-of-type {\n",
       "        vertical-align: middle;\n",
       "    }\n",
       "\n",
       "    .dataframe tbody tr th {\n",
       "        vertical-align: top;\n",
       "    }\n",
       "\n",
       "    .dataframe thead th {\n",
       "        text-align: right;\n",
       "    }\n",
       "</style>\n",
       "<table border=\"1\" class=\"dataframe\">\n",
       "  <thead>\n",
       "    <tr style=\"text-align: right;\">\n",
       "      <th></th>\n",
       "      <th>product_category_name</th>\n",
       "      <th>count</th>\n",
       "      <th>mean</th>\n",
       "    </tr>\n",
       "  </thead>\n",
       "  <tbody>\n",
       "    <tr>\n",
       "      <th>48</th>\n",
       "      <td>livros_interesse_geral</td>\n",
       "      <td>54</td>\n",
       "      <td>4.629630</td>\n",
       "    </tr>\n",
       "    <tr>\n",
       "      <th>50</th>\n",
       "      <td>malas_acessorios</td>\n",
       "      <td>73</td>\n",
       "      <td>4.575342</td>\n",
       "    </tr>\n",
       "    <tr>\n",
       "      <th>59</th>\n",
       "      <td>papelaria</td>\n",
       "      <td>173</td>\n",
       "      <td>4.476879</td>\n",
       "    </tr>\n",
       "    <tr>\n",
       "      <th>1</th>\n",
       "      <td>alimentos</td>\n",
       "      <td>58</td>\n",
       "      <td>4.448276</td>\n",
       "    </tr>\n",
       "    <tr>\n",
       "      <th>11</th>\n",
       "      <td>beleza_saude</td>\n",
       "      <td>491</td>\n",
       "      <td>4.432790</td>\n",
       "    </tr>\n",
       "    <tr>\n",
       "      <th>63</th>\n",
       "      <td>pet_shop</td>\n",
       "      <td>137</td>\n",
       "      <td>4.394161</td>\n",
       "    </tr>\n",
       "    <tr>\n",
       "      <th>13</th>\n",
       "      <td>cama_mesa_banho</td>\n",
       "      <td>195</td>\n",
       "      <td>4.335897</td>\n",
       "    </tr>\n",
       "    <tr>\n",
       "      <th>33</th>\n",
       "      <td>fashion_bolsas_e_acessorios</td>\n",
       "      <td>99</td>\n",
       "      <td>4.333333</td>\n",
       "    </tr>\n",
       "    <tr>\n",
       "      <th>12</th>\n",
       "      <td>brinquedos</td>\n",
       "      <td>251</td>\n",
       "      <td>4.292829</td>\n",
       "    </tr>\n",
       "    <tr>\n",
       "      <th>32</th>\n",
       "      <td>esporte_lazer</td>\n",
       "      <td>481</td>\n",
       "      <td>4.287942</td>\n",
       "    </tr>\n",
       "    <tr>\n",
       "      <th>62</th>\n",
       "      <td>perfumaria</td>\n",
       "      <td>175</td>\n",
       "      <td>4.274286</td>\n",
       "    </tr>\n",
       "    <tr>\n",
       "      <th>45</th>\n",
       "      <td>instrumentos_musicais</td>\n",
       "      <td>69</td>\n",
       "      <td>4.268116</td>\n",
       "    </tr>\n",
       "    <tr>\n",
       "      <th>40</th>\n",
       "      <td>ferramentas_jardim</td>\n",
       "      <td>235</td>\n",
       "      <td>4.263830</td>\n",
       "    </tr>\n",
       "    <tr>\n",
       "      <th>26</th>\n",
       "      <td>cool_stuff</td>\n",
       "      <td>264</td>\n",
       "      <td>4.263258</td>\n",
       "    </tr>\n",
       "    <tr>\n",
       "      <th>31</th>\n",
       "      <td>eletroportateis</td>\n",
       "      <td>103</td>\n",
       "      <td>4.257282</td>\n",
       "    </tr>\n",
       "    <tr>\n",
       "      <th>72</th>\n",
       "      <td>utilidades_domesticas</td>\n",
       "      <td>467</td>\n",
       "      <td>4.235546</td>\n",
       "    </tr>\n",
       "    <tr>\n",
       "      <th>9</th>\n",
       "      <td>bebes</td>\n",
       "      <td>242</td>\n",
       "      <td>4.221074</td>\n",
       "    </tr>\n",
       "    <tr>\n",
       "      <th>21</th>\n",
       "      <td>construcao_ferramentas_construcao</td>\n",
       "      <td>128</td>\n",
       "      <td>4.156250</td>\n",
       "    </tr>\n",
       "    <tr>\n",
       "      <th>44</th>\n",
       "      <td>informatica_acessorios</td>\n",
       "      <td>287</td>\n",
       "      <td>4.155052</td>\n",
       "    </tr>\n",
       "    <tr>\n",
       "      <th>8</th>\n",
       "      <td>automotivo</td>\n",
       "      <td>382</td>\n",
       "      <td>4.145288</td>\n",
       "    </tr>\n",
       "    <tr>\n",
       "      <th>66</th>\n",
       "      <td>relogios_presentes</td>\n",
       "      <td>101</td>\n",
       "      <td>4.138614</td>\n",
       "    </tr>\n",
       "    <tr>\n",
       "      <th>70</th>\n",
       "      <td>telefonia</td>\n",
       "      <td>147</td>\n",
       "      <td>4.122449</td>\n",
       "    </tr>\n",
       "    <tr>\n",
       "      <th>30</th>\n",
       "      <td>eletronicos</td>\n",
       "      <td>149</td>\n",
       "      <td>4.110738</td>\n",
       "    </tr>\n",
       "    <tr>\n",
       "      <th>51</th>\n",
       "      <td>market_place</td>\n",
       "      <td>59</td>\n",
       "      <td>4.067797</td>\n",
       "    </tr>\n",
       "    <tr>\n",
       "      <th>16</th>\n",
       "      <td>casa_construcao</td>\n",
       "      <td>68</td>\n",
       "      <td>4.066176</td>\n",
       "    </tr>\n",
       "    <tr>\n",
       "      <th>54</th>\n",
       "      <td>moveis_decoracao</td>\n",
       "      <td>370</td>\n",
       "      <td>4.064865</td>\n",
       "    </tr>\n",
       "    <tr>\n",
       "      <th>20</th>\n",
       "      <td>consoles_games</td>\n",
       "      <td>82</td>\n",
       "      <td>4.042683</td>\n",
       "    </tr>\n",
       "    <tr>\n",
       "      <th>53</th>\n",
       "      <td>moveis_cozinha_area_de_servico_jantar_e_jardim</td>\n",
       "      <td>52</td>\n",
       "      <td>4.038462</td>\n",
       "    </tr>\n",
       "    <tr>\n",
       "      <th>57</th>\n",
       "      <td>moveis_sala</td>\n",
       "      <td>56</td>\n",
       "      <td>3.937500</td>\n",
       "    </tr>\n",
       "    <tr>\n",
       "      <th>19</th>\n",
       "      <td>climatizacao</td>\n",
       "      <td>52</td>\n",
       "      <td>3.913462</td>\n",
       "    </tr>\n",
       "  </tbody>\n",
       "</table>\n",
       "</div>"
      ],
      "text/plain": [
       "                             product_category_name  count      mean\n",
       "48                          livros_interesse_geral     54  4.629630\n",
       "50                                malas_acessorios     73  4.575342\n",
       "59                                       papelaria    173  4.476879\n",
       "1                                        alimentos     58  4.448276\n",
       "11                                    beleza_saude    491  4.432790\n",
       "63                                        pet_shop    137  4.394161\n",
       "13                                 cama_mesa_banho    195  4.335897\n",
       "33                     fashion_bolsas_e_acessorios     99  4.333333\n",
       "12                                      brinquedos    251  4.292829\n",
       "32                                   esporte_lazer    481  4.287942\n",
       "62                                      perfumaria    175  4.274286\n",
       "45                           instrumentos_musicais     69  4.268116\n",
       "40                              ferramentas_jardim    235  4.263830\n",
       "26                                      cool_stuff    264  4.263258\n",
       "31                                 eletroportateis    103  4.257282\n",
       "72                           utilidades_domesticas    467  4.235546\n",
       "9                                            bebes    242  4.221074\n",
       "21               construcao_ferramentas_construcao    128  4.156250\n",
       "44                          informatica_acessorios    287  4.155052\n",
       "8                                       automotivo    382  4.145288\n",
       "66                              relogios_presentes    101  4.138614\n",
       "70                                       telefonia    147  4.122449\n",
       "30                                     eletronicos    149  4.110738\n",
       "51                                    market_place     59  4.067797\n",
       "16                                 casa_construcao     68  4.066176\n",
       "54                                moveis_decoracao    370  4.064865\n",
       "20                                  consoles_games     82  4.042683\n",
       "53  moveis_cozinha_area_de_servico_jantar_e_jardim     52  4.038462\n",
       "57                                     moveis_sala     56  3.937500\n",
       "19                                    climatizacao     52  3.913462"
      ]
     },
     "execution_count": 53,
     "metadata": {},
     "output_type": "execute_result"
    }
   ],
   "source": [
    "avg_score_por_categoria = categ_vendedor.groupby('product_category_name', as_index=False).agg({'score': ['count', 'mean']})\n",
    "avg_score_por_categoria.columns = ['product_category_name', 'count', 'mean']\n",
    "\n",
    "avg_score_por_categoria = avg_score_por_categoria[avg_score_por_categoria['count'] > 50]\n",
    "avg_score_por_categoria = avg_score_por_categoria.sort_values(by='mean', ascending=False)\n",
    "avg_score_por_categoria"
   ]
  },
  {
   "cell_type": "code",
   "execution_count": 54,
   "id": "bef1e049",
   "metadata": {
    "ExecuteTime": {
     "end_time": "2022-10-05T17:45:50.592715Z",
     "start_time": "2022-10-05T17:45:49.927122Z"
    }
   },
   "outputs": [
    {
     "data": {
      "image/png": "[encoded data removed]",
      "text/plain": [
       "<Figure size 1000x600 with 2 Axes>"
      ]
     },
     "metadata": {},
     "output_type": "display_data"
    }
   ],
   "source": [
    "import seaborn as sns\n",
    "import matplotlib.pyplot as plt\n",
    "matriz_corr = categ_vendedor.corr()\n",
    "top_corr_features = matriz_corr.index\n",
    "plt.figure(figsize=(10,6))\n",
    "\n",
    "g=sns.heatmap(categ_vendedor[top_corr_features].corr(),annot=True,cmap=\"RdYlGn\")"
   ]
  },
  {
   "cell_type": "code",
   "execution_count": 56,
   "id": "770b43fb",
   "metadata": {
    "ExecuteTime": {
     "end_time": "2022-10-05T17:46:17.501238Z",
     "start_time": "2022-10-05T17:46:17.096197Z"
    }
   },
   "outputs": [
    {
     "data": {
      "image/png": "[encoded data removed]",
      "text/plain": [
       "<Figure size 640x480 with 1 Axes>"
      ]
     },
     "metadata": {},
     "output_type": "display_data"
    }
   ],
   "source": [
    "categ_vendedor['score'].plot.hist(title='Distribuição avaliações',cmap='Paired')\n",
    "plt.xticks([1,2,3,4,5])\n",
    "plt.show()"
   ]
  },
  {
   "cell_type": "code",
   "execution_count": 63,
   "id": "d7df7499",
   "metadata": {
    "ExecuteTime": {
     "end_time": "2022-10-05T18:50:23.219962Z",
     "start_time": "2022-10-05T18:50:23.194976Z"
    }
   },
   "outputs": [
    {
     "data": {
      "text/plain": [
       "<bound method NDFrame._add_numeric_operations.<locals>.mean of 0       5.0\n",
       "1       4.0\n",
       "2       5.0\n",
       "3       1.0\n",
       "4       5.0\n",
       "       ... \n",
       "6331    1.0\n",
       "6332    1.0\n",
       "6333    5.0\n",
       "6334    5.0\n",
       "6335    1.0\n",
       "Name: score, Length: 6336, dtype: float64>"
      ]
     },
     "execution_count": 63,
     "metadata": {},
     "output_type": "execute_result"
    }
   ],
   "source": [
    "categ_vendedor['score'].mean"
   ]
  },
  {
   "cell_type": "code",
   "execution_count": 61,
   "id": "2bc49eef",
   "metadata": {
    "ExecuteTime": {
     "end_time": "2022-10-05T18:30:23.076122Z",
     "start_time": "2022-10-05T18:30:21.656999Z"
    }
   },
   "outputs": [
    {
     "data": {
      "text/plain": [
       "array([[<AxesSubplot:title={'center':'Unnamed: 0'}>,\n",
       "        <AxesSubplot:title={'center':'vendas_total'}>],\n",
       "       [<AxesSubplot:title={'center':'entrega_antecipacao'}>,\n",
       "        <AxesSubplot:title={'center':'score'}>]], dtype=object)"
      ]
     },
     "execution_count": 61,
     "metadata": {},
     "output_type": "execute_result"
    },
    {
     "data": {
      "image/png": "[encoded data removed]",
      "text/plain": [
       "<Figure size 640x480 with 4 Axes>"
      ]
     },
     "metadata": {},
     "output_type": "display_data"
    }
   ],
   "source": [
    "categ_vendedor.hist()"
   ]
  },
  {
   "cell_type": "code",
   "execution_count": 62,
   "id": "c6a6cc24",
   "metadata": {
    "ExecuteTime": {
     "end_time": "2022-10-05T18:33:16.351846Z",
     "start_time": "2022-10-05T18:33:07.149984Z"
    }
   },
   "outputs": [
    {
     "data": {
      "image/png": "[encoded data removed]",
      "text/plain": [
       "<Figure size 500x500 with 6 Axes>"
      ]
     },
     "metadata": {},
     "output_type": "display_data"
    }
   ],
   "source": [
    "sns.pairplot(categ_vendedor[['score', 'vendas_total']])\n",
    "plt.show()"
   ]
  }
 ],
 "metadata": {
  "kernelspec": {
   "display_name": "pycaret",
   "language": "python",
   "name": "pycaret"
  },
  "language_info": {
   "codemirror_mode": {
    "name": "ipython",
    "version": 3
   },
   "file_extension": ".py",
   "mimetype": "text/x-python",
   "name": "python",
   "nbconvert_exporter": "python",
   "pygments_lexer": "ipython3",
   "version": "3.8.13"
  },
  "nbTranslate": {
   "displayLangs": [
    "*"
   ],
   "hotkey": "alt-t",
   "langInMainMenu": true,
   "sourceLang": "en",
   "targetLang": "fr",
   "useGoogleTranslate": true
  },
  "toc": {
   "base_numbering": 1,
   "nav_menu": {},
   "number_sections": true,
   "sideBar": true,
   "skip_h1_title": false,
   "title_cell": "Table of Contents",
   "title_sidebar": "Contents",
   "toc_cell": false,
   "toc_position": {},
   "toc_section_display": true,
   "toc_window_display": false
  },
  "varInspector": {
   "cols": {
    "lenName": 16,
    "lenType": 16,
    "lenVar": 40
   },
   "kernels_config": {
    "python": {
     "delete_cmd_postfix": "",
     "delete_cmd_prefix": "del ",
     "library": "var_list.py",
     "varRefreshCmd": "print(var_dic_list())"
    },
    "r": {
     "delete_cmd_postfix": ") ",
     "delete_cmd_prefix": "rm(",
     "library": "var_list.r",
     "varRefreshCmd": "cat(var_dic_list()) "
    }
   },
   "types_to_exclude": [
    "module",
    "function",
    "builtin_function_or_method",
    "instance",
    "_Feature"
   ],
   "window_display": false
  }
 },
 "nbformat": 4,
 "nbformat_minor": 5
}
