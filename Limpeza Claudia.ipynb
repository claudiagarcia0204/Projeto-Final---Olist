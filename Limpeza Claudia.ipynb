{
 "cells": [
  {
   "cell_type": "code",
   "execution_count": 3,
   "id": "d3b4aacc",
   "metadata": {
    "ExecuteTime": {
     "end_time": "2022-10-04T13:56:30.203794Z",
     "start_time": "2022-10-04T13:56:29.566911Z"
    }
   },
   "outputs": [],
   "source": [
    "import pandas as pd\n",
    "import numpy as np\n",
    "import os\n",
    "import re\n",
    "from sklearn.linear_model import LinearRegression\n",
    "import seaborn as sns\n",
    "import glob\n",
    "import pandas as pd\n"
   ]
  },
  {
   "cell_type": "markdown",
   "id": "16e64105",
   "metadata": {},
   "source": [
    "## Vendedores - Seller"
   ]
  },
  {
   "cell_type": "code",
   "execution_count": 4,
   "id": "4e2306bf",
   "metadata": {
    "ExecuteTime": {
     "end_time": "2022-10-04T13:56:36.090922Z",
     "start_time": "2022-10-04T13:56:31.270429Z"
    }
   },
   "outputs": [],
   "source": [
    "vendedores = pd.read_csv(\"data\\olist_sellers_dataset.csv\") #seller\n",
    "\n",
    "# tabela de vendedores 3095 linhas  4 colunas ('seller_id', 'seller_zip_code_prefix', 'seller_city', 'seller_state')"
   ]
  },
  {
   "cell_type": "code",
   "execution_count": 11,
   "id": "2bf58c36",
   "metadata": {
    "ExecuteTime": {
     "end_time": "2022-10-03T12:58:04.554866Z",
     "start_time": "2022-10-03T12:58:04.513891Z"
    },
    "cell_style": "split"
   },
   "outputs": [
    {
     "name": "stdout",
     "output_type": "stream",
     "text": [
      "<class 'pandas.core.frame.DataFrame'>\n",
      "RangeIndex: 3095 entries, 0 to 3094\n",
      "Data columns (total 4 columns):\n",
      " #   Column                  Non-Null Count  Dtype \n",
      "---  ------                  --------------  ----- \n",
      " 0   seller_id               3095 non-null   object\n",
      " 1   seller_zip_code_prefix  3095 non-null   int64 \n",
      " 2   seller_city             3095 non-null   object\n",
      " 3   seller_state            3095 non-null   object\n",
      "dtypes: int64(1), object(3)\n",
      "memory usage: 96.8+ KB\n"
     ]
    }
   ],
   "source": [
    "vendedores.info()"
   ]
  },
  {
   "cell_type": "code",
   "execution_count": 17,
   "id": "8960f4e8",
   "metadata": {
    "ExecuteTime": {
     "end_time": "2022-10-03T13:19:08.271800Z",
     "start_time": "2022-10-03T13:19:08.236822Z"
    },
    "cell_style": "split"
   },
   "outputs": [
    {
     "data": {
      "text/plain": [
       "seller_id                 0\n",
       "seller_zip_code_prefix    0\n",
       "seller_city               0\n",
       "seller_state              0\n",
       "dtype: int64"
      ]
     },
     "execution_count": 17,
     "metadata": {},
     "output_type": "execute_result"
    }
   ],
   "source": [
    "vendedores.isnull().sum()"
   ]
  },
  {
   "cell_type": "code",
   "execution_count": 13,
   "id": "8de78c6e",
   "metadata": {
    "ExecuteTime": {
     "end_time": "2022-10-03T12:58:41.291817Z",
     "start_time": "2022-10-03T12:58:41.273825Z"
    },
    "cell_style": "center"
   },
   "outputs": [
    {
     "data": {
      "text/plain": [
       "Index(['seller_id', 'seller_zip_code_prefix', 'seller_city', 'seller_state'], dtype='object')"
      ]
     },
     "execution_count": 13,
     "metadata": {},
     "output_type": "execute_result"
    }
   ],
   "source": [
    "vendedores.columns"
   ]
  },
  {
   "cell_type": "code",
   "execution_count": 16,
   "id": "f743f26c",
   "metadata": {
    "ExecuteTime": {
     "end_time": "2022-10-03T13:17:57.271771Z",
     "start_time": "2022-10-03T13:17:57.259778Z"
    }
   },
   "outputs": [
    {
     "name": "stdout",
     "output_type": "stream",
     "text": [
      "Nº total de vendedores exclusivos: 3095\n"
     ]
    }
   ],
   "source": [
    "print(\"Nº total de vendedores exclusivos:\",len((vendedores.seller_id).unique()))"
   ]
  },
  {
   "cell_type": "code",
   "execution_count": 86,
   "id": "35c82510",
   "metadata": {
    "ExecuteTime": {
     "end_time": "2022-10-03T17:05:14.456845Z",
     "start_time": "2022-10-03T17:05:14.124585Z"
    }
   },
   "outputs": [],
   "source": [
    "vendedores.to_csv('vendedores.csv')"
   ]
  },
  {
   "cell_type": "code",
   "execution_count": 90,
   "id": "8da3d0f3",
   "metadata": {
    "ExecuteTime": {
     "end_time": "2022-10-03T17:53:59.812454Z",
     "start_time": "2022-10-03T17:53:59.795466Z"
    }
   },
   "outputs": [
    {
     "data": {
      "text/plain": [
       "(3095, 4)"
      ]
     },
     "execution_count": 90,
     "metadata": {},
     "output_type": "execute_result"
    }
   ],
   "source": [
    "vendedores.shape"
   ]
  },
  {
   "cell_type": "markdown",
   "id": "2a638a59",
   "metadata": {},
   "source": [
    "## Pagamentos - payments"
   ]
  },
  {
   "cell_type": "code",
   "execution_count": 22,
   "id": "b6682736",
   "metadata": {
    "ExecuteTime": {
     "end_time": "2022-10-03T13:28:57.342304Z",
     "start_time": "2022-10-03T13:28:57.100454Z"
    }
   },
   "outputs": [],
   "source": [
    "pagamentos = pd.read_csv(\"data\\olist_order_payments_dataset.csv\") #payments\n",
    "\n",
    "\n",
    "# tabela de pagamentos 103886 linhas  5 colunas ('order_id', 'payment_sequential', 'payment_type','payment_installments', 'payment_value')"
   ]
  },
  {
   "cell_type": "code",
   "execution_count": 19,
   "id": "88e27b8b",
   "metadata": {
    "ExecuteTime": {
     "end_time": "2022-10-03T13:27:55.354507Z",
     "start_time": "2022-10-03T13:27:55.267517Z"
    },
    "cell_style": "split"
   },
   "outputs": [
    {
     "name": "stdout",
     "output_type": "stream",
     "text": [
      "<class 'pandas.core.frame.DataFrame'>\n",
      "RangeIndex: 103886 entries, 0 to 103885\n",
      "Data columns (total 5 columns):\n",
      " #   Column                Non-Null Count   Dtype  \n",
      "---  ------                --------------   -----  \n",
      " 0   order_id              103886 non-null  object \n",
      " 1   payment_sequential    103886 non-null  int64  \n",
      " 2   payment_type          103886 non-null  object \n",
      " 3   payment_installments  103886 non-null  int64  \n",
      " 4   payment_value         103886 non-null  float64\n",
      "dtypes: float64(1), int64(2), object(2)\n",
      "memory usage: 4.0+ MB\n"
     ]
    }
   ],
   "source": [
    "pagamentos.info()"
   ]
  },
  {
   "cell_type": "code",
   "execution_count": 20,
   "id": "e8c17c2a",
   "metadata": {
    "ExecuteTime": {
     "end_time": "2022-10-03T13:28:08.240465Z",
     "start_time": "2022-10-03T13:28:08.172956Z"
    },
    "cell_style": "split",
    "scrolled": true
   },
   "outputs": [
    {
     "data": {
      "text/plain": [
       "order_id                0\n",
       "payment_sequential      0\n",
       "payment_type            0\n",
       "payment_installments    0\n",
       "payment_value           0\n",
       "dtype: int64"
      ]
     },
     "execution_count": 20,
     "metadata": {},
     "output_type": "execute_result"
    }
   ],
   "source": [
    "pagamentos.isnull().sum()"
   ]
  },
  {
   "cell_type": "code",
   "execution_count": 21,
   "id": "a2fa04ca",
   "metadata": {
    "ExecuteTime": {
     "end_time": "2022-10-03T13:28:19.173461Z",
     "start_time": "2022-10-03T13:28:19.149475Z"
    },
    "cell_style": "center"
   },
   "outputs": [
    {
     "data": {
      "text/plain": [
       "Index(['order_id', 'payment_sequential', 'payment_type',\n",
       "       'payment_installments', 'payment_value'],\n",
       "      dtype='object')"
      ]
     },
     "execution_count": 21,
     "metadata": {},
     "output_type": "execute_result"
    }
   ],
   "source": [
    "pagamentos.columns"
   ]
  },
  {
   "cell_type": "code",
   "execution_count": 26,
   "id": "8ec87723",
   "metadata": {
    "ExecuteTime": {
     "end_time": "2022-10-03T13:34:45.465545Z",
     "start_time": "2022-10-03T13:34:45.426570Z"
    }
   },
   "outputs": [
    {
     "data": {
      "text/plain": [
       "payment_type\n",
       "boleto         19784\n",
       "credit_card    76795\n",
       "debit_card      1529\n",
       "not_defined        3\n",
       "voucher         5775\n",
       "dtype: int64"
      ]
     },
     "execution_count": 26,
     "metadata": {},
     "output_type": "execute_result"
    }
   ],
   "source": [
    "pagamentos.groupby('payment_type').size()"
   ]
  },
  {
   "cell_type": "code",
   "execution_count": 41,
   "id": "f11f31a3",
   "metadata": {
    "ExecuteTime": {
     "end_time": "2022-10-03T14:08:57.214817Z",
     "start_time": "2022-10-03T14:08:57.114501Z"
    }
   },
   "outputs": [
    {
     "data": {
      "text/html": [
       "<div>\n",
       "<style scoped>\n",
       "    .dataframe tbody tr th:only-of-type {\n",
       "        vertical-align: middle;\n",
       "    }\n",
       "\n",
       "    .dataframe tbody tr th {\n",
       "        vertical-align: top;\n",
       "    }\n",
       "\n",
       "    .dataframe thead th {\n",
       "        text-align: right;\n",
       "    }\n",
       "</style>\n",
       "<table border=\"1\" class=\"dataframe\">\n",
       "  <thead>\n",
       "    <tr style=\"text-align: right;\">\n",
       "      <th></th>\n",
       "      <th>order_id</th>\n",
       "      <th>payment_sequential</th>\n",
       "      <th>payment_type</th>\n",
       "      <th>payment_installments</th>\n",
       "      <th>payment_value</th>\n",
       "    </tr>\n",
       "  </thead>\n",
       "  <tbody>\n",
       "    <tr>\n",
       "      <th>51280</th>\n",
       "      <td>4637ca194b6387e2d538dc89b124b0ee</td>\n",
       "      <td>1</td>\n",
       "      <td>not_defined</td>\n",
       "      <td>1</td>\n",
       "      <td>0.0</td>\n",
       "    </tr>\n",
       "    <tr>\n",
       "      <th>57411</th>\n",
       "      <td>00b1cb0320190ca0daa2c88b35206009</td>\n",
       "      <td>1</td>\n",
       "      <td>not_defined</td>\n",
       "      <td>1</td>\n",
       "      <td>0.0</td>\n",
       "    </tr>\n",
       "    <tr>\n",
       "      <th>94427</th>\n",
       "      <td>c8c528189310eaa44a745b8d9d26908b</td>\n",
       "      <td>1</td>\n",
       "      <td>not_defined</td>\n",
       "      <td>1</td>\n",
       "      <td>0.0</td>\n",
       "    </tr>\n",
       "  </tbody>\n",
       "</table>\n",
       "</div>"
      ],
      "text/plain": [
       "                               order_id  payment_sequential payment_type  \\\n",
       "51280  4637ca194b6387e2d538dc89b124b0ee                   1  not_defined   \n",
       "57411  00b1cb0320190ca0daa2c88b35206009                   1  not_defined   \n",
       "94427  c8c528189310eaa44a745b8d9d26908b                   1  not_defined   \n",
       "\n",
       "       payment_installments  payment_value  \n",
       "51280                     1            0.0  \n",
       "57411                     1            0.0  \n",
       "94427                     1            0.0  "
      ]
     },
     "execution_count": 41,
     "metadata": {},
     "output_type": "execute_result"
    }
   ],
   "source": [
    "pagamentos.loc[pagamentos['payment_type']=='not_defined']"
   ]
  },
  {
   "cell_type": "code",
   "execution_count": 51,
   "id": "8fba550b",
   "metadata": {
    "ExecuteTime": {
     "end_time": "2022-10-03T14:21:02.857432Z",
     "start_time": "2022-10-03T14:21:02.807438Z"
    }
   },
   "outputs": [],
   "source": [
    "pagamentos.drop(index=pagamentos.loc[pagamentos['payment_type']=='not_defined'].index, inplace=True)"
   ]
  },
  {
   "cell_type": "code",
   "execution_count": 53,
   "id": "4b1e45bc",
   "metadata": {
    "ExecuteTime": {
     "end_time": "2022-10-03T14:22:02.108215Z",
     "start_time": "2022-10-03T14:22:02.070238Z"
    }
   },
   "outputs": [
    {
     "data": {
      "text/plain": [
       "credit_card    76795\n",
       "boleto         19784\n",
       "voucher         5775\n",
       "debit_card      1529\n",
       "Name: payment_type, dtype: int64"
      ]
     },
     "execution_count": 53,
     "metadata": {},
     "output_type": "execute_result"
    }
   ],
   "source": [
    "pagamentos['payment_type'].value_counts()"
   ]
  },
  {
   "cell_type": "code",
   "execution_count": 87,
   "id": "407ff279",
   "metadata": {
    "ExecuteTime": {
     "end_time": "2022-10-03T17:05:39.107068Z",
     "start_time": "2022-10-03T17:05:38.288020Z"
    }
   },
   "outputs": [],
   "source": [
    "pagamentos.to_csv('pagamentos.csv')"
   ]
  },
  {
   "cell_type": "code",
   "execution_count": 89,
   "id": "167c75d4",
   "metadata": {
    "ExecuteTime": {
     "end_time": "2022-10-03T17:52:42.720493Z",
     "start_time": "2022-10-03T17:52:42.701505Z"
    }
   },
   "outputs": [
    {
     "data": {
      "text/plain": [
       "(103883, 5)"
      ]
     },
     "execution_count": 89,
     "metadata": {},
     "output_type": "execute_result"
    }
   ],
   "source": [
    "pagamentos.shape"
   ]
  },
  {
   "cell_type": "markdown",
   "id": "2fc803fd",
   "metadata": {},
   "source": [
    "## Clientes - customers"
   ]
  },
  {
   "cell_type": "code",
   "execution_count": 76,
   "id": "1c8cfcd7",
   "metadata": {
    "ExecuteTime": {
     "end_time": "2022-10-03T15:16:45.774682Z",
     "start_time": "2022-10-03T15:16:45.361944Z"
    }
   },
   "outputs": [],
   "source": [
    "clientes = pd.read_csv(\"data\\olist_customers_dataset.csv\") #customers\n",
    "\n",
    "# tabela de clientes 99441 linhas  5 colunas ('customer_id', 'customer_unique_id', 'customer_zip_code_prefix','customer_city', 'customer_state')"
   ]
  },
  {
   "cell_type": "code",
   "execution_count": 77,
   "id": "3603e86c",
   "metadata": {
    "ExecuteTime": {
     "end_time": "2022-10-03T15:16:47.846209Z",
     "start_time": "2022-10-03T15:16:47.617340Z"
    },
    "cell_style": "split"
   },
   "outputs": [
    {
     "name": "stdout",
     "output_type": "stream",
     "text": [
      "<class 'pandas.core.frame.DataFrame'>\n",
      "RangeIndex: 99441 entries, 0 to 99440\n",
      "Data columns (total 5 columns):\n",
      " #   Column                    Non-Null Count  Dtype \n",
      "---  ------                    --------------  ----- \n",
      " 0   customer_id               99441 non-null  object\n",
      " 1   customer_unique_id        99441 non-null  object\n",
      " 2   customer_zip_code_prefix  99441 non-null  int64 \n",
      " 3   customer_city             99441 non-null  object\n",
      " 4   customer_state            99441 non-null  object\n",
      "dtypes: int64(1), object(4)\n",
      "memory usage: 3.8+ MB\n"
     ]
    }
   ],
   "source": [
    "clientes.info()"
   ]
  },
  {
   "cell_type": "code",
   "execution_count": 78,
   "id": "40fb1741",
   "metadata": {
    "ExecuteTime": {
     "end_time": "2022-10-03T15:16:49.106916Z",
     "start_time": "2022-10-03T15:16:48.889052Z"
    },
    "cell_style": "split",
    "scrolled": true
   },
   "outputs": [
    {
     "data": {
      "text/plain": [
       "customer_id                 0\n",
       "customer_unique_id          0\n",
       "customer_zip_code_prefix    0\n",
       "customer_city               0\n",
       "customer_state              0\n",
       "dtype: int64"
      ]
     },
     "execution_count": 78,
     "metadata": {},
     "output_type": "execute_result"
    }
   ],
   "source": [
    "clientes.isnull().sum()"
   ]
  },
  {
   "cell_type": "code",
   "execution_count": 79,
   "id": "27c87889",
   "metadata": {
    "ExecuteTime": {
     "end_time": "2022-10-03T15:16:52.112037Z",
     "start_time": "2022-10-03T15:16:52.086054Z"
    }
   },
   "outputs": [
    {
     "data": {
      "text/plain": [
       "Index(['customer_id', 'customer_unique_id', 'customer_zip_code_prefix',\n",
       "       'customer_city', 'customer_state'],\n",
       "      dtype='object')"
      ]
     },
     "execution_count": 79,
     "metadata": {},
     "output_type": "execute_result"
    }
   ],
   "source": [
    "clientes.columns"
   ]
  },
  {
   "cell_type": "code",
   "execution_count": 88,
   "id": "e1295903",
   "metadata": {
    "ExecuteTime": {
     "end_time": "2022-10-03T17:05:57.712226Z",
     "start_time": "2022-10-03T17:05:56.719832Z"
    }
   },
   "outputs": [],
   "source": [
    "clientes.to_csv('clientes.csv')"
   ]
  },
  {
   "cell_type": "markdown",
   "id": "90e0019a",
   "metadata": {
    "ExecuteTime": {
     "end_time": "2022-10-03T14:44:06.581657Z",
     "start_time": "2022-10-03T14:44:06.573663Z"
    }
   },
   "source": [
    "### Cidade"
   ]
  },
  {
   "cell_type": "code",
   "execution_count": 80,
   "id": "d6c719de",
   "metadata": {
    "ExecuteTime": {
     "end_time": "2022-10-03T15:16:54.084029Z",
     "start_time": "2022-10-03T15:16:54.039052Z"
    },
    "run_control": {
     "marked": false
    }
   },
   "outputs": [
    {
     "data": {
      "text/plain": [
       "array(['franca', 'sao bernardo do campo', 'sao paulo', ...,\n",
       "       'monte bonito', 'sao rafael', 'eugenio de castro'], dtype=object)"
      ]
     },
     "execution_count": 80,
     "metadata": {},
     "output_type": "execute_result"
    }
   ],
   "source": [
    "clientes.customer_city.unique()"
   ]
  },
  {
   "cell_type": "code",
   "execution_count": 81,
   "id": "586b97d6",
   "metadata": {
    "ExecuteTime": {
     "end_time": "2022-10-03T15:16:55.584263Z",
     "start_time": "2022-10-03T15:16:55.546283Z"
    }
   },
   "outputs": [
    {
     "data": {
      "text/plain": [
       "4119"
      ]
     },
     "execution_count": 81,
     "metadata": {},
     "output_type": "execute_result"
    }
   ],
   "source": [
    "len(clientes.customer_city.unique())"
   ]
  },
  {
   "cell_type": "markdown",
   "id": "f5e1e2b6",
   "metadata": {},
   "source": [
    "### Estado"
   ]
  },
  {
   "cell_type": "code",
   "execution_count": 82,
   "id": "dd0c9dc4",
   "metadata": {
    "ExecuteTime": {
     "end_time": "2022-10-03T15:16:57.554691Z",
     "start_time": "2022-10-03T15:16:57.525708Z"
    }
   },
   "outputs": [
    {
     "data": {
      "text/plain": [
       "array(['SP', 'SC', 'MG', 'PR', 'RJ', 'RS', 'PA', 'GO', 'ES', 'BA', 'MA',\n",
       "       'MS', 'CE', 'DF', 'RN', 'PE', 'MT', 'AM', 'AP', 'AL', 'RO', 'PB',\n",
       "       'TO', 'PI', 'AC', 'SE', 'RR'], dtype=object)"
      ]
     },
     "execution_count": 82,
     "metadata": {},
     "output_type": "execute_result"
    }
   ],
   "source": [
    "clientes.customer_state.unique()"
   ]
  },
  {
   "cell_type": "code",
   "execution_count": 83,
   "id": "fbd28eb3",
   "metadata": {
    "ExecuteTime": {
     "end_time": "2022-10-03T15:16:58.580259Z",
     "start_time": "2022-10-03T15:16:58.551275Z"
    }
   },
   "outputs": [
    {
     "data": {
      "text/plain": [
       "27"
      ]
     },
     "execution_count": 83,
     "metadata": {},
     "output_type": "execute_result"
    }
   ],
   "source": [
    "len(clientes.customer_state.unique())"
   ]
  },
  {
   "cell_type": "code",
   "execution_count": 84,
   "id": "36fd9c28",
   "metadata": {
    "ExecuteTime": {
     "end_time": "2022-10-03T15:17:00.012575Z",
     "start_time": "2022-10-03T15:16:59.830685Z"
    }
   },
   "outputs": [
    {
     "data": {
      "text/html": [
       "<div>\n",
       "<style scoped>\n",
       "    .dataframe tbody tr th:only-of-type {\n",
       "        vertical-align: middle;\n",
       "    }\n",
       "\n",
       "    .dataframe tbody tr th {\n",
       "        vertical-align: top;\n",
       "    }\n",
       "\n",
       "    .dataframe thead th {\n",
       "        text-align: right;\n",
       "    }\n",
       "</style>\n",
       "<table border=\"1\" class=\"dataframe\">\n",
       "  <thead>\n",
       "    <tr style=\"text-align: right;\">\n",
       "      <th></th>\n",
       "      <th>customer_city</th>\n",
       "      <th>customer_id</th>\n",
       "    </tr>\n",
       "  </thead>\n",
       "  <tbody>\n",
       "    <tr>\n",
       "      <th>0</th>\n",
       "      <td>abadia dos dourados</td>\n",
       "      <td>3</td>\n",
       "    </tr>\n",
       "    <tr>\n",
       "      <th>1</th>\n",
       "      <td>abadiania</td>\n",
       "      <td>1</td>\n",
       "    </tr>\n",
       "    <tr>\n",
       "      <th>2</th>\n",
       "      <td>abaete</td>\n",
       "      <td>12</td>\n",
       "    </tr>\n",
       "    <tr>\n",
       "      <th>3</th>\n",
       "      <td>abaetetuba</td>\n",
       "      <td>11</td>\n",
       "    </tr>\n",
       "    <tr>\n",
       "      <th>4</th>\n",
       "      <td>abaiara</td>\n",
       "      <td>2</td>\n",
       "    </tr>\n",
       "    <tr>\n",
       "      <th>...</th>\n",
       "      <td>...</td>\n",
       "      <td>...</td>\n",
       "    </tr>\n",
       "    <tr>\n",
       "      <th>4114</th>\n",
       "      <td>xinguara</td>\n",
       "      <td>9</td>\n",
       "    </tr>\n",
       "    <tr>\n",
       "      <th>4115</th>\n",
       "      <td>xique-xique</td>\n",
       "      <td>3</td>\n",
       "    </tr>\n",
       "    <tr>\n",
       "      <th>4116</th>\n",
       "      <td>zacarias</td>\n",
       "      <td>2</td>\n",
       "    </tr>\n",
       "    <tr>\n",
       "      <th>4117</th>\n",
       "      <td>ze doca</td>\n",
       "      <td>5</td>\n",
       "    </tr>\n",
       "    <tr>\n",
       "      <th>4118</th>\n",
       "      <td>zortea</td>\n",
       "      <td>2</td>\n",
       "    </tr>\n",
       "  </tbody>\n",
       "</table>\n",
       "<p>4119 rows × 2 columns</p>\n",
       "</div>"
      ],
      "text/plain": [
       "            customer_city  customer_id\n",
       "0     abadia dos dourados            3\n",
       "1               abadiania            1\n",
       "2                  abaete           12\n",
       "3              abaetetuba           11\n",
       "4                 abaiara            2\n",
       "...                   ...          ...\n",
       "4114             xinguara            9\n",
       "4115          xique-xique            3\n",
       "4116             zacarias            2\n",
       "4117              ze doca            5\n",
       "4118               zortea            2\n",
       "\n",
       "[4119 rows x 2 columns]"
      ]
     },
     "execution_count": 84,
     "metadata": {},
     "output_type": "execute_result"
    }
   ],
   "source": [
    "clientes.groupby('customer_city').count()['customer_id'].reset_index()"
   ]
  },
  {
   "cell_type": "code",
   "execution_count": 29,
   "id": "aae0dbaa",
   "metadata": {
    "ExecuteTime": {
     "end_time": "2022-10-04T14:42:23.044929Z",
     "start_time": "2022-10-04T14:42:18.552134Z"
    }
   },
   "outputs": [],
   "source": [
    "itens = pd.read_csv(\"Data/itens.csv\") \n",
    "ordens = pd.read_csv(\"Data/ordens.csv\")\n",
    "produtos = pd.read_csv(\"Data/produtos.csv\")\n",
    "geolocal = pd.read_csv(\"Data/geolocal.csv\")\n",
    "clientes = pd.read_csv(\"Data/clientes.csv\")\n",
    "avaliacoes = pd.read_csv('Data/avaliacoes.csv')\n",
    "vendedores = pd.read_csv(\"Data/vendedores.csv\")\n",
    "pagamentos = pd.read_csv(\"Data/pagamentos.csv\")"
   ]
  },
  {
   "cell_type": "code",
   "execution_count": 14,
   "id": "eab6aeca",
   "metadata": {
    "ExecuteTime": {
     "end_time": "2022-10-04T14:01:07.166348Z",
     "start_time": "2022-10-04T14:01:07.059682Z"
    }
   },
   "outputs": [
    {
     "data": {
      "text/plain": [
       "delivered      96478\n",
       "shipped         1107\n",
       "canceled         625\n",
       "unavailable      609\n",
       "invoiced         314\n",
       "processing       301\n",
       "created            5\n",
       "approved           2\n",
       "Name: order_status, dtype: int64"
      ]
     },
     "execution_count": 14,
     "metadata": {},
     "output_type": "execute_result"
    }
   ],
   "source": [
    "ordens['order_status'].value_counts()"
   ]
  },
  {
   "cell_type": "code",
   "execution_count": 17,
   "id": "e37b584e",
   "metadata": {
    "ExecuteTime": {
     "end_time": "2022-10-04T14:02:27.997584Z",
     "start_time": "2022-10-04T14:02:27.956608Z"
    }
   },
   "outputs": [
    {
     "data": {
      "text/plain": [
       "Index(['Unnamed: 0.1', 'Unnamed: 0', 'review_id', 'order_id', 'review_score',\n",
       "       'review_creation_date', 'review_answer_timestamp'],\n",
       "      dtype='object')"
      ]
     },
     "execution_count": 17,
     "metadata": {},
     "output_type": "execute_result"
    }
   ],
   "source": [
    "avaliacoes.columns\n"
   ]
  },
  {
   "cell_type": "code",
   "execution_count": 19,
   "id": "c1861132",
   "metadata": {
    "ExecuteTime": {
     "end_time": "2022-10-04T14:03:08.387012Z",
     "start_time": "2022-10-04T14:03:08.274017Z"
    }
   },
   "outputs": [
    {
     "data": {
      "text/plain": [
       "5    57328\n",
       "4    19142\n",
       "1    11424\n",
       "3     8179\n",
       "2     3151\n",
       "Name: review_score, dtype: int64"
      ]
     },
     "execution_count": 19,
     "metadata": {},
     "output_type": "execute_result"
    }
   ],
   "source": [
    "avaliacoes['review_score'].value_counts()"
   ]
  },
  {
   "cell_type": "code",
   "execution_count": 32,
   "id": "c42d0902",
   "metadata": {
    "ExecuteTime": {
     "end_time": "2022-10-04T14:42:59.016492Z",
     "start_time": "2022-10-04T14:42:58.863786Z"
    }
   },
   "outputs": [
    {
     "data": {
      "text/html": [
       "<div>\n",
       "<style scoped>\n",
       "    .dataframe tbody tr th:only-of-type {\n",
       "        vertical-align: middle;\n",
       "    }\n",
       "\n",
       "    .dataframe tbody tr th {\n",
       "        vertical-align: top;\n",
       "    }\n",
       "\n",
       "    .dataframe thead th {\n",
       "        text-align: right;\n",
       "    }\n",
       "</style>\n",
       "<table border=\"1\" class=\"dataframe\">\n",
       "  <thead>\n",
       "    <tr style=\"text-align: right;\">\n",
       "      <th></th>\n",
       "      <th>Unnamed: 0_x</th>\n",
       "      <th>order_id</th>\n",
       "      <th>order_item_id</th>\n",
       "      <th>product_id</th>\n",
       "      <th>seller_id</th>\n",
       "      <th>shipping_limit_date</th>\n",
       "      <th>price</th>\n",
       "      <th>freight_value</th>\n",
       "      <th>Unnamed: 0_y</th>\n",
       "      <th>customer_id</th>\n",
       "      <th>order_status</th>\n",
       "      <th>order_purchase_timestamp</th>\n",
       "      <th>order_approved_at</th>\n",
       "      <th>order_delivered_carrier_date</th>\n",
       "      <th>order_delivered_customer_date</th>\n",
       "      <th>order_estimated_delivery_date</th>\n",
       "      <th>Unnamed: 0_x</th>\n",
       "      <th>seller_zip_code_prefix_x</th>\n",
       "      <th>seller_city_x</th>\n",
       "      <th>seller_state_x</th>\n",
       "      <th>Unnamed: 0_y</th>\n",
       "      <th>seller_zip_code_prefix_y</th>\n",
       "      <th>seller_city_y</th>\n",
       "      <th>seller_state_y</th>\n",
       "    </tr>\n",
       "  </thead>\n",
       "  <tbody>\n",
       "    <tr>\n",
       "      <th>0</th>\n",
       "      <td>0</td>\n",
       "      <td>00010242fe8c5a6d1ba2dd792cb16214</td>\n",
       "      <td>1</td>\n",
       "      <td>4244733e06e7ecb4970a6e2683c13e61</td>\n",
       "      <td>48436dade18ac8b2bce089ec2a041202</td>\n",
       "      <td>2017-09-19 09:45:35</td>\n",
       "      <td>58.90</td>\n",
       "      <td>13.29</td>\n",
       "      <td>85267</td>\n",
       "      <td>3ce436f183e68e07877b285a838db11a</td>\n",
       "      <td>delivered</td>\n",
       "      <td>2017-09-13 08:59:02</td>\n",
       "      <td>2017-09-13 09:45:35</td>\n",
       "      <td>2017-09-19 18:34:16</td>\n",
       "      <td>2017-09-20 23:43:48</td>\n",
       "      <td>2017-09-29</td>\n",
       "      <td>513</td>\n",
       "      <td>27277</td>\n",
       "      <td>volta redonda</td>\n",
       "      <td>SP</td>\n",
       "      <td>513</td>\n",
       "      <td>27277</td>\n",
       "      <td>volta redonda</td>\n",
       "      <td>SP</td>\n",
       "    </tr>\n",
       "    <tr>\n",
       "      <th>1</th>\n",
       "      <td>660</td>\n",
       "      <td>0188777fe321843a18be24a6e9aa1e53</td>\n",
       "      <td>1</td>\n",
       "      <td>436c8d57ff8d4aa254318e9bd9b48c83</td>\n",
       "      <td>48436dade18ac8b2bce089ec2a041202</td>\n",
       "      <td>2017-07-31 14:35:11</td>\n",
       "      <td>55.90</td>\n",
       "      <td>9.94</td>\n",
       "      <td>73287</td>\n",
       "      <td>dc573d2a61a467e5e2826c1729691859</td>\n",
       "      <td>delivered</td>\n",
       "      <td>2017-07-23 16:13:37</td>\n",
       "      <td>2017-07-25 14:35:11</td>\n",
       "      <td>2017-07-27 18:45:50</td>\n",
       "      <td>2017-07-28 16:18:00</td>\n",
       "      <td>2017-08-08</td>\n",
       "      <td>513</td>\n",
       "      <td>27277</td>\n",
       "      <td>volta redonda</td>\n",
       "      <td>SP</td>\n",
       "      <td>513</td>\n",
       "      <td>27277</td>\n",
       "      <td>volta redonda</td>\n",
       "      <td>SP</td>\n",
       "    </tr>\n",
       "    <tr>\n",
       "      <th>2</th>\n",
       "      <td>669</td>\n",
       "      <td>0191bbb5166d4b9a68df11797d5acfa9</td>\n",
       "      <td>1</td>\n",
       "      <td>ec02a5d380128f7a188e9ce8f3ddd832</td>\n",
       "      <td>48436dade18ac8b2bce089ec2a041202</td>\n",
       "      <td>2017-08-16 12:30:15</td>\n",
       "      <td>132.90</td>\n",
       "      <td>20.17</td>\n",
       "      <td>16173</td>\n",
       "      <td>62b59a64eb786a96516229b7f3612c72</td>\n",
       "      <td>delivered</td>\n",
       "      <td>2017-08-10 12:17:35</td>\n",
       "      <td>2017-08-10 12:30:15</td>\n",
       "      <td>2017-08-15 19:26:45</td>\n",
       "      <td>2017-08-24 18:15:16</td>\n",
       "      <td>2017-09-08</td>\n",
       "      <td>513</td>\n",
       "      <td>27277</td>\n",
       "      <td>volta redonda</td>\n",
       "      <td>SP</td>\n",
       "      <td>513</td>\n",
       "      <td>27277</td>\n",
       "      <td>volta redonda</td>\n",
       "      <td>SP</td>\n",
       "    </tr>\n",
       "    <tr>\n",
       "      <th>3</th>\n",
       "      <td>1295</td>\n",
       "      <td>03054d8a8eefc2981cfad06f58e27979</td>\n",
       "      <td>1</td>\n",
       "      <td>3e31fd1419cc4cd6adad1925e72e3a03</td>\n",
       "      <td>48436dade18ac8b2bce089ec2a041202</td>\n",
       "      <td>2017-10-09 10:35:11</td>\n",
       "      <td>58.90</td>\n",
       "      <td>15.16</td>\n",
       "      <td>3687</td>\n",
       "      <td>9bd2f246e81c19f65c539ce426288ef5</td>\n",
       "      <td>delivered</td>\n",
       "      <td>2017-10-02 10:25:22</td>\n",
       "      <td>2017-10-03 10:35:11</td>\n",
       "      <td>2017-10-09 17:57:50</td>\n",
       "      <td>2017-10-19 21:03:49</td>\n",
       "      <td>2017-10-25</td>\n",
       "      <td>513</td>\n",
       "      <td>27277</td>\n",
       "      <td>volta redonda</td>\n",
       "      <td>SP</td>\n",
       "      <td>513</td>\n",
       "      <td>27277</td>\n",
       "      <td>volta redonda</td>\n",
       "      <td>SP</td>\n",
       "    </tr>\n",
       "    <tr>\n",
       "      <th>4</th>\n",
       "      <td>5376</td>\n",
       "      <td>0c325ea6925de749e1420be0cf43587c</td>\n",
       "      <td>1</td>\n",
       "      <td>3a135477bf41350a0b1d8afdf616d446</td>\n",
       "      <td>48436dade18ac8b2bce089ec2a041202</td>\n",
       "      <td>2017-07-06 15:43:50</td>\n",
       "      <td>139.90</td>\n",
       "      <td>16.74</td>\n",
       "      <td>21044</td>\n",
       "      <td>e03505278b34146e87c0b4eb41e4f082</td>\n",
       "      <td>delivered</td>\n",
       "      <td>2017-07-01 15:27:23</td>\n",
       "      <td>2017-07-01 15:43:50</td>\n",
       "      <td>2017-07-05 12:00:33</td>\n",
       "      <td>2017-07-10 17:17:21</td>\n",
       "      <td>2017-07-25</td>\n",
       "      <td>513</td>\n",
       "      <td>27277</td>\n",
       "      <td>volta redonda</td>\n",
       "      <td>SP</td>\n",
       "      <td>513</td>\n",
       "      <td>27277</td>\n",
       "      <td>volta redonda</td>\n",
       "      <td>SP</td>\n",
       "    </tr>\n",
       "    <tr>\n",
       "      <th>...</th>\n",
       "      <td>...</td>\n",
       "      <td>...</td>\n",
       "      <td>...</td>\n",
       "      <td>...</td>\n",
       "      <td>...</td>\n",
       "      <td>...</td>\n",
       "      <td>...</td>\n",
       "      <td>...</td>\n",
       "      <td>...</td>\n",
       "      <td>...</td>\n",
       "      <td>...</td>\n",
       "      <td>...</td>\n",
       "      <td>...</td>\n",
       "      <td>...</td>\n",
       "      <td>...</td>\n",
       "      <td>...</td>\n",
       "      <td>...</td>\n",
       "      <td>...</td>\n",
       "      <td>...</td>\n",
       "      <td>...</td>\n",
       "      <td>...</td>\n",
       "      <td>...</td>\n",
       "      <td>...</td>\n",
       "      <td>...</td>\n",
       "    </tr>\n",
       "    <tr>\n",
       "      <th>112645</th>\n",
       "      <td>111812</td>\n",
       "      <td>fdfeec75aa07c1d2a88b17b8fbfc7b8f</td>\n",
       "      <td>1</td>\n",
       "      <td>11059273f4bc1a293777e98c89807c62</td>\n",
       "      <td>dbc51f5e45d654ecc16cb68e6817ecea</td>\n",
       "      <td>2017-03-01 22:42:22</td>\n",
       "      <td>199.99</td>\n",
       "      <td>18.14</td>\n",
       "      <td>22234</td>\n",
       "      <td>8fbd29638b8ddd97d012473abf1f7752</td>\n",
       "      <td>delivered</td>\n",
       "      <td>2017-02-24 22:28:55</td>\n",
       "      <td>2017-02-24 22:42:22</td>\n",
       "      <td>2017-03-04 11:58:57</td>\n",
       "      <td>2017-03-14 16:17:59</td>\n",
       "      <td>2017-03-21</td>\n",
       "      <td>2957</td>\n",
       "      <td>14402</td>\n",
       "      <td>franca</td>\n",
       "      <td>SP</td>\n",
       "      <td>2957</td>\n",
       "      <td>14402</td>\n",
       "      <td>franca</td>\n",
       "      <td>SP</td>\n",
       "    </tr>\n",
       "    <tr>\n",
       "      <th>112646</th>\n",
       "      <td>111998</td>\n",
       "      <td>fe68b52db13993f58175fa589125d345</td>\n",
       "      <td>1</td>\n",
       "      <td>f4135cbdece8245560f7be179533797a</td>\n",
       "      <td>3fefda3299e6dfaea3466ef346a3571a</td>\n",
       "      <td>2017-08-17 02:55:27</td>\n",
       "      <td>209.00</td>\n",
       "      <td>16.21</td>\n",
       "      <td>31620</td>\n",
       "      <td>94203a446c1b46b5ac95b0aaf7221804</td>\n",
       "      <td>delivered</td>\n",
       "      <td>2017-08-11 10:15:22</td>\n",
       "      <td>2017-08-12 02:55:27</td>\n",
       "      <td>2017-08-14 22:03:19</td>\n",
       "      <td>2017-08-17 17:47:55</td>\n",
       "      <td>2017-09-04</td>\n",
       "      <td>2705</td>\n",
       "      <td>82620</td>\n",
       "      <td>curitiba</td>\n",
       "      <td>PR</td>\n",
       "      <td>2705</td>\n",
       "      <td>82620</td>\n",
       "      <td>curitiba</td>\n",
       "      <td>PR</td>\n",
       "    </tr>\n",
       "    <tr>\n",
       "      <th>112647</th>\n",
       "      <td>112233</td>\n",
       "      <td>fefacc66af859508bf1a7934eab1e97f</td>\n",
       "      <td>1</td>\n",
       "      <td>69c590f7ffc7bf8db97190b6cb6ed62e</td>\n",
       "      <td>80ceebb4ee9b31afb6c6a916a574a1e2</td>\n",
       "      <td>2018-08-02 04:05:13</td>\n",
       "      <td>6729.00</td>\n",
       "      <td>193.21</td>\n",
       "      <td>28326</td>\n",
       "      <td>f48d464a0baaea338cb25f816991ab1f</td>\n",
       "      <td>delivered</td>\n",
       "      <td>2018-07-25 18:10:17</td>\n",
       "      <td>2018-07-27 04:05:13</td>\n",
       "      <td>2018-08-03 14:42:00</td>\n",
       "      <td>2018-08-15 14:57:50</td>\n",
       "      <td>2018-08-10</td>\n",
       "      <td>2916</td>\n",
       "      <td>86026</td>\n",
       "      <td>londrina</td>\n",
       "      <td>PR</td>\n",
       "      <td>2916</td>\n",
       "      <td>86026</td>\n",
       "      <td>londrina</td>\n",
       "      <td>PR</td>\n",
       "    </tr>\n",
       "    <tr>\n",
       "      <th>112648</th>\n",
       "      <td>112417</td>\n",
       "      <td>ff701a7c869ad21de22a6994237c8a00</td>\n",
       "      <td>1</td>\n",
       "      <td>5ff4076c0f01eeba4f728c9e3fa2653c</td>\n",
       "      <td>3e35a8bb43569389d3cebef0ce820f69</td>\n",
       "      <td>2018-04-18 20:10:33</td>\n",
       "      <td>27.90</td>\n",
       "      <td>14.44</td>\n",
       "      <td>60088</td>\n",
       "      <td>8f6d16c31abb30b7b4650272cb0014a3</td>\n",
       "      <td>delivered</td>\n",
       "      <td>2018-04-12 19:47:40</td>\n",
       "      <td>2018-04-12 20:10:33</td>\n",
       "      <td>2018-04-18 00:41:29</td>\n",
       "      <td>2018-04-20 17:48:39</td>\n",
       "      <td>2018-04-30</td>\n",
       "      <td>2507</td>\n",
       "      <td>3124</td>\n",
       "      <td>sao paulo</td>\n",
       "      <td>SP</td>\n",
       "      <td>2507</td>\n",
       "      <td>3124</td>\n",
       "      <td>sao paulo</td>\n",
       "      <td>SP</td>\n",
       "    </tr>\n",
       "    <tr>\n",
       "      <th>112649</th>\n",
       "      <td>112418</td>\n",
       "      <td>ff701a7c869ad21de22a6994237c8a00</td>\n",
       "      <td>2</td>\n",
       "      <td>5ff4076c0f01eeba4f728c9e3fa2653c</td>\n",
       "      <td>3e35a8bb43569389d3cebef0ce820f69</td>\n",
       "      <td>2018-04-18 20:10:33</td>\n",
       "      <td>27.90</td>\n",
       "      <td>14.44</td>\n",
       "      <td>60088</td>\n",
       "      <td>8f6d16c31abb30b7b4650272cb0014a3</td>\n",
       "      <td>delivered</td>\n",
       "      <td>2018-04-12 19:47:40</td>\n",
       "      <td>2018-04-12 20:10:33</td>\n",
       "      <td>2018-04-18 00:41:29</td>\n",
       "      <td>2018-04-20 17:48:39</td>\n",
       "      <td>2018-04-30</td>\n",
       "      <td>2507</td>\n",
       "      <td>3124</td>\n",
       "      <td>sao paulo</td>\n",
       "      <td>SP</td>\n",
       "      <td>2507</td>\n",
       "      <td>3124</td>\n",
       "      <td>sao paulo</td>\n",
       "      <td>SP</td>\n",
       "    </tr>\n",
       "  </tbody>\n",
       "</table>\n",
       "<p>112650 rows × 24 columns</p>\n",
       "</div>"
      ],
      "text/plain": [
       "        Unnamed: 0_x                          order_id  order_item_id  \\\n",
       "0                  0  00010242fe8c5a6d1ba2dd792cb16214              1   \n",
       "1                660  0188777fe321843a18be24a6e9aa1e53              1   \n",
       "2                669  0191bbb5166d4b9a68df11797d5acfa9              1   \n",
       "3               1295  03054d8a8eefc2981cfad06f58e27979              1   \n",
       "4               5376  0c325ea6925de749e1420be0cf43587c              1   \n",
       "...              ...                               ...            ...   \n",
       "112645        111812  fdfeec75aa07c1d2a88b17b8fbfc7b8f              1   \n",
       "112646        111998  fe68b52db13993f58175fa589125d345              1   \n",
       "112647        112233  fefacc66af859508bf1a7934eab1e97f              1   \n",
       "112648        112417  ff701a7c869ad21de22a6994237c8a00              1   \n",
       "112649        112418  ff701a7c869ad21de22a6994237c8a00              2   \n",
       "\n",
       "                              product_id                         seller_id  \\\n",
       "0       4244733e06e7ecb4970a6e2683c13e61  48436dade18ac8b2bce089ec2a041202   \n",
       "1       436c8d57ff8d4aa254318e9bd9b48c83  48436dade18ac8b2bce089ec2a041202   \n",
       "2       ec02a5d380128f7a188e9ce8f3ddd832  48436dade18ac8b2bce089ec2a041202   \n",
       "3       3e31fd1419cc4cd6adad1925e72e3a03  48436dade18ac8b2bce089ec2a041202   \n",
       "4       3a135477bf41350a0b1d8afdf616d446  48436dade18ac8b2bce089ec2a041202   \n",
       "...                                  ...                               ...   \n",
       "112645  11059273f4bc1a293777e98c89807c62  dbc51f5e45d654ecc16cb68e6817ecea   \n",
       "112646  f4135cbdece8245560f7be179533797a  3fefda3299e6dfaea3466ef346a3571a   \n",
       "112647  69c590f7ffc7bf8db97190b6cb6ed62e  80ceebb4ee9b31afb6c6a916a574a1e2   \n",
       "112648  5ff4076c0f01eeba4f728c9e3fa2653c  3e35a8bb43569389d3cebef0ce820f69   \n",
       "112649  5ff4076c0f01eeba4f728c9e3fa2653c  3e35a8bb43569389d3cebef0ce820f69   \n",
       "\n",
       "        shipping_limit_date    price  freight_value  Unnamed: 0_y  \\\n",
       "0       2017-09-19 09:45:35    58.90          13.29         85267   \n",
       "1       2017-07-31 14:35:11    55.90           9.94         73287   \n",
       "2       2017-08-16 12:30:15   132.90          20.17         16173   \n",
       "3       2017-10-09 10:35:11    58.90          15.16          3687   \n",
       "4       2017-07-06 15:43:50   139.90          16.74         21044   \n",
       "...                     ...      ...            ...           ...   \n",
       "112645  2017-03-01 22:42:22   199.99          18.14         22234   \n",
       "112646  2017-08-17 02:55:27   209.00          16.21         31620   \n",
       "112647  2018-08-02 04:05:13  6729.00         193.21         28326   \n",
       "112648  2018-04-18 20:10:33    27.90          14.44         60088   \n",
       "112649  2018-04-18 20:10:33    27.90          14.44         60088   \n",
       "\n",
       "                             customer_id order_status  \\\n",
       "0       3ce436f183e68e07877b285a838db11a    delivered   \n",
       "1       dc573d2a61a467e5e2826c1729691859    delivered   \n",
       "2       62b59a64eb786a96516229b7f3612c72    delivered   \n",
       "3       9bd2f246e81c19f65c539ce426288ef5    delivered   \n",
       "4       e03505278b34146e87c0b4eb41e4f082    delivered   \n",
       "...                                  ...          ...   \n",
       "112645  8fbd29638b8ddd97d012473abf1f7752    delivered   \n",
       "112646  94203a446c1b46b5ac95b0aaf7221804    delivered   \n",
       "112647  f48d464a0baaea338cb25f816991ab1f    delivered   \n",
       "112648  8f6d16c31abb30b7b4650272cb0014a3    delivered   \n",
       "112649  8f6d16c31abb30b7b4650272cb0014a3    delivered   \n",
       "\n",
       "       order_purchase_timestamp    order_approved_at  \\\n",
       "0           2017-09-13 08:59:02  2017-09-13 09:45:35   \n",
       "1           2017-07-23 16:13:37  2017-07-25 14:35:11   \n",
       "2           2017-08-10 12:17:35  2017-08-10 12:30:15   \n",
       "3           2017-10-02 10:25:22  2017-10-03 10:35:11   \n",
       "4           2017-07-01 15:27:23  2017-07-01 15:43:50   \n",
       "...                         ...                  ...   \n",
       "112645      2017-02-24 22:28:55  2017-02-24 22:42:22   \n",
       "112646      2017-08-11 10:15:22  2017-08-12 02:55:27   \n",
       "112647      2018-07-25 18:10:17  2018-07-27 04:05:13   \n",
       "112648      2018-04-12 19:47:40  2018-04-12 20:10:33   \n",
       "112649      2018-04-12 19:47:40  2018-04-12 20:10:33   \n",
       "\n",
       "       order_delivered_carrier_date order_delivered_customer_date  \\\n",
       "0               2017-09-19 18:34:16           2017-09-20 23:43:48   \n",
       "1               2017-07-27 18:45:50           2017-07-28 16:18:00   \n",
       "2               2017-08-15 19:26:45           2017-08-24 18:15:16   \n",
       "3               2017-10-09 17:57:50           2017-10-19 21:03:49   \n",
       "4               2017-07-05 12:00:33           2017-07-10 17:17:21   \n",
       "...                             ...                           ...   \n",
       "112645          2017-03-04 11:58:57           2017-03-14 16:17:59   \n",
       "112646          2017-08-14 22:03:19           2017-08-17 17:47:55   \n",
       "112647          2018-08-03 14:42:00           2018-08-15 14:57:50   \n",
       "112648          2018-04-18 00:41:29           2018-04-20 17:48:39   \n",
       "112649          2018-04-18 00:41:29           2018-04-20 17:48:39   \n",
       "\n",
       "       order_estimated_delivery_date  Unnamed: 0_x  seller_zip_code_prefix_x  \\\n",
       "0                         2017-09-29           513                     27277   \n",
       "1                         2017-08-08           513                     27277   \n",
       "2                         2017-09-08           513                     27277   \n",
       "3                         2017-10-25           513                     27277   \n",
       "4                         2017-07-25           513                     27277   \n",
       "...                              ...           ...                       ...   \n",
       "112645                    2017-03-21          2957                     14402   \n",
       "112646                    2017-09-04          2705                     82620   \n",
       "112647                    2018-08-10          2916                     86026   \n",
       "112648                    2018-04-30          2507                      3124   \n",
       "112649                    2018-04-30          2507                      3124   \n",
       "\n",
       "        seller_city_x seller_state_x  Unnamed: 0_y  seller_zip_code_prefix_y  \\\n",
       "0       volta redonda             SP           513                     27277   \n",
       "1       volta redonda             SP           513                     27277   \n",
       "2       volta redonda             SP           513                     27277   \n",
       "3       volta redonda             SP           513                     27277   \n",
       "4       volta redonda             SP           513                     27277   \n",
       "...               ...            ...           ...                       ...   \n",
       "112645         franca             SP          2957                     14402   \n",
       "112646       curitiba             PR          2705                     82620   \n",
       "112647       londrina             PR          2916                     86026   \n",
       "112648      sao paulo             SP          2507                      3124   \n",
       "112649      sao paulo             SP          2507                      3124   \n",
       "\n",
       "        seller_city_y seller_state_y  \n",
       "0       volta redonda             SP  \n",
       "1       volta redonda             SP  \n",
       "2       volta redonda             SP  \n",
       "3       volta redonda             SP  \n",
       "4       volta redonda             SP  \n",
       "...               ...            ...  \n",
       "112645         franca             SP  \n",
       "112646       curitiba             PR  \n",
       "112647       londrina             PR  \n",
       "112648      sao paulo             SP  \n",
       "112649      sao paulo             SP  \n",
       "\n",
       "[112650 rows x 24 columns]"
      ]
     },
     "execution_count": 32,
     "metadata": {},
     "output_type": "execute_result"
    }
   ],
   "source": [
    "df.merge(vendedores, on='seller_id')"
   ]
  },
  {
   "cell_type": "code",
   "execution_count": 31,
   "id": "320b63d3",
   "metadata": {
    "ExecuteTime": {
     "end_time": "2022-10-04T14:42:47.482567Z",
     "start_time": "2022-10-04T14:42:47.291170Z"
    }
   },
   "outputs": [
    {
     "data": {
      "text/html": [
       "<div>\n",
       "<style scoped>\n",
       "    .dataframe tbody tr th:only-of-type {\n",
       "        vertical-align: middle;\n",
       "    }\n",
       "\n",
       "    .dataframe tbody tr th {\n",
       "        vertical-align: top;\n",
       "    }\n",
       "\n",
       "    .dataframe thead th {\n",
       "        text-align: right;\n",
       "    }\n",
       "</style>\n",
       "<table border=\"1\" class=\"dataframe\">\n",
       "  <thead>\n",
       "    <tr style=\"text-align: right;\">\n",
       "      <th></th>\n",
       "      <th>Unnamed: 0_x</th>\n",
       "      <th>order_id</th>\n",
       "      <th>customer_id</th>\n",
       "      <th>order_status</th>\n",
       "      <th>order_purchase_timestamp</th>\n",
       "      <th>order_approved_at</th>\n",
       "      <th>order_delivered_carrier_date</th>\n",
       "      <th>order_delivered_customer_date</th>\n",
       "      <th>order_estimated_delivery_date</th>\n",
       "      <th>Unnamed: 0_y</th>\n",
       "      <th>payment_sequential</th>\n",
       "      <th>payment_type</th>\n",
       "      <th>payment_installments</th>\n",
       "      <th>payment_value</th>\n",
       "    </tr>\n",
       "  </thead>\n",
       "  <tbody>\n",
       "    <tr>\n",
       "      <th>0</th>\n",
       "      <td>0</td>\n",
       "      <td>e481f51cbdc54678b7cc49136f2d6af7</td>\n",
       "      <td>9ef432eb6251297304e76186b10a928d</td>\n",
       "      <td>delivered</td>\n",
       "      <td>2017-10-02 10:56:33</td>\n",
       "      <td>2017-10-02 11:07:15</td>\n",
       "      <td>2017-10-04 19:55:00</td>\n",
       "      <td>2017-10-10 21:25:13</td>\n",
       "      <td>2017-10-18</td>\n",
       "      <td>10770</td>\n",
       "      <td>1</td>\n",
       "      <td>credit_card</td>\n",
       "      <td>1</td>\n",
       "      <td>18.12</td>\n",
       "    </tr>\n",
       "    <tr>\n",
       "      <th>1</th>\n",
       "      <td>0</td>\n",
       "      <td>e481f51cbdc54678b7cc49136f2d6af7</td>\n",
       "      <td>9ef432eb6251297304e76186b10a928d</td>\n",
       "      <td>delivered</td>\n",
       "      <td>2017-10-02 10:56:33</td>\n",
       "      <td>2017-10-02 11:07:15</td>\n",
       "      <td>2017-10-04 19:55:00</td>\n",
       "      <td>2017-10-10 21:25:13</td>\n",
       "      <td>2017-10-18</td>\n",
       "      <td>44246</td>\n",
       "      <td>3</td>\n",
       "      <td>voucher</td>\n",
       "      <td>1</td>\n",
       "      <td>2.00</td>\n",
       "    </tr>\n",
       "  </tbody>\n",
       "</table>\n",
       "</div>"
      ],
      "text/plain": [
       "   Unnamed: 0_x                          order_id  \\\n",
       "0             0  e481f51cbdc54678b7cc49136f2d6af7   \n",
       "1             0  e481f51cbdc54678b7cc49136f2d6af7   \n",
       "\n",
       "                        customer_id order_status order_purchase_timestamp  \\\n",
       "0  9ef432eb6251297304e76186b10a928d    delivered      2017-10-02 10:56:33   \n",
       "1  9ef432eb6251297304e76186b10a928d    delivered      2017-10-02 10:56:33   \n",
       "\n",
       "     order_approved_at order_delivered_carrier_date  \\\n",
       "0  2017-10-02 11:07:15          2017-10-04 19:55:00   \n",
       "1  2017-10-02 11:07:15          2017-10-04 19:55:00   \n",
       "\n",
       "  order_delivered_customer_date order_estimated_delivery_date  Unnamed: 0_y  \\\n",
       "0           2017-10-10 21:25:13                    2017-10-18         10770   \n",
       "1           2017-10-10 21:25:13                    2017-10-18         44246   \n",
       "\n",
       "   payment_sequential payment_type  payment_installments  payment_value  \n",
       "0                   1  credit_card                     1          18.12  \n",
       "1                   3      voucher                     1           2.00  "
      ]
     },
     "execution_count": 31,
     "metadata": {},
     "output_type": "execute_result"
    }
   ],
   "source": [
    "pd.merge(ordens,pagamentos, on='order_id')"
   ]
  },
  {
   "cell_type": "code",
   "execution_count": 33,
   "id": "51471a7d",
   "metadata": {
    "ExecuteTime": {
     "end_time": "2022-10-04T14:45:01.117822Z",
     "start_time": "2022-10-04T14:45:00.671099Z"
    }
   },
   "outputs": [
    {
     "data": {
      "text/html": [
       "<div>\n",
       "<style scoped>\n",
       "    .dataframe tbody tr th:only-of-type {\n",
       "        vertical-align: middle;\n",
       "    }\n",
       "\n",
       "    .dataframe tbody tr th {\n",
       "        vertical-align: top;\n",
       "    }\n",
       "\n",
       "    .dataframe thead th {\n",
       "        text-align: right;\n",
       "    }\n",
       "</style>\n",
       "<table border=\"1\" class=\"dataframe\">\n",
       "  <thead>\n",
       "    <tr style=\"text-align: right;\">\n",
       "      <th></th>\n",
       "      <th>Unnamed: 0_x</th>\n",
       "      <th>order_id</th>\n",
       "      <th>order_item_id</th>\n",
       "      <th>product_id</th>\n",
       "      <th>seller_id</th>\n",
       "      <th>shipping_limit_date</th>\n",
       "      <th>price</th>\n",
       "      <th>freight_value</th>\n",
       "      <th>Unnamed: 0_y</th>\n",
       "      <th>customer_id</th>\n",
       "      <th>order_status</th>\n",
       "      <th>order_purchase_timestamp</th>\n",
       "      <th>order_approved_at</th>\n",
       "      <th>order_delivered_carrier_date</th>\n",
       "      <th>order_delivered_customer_date</th>\n",
       "      <th>order_estimated_delivery_date</th>\n",
       "      <th>Unnamed: 0_x</th>\n",
       "      <th>seller_zip_code_prefix</th>\n",
       "      <th>seller_city</th>\n",
       "      <th>seller_state</th>\n",
       "      <th>Unnamed: 0_y</th>\n",
       "      <th>customer_unique_id</th>\n",
       "      <th>customer_zip_code_prefix</th>\n",
       "      <th>customer_city</th>\n",
       "      <th>customer_state</th>\n",
       "    </tr>\n",
       "  </thead>\n",
       "  <tbody>\n",
       "    <tr>\n",
       "      <th>0</th>\n",
       "      <td>0</td>\n",
       "      <td>00010242fe8c5a6d1ba2dd792cb16214</td>\n",
       "      <td>1</td>\n",
       "      <td>4244733e06e7ecb4970a6e2683c13e61</td>\n",
       "      <td>48436dade18ac8b2bce089ec2a041202</td>\n",
       "      <td>2017-09-19 09:45:35</td>\n",
       "      <td>58.90</td>\n",
       "      <td>13.29</td>\n",
       "      <td>85267</td>\n",
       "      <td>3ce436f183e68e07877b285a838db11a</td>\n",
       "      <td>delivered</td>\n",
       "      <td>2017-09-13 08:59:02</td>\n",
       "      <td>2017-09-13 09:45:35</td>\n",
       "      <td>2017-09-19 18:34:16</td>\n",
       "      <td>2017-09-20 23:43:48</td>\n",
       "      <td>2017-09-29</td>\n",
       "      <td>513</td>\n",
       "      <td>27277</td>\n",
       "      <td>volta redonda</td>\n",
       "      <td>SP</td>\n",
       "      <td>65557</td>\n",
       "      <td>871766c5855e863f6eccc05f988b23cb</td>\n",
       "      <td>28013</td>\n",
       "      <td>campos dos goytacazes</td>\n",
       "      <td>RJ</td>\n",
       "    </tr>\n",
       "    <tr>\n",
       "      <th>1</th>\n",
       "      <td>660</td>\n",
       "      <td>0188777fe321843a18be24a6e9aa1e53</td>\n",
       "      <td>1</td>\n",
       "      <td>436c8d57ff8d4aa254318e9bd9b48c83</td>\n",
       "      <td>48436dade18ac8b2bce089ec2a041202</td>\n",
       "      <td>2017-07-31 14:35:11</td>\n",
       "      <td>55.90</td>\n",
       "      <td>9.94</td>\n",
       "      <td>73287</td>\n",
       "      <td>dc573d2a61a467e5e2826c1729691859</td>\n",
       "      <td>delivered</td>\n",
       "      <td>2017-07-23 16:13:37</td>\n",
       "      <td>2017-07-25 14:35:11</td>\n",
       "      <td>2017-07-27 18:45:50</td>\n",
       "      <td>2017-07-28 16:18:00</td>\n",
       "      <td>2017-08-08</td>\n",
       "      <td>513</td>\n",
       "      <td>27277</td>\n",
       "      <td>volta redonda</td>\n",
       "      <td>SP</td>\n",
       "      <td>54370</td>\n",
       "      <td>f81c042ed0162a51b90372c233b4fbad</td>\n",
       "      <td>25240</td>\n",
       "      <td>duque de caxias</td>\n",
       "      <td>RJ</td>\n",
       "    </tr>\n",
       "    <tr>\n",
       "      <th>2</th>\n",
       "      <td>669</td>\n",
       "      <td>0191bbb5166d4b9a68df11797d5acfa9</td>\n",
       "      <td>1</td>\n",
       "      <td>ec02a5d380128f7a188e9ce8f3ddd832</td>\n",
       "      <td>48436dade18ac8b2bce089ec2a041202</td>\n",
       "      <td>2017-08-16 12:30:15</td>\n",
       "      <td>132.90</td>\n",
       "      <td>20.17</td>\n",
       "      <td>16173</td>\n",
       "      <td>62b59a64eb786a96516229b7f3612c72</td>\n",
       "      <td>delivered</td>\n",
       "      <td>2017-08-10 12:17:35</td>\n",
       "      <td>2017-08-10 12:30:15</td>\n",
       "      <td>2017-08-15 19:26:45</td>\n",
       "      <td>2017-08-24 18:15:16</td>\n",
       "      <td>2017-09-08</td>\n",
       "      <td>513</td>\n",
       "      <td>27277</td>\n",
       "      <td>volta redonda</td>\n",
       "      <td>SP</td>\n",
       "      <td>78523</td>\n",
       "      <td>921fa6982e780da7d9e0bb6ca11b380c</td>\n",
       "      <td>93010</td>\n",
       "      <td>sao leopoldo</td>\n",
       "      <td>RS</td>\n",
       "    </tr>\n",
       "    <tr>\n",
       "      <th>3</th>\n",
       "      <td>1295</td>\n",
       "      <td>03054d8a8eefc2981cfad06f58e27979</td>\n",
       "      <td>1</td>\n",
       "      <td>3e31fd1419cc4cd6adad1925e72e3a03</td>\n",
       "      <td>48436dade18ac8b2bce089ec2a041202</td>\n",
       "      <td>2017-10-09 10:35:11</td>\n",
       "      <td>58.90</td>\n",
       "      <td>15.16</td>\n",
       "      <td>3687</td>\n",
       "      <td>9bd2f246e81c19f65c539ce426288ef5</td>\n",
       "      <td>delivered</td>\n",
       "      <td>2017-10-02 10:25:22</td>\n",
       "      <td>2017-10-03 10:35:11</td>\n",
       "      <td>2017-10-09 17:57:50</td>\n",
       "      <td>2017-10-19 21:03:49</td>\n",
       "      <td>2017-10-25</td>\n",
       "      <td>513</td>\n",
       "      <td>27277</td>\n",
       "      <td>volta redonda</td>\n",
       "      <td>SP</td>\n",
       "      <td>2084</td>\n",
       "      <td>d46eb9ba6d6b75c1dac85b91911fc9c2</td>\n",
       "      <td>3560</td>\n",
       "      <td>sao paulo</td>\n",
       "      <td>SP</td>\n",
       "    </tr>\n",
       "    <tr>\n",
       "      <th>4</th>\n",
       "      <td>5376</td>\n",
       "      <td>0c325ea6925de749e1420be0cf43587c</td>\n",
       "      <td>1</td>\n",
       "      <td>3a135477bf41350a0b1d8afdf616d446</td>\n",
       "      <td>48436dade18ac8b2bce089ec2a041202</td>\n",
       "      <td>2017-07-06 15:43:50</td>\n",
       "      <td>139.90</td>\n",
       "      <td>16.74</td>\n",
       "      <td>21044</td>\n",
       "      <td>e03505278b34146e87c0b4eb41e4f082</td>\n",
       "      <td>delivered</td>\n",
       "      <td>2017-07-01 15:27:23</td>\n",
       "      <td>2017-07-01 15:43:50</td>\n",
       "      <td>2017-07-05 12:00:33</td>\n",
       "      <td>2017-07-10 17:17:21</td>\n",
       "      <td>2017-07-25</td>\n",
       "      <td>513</td>\n",
       "      <td>27277</td>\n",
       "      <td>volta redonda</td>\n",
       "      <td>SP</td>\n",
       "      <td>12002</td>\n",
       "      <td>c082f4437360e3466068035e94a3345b</td>\n",
       "      <td>18540</td>\n",
       "      <td>porto feliz</td>\n",
       "      <td>SP</td>\n",
       "    </tr>\n",
       "    <tr>\n",
       "      <th>...</th>\n",
       "      <td>...</td>\n",
       "      <td>...</td>\n",
       "      <td>...</td>\n",
       "      <td>...</td>\n",
       "      <td>...</td>\n",
       "      <td>...</td>\n",
       "      <td>...</td>\n",
       "      <td>...</td>\n",
       "      <td>...</td>\n",
       "      <td>...</td>\n",
       "      <td>...</td>\n",
       "      <td>...</td>\n",
       "      <td>...</td>\n",
       "      <td>...</td>\n",
       "      <td>...</td>\n",
       "      <td>...</td>\n",
       "      <td>...</td>\n",
       "      <td>...</td>\n",
       "      <td>...</td>\n",
       "      <td>...</td>\n",
       "      <td>...</td>\n",
       "      <td>...</td>\n",
       "      <td>...</td>\n",
       "      <td>...</td>\n",
       "      <td>...</td>\n",
       "    </tr>\n",
       "    <tr>\n",
       "      <th>112645</th>\n",
       "      <td>111812</td>\n",
       "      <td>fdfeec75aa07c1d2a88b17b8fbfc7b8f</td>\n",
       "      <td>1</td>\n",
       "      <td>11059273f4bc1a293777e98c89807c62</td>\n",
       "      <td>dbc51f5e45d654ecc16cb68e6817ecea</td>\n",
       "      <td>2017-03-01 22:42:22</td>\n",
       "      <td>199.99</td>\n",
       "      <td>18.14</td>\n",
       "      <td>22234</td>\n",
       "      <td>8fbd29638b8ddd97d012473abf1f7752</td>\n",
       "      <td>delivered</td>\n",
       "      <td>2017-02-24 22:28:55</td>\n",
       "      <td>2017-02-24 22:42:22</td>\n",
       "      <td>2017-03-04 11:58:57</td>\n",
       "      <td>2017-03-14 16:17:59</td>\n",
       "      <td>2017-03-21</td>\n",
       "      <td>2957</td>\n",
       "      <td>14402</td>\n",
       "      <td>franca</td>\n",
       "      <td>SP</td>\n",
       "      <td>89450</td>\n",
       "      <td>4d34eb7a11a201d8a2317a791adbcb29</td>\n",
       "      <td>23812</td>\n",
       "      <td>itaguai</td>\n",
       "      <td>RJ</td>\n",
       "    </tr>\n",
       "    <tr>\n",
       "      <th>112646</th>\n",
       "      <td>111998</td>\n",
       "      <td>fe68b52db13993f58175fa589125d345</td>\n",
       "      <td>1</td>\n",
       "      <td>f4135cbdece8245560f7be179533797a</td>\n",
       "      <td>3fefda3299e6dfaea3466ef346a3571a</td>\n",
       "      <td>2017-08-17 02:55:27</td>\n",
       "      <td>209.00</td>\n",
       "      <td>16.21</td>\n",
       "      <td>31620</td>\n",
       "      <td>94203a446c1b46b5ac95b0aaf7221804</td>\n",
       "      <td>delivered</td>\n",
       "      <td>2017-08-11 10:15:22</td>\n",
       "      <td>2017-08-12 02:55:27</td>\n",
       "      <td>2017-08-14 22:03:19</td>\n",
       "      <td>2017-08-17 17:47:55</td>\n",
       "      <td>2017-09-04</td>\n",
       "      <td>2705</td>\n",
       "      <td>82620</td>\n",
       "      <td>curitiba</td>\n",
       "      <td>PR</td>\n",
       "      <td>45692</td>\n",
       "      <td>52a953541861bbb4b79b39df24e00243</td>\n",
       "      <td>13485</td>\n",
       "      <td>limeira</td>\n",
       "      <td>SP</td>\n",
       "    </tr>\n",
       "    <tr>\n",
       "      <th>112647</th>\n",
       "      <td>112233</td>\n",
       "      <td>fefacc66af859508bf1a7934eab1e97f</td>\n",
       "      <td>1</td>\n",
       "      <td>69c590f7ffc7bf8db97190b6cb6ed62e</td>\n",
       "      <td>80ceebb4ee9b31afb6c6a916a574a1e2</td>\n",
       "      <td>2018-08-02 04:05:13</td>\n",
       "      <td>6729.00</td>\n",
       "      <td>193.21</td>\n",
       "      <td>28326</td>\n",
       "      <td>f48d464a0baaea338cb25f816991ab1f</td>\n",
       "      <td>delivered</td>\n",
       "      <td>2018-07-25 18:10:17</td>\n",
       "      <td>2018-07-27 04:05:13</td>\n",
       "      <td>2018-08-03 14:42:00</td>\n",
       "      <td>2018-08-15 14:57:50</td>\n",
       "      <td>2018-08-10</td>\n",
       "      <td>2916</td>\n",
       "      <td>86026</td>\n",
       "      <td>londrina</td>\n",
       "      <td>PR</td>\n",
       "      <td>21171</td>\n",
       "      <td>459bef486812aa25204be022145caa62</td>\n",
       "      <td>29066</td>\n",
       "      <td>vitoria</td>\n",
       "      <td>ES</td>\n",
       "    </tr>\n",
       "    <tr>\n",
       "      <th>112648</th>\n",
       "      <td>112417</td>\n",
       "      <td>ff701a7c869ad21de22a6994237c8a00</td>\n",
       "      <td>1</td>\n",
       "      <td>5ff4076c0f01eeba4f728c9e3fa2653c</td>\n",
       "      <td>3e35a8bb43569389d3cebef0ce820f69</td>\n",
       "      <td>2018-04-18 20:10:33</td>\n",
       "      <td>27.90</td>\n",
       "      <td>14.44</td>\n",
       "      <td>60088</td>\n",
       "      <td>8f6d16c31abb30b7b4650272cb0014a3</td>\n",
       "      <td>delivered</td>\n",
       "      <td>2018-04-12 19:47:40</td>\n",
       "      <td>2018-04-12 20:10:33</td>\n",
       "      <td>2018-04-18 00:41:29</td>\n",
       "      <td>2018-04-20 17:48:39</td>\n",
       "      <td>2018-04-30</td>\n",
       "      <td>2507</td>\n",
       "      <td>3124</td>\n",
       "      <td>sao paulo</td>\n",
       "      <td>SP</td>\n",
       "      <td>51136</td>\n",
       "      <td>ddb2249e0316d365ceae561c0f011bce</td>\n",
       "      <td>12280</td>\n",
       "      <td>cacapava</td>\n",
       "      <td>SP</td>\n",
       "    </tr>\n",
       "    <tr>\n",
       "      <th>112649</th>\n",
       "      <td>112418</td>\n",
       "      <td>ff701a7c869ad21de22a6994237c8a00</td>\n",
       "      <td>2</td>\n",
       "      <td>5ff4076c0f01eeba4f728c9e3fa2653c</td>\n",
       "      <td>3e35a8bb43569389d3cebef0ce820f69</td>\n",
       "      <td>2018-04-18 20:10:33</td>\n",
       "      <td>27.90</td>\n",
       "      <td>14.44</td>\n",
       "      <td>60088</td>\n",
       "      <td>8f6d16c31abb30b7b4650272cb0014a3</td>\n",
       "      <td>delivered</td>\n",
       "      <td>2018-04-12 19:47:40</td>\n",
       "      <td>2018-04-12 20:10:33</td>\n",
       "      <td>2018-04-18 00:41:29</td>\n",
       "      <td>2018-04-20 17:48:39</td>\n",
       "      <td>2018-04-30</td>\n",
       "      <td>2507</td>\n",
       "      <td>3124</td>\n",
       "      <td>sao paulo</td>\n",
       "      <td>SP</td>\n",
       "      <td>51136</td>\n",
       "      <td>ddb2249e0316d365ceae561c0f011bce</td>\n",
       "      <td>12280</td>\n",
       "      <td>cacapava</td>\n",
       "      <td>SP</td>\n",
       "    </tr>\n",
       "  </tbody>\n",
       "</table>\n",
       "<p>112650 rows × 25 columns</p>\n",
       "</div>"
      ],
      "text/plain": [
       "        Unnamed: 0_x                          order_id  order_item_id  \\\n",
       "0                  0  00010242fe8c5a6d1ba2dd792cb16214              1   \n",
       "1                660  0188777fe321843a18be24a6e9aa1e53              1   \n",
       "2                669  0191bbb5166d4b9a68df11797d5acfa9              1   \n",
       "3               1295  03054d8a8eefc2981cfad06f58e27979              1   \n",
       "4               5376  0c325ea6925de749e1420be0cf43587c              1   \n",
       "...              ...                               ...            ...   \n",
       "112645        111812  fdfeec75aa07c1d2a88b17b8fbfc7b8f              1   \n",
       "112646        111998  fe68b52db13993f58175fa589125d345              1   \n",
       "112647        112233  fefacc66af859508bf1a7934eab1e97f              1   \n",
       "112648        112417  ff701a7c869ad21de22a6994237c8a00              1   \n",
       "112649        112418  ff701a7c869ad21de22a6994237c8a00              2   \n",
       "\n",
       "                              product_id                         seller_id  \\\n",
       "0       4244733e06e7ecb4970a6e2683c13e61  48436dade18ac8b2bce089ec2a041202   \n",
       "1       436c8d57ff8d4aa254318e9bd9b48c83  48436dade18ac8b2bce089ec2a041202   \n",
       "2       ec02a5d380128f7a188e9ce8f3ddd832  48436dade18ac8b2bce089ec2a041202   \n",
       "3       3e31fd1419cc4cd6adad1925e72e3a03  48436dade18ac8b2bce089ec2a041202   \n",
       "4       3a135477bf41350a0b1d8afdf616d446  48436dade18ac8b2bce089ec2a041202   \n",
       "...                                  ...                               ...   \n",
       "112645  11059273f4bc1a293777e98c89807c62  dbc51f5e45d654ecc16cb68e6817ecea   \n",
       "112646  f4135cbdece8245560f7be179533797a  3fefda3299e6dfaea3466ef346a3571a   \n",
       "112647  69c590f7ffc7bf8db97190b6cb6ed62e  80ceebb4ee9b31afb6c6a916a574a1e2   \n",
       "112648  5ff4076c0f01eeba4f728c9e3fa2653c  3e35a8bb43569389d3cebef0ce820f69   \n",
       "112649  5ff4076c0f01eeba4f728c9e3fa2653c  3e35a8bb43569389d3cebef0ce820f69   \n",
       "\n",
       "        shipping_limit_date    price  freight_value  Unnamed: 0_y  \\\n",
       "0       2017-09-19 09:45:35    58.90          13.29         85267   \n",
       "1       2017-07-31 14:35:11    55.90           9.94         73287   \n",
       "2       2017-08-16 12:30:15   132.90          20.17         16173   \n",
       "3       2017-10-09 10:35:11    58.90          15.16          3687   \n",
       "4       2017-07-06 15:43:50   139.90          16.74         21044   \n",
       "...                     ...      ...            ...           ...   \n",
       "112645  2017-03-01 22:42:22   199.99          18.14         22234   \n",
       "112646  2017-08-17 02:55:27   209.00          16.21         31620   \n",
       "112647  2018-08-02 04:05:13  6729.00         193.21         28326   \n",
       "112648  2018-04-18 20:10:33    27.90          14.44         60088   \n",
       "112649  2018-04-18 20:10:33    27.90          14.44         60088   \n",
       "\n",
       "                             customer_id order_status  \\\n",
       "0       3ce436f183e68e07877b285a838db11a    delivered   \n",
       "1       dc573d2a61a467e5e2826c1729691859    delivered   \n",
       "2       62b59a64eb786a96516229b7f3612c72    delivered   \n",
       "3       9bd2f246e81c19f65c539ce426288ef5    delivered   \n",
       "4       e03505278b34146e87c0b4eb41e4f082    delivered   \n",
       "...                                  ...          ...   \n",
       "112645  8fbd29638b8ddd97d012473abf1f7752    delivered   \n",
       "112646  94203a446c1b46b5ac95b0aaf7221804    delivered   \n",
       "112647  f48d464a0baaea338cb25f816991ab1f    delivered   \n",
       "112648  8f6d16c31abb30b7b4650272cb0014a3    delivered   \n",
       "112649  8f6d16c31abb30b7b4650272cb0014a3    delivered   \n",
       "\n",
       "       order_purchase_timestamp    order_approved_at  \\\n",
       "0           2017-09-13 08:59:02  2017-09-13 09:45:35   \n",
       "1           2017-07-23 16:13:37  2017-07-25 14:35:11   \n",
       "2           2017-08-10 12:17:35  2017-08-10 12:30:15   \n",
       "3           2017-10-02 10:25:22  2017-10-03 10:35:11   \n",
       "4           2017-07-01 15:27:23  2017-07-01 15:43:50   \n",
       "...                         ...                  ...   \n",
       "112645      2017-02-24 22:28:55  2017-02-24 22:42:22   \n",
       "112646      2017-08-11 10:15:22  2017-08-12 02:55:27   \n",
       "112647      2018-07-25 18:10:17  2018-07-27 04:05:13   \n",
       "112648      2018-04-12 19:47:40  2018-04-12 20:10:33   \n",
       "112649      2018-04-12 19:47:40  2018-04-12 20:10:33   \n",
       "\n",
       "       order_delivered_carrier_date order_delivered_customer_date  \\\n",
       "0               2017-09-19 18:34:16           2017-09-20 23:43:48   \n",
       "1               2017-07-27 18:45:50           2017-07-28 16:18:00   \n",
       "2               2017-08-15 19:26:45           2017-08-24 18:15:16   \n",
       "3               2017-10-09 17:57:50           2017-10-19 21:03:49   \n",
       "4               2017-07-05 12:00:33           2017-07-10 17:17:21   \n",
       "...                             ...                           ...   \n",
       "112645          2017-03-04 11:58:57           2017-03-14 16:17:59   \n",
       "112646          2017-08-14 22:03:19           2017-08-17 17:47:55   \n",
       "112647          2018-08-03 14:42:00           2018-08-15 14:57:50   \n",
       "112648          2018-04-18 00:41:29           2018-04-20 17:48:39   \n",
       "112649          2018-04-18 00:41:29           2018-04-20 17:48:39   \n",
       "\n",
       "       order_estimated_delivery_date  Unnamed: 0_x  seller_zip_code_prefix  \\\n",
       "0                         2017-09-29           513                   27277   \n",
       "1                         2017-08-08           513                   27277   \n",
       "2                         2017-09-08           513                   27277   \n",
       "3                         2017-10-25           513                   27277   \n",
       "4                         2017-07-25           513                   27277   \n",
       "...                              ...           ...                     ...   \n",
       "112645                    2017-03-21          2957                   14402   \n",
       "112646                    2017-09-04          2705                   82620   \n",
       "112647                    2018-08-10          2916                   86026   \n",
       "112648                    2018-04-30          2507                    3124   \n",
       "112649                    2018-04-30          2507                    3124   \n",
       "\n",
       "          seller_city seller_state  Unnamed: 0_y  \\\n",
       "0       volta redonda           SP         65557   \n",
       "1       volta redonda           SP         54370   \n",
       "2       volta redonda           SP         78523   \n",
       "3       volta redonda           SP          2084   \n",
       "4       volta redonda           SP         12002   \n",
       "...               ...          ...           ...   \n",
       "112645         franca           SP         89450   \n",
       "112646       curitiba           PR         45692   \n",
       "112647       londrina           PR         21171   \n",
       "112648      sao paulo           SP         51136   \n",
       "112649      sao paulo           SP         51136   \n",
       "\n",
       "                      customer_unique_id  customer_zip_code_prefix  \\\n",
       "0       871766c5855e863f6eccc05f988b23cb                     28013   \n",
       "1       f81c042ed0162a51b90372c233b4fbad                     25240   \n",
       "2       921fa6982e780da7d9e0bb6ca11b380c                     93010   \n",
       "3       d46eb9ba6d6b75c1dac85b91911fc9c2                      3560   \n",
       "4       c082f4437360e3466068035e94a3345b                     18540   \n",
       "...                                  ...                       ...   \n",
       "112645  4d34eb7a11a201d8a2317a791adbcb29                     23812   \n",
       "112646  52a953541861bbb4b79b39df24e00243                     13485   \n",
       "112647  459bef486812aa25204be022145caa62                     29066   \n",
       "112648  ddb2249e0316d365ceae561c0f011bce                     12280   \n",
       "112649  ddb2249e0316d365ceae561c0f011bce                     12280   \n",
       "\n",
       "                customer_city customer_state  \n",
       "0       campos dos goytacazes             RJ  \n",
       "1             duque de caxias             RJ  \n",
       "2                sao leopoldo             RS  \n",
       "3                   sao paulo             SP  \n",
       "4                 porto feliz             SP  \n",
       "...                       ...            ...  \n",
       "112645                itaguai             RJ  \n",
       "112646                limeira             SP  \n",
       "112647                vitoria             ES  \n",
       "112648               cacapava             SP  \n",
       "112649               cacapava             SP  \n",
       "\n",
       "[112650 rows x 25 columns]"
      ]
     },
     "execution_count": 33,
     "metadata": {},
     "output_type": "execute_result"
    }
   ],
   "source": [
    "df.merge(clientes, on='customer_id')"
   ]
  },
  {
   "cell_type": "code",
   "execution_count": 34,
   "id": "ff44ae71",
   "metadata": {
    "ExecuteTime": {
     "end_time": "2022-10-04T14:45:23.837045Z",
     "start_time": "2022-10-04T14:45:23.477270Z"
    }
   },
   "outputs": [
    {
     "data": {
      "text/html": [
       "<div>\n",
       "<style scoped>\n",
       "    .dataframe tbody tr th:only-of-type {\n",
       "        vertical-align: middle;\n",
       "    }\n",
       "\n",
       "    .dataframe tbody tr th {\n",
       "        vertical-align: top;\n",
       "    }\n",
       "\n",
       "    .dataframe thead th {\n",
       "        text-align: right;\n",
       "    }\n",
       "</style>\n",
       "<table border=\"1\" class=\"dataframe\">\n",
       "  <thead>\n",
       "    <tr style=\"text-align: right;\">\n",
       "      <th></th>\n",
       "      <th>Unnamed: 0_x</th>\n",
       "      <th>order_id</th>\n",
       "      <th>order_item_id_x</th>\n",
       "      <th>product_id_x</th>\n",
       "      <th>seller_id_x</th>\n",
       "      <th>shipping_limit_date_x</th>\n",
       "      <th>price_x</th>\n",
       "      <th>freight_value_x</th>\n",
       "      <th>Unnamed: 0_y</th>\n",
       "      <th>customer_id</th>\n",
       "      <th>order_status</th>\n",
       "      <th>order_purchase_timestamp</th>\n",
       "      <th>order_approved_at</th>\n",
       "      <th>order_delivered_carrier_date</th>\n",
       "      <th>order_delivered_customer_date</th>\n",
       "      <th>order_estimated_delivery_date</th>\n",
       "      <th>Unnamed: 0_x</th>\n",
       "      <th>seller_zip_code_prefix</th>\n",
       "      <th>seller_city</th>\n",
       "      <th>seller_state</th>\n",
       "      <th>Unnamed: 0_y</th>\n",
       "      <th>order_item_id_y</th>\n",
       "      <th>product_id_y</th>\n",
       "      <th>seller_id_y</th>\n",
       "      <th>shipping_limit_date_y</th>\n",
       "      <th>price_y</th>\n",
       "      <th>freight_value_y</th>\n",
       "    </tr>\n",
       "  </thead>\n",
       "  <tbody>\n",
       "    <tr>\n",
       "      <th>0</th>\n",
       "      <td>0</td>\n",
       "      <td>00010242fe8c5a6d1ba2dd792cb16214</td>\n",
       "      <td>1</td>\n",
       "      <td>4244733e06e7ecb4970a6e2683c13e61</td>\n",
       "      <td>48436dade18ac8b2bce089ec2a041202</td>\n",
       "      <td>2017-09-19 09:45:35</td>\n",
       "      <td>58.9</td>\n",
       "      <td>13.29</td>\n",
       "      <td>85267</td>\n",
       "      <td>3ce436f183e68e07877b285a838db11a</td>\n",
       "      <td>delivered</td>\n",
       "      <td>2017-09-13 08:59:02</td>\n",
       "      <td>2017-09-13 09:45:35</td>\n",
       "      <td>2017-09-19 18:34:16</td>\n",
       "      <td>2017-09-20 23:43:48</td>\n",
       "      <td>2017-09-29</td>\n",
       "      <td>513</td>\n",
       "      <td>27277</td>\n",
       "      <td>volta redonda</td>\n",
       "      <td>SP</td>\n",
       "      <td>0</td>\n",
       "      <td>1</td>\n",
       "      <td>4244733e06e7ecb4970a6e2683c13e61</td>\n",
       "      <td>48436dade18ac8b2bce089ec2a041202</td>\n",
       "      <td>2017-09-19 09:45:35</td>\n",
       "      <td>58.9</td>\n",
       "      <td>13.29</td>\n",
       "    </tr>\n",
       "    <tr>\n",
       "      <th>1</th>\n",
       "      <td>660</td>\n",
       "      <td>0188777fe321843a18be24a6e9aa1e53</td>\n",
       "      <td>1</td>\n",
       "      <td>436c8d57ff8d4aa254318e9bd9b48c83</td>\n",
       "      <td>48436dade18ac8b2bce089ec2a041202</td>\n",
       "      <td>2017-07-31 14:35:11</td>\n",
       "      <td>55.9</td>\n",
       "      <td>9.94</td>\n",
       "      <td>73287</td>\n",
       "      <td>dc573d2a61a467e5e2826c1729691859</td>\n",
       "      <td>delivered</td>\n",
       "      <td>2017-07-23 16:13:37</td>\n",
       "      <td>2017-07-25 14:35:11</td>\n",
       "      <td>2017-07-27 18:45:50</td>\n",
       "      <td>2017-07-28 16:18:00</td>\n",
       "      <td>2017-08-08</td>\n",
       "      <td>513</td>\n",
       "      <td>27277</td>\n",
       "      <td>volta redonda</td>\n",
       "      <td>SP</td>\n",
       "      <td>660</td>\n",
       "      <td>1</td>\n",
       "      <td>436c8d57ff8d4aa254318e9bd9b48c83</td>\n",
       "      <td>48436dade18ac8b2bce089ec2a041202</td>\n",
       "      <td>2017-07-31 14:35:11</td>\n",
       "      <td>55.9</td>\n",
       "      <td>9.94</td>\n",
       "    </tr>\n",
       "    <tr>\n",
       "      <th>2</th>\n",
       "      <td>669</td>\n",
       "      <td>0191bbb5166d4b9a68df11797d5acfa9</td>\n",
       "      <td>1</td>\n",
       "      <td>ec02a5d380128f7a188e9ce8f3ddd832</td>\n",
       "      <td>48436dade18ac8b2bce089ec2a041202</td>\n",
       "      <td>2017-08-16 12:30:15</td>\n",
       "      <td>132.9</td>\n",
       "      <td>20.17</td>\n",
       "      <td>16173</td>\n",
       "      <td>62b59a64eb786a96516229b7f3612c72</td>\n",
       "      <td>delivered</td>\n",
       "      <td>2017-08-10 12:17:35</td>\n",
       "      <td>2017-08-10 12:30:15</td>\n",
       "      <td>2017-08-15 19:26:45</td>\n",
       "      <td>2017-08-24 18:15:16</td>\n",
       "      <td>2017-09-08</td>\n",
       "      <td>513</td>\n",
       "      <td>27277</td>\n",
       "      <td>volta redonda</td>\n",
       "      <td>SP</td>\n",
       "      <td>669</td>\n",
       "      <td>1</td>\n",
       "      <td>ec02a5d380128f7a188e9ce8f3ddd832</td>\n",
       "      <td>48436dade18ac8b2bce089ec2a041202</td>\n",
       "      <td>2017-08-16 12:30:15</td>\n",
       "      <td>132.9</td>\n",
       "      <td>20.17</td>\n",
       "    </tr>\n",
       "    <tr>\n",
       "      <th>3</th>\n",
       "      <td>1295</td>\n",
       "      <td>03054d8a8eefc2981cfad06f58e27979</td>\n",
       "      <td>1</td>\n",
       "      <td>3e31fd1419cc4cd6adad1925e72e3a03</td>\n",
       "      <td>48436dade18ac8b2bce089ec2a041202</td>\n",
       "      <td>2017-10-09 10:35:11</td>\n",
       "      <td>58.9</td>\n",
       "      <td>15.16</td>\n",
       "      <td>3687</td>\n",
       "      <td>9bd2f246e81c19f65c539ce426288ef5</td>\n",
       "      <td>delivered</td>\n",
       "      <td>2017-10-02 10:25:22</td>\n",
       "      <td>2017-10-03 10:35:11</td>\n",
       "      <td>2017-10-09 17:57:50</td>\n",
       "      <td>2017-10-19 21:03:49</td>\n",
       "      <td>2017-10-25</td>\n",
       "      <td>513</td>\n",
       "      <td>27277</td>\n",
       "      <td>volta redonda</td>\n",
       "      <td>SP</td>\n",
       "      <td>1295</td>\n",
       "      <td>1</td>\n",
       "      <td>3e31fd1419cc4cd6adad1925e72e3a03</td>\n",
       "      <td>48436dade18ac8b2bce089ec2a041202</td>\n",
       "      <td>2017-10-09 10:35:11</td>\n",
       "      <td>58.9</td>\n",
       "      <td>15.16</td>\n",
       "    </tr>\n",
       "    <tr>\n",
       "      <th>4</th>\n",
       "      <td>5376</td>\n",
       "      <td>0c325ea6925de749e1420be0cf43587c</td>\n",
       "      <td>1</td>\n",
       "      <td>3a135477bf41350a0b1d8afdf616d446</td>\n",
       "      <td>48436dade18ac8b2bce089ec2a041202</td>\n",
       "      <td>2017-07-06 15:43:50</td>\n",
       "      <td>139.9</td>\n",
       "      <td>16.74</td>\n",
       "      <td>21044</td>\n",
       "      <td>e03505278b34146e87c0b4eb41e4f082</td>\n",
       "      <td>delivered</td>\n",
       "      <td>2017-07-01 15:27:23</td>\n",
       "      <td>2017-07-01 15:43:50</td>\n",
       "      <td>2017-07-05 12:00:33</td>\n",
       "      <td>2017-07-10 17:17:21</td>\n",
       "      <td>2017-07-25</td>\n",
       "      <td>513</td>\n",
       "      <td>27277</td>\n",
       "      <td>volta redonda</td>\n",
       "      <td>SP</td>\n",
       "      <td>5376</td>\n",
       "      <td>1</td>\n",
       "      <td>3a135477bf41350a0b1d8afdf616d446</td>\n",
       "      <td>48436dade18ac8b2bce089ec2a041202</td>\n",
       "      <td>2017-07-06 15:43:50</td>\n",
       "      <td>139.9</td>\n",
       "      <td>16.74</td>\n",
       "    </tr>\n",
       "    <tr>\n",
       "      <th>...</th>\n",
       "      <td>...</td>\n",
       "      <td>...</td>\n",
       "      <td>...</td>\n",
       "      <td>...</td>\n",
       "      <td>...</td>\n",
       "      <td>...</td>\n",
       "      <td>...</td>\n",
       "      <td>...</td>\n",
       "      <td>...</td>\n",
       "      <td>...</td>\n",
       "      <td>...</td>\n",
       "      <td>...</td>\n",
       "      <td>...</td>\n",
       "      <td>...</td>\n",
       "      <td>...</td>\n",
       "      <td>...</td>\n",
       "      <td>...</td>\n",
       "      <td>...</td>\n",
       "      <td>...</td>\n",
       "      <td>...</td>\n",
       "      <td>...</td>\n",
       "      <td>...</td>\n",
       "      <td>...</td>\n",
       "      <td>...</td>\n",
       "      <td>...</td>\n",
       "      <td>...</td>\n",
       "      <td>...</td>\n",
       "    </tr>\n",
       "    <tr>\n",
       "      <th>157217</th>\n",
       "      <td>112233</td>\n",
       "      <td>fefacc66af859508bf1a7934eab1e97f</td>\n",
       "      <td>1</td>\n",
       "      <td>69c590f7ffc7bf8db97190b6cb6ed62e</td>\n",
       "      <td>80ceebb4ee9b31afb6c6a916a574a1e2</td>\n",
       "      <td>2018-08-02 04:05:13</td>\n",
       "      <td>6729.0</td>\n",
       "      <td>193.21</td>\n",
       "      <td>28326</td>\n",
       "      <td>f48d464a0baaea338cb25f816991ab1f</td>\n",
       "      <td>delivered</td>\n",
       "      <td>2018-07-25 18:10:17</td>\n",
       "      <td>2018-07-27 04:05:13</td>\n",
       "      <td>2018-08-03 14:42:00</td>\n",
       "      <td>2018-08-15 14:57:50</td>\n",
       "      <td>2018-08-10</td>\n",
       "      <td>2916</td>\n",
       "      <td>86026</td>\n",
       "      <td>londrina</td>\n",
       "      <td>PR</td>\n",
       "      <td>112233</td>\n",
       "      <td>1</td>\n",
       "      <td>69c590f7ffc7bf8db97190b6cb6ed62e</td>\n",
       "      <td>80ceebb4ee9b31afb6c6a916a574a1e2</td>\n",
       "      <td>2018-08-02 04:05:13</td>\n",
       "      <td>6729.0</td>\n",
       "      <td>193.21</td>\n",
       "    </tr>\n",
       "    <tr>\n",
       "      <th>157218</th>\n",
       "      <td>112417</td>\n",
       "      <td>ff701a7c869ad21de22a6994237c8a00</td>\n",
       "      <td>1</td>\n",
       "      <td>5ff4076c0f01eeba4f728c9e3fa2653c</td>\n",
       "      <td>3e35a8bb43569389d3cebef0ce820f69</td>\n",
       "      <td>2018-04-18 20:10:33</td>\n",
       "      <td>27.9</td>\n",
       "      <td>14.44</td>\n",
       "      <td>60088</td>\n",
       "      <td>8f6d16c31abb30b7b4650272cb0014a3</td>\n",
       "      <td>delivered</td>\n",
       "      <td>2018-04-12 19:47:40</td>\n",
       "      <td>2018-04-12 20:10:33</td>\n",
       "      <td>2018-04-18 00:41:29</td>\n",
       "      <td>2018-04-20 17:48:39</td>\n",
       "      <td>2018-04-30</td>\n",
       "      <td>2507</td>\n",
       "      <td>3124</td>\n",
       "      <td>sao paulo</td>\n",
       "      <td>SP</td>\n",
       "      <td>112417</td>\n",
       "      <td>1</td>\n",
       "      <td>5ff4076c0f01eeba4f728c9e3fa2653c</td>\n",
       "      <td>3e35a8bb43569389d3cebef0ce820f69</td>\n",
       "      <td>2018-04-18 20:10:33</td>\n",
       "      <td>27.9</td>\n",
       "      <td>14.44</td>\n",
       "    </tr>\n",
       "    <tr>\n",
       "      <th>157219</th>\n",
       "      <td>112417</td>\n",
       "      <td>ff701a7c869ad21de22a6994237c8a00</td>\n",
       "      <td>1</td>\n",
       "      <td>5ff4076c0f01eeba4f728c9e3fa2653c</td>\n",
       "      <td>3e35a8bb43569389d3cebef0ce820f69</td>\n",
       "      <td>2018-04-18 20:10:33</td>\n",
       "      <td>27.9</td>\n",
       "      <td>14.44</td>\n",
       "      <td>60088</td>\n",
       "      <td>8f6d16c31abb30b7b4650272cb0014a3</td>\n",
       "      <td>delivered</td>\n",
       "      <td>2018-04-12 19:47:40</td>\n",
       "      <td>2018-04-12 20:10:33</td>\n",
       "      <td>2018-04-18 00:41:29</td>\n",
       "      <td>2018-04-20 17:48:39</td>\n",
       "      <td>2018-04-30</td>\n",
       "      <td>2507</td>\n",
       "      <td>3124</td>\n",
       "      <td>sao paulo</td>\n",
       "      <td>SP</td>\n",
       "      <td>112418</td>\n",
       "      <td>2</td>\n",
       "      <td>5ff4076c0f01eeba4f728c9e3fa2653c</td>\n",
       "      <td>3e35a8bb43569389d3cebef0ce820f69</td>\n",
       "      <td>2018-04-18 20:10:33</td>\n",
       "      <td>27.9</td>\n",
       "      <td>14.44</td>\n",
       "    </tr>\n",
       "    <tr>\n",
       "      <th>157220</th>\n",
       "      <td>112418</td>\n",
       "      <td>ff701a7c869ad21de22a6994237c8a00</td>\n",
       "      <td>2</td>\n",
       "      <td>5ff4076c0f01eeba4f728c9e3fa2653c</td>\n",
       "      <td>3e35a8bb43569389d3cebef0ce820f69</td>\n",
       "      <td>2018-04-18 20:10:33</td>\n",
       "      <td>27.9</td>\n",
       "      <td>14.44</td>\n",
       "      <td>60088</td>\n",
       "      <td>8f6d16c31abb30b7b4650272cb0014a3</td>\n",
       "      <td>delivered</td>\n",
       "      <td>2018-04-12 19:47:40</td>\n",
       "      <td>2018-04-12 20:10:33</td>\n",
       "      <td>2018-04-18 00:41:29</td>\n",
       "      <td>2018-04-20 17:48:39</td>\n",
       "      <td>2018-04-30</td>\n",
       "      <td>2507</td>\n",
       "      <td>3124</td>\n",
       "      <td>sao paulo</td>\n",
       "      <td>SP</td>\n",
       "      <td>112417</td>\n",
       "      <td>1</td>\n",
       "      <td>5ff4076c0f01eeba4f728c9e3fa2653c</td>\n",
       "      <td>3e35a8bb43569389d3cebef0ce820f69</td>\n",
       "      <td>2018-04-18 20:10:33</td>\n",
       "      <td>27.9</td>\n",
       "      <td>14.44</td>\n",
       "    </tr>\n",
       "    <tr>\n",
       "      <th>157221</th>\n",
       "      <td>112418</td>\n",
       "      <td>ff701a7c869ad21de22a6994237c8a00</td>\n",
       "      <td>2</td>\n",
       "      <td>5ff4076c0f01eeba4f728c9e3fa2653c</td>\n",
       "      <td>3e35a8bb43569389d3cebef0ce820f69</td>\n",
       "      <td>2018-04-18 20:10:33</td>\n",
       "      <td>27.9</td>\n",
       "      <td>14.44</td>\n",
       "      <td>60088</td>\n",
       "      <td>8f6d16c31abb30b7b4650272cb0014a3</td>\n",
       "      <td>delivered</td>\n",
       "      <td>2018-04-12 19:47:40</td>\n",
       "      <td>2018-04-12 20:10:33</td>\n",
       "      <td>2018-04-18 00:41:29</td>\n",
       "      <td>2018-04-20 17:48:39</td>\n",
       "      <td>2018-04-30</td>\n",
       "      <td>2507</td>\n",
       "      <td>3124</td>\n",
       "      <td>sao paulo</td>\n",
       "      <td>SP</td>\n",
       "      <td>112418</td>\n",
       "      <td>2</td>\n",
       "      <td>5ff4076c0f01eeba4f728c9e3fa2653c</td>\n",
       "      <td>3e35a8bb43569389d3cebef0ce820f69</td>\n",
       "      <td>2018-04-18 20:10:33</td>\n",
       "      <td>27.9</td>\n",
       "      <td>14.44</td>\n",
       "    </tr>\n",
       "  </tbody>\n",
       "</table>\n",
       "<p>157222 rows × 27 columns</p>\n",
       "</div>"
      ],
      "text/plain": [
       "        Unnamed: 0_x                          order_id  order_item_id_x  \\\n",
       "0                  0  00010242fe8c5a6d1ba2dd792cb16214                1   \n",
       "1                660  0188777fe321843a18be24a6e9aa1e53                1   \n",
       "2                669  0191bbb5166d4b9a68df11797d5acfa9                1   \n",
       "3               1295  03054d8a8eefc2981cfad06f58e27979                1   \n",
       "4               5376  0c325ea6925de749e1420be0cf43587c                1   \n",
       "...              ...                               ...              ...   \n",
       "157217        112233  fefacc66af859508bf1a7934eab1e97f                1   \n",
       "157218        112417  ff701a7c869ad21de22a6994237c8a00                1   \n",
       "157219        112417  ff701a7c869ad21de22a6994237c8a00                1   \n",
       "157220        112418  ff701a7c869ad21de22a6994237c8a00                2   \n",
       "157221        112418  ff701a7c869ad21de22a6994237c8a00                2   \n",
       "\n",
       "                            product_id_x                       seller_id_x  \\\n",
       "0       4244733e06e7ecb4970a6e2683c13e61  48436dade18ac8b2bce089ec2a041202   \n",
       "1       436c8d57ff8d4aa254318e9bd9b48c83  48436dade18ac8b2bce089ec2a041202   \n",
       "2       ec02a5d380128f7a188e9ce8f3ddd832  48436dade18ac8b2bce089ec2a041202   \n",
       "3       3e31fd1419cc4cd6adad1925e72e3a03  48436dade18ac8b2bce089ec2a041202   \n",
       "4       3a135477bf41350a0b1d8afdf616d446  48436dade18ac8b2bce089ec2a041202   \n",
       "...                                  ...                               ...   \n",
       "157217  69c590f7ffc7bf8db97190b6cb6ed62e  80ceebb4ee9b31afb6c6a916a574a1e2   \n",
       "157218  5ff4076c0f01eeba4f728c9e3fa2653c  3e35a8bb43569389d3cebef0ce820f69   \n",
       "157219  5ff4076c0f01eeba4f728c9e3fa2653c  3e35a8bb43569389d3cebef0ce820f69   \n",
       "157220  5ff4076c0f01eeba4f728c9e3fa2653c  3e35a8bb43569389d3cebef0ce820f69   \n",
       "157221  5ff4076c0f01eeba4f728c9e3fa2653c  3e35a8bb43569389d3cebef0ce820f69   \n",
       "\n",
       "       shipping_limit_date_x  price_x  freight_value_x  Unnamed: 0_y  \\\n",
       "0        2017-09-19 09:45:35     58.9            13.29         85267   \n",
       "1        2017-07-31 14:35:11     55.9             9.94         73287   \n",
       "2        2017-08-16 12:30:15    132.9            20.17         16173   \n",
       "3        2017-10-09 10:35:11     58.9            15.16          3687   \n",
       "4        2017-07-06 15:43:50    139.9            16.74         21044   \n",
       "...                      ...      ...              ...           ...   \n",
       "157217   2018-08-02 04:05:13   6729.0           193.21         28326   \n",
       "157218   2018-04-18 20:10:33     27.9            14.44         60088   \n",
       "157219   2018-04-18 20:10:33     27.9            14.44         60088   \n",
       "157220   2018-04-18 20:10:33     27.9            14.44         60088   \n",
       "157221   2018-04-18 20:10:33     27.9            14.44         60088   \n",
       "\n",
       "                             customer_id order_status  \\\n",
       "0       3ce436f183e68e07877b285a838db11a    delivered   \n",
       "1       dc573d2a61a467e5e2826c1729691859    delivered   \n",
       "2       62b59a64eb786a96516229b7f3612c72    delivered   \n",
       "3       9bd2f246e81c19f65c539ce426288ef5    delivered   \n",
       "4       e03505278b34146e87c0b4eb41e4f082    delivered   \n",
       "...                                  ...          ...   \n",
       "157217  f48d464a0baaea338cb25f816991ab1f    delivered   \n",
       "157218  8f6d16c31abb30b7b4650272cb0014a3    delivered   \n",
       "157219  8f6d16c31abb30b7b4650272cb0014a3    delivered   \n",
       "157220  8f6d16c31abb30b7b4650272cb0014a3    delivered   \n",
       "157221  8f6d16c31abb30b7b4650272cb0014a3    delivered   \n",
       "\n",
       "       order_purchase_timestamp    order_approved_at  \\\n",
       "0           2017-09-13 08:59:02  2017-09-13 09:45:35   \n",
       "1           2017-07-23 16:13:37  2017-07-25 14:35:11   \n",
       "2           2017-08-10 12:17:35  2017-08-10 12:30:15   \n",
       "3           2017-10-02 10:25:22  2017-10-03 10:35:11   \n",
       "4           2017-07-01 15:27:23  2017-07-01 15:43:50   \n",
       "...                         ...                  ...   \n",
       "157217      2018-07-25 18:10:17  2018-07-27 04:05:13   \n",
       "157218      2018-04-12 19:47:40  2018-04-12 20:10:33   \n",
       "157219      2018-04-12 19:47:40  2018-04-12 20:10:33   \n",
       "157220      2018-04-12 19:47:40  2018-04-12 20:10:33   \n",
       "157221      2018-04-12 19:47:40  2018-04-12 20:10:33   \n",
       "\n",
       "       order_delivered_carrier_date order_delivered_customer_date  \\\n",
       "0               2017-09-19 18:34:16           2017-09-20 23:43:48   \n",
       "1               2017-07-27 18:45:50           2017-07-28 16:18:00   \n",
       "2               2017-08-15 19:26:45           2017-08-24 18:15:16   \n",
       "3               2017-10-09 17:57:50           2017-10-19 21:03:49   \n",
       "4               2017-07-05 12:00:33           2017-07-10 17:17:21   \n",
       "...                             ...                           ...   \n",
       "157217          2018-08-03 14:42:00           2018-08-15 14:57:50   \n",
       "157218          2018-04-18 00:41:29           2018-04-20 17:48:39   \n",
       "157219          2018-04-18 00:41:29           2018-04-20 17:48:39   \n",
       "157220          2018-04-18 00:41:29           2018-04-20 17:48:39   \n",
       "157221          2018-04-18 00:41:29           2018-04-20 17:48:39   \n",
       "\n",
       "       order_estimated_delivery_date  Unnamed: 0_x  seller_zip_code_prefix  \\\n",
       "0                         2017-09-29           513                   27277   \n",
       "1                         2017-08-08           513                   27277   \n",
       "2                         2017-09-08           513                   27277   \n",
       "3                         2017-10-25           513                   27277   \n",
       "4                         2017-07-25           513                   27277   \n",
       "...                              ...           ...                     ...   \n",
       "157217                    2018-08-10          2916                   86026   \n",
       "157218                    2018-04-30          2507                    3124   \n",
       "157219                    2018-04-30          2507                    3124   \n",
       "157220                    2018-04-30          2507                    3124   \n",
       "157221                    2018-04-30          2507                    3124   \n",
       "\n",
       "          seller_city seller_state  Unnamed: 0_y  order_item_id_y  \\\n",
       "0       volta redonda           SP             0                1   \n",
       "1       volta redonda           SP           660                1   \n",
       "2       volta redonda           SP           669                1   \n",
       "3       volta redonda           SP          1295                1   \n",
       "4       volta redonda           SP          5376                1   \n",
       "...               ...          ...           ...              ...   \n",
       "157217       londrina           PR        112233                1   \n",
       "157218      sao paulo           SP        112417                1   \n",
       "157219      sao paulo           SP        112418                2   \n",
       "157220      sao paulo           SP        112417                1   \n",
       "157221      sao paulo           SP        112418                2   \n",
       "\n",
       "                            product_id_y                       seller_id_y  \\\n",
       "0       4244733e06e7ecb4970a6e2683c13e61  48436dade18ac8b2bce089ec2a041202   \n",
       "1       436c8d57ff8d4aa254318e9bd9b48c83  48436dade18ac8b2bce089ec2a041202   \n",
       "2       ec02a5d380128f7a188e9ce8f3ddd832  48436dade18ac8b2bce089ec2a041202   \n",
       "3       3e31fd1419cc4cd6adad1925e72e3a03  48436dade18ac8b2bce089ec2a041202   \n",
       "4       3a135477bf41350a0b1d8afdf616d446  48436dade18ac8b2bce089ec2a041202   \n",
       "...                                  ...                               ...   \n",
       "157217  69c590f7ffc7bf8db97190b6cb6ed62e  80ceebb4ee9b31afb6c6a916a574a1e2   \n",
       "157218  5ff4076c0f01eeba4f728c9e3fa2653c  3e35a8bb43569389d3cebef0ce820f69   \n",
       "157219  5ff4076c0f01eeba4f728c9e3fa2653c  3e35a8bb43569389d3cebef0ce820f69   \n",
       "157220  5ff4076c0f01eeba4f728c9e3fa2653c  3e35a8bb43569389d3cebef0ce820f69   \n",
       "157221  5ff4076c0f01eeba4f728c9e3fa2653c  3e35a8bb43569389d3cebef0ce820f69   \n",
       "\n",
       "       shipping_limit_date_y  price_y  freight_value_y  \n",
       "0        2017-09-19 09:45:35     58.9            13.29  \n",
       "1        2017-07-31 14:35:11     55.9             9.94  \n",
       "2        2017-08-16 12:30:15    132.9            20.17  \n",
       "3        2017-10-09 10:35:11     58.9            15.16  \n",
       "4        2017-07-06 15:43:50    139.9            16.74  \n",
       "...                      ...      ...              ...  \n",
       "157217   2018-08-02 04:05:13   6729.0           193.21  \n",
       "157218   2018-04-18 20:10:33     27.9            14.44  \n",
       "157219   2018-04-18 20:10:33     27.9            14.44  \n",
       "157220   2018-04-18 20:10:33     27.9            14.44  \n",
       "157221   2018-04-18 20:10:33     27.9            14.44  \n",
       "\n",
       "[157222 rows x 27 columns]"
      ]
     },
     "execution_count": 34,
     "metadata": {},
     "output_type": "execute_result"
    }
   ],
   "source": [
    "df.merge(itens, on='order_id')"
   ]
  },
  {
   "cell_type": "code",
   "execution_count": null,
   "id": "785634b4",
   "metadata": {},
   "outputs": [],
   "source": []
  },
  {
   "cell_type": "markdown",
   "id": "babe55bd",
   "metadata": {},
   "source": [
    "## Avaliações"
   ]
  },
  {
   "cell_type": "code",
   "execution_count": 9,
   "id": "063c7de7",
   "metadata": {
    "ExecuteTime": {
     "end_time": "2022-10-04T13:58:40.523671Z",
     "start_time": "2022-10-04T13:58:39.987823Z"
    }
   },
   "outputs": [],
   "source": [
    "avaliacoes = pd.read_csv('Data/avaliacoes.csv') # reviews"
   ]
  },
  {
   "cell_type": "code",
   "execution_count": 10,
   "id": "14b93b6e",
   "metadata": {
    "ExecuteTime": {
     "end_time": "2022-10-04T13:58:51.449906Z",
     "start_time": "2022-10-04T13:58:51.428918Z"
    }
   },
   "outputs": [
    {
     "data": {
      "text/plain": [
       "(99224, 7)"
      ]
     },
     "execution_count": 10,
     "metadata": {},
     "output_type": "execute_result"
    }
   ],
   "source": [
    "avaliacoes.shape"
   ]
  },
  {
   "cell_type": "code",
   "execution_count": 6,
   "id": "b379ae79",
   "metadata": {
    "ExecuteTime": {
     "end_time": "2022-10-04T13:57:28.600418Z",
     "start_time": "2022-10-04T13:57:28.138016Z"
    }
   },
   "outputs": [
    {
     "data": {
      "text/plain": [
       "Unnamed: 0.1               0\n",
       "Unnamed: 0                 0\n",
       "review_id                  0\n",
       "order_id                   0\n",
       "review_score               0\n",
       "review_creation_date       0\n",
       "review_answer_timestamp    0\n",
       "dtype: int64"
      ]
     },
     "execution_count": 6,
     "metadata": {},
     "output_type": "execute_result"
    }
   ],
   "source": [
    "avaliacoes.isnull().sum()"
   ]
  },
  {
   "cell_type": "code",
   "execution_count": 11,
   "id": "92bf0c05",
   "metadata": {
    "ExecuteTime": {
     "end_time": "2022-10-04T13:59:01.777064Z",
     "start_time": "2022-10-04T13:59:01.573878Z"
    }
   },
   "outputs": [],
   "source": [
    "avaliacoes.drop_duplicates(inplace=True)"
   ]
  },
  {
   "cell_type": "code",
   "execution_count": 12,
   "id": "7b6f770b",
   "metadata": {
    "ExecuteTime": {
     "end_time": "2022-10-04T13:59:02.714656Z",
     "start_time": "2022-10-04T13:59:02.694668Z"
    }
   },
   "outputs": [
    {
     "data": {
      "text/plain": [
       "(99224, 7)"
      ]
     },
     "execution_count": 12,
     "metadata": {},
     "output_type": "execute_result"
    }
   ],
   "source": [
    "avaliacoes.shape"
   ]
  },
  {
   "cell_type": "code",
   "execution_count": 23,
   "id": "5b95bb5d",
   "metadata": {
    "ExecuteTime": {
     "end_time": "2022-10-04T14:30:36.877624Z",
     "start_time": "2022-10-04T14:30:36.789678Z"
    }
   },
   "outputs": [
    {
     "ename": "NameError",
     "evalue": "name 'pagamentos' is not defined",
     "output_type": "error",
     "traceback": [
      "\u001b[1;31m---------------------------------------------------------------------------\u001b[0m",
      "\u001b[1;31mNameError\u001b[0m                                 Traceback (most recent call last)",
      "Cell \u001b[1;32mIn [23], line 1\u001b[0m\n\u001b[1;32m----> 1\u001b[0m df \u001b[38;5;241m=\u001b[39m pd\u001b[38;5;241m.\u001b[39mmerge(ordens,pagamentos, on\u001b[38;5;241m=\u001b[39m\u001b[38;5;124m'\u001b[39m\u001b[38;5;124morder_id\u001b[39m\u001b[38;5;124m'\u001b[39m)\n\u001b[0;32m      2\u001b[0m df \u001b[38;5;241m=\u001b[39m df\u001b[38;5;241m.\u001b[39mmerge(clientes, on\u001b[38;5;241m=\u001b[39m\u001b[38;5;124m'\u001b[39m\u001b[38;5;124mcustomer_id\u001b[39m\u001b[38;5;124m'\u001b[39m)\n\u001b[0;32m      3\u001b[0m df \u001b[38;5;241m=\u001b[39m df\u001b[38;5;241m.\u001b[39mmerge(itens, on\u001b[38;5;241m=\u001b[39m\u001b[38;5;124m'\u001b[39m\u001b[38;5;124morder_id\u001b[39m\u001b[38;5;124m'\u001b[39m)\n",
      "\u001b[1;31mNameError\u001b[0m: name 'pagamentos' is not defined"
     ]
    }
   ],
   "source": [
    "df = pd.merge(ordens,pagamentos, on='order_id')\n",
    "df = df.merge(clientes, on='customer_id')\n",
    "df = df.merge(itens, on='order_id')\n",
    "df = df.merge(product_category, on='product_id')\n",
    "df = df.merge(product_category, on='product_category_name')\n",
    "df = df.merge(avaliacoes, on='order_id')\n",
    "df = df.merge(vendedores, on='seller_id')"
   ]
  },
  {
   "cell_type": "code",
   "execution_count": 36,
   "id": "5db61171",
   "metadata": {
    "ExecuteTime": {
     "end_time": "2022-10-04T14:56:14.445613Z",
     "start_time": "2022-10-04T14:56:14.232745Z"
    }
   },
   "outputs": [
    {
     "ename": "AttributeError",
     "evalue": "'str' object has no attribute 'year'",
     "output_type": "error",
     "traceback": [
      "\u001b[1;31m---------------------------------------------------------------------------\u001b[0m",
      "\u001b[1;31mAttributeError\u001b[0m                            Traceback (most recent call last)",
      "Cell \u001b[1;32mIn [36], line 1\u001b[0m\n\u001b[1;32m----> 1\u001b[0m ordens[\u001b[38;5;124m'\u001b[39m\u001b[38;5;124morder_purchase_year\u001b[39m\u001b[38;5;124m'\u001b[39m] \u001b[38;5;241m=\u001b[39m ordens[\u001b[38;5;124m'\u001b[39m\u001b[38;5;124morder_purchase_timestamp\u001b[39m\u001b[38;5;124m'\u001b[39m]\u001b[38;5;241m.\u001b[39mapply(\u001b[38;5;28;01mlambda\u001b[39;00m x: x\u001b[38;5;241m.\u001b[39myear)\n\u001b[0;32m      2\u001b[0m ordens[\u001b[38;5;124m'\u001b[39m\u001b[38;5;124morder_purchase_month\u001b[39m\u001b[38;5;124m'\u001b[39m] \u001b[38;5;241m=\u001b[39m ordens[\u001b[38;5;124m'\u001b[39m\u001b[38;5;124morder_purchase_timestamp\u001b[39m\u001b[38;5;124m'\u001b[39m]\u001b[38;5;241m.\u001b[39mapply(\u001b[38;5;28;01mlambda\u001b[39;00m x: x\u001b[38;5;241m.\u001b[39mmonth)\n\u001b[0;32m      3\u001b[0m ordens[\u001b[38;5;124m'\u001b[39m\u001b[38;5;124morder_purchase_month_name\u001b[39m\u001b[38;5;124m'\u001b[39m] \u001b[38;5;241m=\u001b[39m ordens[\u001b[38;5;124m'\u001b[39m\u001b[38;5;124morder_purchase_timestamp\u001b[39m\u001b[38;5;124m'\u001b[39m]\u001b[38;5;241m.\u001b[39mapply(\u001b[38;5;28;01mlambda\u001b[39;00m x: x\u001b[38;5;241m.\u001b[39mstrftime(\u001b[38;5;124m'\u001b[39m\u001b[38;5;124m%\u001b[39m\u001b[38;5;124mb\u001b[39m\u001b[38;5;124m'\u001b[39m)\u001b[38;5;28;01mif\u001b[39;00m x\u001b[38;5;241m==\u001b[39mx \u001b[38;5;28;01melse\u001b[39;00m x )\n",
      "File \u001b[1;32mC:\\ProgramData\\Anaconda3\\envs\\pycaret\\lib\\site-packages\\pandas\\core\\series.py:4433\u001b[0m, in \u001b[0;36mSeries.apply\u001b[1;34m(self, func, convert_dtype, args, **kwargs)\u001b[0m\n\u001b[0;32m   4323\u001b[0m \u001b[38;5;28;01mdef\u001b[39;00m \u001b[38;5;21mapply\u001b[39m(\n\u001b[0;32m   4324\u001b[0m     \u001b[38;5;28mself\u001b[39m,\n\u001b[0;32m   4325\u001b[0m     func: AggFuncType,\n\u001b[1;32m   (...)\u001b[0m\n\u001b[0;32m   4328\u001b[0m     \u001b[38;5;241m*\u001b[39m\u001b[38;5;241m*\u001b[39mkwargs,\n\u001b[0;32m   4329\u001b[0m ) \u001b[38;5;241m-\u001b[39m\u001b[38;5;241m>\u001b[39m DataFrame \u001b[38;5;241m|\u001b[39m Series:\n\u001b[0;32m   4330\u001b[0m     \u001b[38;5;124;03m\"\"\"\u001b[39;00m\n\u001b[0;32m   4331\u001b[0m \u001b[38;5;124;03m    Invoke function on values of Series.\u001b[39;00m\n\u001b[0;32m   4332\u001b[0m \n\u001b[1;32m   (...)\u001b[0m\n\u001b[0;32m   4431\u001b[0m \u001b[38;5;124;03m    dtype: float64\u001b[39;00m\n\u001b[0;32m   4432\u001b[0m \u001b[38;5;124;03m    \"\"\"\u001b[39;00m\n\u001b[1;32m-> 4433\u001b[0m     \u001b[38;5;28;01mreturn\u001b[39;00m \u001b[43mSeriesApply\u001b[49m\u001b[43m(\u001b[49m\u001b[38;5;28;43mself\u001b[39;49m\u001b[43m,\u001b[49m\u001b[43m \u001b[49m\u001b[43mfunc\u001b[49m\u001b[43m,\u001b[49m\u001b[43m \u001b[49m\u001b[43mconvert_dtype\u001b[49m\u001b[43m,\u001b[49m\u001b[43m \u001b[49m\u001b[43margs\u001b[49m\u001b[43m,\u001b[49m\u001b[43m \u001b[49m\u001b[43mkwargs\u001b[49m\u001b[43m)\u001b[49m\u001b[38;5;241;43m.\u001b[39;49m\u001b[43mapply\u001b[49m\u001b[43m(\u001b[49m\u001b[43m)\u001b[49m\n",
      "File \u001b[1;32mC:\\ProgramData\\Anaconda3\\envs\\pycaret\\lib\\site-packages\\pandas\\core\\apply.py:1088\u001b[0m, in \u001b[0;36mSeriesApply.apply\u001b[1;34m(self)\u001b[0m\n\u001b[0;32m   1084\u001b[0m \u001b[38;5;28;01mif\u001b[39;00m \u001b[38;5;28misinstance\u001b[39m(\u001b[38;5;28mself\u001b[39m\u001b[38;5;241m.\u001b[39mf, \u001b[38;5;28mstr\u001b[39m):\n\u001b[0;32m   1085\u001b[0m     \u001b[38;5;66;03m# if we are a string, try to dispatch\u001b[39;00m\n\u001b[0;32m   1086\u001b[0m     \u001b[38;5;28;01mreturn\u001b[39;00m \u001b[38;5;28mself\u001b[39m\u001b[38;5;241m.\u001b[39mapply_str()\n\u001b[1;32m-> 1088\u001b[0m \u001b[38;5;28;01mreturn\u001b[39;00m \u001b[38;5;28;43mself\u001b[39;49m\u001b[38;5;241;43m.\u001b[39;49m\u001b[43mapply_standard\u001b[49m\u001b[43m(\u001b[49m\u001b[43m)\u001b[49m\n",
      "File \u001b[1;32mC:\\ProgramData\\Anaconda3\\envs\\pycaret\\lib\\site-packages\\pandas\\core\\apply.py:1143\u001b[0m, in \u001b[0;36mSeriesApply.apply_standard\u001b[1;34m(self)\u001b[0m\n\u001b[0;32m   1137\u001b[0m         values \u001b[38;5;241m=\u001b[39m obj\u001b[38;5;241m.\u001b[39mastype(\u001b[38;5;28mobject\u001b[39m)\u001b[38;5;241m.\u001b[39m_values\n\u001b[0;32m   1138\u001b[0m         \u001b[38;5;66;03m# error: Argument 2 to \"map_infer\" has incompatible type\u001b[39;00m\n\u001b[0;32m   1139\u001b[0m         \u001b[38;5;66;03m# \"Union[Callable[..., Any], str, List[Union[Callable[..., Any], str]],\u001b[39;00m\n\u001b[0;32m   1140\u001b[0m         \u001b[38;5;66;03m# Dict[Hashable, Union[Union[Callable[..., Any], str],\u001b[39;00m\n\u001b[0;32m   1141\u001b[0m         \u001b[38;5;66;03m# List[Union[Callable[..., Any], str]]]]]\"; expected\u001b[39;00m\n\u001b[0;32m   1142\u001b[0m         \u001b[38;5;66;03m# \"Callable[[Any], Any]\"\u001b[39;00m\n\u001b[1;32m-> 1143\u001b[0m         mapped \u001b[38;5;241m=\u001b[39m \u001b[43mlib\u001b[49m\u001b[38;5;241;43m.\u001b[39;49m\u001b[43mmap_infer\u001b[49m\u001b[43m(\u001b[49m\n\u001b[0;32m   1144\u001b[0m \u001b[43m            \u001b[49m\u001b[43mvalues\u001b[49m\u001b[43m,\u001b[49m\n\u001b[0;32m   1145\u001b[0m \u001b[43m            \u001b[49m\u001b[43mf\u001b[49m\u001b[43m,\u001b[49m\u001b[43m  \u001b[49m\u001b[38;5;66;43;03m# type: ignore[arg-type]\u001b[39;49;00m\n\u001b[0;32m   1146\u001b[0m \u001b[43m            \u001b[49m\u001b[43mconvert\u001b[49m\u001b[38;5;241;43m=\u001b[39;49m\u001b[38;5;28;43mself\u001b[39;49m\u001b[38;5;241;43m.\u001b[39;49m\u001b[43mconvert_dtype\u001b[49m\u001b[43m,\u001b[49m\n\u001b[0;32m   1147\u001b[0m \u001b[43m        \u001b[49m\u001b[43m)\u001b[49m\n\u001b[0;32m   1149\u001b[0m \u001b[38;5;28;01mif\u001b[39;00m \u001b[38;5;28mlen\u001b[39m(mapped) \u001b[38;5;129;01mand\u001b[39;00m \u001b[38;5;28misinstance\u001b[39m(mapped[\u001b[38;5;241m0\u001b[39m], ABCSeries):\n\u001b[0;32m   1150\u001b[0m     \u001b[38;5;66;03m# GH#43986 Need to do list(mapped) in order to get treated as nested\u001b[39;00m\n\u001b[0;32m   1151\u001b[0m     \u001b[38;5;66;03m#  See also GH#25959 regarding EA support\u001b[39;00m\n\u001b[0;32m   1152\u001b[0m     \u001b[38;5;28;01mreturn\u001b[39;00m obj\u001b[38;5;241m.\u001b[39m_constructor_expanddim(\u001b[38;5;28mlist\u001b[39m(mapped), index\u001b[38;5;241m=\u001b[39mobj\u001b[38;5;241m.\u001b[39mindex)\n",
      "File \u001b[1;32mC:\\ProgramData\\Anaconda3\\envs\\pycaret\\lib\\site-packages\\pandas\\_libs\\lib.pyx:2870\u001b[0m, in \u001b[0;36mpandas._libs.lib.map_infer\u001b[1;34m()\u001b[0m\n",
      "Cell \u001b[1;32mIn [36], line 1\u001b[0m, in \u001b[0;36m<lambda>\u001b[1;34m(x)\u001b[0m\n\u001b[1;32m----> 1\u001b[0m ordens[\u001b[38;5;124m'\u001b[39m\u001b[38;5;124morder_purchase_year\u001b[39m\u001b[38;5;124m'\u001b[39m] \u001b[38;5;241m=\u001b[39m ordens[\u001b[38;5;124m'\u001b[39m\u001b[38;5;124morder_purchase_timestamp\u001b[39m\u001b[38;5;124m'\u001b[39m]\u001b[38;5;241m.\u001b[39mapply(\u001b[38;5;28;01mlambda\u001b[39;00m x: \u001b[43mx\u001b[49m\u001b[38;5;241;43m.\u001b[39;49m\u001b[43myear\u001b[49m)\n\u001b[0;32m      2\u001b[0m ordens[\u001b[38;5;124m'\u001b[39m\u001b[38;5;124morder_purchase_month\u001b[39m\u001b[38;5;124m'\u001b[39m] \u001b[38;5;241m=\u001b[39m ordens[\u001b[38;5;124m'\u001b[39m\u001b[38;5;124morder_purchase_timestamp\u001b[39m\u001b[38;5;124m'\u001b[39m]\u001b[38;5;241m.\u001b[39mapply(\u001b[38;5;28;01mlambda\u001b[39;00m x: x\u001b[38;5;241m.\u001b[39mmonth)\n\u001b[0;32m      3\u001b[0m ordens[\u001b[38;5;124m'\u001b[39m\u001b[38;5;124morder_purchase_month_name\u001b[39m\u001b[38;5;124m'\u001b[39m] \u001b[38;5;241m=\u001b[39m ordens[\u001b[38;5;124m'\u001b[39m\u001b[38;5;124morder_purchase_timestamp\u001b[39m\u001b[38;5;124m'\u001b[39m]\u001b[38;5;241m.\u001b[39mapply(\u001b[38;5;28;01mlambda\u001b[39;00m x: x\u001b[38;5;241m.\u001b[39mstrftime(\u001b[38;5;124m'\u001b[39m\u001b[38;5;124m%\u001b[39m\u001b[38;5;124mb\u001b[39m\u001b[38;5;124m'\u001b[39m)\u001b[38;5;28;01mif\u001b[39;00m x\u001b[38;5;241m==\u001b[39mx \u001b[38;5;28;01melse\u001b[39;00m x )\n",
      "\u001b[1;31mAttributeError\u001b[0m: 'str' object has no attribute 'year'"
     ]
    }
   ],
   "source": [
    "ordens['order_purchase_year'] = ordens['order_purchase_timestamp'].apply(lambda x: x.year)\n",
    "ordens['order_purchase_month'] = ordens['order_purchase_timestamp'].apply(lambda x: x.month)\n",
    "ordens['order_purchase_month_name'] = ordens['order_purchase_timestamp'].apply(lambda x: x.strftime('%b')if x==x else x )\n",
    "ordens['order_purchase_year_month'] = ordens['order_purchase_timestamp'].apply(lambda x: x.strftime('%Y.%m')if x==x else x )\n",
    "ordens['order_purchase_date'] = ordens['order_purchase_timestamp'].apply(lambda x: x.strftime('%Y,%m,%d')if x==x else x )\n",
    "\n",
    "# GETTING VALUES FOR PURCHASE DAY, DAY OF WEEK, AND DAY NAME\n",
    "ordens['order_purchase_day'] = ordens['order_purchase_timestamp'].apply(lambda x: x.day)\n",
    "ordens['order_purchase_dayofweek'] = ordens['order_purchase_timestamp'].apply(lambda x: x.dayofweek)\n",
    "ordens['order_purchase_dayofweek_name'] = ordens['order_purchase_timestamp'].apply(lambda x: x.strftime('%a')if x==x else x )\n",
    "\n",
    "# GETTING VALUES FOR SPECIFIC TIME OF A DAY \n",
    "ordens['order_purchase_hour'] = ordens['order_purchase_timestamp'].apply(lambda x: x.hour)\n",
    "hours_bins = [-0.1, 6, 12, 18, 23]\n",
    "hours_labels = ['Early morning', 'Morning', 'Afternoon', 'Night']\n",
    "ordens['order_purchase_time_day'] = pd.cut(ordens['order_purchase_hour'], hours_bins, labels=hours_labels)\n",
    "ordens[:5]"
   ]
  },
  {
   "cell_type": "code",
   "execution_count": 37,
   "id": "d91cb652",
   "metadata": {
    "ExecuteTime": {
     "end_time": "2022-10-04T15:25:17.360465Z",
     "start_time": "2022-10-04T15:25:17.329482Z"
    }
   },
   "outputs": [
    {
     "data": {
      "text/plain": [
       "0        2017-10-02 10:56:33\n",
       "1        2018-07-24 20:41:37\n",
       "2        2018-08-08 08:38:49\n",
       "3        2017-11-18 19:28:06\n",
       "4        2018-02-13 21:18:39\n",
       "                ...         \n",
       "99436    2017-03-09 09:54:05\n",
       "99437    2018-02-06 12:58:58\n",
       "99438    2017-08-27 14:46:43\n",
       "99439    2018-01-08 21:28:27\n",
       "99440    2018-03-08 20:57:30\n",
       "Name: order_purchase_timestamp, Length: 99441, dtype: object"
      ]
     },
     "execution_count": 37,
     "metadata": {},
     "output_type": "execute_result"
    }
   ],
   "source": [
    "ordens['order_purchase_timestamp']"
   ]
  },
  {
   "cell_type": "code",
   "execution_count": 40,
   "id": "4a422fd2",
   "metadata": {
    "ExecuteTime": {
     "end_time": "2022-10-04T15:26:00.490354Z",
     "start_time": "2022-10-04T15:26:00.466369Z"
    }
   },
   "outputs": [
    {
     "data": {
      "text/plain": [
       "Index(['Unnamed: 0', 'order_id', 'customer_id', 'order_status',\n",
       "       'order_purchase_timestamp', 'order_approved_at',\n",
       "       'order_delivered_carrier_date', 'order_delivered_customer_date',\n",
       "       'order_estimated_delivery_date'],\n",
       "      dtype='object')"
      ]
     },
     "execution_count": 40,
     "metadata": {},
     "output_type": "execute_result"
    }
   ],
   "source": [
    "ordens.columns"
   ]
  },
  {
   "cell_type": "code",
   "execution_count": null,
   "id": "798d84ab",
   "metadata": {},
   "outputs": [],
   "source": [
    "order_delivered_customer_date_y\n"
   ]
  },
  {
   "cell_type": "code",
   "execution_count": null,
   "id": "89cd5e3e",
   "metadata": {},
   "outputs": [],
   "source": [
    "order_estimated_delivery_date_y\n"
   ]
  }
 ],
 "metadata": {
  "kernelspec": {
   "display_name": "pycaret",
   "language": "python",
   "name": "pycaret"
  },
  "language_info": {
   "codemirror_mode": {
    "name": "ipython",
    "version": 3
   },
   "file_extension": ".py",
   "mimetype": "text/x-python",
   "name": "python",
   "nbconvert_exporter": "python",
   "pygments_lexer": "ipython3",
   "version": "3.8.13"
  },
  "nbTranslate": {
   "displayLangs": [
    "*"
   ],
   "hotkey": "alt-t",
   "langInMainMenu": true,
   "sourceLang": "en",
   "targetLang": "fr",
   "useGoogleTranslate": true
  },
  "toc": {
   "base_numbering": 1,
   "nav_menu": {},
   "number_sections": true,
   "sideBar": true,
   "skip_h1_title": false,
   "title_cell": "Table of Contents",
   "title_sidebar": "Contents",
   "toc_cell": false,
   "toc_position": {},
   "toc_section_display": true,
   "toc_window_display": false
  },
  "varInspector": {
   "cols": {
    "lenName": 16,
    "lenType": 16,
    "lenVar": 40
   },
   "kernels_config": {
    "python": {
     "delete_cmd_postfix": "",
     "delete_cmd_prefix": "del ",
     "library": "var_list.py",
     "varRefreshCmd": "print(var_dic_list())"
    },
    "r": {
     "delete_cmd_postfix": ") ",
     "delete_cmd_prefix": "rm(",
     "library": "var_list.r",
     "varRefreshCmd": "cat(var_dic_list()) "
    }
   },
   "types_to_exclude": [
    "module",
    "function",
    "builtin_function_or_method",
    "instance",
    "_Feature"
   ],
   "window_display": false
  }
 },
 "nbformat": 4,
 "nbformat_minor": 5
}
