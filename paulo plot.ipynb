{
 "cells": [
  {
   "cell_type": "markdown",
   "id": "59d5a342",
   "metadata": {},
   "source": [
    "# Plotagem"
   ]
  },
  {
   "cell_type": "code",
   "execution_count": 1,
   "id": "87f81f9f",
   "metadata": {
    "ExecuteTime": {
     "end_time": "2022-10-07T12:26:07.070961Z",
     "start_time": "2022-10-07T12:25:31.831895Z"
    }
   },
   "outputs": [],
   "source": [
    "import pandas as pd\n",
    "import numpy as np\n",
    "import matplotlib.pyplot as plt\n",
    "import seaborn as sns"
   ]
  },
  {
   "cell_type": "code",
   "execution_count": 11,
   "id": "7956aefd",
   "metadata": {
    "ExecuteTime": {
     "end_time": "2022-10-07T13:31:53.492096Z",
     "start_time": "2022-10-07T13:31:53.431257Z"
    }
   },
   "outputs": [
    {
     "data": {
      "text/html": [
       "<div>\n",
       "<style scoped>\n",
       "    .dataframe tbody tr th:only-of-type {\n",
       "        vertical-align: middle;\n",
       "    }\n",
       "\n",
       "    .dataframe tbody tr th {\n",
       "        vertical-align: top;\n",
       "    }\n",
       "\n",
       "    .dataframe thead th {\n",
       "        text-align: right;\n",
       "    }\n",
       "</style>\n",
       "<table border=\"1\" class=\"dataframe\">\n",
       "  <thead>\n",
       "    <tr style=\"text-align: right;\">\n",
       "      <th></th>\n",
       "      <th>Unnamed: 0</th>\n",
       "      <th>seller_id</th>\n",
       "      <th>total_vendas</th>\n",
       "      <th>review_score</th>\n",
       "      <th>antecipacao_entrega</th>\n",
       "    </tr>\n",
       "  </thead>\n",
       "  <tbody>\n",
       "    <tr>\n",
       "      <th>0</th>\n",
       "      <td>0</td>\n",
       "      <td>6560211a19b47992c3666cc44a7e94c0</td>\n",
       "      <td>2020</td>\n",
       "      <td>5.0</td>\n",
       "      <td>11.0</td>\n",
       "    </tr>\n",
       "    <tr>\n",
       "      <th>1</th>\n",
       "      <td>1</td>\n",
       "      <td>4a3ca9315b744ce9f8e9374361493884</td>\n",
       "      <td>1984</td>\n",
       "      <td>4.0</td>\n",
       "      <td>10.0</td>\n",
       "    </tr>\n",
       "    <tr>\n",
       "      <th>2</th>\n",
       "      <td>2</td>\n",
       "      <td>1f50f920176fa81dab994f9023523100</td>\n",
       "      <td>1932</td>\n",
       "      <td>5.0</td>\n",
       "      <td>11.0</td>\n",
       "    </tr>\n",
       "    <tr>\n",
       "      <th>3</th>\n",
       "      <td>3</td>\n",
       "      <td>cc419e0650a3c5ba77189a1882b7556a</td>\n",
       "      <td>1811</td>\n",
       "      <td>5.0</td>\n",
       "      <td>12.0</td>\n",
       "    </tr>\n",
       "    <tr>\n",
       "      <th>4</th>\n",
       "      <td>4</td>\n",
       "      <td>da8622b14eb17ae2831f4ac5b9dab84a</td>\n",
       "      <td>1568</td>\n",
       "      <td>5.0</td>\n",
       "      <td>11.0</td>\n",
       "    </tr>\n",
       "    <tr>\n",
       "      <th>...</th>\n",
       "      <td>...</td>\n",
       "      <td>...</td>\n",
       "      <td>...</td>\n",
       "      <td>...</td>\n",
       "      <td>...</td>\n",
       "    </tr>\n",
       "    <tr>\n",
       "      <th>3085</th>\n",
       "      <td>3085</td>\n",
       "      <td>43753b27d77860f1654aa72e251a7878</td>\n",
       "      <td>1</td>\n",
       "      <td>5.0</td>\n",
       "      <td>0.0</td>\n",
       "    </tr>\n",
       "    <tr>\n",
       "      <th>3086</th>\n",
       "      <td>3086</td>\n",
       "      <td>5dc4bdaf869e8c77c648078cbe8d59c2</td>\n",
       "      <td>1</td>\n",
       "      <td>1.0</td>\n",
       "      <td>0.0</td>\n",
       "    </tr>\n",
       "    <tr>\n",
       "      <th>3087</th>\n",
       "      <td>3087</td>\n",
       "      <td>344223b2a90784f64136a8a5da012e7f</td>\n",
       "      <td>1</td>\n",
       "      <td>2.0</td>\n",
       "      <td>-1.0</td>\n",
       "    </tr>\n",
       "    <tr>\n",
       "      <th>3088</th>\n",
       "      <td>3088</td>\n",
       "      <td>28d162ab86bb49d719c32f0ee6186eaa</td>\n",
       "      <td>1</td>\n",
       "      <td>4.0</td>\n",
       "      <td>11.0</td>\n",
       "    </tr>\n",
       "    <tr>\n",
       "      <th>3089</th>\n",
       "      <td>3089</td>\n",
       "      <td>d3e7d37c0df9aef383f3f2a15b0dddfb</td>\n",
       "      <td>1</td>\n",
       "      <td>5.0</td>\n",
       "      <td>23.0</td>\n",
       "    </tr>\n",
       "  </tbody>\n",
       "</table>\n",
       "<p>3090 rows × 5 columns</p>\n",
       "</div>"
      ],
      "text/plain": [
       "      Unnamed: 0                         seller_id  total_vendas  \\\n",
       "0              0  6560211a19b47992c3666cc44a7e94c0          2020   \n",
       "1              1  4a3ca9315b744ce9f8e9374361493884          1984   \n",
       "2              2  1f50f920176fa81dab994f9023523100          1932   \n",
       "3              3  cc419e0650a3c5ba77189a1882b7556a          1811   \n",
       "4              4  da8622b14eb17ae2831f4ac5b9dab84a          1568   \n",
       "...          ...                               ...           ...   \n",
       "3085        3085  43753b27d77860f1654aa72e251a7878             1   \n",
       "3086        3086  5dc4bdaf869e8c77c648078cbe8d59c2             1   \n",
       "3087        3087  344223b2a90784f64136a8a5da012e7f             1   \n",
       "3088        3088  28d162ab86bb49d719c32f0ee6186eaa             1   \n",
       "3089        3089  d3e7d37c0df9aef383f3f2a15b0dddfb             1   \n",
       "\n",
       "      review_score  antecipacao_entrega  \n",
       "0              5.0                 11.0  \n",
       "1              4.0                 10.0  \n",
       "2              5.0                 11.0  \n",
       "3              5.0                 12.0  \n",
       "4              5.0                 11.0  \n",
       "...            ...                  ...  \n",
       "3085           5.0                  0.0  \n",
       "3086           1.0                  0.0  \n",
       "3087           2.0                 -1.0  \n",
       "3088           4.0                 11.0  \n",
       "3089           5.0                 23.0  \n",
       "\n",
       "[3090 rows x 5 columns]"
      ]
     },
     "execution_count": 11,
     "metadata": {},
     "output_type": "execute_result"
    }
   ],
   "source": [
    "df4=pd.read_csv('Data/df4.csv')\n",
    "df4"
   ]
  },
  {
   "cell_type": "code",
   "execution_count": 48,
   "id": "9a43f32f",
   "metadata": {
    "ExecuteTime": {
     "end_time": "2022-10-07T13:45:33.373046Z",
     "start_time": "2022-10-07T13:45:33.351067Z"
    }
   },
   "outputs": [
    {
     "data": {
      "text/plain": [
       "Unnamed: 0             1544\n",
       "seller_id              1544\n",
       "total_vendas           1544\n",
       "review_score           1544\n",
       "antecipacao_entrega    1544\n",
       "dtype: int64"
      ]
     },
     "execution_count": 48,
     "metadata": {},
     "output_type": "execute_result"
    }
   ],
   "source": [
    "df4.loc[df4['total_vendas']<8].count()"
   ]
  },
  {
   "cell_type": "code",
   "execution_count": 2,
   "id": "aa207032",
   "metadata": {
    "ExecuteTime": {
     "end_time": "2022-10-07T12:26:15.758178Z",
     "start_time": "2022-10-07T12:26:12.682326Z"
    }
   },
   "outputs": [],
   "source": [
    "df1=pd.read_csv('Data/df1.csv')"
   ]
  },
  {
   "cell_type": "code",
   "execution_count": 15,
   "id": "dae0a60d",
   "metadata": {
    "ExecuteTime": {
     "end_time": "2022-10-07T13:33:05.746816Z",
     "start_time": "2022-10-07T13:33:05.672015Z"
    }
   },
   "outputs": [],
   "source": [
    "df1=df1.merge(df4, left_on='seller_id', right_on='seller_id',how='left' )"
   ]
  },
  {
   "cell_type": "code",
   "execution_count": 19,
   "id": "adc6a75e",
   "metadata": {
    "ExecuteTime": {
     "end_time": "2022-10-07T13:35:01.391009Z",
     "start_time": "2022-10-07T13:35:01.367073Z"
    }
   },
   "outputs": [
    {
     "ename": "TypeError",
     "evalue": "'<' not supported between instances of 'DataFrameGroupBy' and 'int'",
     "output_type": "error",
     "traceback": [
      "\u001b[1;31m---------------------------------------------------------------------------\u001b[0m",
      "\u001b[1;31mTypeError\u001b[0m                                 Traceback (most recent call last)",
      "Input \u001b[1;32mIn [19]\u001b[0m, in \u001b[0;36m<cell line: 1>\u001b[1;34m()\u001b[0m\n\u001b[1;32m----> 1\u001b[0m \u001b[43mdf1\u001b[49m\u001b[38;5;241;43m.\u001b[39;49m\u001b[43mgroupby\u001b[49m\u001b[43m(\u001b[49m\u001b[38;5;124;43m'\u001b[39;49m\u001b[38;5;124;43mseller_id\u001b[39;49m\u001b[38;5;124;43m'\u001b[39;49m\u001b[43m,\u001b[49m\u001b[43mas_index\u001b[49m\u001b[38;5;241;43m=\u001b[39;49m\u001b[38;5;28;43;01mFalse\u001b[39;49;00m\u001b[43m \u001b[49m\u001b[43m)\u001b[49m\u001b[43m[\u001b[49m\u001b[38;5;124;43m'\u001b[39;49m\u001b[38;5;124;43mtotal_vendas\u001b[39;49m\u001b[38;5;124;43m'\u001b[39;49m\u001b[43m]\u001b[49m\u001b[38;5;241;43m<\u001b[39;49m\u001b[38;5;241;43m5\u001b[39;49m\n",
      "\u001b[1;31mTypeError\u001b[0m: '<' not supported between instances of 'DataFrameGroupBy' and 'int'"
     ]
    }
   ],
   "source": [
    "df1.groupby('seller_id',as_index=False )['total_vendas']<5"
   ]
  },
  {
   "cell_type": "code",
   "execution_count": 8,
   "id": "9f9de527",
   "metadata": {
    "ExecuteTime": {
     "end_time": "2022-10-07T13:15:39.330676Z",
     "start_time": "2022-10-07T13:15:35.423053Z"
    }
   },
   "outputs": [],
   "source": [
    "df1.to_csv('Data/df1.csv')"
   ]
  },
  {
   "cell_type": "code",
   "execution_count": 42,
   "id": "0346bf2f",
   "metadata": {
    "ExecuteTime": {
     "end_time": "2022-10-06T19:51:35.114838Z",
     "start_time": "2022-10-06T19:51:35.100876Z"
    },
    "run_control": {
     "marked": true
    }
   },
   "outputs": [],
   "source": [
    "df_plot=df1.drop(columns=['Unnamed: 0', 'seller_zip_code_prefix', 'seller_city', 'order_id', 'product_id', 'customer_id_x', 'order_approved_at_x', 'Unnamed: 0_y', 'customer_id_y', 'order_purchase_timestamp_y', 'order_approved_at_y', 'order_delivered_carrier_date_y', 'order_delivered_customer_date_y', 'order_estimated_delivery_date_y', 'review_creation_date', 'review_answer_timestamp' ])"
   ]
  },
  {
   "cell_type": "code",
   "execution_count": 51,
   "id": "ab7bee07",
   "metadata": {
    "ExecuteTime": {
     "end_time": "2022-10-06T19:57:43.521260Z",
     "start_time": "2022-10-06T19:57:43.478240Z"
    }
   },
   "outputs": [
    {
     "data": {
      "text/html": [
       "<div>\n",
       "<style scoped>\n",
       "    .dataframe tbody tr th:only-of-type {\n",
       "        vertical-align: middle;\n",
       "    }\n",
       "\n",
       "    .dataframe tbody tr th {\n",
       "        vertical-align: top;\n",
       "    }\n",
       "\n",
       "    .dataframe thead th {\n",
       "        text-align: right;\n",
       "    }\n",
       "</style>\n",
       "<table border=\"1\" class=\"dataframe\">\n",
       "  <thead>\n",
       "    <tr style=\"text-align: right;\">\n",
       "      <th></th>\n",
       "      <th>product_category_name</th>\n",
       "      <th>order_item_id</th>\n",
       "    </tr>\n",
       "  </thead>\n",
       "  <tbody>\n",
       "    <tr>\n",
       "      <th>0</th>\n",
       "      <td>agro_industria_e_comercio</td>\n",
       "      <td>265.0</td>\n",
       "    </tr>\n",
       "    <tr>\n",
       "      <th>1</th>\n",
       "      <td>alimentos</td>\n",
       "      <td>572.0</td>\n",
       "    </tr>\n",
       "    <tr>\n",
       "      <th>2</th>\n",
       "      <td>alimentos_bebidas</td>\n",
       "      <td>366.0</td>\n",
       "    </tr>\n",
       "    <tr>\n",
       "      <th>3</th>\n",
       "      <td>artes</td>\n",
       "      <td>228.0</td>\n",
       "    </tr>\n",
       "    <tr>\n",
       "      <th>4</th>\n",
       "      <td>artes_e_artesanato</td>\n",
       "      <td>26.0</td>\n",
       "    </tr>\n",
       "    <tr>\n",
       "      <th>...</th>\n",
       "      <td>...</td>\n",
       "      <td>...</td>\n",
       "    </tr>\n",
       "    <tr>\n",
       "      <th>68</th>\n",
       "      <td>sinalizacao_e_seguranca</td>\n",
       "      <td>305.0</td>\n",
       "    </tr>\n",
       "    <tr>\n",
       "      <th>69</th>\n",
       "      <td>tablets_impressao_imagem</td>\n",
       "      <td>87.0</td>\n",
       "    </tr>\n",
       "    <tr>\n",
       "      <th>70</th>\n",
       "      <td>telefonia</td>\n",
       "      <td>5131.0</td>\n",
       "    </tr>\n",
       "    <tr>\n",
       "      <th>71</th>\n",
       "      <td>telefonia_fixa</td>\n",
       "      <td>364.0</td>\n",
       "    </tr>\n",
       "    <tr>\n",
       "      <th>72</th>\n",
       "      <td>utilidades_domesticas</td>\n",
       "      <td>9027.0</td>\n",
       "    </tr>\n",
       "  </tbody>\n",
       "</table>\n",
       "<p>73 rows × 2 columns</p>\n",
       "</div>"
      ],
      "text/plain": [
       "        product_category_name  order_item_id\n",
       "0   agro_industria_e_comercio          265.0\n",
       "1                   alimentos          572.0\n",
       "2           alimentos_bebidas          366.0\n",
       "3                       artes          228.0\n",
       "4          artes_e_artesanato           26.0\n",
       "..                        ...            ...\n",
       "68    sinalizacao_e_seguranca          305.0\n",
       "69   tablets_impressao_imagem           87.0\n",
       "70                  telefonia         5131.0\n",
       "71             telefonia_fixa          364.0\n",
       "72      utilidades_domesticas         9027.0\n",
       "\n",
       "[73 rows x 2 columns]"
      ]
     },
     "execution_count": 51,
     "metadata": {},
     "output_type": "execute_result"
    }
   ],
   "source": [
    "df_plot(df_plot.groupby('product_category_name', as_index=False)['order_item_id'].sum()"
   ]
  },
  {
   "cell_type": "code",
   "execution_count": 52,
   "id": "af31b1ae",
   "metadata": {
    "ExecuteTime": {
     "end_time": "2022-10-06T20:41:22.307008Z",
     "start_time": "2022-10-06T20:41:20.806790Z"
    }
   },
   "outputs": [],
   "source": [
    "df_plot.to_csv('Data/df_plot.csv')"
   ]
  },
  {
   "cell_type": "code",
   "execution_count": 56,
   "id": "8e394eda",
   "metadata": {
    "ExecuteTime": {
     "end_time": "2022-10-06T21:49:50.609423Z",
     "start_time": "2022-10-06T21:49:50.590626Z"
    }
   },
   "outputs": [
    {
     "data": {
      "text/plain": [
       "SP    80153\n",
       "MG     8794\n",
       "PR     8687\n",
       "RJ     4790\n",
       "SC     4059\n",
       "RS     2188\n",
       "DF      900\n",
       "BA      643\n",
       "GO      518\n",
       "PE      445\n",
       "MA      399\n",
       "ES      367\n",
       "MT      145\n",
       "CE       94\n",
       "RN       56\n",
       "MS       49\n",
       "PB       37\n",
       "RO       14\n",
       "PI       12\n",
       "SE       10\n",
       "PA        8\n",
       "AM        3\n",
       "AC        1\n",
       "Name: seller_state, dtype: int64"
      ]
     },
     "execution_count": 56,
     "metadata": {},
     "output_type": "execute_result"
    }
   ],
   "source": [
    "df_plot['seller_state'].value_counts()"
   ]
  },
  {
   "cell_type": "code",
   "execution_count": null,
   "id": "da64b015",
   "metadata": {},
   "outputs": [],
   "source": []
  },
  {
   "cell_type": "code",
   "execution_count": null,
   "id": "3cb588e3",
   "metadata": {},
   "outputs": [],
   "source": []
  },
  {
   "cell_type": "code",
   "execution_count": null,
   "id": "9fcc3512",
   "metadata": {},
   "outputs": [],
   "source": []
  },
  {
   "cell_type": "code",
   "execution_count": null,
   "id": "4388a2e8",
   "metadata": {},
   "outputs": [],
   "source": []
  }
 ],
 "metadata": {
  "kernelspec": {
   "display_name": "Python 3 (ipykernel)",
   "language": "python",
   "name": "python3"
  },
  "language_info": {
   "codemirror_mode": {
    "name": "ipython",
    "version": 3
   },
   "file_extension": ".py",
   "mimetype": "text/x-python",
   "name": "python",
   "nbconvert_exporter": "python",
   "pygments_lexer": "ipython3",
   "version": "3.9.12"
  },
  "toc": {
   "base_numbering": 1,
   "nav_menu": {},
   "number_sections": true,
   "sideBar": true,
   "skip_h1_title": false,
   "title_cell": "Table of Contents",
   "title_sidebar": "Contents",
   "toc_cell": false,
   "toc_position": {},
   "toc_section_display": true,
   "toc_window_display": false
  },
  "varInspector": {
   "cols": {
    "lenName": 16,
    "lenType": 16,
    "lenVar": 40
   },
   "kernels_config": {
    "python": {
     "delete_cmd_postfix": "",
     "delete_cmd_prefix": "del ",
     "library": "var_list.py",
     "varRefreshCmd": "print(var_dic_list())"
    },
    "r": {
     "delete_cmd_postfix": ") ",
     "delete_cmd_prefix": "rm(",
     "library": "var_list.r",
     "varRefreshCmd": "cat(var_dic_list()) "
    }
   },
   "types_to_exclude": [
    "module",
    "function",
    "builtin_function_or_method",
    "instance",
    "_Feature"
   ],
   "window_display": false
  }
 },
 "nbformat": 4,
 "nbformat_minor": 5
}
